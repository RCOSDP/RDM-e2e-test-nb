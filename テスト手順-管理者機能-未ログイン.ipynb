{
 "cells": [
  {
   "cell_type": "code",
   "execution_count": null,
   "id": "e78fb631-9188-4203-9f73-ec7094382df5",
   "metadata": {
    "deletable": true,
    "editable": true,
    "lc_cell_meme": {
     "current": "c81f4e44-ec39-11ef-9c91-5af422c59f17-9-dd80-502c-9bfb-9d2f-749d-4d43-02f7-b149-48c3",
     "execution_end_time": "2025-02-16T07:51:35.540Z",
     "history": [
      {
       "current": "c81f4e44-ec39-11ef-9c91-5af422c59f17-1-dd80",
       "next": "089c6f7a-ec39-11ef-9c91-5af422c59f17-1-5e21",
       "previous": "99ec3cc2-ec38-11ef-9c91-5af422c59f17"
      },
      {
       "current": "c81f4e44-ec39-11ef-9c91-5af422c59f17-1-dd80",
       "next": "089c6f7a-ec39-11ef-9c91-5af422c59f17-1-5e21",
       "previous": "99ec3cc2-ec38-11ef-9c91-5af422c59f17"
      }
     ],
     "next": "99ec3cc2-ec38-11ef-9c91-5af422c59f17-7-45c1-682c-f7d0-d44f-ffe3-b196-f2de",
     "previous": "ee22d672-3a5b-11f0-8d62-b672e09b3688"
    },
    "pinnedOutputTabIndex": 0,
    "run_through_control": {
     "frozen": false,
     "read_only": false
    },
    "slideshow": {
     "slide_type": ""
    },
    "tags": [
     "parameters"
    ]
   },
   "outputs": [],
   "source": "from getpass import getpass\n\nadmin_rdm_url = 'https://admin.rdm.example.com/'\nidp_name_1 = 'GakuNin RDM IdP'\ndefault_result_path = None\nclose_on_fail = False"
  },
  {
   "cell_type": "markdown",
   "id": "45b1cb6b-1768-4758-9b8a-1cf7408f7c45",
   "metadata": {
    "deletable": true,
    "editable": true,
    "lc_cell_meme": {
     "current": "99ec3cc2-ec38-11ef-9c91-5af422c59f17-8-45c1-682c-f7d0-d44f-ffe3-b196-f2de-84c9",
     "history": [
      {
       "current": "99ec3cc2-ec38-11ef-9c91-5af422c59f17",
       "next": "089c6f7a-ec39-11ef-9c91-5af422c59f17-1-5e21",
       "previous": "c81f4e44-ec39-11ef-9c91-5af422c59f17-1-dd80"
      },
      {
       "current": "99ec3cc2-ec38-11ef-9c91-5af422c59f17",
       "next": "089c6f7a-ec39-11ef-9c91-5af422c59f17-1-5e21",
       "previous": "db6d9d9c-ec3a-11ef-9c91-5af422c59f17"
      },
      {
       "current": "99ec3cc2-ec38-11ef-9c91-5af422c59f17",
       "next": "089c6f7a-ec39-11ef-9c91-5af422c59f17-1-5e21",
       "previous": "c81f4e44-ec39-11ef-9c91-5af422c59f17-1-dd80"
      },
      {
       "current": "99ec3cc2-ec38-11ef-9c91-5af422c59f17",
       "next": "089c6f7a-ec39-11ef-9c91-5af422c59f17-1-5e21",
       "previous": "9316b6e8-ec3d-11ef-9c91-5af422c59f17"
      },
      {
       "current": "99ec3cc2-ec38-11ef-9c91-5af422c59f17-1-45c1",
       "next": "089c6f7a-ec39-11ef-9c91-5af422c59f17-1-5e21",
       "previous": "c81f4e44-ec39-11ef-9c91-5af422c59f17-1-dd80"
      },
      {
       "current": "99ec3cc2-ec38-11ef-9c91-5af422c59f17-1-45c1",
       "next": "089c6f7a-ec39-11ef-9c91-5af422c59f17-1-5e21",
       "previous": "c81f4e44-ec39-11ef-9c91-5af422c59f17-1-dd80"
      },
      {
       "current": "99ec3cc2-ec38-11ef-9c91-5af422c59f17-1-45c1",
       "next": "089c6f7a-ec39-11ef-9c91-5af422c59f17-2-5e21-aaf5",
       "previous": "c81f4e44-ec39-11ef-9c91-5af422c59f17-2-dd80-502c"
      },
      {
       "current": "99ec3cc2-ec38-11ef-9c91-5af422c59f17-3-45c1-682c-f7d0",
       "next": "089c6f7a-ec39-11ef-9c91-5af422c59f17-2-5e21-aaf5",
       "previous": "8a4ddeb8-ec71-11ef-9c91-5af422c59f17"
      },
      {
       "current": "99ec3cc2-ec38-11ef-9c91-5af422c59f17-4-45c1-682c-f7d0-d44f",
       "next": "089c6f7a-ec39-11ef-9c91-5af422c59f17-4-5e21-aaf5-0a90-4b38",
       "previous": "8a4ddeb8-ec71-11ef-9c91-5af422c59f17-2-1a86-2b97"
      },
      {
       "current": "99ec3cc2-ec38-11ef-9c91-5af422c59f17-5-45c1-682c-f7d0-d44f-ffe3",
       "next": "089c6f7a-ec39-11ef-9c91-5af422c59f17-5-5e21-aaf5-0a90-4b38-a7fe",
       "previous": "8a4ddeb8-ec71-11ef-9c91-5af422c59f17-3-1a86-2b97-4eb1"
      },
      {
       "current": "99ec3cc2-ec38-11ef-9c91-5af422c59f17-6-45c1-682c-f7d0-d44f-ffe3-b196",
       "next": "089c6f7a-ec39-11ef-9c91-5af422c59f17-6-5e21-aaf5-0a90-4b38-a7fe-2490",
       "previous": "8a4ddeb8-ec71-11ef-9c91-5af422c59f17-4-1a86-2b97-4eb1-14f2"
      },
      {
       "current": "99ec3cc2-ec38-11ef-9c91-5af422c59f17-7-45c1-682c-f7d0-d44f-ffe3-b196-f2de",
       "next": "089c6f7a-ec39-11ef-9c91-5af422c59f17-7-5e21-aaf5-0a90-4b38-a7fe-2490-6c1d",
       "previous": "c81f4e44-ec39-11ef-9c91-5af422c59f17-7-dd80-502c-9bfb-9d2f-749d-4d43-02f7"
      }
     ],
     "next": "089c6f7a-ec39-11ef-9c91-5af422c59f17-8-5e21-aaf5-0a90-4b38-a7fe-2490-6c1d-64af",
     "previous": "c81f4e44-ec39-11ef-9c91-5af422c59f17-8-dd80-502c-9bfb-9d2f-749d-4d43-02f7-b149"
    },
    "pinnedOutputTabIndex": 0,
    "run_through_control": {
     "frozen": false,
     "read_only": false
    },
    "slideshow": {
     "slide_type": ""
    },
    "tags": []
   },
   "source": [
    "# 定期監視-管理者-未ログイン\n",
    "\n",
    "- サブシステム名: 管理者\n",
    "- ページ/アドオン: 管理者\n",
    "- 機能分類: 未ログイン\n",
    "- シナリオ名: ログイン確認\n",
    "- 用意するテストデータ: URL一覧、アカウント(管理者ユーザー1: GRDM)\n"
   ]
  },
  {
   "cell_type": "markdown",
   "id": "5597ef8d-2074-4044-88d5-404790f37194",
   "metadata": {
    "deletable": true,
    "editable": true,
    "lc_cell_meme": {
     "current": "089c6f7a-ec39-11ef-9c91-5af422c59f17-9-5e21-aaf5-0a90-4b38-a7fe-2490-6c1d-64af-7c30",
     "history": [
      {
       "current": "089c6f7a-ec39-11ef-9c91-5af422c59f17-1-5e21",
       "next": "d8e0d05a-ec38-11ef-9c91-5af422c59f17-1-e596",
       "previous": "99ec3cc2-ec38-11ef-9c91-5af422c59f17"
      },
      {
       "current": "089c6f7a-ec39-11ef-9c91-5af422c59f17-1-5e21",
       "next": "29d0d7e4-ec39-11ef-9c91-5af422c59f17",
       "previous": "99ec3cc2-ec38-11ef-9c91-5af422c59f17"
      },
      {
       "current": "089c6f7a-ec39-11ef-9c91-5af422c59f17-1-5e21",
       "next": "8075a73c-ec39-11ef-9c91-5af422c59f17",
       "previous": "99ec3cc2-ec38-11ef-9c91-5af422c59f17"
      },
      {
       "current": "089c6f7a-ec39-11ef-9c91-5af422c59f17-1-5e21",
       "next": "8075a73c-ec39-11ef-9c91-5af422c59f17",
       "previous": "c81f4e44-ec39-11ef-9c91-5af422c59f17"
      },
      {
       "current": "089c6f7a-ec39-11ef-9c91-5af422c59f17-1-5e21",
       "next": "8075a73c-ec39-11ef-9c91-5af422c59f17",
       "previous": "c81f4e44-ec39-11ef-9c91-5af422c59f17"
      },
      {
       "current": "089c6f7a-ec39-11ef-9c91-5af422c59f17-2-5e21-aaf5",
       "next": "8075a73c-ec39-11ef-9c91-5af422c59f17",
       "previous": "99ec3cc2-ec38-11ef-9c91-5af422c59f17"
      },
      {
       "current": "089c6f7a-ec39-11ef-9c91-5af422c59f17-2-5e21-aaf5",
       "next": "8075a73c-ec39-11ef-9c91-5af422c59f17",
       "previous": "99ec3cc2-ec38-11ef-9c91-5af422c59f17"
      },
      {
       "current": "089c6f7a-ec39-11ef-9c91-5af422c59f17-4-5e21-aaf5-0a90-4b38",
       "next": "8075a73c-ec39-11ef-9c91-5af422c59f17-1-bb0f",
       "previous": "99ec3cc2-ec38-11ef-9c91-5af422c59f17-1-45c1"
      },
      {
       "current": "089c6f7a-ec39-11ef-9c91-5af422c59f17-5-5e21-aaf5-0a90-4b38-a7fe",
       "next": "8075a73c-ec39-11ef-9c91-5af422c59f17-3-bb0f-2f43-2629",
       "previous": "99ec3cc2-ec38-11ef-9c91-5af422c59f17-3-45c1-682c-f7d0"
      },
      {
       "current": "089c6f7a-ec39-11ef-9c91-5af422c59f17-6-5e21-aaf5-0a90-4b38-a7fe-2490",
       "next": "8075a73c-ec39-11ef-9c91-5af422c59f17-4-bb0f-2f43-2629-09e6",
       "previous": "99ec3cc2-ec38-11ef-9c91-5af422c59f17-4-45c1-682c-f7d0-d44f"
      },
      {
       "current": "089c6f7a-ec39-11ef-9c91-5af422c59f17-7-5e21-aaf5-0a90-4b38-a7fe-2490-6c1d",
       "next": "8075a73c-ec39-11ef-9c91-5af422c59f17-5-bb0f-2f43-2629-09e6-2250",
       "previous": "99ec3cc2-ec38-11ef-9c91-5af422c59f17-5-45c1-682c-f7d0-d44f-ffe3"
      },
      {
       "current": "089c6f7a-ec39-11ef-9c91-5af422c59f17-8-5e21-aaf5-0a90-4b38-a7fe-2490-6c1d-64af",
       "next": "8075a73c-ec39-11ef-9c91-5af422c59f17-6-bb0f-2f43-2629-09e6-2250-f8b8",
       "previous": "99ec3cc2-ec38-11ef-9c91-5af422c59f17-6-45c1-682c-f7d0-d44f-ffe3-b196"
      }
     ],
     "next": "8075a73c-ec39-11ef-9c91-5af422c59f17-7-bb0f-2f43-2629-09e6-2250-f8b8-222a",
     "previous": "99ec3cc2-ec38-11ef-9c91-5af422c59f17-7-45c1-682c-f7d0-d44f-ffe3-b196-f2de"
    },
    "pinnedOutputTabIndex": 0,
    "run_through_control": {
     "frozen": false,
     "read_only": false
    },
    "slideshow": {
     "slide_type": ""
    },
    "tags": []
   },
   "source": [
    "## GakuNin RDM管理者ページのURLを開く\n",
    "\n",
    "①ブラウザを開き、画面右上の設定メニューから「シークレットモードで開く」を選択する。  \n",
    "②新規画面が開かれ、画面上において、「シークレットモードです」と表示されていることを確認する。\n",
    "以下、シークレットモードにて確認を行う。\n",
    "\n",
    "③ブラウザを開き、下記URLにアクセスする。  \n",
    "https://rdm.nii.ac.jp/  "
   ]
  },
  {
   "cell_type": "code",
   "execution_count": 2,
   "id": "a96d7c5b-b085-4470-be21-c0573d4d60f2",
   "metadata": {
    "deletable": true,
    "lc_cell_meme": {
     "current": "8075a73c-ec39-11ef-9c91-5af422c59f17-8-bb0f-2f43-2629-09e6-2250-f8b8-222a-2296",
     "execution_end_time": "2025-02-16T07:42:23.347Z",
     "history": [
      {
       "current": "8075a73c-ec39-11ef-9c91-5af422c59f17-1-bb0f",
       "next": "29d0d7e4-ec39-11ef-9c91-5af422c59f17",
       "previous": "089c6f7a-ec39-11ef-9c91-5af422c59f17-1-5e21"
      },
      {
       "current": "8075a73c-ec39-11ef-9c91-5af422c59f17-1-bb0f",
       "next": "29d0d7e4-ec39-11ef-9c91-5af422c59f17",
       "previous": "089c6f7a-ec39-11ef-9c91-5af422c59f17-1-5e21"
      },
      {
       "current": "8075a73c-ec39-11ef-9c91-5af422c59f17-3-bb0f-2f43-2629",
       "next": "29d0d7e4-ec39-11ef-9c91-5af422c59f17-1-de29",
       "previous": "089c6f7a-ec39-11ef-9c91-5af422c59f17-2-5e21-aaf5"
      },
      {
       "current": "8075a73c-ec39-11ef-9c91-5af422c59f17-4-bb0f-2f43-2629-09e6",
       "next": "29d0d7e4-ec39-11ef-9c91-5af422c59f17-3-de29-9137-ac60",
       "previous": "089c6f7a-ec39-11ef-9c91-5af422c59f17-4-5e21-aaf5-0a90-4b38"
      },
      {
       "current": "8075a73c-ec39-11ef-9c91-5af422c59f17-5-bb0f-2f43-2629-09e6-2250",
       "next": "29d0d7e4-ec39-11ef-9c91-5af422c59f17-4-de29-9137-ac60-4b9a",
       "previous": "089c6f7a-ec39-11ef-9c91-5af422c59f17-5-5e21-aaf5-0a90-4b38-a7fe"
      },
      {
       "current": "8075a73c-ec39-11ef-9c91-5af422c59f17-6-bb0f-2f43-2629-09e6-2250-f8b8",
       "next": "29d0d7e4-ec39-11ef-9c91-5af422c59f17-5-de29-9137-ac60-4b9a-7b70",
       "previous": "089c6f7a-ec39-11ef-9c91-5af422c59f17-6-5e21-aaf5-0a90-4b38-a7fe-2490"
      },
      {
       "current": "8075a73c-ec39-11ef-9c91-5af422c59f17-7-bb0f-2f43-2629-09e6-2250-f8b8-222a",
       "next": "29d0d7e4-ec39-11ef-9c91-5af422c59f17-6-de29-9137-ac60-4b9a-7b70-3849",
       "previous": "089c6f7a-ec39-11ef-9c91-5af422c59f17-7-5e21-aaf5-0a90-4b38-a7fe-2490-6c1d"
      }
     ],
     "next": "29d0d7e4-ec39-11ef-9c91-5af422c59f17-7-de29-9137-ac60-4b9a-7b70-3849-b4c0",
     "previous": "089c6f7a-ec39-11ef-9c91-5af422c59f17-8-5e21-aaf5-0a90-4b38-a7fe-2490-6c1d-64af"
    },
    "pinnedOutputTabIndex": 0,
    "run_through_control": {
     "frozen": false,
     "read_only": false
    },
    "slideshow": {
     "slide_type": ""
    },
    "tags": []
   },
   "outputs": [
    {
     "data": {
      "text/plain": [
       "'/tmp/tmpct59fel0'"
      ]
     },
     "execution_count": 2,
     "metadata": {},
     "output_type": "execute_result"
    }
   ],
   "source": [
    "import tempfile\n",
    "\n",
    "work_dir = tempfile.mkdtemp()\n",
    "if default_result_path is None:\n",
    "    default_result_path = work_dir\n",
    "work_dir"
   ]
  },
  {
   "cell_type": "code",
   "execution_count": 3,
   "id": "38fc3886-f6ee-43a2-a79e-2805f0b01919",
   "metadata": {
    "deletable": true,
    "lc_cell_meme": {
     "current": "29d0d7e4-ec39-11ef-9c91-5af422c59f17-8-de29-9137-ac60-4b9a-7b70-3849-b4c0-5202",
     "execution_end_time": "2025-02-16T08:28:55.573Z",
     "history": [
      {
       "current": "29d0d7e4-ec39-11ef-9c91-5af422c59f17",
       "next": "d8e0d05a-ec38-11ef-9c91-5af422c59f17-1-e596",
       "previous": "089c6f7a-ec39-11ef-9c91-5af422c59f17-1-5e21"
      },
      {
       "current": "29d0d7e4-ec39-11ef-9c91-5af422c59f17",
       "next": "d8e0d05a-ec38-11ef-9c91-5af422c59f17-1-e596",
       "previous": "8075a73c-ec39-11ef-9c91-5af422c59f17"
      },
      {
       "current": "29d0d7e4-ec39-11ef-9c91-5af422c59f17-1-de29",
       "next": "9864a91a-ec39-11ef-9c91-5af422c59f17",
       "previous": "8075a73c-ec39-11ef-9c91-5af422c59f17"
      },
      {
       "current": "29d0d7e4-ec39-11ef-9c91-5af422c59f17-1-de29",
       "next": "9864a91a-ec39-11ef-9c91-5af422c59f17",
       "previous": "8075a73c-ec39-11ef-9c91-5af422c59f17"
      },
      {
       "current": "29d0d7e4-ec39-11ef-9c91-5af422c59f17-3-de29-9137-ac60",
       "next": "9864a91a-ec39-11ef-9c91-5af422c59f17-1-4e4a",
       "previous": "8075a73c-ec39-11ef-9c91-5af422c59f17-1-bb0f"
      },
      {
       "current": "29d0d7e4-ec39-11ef-9c91-5af422c59f17-4-de29-9137-ac60-4b9a",
       "next": "9864a91a-ec39-11ef-9c91-5af422c59f17-3-4e4a-7f3c-e3c0",
       "previous": "8075a73c-ec39-11ef-9c91-5af422c59f17-3-bb0f-2f43-2629"
      },
      {
       "current": "29d0d7e4-ec39-11ef-9c91-5af422c59f17-5-de29-9137-ac60-4b9a-7b70",
       "next": "9864a91a-ec39-11ef-9c91-5af422c59f17-4-4e4a-7f3c-e3c0-e030",
       "previous": "8075a73c-ec39-11ef-9c91-5af422c59f17-4-bb0f-2f43-2629-09e6"
      },
      {
       "current": "29d0d7e4-ec39-11ef-9c91-5af422c59f17-6-de29-9137-ac60-4b9a-7b70-3849",
       "next": "9864a91a-ec39-11ef-9c91-5af422c59f17-5-4e4a-7f3c-e3c0-e030-25e7",
       "previous": "8075a73c-ec39-11ef-9c91-5af422c59f17-5-bb0f-2f43-2629-09e6-2250"
      },
      {
       "current": "29d0d7e4-ec39-11ef-9c91-5af422c59f17-7-de29-9137-ac60-4b9a-7b70-3849-b4c0",
       "next": "9864a91a-ec39-11ef-9c91-5af422c59f17-6-4e4a-7f3c-e3c0-e030-25e7-020b",
       "previous": "8075a73c-ec39-11ef-9c91-5af422c59f17-6-bb0f-2f43-2629-09e6-2250-f8b8"
      }
     ],
     "next": "9864a91a-ec39-11ef-9c91-5af422c59f17-7-4e4a-7f3c-e3c0-e030-25e7-020b-c6ab",
     "previous": "8075a73c-ec39-11ef-9c91-5af422c59f17-7-bb0f-2f43-2629-09e6-2250-f8b8-222a"
    },
    "pinnedOutputTabIndex": 0,
    "run_through_control": {
     "frozen": false,
     "read_only": false
    },
    "slideshow": {
     "slide_type": ""
    },
    "tags": []
   },
   "outputs": [
    {
     "data": {
      "text/plain": [
       "('20250419-060049', '/tmp/tmpn7tnyxiq')"
      ]
     },
     "execution_count": 3,
     "metadata": {},
     "output_type": "execute_result"
    }
   ],
   "source": [
    "import importlib\n",
    "import pandas as pd\n",
    "\n",
    "import scripts.playwright\n",
    "importlib.reload(scripts.playwright)\n",
    "\n",
    "from scripts.playwright import *\n",
    "from scripts import grdm\n",
    "\n",
    "await init_pw_context(close_on_fail=close_on_fail, last_path=default_result_path)"
   ]
  },
  {
   "cell_type": "code",
   "execution_count": 6,
   "id": "cc7e082e-9818-4815-8d7e-848a960e5ad9",
   "metadata": {
    "deletable": true,
    "lc_cell_meme": {
     "current": "9864a91a-ec39-11ef-9c91-5af422c59f17-8-4e4a-7f3c-e3c0-e030-25e7-020b-c6ab-3c2e",
     "execution_end_time": "2025-02-16T08:28:58.156Z",
     "history": [
      {
       "current": "9864a91a-ec39-11ef-9c91-5af422c59f17",
       "next": "d8e0d05a-ec38-11ef-9c91-5af422c59f17-1-e596",
       "previous": "29d0d7e4-ec39-11ef-9c91-5af422c59f17"
      },
      {
       "current": "9864a91a-ec39-11ef-9c91-5af422c59f17",
       "next": "0006c576-ec3a-11ef-9c91-5af422c59f17",
       "previous": "29d0d7e4-ec39-11ef-9c91-5af422c59f17"
      },
      {
       "current": "9864a91a-ec39-11ef-9c91-5af422c59f17",
       "next": "0006c576-ec3a-11ef-9c91-5af422c59f17",
       "previous": "29d0d7e4-ec39-11ef-9c91-5af422c59f17"
      },
      {
       "current": "9864a91a-ec39-11ef-9c91-5af422c59f17-1-4e4a",
       "next": "0006c576-ec3a-11ef-9c91-5af422c59f17-1-74dd",
       "previous": "29d0d7e4-ec39-11ef-9c91-5af422c59f17"
      },
      {
       "current": "9864a91a-ec39-11ef-9c91-5af422c59f17-1-4e4a",
       "next": "0006c576-ec3a-11ef-9c91-5af422c59f17-1-74dd",
       "previous": "29d0d7e4-ec39-11ef-9c91-5af422c59f17"
      },
      {
       "current": "9864a91a-ec39-11ef-9c91-5af422c59f17-3-4e4a-7f3c-e3c0",
       "next": "0006c576-ec3a-11ef-9c91-5af422c59f17-2-74dd-a17e",
       "previous": "29d0d7e4-ec39-11ef-9c91-5af422c59f17-1-de29"
      },
      {
       "current": "9864a91a-ec39-11ef-9c91-5af422c59f17-4-4e4a-7f3c-e3c0-e030",
       "next": "0006c576-ec3a-11ef-9c91-5af422c59f17-4-74dd-a17e-70fe-2883",
       "previous": "29d0d7e4-ec39-11ef-9c91-5af422c59f17-3-de29-9137-ac60"
      },
      {
       "current": "9864a91a-ec39-11ef-9c91-5af422c59f17-5-4e4a-7f3c-e3c0-e030-25e7",
       "next": "0006c576-ec3a-11ef-9c91-5af422c59f17-5-74dd-a17e-70fe-2883-6ae6",
       "previous": "29d0d7e4-ec39-11ef-9c91-5af422c59f17-4-de29-9137-ac60-4b9a"
      },
      {
       "current": "9864a91a-ec39-11ef-9c91-5af422c59f17-6-4e4a-7f3c-e3c0-e030-25e7-020b",
       "next": "0006c576-ec3a-11ef-9c91-5af422c59f17-6-74dd-a17e-70fe-2883-6ae6-9fa4",
       "previous": "29d0d7e4-ec39-11ef-9c91-5af422c59f17-5-de29-9137-ac60-4b9a-7b70"
      },
      {
       "current": "9864a91a-ec39-11ef-9c91-5af422c59f17-7-4e4a-7f3c-e3c0-e030-25e7-020b-c6ab",
       "next": "0006c576-ec3a-11ef-9c91-5af422c59f17-7-74dd-a17e-70fe-2883-6ae6-9fa4-5450",
       "previous": "29d0d7e4-ec39-11ef-9c91-5af422c59f17-6-de29-9137-ac60-4b9a-7b70-3849"
      }
     ],
     "next": "0006c576-ec3a-11ef-9c91-5af422c59f17-8-74dd-a17e-70fe-2883-6ae6-9fa4-5450-1f7a",
     "previous": "29d0d7e4-ec39-11ef-9c91-5af422c59f17-7-de29-9137-ac60-4b9a-7b70-3849-b4c0"
    },
    "pinnedOutputTabIndex": 0,
    "run_through_control": {
     "frozen": false,
     "read_only": false
    },
    "scrolled": true,
    "slideshow": {
     "slide_type": ""
    },
    "tags": []
   },
   "outputs": [
    {
     "name": "stdout",
     "output_type": "stream",
     "text": [
      "Start epoch: 1745042745.3225222 seconds\n"
     ]
    },
    {
     "data": {
      "image/png": "[encoded data removed]",
      "text/plain": [
       "<IPython.core.display.Image object>"
      ]
     },
     "execution_count": 6,
     "metadata": {},
     "output_type": "execute_result"
    }
   ],
   "source": [
    "import asyncio\n",
    "import time\n",
    "\n",
    "async def _step(page):\n",
    "    await page.goto(admin_rdm_url)\n",
    "\n",
    "    await expect(page.locator('.login-logo')).to_be_visible(timeout=30000)\n",
    "    await asyncio.sleep(3)\n",
    "\n",
    "await run_pw(_step)"
   ]
  },
  {
   "attachments": {},
   "cell_type": "markdown",
   "id": "fe08b3df-1a3d-4836-b40d-270bdd9f3afb",
   "metadata": {
    "deletable": true,
    "editable": true,
    "lc_cell_meme": {
     "current": "0006c576-ec3a-11ef-9c91-5af422c59f17-9-74dd-a17e-70fe-2883-6ae6-9fa4-5450-1f7a-6e5f",
     "history": [
      {
       "current": "0006c576-ec3a-11ef-9c91-5af422c59f17-1-74dd",
       "next": "d8e0d05a-ec38-11ef-9c91-5af422c59f17-1-e596",
       "previous": "9864a91a-ec39-11ef-9c91-5af422c59f17"
      },
      {
       "current": "0006c576-ec3a-11ef-9c91-5af422c59f17-2-74dd-a17e",
       "next": "193f6390-ec3a-11ef-9c91-5af422c59f17",
       "previous": "9864a91a-ec39-11ef-9c91-5af422c59f17"
      },
      {
       "current": "0006c576-ec3a-11ef-9c91-5af422c59f17-2-74dd-a17e",
       "next": "193f6390-ec3a-11ef-9c91-5af422c59f17",
       "previous": "9864a91a-ec39-11ef-9c91-5af422c59f17"
      },
      {
       "current": "0006c576-ec3a-11ef-9c91-5af422c59f17-4-74dd-a17e-70fe-2883",
       "next": "193f6390-ec3a-11ef-9c91-5af422c59f17-1-2530",
       "previous": "9864a91a-ec39-11ef-9c91-5af422c59f17-1-4e4a"
      },
      {
       "current": "0006c576-ec3a-11ef-9c91-5af422c59f17-5-74dd-a17e-70fe-2883-6ae6",
       "next": "193f6390-ec3a-11ef-9c91-5af422c59f17-3-2530-9c54-1130",
       "previous": "9864a91a-ec39-11ef-9c91-5af422c59f17-3-4e4a-7f3c-e3c0"
      },
      {
       "current": "0006c576-ec3a-11ef-9c91-5af422c59f17-6-74dd-a17e-70fe-2883-6ae6-9fa4",
       "next": "193f6390-ec3a-11ef-9c91-5af422c59f17-4-2530-9c54-1130-087f",
       "previous": "9864a91a-ec39-11ef-9c91-5af422c59f17-4-4e4a-7f3c-e3c0-e030"
      },
      {
       "current": "0006c576-ec3a-11ef-9c91-5af422c59f17-7-74dd-a17e-70fe-2883-6ae6-9fa4-5450",
       "next": "193f6390-ec3a-11ef-9c91-5af422c59f17-5-2530-9c54-1130-087f-69fd",
       "previous": "9864a91a-ec39-11ef-9c91-5af422c59f17-5-4e4a-7f3c-e3c0-e030-25e7"
      },
      {
       "current": "0006c576-ec3a-11ef-9c91-5af422c59f17-8-74dd-a17e-70fe-2883-6ae6-9fa4-5450-1f7a",
       "next": "26a1edca-1ce4-11f0-bede-d2c904970d7c",
       "previous": "9864a91a-ec39-11ef-9c91-5af422c59f17-6-4e4a-7f3c-e3c0-e030-25e7-020b"
      }
     ],
     "next": "26a1edca-1ce4-11f0-bede-d2c904970d7c-1-4219",
     "previous": "9864a91a-ec39-11ef-9c91-5af422c59f17-7-4e4a-7f3c-e3c0-e030-25e7-020b-c6ab"
    },
    "pinnedOutputTabIndex": 0,
    "run_through_control": {
     "frozen": false,
     "read_only": false
    },
    "slideshow": {
     "slide_type": ""
    },
    "tags": []
   },
   "source": [
    "## 左上のRDMをクリックする\n",
    "\n"
   ]
  },
  {
   "cell_type": "code",
   "execution_count": 7,
   "id": "f87a357c-200d-44fc-bf01-ad60a0d8026c",
   "metadata": {
    "deletable": true,
    "lc_cell_meme": {
     "current": "26a1edca-1ce4-11f0-bede-d2c904970d7c-2-4219-916b",
     "execution_end_time": "2025-04-19T06:05:56.848Z",
     "history": [
      {
       "current": "26a1edca-1ce4-11f0-bede-d2c904970d7c",
       "next": "193f6390-ec3a-11ef-9c91-5af422c59f17-6-2530-9c54-1130-087f-69fd-b594",
       "previous": "0006c576-ec3a-11ef-9c91-5af422c59f17-7-74dd-a17e-70fe-2883-6ae6-9fa4-5450"
      },
      {
       "current": "26a1edca-1ce4-11f0-bede-d2c904970d7c",
       "next": "65c1662a-1ce4-11f0-bede-d2c904970d7c",
       "previous": "0006c576-ec3a-11ef-9c91-5af422c59f17-7-74dd-a17e-70fe-2883-6ae6-9fa4-5450"
      },
      {
       "current": "26a1edca-1ce4-11f0-bede-d2c904970d7c",
       "next": "65c1662a-1ce4-11f0-bede-d2c904970d7c",
       "previous": "0006c576-ec3a-11ef-9c91-5af422c59f17-7-74dd-a17e-70fe-2883-6ae6-9fa4-5450"
      },
      {
       "current": "26a1edca-1ce4-11f0-bede-d2c904970d7c-1-4219",
       "next": "65c1662a-1ce4-11f0-bede-d2c904970d7c-1-39c8",
       "previous": "0006c576-ec3a-11ef-9c91-5af422c59f17-7-74dd-a17e-70fe-2883-6ae6-9fa4-5450"
      }
     ],
     "next": "65c1662a-1ce4-11f0-bede-d2c904970d7c-2-39c8-5b02",
     "previous": "0006c576-ec3a-11ef-9c91-5af422c59f17-8-74dd-a17e-70fe-2883-6ae6-9fa4-5450-1f7a"
    },
    "pinnedOutputTabIndex": 0,
    "run_through_control": {
     "frozen": false,
     "read_only": false
    }
   },
   "outputs": [
    {
     "name": "stdout",
     "output_type": "stream",
     "text": [
      "Start epoch: 1745042753.1927967 seconds\n"
     ]
    },
    {
     "data": {
      "image/png": "[encoded data removed]",
      "text/plain": [
       "<IPython.core.display.Image object>"
      ]
     },
     "execution_count": 7,
     "metadata": {},
     "output_type": "execute_result"
    }
   ],
   "source": [
    "async def _step(page):\n",
    "    await page.locator('.logo-lg').click()\n",
    "\n",
    "    await expect(page.locator('.login-logo')).to_be_visible(timeout=30000)\n",
    "    await asyncio.sleep(3)\n",
    "\n",
    "await run_pw(_step)"
   ]
  },
  {
   "cell_type": "markdown",
   "id": "036e7368-a64d-4e01-a6e7-22ea16acbaff",
   "metadata": {
    "deletable": true,
    "editable": true,
    "lc_cell_meme": {
     "current": "65c1662a-1ce4-11f0-bede-d2c904970d7c-3-39c8-5b02-20c1",
     "history": [
      {
       "current": "65c1662a-1ce4-11f0-bede-d2c904970d7c-2-39c8-5b02",
       "next": "193f6390-ec3a-11ef-9c91-5af422c59f17-6-2530-9c54-1130-087f-69fd-b594",
       "previous": "26a1edca-1ce4-11f0-bede-d2c904970d7c"
      }
     ],
     "next": "193f6390-ec3a-11ef-9c91-5af422c59f17-7-2530-9c54-1130-087f-69fd-b594-d433",
     "previous": "26a1edca-1ce4-11f0-bede-d2c904970d7c-1-4219"
    },
    "pinnedOutputTabIndex": 0,
    "run_through_control": {
     "frozen": false,
     "read_only": false
    }
   },
   "source": [
    "## GakuNin Embeded DSのプルダウンを展開する"
   ]
  },
  {
   "cell_type": "code",
   "execution_count": 9,
   "id": "5d84fbe4-947c-4db3-8cb5-f1e9069abd5e",
   "metadata": {
    "deletable": true,
    "lc_cell_meme": {
     "current": "193f6390-ec3a-11ef-9c91-5af422c59f17-8-2530-9c54-1130-087f-69fd-b594-d433-88b0",
     "execution_end_time": "2025-02-16T08:29:00.613Z",
     "history": [
      {
       "current": "193f6390-ec3a-11ef-9c91-5af422c59f17",
       "next": "d8e0d05a-ec38-11ef-9c91-5af422c59f17-1-e596",
       "previous": "0006c576-ec3a-11ef-9c91-5af422c59f17-1-74dd"
      },
      {
       "current": "193f6390-ec3a-11ef-9c91-5af422c59f17",
       "next": "896ce3b2-ec3b-11ef-9c91-5af422c59f17",
       "previous": "0006c576-ec3a-11ef-9c91-5af422c59f17-1-74dd"
      },
      {
       "current": "193f6390-ec3a-11ef-9c91-5af422c59f17",
       "next": "896ce3b2-ec3b-11ef-9c91-5af422c59f17",
       "previous": "0006c576-ec3a-11ef-9c91-5af422c59f17-1-74dd"
      },
      {
       "current": "193f6390-ec3a-11ef-9c91-5af422c59f17-1-2530",
       "next": "896ce3b2-ec3b-11ef-9c91-5af422c59f17-1-a216",
       "previous": "0006c576-ec3a-11ef-9c91-5af422c59f17-1-74dd"
      },
      {
       "current": "193f6390-ec3a-11ef-9c91-5af422c59f17-1-2530",
       "next": "896ce3b2-ec3b-11ef-9c91-5af422c59f17-1-a216",
       "previous": "0006c576-ec3a-11ef-9c91-5af422c59f17-1-74dd"
      },
      {
       "current": "193f6390-ec3a-11ef-9c91-5af422c59f17-3-2530-9c54-1130",
       "next": "896ce3b2-ec3b-11ef-9c91-5af422c59f17-2-a216-7e0d",
       "previous": "0006c576-ec3a-11ef-9c91-5af422c59f17-2-74dd-a17e"
      },
      {
       "current": "193f6390-ec3a-11ef-9c91-5af422c59f17-4-2530-9c54-1130-087f",
       "next": "896ce3b2-ec3b-11ef-9c91-5af422c59f17-4-a216-7e0d-6023-c01b",
       "previous": "0006c576-ec3a-11ef-9c91-5af422c59f17-4-74dd-a17e-70fe-2883"
      },
      {
       "current": "193f6390-ec3a-11ef-9c91-5af422c59f17-5-2530-9c54-1130-087f-69fd",
       "next": "896ce3b2-ec3b-11ef-9c91-5af422c59f17-5-a216-7e0d-6023-c01b-a6fe",
       "previous": "0006c576-ec3a-11ef-9c91-5af422c59f17-5-74dd-a17e-70fe-2883-6ae6"
      },
      {
       "current": "193f6390-ec3a-11ef-9c91-5af422c59f17-6-2530-9c54-1130-087f-69fd-b594",
       "next": "896ce3b2-ec3b-11ef-9c91-5af422c59f17-6-a216-7e0d-6023-c01b-a6fe-a139",
       "previous": "0006c576-ec3a-11ef-9c91-5af422c59f17-6-74dd-a17e-70fe-2883-6ae6-9fa4"
      },
      {
       "current": "193f6390-ec3a-11ef-9c91-5af422c59f17-6-2530-9c54-1130-087f-69fd-b594",
       "next": "896ce3b2-ec3b-11ef-9c91-5af422c59f17-7-a216-7e0d-6023-c01b-a6fe-a139-773e",
       "previous": "26a1edca-1ce4-11f0-bede-d2c904970d7c"
      },
      {
       "current": "193f6390-ec3a-11ef-9c91-5af422c59f17-6-2530-9c54-1130-087f-69fd-b594",
       "next": "896ce3b2-ec3b-11ef-9c91-5af422c59f17-7-a216-7e0d-6023-c01b-a6fe-a139-773e",
       "previous": "65c1662a-1ce4-11f0-bede-d2c904970d7c"
      },
      {
       "current": "193f6390-ec3a-11ef-9c91-5af422c59f17-6-2530-9c54-1130-087f-69fd-b594",
       "next": "896ce3b2-ec3b-11ef-9c91-5af422c59f17-7-a216-7e0d-6023-c01b-a6fe-a139-773e",
       "previous": "65c1662a-1ce4-11f0-bede-d2c904970d7c"
      },
      {
       "current": "193f6390-ec3a-11ef-9c91-5af422c59f17-6-2530-9c54-1130-087f-69fd-b594",
       "next": "896ce3b2-ec3b-11ef-9c91-5af422c59f17-7-a216-7e0d-6023-c01b-a6fe-a139-773e",
       "previous": "65c1662a-1ce4-11f0-bede-d2c904970d7c-1-39c8"
      },
      {
       "current": "193f6390-ec3a-11ef-9c91-5af422c59f17-6-2530-9c54-1130-087f-69fd-b594",
       "next": "e9e65886-ec3b-11ef-9c91-5af422c59f17-6-72cc-0732-6582-1974-ecde-4767",
       "previous": "65c1662a-1ce4-11f0-bede-d2c904970d7c-1-39c8"
      },
      {
       "current": "193f6390-ec3a-11ef-9c91-5af422c59f17-6-2530-9c54-1130-087f-69fd-b594",
       "next": "a70a71e0-ec3c-11ef-9c91-5af422c59f17-7-ad5d-6644-cc84-1d17-0980-1327-1cca",
       "previous": "65c1662a-1ce4-11f0-bede-d2c904970d7c-1-39c8"
      },
      {
       "current": "193f6390-ec3a-11ef-9c91-5af422c59f17-6-2530-9c54-1130-087f-69fd-b594",
       "next": "f526a3cc-ec3b-11ef-9c91-5af422c59f17-6-9f1b-7023-2359-a868-1f4e-461f",
       "previous": "65c1662a-1ce4-11f0-bede-d2c904970d7c-1-39c8"
      },
      {
       "current": "193f6390-ec3a-11ef-9c91-5af422c59f17-6-2530-9c54-1130-087f-69fd-b594",
       "next": "ebed21d6-ec3c-11ef-9c91-5af422c59f17-7-c85d-9bac-68cd-296d-6e35-298a-ebb7",
       "previous": "65c1662a-1ce4-11f0-bede-d2c904970d7c-1-39c8"
      },
      {
       "current": "193f6390-ec3a-11ef-9c91-5af422c59f17-6-2530-9c54-1130-087f-69fd-b594",
       "next": "665baec4-ec3d-11ef-9c91-5af422c59f17-6-d5a6-e49c-2d01-379c-7f57-d0d5",
       "previous": "65c1662a-1ce4-11f0-bede-d2c904970d7c-1-39c8"
      },
      {
       "current": "193f6390-ec3a-11ef-9c91-5af422c59f17-6-2530-9c54-1130-087f-69fd-b594",
       "next": "ebed21d6-ec3c-11ef-9c91-5af422c59f17-9-c85d-9bac-68cd-296d-6e35-6918-4b6d-a2d1-0be3",
       "previous": "65c1662a-1ce4-11f0-bede-d2c904970d7c-1-39c8"
      },
      {
       "current": "193f6390-ec3a-11ef-9c91-5af422c59f17-6-2530-9c54-1130-087f-69fd-b594",
       "next": "665baec4-ec3d-11ef-9c91-5af422c59f17-8-d5a6-e49c-2d01-379c-0818-3bb5-1f52-1040",
       "previous": "65c1662a-1ce4-11f0-bede-d2c904970d7c-1-39c8"
      },
      {
       "current": "193f6390-ec3a-11ef-9c91-5af422c59f17-6-2530-9c54-1130-087f-69fd-b594",
       "next": "775339b0-ec54-11ef-9c91-5af422c59f17-6-a9a3-5726-2c4d-0ba8-df66-8d85",
       "previous": "65c1662a-1ce4-11f0-bede-d2c904970d7c-1-39c8"
      },
      {
       "current": "193f6390-ec3a-11ef-9c91-5af422c59f17-6-2530-9c54-1130-087f-69fd-b594",
       "next": "9e9d574e-ec54-11ef-9c91-5af422c59f17-5-56bc-64b5-7fb6-cc23-f359",
       "previous": "65c1662a-1ce4-11f0-bede-d2c904970d7c-1-39c8"
      },
      {
       "current": "193f6390-ec3a-11ef-9c91-5af422c59f17-7-2530-9c54-1130-087f-69fd-b594-d433",
       "next": "1bec4746-ec55-11ef-9c91-5af422c59f17-6-a276-688b-8173-6058-5bb8-1404",
       "previous": "65c1662a-1ce4-11f0-bede-d2c904970d7c-1-39c8"
      }
     ],
     "next": "1bec4746-ec55-11ef-9c91-5af422c59f17-7-a276-688b-8173-6058-5bb8-1404-de7e",
     "previous": "65c1662a-1ce4-11f0-bede-d2c904970d7c-2-39c8-5b02"
    },
    "pinnedOutputTabIndex": 0,
    "run_through_control": {
     "frozen": false,
     "read_only": false
    },
    "slideshow": {
     "slide_type": ""
    },
    "tags": []
   },
   "outputs": [
    {
     "name": "stdout",
     "output_type": "stream",
     "text": [
      "Start epoch: 1745042840.7061408 seconds\n"
     ]
    },
    {
     "data": {
      "image/png": "[encoded data removed]",
      "text/plain": [
       "<IPython.core.display.Image object>"
      ]
     },
     "execution_count": 9,
     "metadata": {},
     "output_type": "execute_result"
    }
   ],
   "source": [
    "async def _step(page):\n",
    "    await page.locator('#dropdown_img').click()\n",
    "\n",
    "    await asyncio.sleep(1)\n",
    "\n",
    "await run_pw(_step)"
   ]
  },
  {
   "cell_type": "markdown",
   "id": "23c0996b-b1e9-459f-9225-b818b2862de5",
   "metadata": {
    "deletable": true,
    "editable": true,
    "lc_cell_meme": {
     "current": "1bec4746-ec55-11ef-9c91-5af422c59f17-8-a276-688b-8173-6058-5bb8-1404-de7e-e842",
     "history": [
      {
       "current": "1bec4746-ec55-11ef-9c91-5af422c59f17-3-a276-688b-8173",
       "next": "1c0564b0-ec55-11ef-9c91-5af422c59f17",
       "previous": "728300be-ec54-11ef-9c91-5af422c59f17"
      },
      {
       "current": "1bec4746-ec55-11ef-9c91-5af422c59f17-4-a276-688b-8173-6058",
       "next": "1c0564b0-ec55-11ef-9c91-5af422c59f17-2-352b-5990",
       "previous": "728300be-ec54-11ef-9c91-5af422c59f17-2-3e33-98da"
      },
      {
       "current": "1bec4746-ec55-11ef-9c91-5af422c59f17-4-a276-688b-8173-6058",
       "next": "1c0564b0-ec55-11ef-9c91-5af422c59f17-3-352b-5990-9663",
       "previous": "728300be-ec54-11ef-9c91-5af422c59f17-3-3e33-98da-aa83"
      },
      {
       "current": "1bec4746-ec55-11ef-9c91-5af422c59f17-5-a276-688b-8173-6058-5bb8",
       "next": "1c0564b0-ec55-11ef-9c91-5af422c59f17-3-352b-5990-9663",
       "previous": "9e9d574e-ec54-11ef-9c91-5af422c59f17-3-56bc-64b5-7fb6"
      },
      {
       "current": "1bec4746-ec55-11ef-9c91-5af422c59f17-6-a276-688b-8173-6058-5bb8-1404",
       "next": "1c0564b0-ec55-11ef-9c91-5af422c59f17-4-352b-5990-9663-38d4",
       "previous": "9e9d574e-ec54-11ef-9c91-5af422c59f17-4-56bc-64b5-7fb6-cc23"
      },
      {
       "current": "1bec4746-ec55-11ef-9c91-5af422c59f17-6-a276-688b-8173-6058-5bb8-1404",
       "next": "1c0564b0-ec55-11ef-9c91-5af422c59f17-5-352b-5990-9663-38d4-6373",
       "previous": "9e9d574e-ec54-11ef-9c91-5af422c59f17-5-56bc-64b5-7fb6-cc23-f359"
      },
      {
       "current": "1bec4746-ec55-11ef-9c91-5af422c59f17-7-a276-688b-8173-6058-5bb8-1404-de7e",
       "next": "1c0564b0-ec55-11ef-9c91-5af422c59f17-5-352b-5990-9663-38d4-6373",
       "previous": "193f6390-ec3a-11ef-9c91-5af422c59f17-6-2530-9c54-1130-087f-69fd-b594"
      }
     ],
     "next": "1c0564b0-ec55-11ef-9c91-5af422c59f17-6-352b-5990-9663-38d4-6373-a8fc",
     "previous": "193f6390-ec3a-11ef-9c91-5af422c59f17-7-2530-9c54-1130-087f-69fd-b594-d433"
    },
    "pinnedOutputTabIndex": 0,
    "run_through_control": {
     "frozen": false,
     "read_only": false
    }
   },
   "source": [
    "終了処理を実施。"
   ]
  },
  {
   "cell_type": "code",
   "execution_count": 10,
   "id": "80edbb39-8a1e-4540-a922-bf064f73251d",
   "metadata": {
    "deletable": true,
    "lc_cell_meme": {
     "current": "1c0564b0-ec55-11ef-9c91-5af422c59f17-7-352b-5990-9663-38d4-6373-a8fc-e953",
     "history": [
      {
       "current": "1c0564b0-ec55-11ef-9c91-5af422c59f17-2-352b-5990",
       "next": "6c9f5ec8-ec71-11ef-9c91-5af422c59f17",
       "previous": "1bec4746-ec55-11ef-9c91-5af422c59f17-1-a276"
      },
      {
       "current": "1c0564b0-ec55-11ef-9c91-5af422c59f17-3-352b-5990-9663",
       "next": "6c9f5ec8-ec71-11ef-9c91-5af422c59f17-2-4f07-60a8",
       "previous": "1bec4746-ec55-11ef-9c91-5af422c59f17-3-a276-688b-8173"
      },
      {
       "current": "1c0564b0-ec55-11ef-9c91-5af422c59f17-4-352b-5990-9663-38d4",
       "next": "6c9f5ec8-ec71-11ef-9c91-5af422c59f17-3-4f07-60a8-16e4",
       "previous": "1bec4746-ec55-11ef-9c91-5af422c59f17-4-a276-688b-8173-6058"
      },
      {
       "current": "1c0564b0-ec55-11ef-9c91-5af422c59f17-5-352b-5990-9663-38d4-6373",
       "next": "6c9f5ec8-ec71-11ef-9c91-5af422c59f17-4-4f07-60a8-16e4-d13c",
       "previous": "1bec4746-ec55-11ef-9c91-5af422c59f17-5-a276-688b-8173-6058-5bb8"
      },
      {
       "current": "1c0564b0-ec55-11ef-9c91-5af422c59f17-6-352b-5990-9663-38d4-6373-a8fc",
       "next": "6c9f5ec8-ec71-11ef-9c91-5af422c59f17-5-4f07-60a8-16e4-d13c-9ce5",
       "previous": "1bec4746-ec55-11ef-9c91-5af422c59f17-6-a276-688b-8173-6058-5bb8-1404"
      }
     ],
     "next": "6c9f5ec8-ec71-11ef-9c91-5af422c59f17-6-4f07-60a8-16e4-d13c-9ce5-8db8",
     "previous": "1bec4746-ec55-11ef-9c91-5af422c59f17-7-a276-688b-8173-6058-5bb8-1404-de7e"
    },
    "pinnedOutputTabIndex": 0,
    "run_through_control": {
     "frozen": false,
     "read_only": false
    }
   },
   "outputs": [
    {
     "name": "stdout",
     "output_type": "stream",
     "text": [
      "Video: /tmp/tmpct59fel0/video-1.webm\n",
      "HAR: /tmp/tmpct59fel0/har.zip\n"
     ]
    }
   ],
   "source": [
    "await finish_pw_context()"
   ]
  },
  {
   "cell_type": "code",
   "execution_count": 11,
   "id": "7c50f5c0-e99e-43f6-9d79-ef6f767729c3",
   "metadata": {
    "deletable": true,
    "lc_cell_meme": {
     "current": "6c9f5ec8-ec71-11ef-9c91-5af422c59f17-7-4f07-60a8-16e4-d13c-9ce5-8db8-a91e",
     "history": [
      {
       "current": "6c9f5ec8-ec71-11ef-9c91-5af422c59f17-5-4f07-60a8-16e4-d13c-9ce5",
       "next": "7514148e-1ce3-11f0-bede-d2c904970d7c",
       "previous": "1c0564b0-ec55-11ef-9c91-5af422c59f17-4-352b-5990-9663-38d4"
      },
      {
       "current": "6c9f5ec8-ec71-11ef-9c91-5af422c59f17-6-4f07-60a8-16e4-d13c-9ce5-8db8",
       "next": "7514148e-1ce3-11f0-bede-d2c904970d7c-1-aaa5",
       "previous": "1c0564b0-ec55-11ef-9c91-5af422c59f17-5-352b-5990-9663-38d4-6373"
      }
     ],
     "next": "7514148e-1ce3-11f0-bede-d2c904970d7c-2-aaa5-ba7d",
     "previous": "1c0564b0-ec55-11ef-9c91-5af422c59f17-6-352b-5990-9663-38d4-6373-a8fc"
    },
    "pinnedOutputTabIndex": 0,
    "run_through_control": {
     "frozen": false,
     "read_only": false
    }
   },
   "outputs": [],
   "source": [
    "!rm -fr {work_dir}"
   ]
  },
  {
   "cell_type": "code",
   "execution_count": null,
   "id": "4342a226-80c8-452a-908c-d58906558bdf",
   "metadata": {
    "deletable": true,
    "editable": true,
    "lc_cell_meme": {
     "current": "7514148e-1ce3-11f0-bede-d2c904970d7c-3-aaa5-ba7d-5ac3",
     "previous": "6c9f5ec8-ec71-11ef-9c91-5af422c59f17-6-4f07-60a8-16e4-d13c-9ce5-8db8"
    },
    "run_through_control": {
     "frozen": false,
     "read_only": false
    }
   },
   "outputs": [],
   "source": []
  }
 ],
 "metadata": {
  "kernelspec": {
   "display_name": "Python 3",
   "language": "python",
   "name": "python3"
  },
  "language_info": {
   "file_extension": ".py",
   "mimetype": "text/x-python",
   "name": "python",
   "nbconvert_exporter": "python",
   "pygments_lexer": "ipython3",
   "version": "3.12.9"
  },
  "lc_notebook_meme": {
   "current": "99ec3952-ec38-11ef-9c91-5af422c59f17",
   "lc_server_signature": {
    "current": {
     "notebook_dir": "/home/jovyan",
     "notebook_path": "/テスト手順-管理者機能-未ログイン.ipynb",
     "signature_id": "1a2a1530-3284-11f0-89c3-c629d0b175e3"
    },
    "history": [
     {
      "notebook_dir": "/home/jovyan",
      "notebook_path": "/Untitled.ipynb",
      "signature_id": "55968546-ec38-11ef-9c91-5af422c59f17"
     },
     {
      "notebook_dir": "/home/jovyan",
      "notebook_path": "/定期監視-IdP対応.ipynb",
      "signature_id": "55968546-ec38-11ef-9c91-5af422c59f17"
     },
     {
      "notebook_dir": "/home/yazawa/notebooks",
      "notebook_path": "/8n4s6/osfstorage/定期監視-IdP対応.ipynb",
      "signature_id": "37ee49d0-ecb9-11ef-89d1-0242ac120002"
     },
     {
      "notebook_dir": "/home/yazawa/notebooks",
      "notebook_path": "/定期監視-IdP対応.ipynb",
      "signature_id": "37ee49d0-ecb9-11ef-89d1-0242ac120002"
     },
     {
      "notebook_dir": "/home/yazawa/notebooks",
      "notebook_path": "/定期監視-管理者-IdP対応.ipynb",
      "signature_id": "37ee49d0-ecb9-11ef-89d1-0242ac120002"
     },
     {
      "notebook_dir": "/home/jovyan",
      "notebook_path": "/テスト手順-管理者機能-ログイン.ipynb",
      "signature_id": "f120d4a8-1ca3-11f0-bede-d2c904970d7c"
     },
     {
      "notebook_dir": "/home/jovyan",
      "notebook_path": "/テスト手順-管理者機能-ログイン-Copy1.ipynb",
      "signature_id": "f120d4a8-1ca3-11f0-bede-d2c904970d7c"
     },
     {
      "notebook_dir": "/home/jovyan",
      "notebook_path": "/test-notebooks/テスト手順-管理者機能-未ログイン.ipynb",
      "signature_id": "1a2a1530-3284-11f0-89c3-c629d0b175e3"
     }
    ]
   }
  }
 },
 "nbformat": 4,
 "nbformat_minor": 5
}