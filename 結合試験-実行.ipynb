{
 "cells": [
  {
   "cell_type": "markdown",
   "id": "ebf58950-47d0-43ea-a1c2-28a3332b39dc",
   "metadata": {
    "deletable": true,
    "editable": true,
    "lc_cell_meme": {
     "current": "9cf22f32-ecdb-11ef-b381-0242ac120006-28-fdc4-fd50-a737-af3a-e705-3e52-fcf7-91a6-d4b4-e243",
     "history": [
      {
       "current": "9cf22f32-ecdb-11ef-b381-0242ac120006-1-71f4",
       "next": "24264e68-ecda-11ef-b381-0242ac120006-1-66b0",
       "previous": "25b124d0-ecd8-11ef-b381-0242ac120006-1-592e"
      },
      {
       "current": "9cf22f32-ecdb-11ef-b381-0242ac120006-1-71f4",
       "next": "24264e68-ecda-11ef-b381-0242ac120006-1-66b0",
       "previous": "25b124d0-ecd8-11ef-b381-0242ac120006-1-592e"
      }
     ],
     "next": "7f4bd3e4-f991-11ef-a92d-0242ac120006-24-96fc-9a3d-5b2c-bd92-624d-d3c9-e212-5cec-8332-c9a6"
    },
    "pinnedOutputTabIndex": 0,
    "run_through_control": {
     "frozen": false,
     "read_only": false
    },
    "slideshow": {
     "slide_type": ""
    },
    "tags": [
     "parameters"
    ]
   },
   "source": [
    "定期実行を行う。"
   ]
  },
  {
   "cell_type": "markdown",
   "id": "a4409a56-5627-48fe-8b28-555912888c2e",
   "metadata": {
    "deletable": true,
    "editable": true,
    "lc_cell_meme": {
     "current": "7f4bd3e4-f991-11ef-a92d-0242ac120006-24-96fc-9a3d-5b2c-bd92-624d-d3c9-e212-5cec-8332-c9a6",
     "history": [
      {
       "current": "7f4bd3e4-f991-11ef-a92d-0242ac120006-1-1aed",
       "next": "24264e68-ecda-11ef-b381-0242ac120006-5-66b0-5b8e-ae6b-6164-f809",
       "previous": "25b124d0-ecd8-11ef-b381-0242ac120006-5-592e-e65e-639f-d7b6-724d"
      },
      {
       "current": "7f4bd3e4-f991-11ef-a92d-0242ac120006-1-1aed",
       "next": "24264e68-ecda-11ef-b381-0242ac120006-5-66b0-5b8e-ae6b-6164-f809",
       "previous": "25b124d0-ecd8-11ef-b381-0242ac120006-5-592e-e65e-639f-d7b6-724d"
      },
      {
       "current": "7f4bd3e4-f991-11ef-a92d-0242ac120006-4-1aed-67f0-af08-f305",
       "next": "25b124d0-ecd8-11ef-b381-0242ac120006-5-592e-e65e-639f-d7b6-724d",
       "previous": "9cf22f32-ecdb-11ef-b381-0242ac120006-6-71f4-ec97-7beb-a852-6377-ec9d"
      },
      {
       "current": "7f4bd3e4-f991-11ef-a92d-0242ac120006-6-1aed-67f0-af08-f305-b97e-feea",
       "next": "25b124d0-ecd8-11ef-b381-0242ac120006-7-592e-e65e-639f-d7b6-724d-59b7-5af4",
       "previous": "9cf22f32-ecdb-11ef-b381-0242ac120006-8-71f4-ec97-7beb-a852-6377-ec9d-74c6-1b84"
      },
      {
       "current": "7f4bd3e4-f991-11ef-a92d-0242ac120006-6-1aed-67f0-af08-f305-b97e-feea",
       "next": "25b124d0-ecd8-11ef-b381-0242ac120006-7-592e-e65e-639f-d7b6-724d-59b7-5af4",
       "previous": "9cf22f32-ecdb-11ef-b381-0242ac120006-8-71f4-ec97-7beb-a852-6377-ec9d-74c6-1b84"
      },
      {
       "current": "7f4bd3e4-f991-11ef-a92d-0242ac120006-7-1aed-67f0-af08-f305-b97e-feea-8153",
       "next": "25b124d0-ecd8-11ef-b381-0242ac120006-9-592e-e65e-639f-d7b6-724d-59b7-5af4-97f9-e7cc",
       "previous": "9cf22f32-ecdb-11ef-b381-0242ac120006-10-71f4-ec97-7beb-a852-6377-ec9d-74c6-1b84-5268-e286"
      },
      {
       "current": "7f4bd3e4-f991-11ef-a92d-0242ac120006-8-1aed-67f0-af08-f305-b97e-feea-8153-60e6",
       "next": "25b124d0-ecd8-11ef-b381-0242ac120006-10-592e-e65e-639f-d7b6-724d-59b7-5af4-97f9-e7cc-4158",
       "previous": "9cf22f32-ecdb-11ef-b381-0242ac120006-11-ec97-7beb-a852-6377-ec9d-74c6-1b84-5268-e286-1364"
      },
      {
       "current": "7f4bd3e4-f991-11ef-a92d-0242ac120006-10-1aed-67f0-af08-f305-b97e-feea-8153-60e6-4879-017a",
       "next": "25b124d0-ecd8-11ef-b381-0242ac120006-11-e65e-639f-d7b6-724d-59b7-5af4-97f9-e7cc-4158-8543",
       "previous": "9cf22f32-ecdb-11ef-b381-0242ac120006-12-7beb-a852-6377-ec9d-74c6-1b84-5268-e286-1364-d448"
      },
      {
       "current": "7f4bd3e4-f991-11ef-a92d-0242ac120006-11-67f0-af08-f305-b97e-feea-8153-60e6-4879-017a-0a91",
       "next": "25b124d0-ecd8-11ef-b381-0242ac120006-13-d7b6-724d-59b7-5af4-97f9-e7cc-4158-8543-e920-d332",
       "previous": "9cf22f32-ecdb-11ef-b381-0242ac120006-14-6377-ec9d-74c6-1b84-5268-e286-1364-d448-786d-6730"
      },
      {
       "current": "7f4bd3e4-f991-11ef-a92d-0242ac120006-12-af08-f305-b97e-feea-8153-60e6-4879-017a-0a91-2cf3",
       "next": "25b124d0-ecd8-11ef-b381-0242ac120006-14-724d-59b7-5af4-97f9-e7cc-4158-8543-e920-d332-7521",
       "previous": "9cf22f32-ecdb-11ef-b381-0242ac120006-15-ec9d-74c6-1b84-5268-e286-1364-d448-786d-6730-798b"
      },
      {
       "current": "7f4bd3e4-f991-11ef-a92d-0242ac120006-13-f305-b97e-feea-8153-60e6-4879-017a-0a91-2cf3-e539",
       "next": "25b124d0-ecd8-11ef-b381-0242ac120006-15-59b7-5af4-97f9-e7cc-4158-8543-e920-d332-7521-082e",
       "previous": "9cf22f32-ecdb-11ef-b381-0242ac120006-16-74c6-1b84-5268-e286-1364-d448-786d-6730-798b-10cd"
      },
      {
       "current": "7f4bd3e4-f991-11ef-a92d-0242ac120006-15-feea-8153-60e6-4879-017a-0a91-2cf3-e539-485f-96fc",
       "next": "25b124d0-ecd8-11ef-b381-0242ac120006-16-5af4-97f9-e7cc-4158-8543-e920-d332-7521-082e-234b",
       "previous": "9cf22f32-ecdb-11ef-b381-0242ac120006-17-1b84-5268-e286-1364-d448-786d-6730-798b-10cd-afde"
      },
      {
       "current": "7f4bd3e4-f991-11ef-a92d-0242ac120006-17-60e6-4879-017a-0a91-2cf3-e539-485f-96fc-9a3d-5b2c",
       "next": "25b124d0-ecd8-11ef-b381-0242ac120006-18-e7cc-4158-8543-e920-d332-7521-082e-234b-515a-7a30",
       "previous": "9cf22f32-ecdb-11ef-b381-0242ac120006-19-e286-1364-d448-786d-6730-798b-10cd-afde-7fe6-fdc4"
      },
      {
       "current": "7f4bd3e4-f991-11ef-a92d-0242ac120006-18-4879-017a-0a91-2cf3-e539-485f-96fc-9a3d-5b2c-bd92",
       "next": "25b124d0-ecd8-11ef-b381-0242ac120006-20-8543-e920-d332-7521-082e-234b-515a-7a30-1e1a-2c4a",
       "previous": "9cf22f32-ecdb-11ef-b381-0242ac120006-21-d448-786d-6730-798b-10cd-afde-7fe6-fdc4-fd50-a737"
      },
      {
       "current": "7f4bd3e4-f991-11ef-a92d-0242ac120006-19-017a-0a91-2cf3-e539-485f-96fc-9a3d-5b2c-bd92-624d",
       "next": "25b124d0-ecd8-11ef-b381-0242ac120006-21-e920-d332-7521-082e-234b-515a-7a30-1e1a-2c4a-3d7d",
       "previous": "9cf22f32-ecdb-11ef-b381-0242ac120006-22-786d-6730-798b-10cd-afde-7fe6-fdc4-fd50-a737-af3a"
      },
      {
       "current": "7f4bd3e4-f991-11ef-a92d-0242ac120006-21-2cf3-e539-485f-96fc-9a3d-5b2c-bd92-624d-d3c9-e212",
       "next": "25b124d0-ecd8-11ef-b381-0242ac120006-22-d332-7521-082e-234b-515a-7a30-1e1a-2c4a-3d7d-37ce",
       "previous": "9cf22f32-ecdb-11ef-b381-0242ac120006-23-6730-798b-10cd-afde-7fe6-fdc4-fd50-a737-af3a-e705"
      },
      {
       "current": "7f4bd3e4-f991-11ef-a92d-0242ac120006-24-96fc-9a3d-5b2c-bd92-624d-d3c9-e212-5cec-8332-c9a6",
       "next": "25b124d0-ecd8-11ef-b381-0242ac120006-24-082e-234b-515a-7a30-1e1a-2c4a-3d7d-37ce-660c-5d72",
       "previous": "9cf22f32-ecdb-11ef-b381-0242ac120006-25-10cd-afde-7fe6-fdc4-fd50-a737-af3a-e705-3e52-fcf7"
      }
     ],
     "next": "25b124d0-ecd8-11ef-b381-0242ac120006-27-7a30-1e1a-2c4a-3d7d-37ce-660c-5d72-4d8c-8b1c-3b7c",
     "previous": "9cf22f32-ecdb-11ef-b381-0242ac120006-28-fdc4-fd50-a737-af3a-e705-3e52-fcf7-91a6-d4b4-e243"
    },
    "pinnedOutputTabIndex": 0,
    "run_through_control": {
     "frozen": false,
     "read_only": false
    }
   },
   "source": [
    "# 実行パラメータの調整"
   ]
  },
  {
   "cell_type": "code",
   "execution_count": 1,
   "id": "d50cebad-1933-4003-a605-f062d50c03eb",
   "metadata": {
    "deletable": false,
    "editable": false,
    "lc_cell_meme": {
     "current": "25b124d0-ecd8-11ef-b381-0242ac120006-27-7a30-1e1a-2c4a-3d7d-37ce-660c-5d72-4d8c-8b1c-3b7c",
     "execution_end_time": "2025-02-17T03:02:08.911Z",
     "history": [
      {
       "current": "25b124d0-ecd8-11ef-b381-0242ac120006-1-592e",
       "next": "0b6a3256-ecd8-11ef-b381-0242ac120006",
       "previous": "be13dbec-ecd7-11ef-b381-0242ac120006"
      },
      {
       "current": "25b124d0-ecd8-11ef-b381-0242ac120006-1-592e",
       "next": "0b6a3256-ecd8-11ef-b381-0242ac120006",
       "previous": "be13dbec-ecd7-11ef-b381-0242ac120006"
      },
      {
       "current": "25b124d0-ecd8-11ef-b381-0242ac120006-1-592e",
       "next": "24264e68-ecda-11ef-b381-0242ac120006-1-66b0",
       "previous": "9cf22f32-ecdb-11ef-b381-0242ac120006-1-71f4"
      },
      {
       "current": "25b124d0-ecd8-11ef-b381-0242ac120006-1-592e",
       "next": "24264e68-ecda-11ef-b381-0242ac120006-1-66b0",
       "previous": "9cf22f32-ecdb-11ef-b381-0242ac120006-1-71f4"
      },
      {
       "current": "25b124d0-ecd8-11ef-b381-0242ac120006-2-592e-e65e",
       "next": "24264e68-ecda-11ef-b381-0242ac120006-1-66b0",
       "previous": "9cf22f32-ecdb-11ef-b381-0242ac120006-2-71f4-ec97"
      },
      {
       "current": "25b124d0-ecd8-11ef-b381-0242ac120006-3-592e-e65e-639f",
       "next": "24264e68-ecda-11ef-b381-0242ac120006-2-66b0-5b8e",
       "previous": "9cf22f32-ecdb-11ef-b381-0242ac120006-3-71f4-ec97-7beb"
      },
      {
       "current": "25b124d0-ecd8-11ef-b381-0242ac120006-5-592e-e65e-639f-d7b6-724d",
       "next": "24264e68-ecda-11ef-b381-0242ac120006-3-66b0-5b8e-ae6b",
       "previous": "9cf22f32-ecdb-11ef-b381-0242ac120006-4-71f4-ec97-7beb-a852"
      },
      {
       "current": "25b124d0-ecd8-11ef-b381-0242ac120006-5-592e-e65e-639f-d7b6-724d",
       "next": "24264e68-ecda-11ef-b381-0242ac120006-5-66b0-5b8e-ae6b-6164-f809",
       "previous": "9cf22f32-ecdb-11ef-b381-0242ac120006-6-71f4-ec97-7beb-a852-6377-ec9d"
      },
      {
       "current": "25b124d0-ecd8-11ef-b381-0242ac120006-5-592e-e65e-639f-d7b6-724d",
       "next": "7f4bd3e4-f991-11ef-a92d-0242ac120006",
       "previous": "9cf22f32-ecdb-11ef-b381-0242ac120006-6-71f4-ec97-7beb-a852-6377-ec9d"
      },
      {
       "current": "25b124d0-ecd8-11ef-b381-0242ac120006-5-592e-e65e-639f-d7b6-724d",
       "next": "7f4bd3e4-f991-11ef-a92d-0242ac120006",
       "previous": "9cf22f32-ecdb-11ef-b381-0242ac120006-6-71f4-ec97-7beb-a852-6377-ec9d"
      },
      {
       "current": "25b124d0-ecd8-11ef-b381-0242ac120006-5-592e-e65e-639f-d7b6-724d",
       "next": "24264e68-ecda-11ef-b381-0242ac120006-5-66b0-5b8e-ae6b-6164-f809",
       "previous": "7f4bd3e4-f991-11ef-a92d-0242ac120006-1-1aed"
      },
      {
       "current": "25b124d0-ecd8-11ef-b381-0242ac120006-5-592e-e65e-639f-d7b6-724d",
       "next": "24264e68-ecda-11ef-b381-0242ac120006-5-66b0-5b8e-ae6b-6164-f809",
       "previous": "7f4bd3e4-f991-11ef-a92d-0242ac120006-1-1aed"
      },
      {
       "current": "25b124d0-ecd8-11ef-b381-0242ac120006-7-592e-e65e-639f-d7b6-724d-59b7-5af4",
       "next": "24264e68-ecda-11ef-b381-0242ac120006-5-66b0-5b8e-ae6b-6164-f809",
       "previous": "7f4bd3e4-f991-11ef-a92d-0242ac120006-2-1aed-67f0"
      },
      {
       "current": "25b124d0-ecd8-11ef-b381-0242ac120006-9-592e-e65e-639f-d7b6-724d-59b7-5af4-97f9-e7cc",
       "next": "24264e68-ecda-11ef-b381-0242ac120006-7-66b0-5b8e-ae6b-6164-f809-df2f-b223",
       "previous": "7f4bd3e4-f991-11ef-a92d-0242ac120006-4-1aed-67f0-af08-f305"
      },
      {
       "current": "25b124d0-ecd8-11ef-b381-0242ac120006-9-592e-e65e-639f-d7b6-724d-59b7-5af4-97f9-e7cc",
       "next": "24264e68-ecda-11ef-b381-0242ac120006-7-66b0-5b8e-ae6b-6164-f809-df2f-b223",
       "previous": "7f4bd3e4-f991-11ef-a92d-0242ac120006-4-1aed-67f0-af08-f305"
      },
      {
       "current": "25b124d0-ecd8-11ef-b381-0242ac120006-10-592e-e65e-639f-d7b6-724d-59b7-5af4-97f9-e7cc-4158",
       "next": "24264e68-ecda-11ef-b381-0242ac120006-9-66b0-5b8e-ae6b-6164-f809-df2f-b223-6376-cc54",
       "previous": "7f4bd3e4-f991-11ef-a92d-0242ac120006-6-1aed-67f0-af08-f305-b97e-feea"
      },
      {
       "current": "25b124d0-ecd8-11ef-b381-0242ac120006-11-e65e-639f-d7b6-724d-59b7-5af4-97f9-e7cc-4158-8543",
       "next": "24264e68-ecda-11ef-b381-0242ac120006-10-66b0-5b8e-ae6b-6164-f809-df2f-b223-6376-cc54-a05f",
       "previous": "7f4bd3e4-f991-11ef-a92d-0242ac120006-7-1aed-67f0-af08-f305-b97e-feea-8153"
      },
      {
       "current": "25b124d0-ecd8-11ef-b381-0242ac120006-13-d7b6-724d-59b7-5af4-97f9-e7cc-4158-8543-e920-d332",
       "next": "24264e68-ecda-11ef-b381-0242ac120006-11-5b8e-ae6b-6164-f809-df2f-b223-6376-cc54-a05f-042b",
       "previous": "7f4bd3e4-f991-11ef-a92d-0242ac120006-8-1aed-67f0-af08-f305-b97e-feea-8153-60e6"
      },
      {
       "current": "25b124d0-ecd8-11ef-b381-0242ac120006-14-724d-59b7-5af4-97f9-e7cc-4158-8543-e920-d332-7521",
       "next": "24264e68-ecda-11ef-b381-0242ac120006-13-6164-f809-df2f-b223-6376-cc54-a05f-042b-cbeb-bb29",
       "previous": "7f4bd3e4-f991-11ef-a92d-0242ac120006-10-1aed-67f0-af08-f305-b97e-feea-8153-60e6-4879-017a"
      },
      {
       "current": "25b124d0-ecd8-11ef-b381-0242ac120006-15-59b7-5af4-97f9-e7cc-4158-8543-e920-d332-7521-082e",
       "next": "24264e68-ecda-11ef-b381-0242ac120006-14-f809-df2f-b223-6376-cc54-a05f-042b-cbeb-bb29-763c",
       "previous": "7f4bd3e4-f991-11ef-a92d-0242ac120006-11-67f0-af08-f305-b97e-feea-8153-60e6-4879-017a-0a91"
      },
      {
       "current": "25b124d0-ecd8-11ef-b381-0242ac120006-16-5af4-97f9-e7cc-4158-8543-e920-d332-7521-082e-234b",
       "next": "24264e68-ecda-11ef-b381-0242ac120006-15-df2f-b223-6376-cc54-a05f-042b-cbeb-bb29-763c-9201",
       "previous": "7f4bd3e4-f991-11ef-a92d-0242ac120006-12-af08-f305-b97e-feea-8153-60e6-4879-017a-0a91-2cf3"
      },
      {
       "current": "25b124d0-ecd8-11ef-b381-0242ac120006-18-e7cc-4158-8543-e920-d332-7521-082e-234b-515a-7a30",
       "next": "24264e68-ecda-11ef-b381-0242ac120006-16-b223-6376-cc54-a05f-042b-cbeb-bb29-763c-9201-276e",
       "previous": "7f4bd3e4-f991-11ef-a92d-0242ac120006-13-f305-b97e-feea-8153-60e6-4879-017a-0a91-2cf3-e539"
      },
      {
       "current": "25b124d0-ecd8-11ef-b381-0242ac120006-20-8543-e920-d332-7521-082e-234b-515a-7a30-1e1a-2c4a",
       "next": "24264e68-ecda-11ef-b381-0242ac120006-18-cc54-a05f-042b-cbeb-bb29-763c-9201-276e-e152-8ca5",
       "previous": "7f4bd3e4-f991-11ef-a92d-0242ac120006-15-feea-8153-60e6-4879-017a-0a91-2cf3-e539-485f-96fc"
      },
      {
       "current": "25b124d0-ecd8-11ef-b381-0242ac120006-21-e920-d332-7521-082e-234b-515a-7a30-1e1a-2c4a-3d7d",
       "next": "24264e68-ecda-11ef-b381-0242ac120006-20-042b-cbeb-bb29-763c-9201-276e-e152-8ca5-ff29-35a1",
       "previous": "7f4bd3e4-f991-11ef-a92d-0242ac120006-17-60e6-4879-017a-0a91-2cf3-e539-485f-96fc-9a3d-5b2c"
      },
      {
       "current": "25b124d0-ecd8-11ef-b381-0242ac120006-22-d332-7521-082e-234b-515a-7a30-1e1a-2c4a-3d7d-37ce",
       "next": "24264e68-ecda-11ef-b381-0242ac120006-21-cbeb-bb29-763c-9201-276e-e152-8ca5-ff29-35a1-d86c",
       "previous": "7f4bd3e4-f991-11ef-a92d-0242ac120006-18-4879-017a-0a91-2cf3-e539-485f-96fc-9a3d-5b2c-bd92"
      },
      {
       "current": "25b124d0-ecd8-11ef-b381-0242ac120006-24-082e-234b-515a-7a30-1e1a-2c4a-3d7d-37ce-660c-5d72",
       "next": "24264e68-ecda-11ef-b381-0242ac120006-22-bb29-763c-9201-276e-e152-8ca5-ff29-35a1-d86c-b68e",
       "previous": "7f4bd3e4-f991-11ef-a92d-0242ac120006-19-017a-0a91-2cf3-e539-485f-96fc-9a3d-5b2c-bd92-624d"
      },
      {
       "current": "25b124d0-ecd8-11ef-b381-0242ac120006-27-7a30-1e1a-2c4a-3d7d-37ce-660c-5d72-4d8c-8b1c-3b7c",
       "next": "24264e68-ecda-11ef-b381-0242ac120006-24-9201-276e-e152-8ca5-ff29-35a1-d86c-b68e-774a-6480",
       "previous": "7f4bd3e4-f991-11ef-a92d-0242ac120006-21-2cf3-e539-485f-96fc-9a3d-5b2c-bd92-624d-d3c9-e212"
      }
     ],
     "next": "24264e68-ecda-11ef-b381-0242ac120006-27-8ca5-ff29-35a1-d86c-b68e-774a-6480-07c2-bbda-4d02",
     "previous": "7f4bd3e4-f991-11ef-a92d-0242ac120006-24-96fc-9a3d-5b2c-bd92-624d-d3c9-e212-5cec-8332-c9a6"
    },
    "pinnedOutputTabIndex": 0,
    "run_through_control": {
     "frozen": true,
     "read_only": false
    },
    "slideshow": {
     "slide_type": ""
    },
    "tags": [
     "parameters"
    ]
   },
   "outputs": [
    {
     "data": {
      "text/plain": [
       "('.config.yaml', None)"
      ]
     },
     "execution_count": 1,
     "metadata": {},
     "output_type": "execute_result"
    }
   ],
   "source": [
    "config_path = '.config.yaml'\n",
    "default_result_path = None\n",
    "log_path = './result'\n",
    "(config_path, default_result_path)"
   ]
  },
  {
   "cell_type": "markdown",
   "id": "0179e2a0-d93e-4530-8706-7e65f43fbcdf",
   "metadata": {
    "deletable": true,
    "editable": true,
    "lc_cell_meme": {
     "current": "24264e68-ecda-11ef-b381-0242ac120006-27-8ca5-ff29-35a1-d86c-b68e-774a-6480-07c2-bbda-4d02",
     "history": [
      {
       "current": "24264e68-ecda-11ef-b381-0242ac120006-1-66b0",
       "next": "be13dbec-ecd7-11ef-b381-0242ac120006",
       "previous": "25b124d0-ecd8-11ef-b381-0242ac120006-1-592e"
      },
      {
       "current": "24264e68-ecda-11ef-b381-0242ac120006-1-66b0",
       "next": "be13dbec-ecd7-11ef-b381-0242ac120006",
       "previous": "9cf22f32-ecdb-11ef-b381-0242ac120006"
      },
      {
       "current": "24264e68-ecda-11ef-b381-0242ac120006-1-66b0",
       "next": "be13dbec-ecd7-11ef-b381-0242ac120006",
       "previous": "9cf22f32-ecdb-11ef-b381-0242ac120006"
      },
      {
       "current": "24264e68-ecda-11ef-b381-0242ac120006-2-66b0-5b8e",
       "next": "be13dbec-ecd7-11ef-b381-0242ac120006",
       "previous": "25b124d0-ecd8-11ef-b381-0242ac120006-1-592e"
      },
      {
       "current": "24264e68-ecda-11ef-b381-0242ac120006-3-66b0-5b8e-ae6b",
       "next": "be13dbec-ecd7-11ef-b381-0242ac120006-1-620e",
       "previous": "25b124d0-ecd8-11ef-b381-0242ac120006-2-592e-e65e"
      },
      {
       "current": "24264e68-ecda-11ef-b381-0242ac120006-5-66b0-5b8e-ae6b-6164-f809",
       "next": "be13dbec-ecd7-11ef-b381-0242ac120006-2-620e-a152",
       "previous": "25b124d0-ecd8-11ef-b381-0242ac120006-3-592e-e65e-639f"
      },
      {
       "current": "24264e68-ecda-11ef-b381-0242ac120006-5-66b0-5b8e-ae6b-6164-f809",
       "next": "be13dbec-ecd7-11ef-b381-0242ac120006-4-620e-a152-f573-98ba",
       "previous": "25b124d0-ecd8-11ef-b381-0242ac120006-5-592e-e65e-639f-d7b6-724d"
      },
      {
       "current": "24264e68-ecda-11ef-b381-0242ac120006-5-66b0-5b8e-ae6b-6164-f809",
       "next": "be13dbec-ecd7-11ef-b381-0242ac120006-4-620e-a152-f573-98ba",
       "previous": "7f4bd3e4-f991-11ef-a92d-0242ac120006"
      },
      {
       "current": "24264e68-ecda-11ef-b381-0242ac120006-5-66b0-5b8e-ae6b-6164-f809",
       "next": "be13dbec-ecd7-11ef-b381-0242ac120006-4-620e-a152-f573-98ba",
       "previous": "7f4bd3e4-f991-11ef-a92d-0242ac120006"
      },
      {
       "current": "24264e68-ecda-11ef-b381-0242ac120006-7-66b0-5b8e-ae6b-6164-f809-df2f-b223",
       "next": "be13dbec-ecd7-11ef-b381-0242ac120006-4-620e-a152-f573-98ba",
       "previous": "25b124d0-ecd8-11ef-b381-0242ac120006-5-592e-e65e-639f-d7b6-724d"
      },
      {
       "current": "24264e68-ecda-11ef-b381-0242ac120006-9-66b0-5b8e-ae6b-6164-f809-df2f-b223-6376-cc54",
       "next": "be13dbec-ecd7-11ef-b381-0242ac120006-6-620e-a152-f573-98ba-5506-ead5",
       "previous": "25b124d0-ecd8-11ef-b381-0242ac120006-7-592e-e65e-639f-d7b6-724d-59b7-5af4"
      },
      {
       "current": "24264e68-ecda-11ef-b381-0242ac120006-9-66b0-5b8e-ae6b-6164-f809-df2f-b223-6376-cc54",
       "next": "be13dbec-ecd7-11ef-b381-0242ac120006-6-620e-a152-f573-98ba-5506-ead5",
       "previous": "25b124d0-ecd8-11ef-b381-0242ac120006-7-592e-e65e-639f-d7b6-724d-59b7-5af4"
      },
      {
       "current": "24264e68-ecda-11ef-b381-0242ac120006-10-66b0-5b8e-ae6b-6164-f809-df2f-b223-6376-cc54-a05f",
       "next": "be13dbec-ecd7-11ef-b381-0242ac120006-8-620e-a152-f573-98ba-5506-ead5-1364-8997",
       "previous": "25b124d0-ecd8-11ef-b381-0242ac120006-9-592e-e65e-639f-d7b6-724d-59b7-5af4-97f9-e7cc"
      },
      {
       "current": "24264e68-ecda-11ef-b381-0242ac120006-11-5b8e-ae6b-6164-f809-df2f-b223-6376-cc54-a05f-042b",
       "next": "be13dbec-ecd7-11ef-b381-0242ac120006-9-620e-a152-f573-98ba-5506-ead5-1364-8997-17f3",
       "previous": "25b124d0-ecd8-11ef-b381-0242ac120006-10-592e-e65e-639f-d7b6-724d-59b7-5af4-97f9-e7cc-4158"
      },
      {
       "current": "24264e68-ecda-11ef-b381-0242ac120006-13-6164-f809-df2f-b223-6376-cc54-a05f-042b-cbeb-bb29",
       "next": "be13dbec-ecd7-11ef-b381-0242ac120006-10-620e-a152-f573-98ba-5506-ead5-1364-8997-17f3-a189",
       "previous": "25b124d0-ecd8-11ef-b381-0242ac120006-11-e65e-639f-d7b6-724d-59b7-5af4-97f9-e7cc-4158-8543"
      },
      {
       "current": "24264e68-ecda-11ef-b381-0242ac120006-14-f809-df2f-b223-6376-cc54-a05f-042b-cbeb-bb29-763c",
       "next": "be13dbec-ecd7-11ef-b381-0242ac120006-12-f573-98ba-5506-ead5-1364-8997-17f3-a189-c892-97cb",
       "previous": "25b124d0-ecd8-11ef-b381-0242ac120006-13-d7b6-724d-59b7-5af4-97f9-e7cc-4158-8543-e920-d332"
      },
      {
       "current": "24264e68-ecda-11ef-b381-0242ac120006-15-df2f-b223-6376-cc54-a05f-042b-cbeb-bb29-763c-9201",
       "next": "be13dbec-ecd7-11ef-b381-0242ac120006-13-98ba-5506-ead5-1364-8997-17f3-a189-c892-97cb-4c86",
       "previous": "25b124d0-ecd8-11ef-b381-0242ac120006-14-724d-59b7-5af4-97f9-e7cc-4158-8543-e920-d332-7521"
      },
      {
       "current": "24264e68-ecda-11ef-b381-0242ac120006-16-b223-6376-cc54-a05f-042b-cbeb-bb29-763c-9201-276e",
       "next": "be13dbec-ecd7-11ef-b381-0242ac120006-14-5506-ead5-1364-8997-17f3-a189-c892-97cb-4c86-9b01",
       "previous": "25b124d0-ecd8-11ef-b381-0242ac120006-15-59b7-5af4-97f9-e7cc-4158-8543-e920-d332-7521-082e"
      },
      {
       "current": "24264e68-ecda-11ef-b381-0242ac120006-18-cc54-a05f-042b-cbeb-bb29-763c-9201-276e-e152-8ca5",
       "next": "be13dbec-ecd7-11ef-b381-0242ac120006-15-ead5-1364-8997-17f3-a189-c892-97cb-4c86-9b01-013d",
       "previous": "25b124d0-ecd8-11ef-b381-0242ac120006-16-5af4-97f9-e7cc-4158-8543-e920-d332-7521-082e-234b"
      },
      {
       "current": "24264e68-ecda-11ef-b381-0242ac120006-20-042b-cbeb-bb29-763c-9201-276e-e152-8ca5-ff29-35a1",
       "next": "be13dbec-ecd7-11ef-b381-0242ac120006-17-8997-17f3-a189-c892-97cb-4c86-9b01-013d-44d9-1893",
       "previous": "25b124d0-ecd8-11ef-b381-0242ac120006-18-e7cc-4158-8543-e920-d332-7521-082e-234b-515a-7a30"
      },
      {
       "current": "24264e68-ecda-11ef-b381-0242ac120006-21-cbeb-bb29-763c-9201-276e-e152-8ca5-ff29-35a1-d86c",
       "next": "be13dbec-ecd7-11ef-b381-0242ac120006-19-a189-c892-97cb-4c86-9b01-013d-44d9-1893-da65-b06d",
       "previous": "25b124d0-ecd8-11ef-b381-0242ac120006-20-8543-e920-d332-7521-082e-234b-515a-7a30-1e1a-2c4a"
      },
      {
       "current": "24264e68-ecda-11ef-b381-0242ac120006-22-bb29-763c-9201-276e-e152-8ca5-ff29-35a1-d86c-b68e",
       "next": "be13dbec-ecd7-11ef-b381-0242ac120006-20-c892-97cb-4c86-9b01-013d-44d9-1893-da65-b06d-1da3",
       "previous": "25b124d0-ecd8-11ef-b381-0242ac120006-21-e920-d332-7521-082e-234b-515a-7a30-1e1a-2c4a-3d7d"
      },
      {
       "current": "24264e68-ecda-11ef-b381-0242ac120006-24-9201-276e-e152-8ca5-ff29-35a1-d86c-b68e-774a-6480",
       "next": "be13dbec-ecd7-11ef-b381-0242ac120006-21-97cb-4c86-9b01-013d-44d9-1893-da65-b06d-1da3-3c30",
       "previous": "25b124d0-ecd8-11ef-b381-0242ac120006-22-d332-7521-082e-234b-515a-7a30-1e1a-2c4a-3d7d-37ce"
      },
      {
       "current": "24264e68-ecda-11ef-b381-0242ac120006-27-8ca5-ff29-35a1-d86c-b68e-774a-6480-07c2-bbda-4d02",
       "next": "be13dbec-ecd7-11ef-b381-0242ac120006-23-9b01-013d-44d9-1893-da65-b06d-1da3-3c30-c762-be13",
       "previous": "25b124d0-ecd8-11ef-b381-0242ac120006-24-082e-234b-515a-7a30-1e1a-2c4a-3d7d-37ce-660c-5d72"
      }
     ],
     "next": "be13dbec-ecd7-11ef-b381-0242ac120006-26-1893-da65-b06d-1da3-3c30-c762-be13-e234-9183-9c47",
     "previous": "25b124d0-ecd8-11ef-b381-0242ac120006-27-7a30-1e1a-2c4a-3d7d-37ce-660c-5d72-4d8c-8b1c-3b7c"
    },
    "pinnedOutputTabIndex": 0,
    "run_through_control": {
     "frozen": false,
     "read_only": false
    },
    "slideshow": {
     "slide_type": ""
    },
    "tags": []
   },
   "source": [
    "設定のデフォルト値"
   ]
  },
  {
   "cell_type": "code",
   "execution_count": 2,
   "id": "2314a45b-7883-4036-8b42-5fea3ee9e5d0",
   "metadata": {
    "deletable": false,
    "editable": false,
    "lc_cell_meme": {
     "current": "be13dbec-ecd7-11ef-b381-0242ac120006-26-1893-da65-b06d-1da3-3c30-c762-be13-e234-9183-9c47",
     "history": [
      {
       "current": "be13dbec-ecd7-11ef-b381-0242ac120006",
       "next": "0b6a3256-ecd8-11ef-b381-0242ac120006",
       "previous": "25b124d0-ecd8-11ef-b381-0242ac120006-1-592e"
      },
      {
       "current": "be13dbec-ecd7-11ef-b381-0242ac120006",
       "next": "0b6a3256-ecd8-11ef-b381-0242ac120006",
       "previous": "24264e68-ecda-11ef-b381-0242ac120006"
      },
      {
       "current": "be13dbec-ecd7-11ef-b381-0242ac120006",
       "next": "0b6a3256-ecd8-11ef-b381-0242ac120006",
       "previous": "24264e68-ecda-11ef-b381-0242ac120006"
      },
      {
       "current": "be13dbec-ecd7-11ef-b381-0242ac120006-1-620e",
       "next": "0b6a3256-ecd8-11ef-b381-0242ac120006",
       "previous": "24264e68-ecda-11ef-b381-0242ac120006-1-66b0"
      },
      {
       "current": "be13dbec-ecd7-11ef-b381-0242ac120006-1-620e",
       "next": "0b6a3256-ecd8-11ef-b381-0242ac120006-1-e8a9",
       "previous": "24264e68-ecda-11ef-b381-0242ac120006-2-66b0-5b8e"
      },
      {
       "current": "be13dbec-ecd7-11ef-b381-0242ac120006-1-620e",
       "next": "ea686914-ecec-11ef-a157-0242ac120006",
       "previous": "24264e68-ecda-11ef-b381-0242ac120006-2-66b0-5b8e"
      },
      {
       "current": "be13dbec-ecd7-11ef-b381-0242ac120006-2-620e-a152",
       "next": "0b6a3256-ecd8-11ef-b381-0242ac120006-1-e8a9",
       "previous": "24264e68-ecda-11ef-b381-0242ac120006-2-66b0-5b8e"
      },
      {
       "current": "be13dbec-ecd7-11ef-b381-0242ac120006-4-620e-a152-f573-98ba",
       "next": "0b6a3256-ecd8-11ef-b381-0242ac120006-2-e8a9-82a5",
       "previous": "24264e68-ecda-11ef-b381-0242ac120006-3-66b0-5b8e-ae6b"
      },
      {
       "current": "be13dbec-ecd7-11ef-b381-0242ac120006-6-620e-a152-f573-98ba-5506-ead5",
       "next": "0b6a3256-ecd8-11ef-b381-0242ac120006-4-e8a9-82a5-f396-4fdc",
       "previous": "24264e68-ecda-11ef-b381-0242ac120006-5-66b0-5b8e-ae6b-6164-f809"
      },
      {
       "current": "be13dbec-ecd7-11ef-b381-0242ac120006-8-620e-a152-f573-98ba-5506-ead5-1364-8997",
       "next": "0b6a3256-ecd8-11ef-b381-0242ac120006-6-e8a9-82a5-f396-4fdc-b40b-6e5b",
       "previous": "24264e68-ecda-11ef-b381-0242ac120006-7-66b0-5b8e-ae6b-6164-f809-df2f-b223"
      },
      {
       "current": "be13dbec-ecd7-11ef-b381-0242ac120006-8-620e-a152-f573-98ba-5506-ead5-1364-8997",
       "next": "0b6a3256-ecd8-11ef-b381-0242ac120006-6-e8a9-82a5-f396-4fdc-b40b-6e5b",
       "previous": "24264e68-ecda-11ef-b381-0242ac120006-7-66b0-5b8e-ae6b-6164-f809-df2f-b223"
      },
      {
       "current": "be13dbec-ecd7-11ef-b381-0242ac120006-8-620e-a152-f573-98ba-5506-ead5-1364-8997",
       "next": "0b6a3256-ecd8-11ef-b381-0242ac120006-9-e8a9-82a5-f396-4fdc-b40b-6e5b-4212-13e9-6152",
       "previous": "24264e68-ecda-11ef-b381-0242ac120006-9-66b0-5b8e-ae6b-6164-f809-df2f-b223-6376-cc54"
      },
      {
       "current": "be13dbec-ecd7-11ef-b381-0242ac120006-8-620e-a152-f573-98ba-5506-ead5-1364-8997",
       "next": "0b6a3256-ecd8-11ef-b381-0242ac120006-9-e8a9-82a5-f396-4fdc-b40b-6e5b-4212-13e9-6152",
       "previous": "24264e68-ecda-11ef-b381-0242ac120006-9-66b0-5b8e-ae6b-6164-f809-df2f-b223-6376-cc54"
      },
      {
       "current": "be13dbec-ecd7-11ef-b381-0242ac120006-9-620e-a152-f573-98ba-5506-ead5-1364-8997-17f3",
       "next": "0b6a3256-ecd8-11ef-b381-0242ac120006-10-e8a9-82a5-f396-4fdc-b40b-6e5b-4212-13e9-6152-8383",
       "previous": "24264e68-ecda-11ef-b381-0242ac120006-9-66b0-5b8e-ae6b-6164-f809-df2f-b223-6376-cc54"
      },
      {
       "current": "be13dbec-ecd7-11ef-b381-0242ac120006-10-620e-a152-f573-98ba-5506-ead5-1364-8997-17f3-a189",
       "next": "0b6a3256-ecd8-11ef-b381-0242ac120006-11-82a5-f396-4fdc-b40b-6e5b-4212-13e9-6152-8383-4702",
       "previous": "24264e68-ecda-11ef-b381-0242ac120006-10-66b0-5b8e-ae6b-6164-f809-df2f-b223-6376-cc54-a05f"
      },
      {
       "current": "be13dbec-ecd7-11ef-b381-0242ac120006-12-f573-98ba-5506-ead5-1364-8997-17f3-a189-c892-97cb",
       "next": "0b6a3256-ecd8-11ef-b381-0242ac120006-12-f396-4fdc-b40b-6e5b-4212-13e9-6152-8383-4702-91d2",
       "previous": "24264e68-ecda-11ef-b381-0242ac120006-11-5b8e-ae6b-6164-f809-df2f-b223-6376-cc54-a05f-042b"
      },
      {
       "current": "be13dbec-ecd7-11ef-b381-0242ac120006-12-f573-98ba-5506-ead5-1364-8997-17f3-a189-c892-97cb",
       "next": "0b6a3256-ecd8-11ef-b381-0242ac120006-14-b40b-6e5b-4212-13e9-6152-8383-4702-91d2-bdd3-2a5d",
       "previous": "24264e68-ecda-11ef-b381-0242ac120006-13-6164-f809-df2f-b223-6376-cc54-a05f-042b-cbeb-bb29"
      },
      {
       "current": "be13dbec-ecd7-11ef-b381-0242ac120006-12-f573-98ba-5506-ead5-1364-8997-17f3-a189-c892-97cb",
       "next": "3791fff2-1114-11f0-acfe-1231102d67ae",
       "previous": "24264e68-ecda-11ef-b381-0242ac120006-13-6164-f809-df2f-b223-6376-cc54-a05f-042b-cbeb-bb29"
      },
      {
       "current": "be13dbec-ecd7-11ef-b381-0242ac120006-12-f573-98ba-5506-ead5-1364-8997-17f3-a189-c892-97cb",
       "next": "0b6a3256-ecd8-11ef-b381-0242ac120006-14-b40b-6e5b-4212-13e9-6152-8383-4702-91d2-bdd3-2a5d",
       "previous": "24264e68-ecda-11ef-b381-0242ac120006-13-6164-f809-df2f-b223-6376-cc54-a05f-042b-cbeb-bb29"
      },
      {
       "current": "be13dbec-ecd7-11ef-b381-0242ac120006-12-f573-98ba-5506-ead5-1364-8997-17f3-a189-c892-97cb",
       "next": "a42e7b22-1119-11f0-acfe-1231102d67ae",
       "previous": "24264e68-ecda-11ef-b381-0242ac120006-13-6164-f809-df2f-b223-6376-cc54-a05f-042b-cbeb-bb29"
      },
      {
       "current": "be13dbec-ecd7-11ef-b381-0242ac120006-12-f573-98ba-5506-ead5-1364-8997-17f3-a189-c892-97cb",
       "next": "0b6a3256-ecd8-11ef-b381-0242ac120006-14-b40b-6e5b-4212-13e9-6152-8383-4702-91d2-bdd3-2a5d",
       "previous": "24264e68-ecda-11ef-b381-0242ac120006-13-6164-f809-df2f-b223-6376-cc54-a05f-042b-cbeb-bb29"
      },
      {
       "current": "be13dbec-ecd7-11ef-b381-0242ac120006-12-f573-98ba-5506-ead5-1364-8997-17f3-a189-c892-97cb",
       "next": "290d17f8-111b-11f0-acfe-1231102d67ae",
       "previous": "24264e68-ecda-11ef-b381-0242ac120006-13-6164-f809-df2f-b223-6376-cc54-a05f-042b-cbeb-bb29"
      },
      {
       "current": "be13dbec-ecd7-11ef-b381-0242ac120006-12-f573-98ba-5506-ead5-1364-8997-17f3-a189-c892-97cb",
       "next": "0b6a3256-ecd8-11ef-b381-0242ac120006-14-b40b-6e5b-4212-13e9-6152-8383-4702-91d2-bdd3-2a5d",
       "previous": "24264e68-ecda-11ef-b381-0242ac120006-13-6164-f809-df2f-b223-6376-cc54-a05f-042b-cbeb-bb29"
      },
      {
       "current": "be13dbec-ecd7-11ef-b381-0242ac120006-12-f573-98ba-5506-ead5-1364-8997-17f3-a189-c892-97cb",
       "next": "b6cf53f2-111c-11f0-acfe-1231102d67ae",
       "previous": "24264e68-ecda-11ef-b381-0242ac120006-13-6164-f809-df2f-b223-6376-cc54-a05f-042b-cbeb-bb29"
      },
      {
       "current": "be13dbec-ecd7-11ef-b381-0242ac120006-13-98ba-5506-ead5-1364-8997-17f3-a189-c892-97cb-4c86",
       "next": "0b6a3256-ecd8-11ef-b381-0242ac120006-14-b40b-6e5b-4212-13e9-6152-8383-4702-91d2-bdd3-2a5d",
       "previous": "24264e68-ecda-11ef-b381-0242ac120006-13-6164-f809-df2f-b223-6376-cc54-a05f-042b-cbeb-bb29"
      },
      {
       "current": "be13dbec-ecd7-11ef-b381-0242ac120006-14-5506-ead5-1364-8997-17f3-a189-c892-97cb-4c86-9b01",
       "next": "0b6a3256-ecd8-11ef-b381-0242ac120006-15-6e5b-4212-13e9-6152-8383-4702-91d2-bdd3-2a5d-2a26",
       "previous": "24264e68-ecda-11ef-b381-0242ac120006-14-f809-df2f-b223-6376-cc54-a05f-042b-cbeb-bb29-763c"
      },
      {
       "current": "be13dbec-ecd7-11ef-b381-0242ac120006-14-5506-ead5-1364-8997-17f3-a189-c892-97cb-4c86-9b01",
       "next": "253f9026-1330-11f0-88c4-7e93a5d0b9a2",
       "previous": "24264e68-ecda-11ef-b381-0242ac120006-15-df2f-b223-6376-cc54-a05f-042b-cbeb-bb29-763c-9201"
      },
      {
       "current": "be13dbec-ecd7-11ef-b381-0242ac120006-14-5506-ead5-1364-8997-17f3-a189-c892-97cb-4c86-9b01",
       "next": "253f9026-1330-11f0-88c4-7e93a5d0b9a2",
       "previous": "24264e68-ecda-11ef-b381-0242ac120006-15-df2f-b223-6376-cc54-a05f-042b-cbeb-bb29-763c-9201"
      },
      {
       "current": "be13dbec-ecd7-11ef-b381-0242ac120006-14-5506-ead5-1364-8997-17f3-a189-c892-97cb-4c86-9b01",
       "next": "253f9026-1330-11f0-88c4-7e93a5d0b9a2-1-5f5c",
       "previous": "24264e68-ecda-11ef-b381-0242ac120006-15-df2f-b223-6376-cc54-a05f-042b-cbeb-bb29-763c-9201"
      },
      {
       "current": "be13dbec-ecd7-11ef-b381-0242ac120006-14-5506-ead5-1364-8997-17f3-a189-c892-97cb-4c86-9b01",
       "next": "173d7fda-1333-11f0-88c4-7e93a5d0b9a2",
       "previous": "24264e68-ecda-11ef-b381-0242ac120006-15-df2f-b223-6376-cc54-a05f-042b-cbeb-bb29-763c-9201"
      },
      {
       "current": "be13dbec-ecd7-11ef-b381-0242ac120006-14-5506-ead5-1364-8997-17f3-a189-c892-97cb-4c86-9b01",
       "next": "253f9026-1330-11f0-88c4-7e93a5d0b9a2-1-5f5c",
       "previous": "24264e68-ecda-11ef-b381-0242ac120006-15-df2f-b223-6376-cc54-a05f-042b-cbeb-bb29-763c-9201"
      },
      {
       "current": "be13dbec-ecd7-11ef-b381-0242ac120006-14-5506-ead5-1364-8997-17f3-a189-c892-97cb-4c86-9b01",
       "next": "708e57ec-1335-11f0-88c4-7e93a5d0b9a2",
       "previous": "24264e68-ecda-11ef-b381-0242ac120006-15-df2f-b223-6376-cc54-a05f-042b-cbeb-bb29-763c-9201"
      },
      {
       "current": "be13dbec-ecd7-11ef-b381-0242ac120006-15-ead5-1364-8997-17f3-a189-c892-97cb-4c86-9b01-013d",
       "next": "253f9026-1330-11f0-88c4-7e93a5d0b9a2-1-5f5c",
       "previous": "24264e68-ecda-11ef-b381-0242ac120006-15-df2f-b223-6376-cc54-a05f-042b-cbeb-bb29-763c-9201"
      },
      {
       "current": "be13dbec-ecd7-11ef-b381-0242ac120006-17-8997-17f3-a189-c892-97cb-4c86-9b01-013d-44d9-1893",
       "next": "253f9026-1330-11f0-88c4-7e93a5d0b9a2-2-5f5c-f3b8",
       "previous": "24264e68-ecda-11ef-b381-0242ac120006-16-b223-6376-cc54-a05f-042b-cbeb-bb29-763c-9201-276e"
      },
      {
       "current": "be13dbec-ecd7-11ef-b381-0242ac120006-19-a189-c892-97cb-4c86-9b01-013d-44d9-1893-da65-b06d",
       "next": "253f9026-1330-11f0-88c4-7e93a5d0b9a2-4-5f5c-f3b8-07d2-82c8",
       "previous": "24264e68-ecda-11ef-b381-0242ac120006-18-cc54-a05f-042b-cbeb-bb29-763c-9201-276e-e152-8ca5"
      },
      {
       "current": "be13dbec-ecd7-11ef-b381-0242ac120006-20-c892-97cb-4c86-9b01-013d-44d9-1893-da65-b06d-1da3",
       "next": "253f9026-1330-11f0-88c4-7e93a5d0b9a2-6-5f5c-f3b8-07d2-82c8-293c-7293",
       "previous": "24264e68-ecda-11ef-b381-0242ac120006-20-042b-cbeb-bb29-763c-9201-276e-e152-8ca5-ff29-35a1"
      },
      {
       "current": "be13dbec-ecd7-11ef-b381-0242ac120006-21-97cb-4c86-9b01-013d-44d9-1893-da65-b06d-1da3-3c30",
       "next": "253f9026-1330-11f0-88c4-7e93a5d0b9a2-7-5f5c-f3b8-07d2-82c8-293c-7293-d6d8",
       "previous": "24264e68-ecda-11ef-b381-0242ac120006-21-cbeb-bb29-763c-9201-276e-e152-8ca5-ff29-35a1-d86c"
      },
      {
       "current": "be13dbec-ecd7-11ef-b381-0242ac120006-23-9b01-013d-44d9-1893-da65-b06d-1da3-3c30-c762-be13",
       "next": "253f9026-1330-11f0-88c4-7e93a5d0b9a2-8-5f5c-f3b8-07d2-82c8-293c-7293-d6d8-9cb6",
       "previous": "24264e68-ecda-11ef-b381-0242ac120006-22-bb29-763c-9201-276e-e152-8ca5-ff29-35a1-d86c-b68e"
      },
      {
       "current": "be13dbec-ecd7-11ef-b381-0242ac120006-26-1893-da65-b06d-1da3-3c30-c762-be13-e234-9183-9c47",
       "next": "253f9026-1330-11f0-88c4-7e93a5d0b9a2-10-5f5c-f3b8-07d2-82c8-293c-7293-d6d8-9cb6-c8dd-f96e",
       "previous": "24264e68-ecda-11ef-b381-0242ac120006-24-9201-276e-e152-8ca5-ff29-35a1-d86c-b68e-774a-6480"
      }
     ],
     "next": "253f9026-1330-11f0-88c4-7e93a5d0b9a2-13-82c8-293c-7293-d6d8-9cb6-c8dd-f96e-bc3d-5100-9def",
     "previous": "24264e68-ecda-11ef-b381-0242ac120006-27-8ca5-ff29-35a1-d86c-b68e-774a-6480-07c2-bbda-4d02"
    },
    "pinnedOutputTabIndex": 0,
    "run_through_control": {
     "frozen": true,
     "read_only": false
    },
    "slideshow": {
     "slide_type": ""
    },
    "tags": [
     "parameters"
    ]
   },
   "outputs": [],
   "source": [
    "from getpass import getpass\n",
    "\n",
    "rdm_url = 'https://rdm.example.com/'\n",
    "admin_rdm_url = 'https://admin.rdm.example.com/'\n",
    "\n",
    "# ログインテスト対象のプロジェクト情報 (1) - idp_username_1のユーザーがアクセスできる必要あり\n",
    "rdm_project_url_1 = 'https://rdm.example.com/tvuxd/'\n",
    "rdm_project_name_1 = 'test_login'\n",
    "# ログインテスト対象のプロジェクト情報 (2) - idp_username_1のユーザーがアクセスできてはならない\n",
    "rdm_project_url_2 = 'https://rdm.example.com/xwz59/'\n",
    "\n",
    "idp_name_1 = 'GakuNin RDM IdP'\n",
    "idp_username_1 = None\n",
    "idp_password_1 = None\n",
    "\n",
    "idp_name_2 = 'GakuNin RDM IdP'\n",
    "idp_username_2 = None\n",
    "idp_password_2 = None\n",
    "\n",
    "s3_access_key_1 = None\n",
    "s3_secret_access_key_1 = None\n",
    "s3_default_region_1 = None\n",
    "s3_test_bucket_name_1 = None\n",
    "s3_access_key_2 = None\n",
    "s3_secret_access_key_2 = None\n",
    "s3_default_region_2 = None\n",
    "s3_test_bucket_name_2 = None\n",
    "\n",
    "s3compat_access_key_1 = None\n",
    "s3compat_secret_access_key_1 = None\n",
    "s3compat_default_region_1 = None\n",
    "s3compat_test_bucket_name_1 = None\n",
    "s3compat_access_key_2 = None\n",
    "s3compat_secret_access_key_2 = None\n",
    "s3compat_default_region_2 = None\n",
    "s3compat_test_bucket_name_2 = None\n",
    "s3compat_type_name_1 = 'Wasabi'\n",
    "s3compat_type_name_2 = 'SAKURA Cloud'\n",
    "\n",
    "dropbox_folder_1 = None\n",
    "dropbox_folder_2 = None\n",
    "googledrive_folder_1 = None\n",
    "googledrive_folder_2 = None\n",
    "onedrive_folder_1 = None\n",
    "onedrive_folder_2 = None\n",
    "nextcloud_folder_1 = None\n",
    "nextcloud_folder_2 = None\n",
    "\n",
    "enable_1gb_file_upload = False\n",
    "skip_failed_test = True\n",
    "transition_timeout = 60000\n",
    "skip_preview_check = False\n",
    "\n",
    "skip_default_storage = False\n",
    "skip_metadata = False\n",
    "skip_admin = False\n",
    "\n",
    "storages_oauth = [\n",
    "    {'id': 'dropbox', 'name': 'Dropbox'},\n",
    "    {'id': 'googledrive', 'name': 'Google Drive'},\n",
    "    {'id': 'onedrive', 'name': 'OneDrive'},\n",
    "    {'id': 'nextcloud', 'name': 'Nextcloud'},\n",
    "]\n",
    "\n",
    "storages_s3 = [\n",
    "    {'id': 's3', 'name': 'Amazon S3'},\n",
    "    {'id': 's3compat', 'name': 'S3 Compatible Storage'},\n",
    "]\n",
    "\n",
    "# 管理者機能のテスト用\n",
    "\n",
    "# ログイン可否設定情報\n",
    "admin_entitlement_text = 'GakuNinRDMAdmin:loginNG_VR'\n",
    "\n",
    "# 検索用ノード情報\n",
    "admin_search_node_id = 'qe29y'\n",
    "admin_search_node_title = 'TEST-METADATA-202502082306'\n",
    "\n",
    "# 検索用ユーザ情報\n",
    "admin_search_user_name = 'Satoshi Yazawa'\n",
    "admin_search_user_by_id = 'jbgaz'\n",
    "admin_search_user_by_name = 'Satoshi'\n",
    "admin_search_user_by_email = 'satoshiyazawa9@example.com'\n",
    "\n",
    "# 検索用Registration情報\n",
    "admin_search_registration_id = 'y9cbd'\n",
    "admin_search_registration_title = 'test-metadata'\n",
    "\n",
    "# アナウンスへの入力用データ\n",
    "admin_announcement_title = 'サンプルタイトル'\n",
    "admin_announcement_body = 'サンプル本文'\n",
    "\n",
    "# 機関選択時の組織\n",
    "admin_target_organization = 'GakuNin RDM IdP'\n",
    "\n",
    "# 証跡管理対象\n",
    "admin_timestamp_project_name = 'TEST-A1-NIIストレージ-ファイル操作-20250426'\n",
    "admin_timestamp_start_date = '2025-04-15'\n",
    "admin_timestamp_end_date = '2025-05-01'\n",
    "admin_timestamp_user = 'Hidefumi Moritani (WF6HN)'\n",
    "\n",
    "# クォータ設定対象\n",
    "admin_quota_user_id = 'jbgaz' # target_organizationに所属している必要あり"
   ]
  },
  {
   "cell_type": "markdown",
   "id": "59500747-a7cf-45ee-adcc-fc917501e15c",
   "metadata": {
    "deletable": true,
    "editable": true,
    "lc_cell_meme": {
     "current": "253f9026-1330-11f0-88c4-7e93a5d0b9a2-13-82c8-293c-7293-d6d8-9cb6-c8dd-f96e-bc3d-5100-9def",
     "history": [
      {
       "current": "253f9026-1330-11f0-88c4-7e93a5d0b9a2-1-5f5c",
       "next": "0b6a3256-ecd8-11ef-b381-0242ac120006-16-4212-13e9-6152-8383-4702-91d2-bdd3-2a5d-2a26-96d6",
       "previous": "be13dbec-ecd7-11ef-b381-0242ac120006-14-5506-ead5-1364-8997-17f3-a189-c892-97cb-4c86-9b01"
      },
      {
       "current": "253f9026-1330-11f0-88c4-7e93a5d0b9a2-1-5f5c",
       "next": "39b0d862-1330-11f0-88c4-7e93a5d0b9a2",
       "previous": "be13dbec-ecd7-11ef-b381-0242ac120006-14-5506-ead5-1364-8997-17f3-a189-c892-97cb-4c86-9b01"
      },
      {
       "current": "253f9026-1330-11f0-88c4-7e93a5d0b9a2-1-5f5c",
       "next": "39b0d862-1330-11f0-88c4-7e93a5d0b9a2",
       "previous": "173d7fda-1333-11f0-88c4-7e93a5d0b9a2"
      },
      {
       "current": "253f9026-1330-11f0-88c4-7e93a5d0b9a2-1-5f5c",
       "next": "39b0d862-1330-11f0-88c4-7e93a5d0b9a2",
       "previous": "be13dbec-ecd7-11ef-b381-0242ac120006-14-5506-ead5-1364-8997-17f3-a189-c892-97cb-4c86-9b01"
      },
      {
       "current": "253f9026-1330-11f0-88c4-7e93a5d0b9a2-1-5f5c",
       "next": "39b0d862-1330-11f0-88c4-7e93a5d0b9a2",
       "previous": "708e57ec-1335-11f0-88c4-7e93a5d0b9a2"
      },
      {
       "current": "253f9026-1330-11f0-88c4-7e93a5d0b9a2-2-5f5c-f3b8",
       "next": "39b0d862-1330-11f0-88c4-7e93a5d0b9a2",
       "previous": "be13dbec-ecd7-11ef-b381-0242ac120006-14-5506-ead5-1364-8997-17f3-a189-c892-97cb-4c86-9b01"
      },
      {
       "current": "253f9026-1330-11f0-88c4-7e93a5d0b9a2-4-5f5c-f3b8-07d2-82c8",
       "next": "39b0d862-1330-11f0-88c4-7e93a5d0b9a2-1-4c08",
       "previous": "be13dbec-ecd7-11ef-b381-0242ac120006-15-ead5-1364-8997-17f3-a189-c892-97cb-4c86-9b01-013d"
      },
      {
       "current": "253f9026-1330-11f0-88c4-7e93a5d0b9a2-6-5f5c-f3b8-07d2-82c8-293c-7293",
       "next": "39b0d862-1330-11f0-88c4-7e93a5d0b9a2-3-4c08-445b-2eaf",
       "previous": "be13dbec-ecd7-11ef-b381-0242ac120006-17-8997-17f3-a189-c892-97cb-4c86-9b01-013d-44d9-1893"
      },
      {
       "current": "253f9026-1330-11f0-88c4-7e93a5d0b9a2-7-5f5c-f3b8-07d2-82c8-293c-7293-d6d8",
       "next": "39b0d862-1330-11f0-88c4-7e93a5d0b9a2-5-4c08-445b-2eaf-909e-93ef",
       "previous": "be13dbec-ecd7-11ef-b381-0242ac120006-19-a189-c892-97cb-4c86-9b01-013d-44d9-1893-da65-b06d"
      },
      {
       "current": "253f9026-1330-11f0-88c4-7e93a5d0b9a2-8-5f5c-f3b8-07d2-82c8-293c-7293-d6d8-9cb6",
       "next": "39b0d862-1330-11f0-88c4-7e93a5d0b9a2-6-4c08-445b-2eaf-909e-93ef-6b0c",
       "previous": "be13dbec-ecd7-11ef-b381-0242ac120006-20-c892-97cb-4c86-9b01-013d-44d9-1893-da65-b06d-1da3"
      },
      {
       "current": "253f9026-1330-11f0-88c4-7e93a5d0b9a2-10-5f5c-f3b8-07d2-82c8-293c-7293-d6d8-9cb6-c8dd-f96e",
       "next": "39b0d862-1330-11f0-88c4-7e93a5d0b9a2-7-4c08-445b-2eaf-909e-93ef-6b0c-89c2",
       "previous": "be13dbec-ecd7-11ef-b381-0242ac120006-21-97cb-4c86-9b01-013d-44d9-1893-da65-b06d-1da3-3c30"
      },
      {
       "current": "253f9026-1330-11f0-88c4-7e93a5d0b9a2-13-82c8-293c-7293-d6d8-9cb6-c8dd-f96e-bc3d-5100-9def",
       "next": "39b0d862-1330-11f0-88c4-7e93a5d0b9a2-9-4c08-445b-2eaf-909e-93ef-6b0c-89c2-eab7-4d0d",
       "previous": "be13dbec-ecd7-11ef-b381-0242ac120006-23-9b01-013d-44d9-1893-da65-b06d-1da3-3c30-c762-be13"
      }
     ],
     "next": "39b0d862-1330-11f0-88c4-7e93a5d0b9a2-12-2eaf-909e-93ef-6b0c-89c2-eab7-4d0d-4910-6bdb-eba8",
     "previous": "be13dbec-ecd7-11ef-b381-0242ac120006-26-1893-da65-b06d-1da3-3c30-c762-be13-e234-9183-9c47"
    },
    "pinnedOutputTabIndex": 0,
    "run_through_control": {
     "frozen": false,
     "read_only": false
    }
   },
   "source": [
    "設定ファイルはテスト対象等によって準備する。設定ファイルのパス変更が必要な場合は以下で入力する。"
   ]
  },
  {
   "cell_type": "code",
   "execution_count": 3,
   "id": "6d440d72-eddd-4b39-855e-c431160ec342",
   "metadata": {
    "deletable": false,
    "editable": false,
    "lc_cell_meme": {
     "current": "39b0d862-1330-11f0-88c4-7e93a5d0b9a2-12-2eaf-909e-93ef-6b0c-89c2-eab7-4d0d-4910-6bdb-eba8",
     "execution_end_time": "2025-04-06T22:39:08.425Z",
     "history": [
      {
       "current": "39b0d862-1330-11f0-88c4-7e93a5d0b9a2-1-4c08",
       "next": "0b6a3256-ecd8-11ef-b381-0242ac120006-16-4212-13e9-6152-8383-4702-91d2-bdd3-2a5d-2a26-96d6",
       "previous": "253f9026-1330-11f0-88c4-7e93a5d0b9a2-1-5f5c"
      },
      {
       "current": "39b0d862-1330-11f0-88c4-7e93a5d0b9a2-3-4c08-445b-2eaf",
       "next": "0b6a3256-ecd8-11ef-b381-0242ac120006-17-13e9-6152-8383-4702-91d2-bdd3-2a5d-2a26-96d6-1b06",
       "previous": "253f9026-1330-11f0-88c4-7e93a5d0b9a2-2-5f5c-f3b8"
      },
      {
       "current": "39b0d862-1330-11f0-88c4-7e93a5d0b9a2-5-4c08-445b-2eaf-909e-93ef",
       "next": "0b6a3256-ecd8-11ef-b381-0242ac120006-19-8383-4702-91d2-bdd3-2a5d-2a26-96d6-1b06-9578-6756",
       "previous": "253f9026-1330-11f0-88c4-7e93a5d0b9a2-4-5f5c-f3b8-07d2-82c8"
      },
      {
       "current": "39b0d862-1330-11f0-88c4-7e93a5d0b9a2-6-4c08-445b-2eaf-909e-93ef-6b0c",
       "next": "0b6a3256-ecd8-11ef-b381-0242ac120006-21-91d2-bdd3-2a5d-2a26-96d6-1b06-9578-6756-b5f0-d537",
       "previous": "253f9026-1330-11f0-88c4-7e93a5d0b9a2-6-5f5c-f3b8-07d2-82c8-293c-7293"
      },
      {
       "current": "39b0d862-1330-11f0-88c4-7e93a5d0b9a2-7-4c08-445b-2eaf-909e-93ef-6b0c-89c2",
       "next": "0b6a3256-ecd8-11ef-b381-0242ac120006-22-bdd3-2a5d-2a26-96d6-1b06-9578-6756-b5f0-d537-a3e7",
       "previous": "253f9026-1330-11f0-88c4-7e93a5d0b9a2-7-5f5c-f3b8-07d2-82c8-293c-7293-d6d8"
      },
      {
       "current": "39b0d862-1330-11f0-88c4-7e93a5d0b9a2-9-4c08-445b-2eaf-909e-93ef-6b0c-89c2-eab7-4d0d",
       "next": "0b6a3256-ecd8-11ef-b381-0242ac120006-23-2a5d-2a26-96d6-1b06-9578-6756-b5f0-d537-a3e7-f765",
       "previous": "253f9026-1330-11f0-88c4-7e93a5d0b9a2-8-5f5c-f3b8-07d2-82c8-293c-7293-d6d8-9cb6"
      },
      {
       "current": "39b0d862-1330-11f0-88c4-7e93a5d0b9a2-12-2eaf-909e-93ef-6b0c-89c2-eab7-4d0d-4910-6bdb-eba8",
       "next": "0b6a3256-ecd8-11ef-b381-0242ac120006-25-96d6-1b06-9578-6756-b5f0-d537-a3e7-f765-4c9f-c6c7",
       "previous": "253f9026-1330-11f0-88c4-7e93a5d0b9a2-10-5f5c-f3b8-07d2-82c8-293c-7293-d6d8-9cb6-c8dd-f96e"
      }
     ],
     "next": "0b6a3256-ecd8-11ef-b381-0242ac120006-28-6756-b5f0-d537-a3e7-f765-4c9f-c6c7-2486-3b06-9bd7",
     "previous": "253f9026-1330-11f0-88c4-7e93a5d0b9a2-13-82c8-293c-7293-d6d8-9cb6-c8dd-f96e-bc3d-5100-9def"
    },
    "pinnedOutputTabIndex": 0,
    "run_through_control": {
     "frozen": true,
     "read_only": false
    }
   },
   "outputs": [
    {
     "name": "stdin",
     "output_type": "stream",
     "text": [
      "接続先等設定ファイル(YAML)のパスを入力してください。空文字列を入力した場合、 `.config.yaml` となります。 config.yaml\n"
     ]
    },
    {
     "data": {
      "text/plain": [
       "'config.yaml'"
      ]
     },
     "execution_count": 3,
     "metadata": {},
     "output_type": "execute_result"
    }
   ],
   "source": [
    "config_path = input(prompt='接続先等設定ファイル(YAML)のパスを入力してください。空文字列を入力した場合、 `.config.yaml` となります。').strip() or config_path\n",
    "config_path"
   ]
  },
  {
   "cell_type": "code",
   "execution_count": 4,
   "id": "158a5779-6f8d-438b-be78-4557f3086084",
   "metadata": {
    "deletable": false,
    "editable": false,
    "lc_cell_meme": {
     "current": "0b6a3256-ecd8-11ef-b381-0242ac120006-28-6756-b5f0-d537-a3e7-f765-4c9f-c6c7-2486-3b06-9bd7",
     "execution_end_time": "2025-03-29T07:27:07.821Z",
     "history": [
      {
       "current": "0b6a3256-ecd8-11ef-b381-0242ac120006",
       "next": "be13dc32-ecd7-11ef-b381-0242ac120006",
       "previous": "be13dbec-ecd7-11ef-b381-0242ac120006"
      },
      {
       "current": "0b6a3256-ecd8-11ef-b381-0242ac120006",
       "next": "be13dc32-ecd7-11ef-b381-0242ac120006",
       "previous": "25b124d0-ecd8-11ef-b381-0242ac120006"
      },
      {
       "current": "0b6a3256-ecd8-11ef-b381-0242ac120006",
       "next": "be13dc32-ecd7-11ef-b381-0242ac120006",
       "previous": "25b124d0-ecd8-11ef-b381-0242ac120006"
      },
      {
       "current": "0b6a3256-ecd8-11ef-b381-0242ac120006-1-e8a9",
       "next": "be13dc32-ecd7-11ef-b381-0242ac120006",
       "previous": "be13dbec-ecd7-11ef-b381-0242ac120006"
      },
      {
       "current": "0b6a3256-ecd8-11ef-b381-0242ac120006-1-e8a9",
       "next": "be13dc32-ecd7-11ef-b381-0242ac120006-1-f4a9",
       "previous": "be13dbec-ecd7-11ef-b381-0242ac120006-1-620e"
      },
      {
       "current": "0b6a3256-ecd8-11ef-b381-0242ac120006-1-e8a9",
       "next": "be13dc32-ecd7-11ef-b381-0242ac120006-1-f4a9",
       "previous": "ea686914-ecec-11ef-a157-0242ac120006"
      },
      {
       "current": "0b6a3256-ecd8-11ef-b381-0242ac120006-2-e8a9-82a5",
       "next": "be13dc32-ecd7-11ef-b381-0242ac120006-1-f4a9",
       "previous": "be13dbec-ecd7-11ef-b381-0242ac120006-1-620e"
      },
      {
       "current": "0b6a3256-ecd8-11ef-b381-0242ac120006-4-e8a9-82a5-f396-4fdc",
       "next": "be13dc32-ecd7-11ef-b381-0242ac120006-2-f4a9-da30",
       "previous": "be13dbec-ecd7-11ef-b381-0242ac120006-2-620e-a152"
      },
      {
       "current": "0b6a3256-ecd8-11ef-b381-0242ac120006-6-e8a9-82a5-f396-4fdc-b40b-6e5b",
       "next": "be13dc32-ecd7-11ef-b381-0242ac120006-4-f4a9-da30-14ab-853b",
       "previous": "be13dbec-ecd7-11ef-b381-0242ac120006-4-620e-a152-f573-98ba"
      },
      {
       "current": "0b6a3256-ecd8-11ef-b381-0242ac120006-9-e8a9-82a5-f396-4fdc-b40b-6e5b-4212-13e9-6152",
       "next": "be13dc32-ecd7-11ef-b381-0242ac120006-6-f4a9-da30-14ab-853b-0cdd-9d73",
       "previous": "be13dbec-ecd7-11ef-b381-0242ac120006-6-620e-a152-f573-98ba-5506-ead5"
      },
      {
       "current": "0b6a3256-ecd8-11ef-b381-0242ac120006-9-e8a9-82a5-f396-4fdc-b40b-6e5b-4212-13e9-6152",
       "next": "be13dc32-ecd7-11ef-b381-0242ac120006-6-f4a9-da30-14ab-853b-0cdd-9d73",
       "previous": "be13dbec-ecd7-11ef-b381-0242ac120006-6-620e-a152-f573-98ba-5506-ead5"
      },
      {
       "current": "0b6a3256-ecd8-11ef-b381-0242ac120006-11-82a5-f396-4fdc-b40b-6e5b-4212-13e9-6152-8383-4702",
       "next": "be13dc32-ecd7-11ef-b381-0242ac120006-8-f4a9-da30-14ab-853b-0cdd-9d73-989c-1306",
       "previous": "be13dbec-ecd7-11ef-b381-0242ac120006-8-620e-a152-f573-98ba-5506-ead5-1364-8997"
      },
      {
       "current": "0b6a3256-ecd8-11ef-b381-0242ac120006-12-f396-4fdc-b40b-6e5b-4212-13e9-6152-8383-4702-91d2",
       "next": "be13dc32-ecd7-11ef-b381-0242ac120006-9-f4a9-da30-14ab-853b-0cdd-9d73-989c-1306-3e4b",
       "previous": "be13dbec-ecd7-11ef-b381-0242ac120006-9-620e-a152-f573-98ba-5506-ead5-1364-8997-17f3"
      },
      {
       "current": "0b6a3256-ecd8-11ef-b381-0242ac120006-14-b40b-6e5b-4212-13e9-6152-8383-4702-91d2-bdd3-2a5d",
       "next": "be13dc32-ecd7-11ef-b381-0242ac120006-10-f4a9-da30-14ab-853b-0cdd-9d73-989c-1306-3e4b-9ea4",
       "previous": "be13dbec-ecd7-11ef-b381-0242ac120006-10-620e-a152-f573-98ba-5506-ead5-1364-8997-17f3-a189"
      },
      {
       "current": "0b6a3256-ecd8-11ef-b381-0242ac120006-14-b40b-6e5b-4212-13e9-6152-8383-4702-91d2-bdd3-2a5d",
       "next": "be13dc32-ecd7-11ef-b381-0242ac120006-12-14ab-853b-0cdd-9d73-989c-1306-3e4b-9ea4-15c2-eb51",
       "previous": "be13dbec-ecd7-11ef-b381-0242ac120006-12-f573-98ba-5506-ead5-1364-8997-17f3-a189-c892-97cb"
      },
      {
       "current": "0b6a3256-ecd8-11ef-b381-0242ac120006-14-b40b-6e5b-4212-13e9-6152-8383-4702-91d2-bdd3-2a5d",
       "next": "be13dc32-ecd7-11ef-b381-0242ac120006-12-14ab-853b-0cdd-9d73-989c-1306-3e4b-9ea4-15c2-eb51",
       "previous": "3791fff2-1114-11f0-acfe-1231102d67ae"
      },
      {
       "current": "0b6a3256-ecd8-11ef-b381-0242ac120006-14-b40b-6e5b-4212-13e9-6152-8383-4702-91d2-bdd3-2a5d",
       "next": "be13dc32-ecd7-11ef-b381-0242ac120006-12-14ab-853b-0cdd-9d73-989c-1306-3e4b-9ea4-15c2-eb51",
       "previous": "be13dbec-ecd7-11ef-b381-0242ac120006-12-f573-98ba-5506-ead5-1364-8997-17f3-a189-c892-97cb"
      },
      {
       "current": "0b6a3256-ecd8-11ef-b381-0242ac120006-14-b40b-6e5b-4212-13e9-6152-8383-4702-91d2-bdd3-2a5d",
       "next": "be13dc32-ecd7-11ef-b381-0242ac120006-12-14ab-853b-0cdd-9d73-989c-1306-3e4b-9ea4-15c2-eb51",
       "previous": "a42e7b22-1119-11f0-acfe-1231102d67ae"
      },
      {
       "current": "0b6a3256-ecd8-11ef-b381-0242ac120006-14-b40b-6e5b-4212-13e9-6152-8383-4702-91d2-bdd3-2a5d",
       "next": "be13dc32-ecd7-11ef-b381-0242ac120006-12-14ab-853b-0cdd-9d73-989c-1306-3e4b-9ea4-15c2-eb51",
       "previous": "be13dbec-ecd7-11ef-b381-0242ac120006-12-f573-98ba-5506-ead5-1364-8997-17f3-a189-c892-97cb"
      },
      {
       "current": "0b6a3256-ecd8-11ef-b381-0242ac120006-14-b40b-6e5b-4212-13e9-6152-8383-4702-91d2-bdd3-2a5d",
       "next": "be13dc32-ecd7-11ef-b381-0242ac120006-12-14ab-853b-0cdd-9d73-989c-1306-3e4b-9ea4-15c2-eb51",
       "previous": "290d17f8-111b-11f0-acfe-1231102d67ae"
      },
      {
       "current": "0b6a3256-ecd8-11ef-b381-0242ac120006-14-b40b-6e5b-4212-13e9-6152-8383-4702-91d2-bdd3-2a5d",
       "next": "be13dc32-ecd7-11ef-b381-0242ac120006-12-14ab-853b-0cdd-9d73-989c-1306-3e4b-9ea4-15c2-eb51",
       "previous": "be13dbec-ecd7-11ef-b381-0242ac120006-12-f573-98ba-5506-ead5-1364-8997-17f3-a189-c892-97cb"
      },
      {
       "current": "0b6a3256-ecd8-11ef-b381-0242ac120006-14-b40b-6e5b-4212-13e9-6152-8383-4702-91d2-bdd3-2a5d",
       "next": "be13dc32-ecd7-11ef-b381-0242ac120006-12-14ab-853b-0cdd-9d73-989c-1306-3e4b-9ea4-15c2-eb51",
       "previous": "b6cf53f2-111c-11f0-acfe-1231102d67ae"
      },
      {
       "current": "0b6a3256-ecd8-11ef-b381-0242ac120006-15-6e5b-4212-13e9-6152-8383-4702-91d2-bdd3-2a5d-2a26",
       "next": "be13dc32-ecd7-11ef-b381-0242ac120006-12-14ab-853b-0cdd-9d73-989c-1306-3e4b-9ea4-15c2-eb51",
       "previous": "be13dbec-ecd7-11ef-b381-0242ac120006-12-f573-98ba-5506-ead5-1364-8997-17f3-a189-c892-97cb"
      },
      {
       "current": "0b6a3256-ecd8-11ef-b381-0242ac120006-16-4212-13e9-6152-8383-4702-91d2-bdd3-2a5d-2a26-96d6",
       "next": "be13dc32-ecd7-11ef-b381-0242ac120006-13-853b-0cdd-9d73-989c-1306-3e4b-9ea4-15c2-eb51-3380",
       "previous": "be13dbec-ecd7-11ef-b381-0242ac120006-13-98ba-5506-ead5-1364-8997-17f3-a189-c892-97cb-4c86"
      },
      {
       "current": "0b6a3256-ecd8-11ef-b381-0242ac120006-16-4212-13e9-6152-8383-4702-91d2-bdd3-2a5d-2a26-96d6",
       "next": "be13dc32-ecd7-11ef-b381-0242ac120006-14-0cdd-9d73-989c-1306-3e4b-9ea4-15c2-eb51-3380-ca65",
       "previous": "253f9026-1330-11f0-88c4-7e93a5d0b9a2"
      },
      {
       "current": "0b6a3256-ecd8-11ef-b381-0242ac120006-16-4212-13e9-6152-8383-4702-91d2-bdd3-2a5d-2a26-96d6",
       "next": "be13dc32-ecd7-11ef-b381-0242ac120006-14-0cdd-9d73-989c-1306-3e4b-9ea4-15c2-eb51-3380-ca65",
       "previous": "253f9026-1330-11f0-88c4-7e93a5d0b9a2"
      },
      {
       "current": "0b6a3256-ecd8-11ef-b381-0242ac120006-16-4212-13e9-6152-8383-4702-91d2-bdd3-2a5d-2a26-96d6",
       "next": "be13dc32-ecd7-11ef-b381-0242ac120006-14-0cdd-9d73-989c-1306-3e4b-9ea4-15c2-eb51-3380-ca65",
       "previous": "253f9026-1330-11f0-88c4-7e93a5d0b9a2-1-5f5c"
      },
      {
       "current": "0b6a3256-ecd8-11ef-b381-0242ac120006-17-13e9-6152-8383-4702-91d2-bdd3-2a5d-2a26-96d6-1b06",
       "next": "be13dc32-ecd7-11ef-b381-0242ac120006-14-0cdd-9d73-989c-1306-3e4b-9ea4-15c2-eb51-3380-ca65",
       "previous": "39b0d862-1330-11f0-88c4-7e93a5d0b9a2"
      },
      {
       "current": "0b6a3256-ecd8-11ef-b381-0242ac120006-19-8383-4702-91d2-bdd3-2a5d-2a26-96d6-1b06-9578-6756",
       "next": "be13dc32-ecd7-11ef-b381-0242ac120006-15-9d73-989c-1306-3e4b-9ea4-15c2-eb51-3380-ca65-7a59",
       "previous": "39b0d862-1330-11f0-88c4-7e93a5d0b9a2-1-4c08"
      },
      {
       "current": "0b6a3256-ecd8-11ef-b381-0242ac120006-21-91d2-bdd3-2a5d-2a26-96d6-1b06-9578-6756-b5f0-d537",
       "next": "be13dc32-ecd7-11ef-b381-0242ac120006-17-1306-3e4b-9ea4-15c2-eb51-3380-ca65-7a59-0061-4856",
       "previous": "39b0d862-1330-11f0-88c4-7e93a5d0b9a2-3-4c08-445b-2eaf"
      },
      {
       "current": "0b6a3256-ecd8-11ef-b381-0242ac120006-22-bdd3-2a5d-2a26-96d6-1b06-9578-6756-b5f0-d537-a3e7",
       "next": "be13dc32-ecd7-11ef-b381-0242ac120006-19-9ea4-15c2-eb51-3380-ca65-7a59-0061-4856-d2d8-b2b2",
       "previous": "39b0d862-1330-11f0-88c4-7e93a5d0b9a2-5-4c08-445b-2eaf-909e-93ef"
      },
      {
       "current": "0b6a3256-ecd8-11ef-b381-0242ac120006-23-2a5d-2a26-96d6-1b06-9578-6756-b5f0-d537-a3e7-f765",
       "next": "be13dc32-ecd7-11ef-b381-0242ac120006-20-15c2-eb51-3380-ca65-7a59-0061-4856-d2d8-b2b2-6157",
       "previous": "39b0d862-1330-11f0-88c4-7e93a5d0b9a2-6-4c08-445b-2eaf-909e-93ef-6b0c"
      },
      {
       "current": "0b6a3256-ecd8-11ef-b381-0242ac120006-25-96d6-1b06-9578-6756-b5f0-d537-a3e7-f765-4c9f-c6c7",
       "next": "be13dc32-ecd7-11ef-b381-0242ac120006-21-eb51-3380-ca65-7a59-0061-4856-d2d8-b2b2-6157-8dc4",
       "previous": "39b0d862-1330-11f0-88c4-7e93a5d0b9a2-7-4c08-445b-2eaf-909e-93ef-6b0c-89c2"
      },
      {
       "current": "0b6a3256-ecd8-11ef-b381-0242ac120006-28-6756-b5f0-d537-a3e7-f765-4c9f-c6c7-2486-3b06-9bd7",
       "next": "be13dc32-ecd7-11ef-b381-0242ac120006-23-ca65-7a59-0061-4856-d2d8-b2b2-6157-8dc4-2d76-5adf",
       "previous": "39b0d862-1330-11f0-88c4-7e93a5d0b9a2-9-4c08-445b-2eaf-909e-93ef-6b0c-89c2-eab7-4d0d"
      }
     ],
     "next": "be13dc32-ecd7-11ef-b381-0242ac120006-26-4856-d2d8-b2b2-6157-8dc4-2d76-5adf-dba5-5520-f5b0",
     "previous": "39b0d862-1330-11f0-88c4-7e93a5d0b9a2-12-2eaf-909e-93ef-6b0c-89c2-eab7-4d0d-4910-6bdb-eba8"
    },
    "pinnedOutputTabIndex": 0,
    "run_through_control": {
     "frozen": true,
     "read_only": false
    },
    "slideshow": {
     "slide_type": ""
    },
    "tags": []
   },
   "outputs": [
    {
     "name": "stdout",
     "output_type": "stream",
     "text": [
      "Set rdm_url from config.yaml\n",
      "Set admin_rdm_url from config.yaml\n",
      "Set rdm_project_url_1 from config.yaml\n",
      "Set rdm_project_url_2 from config.yaml\n",
      "Set idp_username_1 from config.yaml\n",
      "Set idp_password_1 from config.yaml\n",
      "Set idp_username_2 from config.yaml\n",
      "Set idp_password_2 from config.yaml\n",
      "Set s3_access_key_1 from config.yaml\n",
      "Set s3_secret_access_key_1 from config.yaml\n",
      "Set s3_default_region_1 from config.yaml\n",
      "Set s3_test_bucket_name_1 from config.yaml\n",
      "Set s3_access_key_2 from config.yaml\n",
      "Set s3_secret_access_key_2 from config.yaml\n",
      "Set s3_default_region_2 from config.yaml\n",
      "Set s3_test_bucket_name_2 from config.yaml\n",
      "Set s3compat_access_key_1 from config.yaml\n",
      "Set s3compat_secret_access_key_1 from config.yaml\n",
      "Set s3compat_test_bucket_name_1 from config.yaml\n",
      "Set s3compat_access_key_2 from config.yaml\n",
      "Set s3compat_secret_access_key_2 from config.yaml\n",
      "Set s3compat_test_bucket_name_2 from config.yaml\n",
      "Set dropbox_folder_1 from config.yaml\n",
      "Set dropbox_folder_2 from config.yaml\n",
      "Set googledrive_folder_1 from config.yaml\n",
      "Set googledrive_folder_2 from config.yaml\n",
      "Set onedrive_folder_1 from config.yaml\n",
      "Set onedrive_folder_2 from config.yaml\n",
      "Set nextcloud_folder_1 from config.yaml\n",
      "Set nextcloud_folder_2 from config.yaml\n",
      "Set skip_preview_check from config.yaml\n",
      "Set storages_oauth from config.yaml\n",
      "Set admin_search_node_id from config.yaml\n",
      "Set admin_search_node_title from config.yaml\n",
      "Set admin_search_user_name from config.yaml\n",
      "Set admin_search_user_by_id from config.yaml\n",
      "Set admin_search_user_by_name from config.yaml\n",
      "Set admin_search_user_by_email from config.yaml\n",
      "Set admin_search_registration_id from config.yaml\n",
      "Set admin_search_registration_title from config.yaml\n",
      "Set admin_quota_user_id from config.yaml\n"
     ]
    },
    {
     "data": {
      "text/plain": [
       "dict_keys(['idp_name_1', 'idp_username_1', 'idp_password_1', 'idp_name_2', 'idp_username_2', 'idp_password_2', 'enable_1gb_file_upload', 'admin_rdm_url', 'rdm_url', 'rdm_project_url_1', 'rdm_project_name_1', 'rdm_project_url_2', 's3_access_key_1', 's3_access_key_2', 's3_default_region_1', 's3_default_region_2', 's3_secret_access_key_1', 's3_secret_access_key_2', 's3_test_bucket_name_1', 's3_test_bucket_name_2', 's3compat_access_key_1', 's3compat_access_key_2', 's3compat_default_region_1', 's3compat_default_region_2', 's3compat_secret_access_key_1', 's3compat_secret_access_key_2', 's3compat_test_bucket_name_1', 's3compat_test_bucket_name_2', 's3compat_type_name_1', 's3compat_type_name_2', 'dropbox_folder_1', 'dropbox_folder_2', 'googledrive_folder_1', 'googledrive_folder_2', 'onedrive_folder_1', 'onedrive_folder_2', 'nextcloud_folder_1', 'nextcloud_folder_2', 'skip_failed_test', 'transition_timeout', 'skip_preview_check', 'skip_default_storage', 'skip_metadata', 'skip_admin', 'storages_oauth', 'storages_s3', 'admin_search_node_id', 'admin_search_node_title', 'admin_search_user_name', 'admin_search_user_by_id', 'admin_search_user_by_name', 'admin_search_user_by_email', 'admin_search_registration_id', 'admin_search_registration_title', 'admin_announcement_title', 'admin_announcement_body', 'admin_timestamp_project_name', 'admin_timestamp_start_date', 'admin_timestamp_end_date', 'admin_timestamp_user', 'admin_target_organization', 'admin_quota_user_id'])"
      ]
     },
     "execution_count": 4,
     "metadata": {},
     "output_type": "execute_result"
    }
   ],
   "source": [
    "import os\n",
    "import yaml\n",
    "\n",
    "param_prefixes = [\n",
    "    'idp_',\n",
    "    's3_',\n",
    "    's3compat_',\n",
    "    'dropbox_',\n",
    "    'googledrive_',\n",
    "    'onedrive_',\n",
    "    'nextcloud_',\n",
    "    'enable_',\n",
    "    'storages_',\n",
    "    'skip_',\n",
    "    'transition_timeout',\n",
    "    'admin_',\n",
    "]\n",
    "\n",
    "param_keys = [\n",
    "    k\n",
    "    for k in locals().keys()\n",
    "    if 'rdm_' in k or any([k.startswith(prefix) for prefix in param_prefixes])\n",
    "]\n",
    "\n",
    "config = None\n",
    "if os.path.exists(config_path):\n",
    "    with open(config_path) as f:\n",
    "        config = yaml.load(f.read(), yaml.SafeLoader)\n",
    "        for key in param_keys:\n",
    "            if key not in config:\n",
    "                continue\n",
    "            if locals()[key] == config[key]:\n",
    "                continue\n",
    "            locals()[key] = config[key]\n",
    "            print(f'Set {key} from {config_path}')\n",
    "else:\n",
    "    print(f'設定ファイル {config_path} が見つかりません。無視します。')\n",
    "config.keys() if config else {}"
   ]
  },
  {
   "cell_type": "code",
   "execution_count": 5,
   "id": "a5cf3a48-1556-4551-8d54-5bcb86589b78",
   "metadata": {
    "deletable": false,
    "editable": false,
    "lc_cell_meme": {
     "current": "be13dc32-ecd7-11ef-b381-0242ac120006-26-4856-d2d8-b2b2-6157-8dc4-2d76-5adf-dba5-5520-f5b0",
     "execution_end_time": "2025-02-17T03:02:10.900Z",
     "history": [
      {
       "current": "be13dc32-ecd7-11ef-b381-0242ac120006",
       "next": "c7ff5410-ecd7-11ef-b381-0242ac120006",
       "previous": "be13dbec-ecd7-11ef-b381-0242ac120006"
      },
      {
       "current": "be13dc32-ecd7-11ef-b381-0242ac120006-1-f4a9",
       "next": "c7ff5410-ecd7-11ef-b381-0242ac120006",
       "previous": "0b6a3256-ecd8-11ef-b381-0242ac120006"
      },
      {
       "current": "be13dc32-ecd7-11ef-b381-0242ac120006-2-f4a9-da30",
       "next": "f29fd528-eceb-11ef-a157-0242ac120006",
       "previous": "0b6a3256-ecd8-11ef-b381-0242ac120006-1-e8a9"
      },
      {
       "current": "be13dc32-ecd7-11ef-b381-0242ac120006-4-f4a9-da30-14ab-853b",
       "next": "f29fd528-eceb-11ef-a157-0242ac120006-1-019c",
       "previous": "0b6a3256-ecd8-11ef-b381-0242ac120006-2-e8a9-82a5"
      },
      {
       "current": "be13dc32-ecd7-11ef-b381-0242ac120006-6-f4a9-da30-14ab-853b-0cdd-9d73",
       "next": "f29fd528-eceb-11ef-a157-0242ac120006-3-019c-9263-4055",
       "previous": "0b6a3256-ecd8-11ef-b381-0242ac120006-4-e8a9-82a5-f396-4fdc"
      },
      {
       "current": "be13dc32-ecd7-11ef-b381-0242ac120006-8-f4a9-da30-14ab-853b-0cdd-9d73-989c-1306",
       "next": "f29fd528-eceb-11ef-a157-0242ac120006-5-019c-9263-4055-d2e4-8930",
       "previous": "0b6a3256-ecd8-11ef-b381-0242ac120006-6-e8a9-82a5-f396-4fdc-b40b-6e5b"
      },
      {
       "current": "be13dc32-ecd7-11ef-b381-0242ac120006-8-f4a9-da30-14ab-853b-0cdd-9d73-989c-1306",
       "next": "f29fd528-eceb-11ef-a157-0242ac120006-5-019c-9263-4055-d2e4-8930",
       "previous": "0b6a3256-ecd8-11ef-b381-0242ac120006-6-e8a9-82a5-f396-4fdc-b40b-6e5b"
      },
      {
       "current": "be13dc32-ecd7-11ef-b381-0242ac120006-8-f4a9-da30-14ab-853b-0cdd-9d73-989c-1306",
       "next": "f29fd528-eceb-11ef-a157-0242ac120006-7-019c-9263-4055-d2e4-8930-45a9-e13d",
       "previous": "0b6a3256-ecd8-11ef-b381-0242ac120006-9-e8a9-82a5-f396-4fdc-b40b-6e5b-4212-13e9-6152"
      },
      {
       "current": "be13dc32-ecd7-11ef-b381-0242ac120006-8-f4a9-da30-14ab-853b-0cdd-9d73-989c-1306",
       "next": "f29fd528-eceb-11ef-a157-0242ac120006-7-019c-9263-4055-d2e4-8930-45a9-e13d",
       "previous": "0b6a3256-ecd8-11ef-b381-0242ac120006-9-e8a9-82a5-f396-4fdc-b40b-6e5b-4212-13e9-6152"
      },
      {
       "current": "be13dc32-ecd7-11ef-b381-0242ac120006-8-f4a9-da30-14ab-853b-0cdd-9d73-989c-1306",
       "next": "f29fd528-eceb-11ef-a157-0242ac120006-7-019c-9263-4055-d2e4-8930-45a9-e13d",
       "previous": "0b6a3256-ecd8-11ef-b381-0242ac120006-10-e8a9-82a5-f396-4fdc-b40b-6e5b-4212-13e9-6152-8383"
      },
      {
       "current": "be13dc32-ecd7-11ef-b381-0242ac120006-9-f4a9-da30-14ab-853b-0cdd-9d73-989c-1306-3e4b",
       "next": "c7ff5410-ecd7-11ef-b381-0242ac120006-8-af71-1d65-ee8f-1faa-f6bd-d018-e727-f89c",
       "previous": "0b6a3256-ecd8-11ef-b381-0242ac120006-10-e8a9-82a5-f396-4fdc-b40b-6e5b-4212-13e9-6152-8383"
      },
      {
       "current": "be13dc32-ecd7-11ef-b381-0242ac120006-10-f4a9-da30-14ab-853b-0cdd-9d73-989c-1306-3e4b-9ea4",
       "next": "c7ff5410-ecd7-11ef-b381-0242ac120006-9-af71-1d65-ee8f-1faa-f6bd-d018-e727-f89c-c91e",
       "previous": "0b6a3256-ecd8-11ef-b381-0242ac120006-11-82a5-f396-4fdc-b40b-6e5b-4212-13e9-6152-8383-4702"
      },
      {
       "current": "be13dc32-ecd7-11ef-b381-0242ac120006-12-14ab-853b-0cdd-9d73-989c-1306-3e4b-9ea4-15c2-eb51",
       "next": "1691ee48-0f9d-11f0-ac4d-3e7a738eaee3-1-4927",
       "previous": "0b6a3256-ecd8-11ef-b381-0242ac120006-12-f396-4fdc-b40b-6e5b-4212-13e9-6152-8383-4702-91d2"
      },
      {
       "current": "be13dc32-ecd7-11ef-b381-0242ac120006-13-853b-0cdd-9d73-989c-1306-3e4b-9ea4-15c2-eb51-3380",
       "next": "1691ee48-0f9d-11f0-ac4d-3e7a738eaee3-3-4927-d9f2-e697",
       "previous": "0b6a3256-ecd8-11ef-b381-0242ac120006-14-b40b-6e5b-4212-13e9-6152-8383-4702-91d2-bdd3-2a5d"
      },
      {
       "current": "be13dc32-ecd7-11ef-b381-0242ac120006-14-0cdd-9d73-989c-1306-3e4b-9ea4-15c2-eb51-3380-ca65",
       "next": "1691ee48-0f9d-11f0-ac4d-3e7a738eaee3-4-4927-d9f2-e697-8959",
       "previous": "0b6a3256-ecd8-11ef-b381-0242ac120006-15-6e5b-4212-13e9-6152-8383-4702-91d2-bdd3-2a5d-2a26"
      },
      {
       "current": "be13dc32-ecd7-11ef-b381-0242ac120006-15-9d73-989c-1306-3e4b-9ea4-15c2-eb51-3380-ca65-7a59",
       "next": "1691ee48-0f9d-11f0-ac4d-3e7a738eaee3-5-4927-d9f2-e697-8959-26d1",
       "previous": "0b6a3256-ecd8-11ef-b381-0242ac120006-16-4212-13e9-6152-8383-4702-91d2-bdd3-2a5d-2a26-96d6"
      },
      {
       "current": "be13dc32-ecd7-11ef-b381-0242ac120006-17-1306-3e4b-9ea4-15c2-eb51-3380-ca65-7a59-0061-4856",
       "next": "1691ee48-0f9d-11f0-ac4d-3e7a738eaee3-6-4927-d9f2-e697-8959-26d1-d098",
       "previous": "0b6a3256-ecd8-11ef-b381-0242ac120006-17-13e9-6152-8383-4702-91d2-bdd3-2a5d-2a26-96d6-1b06"
      },
      {
       "current": "be13dc32-ecd7-11ef-b381-0242ac120006-19-9ea4-15c2-eb51-3380-ca65-7a59-0061-4856-d2d8-b2b2",
       "next": "1691ee48-0f9d-11f0-ac4d-3e7a738eaee3-8-4927-d9f2-e697-8959-26d1-d098-00c1-6549",
       "previous": "0b6a3256-ecd8-11ef-b381-0242ac120006-19-8383-4702-91d2-bdd3-2a5d-2a26-96d6-1b06-9578-6756"
      },
      {
       "current": "be13dc32-ecd7-11ef-b381-0242ac120006-20-15c2-eb51-3380-ca65-7a59-0061-4856-d2d8-b2b2-6157",
       "next": "1691ee48-0f9d-11f0-ac4d-3e7a738eaee3-10-4927-d9f2-e697-8959-26d1-d098-00c1-6549-5fa2-029d",
       "previous": "0b6a3256-ecd8-11ef-b381-0242ac120006-21-91d2-bdd3-2a5d-2a26-96d6-1b06-9578-6756-b5f0-d537"
      },
      {
       "current": "be13dc32-ecd7-11ef-b381-0242ac120006-21-eb51-3380-ca65-7a59-0061-4856-d2d8-b2b2-6157-8dc4",
       "next": "1691ee48-0f9d-11f0-ac4d-3e7a738eaee3-11-d9f2-e697-8959-26d1-d098-00c1-6549-5fa2-029d-99a0",
       "previous": "0b6a3256-ecd8-11ef-b381-0242ac120006-22-bdd3-2a5d-2a26-96d6-1b06-9578-6756-b5f0-d537-a3e7"
      },
      {
       "current": "be13dc32-ecd7-11ef-b381-0242ac120006-21-eb51-3380-ca65-7a59-0061-4856-d2d8-b2b2-6157-8dc4",
       "next": "1691ee48-0f9d-11f0-ac4d-3e7a738eaee3-12-e697-8959-26d1-d098-00c1-6549-5fa2-029d-99a0-a3a7",
       "previous": "0b6a3256-ecd8-11ef-b381-0242ac120006-23-2a5d-2a26-96d6-1b06-9578-6756-b5f0-d537-a3e7-f765"
      },
      {
       "current": "be13dc32-ecd7-11ef-b381-0242ac120006-23-ca65-7a59-0061-4856-d2d8-b2b2-6157-8dc4-2d76-5adf",
       "next": "cac026d4-28c3-11f0-84de-32f9ed5d00a6",
       "previous": "0b6a3256-ecd8-11ef-b381-0242ac120006-23-2a5d-2a26-96d6-1b06-9578-6756-b5f0-d537-a3e7-f765"
      },
      {
       "current": "be13dc32-ecd7-11ef-b381-0242ac120006-26-4856-d2d8-b2b2-6157-8dc4-2d76-5adf-dba5-5520-f5b0",
       "next": "cac026d4-28c3-11f0-84de-32f9ed5d00a6-2-98c6-7724",
       "previous": "0b6a3256-ecd8-11ef-b381-0242ac120006-25-96d6-1b06-9578-6756-b5f0-d537-a3e7-f765-4c9f-c6c7"
      }
     ],
     "next": "cac026d4-28c3-11f0-84de-32f9ed5d00a6-5-98c6-7724-353f-cadd-fcf3",
     "previous": "0b6a3256-ecd8-11ef-b381-0242ac120006-28-6756-b5f0-d537-a3e7-f765-4c9f-c6c7-2486-3b06-9bd7"
    },
    "pinnedOutputTabIndex": 0,
    "run_through_control": {
     "frozen": true,
     "read_only": false
    },
    "slideshow": {
     "slide_type": ""
    },
    "tags": []
   },
   "outputs": [
    {
     "data": {
      "text/plain": [
       "(16, 20)"
      ]
     },
     "execution_count": 5,
     "metadata": {},
     "output_type": "execute_result"
    }
   ],
   "source": [
    "if idp_username_1 is None:\n",
    "    idp_username_1 = input(prompt=f'Username for {idp_name_1}')\n",
    "if idp_password_1 is None:\n",
    "    idp_password_1 = getpass(prompt=f'Password for {idp_username_1}@{idp_name_1}')\n",
    "(len(idp_username_1), len(idp_password_1))"
   ]
  },
  {
   "cell_type": "code",
   "execution_count": 6,
   "id": "c4b6437e-a02e-4d94-b659-0e2d07b6e8e3",
   "metadata": {
    "deletable": false,
    "editable": false,
    "lc_cell_meme": {
     "current": "cac026d4-28c3-11f0-84de-32f9ed5d00a6-5-98c6-7724-353f-cadd-fcf3",
     "execution_end_time": "2025-05-04T08:44:13.795Z",
     "history": [
      {
       "current": "cac026d4-28c3-11f0-84de-32f9ed5d00a6-2-98c6-7724",
       "next": "1691ee48-0f9d-11f0-ac4d-3e7a738eaee3-12-e697-8959-26d1-d098-00c1-6549-5fa2-029d-99a0-a3a7",
       "previous": "be13dc32-ecd7-11ef-b381-0242ac120006-21-eb51-3380-ca65-7a59-0061-4856-d2d8-b2b2-6157-8dc4"
      },
      {
       "current": "cac026d4-28c3-11f0-84de-32f9ed5d00a6-5-98c6-7724-353f-cadd-fcf3",
       "next": "1691ee48-0f9d-11f0-ac4d-3e7a738eaee3-14-26d1-d098-00c1-6549-5fa2-029d-99a0-a3a7-bbcf-04e5",
       "previous": "be13dc32-ecd7-11ef-b381-0242ac120006-23-ca65-7a59-0061-4856-d2d8-b2b2-6157-8dc4-2d76-5adf"
      }
     ],
     "next": "1691ee48-0f9d-11f0-ac4d-3e7a738eaee3-17-6549-5fa2-029d-99a0-a3a7-bbcf-04e5-909e-a668-8f63",
     "previous": "be13dc32-ecd7-11ef-b381-0242ac120006-26-4856-d2d8-b2b2-6157-8dc4-2d76-5adf-dba5-5520-f5b0"
    },
    "pinnedOutputTabIndex": 0,
    "run_through_control": {
     "frozen": true,
     "read_only": false
    }
   },
   "outputs": [
    {
     "data": {
      "text/plain": [
       "(16, 20)"
      ]
     },
     "execution_count": 6,
     "metadata": {},
     "output_type": "execute_result"
    }
   ],
   "source": [
    "if idp_username_2 is None:\n",
    "    idp_username_2 = input(prompt=f'Username for {idp_name_2}')\n",
    "if idp_password_2 is None:\n",
    "    idp_password_2 = getpass(prompt=f'Password for {idp_username_2}@{idp_name_2}')\n",
    "(len(idp_username_2), len(idp_password_2))"
   ]
  },
  {
   "cell_type": "code",
   "execution_count": 7,
   "id": "1725e39f-d501-4e69-8e76-c37c476e56d1",
   "metadata": {
    "deletable": false,
    "editable": false,
    "lc_cell_meme": {
     "current": "1691ee48-0f9d-11f0-ac4d-3e7a738eaee3-17-6549-5fa2-029d-99a0-a3a7-bbcf-04e5-909e-a668-8f63",
     "execution_end_time": "2025-04-02T21:48:51.193Z",
     "history": [
      {
       "current": "1691ee48-0f9d-11f0-ac4d-3e7a738eaee3",
       "next": "4f1d97fa-0c26-11f0-98e9-5e0a5654d7bd-6-4202-aef0-78b6-5218-939f-a0d0",
       "previous": "9a6a67cc-0c28-11f0-98e9-5e0a5654d7bd-5-3215-63a8-9043-4ba3-9c01"
      },
      {
       "current": "1691ee48-0f9d-11f0-ac4d-3e7a738eaee3",
       "next": "b97165ca-0fa3-11f0-ac4d-3e7a738eaee3",
       "previous": "9a6a67cc-0c28-11f0-98e9-5e0a5654d7bd-5-3215-63a8-9043-4ba3-9c01"
      },
      {
       "current": "1691ee48-0f9d-11f0-ac4d-3e7a738eaee3-1-4927",
       "next": "71ba4578-0fab-11f0-ac4d-3e7a738eaee3",
       "previous": "9a6a67cc-0c28-11f0-98e9-5e0a5654d7bd-5-3215-63a8-9043-4ba3-9c01"
      },
      {
       "current": "1691ee48-0f9d-11f0-ac4d-3e7a738eaee3-3-4927-d9f2-e697",
       "next": "71ba4578-0fab-11f0-ac4d-3e7a738eaee3-1-4636",
       "previous": "be13dc32-ecd7-11ef-b381-0242ac120006-10-f4a9-da30-14ab-853b-0cdd-9d73-989c-1306-3e4b-9ea4"
      },
      {
       "current": "1691ee48-0f9d-11f0-ac4d-3e7a738eaee3-4-4927-d9f2-e697-8959",
       "next": "71ba4578-0fab-11f0-ac4d-3e7a738eaee3-3-4636-de2e-9f37",
       "previous": "be13dc32-ecd7-11ef-b381-0242ac120006-12-14ab-853b-0cdd-9d73-989c-1306-3e4b-9ea4-15c2-eb51"
      },
      {
       "current": "1691ee48-0f9d-11f0-ac4d-3e7a738eaee3-5-4927-d9f2-e697-8959-26d1",
       "next": "71ba4578-0fab-11f0-ac4d-3e7a738eaee3-4-4636-de2e-9f37-faa9",
       "previous": "be13dc32-ecd7-11ef-b381-0242ac120006-13-853b-0cdd-9d73-989c-1306-3e4b-9ea4-15c2-eb51-3380"
      },
      {
       "current": "1691ee48-0f9d-11f0-ac4d-3e7a738eaee3-6-4927-d9f2-e697-8959-26d1-d098",
       "next": "71ba4578-0fab-11f0-ac4d-3e7a738eaee3-5-4636-de2e-9f37-faa9-e13d",
       "previous": "be13dc32-ecd7-11ef-b381-0242ac120006-14-0cdd-9d73-989c-1306-3e4b-9ea4-15c2-eb51-3380-ca65"
      },
      {
       "current": "1691ee48-0f9d-11f0-ac4d-3e7a738eaee3-8-4927-d9f2-e697-8959-26d1-d098-00c1-6549",
       "next": "71ba4578-0fab-11f0-ac4d-3e7a738eaee3-6-4636-de2e-9f37-faa9-e13d-9642",
       "previous": "be13dc32-ecd7-11ef-b381-0242ac120006-15-9d73-989c-1306-3e4b-9ea4-15c2-eb51-3380-ca65-7a59"
      },
      {
       "current": "1691ee48-0f9d-11f0-ac4d-3e7a738eaee3-10-4927-d9f2-e697-8959-26d1-d098-00c1-6549-5fa2-029d",
       "next": "71ba4578-0fab-11f0-ac4d-3e7a738eaee3-8-4636-de2e-9f37-faa9-e13d-9642-faef-5a77",
       "previous": "be13dc32-ecd7-11ef-b381-0242ac120006-17-1306-3e4b-9ea4-15c2-eb51-3380-ca65-7a59-0061-4856"
      },
      {
       "current": "1691ee48-0f9d-11f0-ac4d-3e7a738eaee3-11-d9f2-e697-8959-26d1-d098-00c1-6549-5fa2-029d-99a0",
       "next": "71ba4578-0fab-11f0-ac4d-3e7a738eaee3-10-4636-de2e-9f37-faa9-e13d-9642-faef-5a77-a78c-cd91",
       "previous": "be13dc32-ecd7-11ef-b381-0242ac120006-19-9ea4-15c2-eb51-3380-ca65-7a59-0061-4856-d2d8-b2b2"
      },
      {
       "current": "1691ee48-0f9d-11f0-ac4d-3e7a738eaee3-12-e697-8959-26d1-d098-00c1-6549-5fa2-029d-99a0-a3a7",
       "next": "71ba4578-0fab-11f0-ac4d-3e7a738eaee3-11-de2e-9f37-faa9-e13d-9642-faef-5a77-a78c-cd91-a353",
       "previous": "be13dc32-ecd7-11ef-b381-0242ac120006-20-15c2-eb51-3380-ca65-7a59-0061-4856-d2d8-b2b2-6157"
      },
      {
       "current": "1691ee48-0f9d-11f0-ac4d-3e7a738eaee3-12-e697-8959-26d1-d098-00c1-6549-5fa2-029d-99a0-a3a7",
       "next": "71ba4578-0fab-11f0-ac4d-3e7a738eaee3-12-9f37-faa9-e13d-9642-faef-5a77-a78c-cd91-a353-59ea",
       "previous": "be13dc32-ecd7-11ef-b381-0242ac120006-21-eb51-3380-ca65-7a59-0061-4856-d2d8-b2b2-6157-8dc4"
      },
      {
       "current": "1691ee48-0f9d-11f0-ac4d-3e7a738eaee3-14-26d1-d098-00c1-6549-5fa2-029d-99a0-a3a7-bbcf-04e5",
       "next": "71ba4578-0fab-11f0-ac4d-3e7a738eaee3-12-9f37-faa9-e13d-9642-faef-5a77-a78c-cd91-a353-59ea",
       "previous": "cac026d4-28c3-11f0-84de-32f9ed5d00a6"
      },
      {
       "current": "1691ee48-0f9d-11f0-ac4d-3e7a738eaee3-17-6549-5fa2-029d-99a0-a3a7-bbcf-04e5-909e-a668-8f63",
       "next": "71ba4578-0fab-11f0-ac4d-3e7a738eaee3-14-e13d-9642-faef-5a77-a78c-cd91-a353-59ea-3190-3a0e",
       "previous": "cac026d4-28c3-11f0-84de-32f9ed5d00a6-2-98c6-7724"
      }
     ],
     "next": "71ba4578-0fab-11f0-ac4d-3e7a738eaee3-17-5a77-a78c-cd91-a353-59ea-3190-3a0e-cd16-3a5b-4a58",
     "previous": "cac026d4-28c3-11f0-84de-32f9ed5d00a6-5-98c6-7724-353f-cadd-fcf3"
    },
    "pinnedOutputTabIndex": 0,
    "run_through_control": {
     "frozen": true,
     "read_only": false
    }
   },
   "outputs": [],
   "source": [
    "if s3_access_key_1 is None:\n",
    "    s3_access_key_1 = input(prompt='Amazon S3 Access Key #1')\n",
    "if s3_secret_access_key_1 is None:\n",
    "    s3_secret_access_key_1 = getpass(prompt='Amazon S3 Secret Access Key #1')\n",
    "if s3_default_region_1 is None:\n",
    "    s3_default_region_1 = input(prompt='Amazon S3 Region #1')\n",
    "if s3_test_bucket_name_1 is None:\n",
    "    s3_test_bucket_name_1 = input('Amazon S3 Bucket Name #1')\n",
    "(s3_access_key_1, s3_default_region_1, s3_test_bucket_name_1)"
   ]
  },
  {
   "cell_type": "code",
   "execution_count": 8,
   "id": "553b5b06-38fd-4490-980f-1d26855aa2aa",
   "metadata": {
    "deletable": false,
    "editable": false,
    "lc_cell_meme": {
     "current": "71ba4578-0fab-11f0-ac4d-3e7a738eaee3-17-5a77-a78c-cd91-a353-59ea-3190-3a0e-cd16-3a5b-4a58",
     "execution_end_time": "2025-04-02T21:48:51.541Z",
     "history": [
      {
       "current": "71ba4578-0fab-11f0-ac4d-3e7a738eaee3",
       "next": "4f1d97fa-0c26-11f0-98e9-5e0a5654d7bd-6-4202-aef0-78b6-5218-939f-a0d0",
       "previous": "b97165ca-0fa3-11f0-ac4d-3e7a738eaee3"
      },
      {
       "current": "71ba4578-0fab-11f0-ac4d-3e7a738eaee3",
       "next": "4f1d97fa-0c26-11f0-98e9-5e0a5654d7bd-6-4202-aef0-78b6-5218-939f-a0d0",
       "previous": "1691ee48-0f9d-11f0-ac4d-3e7a738eaee3"
      },
      {
       "current": "71ba4578-0fab-11f0-ac4d-3e7a738eaee3",
       "next": "2f2c5154-0fc1-11f0-ac4d-3e7a738eaee3",
       "previous": "1691ee48-0f9d-11f0-ac4d-3e7a738eaee3"
      },
      {
       "current": "71ba4578-0fab-11f0-ac4d-3e7a738eaee3-1-4636",
       "next": "4f1d97fa-0c26-11f0-98e9-5e0a5654d7bd-6-4202-aef0-78b6-5218-939f-a0d0",
       "previous": "1691ee48-0f9d-11f0-ac4d-3e7a738eaee3"
      },
      {
       "current": "71ba4578-0fab-11f0-ac4d-3e7a738eaee3-3-4636-de2e-9f37",
       "next": "c7ff5410-ecd7-11ef-b381-0242ac120006-10-af71-1d65-ee8f-1faa-f6bd-d018-e727-f89c-c91e-d9cd",
       "previous": "1691ee48-0f9d-11f0-ac4d-3e7a738eaee3-1-4927"
      },
      {
       "current": "71ba4578-0fab-11f0-ac4d-3e7a738eaee3-3-4636-de2e-9f37",
       "next": "c7ff5410-ecd7-11ef-b381-0242ac120006-12-ee8f-1faa-f6bd-d018-e727-f89c-c91e-d9cd-583e-eb7e",
       "previous": "1691ee48-0f9d-11f0-ac4d-3e7a738eaee3-3-4927-d9f2-e697"
      },
      {
       "current": "71ba4578-0fab-11f0-ac4d-3e7a738eaee3-3-4636-de2e-9f37",
       "next": "c0bf013a-10f6-11f0-acfe-1231102d67ae",
       "previous": "1691ee48-0f9d-11f0-ac4d-3e7a738eaee3-3-4927-d9f2-e697"
      },
      {
       "current": "71ba4578-0fab-11f0-ac4d-3e7a738eaee3-3-4636-de2e-9f37",
       "next": "caed385c-10f6-11f0-acfe-1231102d67ae",
       "previous": "1691ee48-0f9d-11f0-ac4d-3e7a738eaee3-3-4927-d9f2-e697"
      },
      {
       "current": "71ba4578-0fab-11f0-ac4d-3e7a738eaee3-3-4636-de2e-9f37",
       "next": "c0bf013a-10f6-11f0-acfe-1231102d67ae",
       "previous": "1691ee48-0f9d-11f0-ac4d-3e7a738eaee3-3-4927-d9f2-e697"
      },
      {
       "current": "71ba4578-0fab-11f0-ac4d-3e7a738eaee3-3-4636-de2e-9f37",
       "next": "caed385c-10f6-11f0-acfe-1231102d67ae-1-55c5",
       "previous": "1691ee48-0f9d-11f0-ac4d-3e7a738eaee3-3-4927-d9f2-e697"
      },
      {
       "current": "71ba4578-0fab-11f0-ac4d-3e7a738eaee3-4-4636-de2e-9f37-faa9",
       "next": "c0bf013a-10f6-11f0-acfe-1231102d67ae",
       "previous": "1691ee48-0f9d-11f0-ac4d-3e7a738eaee3-3-4927-d9f2-e697"
      },
      {
       "current": "71ba4578-0fab-11f0-ac4d-3e7a738eaee3-5-4636-de2e-9f37-faa9-e13d",
       "next": "c0bf013a-10f6-11f0-acfe-1231102d67ae-1-0acd",
       "previous": "1691ee48-0f9d-11f0-ac4d-3e7a738eaee3-4-4927-d9f2-e697-8959"
      },
      {
       "current": "71ba4578-0fab-11f0-ac4d-3e7a738eaee3-6-4636-de2e-9f37-faa9-e13d-9642",
       "next": "c0bf013a-10f6-11f0-acfe-1231102d67ae-2-0acd-814c",
       "previous": "1691ee48-0f9d-11f0-ac4d-3e7a738eaee3-5-4927-d9f2-e697-8959-26d1"
      },
      {
       "current": "71ba4578-0fab-11f0-ac4d-3e7a738eaee3-8-4636-de2e-9f37-faa9-e13d-9642-faef-5a77",
       "next": "c0bf013a-10f6-11f0-acfe-1231102d67ae-3-0acd-814c-9970",
       "previous": "1691ee48-0f9d-11f0-ac4d-3e7a738eaee3-6-4927-d9f2-e697-8959-26d1-d098"
      },
      {
       "current": "71ba4578-0fab-11f0-ac4d-3e7a738eaee3-10-4636-de2e-9f37-faa9-e13d-9642-faef-5a77-a78c-cd91",
       "next": "c0bf013a-10f6-11f0-acfe-1231102d67ae-5-0acd-814c-9970-9597-89f6",
       "previous": "1691ee48-0f9d-11f0-ac4d-3e7a738eaee3-8-4927-d9f2-e697-8959-26d1-d098-00c1-6549"
      },
      {
       "current": "71ba4578-0fab-11f0-ac4d-3e7a738eaee3-11-de2e-9f37-faa9-e13d-9642-faef-5a77-a78c-cd91-a353",
       "next": "c0bf013a-10f6-11f0-acfe-1231102d67ae-7-0acd-814c-9970-9597-89f6-7819-0795",
       "previous": "1691ee48-0f9d-11f0-ac4d-3e7a738eaee3-10-4927-d9f2-e697-8959-26d1-d098-00c1-6549-5fa2-029d"
      },
      {
       "current": "71ba4578-0fab-11f0-ac4d-3e7a738eaee3-12-9f37-faa9-e13d-9642-faef-5a77-a78c-cd91-a353-59ea",
       "next": "1691ee48-0f9d-11f0-ac4d-3e7a738eaee3-12-e697-8959-26d1-d098-00c1-6549-5fa2-029d-99a0-df3b",
       "previous": "1691ee48-0f9d-11f0-ac4d-3e7a738eaee3-11-d9f2-e697-8959-26d1-d098-00c1-6549-5fa2-029d-99a0"
      },
      {
       "current": "71ba4578-0fab-11f0-ac4d-3e7a738eaee3-14-e13d-9642-faef-5a77-a78c-cd91-a353-59ea-3190-3a0e",
       "next": "1691ee48-0f9d-11f0-ac4d-3e7a738eaee3-13-8959-26d1-d098-00c1-6549-5fa2-029d-99a0-df3b-8719",
       "previous": "1691ee48-0f9d-11f0-ac4d-3e7a738eaee3-12-e697-8959-26d1-d098-00c1-6549-5fa2-029d-99a0-a3a7"
      },
      {
       "current": "71ba4578-0fab-11f0-ac4d-3e7a738eaee3-17-5a77-a78c-cd91-a353-59ea-3190-3a0e-cd16-3a5b-4a58",
       "next": "1691ee48-0f9d-11f0-ac4d-3e7a738eaee3-15-d098-00c1-6549-5fa2-029d-99a0-df3b-8719-3af2-e2dd",
       "previous": "1691ee48-0f9d-11f0-ac4d-3e7a738eaee3-14-26d1-d098-00c1-6549-5fa2-029d-99a0-a3a7-bbcf-04e5"
      }
     ],
     "next": "1691ee48-0f9d-11f0-ac4d-3e7a738eaee3-18-5fa2-029d-99a0-df3b-8719-3af2-e2dd-a07a-cea3-ef71",
     "previous": "1691ee48-0f9d-11f0-ac4d-3e7a738eaee3-17-6549-5fa2-029d-99a0-a3a7-bbcf-04e5-909e-a668-8f63"
    },
    "pinnedOutputTabIndex": 0,
    "run_through_control": {
     "frozen": true,
     "read_only": false
    }
   },
   "outputs": [],
   "source": [
    "# S3認証キー #2 は #1 と異なるアカウントのものである必要あり\n",
    "if s3_access_key_2 is None:\n",
    "    s3_access_key_2 = input(prompt='Amazon S3 Access Key #2')\n",
    "if s3_secret_access_key_2 is None:\n",
    "    s3_secret_access_key_2 = getpass(prompt='Amazon S3 Secret Access Key #2')\n",
    "if s3_default_region_2 is None:\n",
    "    s3_default_region_2 = input(prompt='Amazon S3 Region #2')\n",
    "if s3_test_bucket_name_2 is None:\n",
    "    s3_test_bucket_name_2 = input('Amazon S3 Bucket Name #2')\n",
    "(s3_access_key_2, s3_default_region_2, s3_test_bucket_name_2)"
   ]
  },
  {
   "cell_type": "code",
   "execution_count": 9,
   "id": "04c3c0b4-d820-48b8-aaaf-77ae1437d9c7",
   "metadata": {
    "deletable": false,
    "editable": false,
    "lc_cell_meme": {
     "current": "1691ee48-0f9d-11f0-ac4d-3e7a738eaee3-18-5fa2-029d-99a0-df3b-8719-3af2-e2dd-a07a-cea3-ef71",
     "execution_end_time": "2025-04-19T02:40:13.573Z",
     "history": [
      {
       "current": "1691ee48-0f9d-11f0-ac4d-3e7a738eaee3",
       "next": "4f1d97fa-0c26-11f0-98e9-5e0a5654d7bd-6-4202-aef0-78b6-5218-939f-a0d0",
       "previous": "9a6a67cc-0c28-11f0-98e9-5e0a5654d7bd-5-3215-63a8-9043-4ba3-9c01"
      },
      {
       "current": "1691ee48-0f9d-11f0-ac4d-3e7a738eaee3",
       "next": "b97165ca-0fa3-11f0-ac4d-3e7a738eaee3",
       "previous": "9a6a67cc-0c28-11f0-98e9-5e0a5654d7bd-5-3215-63a8-9043-4ba3-9c01"
      },
      {
       "current": "1691ee48-0f9d-11f0-ac4d-3e7a738eaee3-1-4927",
       "next": "71ba4578-0fab-11f0-ac4d-3e7a738eaee3",
       "previous": "9a6a67cc-0c28-11f0-98e9-5e0a5654d7bd-5-3215-63a8-9043-4ba3-9c01"
      },
      {
       "current": "1691ee48-0f9d-11f0-ac4d-3e7a738eaee3-3-4927-d9f2-e697",
       "next": "71ba4578-0fab-11f0-ac4d-3e7a738eaee3-1-4636",
       "previous": "be13dc32-ecd7-11ef-b381-0242ac120006-10-f4a9-da30-14ab-853b-0cdd-9d73-989c-1306-3e4b-9ea4"
      },
      {
       "current": "1691ee48-0f9d-11f0-ac4d-3e7a738eaee3-4-4927-d9f2-e697-8959",
       "next": "71ba4578-0fab-11f0-ac4d-3e7a738eaee3-3-4636-de2e-9f37",
       "previous": "be13dc32-ecd7-11ef-b381-0242ac120006-12-14ab-853b-0cdd-9d73-989c-1306-3e4b-9ea4-15c2-eb51"
      },
      {
       "current": "1691ee48-0f9d-11f0-ac4d-3e7a738eaee3-5-4927-d9f2-e697-8959-26d1",
       "next": "71ba4578-0fab-11f0-ac4d-3e7a738eaee3-4-4636-de2e-9f37-faa9",
       "previous": "be13dc32-ecd7-11ef-b381-0242ac120006-13-853b-0cdd-9d73-989c-1306-3e4b-9ea4-15c2-eb51-3380"
      },
      {
       "current": "1691ee48-0f9d-11f0-ac4d-3e7a738eaee3-6-4927-d9f2-e697-8959-26d1-d098",
       "next": "71ba4578-0fab-11f0-ac4d-3e7a738eaee3-5-4636-de2e-9f37-faa9-e13d",
       "previous": "be13dc32-ecd7-11ef-b381-0242ac120006-14-0cdd-9d73-989c-1306-3e4b-9ea4-15c2-eb51-3380-ca65"
      },
      {
       "current": "1691ee48-0f9d-11f0-ac4d-3e7a738eaee3-8-4927-d9f2-e697-8959-26d1-d098-00c1-6549",
       "next": "71ba4578-0fab-11f0-ac4d-3e7a738eaee3-6-4636-de2e-9f37-faa9-e13d-9642",
       "previous": "be13dc32-ecd7-11ef-b381-0242ac120006-15-9d73-989c-1306-3e4b-9ea4-15c2-eb51-3380-ca65-7a59"
      },
      {
       "current": "1691ee48-0f9d-11f0-ac4d-3e7a738eaee3-10-4927-d9f2-e697-8959-26d1-d098-00c1-6549-5fa2-029d",
       "next": "71ba4578-0fab-11f0-ac4d-3e7a738eaee3-8-4636-de2e-9f37-faa9-e13d-9642-faef-5a77",
       "previous": "be13dc32-ecd7-11ef-b381-0242ac120006-17-1306-3e4b-9ea4-15c2-eb51-3380-ca65-7a59-0061-4856"
      },
      {
       "current": "1691ee48-0f9d-11f0-ac4d-3e7a738eaee3-12-e697-8959-26d1-d098-00c1-6549-5fa2-029d-99a0-df3b",
       "next": "71ba4578-0fab-11f0-ac4d-3e7a738eaee3-10-4636-de2e-9f37-faa9-e13d-9642-faef-5a77-a78c-cd91",
       "previous": "be13dc32-ecd7-11ef-b381-0242ac120006-19-9ea4-15c2-eb51-3380-ca65-7a59-0061-4856-d2d8-b2b2"
      },
      {
       "current": "1691ee48-0f9d-11f0-ac4d-3e7a738eaee3-13-8959-26d1-d098-00c1-6549-5fa2-029d-99a0-df3b-8719",
       "next": "71ba4578-0fab-11f0-ac4d-3e7a738eaee3-12-9f37-faa9-e13d-9642-faef-5a77-a78c-cd91-a353-6f68",
       "previous": "71ba4578-0fab-11f0-ac4d-3e7a738eaee3-11-de2e-9f37-faa9-e13d-9642-faef-5a77-a78c-cd91-a353"
      },
      {
       "current": "1691ee48-0f9d-11f0-ac4d-3e7a738eaee3-15-d098-00c1-6549-5fa2-029d-99a0-df3b-8719-3af2-e2dd",
       "next": "71ba4578-0fab-11f0-ac4d-3e7a738eaee3-13-faa9-e13d-9642-faef-5a77-a78c-cd91-a353-6f68-0b39",
       "previous": "71ba4578-0fab-11f0-ac4d-3e7a738eaee3-12-9f37-faa9-e13d-9642-faef-5a77-a78c-cd91-a353-59ea"
      },
      {
       "current": "1691ee48-0f9d-11f0-ac4d-3e7a738eaee3-18-5fa2-029d-99a0-df3b-8719-3af2-e2dd-a07a-cea3-ef71",
       "next": "71ba4578-0fab-11f0-ac4d-3e7a738eaee3-15-9642-faef-5a77-a78c-cd91-a353-6f68-0b39-ebf2-ba9f",
       "previous": "71ba4578-0fab-11f0-ac4d-3e7a738eaee3-14-e13d-9642-faef-5a77-a78c-cd91-a353-59ea-3190-3a0e"
      }
     ],
     "next": "71ba4578-0fab-11f0-ac4d-3e7a738eaee3-18-a78c-cd91-a353-6f68-0b39-ebf2-ba9f-7fa7-ac68-257f",
     "previous": "71ba4578-0fab-11f0-ac4d-3e7a738eaee3-17-5a77-a78c-cd91-a353-59ea-3190-3a0e-cd16-3a5b-4a58"
    },
    "pinnedOutputTabIndex": 0,
    "run_through_control": {
     "frozen": true,
     "read_only": false
    }
   },
   "outputs": [
    {
     "data": {
      "text/plain": [
       "('72EX94UKB1BBM5CMFQOA', '', 'grdm-system-test-selenium')"
      ]
     },
     "execution_count": 9,
     "metadata": {},
     "output_type": "execute_result"
    }
   ],
   "source": [
    "if s3compat_access_key_1 is None:\n",
    "    s3compat_access_key_1 = input(prompt='S3 Compatible Storage Access Key #1')\n",
    "if s3compat_secret_access_key_1 is None:\n",
    "    s3compat_secret_access_key_1 = getpass(prompt='S3 Compatible Storage Secret Access Key #1')\n",
    "if s3compat_default_region_1 is None:\n",
    "    s3compat_default_region_1 = ''\n",
    "if s3compat_test_bucket_name_1 is None:\n",
    "    s3compat_test_bucket_name_1 = input('S3 Compatible Storage Bucket Name #1')\n",
    "(s3compat_access_key_1, s3compat_default_region_1, s3compat_test_bucket_name_1)"
   ]
  },
  {
   "cell_type": "code",
   "execution_count": 10,
   "id": "fe4e604d-2f4c-4b09-a9c1-f243a73be0a7",
   "metadata": {
    "deletable": false,
    "editable": false,
    "lc_cell_meme": {
     "current": "71ba4578-0fab-11f0-ac4d-3e7a738eaee3-18-a78c-cd91-a353-6f68-0b39-ebf2-ba9f-7fa7-ac68-257f",
     "execution_end_time": "2025-04-19T02:40:13.597Z",
     "history": [
      {
       "current": "71ba4578-0fab-11f0-ac4d-3e7a738eaee3",
       "next": "4f1d97fa-0c26-11f0-98e9-5e0a5654d7bd-6-4202-aef0-78b6-5218-939f-a0d0",
       "previous": "b97165ca-0fa3-11f0-ac4d-3e7a738eaee3"
      },
      {
       "current": "71ba4578-0fab-11f0-ac4d-3e7a738eaee3",
       "next": "4f1d97fa-0c26-11f0-98e9-5e0a5654d7bd-6-4202-aef0-78b6-5218-939f-a0d0",
       "previous": "1691ee48-0f9d-11f0-ac4d-3e7a738eaee3"
      },
      {
       "current": "71ba4578-0fab-11f0-ac4d-3e7a738eaee3",
       "next": "2f2c5154-0fc1-11f0-ac4d-3e7a738eaee3",
       "previous": "1691ee48-0f9d-11f0-ac4d-3e7a738eaee3"
      },
      {
       "current": "71ba4578-0fab-11f0-ac4d-3e7a738eaee3-1-4636",
       "next": "4f1d97fa-0c26-11f0-98e9-5e0a5654d7bd-6-4202-aef0-78b6-5218-939f-a0d0",
       "previous": "1691ee48-0f9d-11f0-ac4d-3e7a738eaee3"
      },
      {
       "current": "71ba4578-0fab-11f0-ac4d-3e7a738eaee3-3-4636-de2e-9f37",
       "next": "c7ff5410-ecd7-11ef-b381-0242ac120006-10-af71-1d65-ee8f-1faa-f6bd-d018-e727-f89c-c91e-d9cd",
       "previous": "1691ee48-0f9d-11f0-ac4d-3e7a738eaee3-1-4927"
      },
      {
       "current": "71ba4578-0fab-11f0-ac4d-3e7a738eaee3-3-4636-de2e-9f37",
       "next": "c7ff5410-ecd7-11ef-b381-0242ac120006-12-ee8f-1faa-f6bd-d018-e727-f89c-c91e-d9cd-583e-eb7e",
       "previous": "1691ee48-0f9d-11f0-ac4d-3e7a738eaee3-3-4927-d9f2-e697"
      },
      {
       "current": "71ba4578-0fab-11f0-ac4d-3e7a738eaee3-3-4636-de2e-9f37",
       "next": "c0bf013a-10f6-11f0-acfe-1231102d67ae",
       "previous": "1691ee48-0f9d-11f0-ac4d-3e7a738eaee3-3-4927-d9f2-e697"
      },
      {
       "current": "71ba4578-0fab-11f0-ac4d-3e7a738eaee3-3-4636-de2e-9f37",
       "next": "caed385c-10f6-11f0-acfe-1231102d67ae",
       "previous": "1691ee48-0f9d-11f0-ac4d-3e7a738eaee3-3-4927-d9f2-e697"
      },
      {
       "current": "71ba4578-0fab-11f0-ac4d-3e7a738eaee3-3-4636-de2e-9f37",
       "next": "c0bf013a-10f6-11f0-acfe-1231102d67ae",
       "previous": "1691ee48-0f9d-11f0-ac4d-3e7a738eaee3-3-4927-d9f2-e697"
      },
      {
       "current": "71ba4578-0fab-11f0-ac4d-3e7a738eaee3-3-4636-de2e-9f37",
       "next": "caed385c-10f6-11f0-acfe-1231102d67ae-1-55c5",
       "previous": "1691ee48-0f9d-11f0-ac4d-3e7a738eaee3-3-4927-d9f2-e697"
      },
      {
       "current": "71ba4578-0fab-11f0-ac4d-3e7a738eaee3-4-4636-de2e-9f37-faa9",
       "next": "c0bf013a-10f6-11f0-acfe-1231102d67ae",
       "previous": "1691ee48-0f9d-11f0-ac4d-3e7a738eaee3-3-4927-d9f2-e697"
      },
      {
       "current": "71ba4578-0fab-11f0-ac4d-3e7a738eaee3-5-4636-de2e-9f37-faa9-e13d",
       "next": "c0bf013a-10f6-11f0-acfe-1231102d67ae-1-0acd",
       "previous": "1691ee48-0f9d-11f0-ac4d-3e7a738eaee3-4-4927-d9f2-e697-8959"
      },
      {
       "current": "71ba4578-0fab-11f0-ac4d-3e7a738eaee3-6-4636-de2e-9f37-faa9-e13d-9642",
       "next": "c0bf013a-10f6-11f0-acfe-1231102d67ae-2-0acd-814c",
       "previous": "1691ee48-0f9d-11f0-ac4d-3e7a738eaee3-5-4927-d9f2-e697-8959-26d1"
      },
      {
       "current": "71ba4578-0fab-11f0-ac4d-3e7a738eaee3-8-4636-de2e-9f37-faa9-e13d-9642-faef-5a77",
       "next": "c0bf013a-10f6-11f0-acfe-1231102d67ae-3-0acd-814c-9970",
       "previous": "1691ee48-0f9d-11f0-ac4d-3e7a738eaee3-6-4927-d9f2-e697-8959-26d1-d098"
      },
      {
       "current": "71ba4578-0fab-11f0-ac4d-3e7a738eaee3-10-4636-de2e-9f37-faa9-e13d-9642-faef-5a77-a78c-cd91",
       "next": "c0bf013a-10f6-11f0-acfe-1231102d67ae-5-0acd-814c-9970-9597-89f6",
       "previous": "1691ee48-0f9d-11f0-ac4d-3e7a738eaee3-8-4927-d9f2-e697-8959-26d1-d098-00c1-6549"
      },
      {
       "current": "71ba4578-0fab-11f0-ac4d-3e7a738eaee3-12-9f37-faa9-e13d-9642-faef-5a77-a78c-cd91-a353-6f68",
       "next": "c0bf013a-10f6-11f0-acfe-1231102d67ae-7-0acd-814c-9970-9597-89f6-7819-0795",
       "previous": "1691ee48-0f9d-11f0-ac4d-3e7a738eaee3-10-4927-d9f2-e697-8959-26d1-d098-00c1-6549-5fa2-029d"
      },
      {
       "current": "71ba4578-0fab-11f0-ac4d-3e7a738eaee3-13-faa9-e13d-9642-faef-5a77-a78c-cd91-a353-6f68-0b39",
       "next": "c0bf013a-10f6-11f0-acfe-1231102d67ae-8-0acd-814c-9970-9597-89f6-7819-0795-9908",
       "previous": "1691ee48-0f9d-11f0-ac4d-3e7a738eaee3-12-e697-8959-26d1-d098-00c1-6549-5fa2-029d-99a0-df3b"
      },
      {
       "current": "71ba4578-0fab-11f0-ac4d-3e7a738eaee3-15-9642-faef-5a77-a78c-cd91-a353-6f68-0b39-ebf2-ba9f",
       "next": "c0bf013a-10f6-11f0-acfe-1231102d67ae-9-0acd-814c-9970-9597-89f6-7819-0795-9908-5fbd",
       "previous": "1691ee48-0f9d-11f0-ac4d-3e7a738eaee3-13-8959-26d1-d098-00c1-6549-5fa2-029d-99a0-df3b-8719"
      },
      {
       "current": "71ba4578-0fab-11f0-ac4d-3e7a738eaee3-18-a78c-cd91-a353-6f68-0b39-ebf2-ba9f-7fa7-ac68-257f",
       "next": "c0bf013a-10f6-11f0-acfe-1231102d67ae-11-814c-9970-9597-89f6-7819-0795-9908-5fbd-d217-eca2",
       "previous": "1691ee48-0f9d-11f0-ac4d-3e7a738eaee3-15-d098-00c1-6549-5fa2-029d-99a0-df3b-8719-3af2-e2dd"
      }
     ],
     "next": "c0bf013a-10f6-11f0-acfe-1231102d67ae-14-89f6-7819-0795-9908-5fbd-d217-eca2-2078-fdc2-6b32",
     "previous": "1691ee48-0f9d-11f0-ac4d-3e7a738eaee3-18-5fa2-029d-99a0-df3b-8719-3af2-e2dd-a07a-cea3-ef71"
    },
    "pinnedOutputTabIndex": 0,
    "run_through_control": {
     "frozen": true,
     "read_only": false
    }
   },
   "outputs": [
    {
     "data": {
      "text/plain": [
       "('DE367XHQWCLCJMUM191I', '', 'grdm-test-bucket')"
      ]
     },
     "execution_count": 10,
     "metadata": {},
     "output_type": "execute_result"
    }
   ],
   "source": [
    "# S3認証キー #2 は #1 と異なるアカウントのものである必要あり\n",
    "if s3compat_access_key_2 is None:\n",
    "    s3compat_access_key_2 = input(prompt='S3 Compatible Storage Access Key #2')\n",
    "if s3compat_secret_access_key_2 is None:\n",
    "    s3compat_secret_access_key_2 = getpass(prompt='S3 Compatible Storage Secret Access Key #2')\n",
    "if s3compat_default_region_2 is None:\n",
    "    s3compat_default_region_2 = ''\n",
    "if s3compat_test_bucket_name_2 is None:\n",
    "    s3compat_test_bucket_name_2 = input('S3 Compatible Storage Bucket Name #2')\n",
    "(s3compat_access_key_2, s3compat_default_region_2, s3compat_test_bucket_name_2)"
   ]
  },
  {
   "cell_type": "code",
   "execution_count": 11,
   "id": "6969bc3f-191d-40eb-a079-30666b5f8c72",
   "metadata": {
    "deletable": false,
    "editable": false,
    "lc_cell_meme": {
     "current": "c0bf013a-10f6-11f0-acfe-1231102d67ae-14-89f6-7819-0795-9908-5fbd-d217-eca2-2078-fdc2-6b32",
     "execution_end_time": "2025-04-04T06:26:05.576Z",
     "history": [
      {
       "current": "c0bf013a-10f6-11f0-acfe-1231102d67ae",
       "next": "c7ff5410-ecd7-11ef-b381-0242ac120006-12-ee8f-1faa-f6bd-d018-e727-f89c-c91e-d9cd-583e-eb7e",
       "previous": "71ba4578-0fab-11f0-ac4d-3e7a738eaee3-3-4636-de2e-9f37"
      },
      {
       "current": "c0bf013a-10f6-11f0-acfe-1231102d67ae",
       "next": "c7ff5410-ecd7-11ef-b381-0242ac120006-12-ee8f-1faa-f6bd-d018-e727-f89c-c91e-d9cd-583e-eb7e",
       "previous": "caed385c-10f6-11f0-acfe-1231102d67ae"
      },
      {
       "current": "c0bf013a-10f6-11f0-acfe-1231102d67ae",
       "next": "c7ff5410-ecd7-11ef-b381-0242ac120006-12-ee8f-1faa-f6bd-d018-e727-f89c-c91e-d9cd-583e-eb7e",
       "previous": "71ba4578-0fab-11f0-ac4d-3e7a738eaee3-3-4636-de2e-9f37"
      },
      {
       "current": "c0bf013a-10f6-11f0-acfe-1231102d67ae",
       "next": "c7ff5410-ecd7-11ef-b381-0242ac120006-12-ee8f-1faa-f6bd-d018-e727-f89c-c91e-d9cd-583e-eb7e",
       "previous": "caed385c-10f6-11f0-acfe-1231102d67ae-1-55c5"
      },
      {
       "current": "c0bf013a-10f6-11f0-acfe-1231102d67ae",
       "next": "c7ff5410-ecd7-11ef-b381-0242ac120006-12-ee8f-1faa-f6bd-d018-e727-f89c-c91e-d9cd-583e-eb7e",
       "previous": "71ba4578-0fab-11f0-ac4d-3e7a738eaee3-3-4636-de2e-9f37"
      },
      {
       "current": "c0bf013a-10f6-11f0-acfe-1231102d67ae-1-0acd",
       "next": "3ebef6f4-1114-11f0-acfe-1231102d67ae",
       "previous": "71ba4578-0fab-11f0-ac4d-3e7a738eaee3-3-4636-de2e-9f37"
      },
      {
       "current": "c0bf013a-10f6-11f0-acfe-1231102d67ae-2-0acd-814c",
       "next": "3ebef6f4-1114-11f0-acfe-1231102d67ae-1-6846",
       "previous": "71ba4578-0fab-11f0-ac4d-3e7a738eaee3-4-4636-de2e-9f37-faa9"
      },
      {
       "current": "c0bf013a-10f6-11f0-acfe-1231102d67ae-3-0acd-814c-9970",
       "next": "3ebef6f4-1114-11f0-acfe-1231102d67ae-2-6846-97c6",
       "previous": "71ba4578-0fab-11f0-ac4d-3e7a738eaee3-5-4636-de2e-9f37-faa9-e13d"
      },
      {
       "current": "c0bf013a-10f6-11f0-acfe-1231102d67ae-5-0acd-814c-9970-9597-89f6",
       "next": "3ebef6f4-1114-11f0-acfe-1231102d67ae-3-6846-97c6-94a6",
       "previous": "71ba4578-0fab-11f0-ac4d-3e7a738eaee3-6-4636-de2e-9f37-faa9-e13d-9642"
      },
      {
       "current": "c0bf013a-10f6-11f0-acfe-1231102d67ae-7-0acd-814c-9970-9597-89f6-7819-0795",
       "next": "3ebef6f4-1114-11f0-acfe-1231102d67ae-5-6846-97c6-94a6-0059-d5a4",
       "previous": "71ba4578-0fab-11f0-ac4d-3e7a738eaee3-8-4636-de2e-9f37-faa9-e13d-9642-faef-5a77"
      },
      {
       "current": "c0bf013a-10f6-11f0-acfe-1231102d67ae-8-0acd-814c-9970-9597-89f6-7819-0795-9908",
       "next": "3ebef6f4-1114-11f0-acfe-1231102d67ae-7-6846-97c6-94a6-0059-d5a4-719b-4f72",
       "previous": "71ba4578-0fab-11f0-ac4d-3e7a738eaee3-10-4636-de2e-9f37-faa9-e13d-9642-faef-5a77-a78c-cd91"
      },
      {
       "current": "c0bf013a-10f6-11f0-acfe-1231102d67ae-9-0acd-814c-9970-9597-89f6-7819-0795-9908-5fbd",
       "next": "3ebef6f4-1114-11f0-acfe-1231102d67ae-8-6846-97c6-94a6-0059-d5a4-719b-4f72-4aec",
       "previous": "71ba4578-0fab-11f0-ac4d-3e7a738eaee3-12-9f37-faa9-e13d-9642-faef-5a77-a78c-cd91-a353-6f68"
      },
      {
       "current": "c0bf013a-10f6-11f0-acfe-1231102d67ae-11-814c-9970-9597-89f6-7819-0795-9908-5fbd-d217-eca2",
       "next": "3ebef6f4-1114-11f0-acfe-1231102d67ae-9-6846-97c6-94a6-0059-d5a4-719b-4f72-4aec-ef02",
       "previous": "71ba4578-0fab-11f0-ac4d-3e7a738eaee3-13-faa9-e13d-9642-faef-5a77-a78c-cd91-a353-6f68-0b39"
      },
      {
       "current": "c0bf013a-10f6-11f0-acfe-1231102d67ae-14-89f6-7819-0795-9908-5fbd-d217-eca2-2078-fdc2-6b32",
       "next": "3ebef6f4-1114-11f0-acfe-1231102d67ae-11-97c6-94a6-0059-d5a4-719b-4f72-4aec-ef02-e6cf-ce8e",
       "previous": "71ba4578-0fab-11f0-ac4d-3e7a738eaee3-15-9642-faef-5a77-a78c-cd91-a353-6f68-0b39-ebf2-ba9f"
      }
     ],
     "next": "3ebef6f4-1114-11f0-acfe-1231102d67ae-14-d5a4-719b-4f72-4aec-ef02-e6cf-ce8e-3850-a631-bbb2",
     "previous": "71ba4578-0fab-11f0-ac4d-3e7a738eaee3-18-a78c-cd91-a353-6f68-0b39-ebf2-ba9f-7fa7-ac68-257f"
    },
    "pinnedOutputTabIndex": 0,
    "run_through_control": {
     "frozen": true,
     "read_only": false
    }
   },
   "outputs": [
    {
     "data": {
      "text/plain": [
       "('RDM1', 'RDM2')"
      ]
     },
     "execution_count": 11,
     "metadata": {},
     "output_type": "execute_result"
    }
   ],
   "source": [
    "if dropbox_folder_1 is None:\n",
    "    dropbox_folder_1 = input(prompt='Dropbox Folder #1')\n",
    "if dropbox_folder_2 is None:\n",
    "    dropbox_folder_2 = input(prompt='Dropbox Folder #2')\n",
    "(dropbox_folder_1, dropbox_folder_2)"
   ]
  },
  {
   "cell_type": "code",
   "execution_count": 12,
   "id": "0dbadae9-db0d-4b6d-9177-fb8e69aca73e",
   "metadata": {
    "deletable": false,
    "editable": false,
    "lc_cell_meme": {
     "current": "3ebef6f4-1114-11f0-acfe-1231102d67ae-14-d5a4-719b-4f72-4aec-ef02-e6cf-ce8e-3850-a631-bbb2",
     "execution_end_time": "2025-04-04T06:26:11.921Z",
     "history": [
      {
       "current": "3ebef6f4-1114-11f0-acfe-1231102d67ae-1-6846",
       "next": "c7ff5410-ecd7-11ef-b381-0242ac120006-12-ee8f-1faa-f6bd-d018-e727-f89c-c91e-d9cd-583e-eb7e",
       "previous": "c0bf013a-10f6-11f0-acfe-1231102d67ae"
      },
      {
       "current": "3ebef6f4-1114-11f0-acfe-1231102d67ae-2-6846-97c6",
       "next": "64a19b62-1153-11f0-b2ca-76718da5da48",
       "previous": "c0bf013a-10f6-11f0-acfe-1231102d67ae-1-0acd"
      },
      {
       "current": "3ebef6f4-1114-11f0-acfe-1231102d67ae-3-6846-97c6-94a6",
       "next": "64a19b62-1153-11f0-b2ca-76718da5da48-1-34d2",
       "previous": "c0bf013a-10f6-11f0-acfe-1231102d67ae-2-0acd-814c"
      },
      {
       "current": "3ebef6f4-1114-11f0-acfe-1231102d67ae-5-6846-97c6-94a6-0059-d5a4",
       "next": "64a19b62-1153-11f0-b2ca-76718da5da48-2-34d2-50c8",
       "previous": "c0bf013a-10f6-11f0-acfe-1231102d67ae-3-0acd-814c-9970"
      },
      {
       "current": "3ebef6f4-1114-11f0-acfe-1231102d67ae-7-6846-97c6-94a6-0059-d5a4-719b-4f72",
       "next": "64a19b62-1153-11f0-b2ca-76718da5da48-4-34d2-50c8-b861-6567",
       "previous": "c0bf013a-10f6-11f0-acfe-1231102d67ae-5-0acd-814c-9970-9597-89f6"
      },
      {
       "current": "3ebef6f4-1114-11f0-acfe-1231102d67ae-8-6846-97c6-94a6-0059-d5a4-719b-4f72-4aec",
       "next": "64a19b62-1153-11f0-b2ca-76718da5da48-6-34d2-50c8-b861-6567-101d-fbf4",
       "previous": "c0bf013a-10f6-11f0-acfe-1231102d67ae-7-0acd-814c-9970-9597-89f6-7819-0795"
      },
      {
       "current": "3ebef6f4-1114-11f0-acfe-1231102d67ae-9-6846-97c6-94a6-0059-d5a4-719b-4f72-4aec-ef02",
       "next": "64a19b62-1153-11f0-b2ca-76718da5da48-7-34d2-50c8-b861-6567-101d-fbf4-f9be",
       "previous": "c0bf013a-10f6-11f0-acfe-1231102d67ae-8-0acd-814c-9970-9597-89f6-7819-0795-9908"
      },
      {
       "current": "3ebef6f4-1114-11f0-acfe-1231102d67ae-11-97c6-94a6-0059-d5a4-719b-4f72-4aec-ef02-e6cf-ce8e",
       "next": "64a19b62-1153-11f0-b2ca-76718da5da48-8-34d2-50c8-b861-6567-101d-fbf4-f9be-4290",
       "previous": "c0bf013a-10f6-11f0-acfe-1231102d67ae-9-0acd-814c-9970-9597-89f6-7819-0795-9908-5fbd"
      },
      {
       "current": "3ebef6f4-1114-11f0-acfe-1231102d67ae-14-d5a4-719b-4f72-4aec-ef02-e6cf-ce8e-3850-a631-bbb2",
       "next": "64a19b62-1153-11f0-b2ca-76718da5da48-10-34d2-50c8-b861-6567-101d-fbf4-f9be-4290-72ae-c754",
       "previous": "c0bf013a-10f6-11f0-acfe-1231102d67ae-11-814c-9970-9597-89f6-7819-0795-9908-5fbd-d217-eca2"
      }
     ],
     "next": "64a19b62-1153-11f0-b2ca-76718da5da48-13-6567-101d-fbf4-f9be-4290-72ae-c754-2b31-af19-5dbe",
     "previous": "c0bf013a-10f6-11f0-acfe-1231102d67ae-14-89f6-7819-0795-9908-5fbd-d217-eca2-2078-fdc2-6b32"
    },
    "pinnedOutputTabIndex": 0,
    "run_through_control": {
     "frozen": true,
     "read_only": false
    }
   },
   "outputs": [
    {
     "data": {
      "text/plain": [
       "('RDM1', 'RDM2')"
      ]
     },
     "execution_count": 12,
     "metadata": {},
     "output_type": "execute_result"
    }
   ],
   "source": [
    "if googledrive_folder_1 is None:\n",
    "    googledrive_folder_1 = input(prompt='Google Drive Folder #1')\n",
    "if googledrive_folder_2 is None:\n",
    "    googledrive_folder_2 = input(prompt='Google Drive Folder #2')\n",
    "(googledrive_folder_1, googledrive_folder_2)"
   ]
  },
  {
   "cell_type": "code",
   "execution_count": 13,
   "id": "25ef6ce9-0869-4e25-9091-bdc062f2d985",
   "metadata": {
    "deletable": false,
    "editable": false,
    "lc_cell_meme": {
     "current": "64a19b62-1153-11f0-b2ca-76718da5da48-13-6567-101d-fbf4-f9be-4290-72ae-c754-2b31-af19-5dbe",
     "execution_end_time": "2025-04-04T12:52:15.839Z",
     "history": [
      {
       "current": "64a19b62-1153-11f0-b2ca-76718da5da48-1-34d2",
       "next": "c7ff5410-ecd7-11ef-b381-0242ac120006-13-1faa-f6bd-d018-e727-f89c-c91e-d9cd-583e-eb7e-349a",
       "previous": "3ebef6f4-1114-11f0-acfe-1231102d67ae-1-6846"
      },
      {
       "current": "64a19b62-1153-11f0-b2ca-76718da5da48-2-34d2-50c8",
       "next": "c7ff5410-ecd7-11ef-b381-0242ac120006-14-f6bd-d018-e727-f89c-c91e-d9cd-583e-eb7e-349a-9e83",
       "previous": "3ebef6f4-1114-11f0-acfe-1231102d67ae-2-6846-97c6"
      },
      {
       "current": "64a19b62-1153-11f0-b2ca-76718da5da48-4-34d2-50c8-b861-6567",
       "next": "c7ff5410-ecd7-11ef-b381-0242ac120006-15-d018-e727-f89c-c91e-d9cd-583e-eb7e-349a-9e83-eb2b",
       "previous": "3ebef6f4-1114-11f0-acfe-1231102d67ae-3-6846-97c6-94a6"
      },
      {
       "current": "64a19b62-1153-11f0-b2ca-76718da5da48-6-34d2-50c8-b861-6567-101d-fbf4",
       "next": "4bac91ec-1c26-11f0-baf6-eaf1011eb67f",
       "previous": "3ebef6f4-1114-11f0-acfe-1231102d67ae-5-6846-97c6-94a6-0059-d5a4"
      },
      {
       "current": "64a19b62-1153-11f0-b2ca-76718da5da48-7-34d2-50c8-b861-6567-101d-fbf4-f9be",
       "next": "4bac91ec-1c26-11f0-baf6-eaf1011eb67f-2-06c5-195d",
       "previous": "3ebef6f4-1114-11f0-acfe-1231102d67ae-7-6846-97c6-94a6-0059-d5a4-719b-4f72"
      },
      {
       "current": "64a19b62-1153-11f0-b2ca-76718da5da48-8-34d2-50c8-b861-6567-101d-fbf4-f9be-4290",
       "next": "4bac91ec-1c26-11f0-baf6-eaf1011eb67f-3-06c5-195d-e86f",
       "previous": "3ebef6f4-1114-11f0-acfe-1231102d67ae-8-6846-97c6-94a6-0059-d5a4-719b-4f72-4aec"
      },
      {
       "current": "64a19b62-1153-11f0-b2ca-76718da5da48-10-34d2-50c8-b861-6567-101d-fbf4-f9be-4290-72ae-c754",
       "next": "4bac91ec-1c26-11f0-baf6-eaf1011eb67f-4-06c5-195d-e86f-4b49",
       "previous": "3ebef6f4-1114-11f0-acfe-1231102d67ae-9-6846-97c6-94a6-0059-d5a4-719b-4f72-4aec-ef02"
      },
      {
       "current": "64a19b62-1153-11f0-b2ca-76718da5da48-13-6567-101d-fbf4-f9be-4290-72ae-c754-2b31-af19-5dbe",
       "next": "4bac91ec-1c26-11f0-baf6-eaf1011eb67f-6-06c5-195d-e86f-4b49-4dad-44b5",
       "previous": "3ebef6f4-1114-11f0-acfe-1231102d67ae-11-97c6-94a6-0059-d5a4-719b-4f72-4aec-ef02-e6cf-ce8e"
      }
     ],
     "next": "4bac91ec-1c26-11f0-baf6-eaf1011eb67f-9-06c5-195d-e86f-4b49-4dad-44b5-ac7f-85ed-1c31",
     "previous": "3ebef6f4-1114-11f0-acfe-1231102d67ae-14-d5a4-719b-4f72-4aec-ef02-e6cf-ce8e-3850-a631-bbb2"
    },
    "pinnedOutputTabIndex": 0,
    "run_through_control": {
     "frozen": true,
     "read_only": false
    }
   },
   "outputs": [
    {
     "data": {
      "text/plain": [
       "('RDM-TEST-VR-1', 'RDM-TEST-VR-2')"
      ]
     },
     "execution_count": 13,
     "metadata": {},
     "output_type": "execute_result"
    }
   ],
   "source": [
    "if onedrive_folder_1 is None:\n",
    "    onedrive_folder_1 = input(prompt='OneDrive Folder #1')\n",
    "if onedrive_folder_2 is None:\n",
    "    onedrive_folder_2 = input(prompt='OneDrive Folder #2')\n",
    "(onedrive_folder_1, onedrive_folder_2)"
   ]
  },
  {
   "cell_type": "code",
   "execution_count": 14,
   "id": "61abef19-aeba-4122-a728-8c569ad2b576",
   "metadata": {
    "deletable": false,
    "editable": false,
    "lc_cell_meme": {
     "current": "4bac91ec-1c26-11f0-baf6-eaf1011eb67f-9-06c5-195d-e86f-4b49-4dad-44b5-ac7f-85ed-1c31",
     "execution_end_time": "2025-04-18T07:33:24.834Z",
     "history": [
      {
       "current": "4bac91ec-1c26-11f0-baf6-eaf1011eb67f-2-06c5-195d",
       "next": "c7ff5410-ecd7-11ef-b381-0242ac120006-17-f89c-c91e-d9cd-583e-eb7e-349a-9e83-eb2b-8da9-a504",
       "previous": "64a19b62-1153-11f0-b2ca-76718da5da48-4-34d2-50c8-b861-6567"
      },
      {
       "current": "4bac91ec-1c26-11f0-baf6-eaf1011eb67f-3-06c5-195d-e86f",
       "next": "c7ff5410-ecd7-11ef-b381-0242ac120006-19-d9cd-583e-eb7e-349a-9e83-eb2b-8da9-a504-18c7-d422",
       "previous": "64a19b62-1153-11f0-b2ca-76718da5da48-6-34d2-50c8-b861-6567-101d-fbf4"
      },
      {
       "current": "4bac91ec-1c26-11f0-baf6-eaf1011eb67f-4-06c5-195d-e86f-4b49",
       "next": "c7ff5410-ecd7-11ef-b381-0242ac120006-20-583e-eb7e-349a-9e83-eb2b-8da9-a504-18c7-d422-8f48",
       "previous": "64a19b62-1153-11f0-b2ca-76718da5da48-7-34d2-50c8-b861-6567-101d-fbf4-f9be"
      },
      {
       "current": "4bac91ec-1c26-11f0-baf6-eaf1011eb67f-6-06c5-195d-e86f-4b49-4dad-44b5",
       "next": "c7ff5410-ecd7-11ef-b381-0242ac120006-21-eb7e-349a-9e83-eb2b-8da9-a504-18c7-d422-8f48-84aa",
       "previous": "64a19b62-1153-11f0-b2ca-76718da5da48-8-34d2-50c8-b861-6567-101d-fbf4-f9be-4290"
      },
      {
       "current": "4bac91ec-1c26-11f0-baf6-eaf1011eb67f-9-06c5-195d-e86f-4b49-4dad-44b5-ac7f-85ed-1c31",
       "next": "c7ff5410-ecd7-11ef-b381-0242ac120006-23-9e83-eb2b-8da9-a504-18c7-d422-8f48-84aa-bfe1-79f7",
       "previous": "64a19b62-1153-11f0-b2ca-76718da5da48-10-34d2-50c8-b861-6567-101d-fbf4-f9be-4290-72ae-c754"
      }
     ],
     "next": "c7ff5410-ecd7-11ef-b381-0242ac120006-26-a504-18c7-d422-8f48-84aa-bfe1-79f7-129d-1dda-60bf",
     "previous": "64a19b62-1153-11f0-b2ca-76718da5da48-13-6567-101d-fbf4-f9be-4290-72ae-c754-2b31-af19-5dbe"
    },
    "pinnedOutputTabIndex": 0,
    "run_through_control": {
     "frozen": true,
     "read_only": false
    }
   },
   "outputs": [
    {
     "data": {
      "text/plain": [
       "('VR-総合テスト機械化-1', 'VR-総合テスト機械化-2')"
      ]
     },
     "execution_count": 14,
     "metadata": {},
     "output_type": "execute_result"
    }
   ],
   "source": [
    "if nextcloud_folder_1 is None:\n",
    "    nextcloud_folder_1 = input(prompt='Nextcloud Folder #1')\n",
    "if nextcloud_folder_2 is None:\n",
    "    nextcloud_folder_2 = input(prompt='Nextcloud Folder #2')\n",
    "(nextcloud_folder_1, nextcloud_folder_2)"
   ]
  },
  {
   "cell_type": "code",
   "execution_count": 15,
   "id": "21adf1b0-07da-4656-837c-b7b69fc63f94",
   "metadata": {
    "deletable": false,
    "editable": false,
    "lc_cell_meme": {
     "current": "c7ff5410-ecd7-11ef-b381-0242ac120006-26-a504-18c7-d422-8f48-84aa-bfe1-79f7-129d-1dda-60bf",
     "execution_end_time": "2025-02-17T03:02:15.980Z",
     "history": [
      {
       "current": "c7ff5410-ecd7-11ef-b381-0242ac120006",
       "next": "fc1e9000-ecda-11ef-b381-0242ac120006",
       "previous": "be13dc32-ecd7-11ef-b381-0242ac120006"
      },
      {
       "current": "c7ff5410-ecd7-11ef-b381-0242ac120006-1-af71",
       "next": "17494748-ecdc-11ef-b381-0242ac120006",
       "previous": "be13dc32-ecd7-11ef-b381-0242ac120006"
      },
      {
       "current": "c7ff5410-ecd7-11ef-b381-0242ac120006-2-af71-1d65",
       "next": "17494748-ecdc-11ef-b381-0242ac120006-1-d6aa",
       "previous": "f29fd528-eceb-11ef-a157-0242ac120006"
      },
      {
       "current": "c7ff5410-ecd7-11ef-b381-0242ac120006-4-af71-1d65-ee8f-1faa",
       "next": "17494748-ecdc-11ef-b381-0242ac120006-2-d6aa-50d6",
       "previous": "f29fd528-eceb-11ef-a157-0242ac120006-1-019c"
      },
      {
       "current": "c7ff5410-ecd7-11ef-b381-0242ac120006-6-af71-1d65-ee8f-1faa-f6bd-d018",
       "next": "17494748-ecdc-11ef-b381-0242ac120006-4-d6aa-50d6-afe6-abc0",
       "previous": "f29fd528-eceb-11ef-a157-0242ac120006-3-019c-9263-4055"
      },
      {
       "current": "c7ff5410-ecd7-11ef-b381-0242ac120006-8-af71-1d65-ee8f-1faa-f6bd-d018-e727-f89c",
       "next": "17494748-ecdc-11ef-b381-0242ac120006-6-d6aa-50d6-afe6-abc0-54a8-fba2",
       "previous": "f29fd528-eceb-11ef-a157-0242ac120006-5-019c-9263-4055-d2e4-8930"
      },
      {
       "current": "c7ff5410-ecd7-11ef-b381-0242ac120006-8-af71-1d65-ee8f-1faa-f6bd-d018-e727-f89c",
       "next": "17494748-ecdc-11ef-b381-0242ac120006-6-d6aa-50d6-afe6-abc0-54a8-fba2",
       "previous": "f29fd528-eceb-11ef-a157-0242ac120006-5-019c-9263-4055-d2e4-8930"
      },
      {
       "current": "c7ff5410-ecd7-11ef-b381-0242ac120006-8-af71-1d65-ee8f-1faa-f6bd-d018-e727-f89c",
       "next": "17494748-ecdc-11ef-b381-0242ac120006-8-d6aa-50d6-afe6-abc0-54a8-fba2-5860-d443",
       "previous": "f29fd528-eceb-11ef-a157-0242ac120006-7-019c-9263-4055-d2e4-8930-45a9-e13d"
      },
      {
       "current": "c7ff5410-ecd7-11ef-b381-0242ac120006-9-af71-1d65-ee8f-1faa-f6bd-d018-e727-f89c-c91e",
       "next": "17494748-ecdc-11ef-b381-0242ac120006-8-d6aa-50d6-afe6-abc0-54a8-fba2-5860-d443",
       "previous": "be13dc32-ecd7-11ef-b381-0242ac120006-8-f4a9-da30-14ab-853b-0cdd-9d73-989c-1306"
      },
      {
       "current": "c7ff5410-ecd7-11ef-b381-0242ac120006-10-af71-1d65-ee8f-1faa-f6bd-d018-e727-f89c-c91e-d9cd",
       "next": "17494748-ecdc-11ef-b381-0242ac120006-9-d6aa-50d6-afe6-abc0-54a8-fba2-5860-d443-81c2",
       "previous": "be13dc32-ecd7-11ef-b381-0242ac120006-9-f4a9-da30-14ab-853b-0cdd-9d73-989c-1306-3e4b"
      },
      {
       "current": "c7ff5410-ecd7-11ef-b381-0242ac120006-12-ee8f-1faa-f6bd-d018-e727-f89c-c91e-d9cd-583e-eb7e",
       "next": "17494748-ecdc-11ef-b381-0242ac120006-10-d6aa-50d6-afe6-abc0-54a8-fba2-5860-d443-81c2-7879",
       "previous": "71ba4578-0fab-11f0-ac4d-3e7a738eaee3-1-4636"
      },
      {
       "current": "c7ff5410-ecd7-11ef-b381-0242ac120006-12-ee8f-1faa-f6bd-d018-e727-f89c-c91e-d9cd-583e-eb7e",
       "next": "17494748-ecdc-11ef-b381-0242ac120006-12-afe6-abc0-54a8-fba2-5860-d443-81c2-7879-a176-7d85",
       "previous": "71ba4578-0fab-11f0-ac4d-3e7a738eaee3-3-4636-de2e-9f37"
      },
      {
       "current": "c7ff5410-ecd7-11ef-b381-0242ac120006-12-ee8f-1faa-f6bd-d018-e727-f89c-c91e-d9cd-583e-eb7e",
       "next": "17494748-ecdc-11ef-b381-0242ac120006-12-afe6-abc0-54a8-fba2-5860-d443-81c2-7879-a176-7d85",
       "previous": "c0bf013a-10f6-11f0-acfe-1231102d67ae"
      },
      {
       "current": "c7ff5410-ecd7-11ef-b381-0242ac120006-13-1faa-f6bd-d018-e727-f89c-c91e-d9cd-583e-eb7e-349a",
       "next": "17494748-ecdc-11ef-b381-0242ac120006-12-afe6-abc0-54a8-fba2-5860-d443-81c2-7879-a176-7d85",
       "previous": "3ebef6f4-1114-11f0-acfe-1231102d67ae"
      },
      {
       "current": "c7ff5410-ecd7-11ef-b381-0242ac120006-14-f6bd-d018-e727-f89c-c91e-d9cd-583e-eb7e-349a-9e83",
       "next": "17494748-ecdc-11ef-b381-0242ac120006-13-abc0-54a8-fba2-5860-d443-81c2-7879-a176-7d85-858e",
       "previous": "64a19b62-1153-11f0-b2ca-76718da5da48"
      },
      {
       "current": "c7ff5410-ecd7-11ef-b381-0242ac120006-15-d018-e727-f89c-c91e-d9cd-583e-eb7e-349a-9e83-eb2b",
       "next": "17494748-ecdc-11ef-b381-0242ac120006-14-54a8-fba2-5860-d443-81c2-7879-a176-7d85-858e-862e",
       "previous": "64a19b62-1153-11f0-b2ca-76718da5da48-1-34d2"
      },
      {
       "current": "c7ff5410-ecd7-11ef-b381-0242ac120006-17-f89c-c91e-d9cd-583e-eb7e-349a-9e83-eb2b-8da9-a504",
       "next": "17494748-ecdc-11ef-b381-0242ac120006-15-fba2-5860-d443-81c2-7879-a176-7d85-858e-862e-ac23",
       "previous": "64a19b62-1153-11f0-b2ca-76718da5da48-2-34d2-50c8"
      },
      {
       "current": "c7ff5410-ecd7-11ef-b381-0242ac120006-19-d9cd-583e-eb7e-349a-9e83-eb2b-8da9-a504-18c7-d422",
       "next": "17494748-ecdc-11ef-b381-0242ac120006-17-d443-81c2-7879-a176-7d85-858e-862e-ac23-a5da-1684",
       "previous": "4bac91ec-1c26-11f0-baf6-eaf1011eb67f"
      },
      {
       "current": "c7ff5410-ecd7-11ef-b381-0242ac120006-20-583e-eb7e-349a-9e83-eb2b-8da9-a504-18c7-d422-8f48",
       "next": "17494748-ecdc-11ef-b381-0242ac120006-19-7879-a176-7d85-858e-862e-ac23-a5da-1684-b72e-29a1",
       "previous": "4bac91ec-1c26-11f0-baf6-eaf1011eb67f-2-06c5-195d"
      },
      {
       "current": "c7ff5410-ecd7-11ef-b381-0242ac120006-21-eb7e-349a-9e83-eb2b-8da9-a504-18c7-d422-8f48-84aa",
       "next": "17494748-ecdc-11ef-b381-0242ac120006-20-a176-7d85-858e-862e-ac23-a5da-1684-b72e-29a1-d902",
       "previous": "4bac91ec-1c26-11f0-baf6-eaf1011eb67f-3-06c5-195d-e86f"
      },
      {
       "current": "c7ff5410-ecd7-11ef-b381-0242ac120006-23-9e83-eb2b-8da9-a504-18c7-d422-8f48-84aa-bfe1-79f7",
       "next": "17494748-ecdc-11ef-b381-0242ac120006-21-7d85-858e-862e-ac23-a5da-1684-b72e-29a1-d902-4023",
       "previous": "4bac91ec-1c26-11f0-baf6-eaf1011eb67f-4-06c5-195d-e86f-4b49"
      },
      {
       "current": "c7ff5410-ecd7-11ef-b381-0242ac120006-26-a504-18c7-d422-8f48-84aa-bfe1-79f7-129d-1dda-60bf",
       "next": "17494748-ecdc-11ef-b381-0242ac120006-23-862e-ac23-a5da-1684-b72e-29a1-d902-4023-0958-d587",
       "previous": "4bac91ec-1c26-11f0-baf6-eaf1011eb67f-6-06c5-195d-e86f-4b49-4dad-44b5"
      }
     ],
     "next": "17494748-ecdc-11ef-b381-0242ac120006-26-1684-b72e-29a1-d902-4023-0958-d587-3f32-3b1a-4a37",
     "previous": "4bac91ec-1c26-11f0-baf6-eaf1011eb67f-9-06c5-195d-e86f-4b49-4dad-44b5-ac7f-85ed-1c31"
    },
    "pinnedOutputTabIndex": 0,
    "run_through_control": {
     "frozen": true,
     "read_only": false
    },
    "slideshow": {
     "slide_type": ""
    },
    "tags": []
   },
   "outputs": [
    {
     "name": "stdout",
     "output_type": "stream",
     "text": [
      "-rw-r--r-- 1 jovyan users 2709 Jun 10 14:40 .config.yaml\n"
     ]
    }
   ],
   "source": [
    "current_config_path = '.config.yaml'\n",
    "\n",
    "if config_path != '.config.yaml' or config is None or any([\n",
    "    config is not None and key not in config or locals()[key] != config[key]\n",
    "    for key in param_keys\n",
    "]):\n",
    "    with open(current_config_path, 'w') as f:\n",
    "        f.write(yaml.dump(dict([\n",
    "            (key, locals()[key])\n",
    "            for key in param_keys\n",
    "        ])))\n",
    "!ls -la {current_config_path}"
   ]
  },
  {
   "cell_type": "code",
   "execution_count": 16,
   "id": "e69b4736-03b8-46ef-bba8-bac4a95ac222",
   "metadata": {
    "deletable": false,
    "editable": false,
    "lc_cell_meme": {
     "current": "17494748-ecdc-11ef-b381-0242ac120006-26-1684-b72e-29a1-d902-4023-0958-d587-3f32-3b1a-4a37",
     "execution_end_time": "2025-02-17T03:07:18.738Z",
     "history": [
      {
       "current": "17494748-ecdc-11ef-b381-0242ac120006-1-d6aa",
       "next": "fc1e9000-ecda-11ef-b381-0242ac120006",
       "previous": "c7ff5410-ecd7-11ef-b381-0242ac120006"
      },
      {
       "current": "17494748-ecdc-11ef-b381-0242ac120006-2-d6aa-50d6",
       "next": "fc1e9000-ecda-11ef-b381-0242ac120006-1-ad5a",
       "previous": "c7ff5410-ecd7-11ef-b381-0242ac120006-1-af71"
      },
      {
       "current": "17494748-ecdc-11ef-b381-0242ac120006-4-d6aa-50d6-afe6-abc0",
       "next": "fc1e9000-ecda-11ef-b381-0242ac120006-2-ad5a-1453",
       "previous": "c7ff5410-ecd7-11ef-b381-0242ac120006-2-af71-1d65"
      },
      {
       "current": "17494748-ecdc-11ef-b381-0242ac120006-4-d6aa-50d6-afe6-abc0",
       "next": "fc1e9000-ecda-11ef-b381-0242ac120006-4-ad5a-1453-986a-418b",
       "previous": "c7ff5410-ecd7-11ef-b381-0242ac120006-4-af71-1d65-ee8f-1faa"
      },
      {
       "current": "17494748-ecdc-11ef-b381-0242ac120006-4-d6aa-50d6-afe6-abc0",
       "next": "8b87efd0-f991-11ef-a92d-0242ac120006",
       "previous": "c7ff5410-ecd7-11ef-b381-0242ac120006-4-af71-1d65-ee8f-1faa"
      },
      {
       "current": "17494748-ecdc-11ef-b381-0242ac120006-4-d6aa-50d6-afe6-abc0",
       "next": "8b87efd0-f991-11ef-a92d-0242ac120006",
       "previous": "c7ff5410-ecd7-11ef-b381-0242ac120006-4-af71-1d65-ee8f-1faa"
      },
      {
       "current": "17494748-ecdc-11ef-b381-0242ac120006-6-d6aa-50d6-afe6-abc0-54a8-fba2",
       "next": "8b87efd0-f991-11ef-a92d-0242ac120006-1-ccde",
       "previous": "c7ff5410-ecd7-11ef-b381-0242ac120006-4-af71-1d65-ee8f-1faa"
      },
      {
       "current": "17494748-ecdc-11ef-b381-0242ac120006-8-d6aa-50d6-afe6-abc0-54a8-fba2-5860-d443",
       "next": "8b87efd0-f991-11ef-a92d-0242ac120006-3-ccde-2dab-8cb6",
       "previous": "c7ff5410-ecd7-11ef-b381-0242ac120006-6-af71-1d65-ee8f-1faa-f6bd-d018"
      },
      {
       "current": "17494748-ecdc-11ef-b381-0242ac120006-8-d6aa-50d6-afe6-abc0-54a8-fba2-5860-d443",
       "next": "8b87efd0-f991-11ef-a92d-0242ac120006-3-ccde-2dab-8cb6",
       "previous": "c7ff5410-ecd7-11ef-b381-0242ac120006-6-af71-1d65-ee8f-1faa-f6bd-d018"
      },
      {
       "current": "17494748-ecdc-11ef-b381-0242ac120006-9-d6aa-50d6-afe6-abc0-54a8-fba2-5860-d443-81c2",
       "next": "8b87efd0-f991-11ef-a92d-0242ac120006-5-ccde-2dab-8cb6-87a2-145c",
       "previous": "c7ff5410-ecd7-11ef-b381-0242ac120006-8-af71-1d65-ee8f-1faa-f6bd-d018-e727-f89c"
      },
      {
       "current": "17494748-ecdc-11ef-b381-0242ac120006-10-d6aa-50d6-afe6-abc0-54a8-fba2-5860-d443-81c2-7879",
       "next": "8b87efd0-f991-11ef-a92d-0242ac120006-6-ccde-2dab-8cb6-87a2-145c-a1d6",
       "previous": "c7ff5410-ecd7-11ef-b381-0242ac120006-9-af71-1d65-ee8f-1faa-f6bd-d018-e727-f89c-c91e"
      },
      {
       "current": "17494748-ecdc-11ef-b381-0242ac120006-12-afe6-abc0-54a8-fba2-5860-d443-81c2-7879-a176-7d85",
       "next": "8b87efd0-f991-11ef-a92d-0242ac120006-7-ccde-2dab-8cb6-87a2-145c-a1d6-bc34",
       "previous": "c7ff5410-ecd7-11ef-b381-0242ac120006-10-af71-1d65-ee8f-1faa-f6bd-d018-e727-f89c-c91e-d9cd"
      },
      {
       "current": "17494748-ecdc-11ef-b381-0242ac120006-12-afe6-abc0-54a8-fba2-5860-d443-81c2-7879-a176-7d85",
       "next": "8b87efd0-f991-11ef-a92d-0242ac120006-9-ccde-2dab-8cb6-87a2-145c-a1d6-bc34-896a-9f13",
       "previous": "c7ff5410-ecd7-11ef-b381-0242ac120006-12-ee8f-1faa-f6bd-d018-e727-f89c-c91e-d9cd-583e-eb7e"
      },
      {
       "current": "17494748-ecdc-11ef-b381-0242ac120006-12-afe6-abc0-54a8-fba2-5860-d443-81c2-7879-a176-7d85",
       "next": "b8c1067a-111b-11f0-acfe-1231102d67ae",
       "previous": "c7ff5410-ecd7-11ef-b381-0242ac120006-12-ee8f-1faa-f6bd-d018-e727-f89c-c91e-d9cd-583e-eb7e"
      },
      {
       "current": "17494748-ecdc-11ef-b381-0242ac120006-13-abc0-54a8-fba2-5860-d443-81c2-7879-a176-7d85-858e",
       "next": "8b87efd0-f991-11ef-a92d-0242ac120006-9-ccde-2dab-8cb6-87a2-145c-a1d6-bc34-896a-9f13",
       "previous": "c7ff5410-ecd7-11ef-b381-0242ac120006-12-ee8f-1faa-f6bd-d018-e727-f89c-c91e-d9cd-583e-eb7e"
      },
      {
       "current": "17494748-ecdc-11ef-b381-0242ac120006-14-54a8-fba2-5860-d443-81c2-7879-a176-7d85-858e-862e",
       "next": "8b87efd0-f991-11ef-a92d-0242ac120006-10-ccde-2dab-8cb6-87a2-145c-a1d6-bc34-896a-9f13-eaac",
       "previous": "c7ff5410-ecd7-11ef-b381-0242ac120006-13-1faa-f6bd-d018-e727-f89c-c91e-d9cd-583e-eb7e-349a"
      },
      {
       "current": "17494748-ecdc-11ef-b381-0242ac120006-15-fba2-5860-d443-81c2-7879-a176-7d85-858e-862e-ac23",
       "next": "8b87efd0-f991-11ef-a92d-0242ac120006-11-2dab-8cb6-87a2-145c-a1d6-bc34-896a-9f13-eaac-46fd",
       "previous": "c7ff5410-ecd7-11ef-b381-0242ac120006-14-f6bd-d018-e727-f89c-c91e-d9cd-583e-eb7e-349a-9e83"
      },
      {
       "current": "17494748-ecdc-11ef-b381-0242ac120006-17-d443-81c2-7879-a176-7d85-858e-862e-ac23-a5da-1684",
       "next": "8b87efd0-f991-11ef-a92d-0242ac120006-12-8cb6-87a2-145c-a1d6-bc34-896a-9f13-eaac-46fd-214f",
       "previous": "c7ff5410-ecd7-11ef-b381-0242ac120006-15-d018-e727-f89c-c91e-d9cd-583e-eb7e-349a-9e83-eb2b"
      },
      {
       "current": "17494748-ecdc-11ef-b381-0242ac120006-19-7879-a176-7d85-858e-862e-ac23-a5da-1684-b72e-29a1",
       "next": "8b87efd0-f991-11ef-a92d-0242ac120006-14-145c-a1d6-bc34-896a-9f13-eaac-46fd-214f-ecf9-db52",
       "previous": "c7ff5410-ecd7-11ef-b381-0242ac120006-17-f89c-c91e-d9cd-583e-eb7e-349a-9e83-eb2b-8da9-a504"
      },
      {
       "current": "17494748-ecdc-11ef-b381-0242ac120006-19-7879-a176-7d85-858e-862e-ac23-a5da-1684-b72e-29a1",
       "next": "aab06aca-1c3e-11f0-a653-9281a4835edb",
       "previous": "c7ff5410-ecd7-11ef-b381-0242ac120006-19-d9cd-583e-eb7e-349a-9e83-eb2b-8da9-a504-18c7-d422"
      },
      {
       "current": "17494748-ecdc-11ef-b381-0242ac120006-20-a176-7d85-858e-862e-ac23-a5da-1684-b72e-29a1-d902",
       "next": "8b87efd0-f991-11ef-a92d-0242ac120006-16-bc34-896a-9f13-eaac-46fd-214f-ecf9-db52-4f2e-16e1",
       "previous": "c7ff5410-ecd7-11ef-b381-0242ac120006-19-d9cd-583e-eb7e-349a-9e83-eb2b-8da9-a504-18c7-d422"
      },
      {
       "current": "17494748-ecdc-11ef-b381-0242ac120006-21-7d85-858e-862e-ac23-a5da-1684-b72e-29a1-d902-4023",
       "next": "8b87efd0-f991-11ef-a92d-0242ac120006-17-896a-9f13-eaac-46fd-214f-ecf9-db52-4f2e-16e1-8b5e",
       "previous": "c7ff5410-ecd7-11ef-b381-0242ac120006-20-583e-eb7e-349a-9e83-eb2b-8da9-a504-18c7-d422-8f48"
      },
      {
       "current": "17494748-ecdc-11ef-b381-0242ac120006-23-862e-ac23-a5da-1684-b72e-29a1-d902-4023-0958-d587",
       "next": "8b87efd0-f991-11ef-a92d-0242ac120006-18-9f13-eaac-46fd-214f-ecf9-db52-4f2e-16e1-8b5e-c9d6",
       "previous": "c7ff5410-ecd7-11ef-b381-0242ac120006-21-eb7e-349a-9e83-eb2b-8da9-a504-18c7-d422-8f48-84aa"
      },
      {
       "current": "17494748-ecdc-11ef-b381-0242ac120006-26-1684-b72e-29a1-d902-4023-0958-d587-3f32-3b1a-4a37",
       "next": "8b87efd0-f991-11ef-a92d-0242ac120006-20-46fd-214f-ecf9-db52-4f2e-16e1-8b5e-c9d6-ce2f-dd80",
       "previous": "c7ff5410-ecd7-11ef-b381-0242ac120006-23-9e83-eb2b-8da9-a504-18c7-d422-8f48-84aa-bfe1-79f7"
      }
     ],
     "next": "8b87efd0-f991-11ef-a92d-0242ac120006-23-db52-4f2e-16e1-8b5e-c9d6-ce2f-dd80-d2ea-07dd-a7e0",
     "previous": "c7ff5410-ecd7-11ef-b381-0242ac120006-26-a504-18c7-d422-8f48-84aa-bfe1-79f7-129d-1dda-60bf"
    },
    "pinnedOutputTabIndex": 0,
    "run_through_control": {
     "frozen": true,
     "read_only": false
    },
    "slideshow": {
     "slide_type": ""
    },
    "tags": []
   },
   "outputs": [
    {
     "data": {
      "text/plain": [
       "'/tmp/tmpxfu36gnb'"
      ]
     },
     "execution_count": 16,
     "metadata": {},
     "output_type": "execute_result"
    }
   ],
   "source": [
    "import tempfile\n",
    "\n",
    "work_dir = tempfile.mkdtemp()\n",
    "\n",
    "if default_result_path is None:\n",
    "    default_result_path = work_dir\n",
    "default_result_path"
   ]
  },
  {
   "cell_type": "markdown",
   "id": "0f6d72c0-8bbb-40e4-9ea0-29a819899bba",
   "metadata": {
    "deletable": true,
    "editable": true,
    "lc_cell_meme": {
     "current": "8b87efd0-f991-11ef-a92d-0242ac120006-23-db52-4f2e-16e1-8b5e-c9d6-ce2f-dd80-d2ea-07dd-a7e0",
     "history": [
      {
       "current": "8b87efd0-f991-11ef-a92d-0242ac120006-3-ccde-2dab-8cb6",
       "next": "fc1e9000-ecda-11ef-b381-0242ac120006-4-ad5a-1453-986a-418b",
       "previous": "17494748-ecdc-11ef-b381-0242ac120006-4-d6aa-50d6-afe6-abc0"
      },
      {
       "current": "8b87efd0-f991-11ef-a92d-0242ac120006-5-ccde-2dab-8cb6-87a2-145c",
       "next": "fc1e9000-ecda-11ef-b381-0242ac120006-6-ad5a-1453-986a-418b-269a-3f21",
       "previous": "17494748-ecdc-11ef-b381-0242ac120006-6-d6aa-50d6-afe6-abc0-54a8-fba2"
      },
      {
       "current": "8b87efd0-f991-11ef-a92d-0242ac120006-5-ccde-2dab-8cb6-87a2-145c",
       "next": "fc1e9000-ecda-11ef-b381-0242ac120006-6-ad5a-1453-986a-418b-269a-3f21",
       "previous": "17494748-ecdc-11ef-b381-0242ac120006-6-d6aa-50d6-afe6-abc0-54a8-fba2"
      },
      {
       "current": "8b87efd0-f991-11ef-a92d-0242ac120006-5-ccde-2dab-8cb6-87a2-145c",
       "next": "fc1e9000-ecda-11ef-b381-0242ac120006-8-ad5a-1453-986a-418b-269a-3f21-466e-058e",
       "previous": "17494748-ecdc-11ef-b381-0242ac120006-8-d6aa-50d6-afe6-abc0-54a8-fba2-5860-d443"
      },
      {
       "current": "8b87efd0-f991-11ef-a92d-0242ac120006-6-ccde-2dab-8cb6-87a2-145c-a1d6",
       "next": "8af0ac06-0c6f-11f0-98e9-5e0a5654d7bd",
       "previous": "17494748-ecdc-11ef-b381-0242ac120006-8-d6aa-50d6-afe6-abc0-54a8-fba2-5860-d443"
      },
      {
       "current": "8b87efd0-f991-11ef-a92d-0242ac120006-7-ccde-2dab-8cb6-87a2-145c-a1d6-bc34",
       "next": "8af0ac06-0c6f-11f0-98e9-5e0a5654d7bd-1-c85a",
       "previous": "17494748-ecdc-11ef-b381-0242ac120006-9-d6aa-50d6-afe6-abc0-54a8-fba2-5860-d443-81c2"
      },
      {
       "current": "8b87efd0-f991-11ef-a92d-0242ac120006-9-ccde-2dab-8cb6-87a2-145c-a1d6-bc34-896a-9f13",
       "next": "8af0ac06-0c6f-11f0-98e9-5e0a5654d7bd-2-c85a-b9b7",
       "previous": "17494748-ecdc-11ef-b381-0242ac120006-10-d6aa-50d6-afe6-abc0-54a8-fba2-5860-d443-81c2-7879"
      },
      {
       "current": "8b87efd0-f991-11ef-a92d-0242ac120006-9-ccde-2dab-8cb6-87a2-145c-a1d6-bc34-896a-9f13",
       "next": "8af0ac06-0c6f-11f0-98e9-5e0a5654d7bd-4-c85a-b9b7-427d-eb8e",
       "previous": "17494748-ecdc-11ef-b381-0242ac120006-12-afe6-abc0-54a8-fba2-5860-d443-81c2-7879-a176-7d85"
      },
      {
       "current": "8b87efd0-f991-11ef-a92d-0242ac120006-9-ccde-2dab-8cb6-87a2-145c-a1d6-bc34-896a-9f13",
       "next": "8af0ac06-0c6f-11f0-98e9-5e0a5654d7bd-4-c85a-b9b7-427d-eb8e",
       "previous": "b8c1067a-111b-11f0-acfe-1231102d67ae"
      },
      {
       "current": "8b87efd0-f991-11ef-a92d-0242ac120006-10-ccde-2dab-8cb6-87a2-145c-a1d6-bc34-896a-9f13-eaac",
       "next": "8af0ac06-0c6f-11f0-98e9-5e0a5654d7bd-4-c85a-b9b7-427d-eb8e",
       "previous": "17494748-ecdc-11ef-b381-0242ac120006-12-afe6-abc0-54a8-fba2-5860-d443-81c2-7879-a176-7d85"
      },
      {
       "current": "8b87efd0-f991-11ef-a92d-0242ac120006-11-2dab-8cb6-87a2-145c-a1d6-bc34-896a-9f13-eaac-46fd",
       "next": "8af0ac06-0c6f-11f0-98e9-5e0a5654d7bd-5-c85a-b9b7-427d-eb8e-7f7d",
       "previous": "17494748-ecdc-11ef-b381-0242ac120006-13-abc0-54a8-fba2-5860-d443-81c2-7879-a176-7d85-858e"
      },
      {
       "current": "8b87efd0-f991-11ef-a92d-0242ac120006-12-8cb6-87a2-145c-a1d6-bc34-896a-9f13-eaac-46fd-214f",
       "next": "8af0ac06-0c6f-11f0-98e9-5e0a5654d7bd-6-c85a-b9b7-427d-eb8e-7f7d-53b1",
       "previous": "17494748-ecdc-11ef-b381-0242ac120006-14-54a8-fba2-5860-d443-81c2-7879-a176-7d85-858e-862e"
      },
      {
       "current": "8b87efd0-f991-11ef-a92d-0242ac120006-14-145c-a1d6-bc34-896a-9f13-eaac-46fd-214f-ecf9-db52",
       "next": "8af0ac06-0c6f-11f0-98e9-5e0a5654d7bd-7-c85a-b9b7-427d-eb8e-7f7d-53b1-e02b",
       "previous": "17494748-ecdc-11ef-b381-0242ac120006-15-fba2-5860-d443-81c2-7879-a176-7d85-858e-862e-ac23"
      },
      {
       "current": "8b87efd0-f991-11ef-a92d-0242ac120006-16-bc34-896a-9f13-eaac-46fd-214f-ecf9-db52-4f2e-16e1",
       "next": "8af0ac06-0c6f-11f0-98e9-5e0a5654d7bd-9-c85a-b9b7-427d-eb8e-7f7d-53b1-e02b-0f2f-2d9d",
       "previous": "17494748-ecdc-11ef-b381-0242ac120006-17-d443-81c2-7879-a176-7d85-858e-862e-ac23-a5da-1684"
      },
      {
       "current": "8b87efd0-f991-11ef-a92d-0242ac120006-16-bc34-896a-9f13-eaac-46fd-214f-ecf9-db52-4f2e-16e1",
       "next": "8af0ac06-0c6f-11f0-98e9-5e0a5654d7bd-11-b9b7-427d-eb8e-7f7d-53b1-e02b-0f2f-2d9d-6c20-4c0c",
       "previous": "aab06aca-1c3e-11f0-a653-9281a4835edb"
      },
      {
       "current": "8b87efd0-f991-11ef-a92d-0242ac120006-17-896a-9f13-eaac-46fd-214f-ecf9-db52-4f2e-16e1-8b5e",
       "next": "8af0ac06-0c6f-11f0-98e9-5e0a5654d7bd-11-b9b7-427d-eb8e-7f7d-53b1-e02b-0f2f-2d9d-6c20-4c0c",
       "previous": "17494748-ecdc-11ef-b381-0242ac120006-19-7879-a176-7d85-858e-862e-ac23-a5da-1684-b72e-29a1"
      },
      {
       "current": "8b87efd0-f991-11ef-a92d-0242ac120006-18-9f13-eaac-46fd-214f-ecf9-db52-4f2e-16e1-8b5e-c9d6",
       "next": "8af0ac06-0c6f-11f0-98e9-5e0a5654d7bd-12-427d-eb8e-7f7d-53b1-e02b-0f2f-2d9d-6c20-4c0c-6d65",
       "previous": "17494748-ecdc-11ef-b381-0242ac120006-20-a176-7d85-858e-862e-ac23-a5da-1684-b72e-29a1-d902"
      },
      {
       "current": "8b87efd0-f991-11ef-a92d-0242ac120006-20-46fd-214f-ecf9-db52-4f2e-16e1-8b5e-c9d6-ce2f-dd80",
       "next": "8af0ac06-0c6f-11f0-98e9-5e0a5654d7bd-13-eb8e-7f7d-53b1-e02b-0f2f-2d9d-6c20-4c0c-6d65-667a",
       "previous": "17494748-ecdc-11ef-b381-0242ac120006-21-7d85-858e-862e-ac23-a5da-1684-b72e-29a1-d902-4023"
      },
      {
       "current": "8b87efd0-f991-11ef-a92d-0242ac120006-23-db52-4f2e-16e1-8b5e-c9d6-ce2f-dd80-d2ea-07dd-a7e0",
       "next": "8af0ac06-0c6f-11f0-98e9-5e0a5654d7bd-15-53b1-e02b-0f2f-2d9d-6c20-4c0c-6d65-667a-7a13-4f73",
       "previous": "17494748-ecdc-11ef-b381-0242ac120006-23-862e-ac23-a5da-1684-b72e-29a1-d902-4023-0958-d587"
      }
     ],
     "next": "8af0ac06-0c6f-11f0-98e9-5e0a5654d7bd-18-2d9d-6c20-4c0c-6d65-667a-7a13-4f73-c527-037e-daed",
     "previous": "17494748-ecdc-11ef-b381-0242ac120006-26-1684-b72e-29a1-d902-4023-0958-d587-3f32-3b1a-4a37"
    },
    "pinnedOutputTabIndex": 0,
    "run_through_control": {
     "frozen": false,
     "read_only": false
    }
   },
   "source": [
    "# Notebookの実行"
   ]
  },
  {
   "cell_type": "code",
   "execution_count": 17,
   "id": "4d89a6c3-cb47-4206-b2ce-5527260dd3e9",
   "metadata": {
    "deletable": false,
    "editable": false,
    "lc_cell_meme": {
     "current": "8af0ac06-0c6f-11f0-98e9-5e0a5654d7bd-18-2d9d-6c20-4c0c-6d65-667a-7a13-4f73-c527-037e-daed",
     "history": [
      {
       "current": "8af0ac06-0c6f-11f0-98e9-5e0a5654d7bd",
       "next": "fc1e9000-ecda-11ef-b381-0242ac120006-8-ad5a-1453-986a-418b-269a-3f21-466e-058e",
       "previous": "8b87efd0-f991-11ef-a92d-0242ac120006-5-ccde-2dab-8cb6-87a2-145c"
      },
      {
       "current": "8af0ac06-0c6f-11f0-98e9-5e0a5654d7bd-1-c85a",
       "next": "c9853da6-0c6f-11f0-98e9-5e0a5654d7bd",
       "previous": "8b87efd0-f991-11ef-a92d-0242ac120006-5-ccde-2dab-8cb6-87a2-145c"
      },
      {
       "current": "8af0ac06-0c6f-11f0-98e9-5e0a5654d7bd-2-c85a-b9b7",
       "next": "c9853da6-0c6f-11f0-98e9-5e0a5654d7bd-1-f3a3",
       "previous": "8b87efd0-f991-11ef-a92d-0242ac120006-6-ccde-2dab-8cb6-87a2-145c-a1d6"
      },
      {
       "current": "8af0ac06-0c6f-11f0-98e9-5e0a5654d7bd-2-c85a-b9b7",
       "next": "c9853da6-0c6f-11f0-98e9-5e0a5654d7bd-2-f3a3-2ae4",
       "previous": "8b87efd0-f991-11ef-a92d-0242ac120006-7-ccde-2dab-8cb6-87a2-145c-a1d6-bc34"
      },
      {
       "current": "8af0ac06-0c6f-11f0-98e9-5e0a5654d7bd-4-c85a-b9b7-427d-eb8e",
       "next": "6d45e16c-100c-11f0-ac4d-3e7a738eaee3",
       "previous": "8b87efd0-f991-11ef-a92d-0242ac120006-7-ccde-2dab-8cb6-87a2-145c-a1d6-bc34"
      },
      {
       "current": "8af0ac06-0c6f-11f0-98e9-5e0a5654d7bd-4-c85a-b9b7-427d-eb8e",
       "next": "6d45e16c-100c-11f0-ac4d-3e7a738eaee3-2-fee6-0838",
       "previous": "8b87efd0-f991-11ef-a92d-0242ac120006-9-ccde-2dab-8cb6-87a2-145c-a1d6-bc34-896a-9f13"
      },
      {
       "current": "8af0ac06-0c6f-11f0-98e9-5e0a5654d7bd-5-c85a-b9b7-427d-eb8e-7f7d",
       "next": "00e3a3c2-10f4-11f0-acfe-1231102d67ae",
       "previous": "8b87efd0-f991-11ef-a92d-0242ac120006-9-ccde-2dab-8cb6-87a2-145c-a1d6-bc34-896a-9f13"
      },
      {
       "current": "8af0ac06-0c6f-11f0-98e9-5e0a5654d7bd-6-c85a-b9b7-427d-eb8e-7f7d-53b1",
       "next": "00e3a3c2-10f4-11f0-acfe-1231102d67ae-1-2840",
       "previous": "8b87efd0-f991-11ef-a92d-0242ac120006-10-ccde-2dab-8cb6-87a2-145c-a1d6-bc34-896a-9f13-eaac"
      },
      {
       "current": "8af0ac06-0c6f-11f0-98e9-5e0a5654d7bd-7-c85a-b9b7-427d-eb8e-7f7d-53b1-e02b",
       "next": "00e3a3c2-10f4-11f0-acfe-1231102d67ae-2-2840-f3f6",
       "previous": "8b87efd0-f991-11ef-a92d-0242ac120006-11-2dab-8cb6-87a2-145c-a1d6-bc34-896a-9f13-eaac-46fd"
      },
      {
       "current": "8af0ac06-0c6f-11f0-98e9-5e0a5654d7bd-9-c85a-b9b7-427d-eb8e-7f7d-53b1-e02b-0f2f-2d9d",
       "next": "00e3a3c2-10f4-11f0-acfe-1231102d67ae-3-2840-f3f6-a22e",
       "previous": "8b87efd0-f991-11ef-a92d-0242ac120006-12-8cb6-87a2-145c-a1d6-bc34-896a-9f13-eaac-46fd-214f"
      },
      {
       "current": "8af0ac06-0c6f-11f0-98e9-5e0a5654d7bd-11-b9b7-427d-eb8e-7f7d-53b1-e02b-0f2f-2d9d-6c20-4c0c",
       "next": "00e3a3c2-10f4-11f0-acfe-1231102d67ae-5-2840-f3f6-a22e-1e00-0a2c",
       "previous": "8b87efd0-f991-11ef-a92d-0242ac120006-14-145c-a1d6-bc34-896a-9f13-eaac-46fd-214f-ecf9-db52"
      },
      {
       "current": "8af0ac06-0c6f-11f0-98e9-5e0a5654d7bd-12-427d-eb8e-7f7d-53b1-e02b-0f2f-2d9d-6c20-4c0c-6d65",
       "next": "00e3a3c2-10f4-11f0-acfe-1231102d67ae-7-2840-f3f6-a22e-1e00-0a2c-b400-ed6e",
       "previous": "8b87efd0-f991-11ef-a92d-0242ac120006-16-bc34-896a-9f13-eaac-46fd-214f-ecf9-db52-4f2e-16e1"
      },
      {
       "current": "8af0ac06-0c6f-11f0-98e9-5e0a5654d7bd-13-eb8e-7f7d-53b1-e02b-0f2f-2d9d-6c20-4c0c-6d65-667a",
       "next": "00e3a3c2-10f4-11f0-acfe-1231102d67ae-8-2840-f3f6-a22e-1e00-0a2c-b400-ed6e-5ed5",
       "previous": "8b87efd0-f991-11ef-a92d-0242ac120006-17-896a-9f13-eaac-46fd-214f-ecf9-db52-4f2e-16e1-8b5e"
      },
      {
       "current": "8af0ac06-0c6f-11f0-98e9-5e0a5654d7bd-15-53b1-e02b-0f2f-2d9d-6c20-4c0c-6d65-667a-7a13-4f73",
       "next": "00e3a3c2-10f4-11f0-acfe-1231102d67ae-9-2840-f3f6-a22e-1e00-0a2c-b400-ed6e-5ed5-5d2d",
       "previous": "8b87efd0-f991-11ef-a92d-0242ac120006-18-9f13-eaac-46fd-214f-ecf9-db52-4f2e-16e1-8b5e-c9d6"
      },
      {
       "current": "8af0ac06-0c6f-11f0-98e9-5e0a5654d7bd-15-53b1-e02b-0f2f-2d9d-6c20-4c0c-6d65-667a-7a13-4f73",
       "next": "3dd2d078-356b-11f0-89c3-c629d0b175e3",
       "previous": "8b87efd0-f991-11ef-a92d-0242ac120006-20-46fd-214f-ecf9-db52-4f2e-16e1-8b5e-c9d6-ce2f-dd80"
      },
      {
       "current": "8af0ac06-0c6f-11f0-98e9-5e0a5654d7bd-18-2d9d-6c20-4c0c-6d65-667a-7a13-4f73-c527-037e-daed",
       "next": "00e3a3c2-10f4-11f0-acfe-1231102d67ae-11-f3f6-a22e-1e00-0a2c-b400-ed6e-5ed5-5d2d-fe50-2483",
       "previous": "8b87efd0-f991-11ef-a92d-0242ac120006-20-46fd-214f-ecf9-db52-4f2e-16e1-8b5e-c9d6-ce2f-dd80"
      }
     ],
     "next": "2b9c40c8-1334-11f0-88c4-7e93a5d0b9a2-13-9a84-fcbd-070c-25d4-22f6-034d-78c0-9e92-7b21-56ca",
     "previous": "8b87efd0-f991-11ef-a92d-0242ac120006-23-db52-4f2e-16e1-8b5e-c9d6-ce2f-dd80-d2ea-07dd-a7e0"
    },
    "pinnedOutputTabIndex": 0,
    "run_through_control": {
     "frozen": true,
     "read_only": false
    }
   },
   "outputs": [],
   "source": [
    "from datetime import datetime\n",
    "import os\n",
    "import traceback\n",
    "from scripts.papermillHelpers import gen_run_notebook\n",
    "\n",
    "def make_result_dir():\n",
    "    run_id = datetime.now().strftime('%Y%m%d-%H%M%S')\n",
    "    result_dir = f'result/result-{run_id}'\n",
    "    os.makedirs(result_dir)\n",
    "    return result_dir\n",
    "\n",
    "result_dir = make_result_dir()\n",
    "\n",
    "run_notebook = gen_run_notebook(\n",
    "    result_dir,\n",
    "    transition_timeout,\n",
    "    dict(\n",
    "        rdm_url=rdm_url,\n",
    "        idp_name=idp_name_1,\n",
    "        idp_username=idp_username_1,\n",
    "        idp_password=idp_password_1,\n",
    "        idp_name_1=idp_name_1,\n",
    "        idp_username_1=idp_username_1,\n",
    "        idp_password_1=idp_password_1,\n",
    "    ),\n",
    "    skip_failed_test,\n",
    ")\n",
    "\n",
    "result_notebooks = []"
   ]
  },
  {
   "cell_type": "markdown",
   "id": "45e1080a-7aca-492d-aaf4-9fdef62eab45",
   "metadata": {
    "deletable": true,
    "editable": true,
    "lc_cell_meme": {
     "current": "2b9c40c8-1334-11f0-88c4-7e93a5d0b9a2-13-9a84-fcbd-070c-25d4-22f6-034d-78c0-9e92-7b21-56ca",
     "history": [
      {
       "current": "2b9c40c8-1334-11f0-88c4-7e93a5d0b9a2-2-a509-56a5",
       "next": "6d45e16c-100c-11f0-ac4d-3e7a738eaee3-5-fee6-0838-96f4-60e4-1fe6",
       "previous": "00e3a3c2-10f4-11f0-acfe-1231102d67ae-2-2840-f3f6"
      },
      {
       "current": "2b9c40c8-1334-11f0-88c4-7e93a5d0b9a2-4-a509-56a5-682c-9a84",
       "next": "6d45e16c-100c-11f0-ac4d-3e7a738eaee3-6-fee6-0838-96f4-60e4-1fe6-aa1b",
       "previous": "00e3a3c2-10f4-11f0-acfe-1231102d67ae-3-2840-f3f6-a22e"
      },
      {
       "current": "2b9c40c8-1334-11f0-88c4-7e93a5d0b9a2-6-a509-56a5-682c-9a84-fcbd-070c",
       "next": "6d45e16c-100c-11f0-ac4d-3e7a738eaee3-8-fee6-0838-96f4-60e4-1fe6-aa1b-64b9-05ae",
       "previous": "00e3a3c2-10f4-11f0-acfe-1231102d67ae-5-2840-f3f6-a22e-1e00-0a2c"
      },
      {
       "current": "2b9c40c8-1334-11f0-88c4-7e93a5d0b9a2-7-a509-56a5-682c-9a84-fcbd-070c-25d4",
       "next": "6d45e16c-100c-11f0-ac4d-3e7a738eaee3-10-fee6-0838-96f4-60e4-1fe6-aa1b-64b9-05ae-6338-7a0c",
       "previous": "00e3a3c2-10f4-11f0-acfe-1231102d67ae-7-2840-f3f6-a22e-1e00-0a2c-b400-ed6e"
      },
      {
       "current": "2b9c40c8-1334-11f0-88c4-7e93a5d0b9a2-8-a509-56a5-682c-9a84-fcbd-070c-25d4-22f6",
       "next": "6d45e16c-100c-11f0-ac4d-3e7a738eaee3-11-0838-96f4-60e4-1fe6-aa1b-64b9-05ae-6338-7a0c-64bf",
       "previous": "00e3a3c2-10f4-11f0-acfe-1231102d67ae-8-2840-f3f6-a22e-1e00-0a2c-b400-ed6e-5ed5"
      },
      {
       "current": "2b9c40c8-1334-11f0-88c4-7e93a5d0b9a2-10-a509-56a5-682c-9a84-fcbd-070c-25d4-22f6-034d-78c0",
       "next": "6d45e16c-100c-11f0-ac4d-3e7a738eaee3-12-96f4-60e4-1fe6-aa1b-64b9-05ae-6338-7a0c-64bf-0290",
       "previous": "00e3a3c2-10f4-11f0-acfe-1231102d67ae-9-2840-f3f6-a22e-1e00-0a2c-b400-ed6e-5ed5-5d2d"
      },
      {
       "current": "2b9c40c8-1334-11f0-88c4-7e93a5d0b9a2-13-9a84-fcbd-070c-25d4-22f6-034d-78c0-9e92-7b21-56ca",
       "next": "6d45e16c-100c-11f0-ac4d-3e7a738eaee3-14-1fe6-aa1b-64b9-05ae-6338-7a0c-64bf-0290-8c87-044b",
       "previous": "00e3a3c2-10f4-11f0-acfe-1231102d67ae-11-f3f6-a22e-1e00-0a2c-b400-ed6e-5ed5-5d2d-fe50-2483"
      }
     ],
     "next": "6d45e16c-100c-11f0-ac4d-3e7a738eaee3-17-05ae-6338-7a0c-64bf-0290-8c87-044b-b785-834f-bcec",
     "previous": "8af0ac06-0c6f-11f0-98e9-5e0a5654d7bd-18-2d9d-6c20-4c0c-6d65-667a-7a13-4f73-c527-037e-daed"
    },
    "pinnedOutputTabIndex": 0,
    "run_through_control": {
     "frozen": false,
     "read_only": false
    }
   },
   "source": [
    "## ログイン関連テスト"
   ]
  },
  {
   "cell_type": "code",
   "execution_count": 18,
   "id": "ffacbf86-0c05-4766-8260-e31681c8efce",
   "metadata": {
    "deletable": false,
    "editable": false,
    "lc_cell_meme": {
     "current": "6d45e16c-100c-11f0-ac4d-3e7a738eaee3-17-05ae-6338-7a0c-64bf-0290-8c87-044b-b785-834f-bcec",
     "execution_end_time": "2025-04-06T23:09:00.056Z",
     "history": [
      {
       "current": "6d45e16c-100c-11f0-ac4d-3e7a738eaee3-2-fee6-0838",
       "next": "c9853da6-0c6f-11f0-98e9-5e0a5654d7bd-2-f3a3-2ae4",
       "previous": "8af0ac06-0c6f-11f0-98e9-5e0a5654d7bd-2-c85a-b9b7"
      },
      {
       "current": "6d45e16c-100c-11f0-ac4d-3e7a738eaee3-2-fee6-0838",
       "next": "c9853da6-0c6f-11f0-98e9-5e0a5654d7bd-4-f3a3-2ae4-d95a-9ae2",
       "previous": "8af0ac06-0c6f-11f0-98e9-5e0a5654d7bd-4-c85a-b9b7-427d-eb8e"
      },
      {
       "current": "6d45e16c-100c-11f0-ac4d-3e7a738eaee3-2-fee6-0838",
       "next": "c9853da6-0c6f-11f0-98e9-5e0a5654d7bd-4-f3a3-2ae4-d95a-9ae2",
       "previous": "00e3a3c2-10f4-11f0-acfe-1231102d67ae"
      },
      {
       "current": "6d45e16c-100c-11f0-ac4d-3e7a738eaee3-2-fee6-0838",
       "next": "c9853da6-0c6f-11f0-98e9-5e0a5654d7bd-4-f3a3-2ae4-d95a-9ae2",
       "previous": "00fe047e-10f4-11f0-acfe-1231102d67ae"
      },
      {
       "current": "6d45e16c-100c-11f0-ac4d-3e7a738eaee3-2-fee6-0838",
       "next": "c9853da6-0c6f-11f0-98e9-5e0a5654d7bd-4-f3a3-2ae4-d95a-9ae2",
       "previous": "0118dc0e-10f4-11f0-acfe-1231102d67ae"
      },
      {
       "current": "6d45e16c-100c-11f0-ac4d-3e7a738eaee3-2-fee6-0838",
       "next": "c9853da6-0c6f-11f0-98e9-5e0a5654d7bd-4-f3a3-2ae4-d95a-9ae2",
       "previous": "00e3a3c2-10f4-11f0-acfe-1231102d67ae"
      },
      {
       "current": "6d45e16c-100c-11f0-ac4d-3e7a738eaee3-2-fee6-0838",
       "next": "c9853da6-0c6f-11f0-98e9-5e0a5654d7bd-4-f3a3-2ae4-d95a-9ae2",
       "previous": "0e1f67be-1113-11f0-acfe-1231102d67ae"
      },
      {
       "current": "6d45e16c-100c-11f0-ac4d-3e7a738eaee3-2-fee6-0838",
       "next": "c9853da6-0c6f-11f0-98e9-5e0a5654d7bd-4-f3a3-2ae4-d95a-9ae2",
       "previous": "1182a100-1113-11f0-acfe-1231102d67ae"
      },
      {
       "current": "6d45e16c-100c-11f0-ac4d-3e7a738eaee3-3-fee6-0838-96f4",
       "next": "c9853da6-0c6f-11f0-98e9-5e0a5654d7bd-4-f3a3-2ae4-d95a-9ae2",
       "previous": "0e1f67be-1113-11f0-acfe-1231102d67ae"
      },
      {
       "current": "6d45e16c-100c-11f0-ac4d-3e7a738eaee3-4-fee6-0838-96f4-60e4",
       "next": "c9853da6-0c6f-11f0-98e9-5e0a5654d7bd-5-f3a3-2ae4-d95a-9ae2-c5df",
       "previous": "0e1f67be-1113-11f0-acfe-1231102d67ae-1-ca0f"
      },
      {
       "current": "6d45e16c-100c-11f0-ac4d-3e7a738eaee3-5-fee6-0838-96f4-60e4-1fe6",
       "next": "c9853da6-0c6f-11f0-98e9-5e0a5654d7bd-6-f3a3-2ae4-d95a-9ae2-c5df-f62b",
       "previous": "0e1f67be-1113-11f0-acfe-1231102d67ae-2-ca0f-6499"
      },
      {
       "current": "6d45e16c-100c-11f0-ac4d-3e7a738eaee3-5-fee6-0838-96f4-60e4-1fe6",
       "next": "c9853da6-0c6f-11f0-98e9-5e0a5654d7bd-6-f3a3-2ae4-d95a-9ae2-c5df-f62b",
       "previous": "0e1f67be-1113-11f0-acfe-1231102d67ae-2-ca0f-6499"
      },
      {
       "current": "6d45e16c-100c-11f0-ac4d-3e7a738eaee3-5-fee6-0838-96f4-60e4-1fe6",
       "next": "0e1f67be-1113-11f0-acfe-1231102d67ae-2-ca0f-6499",
       "previous": "00e3a3c2-10f4-11f0-acfe-1231102d67ae-2-2840-f3f6"
      },
      {
       "current": "6d45e16c-100c-11f0-ac4d-3e7a738eaee3-5-fee6-0838-96f4-60e4-1fe6",
       "next": "0e1f67be-1113-11f0-acfe-1231102d67ae-2-ca0f-6499",
       "previous": "2b9c40c8-1334-11f0-88c4-7e93a5d0b9a2"
      },
      {
       "current": "6d45e16c-100c-11f0-ac4d-3e7a738eaee3-5-fee6-0838-96f4-60e4-1fe6",
       "next": "0e1f67be-1113-11f0-acfe-1231102d67ae-2-ca0f-6499",
       "previous": "2b9c40c8-1334-11f0-88c4-7e93a5d0b9a2"
      },
      {
       "current": "6d45e16c-100c-11f0-ac4d-3e7a738eaee3-5-fee6-0838-96f4-60e4-1fe6",
       "next": "0e1f67be-1113-11f0-acfe-1231102d67ae-2-ca0f-6499",
       "previous": "2b9c40c8-1334-11f0-88c4-7e93a5d0b9a2-1-a509"
      },
      {
       "current": "6d45e16c-100c-11f0-ac4d-3e7a738eaee3-5-fee6-0838-96f4-60e4-1fe6",
       "next": "0e1f67be-1113-11f0-acfe-1231102d67ae-2-ca0f-6499",
       "previous": "2b9c40c8-1334-11f0-88c4-7e93a5d0b9a2-1-a509"
      },
      {
       "current": "6d45e16c-100c-11f0-ac4d-3e7a738eaee3-6-fee6-0838-96f4-60e4-1fe6-aa1b",
       "next": "c9853da6-0c6f-11f0-98e9-5e0a5654d7bd-7-f3a3-2ae4-d95a-9ae2-c5df-f62b-4133",
       "previous": "2b9c40c8-1334-11f0-88c4-7e93a5d0b9a2-1-a509"
      },
      {
       "current": "6d45e16c-100c-11f0-ac4d-3e7a738eaee3-8-fee6-0838-96f4-60e4-1fe6-aa1b-64b9-05ae",
       "next": "c9853da6-0c6f-11f0-98e9-5e0a5654d7bd-8-f3a3-2ae4-d95a-9ae2-c5df-f62b-4133-7070",
       "previous": "2b9c40c8-1334-11f0-88c4-7e93a5d0b9a2-2-a509-56a5"
      },
      {
       "current": "6d45e16c-100c-11f0-ac4d-3e7a738eaee3-10-fee6-0838-96f4-60e4-1fe6-aa1b-64b9-05ae-6338-7a0c",
       "next": "c9853da6-0c6f-11f0-98e9-5e0a5654d7bd-10-f3a3-2ae4-d95a-9ae2-c5df-f62b-4133-7070-00df-3be9",
       "previous": "2b9c40c8-1334-11f0-88c4-7e93a5d0b9a2-4-a509-56a5-682c-9a84"
      },
      {
       "current": "6d45e16c-100c-11f0-ac4d-3e7a738eaee3-11-0838-96f4-60e4-1fe6-aa1b-64b9-05ae-6338-7a0c-64bf",
       "next": "c9853da6-0c6f-11f0-98e9-5e0a5654d7bd-12-d95a-9ae2-c5df-f62b-4133-7070-00df-3be9-bbb5-7067",
       "previous": "2b9c40c8-1334-11f0-88c4-7e93a5d0b9a2-6-a509-56a5-682c-9a84-fcbd-070c"
      },
      {
       "current": "6d45e16c-100c-11f0-ac4d-3e7a738eaee3-12-96f4-60e4-1fe6-aa1b-64b9-05ae-6338-7a0c-64bf-0290",
       "next": "c9853da6-0c6f-11f0-98e9-5e0a5654d7bd-13-9ae2-c5df-f62b-4133-7070-00df-3be9-bbb5-7067-5a29",
       "previous": "2b9c40c8-1334-11f0-88c4-7e93a5d0b9a2-7-a509-56a5-682c-9a84-fcbd-070c-25d4"
      },
      {
       "current": "6d45e16c-100c-11f0-ac4d-3e7a738eaee3-14-1fe6-aa1b-64b9-05ae-6338-7a0c-64bf-0290-8c87-044b",
       "next": "c9853da6-0c6f-11f0-98e9-5e0a5654d7bd-14-c5df-f62b-4133-7070-00df-3be9-bbb5-7067-5a29-3d47",
       "previous": "2b9c40c8-1334-11f0-88c4-7e93a5d0b9a2-8-a509-56a5-682c-9a84-fcbd-070c-25d4-22f6"
      },
      {
       "current": "6d45e16c-100c-11f0-ac4d-3e7a738eaee3-17-05ae-6338-7a0c-64bf-0290-8c87-044b-b785-834f-bcec",
       "next": "c9853da6-0c6f-11f0-98e9-5e0a5654d7bd-16-4133-7070-00df-3be9-bbb5-7067-5a29-3d47-a429-93c4",
       "previous": "2b9c40c8-1334-11f0-88c4-7e93a5d0b9a2-10-a509-56a5-682c-9a84-fcbd-070c-25d4-22f6-034d-78c0"
      }
     ],
     "next": "c9853da6-0c6f-11f0-98e9-5e0a5654d7bd-19-3be9-bbb5-7067-5a29-3d47-a429-93c4-9284-8c29-abf7",
     "previous": "2b9c40c8-1334-11f0-88c4-7e93a5d0b9a2-13-9a84-fcbd-070c-25d4-22f6-034d-78c0-9e92-7b21-56ca"
    },
    "pinnedOutputTabIndex": 0,
    "run_through_control": {
     "frozen": true,
     "read_only": false
    },
    "scrolled": true
   },
   "outputs": [
    {
     "name": "stderr",
     "output_type": "stream",
     "text": [
      "Passed unknown parameter: idp_username\n",
      "Passed unknown parameter: idp_password\n",
      "Passed unknown parameter: idp_name_1\n",
      "Passed unknown parameter: idp_username_1\n",
      "Passed unknown parameter: idp_password_1\n"
     ]
    },
    {
     "data": {
      "application/vnd.jupyter.widget-view+json": {
       "model_id": "6cd6654dc64b409688b83cf7c33c1908",
       "version_major": 2,
       "version_minor": 0
      },
      "text/plain": [
       "Executing:   0%|          | 0/17 [00:00<?, ?cell/s]"
      ]
     },
     "execution_count": 18,
     "metadata": {},
     "output_type": "display_data"
    },
    {
     "data": {
      "text/plain": [
       "['result/result-20250610-144058/テスト手順-未ログイン.ipynb']"
      ]
     },
     "execution_count": 18,
     "metadata": {},
     "output_type": "execute_result"
    }
   ],
   "source": [
    "if idp_name_1 is not None:\n",
    "    result_notebooks.append(run_notebook('テスト手順-未ログイン.ipynb'))\n",
    "else:\n",
    "    print('IdPが指定された時のみ未ログインテストを実施します。')\n",
    "result_notebooks"
   ]
  },
  {
   "cell_type": "code",
   "execution_count": 19,
   "id": "2ae9f0b6-72a8-4d80-aba3-c02e89e0fb00",
   "metadata": {
    "deletable": false,
    "editable": false,
    "lc_cell_meme": {
     "current": "c9853da6-0c6f-11f0-98e9-5e0a5654d7bd-19-3be9-bbb5-7067-5a29-3d47-a429-93c4-9284-8c29-abf7",
     "execution_end_time": "2025-04-06T23:09:52.965Z",
     "history": [
      {
       "current": "c9853da6-0c6f-11f0-98e9-5e0a5654d7bd",
       "next": "fc1e9000-ecda-11ef-b381-0242ac120006-8-ad5a-1453-986a-418b-269a-3f21-466e-058e",
       "previous": "8af0ac06-0c6f-11f0-98e9-5e0a5654d7bd"
      },
      {
       "current": "c9853da6-0c6f-11f0-98e9-5e0a5654d7bd-1-f3a3",
       "next": "9954a6fc-0c70-11f0-98e9-5e0a5654d7bd",
       "previous": "8af0ac06-0c6f-11f0-98e9-5e0a5654d7bd"
      },
      {
       "current": "c9853da6-0c6f-11f0-98e9-5e0a5654d7bd-2-f3a3-2ae4",
       "next": "9954a6fc-0c70-11f0-98e9-5e0a5654d7bd-1-f4b2",
       "previous": "8af0ac06-0c6f-11f0-98e9-5e0a5654d7bd-1-c85a"
      },
      {
       "current": "c9853da6-0c6f-11f0-98e9-5e0a5654d7bd-2-f3a3-2ae4",
       "next": "9954a6fc-0c70-11f0-98e9-5e0a5654d7bd-2-f4b2-da7a",
       "previous": "8af0ac06-0c6f-11f0-98e9-5e0a5654d7bd-2-c85a-b9b7"
      },
      {
       "current": "c9853da6-0c6f-11f0-98e9-5e0a5654d7bd-4-f3a3-2ae4-d95a-9ae2",
       "next": "9954a6fc-0c70-11f0-98e9-5e0a5654d7bd-2-f4b2-da7a",
       "previous": "6d45e16c-100c-11f0-ac4d-3e7a738eaee3"
      },
      {
       "current": "c9853da6-0c6f-11f0-98e9-5e0a5654d7bd-5-f3a3-2ae4-d95a-9ae2-c5df",
       "next": "9954a6fc-0c70-11f0-98e9-5e0a5654d7bd-4-f4b2-da7a-a83c-ed27",
       "previous": "6d45e16c-100c-11f0-ac4d-3e7a738eaee3-2-fee6-0838"
      },
      {
       "current": "c9853da6-0c6f-11f0-98e9-5e0a5654d7bd-6-f3a3-2ae4-d95a-9ae2-c5df-f62b",
       "next": "9954a6fc-0c70-11f0-98e9-5e0a5654d7bd-5-f4b2-da7a-a83c-ed27-74c8",
       "previous": "6d45e16c-100c-11f0-ac4d-3e7a738eaee3-3-fee6-0838-96f4"
      },
      {
       "current": "c9853da6-0c6f-11f0-98e9-5e0a5654d7bd-6-f3a3-2ae4-d95a-9ae2-c5df-f62b",
       "next": "9954a6fc-0c70-11f0-98e9-5e0a5654d7bd-6-f4b2-da7a-a83c-ed27-74c8-e71c",
       "previous": "6d45e16c-100c-11f0-ac4d-3e7a738eaee3-4-fee6-0838-96f4-60e4"
      },
      {
       "current": "c9853da6-0c6f-11f0-98e9-5e0a5654d7bd-6-f3a3-2ae4-d95a-9ae2-c5df-f62b",
       "next": "9954a6fc-0c70-11f0-98e9-5e0a5654d7bd-6-f4b2-da7a-a83c-ed27-74c8-e71c",
       "previous": "6d45e16c-100c-11f0-ac4d-3e7a738eaee3-4-fee6-0838-96f4-60e4"
      },
      {
       "current": "c9853da6-0c6f-11f0-98e9-5e0a5654d7bd-7-f3a3-2ae4-d95a-9ae2-c5df-f62b-4133",
       "next": "9954a6fc-0c70-11f0-98e9-5e0a5654d7bd-6-f4b2-da7a-a83c-ed27-74c8-e71c",
       "previous": "0e1f67be-1113-11f0-acfe-1231102d67ae-2-ca0f-6499"
      },
      {
       "current": "c9853da6-0c6f-11f0-98e9-5e0a5654d7bd-7-f3a3-2ae4-d95a-9ae2-c5df-f62b-4133",
       "next": "9954a6fc-0c70-11f0-98e9-5e0a5654d7bd-6-f4b2-da7a-a83c-ed27-74c8-e71c",
       "previous": "0e1f67be-1113-11f0-acfe-1231102d67ae-2-ca0f-6499"
      },
      {
       "current": "c9853da6-0c6f-11f0-98e9-5e0a5654d7bd-7-f3a3-2ae4-d95a-9ae2-c5df-f62b-4133",
       "next": "0e1f67be-1113-11f0-acfe-1231102d67ae-2-ca0f-6499",
       "previous": "6d45e16c-100c-11f0-ac4d-3e7a738eaee3-5-fee6-0838-96f4-60e4-1fe6"
      },
      {
       "current": "c9853da6-0c6f-11f0-98e9-5e0a5654d7bd-7-f3a3-2ae4-d95a-9ae2-c5df-f62b-4133",
       "next": "3e0a601e-1334-11f0-88c4-7e93a5d0b9a2",
       "previous": "6d45e16c-100c-11f0-ac4d-3e7a738eaee3-5-fee6-0838-96f4-60e4-1fe6"
      },
      {
       "current": "c9853da6-0c6f-11f0-98e9-5e0a5654d7bd-7-f3a3-2ae4-d95a-9ae2-c5df-f62b-4133",
       "next": "3e0a601e-1334-11f0-88c4-7e93a5d0b9a2",
       "previous": "6d45e16c-100c-11f0-ac4d-3e7a738eaee3-5-fee6-0838-96f4-60e4-1fe6"
      },
      {
       "current": "c9853da6-0c6f-11f0-98e9-5e0a5654d7bd-8-f3a3-2ae4-d95a-9ae2-c5df-f62b-4133-7070",
       "next": "3e0a601e-1334-11f0-88c4-7e93a5d0b9a2-1-c4c2",
       "previous": "6d45e16c-100c-11f0-ac4d-3e7a738eaee3-5-fee6-0838-96f4-60e4-1fe6"
      },
      {
       "current": "c9853da6-0c6f-11f0-98e9-5e0a5654d7bd-10-f3a3-2ae4-d95a-9ae2-c5df-f62b-4133-7070-00df-3be9",
       "next": "3e0a601e-1334-11f0-88c4-7e93a5d0b9a2-2-c4c2-d0a1",
       "previous": "6d45e16c-100c-11f0-ac4d-3e7a738eaee3-6-fee6-0838-96f4-60e4-1fe6-aa1b"
      },
      {
       "current": "c9853da6-0c6f-11f0-98e9-5e0a5654d7bd-12-d95a-9ae2-c5df-f62b-4133-7070-00df-3be9-bbb5-7067",
       "next": "3e0a601e-1334-11f0-88c4-7e93a5d0b9a2-4-c4c2-d0a1-aef3-37bc",
       "previous": "6d45e16c-100c-11f0-ac4d-3e7a738eaee3-8-fee6-0838-96f4-60e4-1fe6-aa1b-64b9-05ae"
      },
      {
       "current": "c9853da6-0c6f-11f0-98e9-5e0a5654d7bd-13-9ae2-c5df-f62b-4133-7070-00df-3be9-bbb5-7067-5a29",
       "next": "3e0a601e-1334-11f0-88c4-7e93a5d0b9a2-6-c4c2-d0a1-aef3-37bc-6696-b65d",
       "previous": "6d45e16c-100c-11f0-ac4d-3e7a738eaee3-10-fee6-0838-96f4-60e4-1fe6-aa1b-64b9-05ae-6338-7a0c"
      },
      {
       "current": "c9853da6-0c6f-11f0-98e9-5e0a5654d7bd-14-c5df-f62b-4133-7070-00df-3be9-bbb5-7067-5a29-3d47",
       "next": "3e0a601e-1334-11f0-88c4-7e93a5d0b9a2-7-c4c2-d0a1-aef3-37bc-6696-b65d-eb18",
       "previous": "6d45e16c-100c-11f0-ac4d-3e7a738eaee3-11-0838-96f4-60e4-1fe6-aa1b-64b9-05ae-6338-7a0c-64bf"
      },
      {
       "current": "c9853da6-0c6f-11f0-98e9-5e0a5654d7bd-16-4133-7070-00df-3be9-bbb5-7067-5a29-3d47-a429-93c4",
       "next": "3e0a601e-1334-11f0-88c4-7e93a5d0b9a2-8-c4c2-d0a1-aef3-37bc-6696-b65d-eb18-e995",
       "previous": "6d45e16c-100c-11f0-ac4d-3e7a738eaee3-12-96f4-60e4-1fe6-aa1b-64b9-05ae-6338-7a0c-64bf-0290"
      },
      {
       "current": "c9853da6-0c6f-11f0-98e9-5e0a5654d7bd-16-4133-7070-00df-3be9-bbb5-7067-5a29-3d47-a429-93c4",
       "next": "3e0a601e-1334-11f0-88c4-7e93a5d0b9a2-10-c4c2-d0a1-aef3-37bc-6696-b65d-eb18-e995-a89a-7cef",
       "previous": "6d45e16c-100c-11f0-ac4d-3e7a738eaee3-14-1fe6-aa1b-64b9-05ae-6338-7a0c-64bf-0290-8c87-044b"
      },
      {
       "current": "c9853da6-0c6f-11f0-98e9-5e0a5654d7bd-16-4133-7070-00df-3be9-bbb5-7067-5a29-3d47-a429-93c4",
       "next": "6dbc614a-356c-11f0-89c3-c629d0b175e3",
       "previous": "6d45e16c-100c-11f0-ac4d-3e7a738eaee3-14-1fe6-aa1b-64b9-05ae-6338-7a0c-64bf-0290-8c87-044b"
      },
      {
       "current": "c9853da6-0c6f-11f0-98e9-5e0a5654d7bd-19-3be9-bbb5-7067-5a29-3d47-a429-93c4-9284-8c29-abf7",
       "next": "3e0a601e-1334-11f0-88c4-7e93a5d0b9a2-10-c4c2-d0a1-aef3-37bc-6696-b65d-eb18-e995-a89a-7cef",
       "previous": "6d45e16c-100c-11f0-ac4d-3e7a738eaee3-14-1fe6-aa1b-64b9-05ae-6338-7a0c-64bf-0290-8c87-044b"
      }
     ],
     "next": "3e0a601e-1334-11f0-88c4-7e93a5d0b9a2-13-37bc-6696-b65d-eb18-e995-a89a-7cef-18e7-9247-f15a",
     "previous": "6d45e16c-100c-11f0-ac4d-3e7a738eaee3-17-05ae-6338-7a0c-64bf-0290-8c87-044b-b785-834f-bcec"
    },
    "pinnedOutputTabIndex": 0,
    "run_through_control": {
     "frozen": true,
     "read_only": false
    }
   },
   "outputs": [
    {
     "name": "stderr",
     "output_type": "stream",
     "text": [
      "Passed unknown parameter: idp_name_1\n",
      "Passed unknown parameter: idp_username_1\n",
      "Passed unknown parameter: idp_password_1\n"
     ]
    },
    {
     "data": {
      "application/vnd.jupyter.widget-view+json": {
       "model_id": "759bcbe249444c0fbb897628602dc619",
       "version_major": 2,
       "version_minor": 0
      },
      "text/plain": [
       "Executing:   0%|          | 0/33 [00:00<?, ?cell/s]"
      ]
     },
     "execution_count": 19,
     "metadata": {},
     "output_type": "display_data"
    },
    {
     "data": {
      "text/plain": [
       "['result/result-20250610-144058/テスト手順-未ログイン.ipynb',\n",
       " 'result/result-20250610-144058/テスト手順-ログイン.ipynb']"
      ]
     },
     "execution_count": 19,
     "metadata": {},
     "output_type": "execute_result"
    }
   ],
   "source": [
    "if idp_name_1 is not None:\n",
    "    result_notebooks.append(run_notebook(\n",
    "        'テスト手順-ログイン.ipynb',\n",
    "        dict(\n",
    "            rdm_project_url_1=rdm_project_url_1,\n",
    "            rdm_project_name_1=rdm_project_name_1,\n",
    "            rdm_project_url_2=rdm_project_url_2,\n",
    "        ),\n",
    "    ))\n",
    "else:\n",
    "    print('IdPが指定された時のみ未ログインテストを実施します。')\n",
    "result_notebooks"
   ]
  },
  {
   "cell_type": "markdown",
   "id": "7949952a-c7f9-4459-b4e9-d23e3a848f47",
   "metadata": {
    "deletable": true,
    "editable": true,
    "lc_cell_meme": {
     "current": "3e0a601e-1334-11f0-88c4-7e93a5d0b9a2-13-37bc-6696-b65d-eb18-e995-a89a-7cef-18e7-9247-f15a",
     "history": [
      {
       "current": "3e0a601e-1334-11f0-88c4-7e93a5d0b9a2-2-c4c2-d0a1",
       "next": "0e1f67be-1113-11f0-acfe-1231102d67ae-2-ca0f-6499",
       "previous": "c9853da6-0c6f-11f0-98e9-5e0a5654d7bd-7-f3a3-2ae4-d95a-9ae2-c5df-f62b-4133"
      },
      {
       "current": "3e0a601e-1334-11f0-88c4-7e93a5d0b9a2-4-c4c2-d0a1-aef3-37bc",
       "next": "0e1f67be-1113-11f0-acfe-1231102d67ae-3-ca0f-6499-f4c9",
       "previous": "c9853da6-0c6f-11f0-98e9-5e0a5654d7bd-8-f3a3-2ae4-d95a-9ae2-c5df-f62b-4133-7070"
      },
      {
       "current": "3e0a601e-1334-11f0-88c4-7e93a5d0b9a2-6-c4c2-d0a1-aef3-37bc-6696-b65d",
       "next": "0e1f67be-1113-11f0-acfe-1231102d67ae-5-ca0f-6499-f4c9-b15d-e2fc",
       "previous": "c9853da6-0c6f-11f0-98e9-5e0a5654d7bd-10-f3a3-2ae4-d95a-9ae2-c5df-f62b-4133-7070-00df-3be9"
      },
      {
       "current": "3e0a601e-1334-11f0-88c4-7e93a5d0b9a2-7-c4c2-d0a1-aef3-37bc-6696-b65d-eb18",
       "next": "0e1f67be-1113-11f0-acfe-1231102d67ae-7-ca0f-6499-f4c9-b15d-e2fc-c0d5-687f",
       "previous": "c9853da6-0c6f-11f0-98e9-5e0a5654d7bd-12-d95a-9ae2-c5df-f62b-4133-7070-00df-3be9-bbb5-7067"
      },
      {
       "current": "3e0a601e-1334-11f0-88c4-7e93a5d0b9a2-8-c4c2-d0a1-aef3-37bc-6696-b65d-eb18-e995",
       "next": "0e1f67be-1113-11f0-acfe-1231102d67ae-8-ca0f-6499-f4c9-b15d-e2fc-c0d5-687f-037f",
       "previous": "c9853da6-0c6f-11f0-98e9-5e0a5654d7bd-13-9ae2-c5df-f62b-4133-7070-00df-3be9-bbb5-7067-5a29"
      },
      {
       "current": "3e0a601e-1334-11f0-88c4-7e93a5d0b9a2-10-c4c2-d0a1-aef3-37bc-6696-b65d-eb18-e995-a89a-7cef",
       "next": "0e1f67be-1113-11f0-acfe-1231102d67ae-9-ca0f-6499-f4c9-b15d-e2fc-c0d5-687f-037f-8484",
       "previous": "c9853da6-0c6f-11f0-98e9-5e0a5654d7bd-14-c5df-f62b-4133-7070-00df-3be9-bbb5-7067-5a29-3d47"
      },
      {
       "current": "3e0a601e-1334-11f0-88c4-7e93a5d0b9a2-10-c4c2-d0a1-aef3-37bc-6696-b65d-eb18-e995-a89a-7cef",
       "next": "0e1f67be-1113-11f0-acfe-1231102d67ae-11-6499-f4c9-b15d-e2fc-c0d5-687f-037f-8484-7f94-87a1",
       "previous": "c9853da6-0c6f-11f0-98e9-5e0a5654d7bd-16-4133-7070-00df-3be9-bbb5-7067-5a29-3d47-a429-93c4"
      },
      {
       "current": "3e0a601e-1334-11f0-88c4-7e93a5d0b9a2-10-c4c2-d0a1-aef3-37bc-6696-b65d-eb18-e995-a89a-7cef",
       "next": "0e1f67be-1113-11f0-acfe-1231102d67ae-11-6499-f4c9-b15d-e2fc-c0d5-687f-037f-8484-7f94-87a1",
       "previous": "6dbc614a-356c-11f0-89c3-c629d0b175e3"
      },
      {
       "current": "3e0a601e-1334-11f0-88c4-7e93a5d0b9a2-13-37bc-6696-b65d-eb18-e995-a89a-7cef-18e7-9247-f15a",
       "next": "0e1f67be-1113-11f0-acfe-1231102d67ae-11-6499-f4c9-b15d-e2fc-c0d5-687f-037f-8484-7f94-87a1",
       "previous": "c9853da6-0c6f-11f0-98e9-5e0a5654d7bd-16-4133-7070-00df-3be9-bbb5-7067-5a29-3d47-a429-93c4"
      }
     ],
     "next": "0e1f67be-1113-11f0-acfe-1231102d67ae-14-e2fc-c0d5-687f-037f-8484-7f94-87a1-d98a-9467-9170",
     "previous": "c9853da6-0c6f-11f0-98e9-5e0a5654d7bd-19-3be9-bbb5-7067-5a29-3d47-a429-93c4-9284-8c29-abf7"
    },
    "pinnedOutputTabIndex": 0,
    "run_through_control": {
     "frozen": false,
     "read_only": false
    }
   },
   "source": [
    "## ストレージ関連テスト"
   ]
  },
  {
   "cell_type": "code",
   "execution_count": 20,
   "id": "f5c59d8c-a553-4faf-98a6-6f554830edbf",
   "metadata": {
    "deletable": false,
    "editable": false,
    "lc_cell_meme": {
     "current": "0e1f67be-1113-11f0-acfe-1231102d67ae-14-e2fc-c0d5-687f-037f-8484-7f94-87a1-d98a-9467-9170",
     "execution_end_time": "2025-04-04T06:48:10.598Z",
     "history": [
      {
       "current": "0e1f67be-1113-11f0-acfe-1231102d67ae",
       "next": "6d45e16c-100c-11f0-ac4d-3e7a738eaee3-2-fee6-0838",
       "previous": "00e3a3c2-10f4-11f0-acfe-1231102d67ae"
      },
      {
       "current": "0e1f67be-1113-11f0-acfe-1231102d67ae",
       "next": "1182a100-1113-11f0-acfe-1231102d67ae",
       "previous": "00e3a3c2-10f4-11f0-acfe-1231102d67ae"
      },
      {
       "current": "0e1f67be-1113-11f0-acfe-1231102d67ae-1-ca0f",
       "next": "6d45e16c-100c-11f0-ac4d-3e7a738eaee3-2-fee6-0838",
       "previous": "00e3a3c2-10f4-11f0-acfe-1231102d67ae"
      },
      {
       "current": "0e1f67be-1113-11f0-acfe-1231102d67ae-2-ca0f-6499",
       "next": "6d45e16c-100c-11f0-ac4d-3e7a738eaee3-3-fee6-0838-96f4",
       "previous": "00e3a3c2-10f4-11f0-acfe-1231102d67ae-1-2840"
      },
      {
       "current": "0e1f67be-1113-11f0-acfe-1231102d67ae-2-ca0f-6499",
       "next": "6d45e16c-100c-11f0-ac4d-3e7a738eaee3-4-fee6-0838-96f4-60e4",
       "previous": "00e3a3c2-10f4-11f0-acfe-1231102d67ae-2-2840-f3f6"
      },
      {
       "current": "0e1f67be-1113-11f0-acfe-1231102d67ae-2-ca0f-6499",
       "next": "6d45e16c-100c-11f0-ac4d-3e7a738eaee3-4-fee6-0838-96f4-60e4",
       "previous": "00e3a3c2-10f4-11f0-acfe-1231102d67ae-2-2840-f3f6"
      },
      {
       "current": "0e1f67be-1113-11f0-acfe-1231102d67ae-2-ca0f-6499",
       "next": "c9853da6-0c6f-11f0-98e9-5e0a5654d7bd-6-f3a3-2ae4-d95a-9ae2-c5df-f62b",
       "previous": "6d45e16c-100c-11f0-ac4d-3e7a738eaee3-5-fee6-0838-96f4-60e4-1fe6"
      },
      {
       "current": "0e1f67be-1113-11f0-acfe-1231102d67ae-2-ca0f-6499",
       "next": "c9853da6-0c6f-11f0-98e9-5e0a5654d7bd-6-f3a3-2ae4-d95a-9ae2-c5df-f62b",
       "previous": "6d45e16c-100c-11f0-ac4d-3e7a738eaee3-5-fee6-0838-96f4-60e4-1fe6"
      },
      {
       "current": "0e1f67be-1113-11f0-acfe-1231102d67ae-2-ca0f-6499",
       "next": "9954a6fc-0c70-11f0-98e9-5e0a5654d7bd-6-f4b2-da7a-a83c-ed27-74c8-e71c",
       "previous": "c9853da6-0c6f-11f0-98e9-5e0a5654d7bd-7-f3a3-2ae4-d95a-9ae2-c5df-f62b-4133"
      },
      {
       "current": "0e1f67be-1113-11f0-acfe-1231102d67ae-2-ca0f-6499",
       "next": "9954a6fc-0c70-11f0-98e9-5e0a5654d7bd-6-f4b2-da7a-a83c-ed27-74c8-e71c",
       "previous": "3e0a601e-1334-11f0-88c4-7e93a5d0b9a2"
      },
      {
       "current": "0e1f67be-1113-11f0-acfe-1231102d67ae-2-ca0f-6499",
       "next": "9954a6fc-0c70-11f0-98e9-5e0a5654d7bd-6-f4b2-da7a-a83c-ed27-74c8-e71c",
       "previous": "3e0a601e-1334-11f0-88c4-7e93a5d0b9a2"
      },
      {
       "current": "0e1f67be-1113-11f0-acfe-1231102d67ae-3-ca0f-6499-f4c9",
       "next": "9954a6fc-0c70-11f0-98e9-5e0a5654d7bd-6-f4b2-da7a-a83c-ed27-74c8-e71c",
       "previous": "3e0a601e-1334-11f0-88c4-7e93a5d0b9a2-1-c4c2"
      },
      {
       "current": "0e1f67be-1113-11f0-acfe-1231102d67ae-5-ca0f-6499-f4c9-b15d-e2fc",
       "next": "9954a6fc-0c70-11f0-98e9-5e0a5654d7bd-7-f4b2-da7a-a83c-ed27-74c8-e71c-344e",
       "previous": "3e0a601e-1334-11f0-88c4-7e93a5d0b9a2-2-c4c2-d0a1"
      },
      {
       "current": "0e1f67be-1113-11f0-acfe-1231102d67ae-7-ca0f-6499-f4c9-b15d-e2fc-c0d5-687f",
       "next": "9954a6fc-0c70-11f0-98e9-5e0a5654d7bd-9-f4b2-da7a-a83c-ed27-74c8-e71c-344e-639e-16bc",
       "previous": "3e0a601e-1334-11f0-88c4-7e93a5d0b9a2-4-c4c2-d0a1-aef3-37bc"
      },
      {
       "current": "0e1f67be-1113-11f0-acfe-1231102d67ae-8-ca0f-6499-f4c9-b15d-e2fc-c0d5-687f-037f",
       "next": "9954a6fc-0c70-11f0-98e9-5e0a5654d7bd-11-da7a-a83c-ed27-74c8-e71c-344e-639e-16bc-4839-ca2e",
       "previous": "3e0a601e-1334-11f0-88c4-7e93a5d0b9a2-6-c4c2-d0a1-aef3-37bc-6696-b65d"
      },
      {
       "current": "0e1f67be-1113-11f0-acfe-1231102d67ae-9-ca0f-6499-f4c9-b15d-e2fc-c0d5-687f-037f-8484",
       "next": "9954a6fc-0c70-11f0-98e9-5e0a5654d7bd-12-a83c-ed27-74c8-e71c-344e-639e-16bc-4839-ca2e-581a",
       "previous": "3e0a601e-1334-11f0-88c4-7e93a5d0b9a2-7-c4c2-d0a1-aef3-37bc-6696-b65d-eb18"
      },
      {
       "current": "0e1f67be-1113-11f0-acfe-1231102d67ae-11-6499-f4c9-b15d-e2fc-c0d5-687f-037f-8484-7f94-87a1",
       "next": "9954a6fc-0c70-11f0-98e9-5e0a5654d7bd-13-ed27-74c8-e71c-344e-639e-16bc-4839-ca2e-581a-54c6",
       "previous": "3e0a601e-1334-11f0-88c4-7e93a5d0b9a2-8-c4c2-d0a1-aef3-37bc-6696-b65d-eb18-e995"
      },
      {
       "current": "0e1f67be-1113-11f0-acfe-1231102d67ae-14-e2fc-c0d5-687f-037f-8484-7f94-87a1-d98a-9467-9170",
       "next": "9954a6fc-0c70-11f0-98e9-5e0a5654d7bd-15-e71c-344e-639e-16bc-4839-ca2e-581a-54c6-3bf0-db63",
       "previous": "3e0a601e-1334-11f0-88c4-7e93a5d0b9a2-10-c4c2-d0a1-aef3-37bc-6696-b65d-eb18-e995-a89a-7cef"
      }
     ],
     "next": "9954a6fc-0c70-11f0-98e9-5e0a5654d7bd-18-16bc-4839-ca2e-581a-54c6-3bf0-db63-1461-431d-e725",
     "previous": "3e0a601e-1334-11f0-88c4-7e93a5d0b9a2-13-37bc-6696-b65d-eb18-e995-a89a-7cef-18e7-9247-f15a"
    },
    "pinnedOutputTabIndex": 0,
    "run_through_control": {
     "frozen": true,
     "read_only": false
    }
   },
   "outputs": [
    {
     "name": "stdout",
     "output_type": "stream",
     "text": [
      "ストレージアカウント設定 - Dropbox\n",
      "以下の操作を実施してください。\n",
      "1. Jupyter Notebook テスト手順-拡張ストレージ-アカウント設定.ipynb を開く\n",
      "2. Run All Cellsを実施する\n",
      "  設定ファイルを要求されたときには、 /tmp/tmpxfu36gnb/.config.yaml を入力する\n"
     ]
    },
    {
     "name": "stdin",
     "output_type": "stream",
     "text": [
      "全てのセル実行の成功を確認し、Notebookの保存を完了したら、'finished'と入力してください finished\n"
     ]
    },
    {
     "name": "stdout",
     "output_type": "stream",
     "text": [
      "\n"
     ]
    },
    {
     "data": {
      "text/plain": [
       "['result/result-20250610-144058/テスト手順-未ログイン.ipynb',\n",
       " 'result/result-20250610-144058/テスト手順-ログイン.ipynb',\n",
       " 'result/result-20250610-144058/テスト手順-拡張ストレージ-アカウント設定-Dropbox.ipynb']"
      ]
     },
     "execution_count": 20,
     "metadata": {},
     "output_type": "execute_result"
    }
   ],
   "source": [
    "from scripts.papermillHelpers import run_manual_notebook\n",
    "\n",
    "rdm_project_prefixes = {}\n",
    "\n",
    "for storage_info in storages_oauth:\n",
    "    storage_id = storage_info['id']\n",
    "    storage_name = storage_info['name']\n",
    "    print(f'ストレージアカウント設定 - {storage_name}')\n",
    "    rdm_project_prefixes[storage_id] = 'TEST-{}-{}'.format(storage_id.upper(), datetime.now().strftime('%Y%m%d-%H%M%S'))\n",
    "\n",
    "    result_notebooks.append(run_manual_notebook(\n",
    "        'テスト手順-拡張ストレージ-アカウント設定.ipynb',\n",
    "        dict(locals()),\n",
    "        work_dir,\n",
    "        result_dir,\n",
    "        optional_result_id=f'-{storage_name}',\n",
    "        rdm_project_prefix=rdm_project_prefixes[storage_id],\n",
    "        target_storage_name=storage_name,\n",
    "        target_storage_id=storage_id,\n",
    "        folder_1=locals()[f'{storage_id}_folder_1'],\n",
    "        folder_2=locals()[f'{storage_id}_folder_2'],\n",
    "    ))\n",
    "    print()\n",
    "result_notebooks"
   ]
  },
  {
   "cell_type": "code",
   "execution_count": 21,
   "id": "6bcaad96-d67d-4ce2-bca8-57ea0d5fb3c0",
   "metadata": {
    "deletable": false,
    "editable": false,
    "lc_cell_meme": {
     "current": "9954a6fc-0c70-11f0-98e9-5e0a5654d7bd-18-16bc-4839-ca2e-581a-54c6-3bf0-db63-1461-431d-e725",
     "history": [
      {
       "current": "9954a6fc-0c70-11f0-98e9-5e0a5654d7bd",
       "next": "fc1e9000-ecda-11ef-b381-0242ac120006-8-ad5a-1453-986a-418b-269a-3f21-466e-058e",
       "previous": "c9853da6-0c6f-11f0-98e9-5e0a5654d7bd"
      },
      {
       "current": "9954a6fc-0c70-11f0-98e9-5e0a5654d7bd-1-f4b2",
       "next": "ce8c187e-f991-11ef-a92d-0242ac120006-5-964d-161e-73da-b120-ac56",
       "previous": "c9853da6-0c6f-11f0-98e9-5e0a5654d7bd"
      },
      {
       "current": "9954a6fc-0c70-11f0-98e9-5e0a5654d7bd-2-f4b2-da7a",
       "next": "3e836c18-0c75-11f0-b991-feb16f56f93e",
       "previous": "c9853da6-0c6f-11f0-98e9-5e0a5654d7bd-1-f3a3"
      },
      {
       "current": "9954a6fc-0c70-11f0-98e9-5e0a5654d7bd-4-f4b2-da7a-a83c-ed27",
       "next": "3e836c18-0c75-11f0-b991-feb16f56f93e-1-ec50",
       "previous": "c9853da6-0c6f-11f0-98e9-5e0a5654d7bd-2-f3a3-2ae4"
      },
      {
       "current": "9954a6fc-0c70-11f0-98e9-5e0a5654d7bd-5-f4b2-da7a-a83c-ed27-74c8",
       "next": "3e836c18-0c75-11f0-b991-feb16f56f93e-3-ec50-acce-16d7",
       "previous": "c9853da6-0c6f-11f0-98e9-5e0a5654d7bd-4-f3a3-2ae4-d95a-9ae2"
      },
      {
       "current": "9954a6fc-0c70-11f0-98e9-5e0a5654d7bd-6-f4b2-da7a-a83c-ed27-74c8-e71c",
       "next": "3e836c18-0c75-11f0-b991-feb16f56f93e-4-ec50-acce-16d7-78aa",
       "previous": "c9853da6-0c6f-11f0-98e9-5e0a5654d7bd-5-f3a3-2ae4-d95a-9ae2-c5df"
      },
      {
       "current": "9954a6fc-0c70-11f0-98e9-5e0a5654d7bd-6-f4b2-da7a-a83c-ed27-74c8-e71c",
       "next": "3e836c18-0c75-11f0-b991-feb16f56f93e-5-ec50-acce-16d7-78aa-8f0d",
       "previous": "c9853da6-0c6f-11f0-98e9-5e0a5654d7bd-6-f3a3-2ae4-d95a-9ae2-c5df-f62b"
      },
      {
       "current": "9954a6fc-0c70-11f0-98e9-5e0a5654d7bd-6-f4b2-da7a-a83c-ed27-74c8-e71c",
       "next": "3e836c18-0c75-11f0-b991-feb16f56f93e-5-ec50-acce-16d7-78aa-8f0d",
       "previous": "c9853da6-0c6f-11f0-98e9-5e0a5654d7bd-6-f3a3-2ae4-d95a-9ae2-c5df-f62b"
      },
      {
       "current": "9954a6fc-0c70-11f0-98e9-5e0a5654d7bd-7-f4b2-da7a-a83c-ed27-74c8-e71c-344e",
       "next": "3e836c18-0c75-11f0-b991-feb16f56f93e-5-ec50-acce-16d7-78aa-8f0d",
       "previous": "0e1f67be-1113-11f0-acfe-1231102d67ae-2-ca0f-6499"
      },
      {
       "current": "9954a6fc-0c70-11f0-98e9-5e0a5654d7bd-9-f4b2-da7a-a83c-ed27-74c8-e71c-344e-639e-16bc",
       "next": "3e836c18-0c75-11f0-b991-feb16f56f93e-6-ec50-acce-16d7-78aa-8f0d-cf7d",
       "previous": "0e1f67be-1113-11f0-acfe-1231102d67ae-3-ca0f-6499-f4c9"
      },
      {
       "current": "9954a6fc-0c70-11f0-98e9-5e0a5654d7bd-11-da7a-a83c-ed27-74c8-e71c-344e-639e-16bc-4839-ca2e",
       "next": "3e836c18-0c75-11f0-b991-feb16f56f93e-8-ec50-acce-16d7-78aa-8f0d-cf7d-974d-99b6",
       "previous": "0e1f67be-1113-11f0-acfe-1231102d67ae-5-ca0f-6499-f4c9-b15d-e2fc"
      },
      {
       "current": "9954a6fc-0c70-11f0-98e9-5e0a5654d7bd-12-a83c-ed27-74c8-e71c-344e-639e-16bc-4839-ca2e-581a",
       "next": "3e836c18-0c75-11f0-b991-feb16f56f93e-10-ec50-acce-16d7-78aa-8f0d-cf7d-974d-99b6-ab69-3817",
       "previous": "0e1f67be-1113-11f0-acfe-1231102d67ae-7-ca0f-6499-f4c9-b15d-e2fc-c0d5-687f"
      },
      {
       "current": "9954a6fc-0c70-11f0-98e9-5e0a5654d7bd-13-ed27-74c8-e71c-344e-639e-16bc-4839-ca2e-581a-54c6",
       "next": "3e836c18-0c75-11f0-b991-feb16f56f93e-11-acce-16d7-78aa-8f0d-cf7d-974d-99b6-ab69-3817-252c",
       "previous": "0e1f67be-1113-11f0-acfe-1231102d67ae-8-ca0f-6499-f4c9-b15d-e2fc-c0d5-687f-037f"
      },
      {
       "current": "9954a6fc-0c70-11f0-98e9-5e0a5654d7bd-13-ed27-74c8-e71c-344e-639e-16bc-4839-ca2e-581a-54c6",
       "next": "3e836c18-0c75-11f0-b991-feb16f56f93e-12-16d7-78aa-8f0d-cf7d-974d-99b6-ab69-3817-252c-8494",
       "previous": "0e1f67be-1113-11f0-acfe-1231102d67ae-9-ca0f-6499-f4c9-b15d-e2fc-c0d5-687f-037f-8484"
      },
      {
       "current": "9954a6fc-0c70-11f0-98e9-5e0a5654d7bd-13-ed27-74c8-e71c-344e-639e-16bc-4839-ca2e-581a-54c6",
       "next": "8735565a-27a1-11f0-84de-32f9ed5d00a6",
       "previous": "0e1f67be-1113-11f0-acfe-1231102d67ae-9-ca0f-6499-f4c9-b15d-e2fc-c0d5-687f-037f-8484"
      },
      {
       "current": "9954a6fc-0c70-11f0-98e9-5e0a5654d7bd-15-e71c-344e-639e-16bc-4839-ca2e-581a-54c6-3bf0-db63",
       "next": "3e836c18-0c75-11f0-b991-feb16f56f93e-12-16d7-78aa-8f0d-cf7d-974d-99b6-ab69-3817-252c-8494",
       "previous": "0e1f67be-1113-11f0-acfe-1231102d67ae-9-ca0f-6499-f4c9-b15d-e2fc-c0d5-687f-037f-8484"
      },
      {
       "current": "9954a6fc-0c70-11f0-98e9-5e0a5654d7bd-18-16bc-4839-ca2e-581a-54c6-3bf0-db63-1461-431d-e725",
       "next": "3e836c18-0c75-11f0-b991-feb16f56f93e-14-8f0d-cf7d-974d-99b6-ab69-3817-252c-8494-3b83-67b5",
       "previous": "0e1f67be-1113-11f0-acfe-1231102d67ae-11-6499-f4c9-b15d-e2fc-c0d5-687f-037f-8484-7f94-87a1"
      }
     ],
     "next": "3e836c18-0c75-11f0-b991-feb16f56f93e-17-99b6-ab69-3817-252c-8494-3b83-67b5-55b6-1be6-cfb1",
     "previous": "0e1f67be-1113-11f0-acfe-1231102d67ae-14-e2fc-c0d5-687f-037f-8484-7f94-87a1-d98a-9467-9170"
    },
    "pinnedOutputTabIndex": 0,
    "run_through_control": {
     "frozen": true,
     "read_only": false
    }
   },
   "outputs": [
    {
     "name": "stderr",
     "output_type": "stream",
     "text": [
      "Passed unknown parameter: idp_name\n",
      "Passed unknown parameter: idp_username\n",
      "Passed unknown parameter: idp_password\n"
     ]
    },
    {
     "data": {
      "application/vnd.jupyter.widget-view+json": {
       "model_id": "34ae8b4478fb403ab14adf1102d2793c",
       "version_major": 2,
       "version_minor": 0
      },
      "text/plain": [
       "Executing:   0%|          | 0/16 [00:00<?, ?cell/s]"
      ]
     },
     "execution_count": 21,
     "metadata": {},
     "output_type": "display_data"
    },
    {
     "data": {
      "text/plain": [
       "['result/result-20250610-144058/テスト手順-未ログイン.ipynb',\n",
       " 'result/result-20250610-144058/テスト手順-ログイン.ipynb',\n",
       " 'result/result-20250610-144058/テスト手順-拡張ストレージ-アカウント設定-Dropbox.ipynb',\n",
       " 'result/result-20250610-144058/取りまとめ-NIIストレージ.ipynb']"
      ]
     },
     "execution_count": 21,
     "metadata": {},
     "output_type": "execute_result"
    }
   ],
   "source": [
    "if not skip_default_storage:\n",
    "    result_notebooks.append(run_notebook(\n",
    "        '取りまとめ-NIIストレージ.ipynb',\n",
    "        dict(\n",
    "            idp_name_1=idp_name_1,\n",
    "            idp_username_1=idp_username_1,\n",
    "            idp_password_1=idp_password_1,\n",
    "            enable_1gb_file_upload=enable_1gb_file_upload,\n",
    "            skip_preview_check=skip_preview_check,\n",
    "        ),\n",
    "    ))\n",
    "result_notebooks"
   ]
  },
  {
   "cell_type": "code",
   "execution_count": 22,
   "id": "7eb7a6f3-0178-4fe3-baf9-80ba70755713",
   "metadata": {
    "deletable": false,
    "editable": false,
    "lc_cell_meme": {
     "current": "3e836c18-0c75-11f0-b991-feb16f56f93e-17-99b6-ab69-3817-252c-8494-3b83-67b5-55b6-1be6-cfb1",
     "execution_end_time": "2025-03-29T08:34:21.650Z",
     "history": [
      {
       "current": "3e836c18-0c75-11f0-b991-feb16f56f93e",
       "next": "ce8c187e-f991-11ef-a92d-0242ac120006-6-964d-161e-73da-b120-ac56-8b98",
       "previous": "9954a6fc-0c70-11f0-98e9-5e0a5654d7bd-1-f4b2"
      },
      {
       "current": "3e836c18-0c75-11f0-b991-feb16f56f93e",
       "next": "522aa0f0-0c76-11f0-b991-feb16f56f93e",
       "previous": "9954a6fc-0c70-11f0-98e9-5e0a5654d7bd-1-f4b2"
      },
      {
       "current": "3e836c18-0c75-11f0-b991-feb16f56f93e-1-ec50",
       "next": "ce8c187e-f991-11ef-a92d-0242ac120006-6-964d-161e-73da-b120-ac56-8b98",
       "previous": "9954a6fc-0c70-11f0-98e9-5e0a5654d7bd-1-f4b2"
      },
      {
       "current": "3e836c18-0c75-11f0-b991-feb16f56f93e-3-ec50-acce-16d7",
       "next": "ce8c187e-f991-11ef-a92d-0242ac120006-7-964d-161e-73da-b120-ac56-8b98-1201",
       "previous": "9954a6fc-0c70-11f0-98e9-5e0a5654d7bd-2-f4b2-da7a"
      },
      {
       "current": "3e836c18-0c75-11f0-b991-feb16f56f93e-3-ec50-acce-16d7",
       "next": "4a660ff4-10f3-11f0-acfe-1231102d67ae",
       "previous": "9954a6fc-0c70-11f0-98e9-5e0a5654d7bd-4-f4b2-da7a-a83c-ed27"
      },
      {
       "current": "3e836c18-0c75-11f0-b991-feb16f56f93e-4-ec50-acce-16d7-78aa",
       "next": "3ad3ff3a-110f-11f0-acfe-1231102d67ae",
       "previous": "9954a6fc-0c70-11f0-98e9-5e0a5654d7bd-4-f4b2-da7a-a83c-ed27"
      },
      {
       "current": "3e836c18-0c75-11f0-b991-feb16f56f93e-5-ec50-acce-16d7-78aa-8f0d",
       "next": "3ad3ff3a-110f-11f0-acfe-1231102d67ae-1-295f",
       "previous": "9954a6fc-0c70-11f0-98e9-5e0a5654d7bd-5-f4b2-da7a-a83c-ed27-74c8"
      },
      {
       "current": "3e836c18-0c75-11f0-b991-feb16f56f93e-6-ec50-acce-16d7-78aa-8f0d-cf7d",
       "next": "3ad3ff3a-110f-11f0-acfe-1231102d67ae-2-295f-e6ae",
       "previous": "9954a6fc-0c70-11f0-98e9-5e0a5654d7bd-6-f4b2-da7a-a83c-ed27-74c8-e71c"
      },
      {
       "current": "3e836c18-0c75-11f0-b991-feb16f56f93e-8-ec50-acce-16d7-78aa-8f0d-cf7d-974d-99b6",
       "next": "3ad3ff3a-110f-11f0-acfe-1231102d67ae-3-295f-e6ae-8fc8",
       "previous": "9954a6fc-0c70-11f0-98e9-5e0a5654d7bd-7-f4b2-da7a-a83c-ed27-74c8-e71c-344e"
      },
      {
       "current": "3e836c18-0c75-11f0-b991-feb16f56f93e-10-ec50-acce-16d7-78aa-8f0d-cf7d-974d-99b6-ab69-3817",
       "next": "3ad3ff3a-110f-11f0-acfe-1231102d67ae-5-295f-e6ae-8fc8-2607-146b",
       "previous": "9954a6fc-0c70-11f0-98e9-5e0a5654d7bd-9-f4b2-da7a-a83c-ed27-74c8-e71c-344e-639e-16bc"
      },
      {
       "current": "3e836c18-0c75-11f0-b991-feb16f56f93e-11-acce-16d7-78aa-8f0d-cf7d-974d-99b6-ab69-3817-252c",
       "next": "3ad3ff3a-110f-11f0-acfe-1231102d67ae-7-295f-e6ae-8fc8-2607-146b-dcdd-8953",
       "previous": "9954a6fc-0c70-11f0-98e9-5e0a5654d7bd-11-da7a-a83c-ed27-74c8-e71c-344e-639e-16bc-4839-ca2e"
      },
      {
       "current": "3e836c18-0c75-11f0-b991-feb16f56f93e-11-acce-16d7-78aa-8f0d-cf7d-974d-99b6-ab69-3817-252c",
       "next": "3ad3ff3a-110f-11f0-acfe-1231102d67ae-8-295f-e6ae-8fc8-2607-146b-dcdd-8953-763d",
       "previous": "9954a6fc-0c70-11f0-98e9-5e0a5654d7bd-12-a83c-ed27-74c8-e71c-344e-639e-16bc-4839-ca2e-581a"
      },
      {
       "current": "3e836c18-0c75-11f0-b991-feb16f56f93e-11-acce-16d7-78aa-8f0d-cf7d-974d-99b6-ab69-3817-252c",
       "next": "775b9550-1cc5-11f0-bede-d2c904970d7c",
       "previous": "9954a6fc-0c70-11f0-98e9-5e0a5654d7bd-12-a83c-ed27-74c8-e71c-344e-639e-16bc-4839-ca2e-581a"
      },
      {
       "current": "3e836c18-0c75-11f0-b991-feb16f56f93e-12-16d7-78aa-8f0d-cf7d-974d-99b6-ab69-3817-252c-8494",
       "next": "3ad3ff3a-110f-11f0-acfe-1231102d67ae-8-295f-e6ae-8fc8-2607-146b-dcdd-8953-763d",
       "previous": "9954a6fc-0c70-11f0-98e9-5e0a5654d7bd-12-a83c-ed27-74c8-e71c-344e-639e-16bc-4839-ca2e-581a"
      },
      {
       "current": "3e836c18-0c75-11f0-b991-feb16f56f93e-12-16d7-78aa-8f0d-cf7d-974d-99b6-ab69-3817-252c-8494",
       "next": "3ad3ff3a-110f-11f0-acfe-1231102d67ae-9-295f-e6ae-8fc8-2607-146b-dcdd-8953-763d-2379",
       "previous": "9954a6fc-0c70-11f0-98e9-5e0a5654d7bd-13-ed27-74c8-e71c-344e-639e-16bc-4839-ca2e-581a-54c6"
      },
      {
       "current": "3e836c18-0c75-11f0-b991-feb16f56f93e-12-16d7-78aa-8f0d-cf7d-974d-99b6-ab69-3817-252c-8494",
       "next": "3ad3ff3a-110f-11f0-acfe-1231102d67ae-9-295f-e6ae-8fc8-2607-146b-dcdd-8953-763d-2379",
       "previous": "8735565a-27a1-11f0-84de-32f9ed5d00a6"
      },
      {
       "current": "3e836c18-0c75-11f0-b991-feb16f56f93e-14-8f0d-cf7d-974d-99b6-ab69-3817-252c-8494-3b83-67b5",
       "next": "3ad3ff3a-110f-11f0-acfe-1231102d67ae-9-295f-e6ae-8fc8-2607-146b-dcdd-8953-763d-2379",
       "previous": "9954a6fc-0c70-11f0-98e9-5e0a5654d7bd-13-ed27-74c8-e71c-344e-639e-16bc-4839-ca2e-581a-54c6"
      },
      {
       "current": "3e836c18-0c75-11f0-b991-feb16f56f93e-17-99b6-ab69-3817-252c-8494-3b83-67b5-55b6-1be6-cfb1",
       "next": "3ad3ff3a-110f-11f0-acfe-1231102d67ae-11-e6ae-8fc8-2607-146b-dcdd-8953-763d-2379-9a2c-0a3c",
       "previous": "9954a6fc-0c70-11f0-98e9-5e0a5654d7bd-15-e71c-344e-639e-16bc-4839-ca2e-581a-54c6-3bf0-db63"
      }
     ],
     "next": "3ad3ff3a-110f-11f0-acfe-1231102d67ae-14-146b-dcdd-8953-763d-2379-9a2c-0a3c-75cb-121d-158a",
     "previous": "9954a6fc-0c70-11f0-98e9-5e0a5654d7bd-18-16bc-4839-ca2e-581a-54c6-3bf0-db63-1461-431d-e725"
    },
    "pinnedOutputTabIndex": 0,
    "run_through_control": {
     "frozen": true,
     "read_only": false
    },
    "scrolled": true,
    "slideshow": {
     "slide_type": ""
    },
    "tags": [
     "parameters"
    ]
   },
   "outputs": [
    {
     "name": "stderr",
     "output_type": "stream",
     "text": [
      "Passed unknown parameter: idp_name\n",
      "Passed unknown parameter: idp_username\n",
      "Passed unknown parameter: idp_password\n"
     ]
    },
    {
     "name": "stdout",
     "output_type": "stream",
     "text": [
      "S3共通ストレージテスト - Amazon S3\n"
     ]
    },
    {
     "data": {
      "application/vnd.jupyter.widget-view+json": {
       "model_id": "3ea26519f65748709973df221f34e2dc",
       "version_major": 2,
       "version_minor": 0
      },
      "text/plain": [
       "Executing:   0%|          | 0/150 [00:00<?, ?cell/s]"
      ]
     },
     "execution_count": 22,
     "metadata": {},
     "output_type": "display_data"
    },
    {
     "name": "stderr",
     "output_type": "stream",
     "text": [
      "Passed unknown parameter: idp_name\n",
      "Passed unknown parameter: idp_username\n",
      "Passed unknown parameter: idp_password\n"
     ]
    },
    {
     "name": "stdout",
     "output_type": "stream",
     "text": [
      "S3共通ストレージテスト - S3 Compatible Storage\n"
     ]
    },
    {
     "data": {
      "application/vnd.jupyter.widget-view+json": {
       "model_id": "d1d05d97bbb34a4491fb300d08dc83bb",
       "version_major": 2,
       "version_minor": 0
      },
      "text/plain": [
       "Executing:   0%|          | 0/150 [00:00<?, ?cell/s]"
      ]
     },
     "execution_count": 22,
     "metadata": {},
     "output_type": "display_data"
    },
    {
     "data": {
      "text/plain": [
       "['result/result-20250610-144058/テスト手順-未ログイン.ipynb',\n",
       " 'result/result-20250610-144058/テスト手順-ログイン.ipynb',\n",
       " 'result/result-20250610-144058/テスト手順-拡張ストレージ-アカウント設定-Dropbox.ipynb',\n",
       " 'result/result-20250610-144058/取りまとめ-NIIストレージ.ipynb',\n",
       " 'result/result-20250610-144058/取りまとめ-S3共通-Amazon S3.ipynb',\n",
       " 'result/result-20250610-144058/取りまとめ-S3共通-S3 Compatible Storage.ipynb']"
      ]
     },
     "execution_count": 22,
     "metadata": {},
     "output_type": "execute_result"
    }
   ],
   "source": [
    "for storage_info in storages_s3:\n",
    "    storage_id = storage_info['id']\n",
    "    storage_name = storage_info['name']\n",
    "    print(f'S3共通ストレージテスト - {storage_name}')\n",
    "    rdm_project_prefixes[storage_id] = 'TEST-{}-{}'.format(storage_id.upper(), datetime.now().strftime('%Y%m%d-%H%M%S'))\n",
    "    result_notebooks.append(run_notebook(\n",
    "        '取りまとめ-S3共通.ipynb',\n",
    "        dict(\n",
    "            idp_name=idp_name_1,\n",
    "            idp_username=idp_username_1,\n",
    "            idp_password=idp_password_1,\n",
    "            idp_name_1=idp_name_1,\n",
    "            idp_username_1=idp_username_1,\n",
    "            idp_password_1=idp_password_1,\n",
    "            s3_access_key_1=locals()[f'{storage_id}_access_key_1'],\n",
    "            s3_secret_access_key_1=locals()[f'{storage_id}_secret_access_key_1'],\n",
    "            s3_default_region_1=locals()[f'{storage_id}_default_region_1'],\n",
    "            s3_test_bucket_name_1=locals()[f'{storage_id}_test_bucket_name_1'],\n",
    "            s3_access_key_2=locals()[f'{storage_id}_access_key_2'],\n",
    "            s3_secret_access_key_2=locals()[f'{storage_id}_secret_access_key_2'],\n",
    "            s3_default_region_2=locals()[f'{storage_id}_default_region_2'],\n",
    "            s3_test_bucket_name_2=locals()[f'{storage_id}_test_bucket_name_2'],\n",
    "            rdm_project_prefix=rdm_project_prefixes[storage_id],\n",
    "            target_storage_name=storage_name,\n",
    "            target_storage_id=storage_id,\n",
    "            enable_1gb_file_upload=enable_1gb_file_upload,\n",
    "            skip_preview_check=skip_preview_check,\n",
    "            \n",
    "            s3compat_type_name_1=s3compat_type_name_1 if storage_id == 's3compat' else None,\n",
    "            s3compat_type_name_2=s3compat_type_name_2 if storage_id == 's3compat' else None,\n",
    "            skip_too_many_files_check=storage_info.get('skip_too_many_files_check', False),\n",
    "        ),\n",
    "        f'-{storage_name}',\n",
    "    ))\n",
    "result_notebooks"
   ]
  },
  {
   "cell_type": "code",
   "execution_count": 23,
   "id": "7ec495ac-9bc6-4f76-be19-eaa5cd974207",
   "metadata": {
    "deletable": false,
    "editable": false,
    "lc_cell_meme": {
     "current": "3ad3ff3a-110f-11f0-acfe-1231102d67ae-14-146b-dcdd-8953-763d-2379-9a2c-0a3c-75cb-121d-158a",
     "execution_end_time": "2025-04-04T07:45:05.028Z",
     "history": [
      {
       "current": "3ad3ff3a-110f-11f0-acfe-1231102d67ae",
       "next": "4a660ff4-10f3-11f0-acfe-1231102d67ae",
       "previous": "3e836c18-0c75-11f0-b991-feb16f56f93e-3-ec50-acce-16d7"
      },
      {
       "current": "3ad3ff3a-110f-11f0-acfe-1231102d67ae",
       "next": "ce8c187e-f991-11ef-a92d-0242ac120006-9-964d-161e-73da-b120-ac56-8b98-1201-7cb7-3196",
       "previous": "3e836c18-0c75-11f0-b991-feb16f56f93e-3-ec50-acce-16d7"
      },
      {
       "current": "3ad3ff3a-110f-11f0-acfe-1231102d67ae",
       "next": "f8e78012-1116-11f0-acfe-1231102d67ae",
       "previous": "3e836c18-0c75-11f0-b991-feb16f56f93e-3-ec50-acce-16d7"
      },
      {
       "current": "3ad3ff3a-110f-11f0-acfe-1231102d67ae-1-295f",
       "next": "ce8c187e-f991-11ef-a92d-0242ac120006-9-964d-161e-73da-b120-ac56-8b98-1201-7cb7-3196",
       "previous": "3e836c18-0c75-11f0-b991-feb16f56f93e-3-ec50-acce-16d7"
      },
      {
       "current": "3ad3ff3a-110f-11f0-acfe-1231102d67ae-2-295f-e6ae",
       "next": "ce8c187e-f991-11ef-a92d-0242ac120006-10-964d-161e-73da-b120-ac56-8b98-1201-7cb7-3196-2eb1",
       "previous": "3e836c18-0c75-11f0-b991-feb16f56f93e-4-ec50-acce-16d7-78aa"
      },
      {
       "current": "3ad3ff3a-110f-11f0-acfe-1231102d67ae-2-295f-e6ae",
       "next": "ce8c187e-f991-11ef-a92d-0242ac120006-11-161e-73da-b120-ac56-8b98-1201-7cb7-3196-2eb1-0197",
       "previous": "3e836c18-0c75-11f0-b991-feb16f56f93e-5-ec50-acce-16d7-78aa-8f0d"
      },
      {
       "current": "3ad3ff3a-110f-11f0-acfe-1231102d67ae-3-295f-e6ae-8fc8",
       "next": "75724f5c-1349-11f0-88c4-7e93a5d0b9a2",
       "previous": "3e836c18-0c75-11f0-b991-feb16f56f93e-5-ec50-acce-16d7-78aa-8f0d"
      },
      {
       "current": "3ad3ff3a-110f-11f0-acfe-1231102d67ae-5-295f-e6ae-8fc8-2607-146b",
       "next": "75724f5c-1349-11f0-88c4-7e93a5d0b9a2-1-f5fc",
       "previous": "3e836c18-0c75-11f0-b991-feb16f56f93e-6-ec50-acce-16d7-78aa-8f0d-cf7d"
      },
      {
       "current": "3ad3ff3a-110f-11f0-acfe-1231102d67ae-7-295f-e6ae-8fc8-2607-146b-dcdd-8953",
       "next": "75724f5c-1349-11f0-88c4-7e93a5d0b9a2-3-f5fc-59bf-43bf",
       "previous": "3e836c18-0c75-11f0-b991-feb16f56f93e-8-ec50-acce-16d7-78aa-8f0d-cf7d-974d-99b6"
      },
      {
       "current": "3ad3ff3a-110f-11f0-acfe-1231102d67ae-8-295f-e6ae-8fc8-2607-146b-dcdd-8953-763d",
       "next": "75724f5c-1349-11f0-88c4-7e93a5d0b9a2-5-f5fc-59bf-43bf-c59f-3479",
       "previous": "3e836c18-0c75-11f0-b991-feb16f56f93e-10-ec50-acce-16d7-78aa-8f0d-cf7d-974d-99b6-ab69-3817"
      },
      {
       "current": "3ad3ff3a-110f-11f0-acfe-1231102d67ae-8-295f-e6ae-8fc8-2607-146b-dcdd-8953-763d",
       "next": "75724f5c-1349-11f0-88c4-7e93a5d0b9a2-6-f5fc-59bf-43bf-c59f-3479-3b46",
       "previous": "3e836c18-0c75-11f0-b991-feb16f56f93e-11-acce-16d7-78aa-8f0d-cf7d-974d-99b6-ab69-3817-252c"
      },
      {
       "current": "3ad3ff3a-110f-11f0-acfe-1231102d67ae-8-295f-e6ae-8fc8-2607-146b-dcdd-8953-763d",
       "next": "75724f5c-1349-11f0-88c4-7e93a5d0b9a2-6-f5fc-59bf-43bf-c59f-3479-3b46",
       "previous": "775b9550-1cc5-11f0-bede-d2c904970d7c"
      },
      {
       "current": "3ad3ff3a-110f-11f0-acfe-1231102d67ae-9-295f-e6ae-8fc8-2607-146b-dcdd-8953-763d-2379",
       "next": "75724f5c-1349-11f0-88c4-7e93a5d0b9a2-6-f5fc-59bf-43bf-c59f-3479-3b46",
       "previous": "3e836c18-0c75-11f0-b991-feb16f56f93e-11-acce-16d7-78aa-8f0d-cf7d-974d-99b6-ab69-3817-252c"
      },
      {
       "current": "3ad3ff3a-110f-11f0-acfe-1231102d67ae-9-295f-e6ae-8fc8-2607-146b-dcdd-8953-763d-2379",
       "next": "75724f5c-1349-11f0-88c4-7e93a5d0b9a2-7-f5fc-59bf-43bf-c59f-3479-3b46-9d78",
       "previous": "3e836c18-0c75-11f0-b991-feb16f56f93e-12-16d7-78aa-8f0d-cf7d-974d-99b6-ab69-3817-252c-8494"
      },
      {
       "current": "3ad3ff3a-110f-11f0-acfe-1231102d67ae-9-295f-e6ae-8fc8-2607-146b-dcdd-8953-763d-2379",
       "next": "92b2bcd6-2876-11f0-84de-32f9ed5d00a6",
       "previous": "3e836c18-0c75-11f0-b991-feb16f56f93e-12-16d7-78aa-8f0d-cf7d-974d-99b6-ab69-3817-252c-8494"
      },
      {
       "current": "3ad3ff3a-110f-11f0-acfe-1231102d67ae-11-e6ae-8fc8-2607-146b-dcdd-8953-763d-2379-9a2c-0a3c",
       "next": "75724f5c-1349-11f0-88c4-7e93a5d0b9a2-7-f5fc-59bf-43bf-c59f-3479-3b46-9d78",
       "previous": "3e836c18-0c75-11f0-b991-feb16f56f93e-12-16d7-78aa-8f0d-cf7d-974d-99b6-ab69-3817-252c-8494"
      },
      {
       "current": "3ad3ff3a-110f-11f0-acfe-1231102d67ae-14-146b-dcdd-8953-763d-2379-9a2c-0a3c-75cb-121d-158a",
       "next": "75724f5c-1349-11f0-88c4-7e93a5d0b9a2-9-f5fc-59bf-43bf-c59f-3479-3b46-9d78-3695-bedb",
       "previous": "3e836c18-0c75-11f0-b991-feb16f56f93e-14-8f0d-cf7d-974d-99b6-ab69-3817-252c-8494-3b83-67b5"
      }
     ],
     "next": "75724f5c-1349-11f0-88c4-7e93a5d0b9a2-12-43bf-c59f-3479-3b46-9d78-3695-bedb-6884-bc26-81db",
     "previous": "3e836c18-0c75-11f0-b991-feb16f56f93e-17-99b6-ab69-3817-252c-8494-3b83-67b5-55b6-1be6-cfb1"
    },
    "pinnedOutputTabIndex": 0,
    "run_through_control": {
     "frozen": true,
     "read_only": false
    }
   },
   "outputs": [
    {
     "name": "stderr",
     "output_type": "stream",
     "text": [
      "Passed unknown parameter: idp_name\n",
      "Passed unknown parameter: idp_username\n",
      "Passed unknown parameter: idp_password\n"
     ]
    },
    {
     "name": "stdout",
     "output_type": "stream",
     "text": [
      "Dropbox\n"
     ]
    },
    {
     "data": {
      "application/vnd.jupyter.widget-view+json": {
       "model_id": "a1a3c0fbfdeb49d2b7366e2e386c5f15",
       "version_major": 2,
       "version_minor": 0
      },
      "text/plain": [
       "Executing:   0%|          | 0/30 [00:00<?, ?cell/s]"
      ]
     },
     "execution_count": 23,
     "metadata": {},
     "output_type": "display_data"
    },
    {
     "data": {
      "text/plain": [
       "['result/result-20250610-144058/テスト手順-未ログイン.ipynb',\n",
       " 'result/result-20250610-144058/テスト手順-ログイン.ipynb',\n",
       " 'result/result-20250610-144058/テスト手順-拡張ストレージ-アカウント設定-Dropbox.ipynb',\n",
       " 'result/result-20250610-144058/取りまとめ-NIIストレージ.ipynb',\n",
       " 'result/result-20250610-144058/取りまとめ-S3共通-Amazon S3.ipynb',\n",
       " 'result/result-20250610-144058/取りまとめ-S3共通-S3 Compatible Storage.ipynb',\n",
       " 'result/result-20250610-144058/取りまとめ-拡張ストレージ-共通試験-Dropbox.ipynb']"
      ]
     },
     "execution_count": 23,
     "metadata": {},
     "output_type": "execute_result"
    }
   ],
   "source": [
    "for storage_info in storages_oauth[::-1]:\n",
    "    storage_id = storage_info['id']\n",
    "    storage_name = storage_info['name']\n",
    "    print(storage_name)\n",
    "    result_notebooks.append(run_notebook(\n",
    "        '取りまとめ-拡張ストレージ-共通試験.ipynb',\n",
    "        dict(\n",
    "            idp_name=idp_name_1,\n",
    "            idp_username=idp_username_1,\n",
    "            idp_password=idp_password_1,\n",
    "            idp_name_1=idp_name_1,\n",
    "            idp_username_1=idp_username_1,\n",
    "            idp_password_1=idp_password_1,\n",
    "            rdm_project_prefix=rdm_project_prefixes[storage_id],\n",
    "            target_storage_name=storage_name,\n",
    "            target_storage_id=storage_id,\n",
    "            enable_1gb_file_upload=enable_1gb_file_upload,\n",
    "        ),\n",
    "        f'-{storage_name}',\n",
    "    ))\n",
    "result_notebooks"
   ]
  },
  {
   "cell_type": "code",
   "execution_count": 24,
   "id": "ca7a0d4d-66c3-41d9-bdde-5442a59ed6ca",
   "metadata": {
    "deletable": false,
    "editable": false,
    "lc_cell_meme": {
     "current": "75724f5c-1349-11f0-88c4-7e93a5d0b9a2-12-43bf-c59f-3479-3b46-9d78-3695-bedb-6884-bc26-81db",
     "execution_end_time": "2025-04-07T01:27:01.561Z",
     "history": [
      {
       "current": "75724f5c-1349-11f0-88c4-7e93a5d0b9a2-1-f5fc",
       "next": "ce8c187e-f991-11ef-a92d-0242ac120006-11-161e-73da-b120-ac56-8b98-1201-7cb7-3196-2eb1-0197",
       "previous": "3ad3ff3a-110f-11f0-acfe-1231102d67ae-2-295f-e6ae"
      },
      {
       "current": "75724f5c-1349-11f0-88c4-7e93a5d0b9a2-1-f5fc",
       "next": "209f1b98-1382-11f0-9aa5-12c295de3846",
       "previous": "3ad3ff3a-110f-11f0-acfe-1231102d67ae-3-295f-e6ae-8fc8"
      },
      {
       "current": "75724f5c-1349-11f0-88c4-7e93a5d0b9a2-1-f5fc",
       "next": "ce8c187e-f991-11ef-a92d-0242ac120006-12-73da-b120-ac56-8b98-1201-7cb7-3196-2eb1-0197-36e5",
       "previous": "3ad3ff3a-110f-11f0-acfe-1231102d67ae-3-295f-e6ae-8fc8"
      },
      {
       "current": "75724f5c-1349-11f0-88c4-7e93a5d0b9a2-1-f5fc",
       "next": "2522b10c-1382-11f0-9aa5-12c295de3846",
       "previous": "3ad3ff3a-110f-11f0-acfe-1231102d67ae-3-295f-e6ae-8fc8"
      },
      {
       "current": "75724f5c-1349-11f0-88c4-7e93a5d0b9a2-3-f5fc-59bf-43bf",
       "next": "ce8c187e-f991-11ef-a92d-0242ac120006-12-73da-b120-ac56-8b98-1201-7cb7-3196-2eb1-0197-36e5",
       "previous": "3ad3ff3a-110f-11f0-acfe-1231102d67ae-3-295f-e6ae-8fc8"
      },
      {
       "current": "75724f5c-1349-11f0-88c4-7e93a5d0b9a2-5-f5fc-59bf-43bf-c59f-3479",
       "next": "ce8c187e-f991-11ef-a92d-0242ac120006-14-ac56-8b98-1201-7cb7-3196-2eb1-0197-36e5-a430-f688",
       "previous": "3ad3ff3a-110f-11f0-acfe-1231102d67ae-5-295f-e6ae-8fc8-2607-146b"
      },
      {
       "current": "75724f5c-1349-11f0-88c4-7e93a5d0b9a2-6-f5fc-59bf-43bf-c59f-3479-3b46",
       "next": "ce8c187e-f991-11ef-a92d-0242ac120006-16-1201-7cb7-3196-2eb1-0197-36e5-a430-f688-6e12-50ad",
       "previous": "3ad3ff3a-110f-11f0-acfe-1231102d67ae-7-295f-e6ae-8fc8-2607-146b-dcdd-8953"
      },
      {
       "current": "75724f5c-1349-11f0-88c4-7e93a5d0b9a2-6-f5fc-59bf-43bf-c59f-3479-3b46",
       "next": "ce8c187e-f991-11ef-a92d-0242ac120006-17-7cb7-3196-2eb1-0197-36e5-a430-f688-6e12-50ad-fa33",
       "previous": "3ad3ff3a-110f-11f0-acfe-1231102d67ae-8-295f-e6ae-8fc8-2607-146b-dcdd-8953-763d"
      },
      {
       "current": "75724f5c-1349-11f0-88c4-7e93a5d0b9a2-7-f5fc-59bf-43bf-c59f-3479-3b46-9d78",
       "next": "ffa0c83a-1d70-11f0-bede-d2c904970d7c",
       "previous": "3ad3ff3a-110f-11f0-acfe-1231102d67ae-8-295f-e6ae-8fc8-2607-146b-dcdd-8953-763d"
      },
      {
       "current": "75724f5c-1349-11f0-88c4-7e93a5d0b9a2-7-f5fc-59bf-43bf-c59f-3479-3b46-9d78",
       "next": "ffa0c83a-1d70-11f0-bede-d2c904970d7c-1-a604",
       "previous": "3ad3ff3a-110f-11f0-acfe-1231102d67ae-9-295f-e6ae-8fc8-2607-146b-dcdd-8953-763d-2379"
      },
      {
       "current": "75724f5c-1349-11f0-88c4-7e93a5d0b9a2-7-f5fc-59bf-43bf-c59f-3479-3b46-9d78",
       "next": "ffa0c83a-1d70-11f0-bede-d2c904970d7c-1-a604",
       "previous": "92b2bcd6-2876-11f0-84de-32f9ed5d00a6"
      },
      {
       "current": "75724f5c-1349-11f0-88c4-7e93a5d0b9a2-7-f5fc-59bf-43bf-c59f-3479-3b46-9d78",
       "next": "ffa0c83a-1d70-11f0-bede-d2c904970d7c-1-a604",
       "previous": "3ad3ff3a-110f-11f0-acfe-1231102d67ae-9-295f-e6ae-8fc8-2607-146b-dcdd-8953-763d-2379"
      },
      {
       "current": "75724f5c-1349-11f0-88c4-7e93a5d0b9a2-7-f5fc-59bf-43bf-c59f-3479-3b46-9d78",
       "next": "5aea7552-2888-11f0-84de-32f9ed5d00a6",
       "previous": "3ad3ff3a-110f-11f0-acfe-1231102d67ae-9-295f-e6ae-8fc8-2607-146b-dcdd-8953-763d-2379"
      },
      {
       "current": "75724f5c-1349-11f0-88c4-7e93a5d0b9a2-7-f5fc-59bf-43bf-c59f-3479-3b46-9d78",
       "next": "5aea7552-2888-11f0-84de-32f9ed5d00a6",
       "previous": "3ad3ff3a-110f-11f0-acfe-1231102d67ae-9-295f-e6ae-8fc8-2607-146b-dcdd-8953-763d-2379"
      },
      {
       "current": "75724f5c-1349-11f0-88c4-7e93a5d0b9a2-9-f5fc-59bf-43bf-c59f-3479-3b46-9d78-3695-bedb",
       "next": "5aea7552-2888-11f0-84de-32f9ed5d00a6-1-a992",
       "previous": "3ad3ff3a-110f-11f0-acfe-1231102d67ae-9-295f-e6ae-8fc8-2607-146b-dcdd-8953-763d-2379"
      },
      {
       "current": "75724f5c-1349-11f0-88c4-7e93a5d0b9a2-12-43bf-c59f-3479-3b46-9d78-3695-bedb-6884-bc26-81db",
       "next": "5aea7552-2888-11f0-84de-32f9ed5d00a6-3-a992-2874-4540",
       "previous": "3ad3ff3a-110f-11f0-acfe-1231102d67ae-11-e6ae-8fc8-2607-146b-dcdd-8953-763d-2379-9a2c-0a3c"
      }
     ],
     "next": "5aea7552-2888-11f0-84de-32f9ed5d00a6-6-a992-2874-4540-5148-2b67-d8ad",
     "previous": "3ad3ff3a-110f-11f0-acfe-1231102d67ae-14-146b-dcdd-8953-763d-2379-9a2c-0a3c-75cb-121d-158a"
    },
    "pinnedOutputTabIndex": 0,
    "run_through_control": {
     "frozen": true,
     "read_only": false
    }
   },
   "outputs": [
    {
     "name": "stderr",
     "output_type": "stream",
     "text": [
      "Passed unknown parameter: idp_name\n",
      "Passed unknown parameter: idp_username\n",
      "Passed unknown parameter: idp_password\n"
     ]
    },
    {
     "data": {
      "application/vnd.jupyter.widget-view+json": {
       "model_id": "bbddf350ca724a1ab20905d9a860b9f1",
       "version_major": 2,
       "version_minor": 0
      },
      "text/plain": [
       "Executing:   0%|          | 0/23 [00:00<?, ?cell/s]"
      ]
     },
     "execution_count": 24,
     "metadata": {},
     "output_type": "display_data"
    },
    {
     "data": {
      "text/plain": [
       "['result/result-20250610-144058/テスト手順-未ログイン.ipynb',\n",
       " 'result/result-20250610-144058/テスト手順-ログイン.ipynb',\n",
       " 'result/result-20250610-144058/テスト手順-拡張ストレージ-アカウント設定-Dropbox.ipynb',\n",
       " 'result/result-20250610-144058/取りまとめ-NIIストレージ.ipynb',\n",
       " 'result/result-20250610-144058/取りまとめ-S3共通-Amazon S3.ipynb',\n",
       " 'result/result-20250610-144058/取りまとめ-S3共通-S3 Compatible Storage.ipynb',\n",
       " 'result/result-20250610-144058/取りまとめ-拡張ストレージ-共通試験-Dropbox.ipynb',\n",
       " 'result/result-20250610-144058/取りまとめ-Metadataアドオン.ipynb']"
      ]
     },
     "execution_count": 24,
     "metadata": {},
     "output_type": "execute_result"
    }
   ],
   "source": [
    "if not skip_metadata:\n",
    "    result_notebooks.append(run_notebook(\n",
    "        '取りまとめ-Metadataアドオン.ipynb',\n",
    "        dict(\n",
    "            idp_name_1=idp_name_1,\n",
    "            idp_username_1=idp_username_1,\n",
    "            idp_password_1=idp_password_1,\n",
    "        ),\n",
    "    ))\n",
    "result_notebooks"
   ]
  },
  {
   "cell_type": "markdown",
   "id": "dec7726a-7c49-417b-bbb7-6aa2731c887b",
   "metadata": {
    "deletable": true,
    "editable": true,
    "lc_cell_meme": {
     "current": "5aea7552-2888-11f0-84de-32f9ed5d00a6-6-a992-2874-4540-5148-2b67-d8ad",
     "history": [
      {
       "current": "5aea7552-2888-11f0-84de-32f9ed5d00a6-3-a992-2874-4540",
       "next": "ffa0c83a-1d70-11f0-bede-d2c904970d7c-1-a604",
       "previous": "75724f5c-1349-11f0-88c4-7e93a5d0b9a2-7-f5fc-59bf-43bf-c59f-3479-3b46-9d78"
      },
      {
       "current": "5aea7552-2888-11f0-84de-32f9ed5d00a6-6-a992-2874-4540-5148-2b67-d8ad",
       "next": "ffa0c83a-1d70-11f0-bede-d2c904970d7c-3-a604-c68e-e257",
       "previous": "75724f5c-1349-11f0-88c4-7e93a5d0b9a2-9-f5fc-59bf-43bf-c59f-3479-3b46-9d78-3695-bedb"
      }
     ],
     "next": "ffa0c83a-1d70-11f0-bede-d2c904970d7c-6-a604-c68e-e257-7ee9-f214-f043",
     "previous": "75724f5c-1349-11f0-88c4-7e93a5d0b9a2-12-43bf-c59f-3479-3b46-9d78-3695-bedb-6884-bc26-81db"
    },
    "pinnedOutputTabIndex": 0,
    "run_through_control": {
     "frozen": false,
     "read_only": false
    }
   },
   "source": [
    "## 管理者機能関連テスト"
   ]
  },
  {
   "cell_type": "code",
   "execution_count": 25,
   "id": "937ad965-84a6-4dcd-bb62-0b1694893ca7",
   "metadata": {
    "deletable": false,
    "editable": false,
    "lc_cell_meme": {
     "current": "ffa0c83a-1d70-11f0-bede-d2c904970d7c-6-a604-c68e-e257-7ee9-f214-f043",
     "execution_end_time": "2025-04-19T23:09:57.850Z",
     "history": [
      {
       "current": "ffa0c83a-1d70-11f0-bede-d2c904970d7c-1-a604",
       "next": "ce8c187e-f991-11ef-a92d-0242ac120006-17-7cb7-3196-2eb1-0197-36e5-a430-f688-6e12-50ad-fa33",
       "previous": "75724f5c-1349-11f0-88c4-7e93a5d0b9a2-6-f5fc-59bf-43bf-c59f-3479-3b46"
      },
      {
       "current": "ffa0c83a-1d70-11f0-bede-d2c904970d7c-1-a604",
       "next": "ce8c187e-f991-11ef-a92d-0242ac120006-18-3196-2eb1-0197-36e5-a430-f688-6e12-50ad-fa33-99cb",
       "previous": "75724f5c-1349-11f0-88c4-7e93a5d0b9a2-7-f5fc-59bf-43bf-c59f-3479-3b46-9d78"
      },
      {
       "current": "ffa0c83a-1d70-11f0-bede-d2c904970d7c-1-a604",
       "next": "1f808a5c-2878-11f0-84de-32f9ed5d00a6",
       "previous": "75724f5c-1349-11f0-88c4-7e93a5d0b9a2-7-f5fc-59bf-43bf-c59f-3479-3b46-9d78"
      },
      {
       "current": "ffa0c83a-1d70-11f0-bede-d2c904970d7c-1-a604",
       "next": "ce8c187e-f991-11ef-a92d-0242ac120006-18-3196-2eb1-0197-36e5-a430-f688-6e12-50ad-fa33-99cb",
       "previous": "75724f5c-1349-11f0-88c4-7e93a5d0b9a2-7-f5fc-59bf-43bf-c59f-3479-3b46-9d78"
      },
      {
       "current": "ffa0c83a-1d70-11f0-bede-d2c904970d7c-1-a604",
       "next": "ce8c187e-f991-11ef-a92d-0242ac120006-18-3196-2eb1-0197-36e5-a430-f688-6e12-50ad-fa33-99cb",
       "previous": "5aea7552-2888-11f0-84de-32f9ed5d00a6"
      },
      {
       "current": "ffa0c83a-1d70-11f0-bede-d2c904970d7c-1-a604",
       "next": "ce8c187e-f991-11ef-a92d-0242ac120006-18-3196-2eb1-0197-36e5-a430-f688-6e12-50ad-fa33-99cb",
       "previous": "5aea7552-2888-11f0-84de-32f9ed5d00a6"
      },
      {
       "current": "ffa0c83a-1d70-11f0-bede-d2c904970d7c-3-a604-c68e-e257",
       "next": "ce8c187e-f991-11ef-a92d-0242ac120006-18-3196-2eb1-0197-36e5-a430-f688-6e12-50ad-fa33-99cb",
       "previous": "5aea7552-2888-11f0-84de-32f9ed5d00a6-1-a992"
      },
      {
       "current": "ffa0c83a-1d70-11f0-bede-d2c904970d7c-6-a604-c68e-e257-7ee9-f214-f043",
       "next": "ce8c187e-f991-11ef-a92d-0242ac120006-20-0197-36e5-a430-f688-6e12-50ad-fa33-99cb-c92b-a486",
       "previous": "5aea7552-2888-11f0-84de-32f9ed5d00a6-3-a992-2874-4540"
      }
     ],
     "next": "ce8c187e-f991-11ef-a92d-0242ac120006-23-f688-6e12-50ad-fa33-99cb-c92b-a486-41d9-7fd7-2dd8",
     "previous": "5aea7552-2888-11f0-84de-32f9ed5d00a6-6-a992-2874-4540-5148-2b67-d8ad"
    },
    "pinnedOutputTabIndex": 0,
    "run_through_control": {
     "frozen": true,
     "read_only": false
    }
   },
   "outputs": [
    {
     "name": "stderr",
     "output_type": "stream",
     "text": [
      "Passed unknown parameter: idp_name\n",
      "Passed unknown parameter: idp_username\n",
      "Passed unknown parameter: idp_password\n"
     ]
    },
    {
     "data": {
      "application/vnd.jupyter.widget-view+json": {
       "model_id": "b7e959d13062471197a7a4fc74f9c1f4",
       "version_major": 2,
       "version_minor": 0
      },
      "text/plain": [
       "Executing:   0%|          | 0/38 [00:00<?, ?cell/s]"
      ]
     },
     "execution_count": 25,
     "metadata": {},
     "output_type": "display_data"
    },
    {
     "data": {
      "text/plain": [
       "['result/result-20250610-144058/テスト手順-未ログイン.ipynb',\n",
       " 'result/result-20250610-144058/テスト手順-ログイン.ipynb',\n",
       " 'result/result-20250610-144058/テスト手順-拡張ストレージ-アカウント設定-Dropbox.ipynb',\n",
       " 'result/result-20250610-144058/取りまとめ-NIIストレージ.ipynb',\n",
       " 'result/result-20250610-144058/取りまとめ-S3共通-Amazon S3.ipynb',\n",
       " 'result/result-20250610-144058/取りまとめ-S3共通-S3 Compatible Storage.ipynb',\n",
       " 'result/result-20250610-144058/取りまとめ-拡張ストレージ-共通試験-Dropbox.ipynb',\n",
       " 'result/result-20250610-144058/取りまとめ-Metadataアドオン.ipynb',\n",
       " 'result/result-20250610-144058/取りまとめ-管理者機能.ipynb']"
      ]
     },
     "execution_count": 25,
     "metadata": {},
     "output_type": "execute_result"
    }
   ],
   "source": [
    "if not skip_admin:\n",
    "    result_notebooks.append(run_notebook(\n",
    "        '取りまとめ-管理者機能.ipynb',\n",
    "        dict(\n",
    "            admin_rdm_url=admin_rdm_url,\n",
    "            idp_name_1=idp_name_1,\n",
    "            idp_username_1=idp_username_1,\n",
    "            idp_password_1=idp_password_1,\n",
    "            idp_name_2=idp_name_2,\n",
    "            idp_username_2=idp_username_2,\n",
    "            idp_password_2=idp_password_2,\n",
    "            search_node_id=admin_search_node_id,\n",
    "            search_node_title=admin_search_node_title,\n",
    "            search_user_name=admin_search_user_name,\n",
    "            search_user_by_id=admin_search_user_by_id,\n",
    "            search_user_by_name=admin_search_user_by_name,\n",
    "            search_user_by_email=admin_search_user_by_email,\n",
    "            search_registration_id=admin_search_registration_id,\n",
    "            search_registration_title=admin_search_registration_title,\n",
    "            announcement_title=admin_announcement_title,\n",
    "            announcement_body=admin_announcement_body,\n",
    "            target_organization=admin_target_organization,\n",
    "            timestamp_project_name=admin_timestamp_project_name,\n",
    "            timestamp_start_date=admin_timestamp_start_date,\n",
    "            timestamp_end_date=admin_timestamp_end_date,\n",
    "            timestamp_user=admin_timestamp_user,\n",
    "            quota_user_id=admin_quota_user_id,\n",
    "            entitlement_text=admin_entitlement_text,\n",
    "        ),\n",
    "    ))\n",
    "result_notebooks"
   ]
  },
  {
   "cell_type": "markdown",
   "id": "fb4d1c59-a57e-4870-9a53-440fb398ca73",
   "metadata": {
    "deletable": true,
    "editable": true,
    "lc_cell_meme": {
     "current": "ce8c187e-f991-11ef-a92d-0242ac120006-23-f688-6e12-50ad-fa33-99cb-c92b-a486-41d9-7fd7-2dd8",
     "history": [
      {
       "current": "ce8c187e-f991-11ef-a92d-0242ac120006-3-964d-161e-73da",
       "next": "49140074-ecdc-11ef-b381-0242ac120006-4-25eb-deb0-0809-1273",
       "previous": "fc1e9000-ecda-11ef-b381-0242ac120006-4-ad5a-1453-986a-418b"
      },
      {
       "current": "ce8c187e-f991-11ef-a92d-0242ac120006-5-964d-161e-73da-b120-ac56",
       "next": "49140074-ecdc-11ef-b381-0242ac120006-6-25eb-deb0-0809-1273-60f1-622c",
       "previous": "fc1e9000-ecda-11ef-b381-0242ac120006-6-ad5a-1453-986a-418b-269a-3f21"
      },
      {
       "current": "ce8c187e-f991-11ef-a92d-0242ac120006-5-964d-161e-73da-b120-ac56",
       "next": "49140074-ecdc-11ef-b381-0242ac120006-6-25eb-deb0-0809-1273-60f1-622c",
       "previous": "fc1e9000-ecda-11ef-b381-0242ac120006-6-ad5a-1453-986a-418b-269a-3f21"
      },
      {
       "current": "ce8c187e-f991-11ef-a92d-0242ac120006-5-964d-161e-73da-b120-ac56",
       "next": "49140074-ecdc-11ef-b381-0242ac120006-8-25eb-deb0-0809-1273-60f1-622c-3afd-42ca",
       "previous": "fc1e9000-ecda-11ef-b381-0242ac120006-8-ad5a-1453-986a-418b-269a-3f21-466e-058e"
      },
      {
       "current": "ce8c187e-f991-11ef-a92d-0242ac120006-6-964d-161e-73da-b120-ac56-8b98",
       "next": "49140074-ecdc-11ef-b381-0242ac120006-8-25eb-deb0-0809-1273-60f1-622c-3afd-42ca",
       "previous": "9954a6fc-0c70-11f0-98e9-5e0a5654d7bd"
      },
      {
       "current": "ce8c187e-f991-11ef-a92d-0242ac120006-6-964d-161e-73da-b120-ac56-8b98",
       "next": "49140074-ecdc-11ef-b381-0242ac120006-9-25eb-deb0-0809-1273-60f1-622c-3afd-42ca-af3c",
       "previous": "3e836c18-0c75-11f0-b991-feb16f56f93e"
      },
      {
       "current": "ce8c187e-f991-11ef-a92d-0242ac120006-6-964d-161e-73da-b120-ac56-8b98",
       "next": "49140074-ecdc-11ef-b381-0242ac120006-9-25eb-deb0-0809-1273-60f1-622c-3afd-42ca-af3c",
       "previous": "522aa0f0-0c76-11f0-b991-feb16f56f93e"
      },
      {
       "current": "ce8c187e-f991-11ef-a92d-0242ac120006-7-964d-161e-73da-b120-ac56-8b98-1201",
       "next": "49140074-ecdc-11ef-b381-0242ac120006-9-25eb-deb0-0809-1273-60f1-622c-3afd-42ca-af3c",
       "previous": "3e836c18-0c75-11f0-b991-feb16f56f93e"
      },
      {
       "current": "ce8c187e-f991-11ef-a92d-0242ac120006-9-964d-161e-73da-b120-ac56-8b98-1201-7cb7-3196",
       "next": "49140074-ecdc-11ef-b381-0242ac120006-10-25eb-deb0-0809-1273-60f1-622c-3afd-42ca-af3c-0299",
       "previous": "3e836c18-0c75-11f0-b991-feb16f56f93e-1-ec50"
      },
      {
       "current": "ce8c187e-f991-11ef-a92d-0242ac120006-9-964d-161e-73da-b120-ac56-8b98-1201-7cb7-3196",
       "next": "49140074-ecdc-11ef-b381-0242ac120006-12-0809-1273-60f1-622c-3afd-42ca-af3c-0299-c116-49f4",
       "previous": "4a660ff4-10f3-11f0-acfe-1231102d67ae"
      },
      {
       "current": "ce8c187e-f991-11ef-a92d-0242ac120006-9-964d-161e-73da-b120-ac56-8b98-1201-7cb7-3196",
       "next": "49140074-ecdc-11ef-b381-0242ac120006-12-0809-1273-60f1-622c-3afd-42ca-af3c-0299-c116-49f4",
       "previous": "3ad3ff3a-110f-11f0-acfe-1231102d67ae"
      },
      {
       "current": "ce8c187e-f991-11ef-a92d-0242ac120006-9-964d-161e-73da-b120-ac56-8b98-1201-7cb7-3196",
       "next": "49140074-ecdc-11ef-b381-0242ac120006-12-0809-1273-60f1-622c-3afd-42ca-af3c-0299-c116-49f4",
       "previous": "f8e78012-1116-11f0-acfe-1231102d67ae"
      },
      {
       "current": "ce8c187e-f991-11ef-a92d-0242ac120006-10-964d-161e-73da-b120-ac56-8b98-1201-7cb7-3196-2eb1",
       "next": "49140074-ecdc-11ef-b381-0242ac120006-12-0809-1273-60f1-622c-3afd-42ca-af3c-0299-c116-49f4",
       "previous": "3ad3ff3a-110f-11f0-acfe-1231102d67ae"
      },
      {
       "current": "ce8c187e-f991-11ef-a92d-0242ac120006-11-161e-73da-b120-ac56-8b98-1201-7cb7-3196-2eb1-0197",
       "next": "49140074-ecdc-11ef-b381-0242ac120006-13-1273-60f1-622c-3afd-42ca-af3c-0299-c116-49f4-0329",
       "previous": "3ad3ff3a-110f-11f0-acfe-1231102d67ae-1-295f"
      },
      {
       "current": "ce8c187e-f991-11ef-a92d-0242ac120006-11-161e-73da-b120-ac56-8b98-1201-7cb7-3196-2eb1-0197",
       "next": "49140074-ecdc-11ef-b381-0242ac120006-14-60f1-622c-3afd-42ca-af3c-0299-c116-49f4-0329-1070",
       "previous": "3ad3ff3a-110f-11f0-acfe-1231102d67ae-2-295f-e6ae"
      },
      {
       "current": "ce8c187e-f991-11ef-a92d-0242ac120006-12-73da-b120-ac56-8b98-1201-7cb7-3196-2eb1-0197-36e5",
       "next": "49140074-ecdc-11ef-b381-0242ac120006-14-60f1-622c-3afd-42ca-af3c-0299-c116-49f4-0329-1070",
       "previous": "75724f5c-1349-11f0-88c4-7e93a5d0b9a2"
      },
      {
       "current": "ce8c187e-f991-11ef-a92d-0242ac120006-12-73da-b120-ac56-8b98-1201-7cb7-3196-2eb1-0197-36e5",
       "next": "49140074-ecdc-11ef-b381-0242ac120006-15-622c-3afd-42ca-af3c-0299-c116-49f4-0329-1070-c8dc",
       "previous": "209f1b98-1382-11f0-9aa5-12c295de3846"
      },
      {
       "current": "ce8c187e-f991-11ef-a92d-0242ac120006-12-73da-b120-ac56-8b98-1201-7cb7-3196-2eb1-0197-36e5",
       "next": "49140074-ecdc-11ef-b381-0242ac120006-15-622c-3afd-42ca-af3c-0299-c116-49f4-0329-1070-c8dc",
       "previous": "75724f5c-1349-11f0-88c4-7e93a5d0b9a2-1-f5fc"
      },
      {
       "current": "ce8c187e-f991-11ef-a92d-0242ac120006-12-73da-b120-ac56-8b98-1201-7cb7-3196-2eb1-0197-36e5",
       "next": "49140074-ecdc-11ef-b381-0242ac120006-15-622c-3afd-42ca-af3c-0299-c116-49f4-0329-1070-c8dc",
       "previous": "2522b10c-1382-11f0-9aa5-12c295de3846"
      },
      {
       "current": "ce8c187e-f991-11ef-a92d-0242ac120006-14-ac56-8b98-1201-7cb7-3196-2eb1-0197-36e5-a430-f688",
       "next": "49140074-ecdc-11ef-b381-0242ac120006-15-622c-3afd-42ca-af3c-0299-c116-49f4-0329-1070-c8dc",
       "previous": "75724f5c-1349-11f0-88c4-7e93a5d0b9a2-1-f5fc"
      },
      {
       "current": "ce8c187e-f991-11ef-a92d-0242ac120006-16-1201-7cb7-3196-2eb1-0197-36e5-a430-f688-6e12-50ad",
       "next": "49140074-ecdc-11ef-b381-0242ac120006-17-42ca-af3c-0299-c116-49f4-0329-1070-c8dc-dbe5-281b",
       "previous": "75724f5c-1349-11f0-88c4-7e93a5d0b9a2-3-f5fc-59bf-43bf"
      },
      {
       "current": "ce8c187e-f991-11ef-a92d-0242ac120006-17-7cb7-3196-2eb1-0197-36e5-a430-f688-6e12-50ad-fa33",
       "next": "49140074-ecdc-11ef-b381-0242ac120006-19-0299-c116-49f4-0329-1070-c8dc-dbe5-281b-05e4-fe24",
       "previous": "75724f5c-1349-11f0-88c4-7e93a5d0b9a2-5-f5fc-59bf-43bf-c59f-3479"
      },
      {
       "current": "ce8c187e-f991-11ef-a92d-0242ac120006-17-7cb7-3196-2eb1-0197-36e5-a430-f688-6e12-50ad-fa33",
       "next": "49140074-ecdc-11ef-b381-0242ac120006-20-c116-49f4-0329-1070-c8dc-dbe5-281b-05e4-fe24-20a1",
       "previous": "75724f5c-1349-11f0-88c4-7e93a5d0b9a2-6-f5fc-59bf-43bf-c59f-3479-3b46"
      },
      {
       "current": "ce8c187e-f991-11ef-a92d-0242ac120006-18-3196-2eb1-0197-36e5-a430-f688-6e12-50ad-fa33-99cb",
       "next": "49140074-ecdc-11ef-b381-0242ac120006-20-c116-49f4-0329-1070-c8dc-dbe5-281b-05e4-fe24-20a1",
       "previous": "ffa0c83a-1d70-11f0-bede-d2c904970d7c"
      },
      {
       "current": "ce8c187e-f991-11ef-a92d-0242ac120006-18-3196-2eb1-0197-36e5-a430-f688-6e12-50ad-fa33-99cb",
       "next": "49140074-ecdc-11ef-b381-0242ac120006-21-49f4-0329-1070-c8dc-dbe5-281b-05e4-fe24-20a1-8c49",
       "previous": "ffa0c83a-1d70-11f0-bede-d2c904970d7c-1-a604"
      },
      {
       "current": "ce8c187e-f991-11ef-a92d-0242ac120006-18-3196-2eb1-0197-36e5-a430-f688-6e12-50ad-fa33-99cb",
       "next": "49140074-ecdc-11ef-b381-0242ac120006-21-49f4-0329-1070-c8dc-dbe5-281b-05e4-fe24-20a1-8c49",
       "previous": "1f808a5c-2878-11f0-84de-32f9ed5d00a6"
      },
      {
       "current": "ce8c187e-f991-11ef-a92d-0242ac120006-20-0197-36e5-a430-f688-6e12-50ad-fa33-99cb-c92b-a486",
       "next": "49140074-ecdc-11ef-b381-0242ac120006-21-49f4-0329-1070-c8dc-dbe5-281b-05e4-fe24-20a1-8c49",
       "previous": "ffa0c83a-1d70-11f0-bede-d2c904970d7c-1-a604"
      },
      {
       "current": "ce8c187e-f991-11ef-a92d-0242ac120006-23-f688-6e12-50ad-fa33-99cb-c92b-a486-41d9-7fd7-2dd8",
       "next": "49140074-ecdc-11ef-b381-0242ac120006-23-1070-c8dc-dbe5-281b-05e4-fe24-20a1-8c49-b848-6d70",
       "previous": "ffa0c83a-1d70-11f0-bede-d2c904970d7c-3-a604-c68e-e257"
      }
     ],
     "next": "49140074-ecdc-11ef-b381-0242ac120006-26-281b-05e4-fe24-20a1-8c49-b848-6d70-96f3-ac29-3900",
     "previous": "ffa0c83a-1d70-11f0-bede-d2c904970d7c-6-a604-c68e-e257-7ee9-f214-f043"
    },
    "pinnedOutputTabIndex": 0,
    "run_through_control": {
     "frozen": false,
     "read_only": false
    }
   },
   "source": [
    "# 結果の収集"
   ]
  },
  {
   "cell_type": "code",
   "execution_count": 26,
   "id": "46d80668-dc9f-437e-b239-49e9787e144b",
   "metadata": {
    "deletable": false,
    "editable": false,
    "lc_cell_meme": {
     "current": "49140074-ecdc-11ef-b381-0242ac120006-26-281b-05e4-fe24-20a1-8c49-b848-6d70-96f3-ac29-3900",
     "execution_end_time": "2025-02-17T03:09:32.934Z",
     "history": [
      {
       "current": "49140074-ecdc-11ef-b381-0242ac120006-1-25eb",
       "next": "8fb6040a-ecdc-11ef-b381-0242ac120006",
       "previous": "fc1e9000-ecda-11ef-b381-0242ac120006"
      },
      {
       "current": "49140074-ecdc-11ef-b381-0242ac120006-1-25eb",
       "next": "8fb6040a-ecdc-11ef-b381-0242ac120006-1-297f",
       "previous": "fc1e9000-ecda-11ef-b381-0242ac120006-1-ad5a"
      },
      {
       "current": "49140074-ecdc-11ef-b381-0242ac120006-1-25eb",
       "next": "114a6988-eced-11ef-a157-0242ac120006",
       "previous": "fc1e9000-ecda-11ef-b381-0242ac120006-1-ad5a"
      },
      {
       "current": "49140074-ecdc-11ef-b381-0242ac120006-1-25eb",
       "next": "114a6988-eced-11ef-a157-0242ac120006",
       "previous": "6bf860c6-ed13-11ef-a157-0242ac120006"
      },
      {
       "current": "49140074-ecdc-11ef-b381-0242ac120006-1-25eb",
       "next": "114a6988-eced-11ef-a157-0242ac120006",
       "previous": "fc1e9000-ecda-11ef-b381-0242ac120006-1-ad5a"
      },
      {
       "current": "49140074-ecdc-11ef-b381-0242ac120006-1-25eb",
       "next": "8fb6040a-ecdc-11ef-b381-0242ac120006-1-297f",
       "previous": "fc1e9000-ecda-11ef-b381-0242ac120006-1-ad5a"
      },
      {
       "current": "49140074-ecdc-11ef-b381-0242ac120006-2-25eb-deb0",
       "next": "5219f0aa-ed1a-11ef-a157-0242ac120006",
       "previous": "fc1e9000-ecda-11ef-b381-0242ac120006-1-ad5a"
      },
      {
       "current": "49140074-ecdc-11ef-b381-0242ac120006-2-25eb-deb0",
       "next": "5219f0aa-ed1a-11ef-a157-0242ac120006-1-ae56",
       "previous": "fc1e9000-ecda-11ef-b381-0242ac120006-2-ad5a-1453"
      },
      {
       "current": "49140074-ecdc-11ef-b381-0242ac120006-2-25eb-deb0",
       "next": "5219f0aa-ed1a-11ef-a157-0242ac120006-1-ae56",
       "previous": "1edadbf2-edcc-11ef-a157-0242ac120006"
      },
      {
       "current": "49140074-ecdc-11ef-b381-0242ac120006-4-25eb-deb0-0809-1273",
       "next": "5219f0aa-ed1a-11ef-a157-0242ac120006-1-ae56",
       "previous": "fc1e9000-ecda-11ef-b381-0242ac120006-2-ad5a-1453"
      },
      {
       "current": "49140074-ecdc-11ef-b381-0242ac120006-4-25eb-deb0-0809-1273",
       "next": "5219f0aa-ed1a-11ef-a157-0242ac120006-3-ae56-d3e5-60f3",
       "previous": "fc1e9000-ecda-11ef-b381-0242ac120006-4-ad5a-1453-986a-418b"
      },
      {
       "current": "49140074-ecdc-11ef-b381-0242ac120006-4-25eb-deb0-0809-1273",
       "next": "5219f0aa-ed1a-11ef-a157-0242ac120006-3-ae56-d3e5-60f3",
       "previous": "ce8c187e-f991-11ef-a92d-0242ac120006"
      },
      {
       "current": "49140074-ecdc-11ef-b381-0242ac120006-4-25eb-deb0-0809-1273",
       "next": "5219f0aa-ed1a-11ef-a157-0242ac120006-3-ae56-d3e5-60f3",
       "previous": "ce8c187e-f991-11ef-a92d-0242ac120006"
      },
      {
       "current": "49140074-ecdc-11ef-b381-0242ac120006-4-25eb-deb0-0809-1273",
       "next": "5219f0aa-ed1a-11ef-a157-0242ac120006-3-ae56-d3e5-60f3",
       "previous": "ce8c187e-f991-11ef-a92d-0242ac120006-1-964d"
      },
      {
       "current": "49140074-ecdc-11ef-b381-0242ac120006-4-25eb-deb0-0809-1273",
       "next": "eb6dbd76-f991-11ef-a92d-0242ac120006",
       "previous": "ce8c187e-f991-11ef-a92d-0242ac120006-1-964d"
      },
      {
       "current": "49140074-ecdc-11ef-b381-0242ac120006-4-25eb-deb0-0809-1273",
       "next": "eb6dbd76-f991-11ef-a92d-0242ac120006",
       "previous": "ce8c187e-f991-11ef-a92d-0242ac120006-1-964d"
      },
      {
       "current": "49140074-ecdc-11ef-b381-0242ac120006-4-25eb-deb0-0809-1273",
       "next": "5219f0aa-ed1a-11ef-a157-0242ac120006-3-ae56-d3e5-60f3",
       "previous": "ce8c187e-f991-11ef-a92d-0242ac120006-1-964d"
      },
      {
       "current": "49140074-ecdc-11ef-b381-0242ac120006-4-25eb-deb0-0809-1273",
       "next": "3aed01c2-f992-11ef-a92d-0242ac120006",
       "previous": "ce8c187e-f991-11ef-a92d-0242ac120006-1-964d"
      },
      {
       "current": "49140074-ecdc-11ef-b381-0242ac120006-4-25eb-deb0-0809-1273",
       "next": "3aed01c2-f992-11ef-a92d-0242ac120006",
       "previous": "ce8c187e-f991-11ef-a92d-0242ac120006-1-964d"
      },
      {
       "current": "49140074-ecdc-11ef-b381-0242ac120006-6-25eb-deb0-0809-1273-60f1-622c",
       "next": "3aed01c2-f992-11ef-a92d-0242ac120006-1-8381",
       "previous": "ce8c187e-f991-11ef-a92d-0242ac120006-1-964d"
      },
      {
       "current": "49140074-ecdc-11ef-b381-0242ac120006-8-25eb-deb0-0809-1273-60f1-622c-3afd-42ca",
       "next": "3aed01c2-f992-11ef-a92d-0242ac120006-3-8381-06fd-07a0",
       "previous": "ce8c187e-f991-11ef-a92d-0242ac120006-3-964d-161e-73da"
      },
      {
       "current": "49140074-ecdc-11ef-b381-0242ac120006-8-25eb-deb0-0809-1273-60f1-622c-3afd-42ca",
       "next": "3aed01c2-f992-11ef-a92d-0242ac120006-3-8381-06fd-07a0",
       "previous": "ce8c187e-f991-11ef-a92d-0242ac120006-3-964d-161e-73da"
      },
      {
       "current": "49140074-ecdc-11ef-b381-0242ac120006-9-25eb-deb0-0809-1273-60f1-622c-3afd-42ca-af3c",
       "next": "3aed01c2-f992-11ef-a92d-0242ac120006-5-8381-06fd-07a0-431e-d5cc",
       "previous": "ce8c187e-f991-11ef-a92d-0242ac120006-5-964d-161e-73da-b120-ac56"
      },
      {
       "current": "49140074-ecdc-11ef-b381-0242ac120006-10-25eb-deb0-0809-1273-60f1-622c-3afd-42ca-af3c-0299",
       "next": "3aed01c2-f992-11ef-a92d-0242ac120006-6-8381-06fd-07a0-431e-d5cc-eb22",
       "previous": "ce8c187e-f991-11ef-a92d-0242ac120006-6-964d-161e-73da-b120-ac56-8b98"
      },
      {
       "current": "49140074-ecdc-11ef-b381-0242ac120006-12-0809-1273-60f1-622c-3afd-42ca-af3c-0299-c116-49f4",
       "next": "3aed01c2-f992-11ef-a92d-0242ac120006-7-8381-06fd-07a0-431e-d5cc-eb22-056a",
       "previous": "ce8c187e-f991-11ef-a92d-0242ac120006-7-964d-161e-73da-b120-ac56-8b98-1201"
      },
      {
       "current": "49140074-ecdc-11ef-b381-0242ac120006-13-1273-60f1-622c-3afd-42ca-af3c-0299-c116-49f4-0329",
       "next": "3aed01c2-f992-11ef-a92d-0242ac120006-9-8381-06fd-07a0-431e-d5cc-eb22-056a-fdfa-1ec7",
       "previous": "ce8c187e-f991-11ef-a92d-0242ac120006-9-964d-161e-73da-b120-ac56-8b98-1201-7cb7-3196"
      },
      {
       "current": "49140074-ecdc-11ef-b381-0242ac120006-14-60f1-622c-3afd-42ca-af3c-0299-c116-49f4-0329-1070",
       "next": "3aed01c2-f992-11ef-a92d-0242ac120006-10-8381-06fd-07a0-431e-d5cc-eb22-056a-fdfa-1ec7-14f3",
       "previous": "ce8c187e-f991-11ef-a92d-0242ac120006-10-964d-161e-73da-b120-ac56-8b98-1201-7cb7-3196-2eb1"
      },
      {
       "current": "49140074-ecdc-11ef-b381-0242ac120006-15-622c-3afd-42ca-af3c-0299-c116-49f4-0329-1070-c8dc",
       "next": "3aed01c2-f992-11ef-a92d-0242ac120006-11-06fd-07a0-431e-d5cc-eb22-056a-fdfa-1ec7-14f3-9bf6",
       "previous": "ce8c187e-f991-11ef-a92d-0242ac120006-11-161e-73da-b120-ac56-8b98-1201-7cb7-3196-2eb1-0197"
      },
      {
       "current": "49140074-ecdc-11ef-b381-0242ac120006-17-42ca-af3c-0299-c116-49f4-0329-1070-c8dc-dbe5-281b",
       "next": "3aed01c2-f992-11ef-a92d-0242ac120006-12-07a0-431e-d5cc-eb22-056a-fdfa-1ec7-14f3-9bf6-079f",
       "previous": "ce8c187e-f991-11ef-a92d-0242ac120006-12-73da-b120-ac56-8b98-1201-7cb7-3196-2eb1-0197-36e5"
      },
      {
       "current": "49140074-ecdc-11ef-b381-0242ac120006-19-0299-c116-49f4-0329-1070-c8dc-dbe5-281b-05e4-fe24",
       "next": "3aed01c2-f992-11ef-a92d-0242ac120006-14-d5cc-eb22-056a-fdfa-1ec7-14f3-9bf6-079f-3a55-cc39",
       "previous": "ce8c187e-f991-11ef-a92d-0242ac120006-14-ac56-8b98-1201-7cb7-3196-2eb1-0197-36e5-a430-f688"
      },
      {
       "current": "49140074-ecdc-11ef-b381-0242ac120006-20-c116-49f4-0329-1070-c8dc-dbe5-281b-05e4-fe24-20a1",
       "next": "3aed01c2-f992-11ef-a92d-0242ac120006-16-056a-fdfa-1ec7-14f3-9bf6-079f-3a55-cc39-83fe-230d",
       "previous": "ce8c187e-f991-11ef-a92d-0242ac120006-16-1201-7cb7-3196-2eb1-0197-36e5-a430-f688-6e12-50ad"
      },
      {
       "current": "49140074-ecdc-11ef-b381-0242ac120006-21-49f4-0329-1070-c8dc-dbe5-281b-05e4-fe24-20a1-8c49",
       "next": "3aed01c2-f992-11ef-a92d-0242ac120006-17-fdfa-1ec7-14f3-9bf6-079f-3a55-cc39-83fe-230d-f5d9",
       "previous": "ce8c187e-f991-11ef-a92d-0242ac120006-17-7cb7-3196-2eb1-0197-36e5-a430-f688-6e12-50ad-fa33"
      },
      {
       "current": "49140074-ecdc-11ef-b381-0242ac120006-23-1070-c8dc-dbe5-281b-05e4-fe24-20a1-8c49-b848-6d70",
       "next": "3aed01c2-f992-11ef-a92d-0242ac120006-18-1ec7-14f3-9bf6-079f-3a55-cc39-83fe-230d-f5d9-f500",
       "previous": "ce8c187e-f991-11ef-a92d-0242ac120006-18-3196-2eb1-0197-36e5-a430-f688-6e12-50ad-fa33-99cb"
      },
      {
       "current": "49140074-ecdc-11ef-b381-0242ac120006-26-281b-05e4-fe24-20a1-8c49-b848-6d70-96f3-ac29-3900",
       "next": "3aed01c2-f992-11ef-a92d-0242ac120006-20-9bf6-079f-3a55-cc39-83fe-230d-f5d9-f500-8bd6-fcb9",
       "previous": "ce8c187e-f991-11ef-a92d-0242ac120006-20-0197-36e5-a430-f688-6e12-50ad-fa33-99cb-c92b-a486"
      }
     ],
     "next": "3aed01c2-f992-11ef-a92d-0242ac120006-23-cc39-83fe-230d-f5d9-f500-8bd6-fcb9-1861-ce67-a0c1",
     "previous": "ce8c187e-f991-11ef-a92d-0242ac120006-23-f688-6e12-50ad-fa33-99cb-c92b-a486-41d9-7fd7-2dd8"
    },
    "pinnedOutputTabIndex": 0,
    "run_through_control": {
     "frozen": true,
     "read_only": false
    },
    "scrolled": true,
    "slideshow": {
     "slide_type": ""
    },
    "tags": []
   },
   "outputs": [
    {
     "name": "stdout",
     "output_type": "stream",
     "text": [
      "total 35844\n",
      "drwxr-sr-x 11 jovyan users    4096 Jun 10 15:43  .\n",
      "drwxr-sr-x 13 jovyan users    4096 Jun 10 14:40  ..\n",
      "drwxr-sr-x  2 jovyan users    4096 Jun 10 14:43  テスト手順-ログイン\n",
      "-rw-r--r--  1 jovyan users 4029056 Jun 10 14:43  テスト手順-ログイン.ipynb\n",
      "drwxr-sr-x  2 jovyan users    4096 Jun 10 14:52  テスト手順-拡張ストレージ-アカウント設定-Dropbox\n",
      "-rw-r--r--  1 jovyan users 8160494 Jun 10 14:53  テスト手順-拡張ストレージ-アカウント設定-Dropbox.ipynb\n",
      "drwxr-sr-x  2 jovyan users    4096 Jun 10 14:41  テスト手順-未ログイン\n",
      "-rw-r--r--  1 jovyan users 2511464 Jun 10 14:41  テスト手順-未ログイン.ipynb\n",
      "drwxr-sr-x  3 jovyan users    4096 Jun 10 15:43  取りまとめ-Metadataアドオン\n",
      "-rw-r--r--  1 jovyan users 1405465 Jun 10 15:43  取りまとめ-Metadataアドオン.ipynb\n",
      "drwxr-sr-x  3 jovyan users    4096 Jun 10 14:53  取りまとめ-NIIストレージ\n",
      "-rw-r--r--  1 jovyan users  113740 Jun 10 15:02  取りまとめ-NIIストレージ.ipynb\n",
      "drwxr-sr-x  3 jovyan users    4096 Jun 10 15:15 '取りまとめ-S3共通-Amazon S3'\n",
      "-rw-r--r--  1 jovyan users 9038177 Jun 10 15:15 '取りまとめ-S3共通-Amazon S3.ipynb'\n",
      "drwxr-sr-x  3 jovyan users    4096 Jun 10 15:27 '取りまとめ-S3共通-S3 Compatible Storage'\n",
      "-rw-r--r--  1 jovyan users 9311312 Jun 10 15:27 '取りまとめ-S3共通-S3 Compatible Storage.ipynb'\n",
      "drwxr-sr-x  3 jovyan users    4096 Jun 10 15:36  取りまとめ-拡張ストレージ-共通試験-Dropbox\n",
      "-rw-r--r--  1 jovyan users 1609747 Jun 10 15:36  取りまとめ-拡張ストレージ-共通試験-Dropbox.ipynb\n",
      "drwxr-sr-x  3 jovyan users    4096 Jun 10 15:43  取りまとめ-管理者機能\n",
      "-rw-r--r--  1 jovyan users  458602 Jun 10 15:51  取りまとめ-管理者機能.ipynb\n"
     ]
    }
   ],
   "source": [
    "!ls -la {result_dir}"
   ]
  },
  {
   "cell_type": "markdown",
   "id": "35b7fb77-80bf-4ee5-95f4-eeb24d8646c7",
   "metadata": {
    "deletable": true,
    "editable": true,
    "lc_cell_meme": {
     "current": "3aed01c2-f992-11ef-a92d-0242ac120006-23-cc39-83fe-230d-f5d9-f500-8bd6-fcb9-1861-ce67-a0c1",
     "history": [
      {
       "current": "3aed01c2-f992-11ef-a92d-0242ac120006-3-8381-06fd-07a0",
       "next": "5219f0aa-ed1a-11ef-a157-0242ac120006-3-ae56-d3e5-60f3",
       "previous": "49140074-ecdc-11ef-b381-0242ac120006-4-25eb-deb0-0809-1273"
      },
      {
       "current": "3aed01c2-f992-11ef-a92d-0242ac120006-5-8381-06fd-07a0-431e-d5cc",
       "next": "5219f0aa-ed1a-11ef-a157-0242ac120006-5-ae56-d3e5-60f3-64d0-9d2d",
       "previous": "49140074-ecdc-11ef-b381-0242ac120006-6-25eb-deb0-0809-1273-60f1-622c"
      },
      {
       "current": "3aed01c2-f992-11ef-a92d-0242ac120006-5-8381-06fd-07a0-431e-d5cc",
       "next": "5219f0aa-ed1a-11ef-a157-0242ac120006-5-ae56-d3e5-60f3-64d0-9d2d",
       "previous": "49140074-ecdc-11ef-b381-0242ac120006-6-25eb-deb0-0809-1273-60f1-622c"
      },
      {
       "current": "3aed01c2-f992-11ef-a92d-0242ac120006-6-8381-06fd-07a0-431e-d5cc-eb22",
       "next": "5219f0aa-ed1a-11ef-a157-0242ac120006-7-ae56-d3e5-60f3-64d0-9d2d-86c5-4d1c",
       "previous": "49140074-ecdc-11ef-b381-0242ac120006-8-25eb-deb0-0809-1273-60f1-622c-3afd-42ca"
      },
      {
       "current": "3aed01c2-f992-11ef-a92d-0242ac120006-6-8381-06fd-07a0-431e-d5cc-eb22",
       "next": "5219f0aa-ed1a-11ef-a157-0242ac120006-8-ae56-d3e5-60f3-64d0-9d2d-86c5-4d1c-4e32",
       "previous": "49140074-ecdc-11ef-b381-0242ac120006-9-25eb-deb0-0809-1273-60f1-622c-3afd-42ca-af3c"
      },
      {
       "current": "3aed01c2-f992-11ef-a92d-0242ac120006-7-8381-06fd-07a0-431e-d5cc-eb22-056a",
       "next": "eb6dbd76-f991-11ef-a92d-0242ac120006-6-8889-842e-cedc-47e8-1a64-21aa",
       "previous": "49140074-ecdc-11ef-b381-0242ac120006-9-25eb-deb0-0809-1273-60f1-622c-3afd-42ca-af3c"
      },
      {
       "current": "3aed01c2-f992-11ef-a92d-0242ac120006-9-8381-06fd-07a0-431e-d5cc-eb22-056a-fdfa-1ec7",
       "next": "eb6dbd76-f991-11ef-a92d-0242ac120006-7-8889-842e-cedc-47e8-1a64-21aa-fe61",
       "previous": "49140074-ecdc-11ef-b381-0242ac120006-10-25eb-deb0-0809-1273-60f1-622c-3afd-42ca-af3c-0299"
      },
      {
       "current": "3aed01c2-f992-11ef-a92d-0242ac120006-10-8381-06fd-07a0-431e-d5cc-eb22-056a-fdfa-1ec7-14f3",
       "next": "eb6dbd76-f991-11ef-a92d-0242ac120006-9-8889-842e-cedc-47e8-1a64-21aa-fe61-ff57-dd67",
       "previous": "49140074-ecdc-11ef-b381-0242ac120006-12-0809-1273-60f1-622c-3afd-42ca-af3c-0299-c116-49f4"
      },
      {
       "current": "3aed01c2-f992-11ef-a92d-0242ac120006-11-06fd-07a0-431e-d5cc-eb22-056a-fdfa-1ec7-14f3-9bf6",
       "next": "eb6dbd76-f991-11ef-a92d-0242ac120006-10-8889-842e-cedc-47e8-1a64-21aa-fe61-ff57-dd67-d3c2",
       "previous": "49140074-ecdc-11ef-b381-0242ac120006-13-1273-60f1-622c-3afd-42ca-af3c-0299-c116-49f4-0329"
      },
      {
       "current": "3aed01c2-f992-11ef-a92d-0242ac120006-12-07a0-431e-d5cc-eb22-056a-fdfa-1ec7-14f3-9bf6-079f",
       "next": "eb6dbd76-f991-11ef-a92d-0242ac120006-11-842e-cedc-47e8-1a64-21aa-fe61-ff57-dd67-d3c2-efa6",
       "previous": "49140074-ecdc-11ef-b381-0242ac120006-14-60f1-622c-3afd-42ca-af3c-0299-c116-49f4-0329-1070"
      },
      {
       "current": "3aed01c2-f992-11ef-a92d-0242ac120006-14-d5cc-eb22-056a-fdfa-1ec7-14f3-9bf6-079f-3a55-cc39",
       "next": "eb6dbd76-f991-11ef-a92d-0242ac120006-12-cedc-47e8-1a64-21aa-fe61-ff57-dd67-d3c2-efa6-634e",
       "previous": "49140074-ecdc-11ef-b381-0242ac120006-15-622c-3afd-42ca-af3c-0299-c116-49f4-0329-1070-c8dc"
      },
      {
       "current": "3aed01c2-f992-11ef-a92d-0242ac120006-16-056a-fdfa-1ec7-14f3-9bf6-079f-3a55-cc39-83fe-230d",
       "next": "eb6dbd76-f991-11ef-a92d-0242ac120006-14-1a64-21aa-fe61-ff57-dd67-d3c2-efa6-634e-b217-b28c",
       "previous": "49140074-ecdc-11ef-b381-0242ac120006-17-42ca-af3c-0299-c116-49f4-0329-1070-c8dc-dbe5-281b"
      },
      {
       "current": "3aed01c2-f992-11ef-a92d-0242ac120006-17-fdfa-1ec7-14f3-9bf6-079f-3a55-cc39-83fe-230d-f5d9",
       "next": "eb6dbd76-f991-11ef-a92d-0242ac120006-16-fe61-ff57-dd67-d3c2-efa6-634e-b217-b28c-8bc6-3c71",
       "previous": "49140074-ecdc-11ef-b381-0242ac120006-19-0299-c116-49f4-0329-1070-c8dc-dbe5-281b-05e4-fe24"
      },
      {
       "current": "3aed01c2-f992-11ef-a92d-0242ac120006-18-1ec7-14f3-9bf6-079f-3a55-cc39-83fe-230d-f5d9-f500",
       "next": "eb6dbd76-f991-11ef-a92d-0242ac120006-17-ff57-dd67-d3c2-efa6-634e-b217-b28c-8bc6-3c71-c6c2",
       "previous": "49140074-ecdc-11ef-b381-0242ac120006-20-c116-49f4-0329-1070-c8dc-dbe5-281b-05e4-fe24-20a1"
      },
      {
       "current": "3aed01c2-f992-11ef-a92d-0242ac120006-20-9bf6-079f-3a55-cc39-83fe-230d-f5d9-f500-8bd6-fcb9",
       "next": "eb6dbd76-f991-11ef-a92d-0242ac120006-18-dd67-d3c2-efa6-634e-b217-b28c-8bc6-3c71-c6c2-9528",
       "previous": "49140074-ecdc-11ef-b381-0242ac120006-21-49f4-0329-1070-c8dc-dbe5-281b-05e4-fe24-20a1-8c49"
      },
      {
       "current": "3aed01c2-f992-11ef-a92d-0242ac120006-23-cc39-83fe-230d-f5d9-f500-8bd6-fcb9-1861-ce67-a0c1",
       "next": "eb6dbd76-f991-11ef-a92d-0242ac120006-20-efa6-634e-b217-b28c-8bc6-3c71-c6c2-9528-fdee-f837",
       "previous": "49140074-ecdc-11ef-b381-0242ac120006-23-1070-c8dc-dbe5-281b-05e4-fe24-20a1-8c49-b848-6d70"
      }
     ],
     "next": "eb6dbd76-f991-11ef-a92d-0242ac120006-23-b28c-8bc6-3c71-c6c2-9528-fdee-f837-cc7d-2764-019c",
     "previous": "49140074-ecdc-11ef-b381-0242ac120006-26-281b-05e4-fe24-20a1-8c49-b848-6d70-96f3-ac29-3900"
    },
    "pinnedOutputTabIndex": 0,
    "run_through_control": {
     "frozen": false,
     "read_only": false
    }
   },
   "source": [
    "## 動画の調整\n",
    "\n",
    "操作中のシーンに見出し字幕をつける"
   ]
  },
  {
   "cell_type": "code",
   "execution_count": 27,
   "id": "1ea36712-4d46-4c17-973d-9e90946f74be",
   "metadata": {
    "deletable": false,
    "editable": false,
    "lc_cell_meme": {
     "current": "eb6dbd76-f991-11ef-a92d-0242ac120006-23-b28c-8bc6-3c71-c6c2-9528-fdee-f837-cc7d-2764-019c",
     "execution_end_time": "2025-03-05T07:32:57.309Z",
     "history": [
      {
       "current": "eb6dbd76-f991-11ef-a92d-0242ac120006",
       "next": "5219f0aa-ed1a-11ef-a157-0242ac120006-3-ae56-d3e5-60f3",
       "previous": "49140074-ecdc-11ef-b381-0242ac120006-4-25eb-deb0-0809-1273"
      },
      {
       "current": "eb6dbd76-f991-11ef-a92d-0242ac120006-1-8889",
       "next": "5219f0aa-ed1a-11ef-a157-0242ac120006-3-ae56-d3e5-60f3",
       "previous": "49140074-ecdc-11ef-b381-0242ac120006-4-25eb-deb0-0809-1273"
      },
      {
       "current": "eb6dbd76-f991-11ef-a92d-0242ac120006-1-8889",
       "next": "6de74618-edc2-11ef-a157-0242ac120006-2-de82-6fc2",
       "previous": "5219f0aa-ed1a-11ef-a157-0242ac120006-3-ae56-d3e5-60f3"
      },
      {
       "current": "eb6dbd76-f991-11ef-a92d-0242ac120006-1-8889",
       "next": "816e156e-f992-11ef-a92d-0242ac120006",
       "previous": "5219f0aa-ed1a-11ef-a157-0242ac120006-3-ae56-d3e5-60f3"
      },
      {
       "current": "eb6dbd76-f991-11ef-a92d-0242ac120006-1-8889",
       "next": "6de74618-edc2-11ef-a157-0242ac120006-2-de82-6fc2",
       "previous": "5219f0aa-ed1a-11ef-a157-0242ac120006-3-ae56-d3e5-60f3"
      },
      {
       "current": "eb6dbd76-f991-11ef-a92d-0242ac120006-1-8889",
       "next": "15675aaa-f993-11ef-a92d-0242ac120006",
       "previous": "5219f0aa-ed1a-11ef-a157-0242ac120006-3-ae56-d3e5-60f3"
      },
      {
       "current": "eb6dbd76-f991-11ef-a92d-0242ac120006-1-8889",
       "next": "15675aaa-f993-11ef-a92d-0242ac120006",
       "previous": "5219f0aa-ed1a-11ef-a157-0242ac120006-3-ae56-d3e5-60f3"
      },
      {
       "current": "eb6dbd76-f991-11ef-a92d-0242ac120006-3-8889-842e-cedc",
       "next": "15675aaa-f993-11ef-a92d-0242ac120006-1-d2e6",
       "previous": "5219f0aa-ed1a-11ef-a157-0242ac120006-3-ae56-d3e5-60f3"
      },
      {
       "current": "eb6dbd76-f991-11ef-a92d-0242ac120006-5-8889-842e-cedc-47e8-1a64",
       "next": "15675aaa-f993-11ef-a92d-0242ac120006-3-d2e6-6a44-9e21",
       "previous": "5219f0aa-ed1a-11ef-a157-0242ac120006-5-ae56-d3e5-60f3-64d0-9d2d"
      },
      {
       "current": "eb6dbd76-f991-11ef-a92d-0242ac120006-5-8889-842e-cedc-47e8-1a64",
       "next": "15675aaa-f993-11ef-a92d-0242ac120006-3-d2e6-6a44-9e21",
       "previous": "5219f0aa-ed1a-11ef-a157-0242ac120006-5-ae56-d3e5-60f3-64d0-9d2d"
      },
      {
       "current": "eb6dbd76-f991-11ef-a92d-0242ac120006-6-8889-842e-cedc-47e8-1a64-21aa",
       "next": "15675aaa-f993-11ef-a92d-0242ac120006-5-d2e6-6a44-9e21-1744-ab0b",
       "previous": "5219f0aa-ed1a-11ef-a157-0242ac120006-7-ae56-d3e5-60f3-64d0-9d2d-86c5-4d1c"
      },
      {
       "current": "eb6dbd76-f991-11ef-a92d-0242ac120006-6-8889-842e-cedc-47e8-1a64-21aa",
       "next": "15675aaa-f993-11ef-a92d-0242ac120006-6-d2e6-6a44-9e21-1744-ab0b-3935",
       "previous": "5219f0aa-ed1a-11ef-a157-0242ac120006-8-ae56-d3e5-60f3-64d0-9d2d-86c5-4d1c-4e32"
      },
      {
       "current": "eb6dbd76-f991-11ef-a92d-0242ac120006-7-8889-842e-cedc-47e8-1a64-21aa-fe61",
       "next": "15675aaa-f993-11ef-a92d-0242ac120006-6-d2e6-6a44-9e21-1744-ab0b-3935",
       "previous": "3aed01c2-f992-11ef-a92d-0242ac120006-6-8381-06fd-07a0-431e-d5cc-eb22"
      },
      {
       "current": "eb6dbd76-f991-11ef-a92d-0242ac120006-9-8889-842e-cedc-47e8-1a64-21aa-fe61-ff57-dd67",
       "next": "15675aaa-f993-11ef-a92d-0242ac120006-7-d2e6-6a44-9e21-1744-ab0b-3935-5dfc",
       "previous": "3aed01c2-f992-11ef-a92d-0242ac120006-7-8381-06fd-07a0-431e-d5cc-eb22-056a"
      },
      {
       "current": "eb6dbd76-f991-11ef-a92d-0242ac120006-9-8889-842e-cedc-47e8-1a64-21aa-fe61-ff57-dd67",
       "next": "15675aaa-f993-11ef-a92d-0242ac120006-9-d2e6-6a44-9e21-1744-ab0b-3935-5dfc-db5e-1d89",
       "previous": "3aed01c2-f992-11ef-a92d-0242ac120006-9-8381-06fd-07a0-431e-d5cc-eb22-056a-fdfa-1ec7"
      },
      {
       "current": "eb6dbd76-f991-11ef-a92d-0242ac120006-9-8889-842e-cedc-47e8-1a64-21aa-fe61-ff57-dd67",
       "next": "09b30c72-112b-11f0-acfe-1231102d67ae",
       "previous": "3aed01c2-f992-11ef-a92d-0242ac120006-9-8381-06fd-07a0-431e-d5cc-eb22-056a-fdfa-1ec7"
      },
      {
       "current": "eb6dbd76-f991-11ef-a92d-0242ac120006-9-8889-842e-cedc-47e8-1a64-21aa-fe61-ff57-dd67",
       "next": "09b30c72-112b-11f0-acfe-1231102d67ae",
       "previous": "3aed01c2-f992-11ef-a92d-0242ac120006-9-8381-06fd-07a0-431e-d5cc-eb22-056a-fdfa-1ec7"
      },
      {
       "current": "eb6dbd76-f991-11ef-a92d-0242ac120006-10-8889-842e-cedc-47e8-1a64-21aa-fe61-ff57-dd67-d3c2",
       "next": "09b30c72-112b-11f0-acfe-1231102d67ae-1-3ee5",
       "previous": "3aed01c2-f992-11ef-a92d-0242ac120006-9-8381-06fd-07a0-431e-d5cc-eb22-056a-fdfa-1ec7"
      },
      {
       "current": "eb6dbd76-f991-11ef-a92d-0242ac120006-11-842e-cedc-47e8-1a64-21aa-fe61-ff57-dd67-d3c2-efa6",
       "next": "09b30c72-112b-11f0-acfe-1231102d67ae-2-3ee5-19d8",
       "previous": "3aed01c2-f992-11ef-a92d-0242ac120006-10-8381-06fd-07a0-431e-d5cc-eb22-056a-fdfa-1ec7-14f3"
      },
      {
       "current": "eb6dbd76-f991-11ef-a92d-0242ac120006-12-cedc-47e8-1a64-21aa-fe61-ff57-dd67-d3c2-efa6-634e",
       "next": "09b30c72-112b-11f0-acfe-1231102d67ae-3-3ee5-19d8-bd1a",
       "previous": "3aed01c2-f992-11ef-a92d-0242ac120006-11-06fd-07a0-431e-d5cc-eb22-056a-fdfa-1ec7-14f3-9bf6"
      },
      {
       "current": "eb6dbd76-f991-11ef-a92d-0242ac120006-14-1a64-21aa-fe61-ff57-dd67-d3c2-efa6-634e-b217-b28c",
       "next": "09b30c72-112b-11f0-acfe-1231102d67ae-4-3ee5-19d8-bd1a-477f",
       "previous": "3aed01c2-f992-11ef-a92d-0242ac120006-12-07a0-431e-d5cc-eb22-056a-fdfa-1ec7-14f3-9bf6-079f"
      },
      {
       "current": "eb6dbd76-f991-11ef-a92d-0242ac120006-16-fe61-ff57-dd67-d3c2-efa6-634e-b217-b28c-8bc6-3c71",
       "next": "09b30c72-112b-11f0-acfe-1231102d67ae-6-3ee5-19d8-bd1a-477f-1db0-8b13",
       "previous": "3aed01c2-f992-11ef-a92d-0242ac120006-14-d5cc-eb22-056a-fdfa-1ec7-14f3-9bf6-079f-3a55-cc39"
      },
      {
       "current": "eb6dbd76-f991-11ef-a92d-0242ac120006-17-ff57-dd67-d3c2-efa6-634e-b217-b28c-8bc6-3c71-c6c2",
       "next": "09b30c72-112b-11f0-acfe-1231102d67ae-8-3ee5-19d8-bd1a-477f-1db0-8b13-34f7-5067",
       "previous": "3aed01c2-f992-11ef-a92d-0242ac120006-16-056a-fdfa-1ec7-14f3-9bf6-079f-3a55-cc39-83fe-230d"
      },
      {
       "current": "eb6dbd76-f991-11ef-a92d-0242ac120006-18-dd67-d3c2-efa6-634e-b217-b28c-8bc6-3c71-c6c2-9528",
       "next": "09b30c72-112b-11f0-acfe-1231102d67ae-9-3ee5-19d8-bd1a-477f-1db0-8b13-34f7-5067-6577",
       "previous": "3aed01c2-f992-11ef-a92d-0242ac120006-17-fdfa-1ec7-14f3-9bf6-079f-3a55-cc39-83fe-230d-f5d9"
      },
      {
       "current": "eb6dbd76-f991-11ef-a92d-0242ac120006-20-efa6-634e-b217-b28c-8bc6-3c71-c6c2-9528-fdee-f837",
       "next": "09b30c72-112b-11f0-acfe-1231102d67ae-10-3ee5-19d8-bd1a-477f-1db0-8b13-34f7-5067-6577-4b7a",
       "previous": "3aed01c2-f992-11ef-a92d-0242ac120006-18-1ec7-14f3-9bf6-079f-3a55-cc39-83fe-230d-f5d9-f500"
      },
      {
       "current": "eb6dbd76-f991-11ef-a92d-0242ac120006-23-b28c-8bc6-3c71-c6c2-9528-fdee-f837-cc7d-2764-019c",
       "next": "09b30c72-112b-11f0-acfe-1231102d67ae-12-bd1a-477f-1db0-8b13-34f7-5067-6577-4b7a-ca7a-8d73",
       "previous": "3aed01c2-f992-11ef-a92d-0242ac120006-20-9bf6-079f-3a55-cc39-83fe-230d-f5d9-f500-8bd6-fcb9"
      }
     ],
     "next": "09b30c72-112b-11f0-acfe-1231102d67ae-15-8b13-34f7-5067-6577-4b7a-ca7a-8d73-959b-605a-1000",
     "previous": "3aed01c2-f992-11ef-a92d-0242ac120006-23-cc39-83fe-230d-f5d9-f500-8bd6-fcb9-1861-ce67-a0c1"
    },
    "pinnedOutputTabIndex": 0,
    "run_through_control": {
     "frozen": true,
     "read_only": false
    },
    "scrolled": true
   },
   "outputs": [],
   "source": [
    "# import pandas as pd\n",
    "# # import importlib\n",
    "# # import scripts.stat\n",
    "# # importlib.reload(scripts.stat)\n",
    "# from scripts.stat import get_notebook_stats\n",
    "\n",
    "# # https://chatgpt.com/share/67c7faa7-3cb4-8003-8249-1fb4b6f47093\n",
    "# def seconds_to_ass_time(seconds):\n",
    "#     \"\"\"秒を ASS の時間フォーマット (h:mm:ss.cs) に変換\"\"\"\n",
    "#     hours = int(seconds // 3600)\n",
    "#     minutes = int((seconds % 3600) // 60)\n",
    "#     sec = int(seconds % 60)\n",
    "#     centiseconds = int((seconds - int(seconds)) * 100)  # 1秒=100センチ秒\n",
    "#     return f\"{hours}:{minutes:02}:{sec:02}.{centiseconds:02}\"\n",
    "\n",
    "# def generate_ass_from_dataframe(df, output_file=\"subtitles.ass\"):\n",
    "#     \"\"\"\n",
    "#     Pandas DataFrame から .ass ファイルを生成する。\n",
    "#     DataFrame は 'duration' (秒), 'text' (字幕内容) のカラムを持つとする。\n",
    "#     \"\"\"\n",
    "#     ass_header = \"\"\"[Script Info]\n",
    "# Title: Generated ASS\n",
    "# ScriptType: v4.00+\n",
    "# Collisions: Normal\n",
    "# PlayDepth: 0\n",
    "\n",
    "# [V4+ Styles]\n",
    "# Format: Name, Fontname, Fontsize, PrimaryColour, SecondaryColour, OutlineColour, BackColour, Bold, Italic, Underline, StrikeOut, ScaleX, ScaleY, Spacing, Angle, BorderStyle, Outline, Shadow, Alignment, MarginL, MarginR, MarginV, Encoding\n",
    "# Style: Default,Arial,20,&H00FFFFFF,&H000000FF,&H00000000,&H80000000,-1,0,0,0,100,100,0,0,1,1,0,2,10,10,10,1\n",
    "\n",
    "# [Events]\n",
    "# Format: Layer, Start, End, Style, Name, MarginL, MarginR, MarginV, Effect, Text\n",
    "# \"\"\"\n",
    "\n",
    "#     ass_events = []\n",
    "#     start_time = 0.0  # 最初の字幕の開始時間\n",
    "#     for _, row in df.iterrows():\n",
    "#         if row[\"header\"] is None:\n",
    "#             # 先頭部分の処理は字幕対象外\n",
    "#             continue\n",
    "#         duration = row[\"duration\"]\n",
    "#         if duration == 0:\n",
    "#             continue\n",
    "#         text = row[\"header\"].replace(\"\\n\", \"\\\\N\")  # ASS は改行を \\N で表現\n",
    "#         end_time = start_time + duration\n",
    "#         ass_events.append(f\"Dialogue: 0,{seconds_to_ass_time(start_time)},{seconds_to_ass_time(end_time)},Default,,0,0,0,,{text}\")\n",
    "#         start_time = end_time  # 次の字幕の開始時間を更新\n",
    "\n",
    "#     # ASS ファイルを書き出し\n",
    "#     with open(output_file, \"w\", encoding=\"utf-8\") as f:\n",
    "#         f.write(ass_header + \"\\n\".join(ass_events))\n",
    "\n",
    "#     print(f\"ASS ファイルが生成されました: {output_file}\")\n",
    "\n",
    "# for dirname in os.listdir(result_dir):\n",
    "#     dirpath = os.path.join(result_dir, dirname)\n",
    "#     if not os.path.isdir(dirpath):\n",
    "#         continue\n",
    "#     video_paths = [\n",
    "#         os.path.join(dirpath, f)\n",
    "#         for f in os.listdir(dirpath)\n",
    "#         if os.path.splitext(f)[-1].lower() == '.webm'\n",
    "#     ]\n",
    "    \n",
    "#     current_df = get_notebook_stats(dirpath + '.ipynb')\n",
    "    \n",
    "#     # .ass を生成\n",
    "#     ass_path = os.path.join(work_dir, \"output.ass\")\n",
    "#     generate_ass_from_dataframe(current_df, ass_path)\n",
    "#     !cat {ass_path}\n",
    "    \n",
    "#     temp_path = os.path.join(work_dir, 'output.webm')\n",
    "    \n",
    "#     if len(video_paths) > 0:\n",
    "#         video_path = video_paths[0]\n",
    "#         !ffmpeg -i \"{video_path}\" -vf \"ass={ass_path}\" -c:v libvpx-vp9 -y -c:a copy {temp_path}\n",
    "#         video_pathbody, _ = os.path.splitext(video_path)\n",
    "#         !cp {temp_path} \"{video_pathbody}.subtitle.webm\""
   ]
  },
  {
   "cell_type": "markdown",
   "id": "b509a643-1df6-4c6c-b24b-cc5a8de2b96b",
   "metadata": {
    "deletable": true,
    "editable": true,
    "lc_cell_meme": {
     "current": "09b30c72-112b-11f0-acfe-1231102d67ae-15-8b13-34f7-5067-6577-4b7a-ca7a-8d73-959b-605a-1000",
     "history": [
      {
       "current": "09b30c72-112b-11f0-acfe-1231102d67ae-1-3ee5",
       "next": "15675aaa-f993-11ef-a92d-0242ac120006-9-d2e6-6a44-9e21-1744-ab0b-3935-5dfc-db5e-1d89",
       "previous": "eb6dbd76-f991-11ef-a92d-0242ac120006-9-8889-842e-cedc-47e8-1a64-21aa-fe61-ff57-dd67"
      },
      {
       "current": "09b30c72-112b-11f0-acfe-1231102d67ae-1-3ee5",
       "next": "2bdbb708-112c-11f0-acfe-1231102d67ae",
       "previous": "eb6dbd76-f991-11ef-a92d-0242ac120006-9-8889-842e-cedc-47e8-1a64-21aa-fe61-ff57-dd67"
      },
      {
       "current": "09b30c72-112b-11f0-acfe-1231102d67ae-1-3ee5",
       "next": "7752de0e-112d-11f0-acfe-1231102d67ae",
       "previous": "eb6dbd76-f991-11ef-a92d-0242ac120006-9-8889-842e-cedc-47e8-1a64-21aa-fe61-ff57-dd67"
      },
      {
       "current": "09b30c72-112b-11f0-acfe-1231102d67ae-1-3ee5",
       "next": "8e6d9f8e-112d-11f0-acfe-1231102d67ae",
       "previous": "eb6dbd76-f991-11ef-a92d-0242ac120006-9-8889-842e-cedc-47e8-1a64-21aa-fe61-ff57-dd67"
      },
      {
       "current": "09b30c72-112b-11f0-acfe-1231102d67ae-1-3ee5",
       "next": "cbc7e6b2-112f-11f0-acfe-1231102d67ae",
       "previous": "eb6dbd76-f991-11ef-a92d-0242ac120006-9-8889-842e-cedc-47e8-1a64-21aa-fe61-ff57-dd67"
      },
      {
       "current": "09b30c72-112b-11f0-acfe-1231102d67ae-2-3ee5-19d8",
       "next": "8e6d9f8e-112d-11f0-acfe-1231102d67ae",
       "previous": "eb6dbd76-f991-11ef-a92d-0242ac120006-9-8889-842e-cedc-47e8-1a64-21aa-fe61-ff57-dd67"
      },
      {
       "current": "09b30c72-112b-11f0-acfe-1231102d67ae-3-3ee5-19d8-bd1a",
       "next": "8e6d9f8e-112d-11f0-acfe-1231102d67ae-1-2604",
       "previous": "eb6dbd76-f991-11ef-a92d-0242ac120006-10-8889-842e-cedc-47e8-1a64-21aa-fe61-ff57-dd67-d3c2"
      },
      {
       "current": "09b30c72-112b-11f0-acfe-1231102d67ae-4-3ee5-19d8-bd1a-477f",
       "next": "8e6d9f8e-112d-11f0-acfe-1231102d67ae-2-2604-4366",
       "previous": "eb6dbd76-f991-11ef-a92d-0242ac120006-11-842e-cedc-47e8-1a64-21aa-fe61-ff57-dd67-d3c2-efa6"
      },
      {
       "current": "09b30c72-112b-11f0-acfe-1231102d67ae-6-3ee5-19d8-bd1a-477f-1db0-8b13",
       "next": "8e6d9f8e-112d-11f0-acfe-1231102d67ae-3-2604-4366-d3cf",
       "previous": "eb6dbd76-f991-11ef-a92d-0242ac120006-12-cedc-47e8-1a64-21aa-fe61-ff57-dd67-d3c2-efa6-634e"
      },
      {
       "current": "09b30c72-112b-11f0-acfe-1231102d67ae-8-3ee5-19d8-bd1a-477f-1db0-8b13-34f7-5067",
       "next": "8e6d9f8e-112d-11f0-acfe-1231102d67ae-5-2604-4366-d3cf-0383-8043",
       "previous": "eb6dbd76-f991-11ef-a92d-0242ac120006-14-1a64-21aa-fe61-ff57-dd67-d3c2-efa6-634e-b217-b28c"
      },
      {
       "current": "09b30c72-112b-11f0-acfe-1231102d67ae-9-3ee5-19d8-bd1a-477f-1db0-8b13-34f7-5067-6577",
       "next": "8e6d9f8e-112d-11f0-acfe-1231102d67ae-7-2604-4366-d3cf-0383-8043-893c-1118",
       "previous": "eb6dbd76-f991-11ef-a92d-0242ac120006-16-fe61-ff57-dd67-d3c2-efa6-634e-b217-b28c-8bc6-3c71"
      },
      {
       "current": "09b30c72-112b-11f0-acfe-1231102d67ae-10-3ee5-19d8-bd1a-477f-1db0-8b13-34f7-5067-6577-4b7a",
       "next": "8e6d9f8e-112d-11f0-acfe-1231102d67ae-8-2604-4366-d3cf-0383-8043-893c-1118-4af1",
       "previous": "eb6dbd76-f991-11ef-a92d-0242ac120006-17-ff57-dd67-d3c2-efa6-634e-b217-b28c-8bc6-3c71-c6c2"
      },
      {
       "current": "09b30c72-112b-11f0-acfe-1231102d67ae-12-bd1a-477f-1db0-8b13-34f7-5067-6577-4b7a-ca7a-8d73",
       "next": "8e6d9f8e-112d-11f0-acfe-1231102d67ae-9-2604-4366-d3cf-0383-8043-893c-1118-4af1-7d5b",
       "previous": "eb6dbd76-f991-11ef-a92d-0242ac120006-18-dd67-d3c2-efa6-634e-b217-b28c-8bc6-3c71-c6c2-9528"
      },
      {
       "current": "09b30c72-112b-11f0-acfe-1231102d67ae-15-8b13-34f7-5067-6577-4b7a-ca7a-8d73-959b-605a-1000",
       "next": "8e6d9f8e-112d-11f0-acfe-1231102d67ae-11-4366-d3cf-0383-8043-893c-1118-4af1-7d5b-2171-1b2f",
       "previous": "eb6dbd76-f991-11ef-a92d-0242ac120006-20-efa6-634e-b217-b28c-8bc6-3c71-c6c2-9528-fdee-f837"
      }
     ],
     "next": "8e6d9f8e-112d-11f0-acfe-1231102d67ae-14-8043-893c-1118-4af1-7d5b-2171-1b2f-4c4c-00df-da8f",
     "previous": "eb6dbd76-f991-11ef-a92d-0242ac120006-23-b28c-8bc6-3c71-c6c2-9528-fdee-f837-cc7d-2764-019c"
    },
    "pinnedOutputTabIndex": 0,
    "run_through_control": {
     "frozen": false,
     "read_only": false
    }
   },
   "source": [
    "## 実施結果のまとめ"
   ]
  },
  {
   "cell_type": "code",
   "execution_count": 28,
   "id": "8dd31aab-5f4a-45b4-89bb-85f1f3837f5a",
   "metadata": {
    "deletable": false,
    "editable": false,
    "lc_cell_meme": {
     "current": "12e7c0d8-1132-11f0-acfe-1231102d67ae-14-2a4a-a810-3404-7621-fbed-f497-5af4-6a3f-3f8e-7e6f",
     "history": [
      {
       "current": "12e7c0d8-1132-11f0-acfe-1231102d67ae-1-08ea",
       "next": "2bdbb708-112c-11f0-acfe-1231102d67ae",
       "previous": "8e6d9f8e-112d-11f0-acfe-1231102d67ae"
      },
      {
       "current": "12e7c0d8-1132-11f0-acfe-1231102d67ae-2-08ea-b381",
       "next": "2bdbb708-112c-11f0-acfe-1231102d67ae-1-666c",
       "previous": "8e6d9f8e-112d-11f0-acfe-1231102d67ae-1-2604"
      },
      {
       "current": "12e7c0d8-1132-11f0-acfe-1231102d67ae-3-08ea-b381-ef28",
       "next": "2bdbb708-112c-11f0-acfe-1231102d67ae-2-666c-7f7d",
       "previous": "8e6d9f8e-112d-11f0-acfe-1231102d67ae-2-2604-4366"
      },
      {
       "current": "12e7c0d8-1132-11f0-acfe-1231102d67ae-5-08ea-b381-ef28-90c7-2a4a",
       "next": "2bdbb708-112c-11f0-acfe-1231102d67ae-3-666c-7f7d-6b8b",
       "previous": "8e6d9f8e-112d-11f0-acfe-1231102d67ae-3-2604-4366-d3cf"
      },
      {
       "current": "12e7c0d8-1132-11f0-acfe-1231102d67ae-7-08ea-b381-ef28-90c7-2a4a-a810-3404",
       "next": "2bdbb708-112c-11f0-acfe-1231102d67ae-5-666c-7f7d-6b8b-ae57-1f5c",
       "previous": "8e6d9f8e-112d-11f0-acfe-1231102d67ae-5-2604-4366-d3cf-0383-8043"
      },
      {
       "current": "12e7c0d8-1132-11f0-acfe-1231102d67ae-8-08ea-b381-ef28-90c7-2a4a-a810-3404-7621",
       "next": "2bdbb708-112c-11f0-acfe-1231102d67ae-7-666c-7f7d-6b8b-ae57-1f5c-4670-cb8e",
       "previous": "8e6d9f8e-112d-11f0-acfe-1231102d67ae-7-2604-4366-d3cf-0383-8043-893c-1118"
      },
      {
       "current": "12e7c0d8-1132-11f0-acfe-1231102d67ae-9-08ea-b381-ef28-90c7-2a4a-a810-3404-7621-fbed",
       "next": "2bdbb708-112c-11f0-acfe-1231102d67ae-8-666c-7f7d-6b8b-ae57-1f5c-4670-cb8e-87e4",
       "previous": "8e6d9f8e-112d-11f0-acfe-1231102d67ae-8-2604-4366-d3cf-0383-8043-893c-1118-4af1"
      },
      {
       "current": "12e7c0d8-1132-11f0-acfe-1231102d67ae-11-b381-ef28-90c7-2a4a-a810-3404-7621-fbed-f497-5af4",
       "next": "2bdbb708-112c-11f0-acfe-1231102d67ae-9-666c-7f7d-6b8b-ae57-1f5c-4670-cb8e-87e4-2602",
       "previous": "8e6d9f8e-112d-11f0-acfe-1231102d67ae-9-2604-4366-d3cf-0383-8043-893c-1118-4af1-7d5b"
      },
      {
       "current": "12e7c0d8-1132-11f0-acfe-1231102d67ae-14-2a4a-a810-3404-7621-fbed-f497-5af4-6a3f-3f8e-7e6f",
       "next": "2bdbb708-112c-11f0-acfe-1231102d67ae-11-7f7d-6b8b-ae57-1f5c-4670-cb8e-87e4-2602-1e61-516b",
       "previous": "8e6d9f8e-112d-11f0-acfe-1231102d67ae-11-4366-d3cf-0383-8043-893c-1118-4af1-7d5b-2171-1b2f"
      }
     ],
     "next": "2bdbb708-112c-11f0-acfe-1231102d67ae-14-1f5c-4670-cb8e-87e4-2602-1e61-516b-1e95-9528-645a",
     "previous": "8e6d9f8e-112d-11f0-acfe-1231102d67ae-14-8043-893c-1118-4af1-7d5b-2171-1b2f-4c4c-00df-da8f"
    },
    "pinnedOutputTabIndex": 0,
    "run_through_control": {
     "frozen": true,
     "read_only": false
    }
   },
   "outputs": [],
   "source": [
    "id_prefix = ''\n",
    "ticket_number = ''\n",
    "author = 'Testrates'"
   ]
  },
  {
   "cell_type": "code",
   "execution_count": 29,
   "id": "70e80720-6d7d-41dd-be7e-db335fa78a9f",
   "metadata": {
    "deletable": false,
    "editable": false,
    "lc_cell_meme": {
     "current": "2bdbb708-112c-11f0-acfe-1231102d67ae-14-1f5c-4670-cb8e-87e4-2602-1e61-516b-1e95-9528-645a",
     "execution_end_time": "2025-04-04T08:14:21.446Z",
     "history": [
      {
       "current": "2bdbb708-112c-11f0-acfe-1231102d67ae",
       "next": "15675aaa-f993-11ef-a92d-0242ac120006-9-d2e6-6a44-9e21-1744-ab0b-3935-5dfc-db5e-1d89",
       "previous": "09b30c72-112b-11f0-acfe-1231102d67ae-1-3ee5"
      },
      {
       "current": "2bdbb708-112c-11f0-acfe-1231102d67ae",
       "next": "15675aaa-f993-11ef-a92d-0242ac120006-9-d2e6-6a44-9e21-1744-ab0b-3935-5dfc-db5e-1d89",
       "previous": "7752de0e-112d-11f0-acfe-1231102d67ae"
      },
      {
       "current": "2bdbb708-112c-11f0-acfe-1231102d67ae",
       "next": "15675aaa-f993-11ef-a92d-0242ac120006-9-d2e6-6a44-9e21-1744-ab0b-3935-5dfc-db5e-1d89",
       "previous": "8e6d9f8e-112d-11f0-acfe-1231102d67ae"
      },
      {
       "current": "2bdbb708-112c-11f0-acfe-1231102d67ae",
       "next": "15675aaa-f993-11ef-a92d-0242ac120006-9-d2e6-6a44-9e21-1744-ab0b-3935-5dfc-db5e-1d89",
       "previous": "12e7c0d8-1132-11f0-acfe-1231102d67ae"
      },
      {
       "current": "2bdbb708-112c-11f0-acfe-1231102d67ae",
       "next": "dc9b92a6-1132-11f0-acfe-1231102d67ae",
       "previous": "12e7c0d8-1132-11f0-acfe-1231102d67ae"
      },
      {
       "current": "2bdbb708-112c-11f0-acfe-1231102d67ae-1-666c",
       "next": "15675aaa-f993-11ef-a92d-0242ac120006-9-d2e6-6a44-9e21-1744-ab0b-3935-5dfc-db5e-1d89",
       "previous": "12e7c0d8-1132-11f0-acfe-1231102d67ae"
      },
      {
       "current": "2bdbb708-112c-11f0-acfe-1231102d67ae-2-666c-7f7d",
       "next": "15675aaa-f993-11ef-a92d-0242ac120006-10-d2e6-6a44-9e21-1744-ab0b-3935-5dfc-db5e-1d89-8496",
       "previous": "12e7c0d8-1132-11f0-acfe-1231102d67ae-1-08ea"
      },
      {
       "current": "2bdbb708-112c-11f0-acfe-1231102d67ae-2-666c-7f7d",
       "next": "15675aaa-f993-11ef-a92d-0242ac120006-11-6a44-9e21-1744-ab0b-3935-5dfc-db5e-1d89-8496-0ba0",
       "previous": "12e7c0d8-1132-11f0-acfe-1231102d67ae-2-08ea-b381"
      },
      {
       "current": "2bdbb708-112c-11f0-acfe-1231102d67ae-3-666c-7f7d-6b8b",
       "next": "caa4a88e-133b-11f0-88c4-7e93a5d0b9a2",
       "previous": "12e7c0d8-1132-11f0-acfe-1231102d67ae-2-08ea-b381"
      },
      {
       "current": "2bdbb708-112c-11f0-acfe-1231102d67ae-5-666c-7f7d-6b8b-ae57-1f5c",
       "next": "caa4a88e-133b-11f0-88c4-7e93a5d0b9a2-1-12fc",
       "previous": "12e7c0d8-1132-11f0-acfe-1231102d67ae-3-08ea-b381-ef28"
      },
      {
       "current": "2bdbb708-112c-11f0-acfe-1231102d67ae-7-666c-7f7d-6b8b-ae57-1f5c-4670-cb8e",
       "next": "caa4a88e-133b-11f0-88c4-7e93a5d0b9a2-3-12fc-34b4-90f2",
       "previous": "12e7c0d8-1132-11f0-acfe-1231102d67ae-5-08ea-b381-ef28-90c7-2a4a"
      },
      {
       "current": "2bdbb708-112c-11f0-acfe-1231102d67ae-8-666c-7f7d-6b8b-ae57-1f5c-4670-cb8e-87e4",
       "next": "caa4a88e-133b-11f0-88c4-7e93a5d0b9a2-5-12fc-34b4-90f2-a517-fda0",
       "previous": "12e7c0d8-1132-11f0-acfe-1231102d67ae-7-08ea-b381-ef28-90c7-2a4a-a810-3404"
      },
      {
       "current": "2bdbb708-112c-11f0-acfe-1231102d67ae-9-666c-7f7d-6b8b-ae57-1f5c-4670-cb8e-87e4-2602",
       "next": "caa4a88e-133b-11f0-88c4-7e93a5d0b9a2-6-12fc-34b4-90f2-a517-fda0-5588",
       "previous": "12e7c0d8-1132-11f0-acfe-1231102d67ae-8-08ea-b381-ef28-90c7-2a4a-a810-3404-7621"
      },
      {
       "current": "2bdbb708-112c-11f0-acfe-1231102d67ae-11-7f7d-6b8b-ae57-1f5c-4670-cb8e-87e4-2602-1e61-516b",
       "next": "caa4a88e-133b-11f0-88c4-7e93a5d0b9a2-7-12fc-34b4-90f2-a517-fda0-5588-ccfc",
       "previous": "12e7c0d8-1132-11f0-acfe-1231102d67ae-9-08ea-b381-ef28-90c7-2a4a-a810-3404-7621-fbed"
      },
      {
       "current": "2bdbb708-112c-11f0-acfe-1231102d67ae-14-1f5c-4670-cb8e-87e4-2602-1e61-516b-1e95-9528-645a",
       "next": "caa4a88e-133b-11f0-88c4-7e93a5d0b9a2-9-12fc-34b4-90f2-a517-fda0-5588-ccfc-d9dd-030c",
       "previous": "12e7c0d8-1132-11f0-acfe-1231102d67ae-11-b381-ef28-90c7-2a4a-a810-3404-7621-fbed-f497-5af4"
      }
     ],
     "next": "caa4a88e-133b-11f0-88c4-7e93a5d0b9a2-12-90f2-a517-fda0-5588-ccfc-d9dd-030c-7462-d876-42a1",
     "previous": "12e7c0d8-1132-11f0-acfe-1231102d67ae-14-2a4a-a810-3404-7621-fbed-f497-5af4-6a3f-3f8e-7e6f"
    },
    "pinnedOutputTabIndex": 0,
    "run_through_control": {
     "frozen": true,
     "read_only": false
    },
    "scrolled": true,
    "slideshow": {
     "slide_type": ""
    },
    "tags": []
   },
   "outputs": [
    {
     "name": "stderr",
     "output_type": "stream",
     "text": [
      "/opt/conda/lib/python3.12/site-packages/openpyxl/workbook/child.py:99: UserWarning: Title is more than 31 characters. Some applications may not be able to read the file\n",
      "  warnings.warn(\"Title is more than 31 characters. Some applications may not be able to read the file\")\n"
     ]
    },
    {
     "name": "stdout",
     "output_type": "stream",
     "text": [
      "Saved: result/result-20250610-144058/test-summary-2025-06-10.xlsx\n"
     ]
    }
   ],
   "source": [
    "import re\n",
    "import openpyxl\n",
    "from openpyxl.styles import Alignment\n",
    "from openpyxl.styles import PatternFill\n",
    "from openpyxl.drawing.image import Image\n",
    "import shutil\n",
    "from datetime import datetime\n",
    "from scripts.workbook import create_result_workbook, add_case_result_sheet\n",
    "import scripts.resultAnalyzer as ra\n",
    "from pathlib import Path\n",
    "\n",
    "result_dir_path = Path(result_dir)\n",
    "\n",
    "today = datetime.now().strftime('%Y-%m-%d')\n",
    "wb = create_result_workbook()\n",
    "summary_sheet = wb.worksheets[0]\n",
    "attr_pattern = re.compile(r'-\\s+([^:]+):\\s*(.+)')\n",
    "index = 0\n",
    "\n",
    "for nb_path in ra.collect_all_notebooks(result_dir_path):\n",
    "    sheetname = '_'.join(nb_path.stem.split('-')[1:][::-1][:2])\n",
    "    for step_seq in ra.iter_step_sequences(nb_path):\n",
    "        step_seq_header = next(step_seq)\n",
    "        index += 1\n",
    "        step_seq_id = f'{id_prefix}{index:03d}{sheetname}'\n",
    "        # screenshot directory for *test step sequence*\n",
    "        screenshots_dir = result_dir_path.joinpath('screenshots', step_seq_id)\n",
    "        screenshots_dir.mkdir(parents=True, exist_ok=True)\n",
    "        for p in sorted((nb_path.parent.joinpath(nb_path.stem).glob('*.webm', case_sensitive=False))):\n",
    "            shutil.copyfile(p, screenshots_dir.joinpath(p.name))\n",
    "\n",
    "        title = re.match(r'#\\s+(.+)', ra.source_first_line(step_seq_header)).group(1)\n",
    "        attrs = {\n",
    "            m.group(1): m.group(2)\n",
    "            for line in step_seq_header['source'].split('\\n')\n",
    "            if (m := attr_pattern.match(line))\n",
    "        }\n",
    "        attrs['step_seq_id'] = step_seq_id\n",
    "        attrs['author'] = author\n",
    "        attrs['today'] = today\n",
    "        attrs['title'] = title\n",
    "        attrs['ticket_number'] = ticket_number\n",
    "        sheet = add_case_result_sheet(wb, attrs)\n",
    "\n",
    "        error_found = False\n",
    "        start_row = 8\n",
    "        item_height = sheet.column_dimensions['A'].width * 12 #* 6\n",
    "        for step_index, (step_result_header, components) in enumerate(ra.iter_step_result(step_seq), 1):\n",
    "            m = re.match(r'##\\s+(.+)', ra.source_first_line(step_result_header))\n",
    "            screenshots = next((\n",
    "                ra.extract_images_from_cell(step_index, cell, Path(work_dir))\n",
    "                for cell in reversed(components)\n",
    "                if ra.has_outputs(cell) and any(ra.has_screenshots(o) for o in cell['outputs'])\n",
    "            ), [])\n",
    "            if 0 < len(screenshots):\n",
    "                screenshot = openpyxl.drawing.image.Image(screenshots[0])\n",
    "                screenshot.height = item_height\n",
    "                screenshot.width = int(item_height / 1080 * 1920)\n",
    "                shutil.copy(\n",
    "                    screenshots[0],\n",
    "                    screenshots_dir.joinpath(f'{step_index:05d}.png')\n",
    "                )\n",
    "\n",
    "            all_outputs = [\n",
    "                outputs\n",
    "                for cell in components if ra.has_outputs(cell)\n",
    "                for outputs in cell['outputs']\n",
    "            ]\n",
    "            output_types = {output['output_type'] for output in all_outputs}\n",
    "            step_error = 'error' in output_types or len(output_types) == 0\n",
    "            if not error_found:\n",
    "                error_found = step_error\n",
    "            row = start_row + step_index\n",
    "            sheet[f'A{row}'] = str(step_index)\n",
    "            sheet[f'B{row}'] = m.group(1)\n",
    "            sheet[f'C{row}'] = '\\n'.join(step_result_header['source'].split('\\n')[1:]).strip()\n",
    "            sheet[f'D{row}'] = '■' if not step_error  else '□'\n",
    "            sheet[f'E{row}'] = '' if 'error' not in output_types else '\\n'.join([o['evalue'] if 'evalue' in o else o['ename'] for o in all_outputs if o['output_type'] == 'error'])\n",
    "            sheet[f'F{row}'] = 'Playwright'\n",
    "            sheet[f'G{row}'] = today\n",
    "            sheet[f'H{row}'] = ''\n",
    "            for cell in sheet[f'A{row}:H{row}'][0]:\n",
    "                cell.alignment = Alignment(wrap_text=True, vertical='top')\n",
    "            sheet[f'D{row}'].alignment = Alignment(wrap_text=True, vertical='top', horizontal='center')\n",
    "            sheet.row_dimensions[row].height = item_height\n",
    "\n",
    "        summary_row_idx = index + 1\n",
    "        summary_sheet[f'A{summary_row_idx}'] = step_seq_id\n",
    "        summary_sheet[f'B{summary_row_idx}'] = step_seq_id\n",
    "        summary_sheet[f'C{summary_row_idx}'] = attrs['サブシステム名']\n",
    "        summary_sheet[f'D{summary_row_idx}'] = attrs['ページ/アドオン']\n",
    "        summary_sheet[f'E{summary_row_idx}'] = attrs['機能分類']\n",
    "        summary_sheet[f'F{summary_row_idx}'] = attrs['シナリオ名']\n",
    "        summary_sheet[f'G{summary_row_idx}'] = title\n",
    "        summary_sheet[f'H{summary_row_idx}'] = f'参照: {step_seq_id}'\n",
    "        summary_sheet[f'H{summary_row_idx}'].hyperlink = f'#{step_seq_id}!A1'\n",
    "        summary_sheet[f'I{summary_row_idx}'] = '成功' if not error_found else '失敗'\n",
    "        summary_sheet[f'I{summary_row_idx}'].fill = PatternFill(patternType='solid', fgColor=('00FF66' if not error_found else 'FF6666'))\n",
    "        summary_sheet[f'J{summary_row_idx}'] = f'GRDM-{ticket_number}'\n",
    "        summary_sheet[f'J{summary_row_idx}'].hyperlink = f'https://redmine.devops.rcos.nii.ac.jp/issues/{ticket_number}'\n",
    "        summary_sheet[f'K{summary_row_idx}'] = author\n",
    "        summary_sheet[f'L{summary_row_idx}'] = today\n",
    "        for cell in summary_sheet[f'A{summary_row_idx}:O{summary_row_idx}'][0]:\n",
    "            cell.alignment = Alignment(wrap_text=True, vertical='top')\n",
    "\n",
    "summary_file_path = result_dir_path.joinpath(f'test-summary-{today}.xlsx')\n",
    "print(f'Saved: {summary_file_path}')\n",
    "wb.save(summary_file_path)"
   ]
  },
  {
   "cell_type": "code",
   "execution_count": 30,
   "id": "95d73c02-3ea3-46ab-88dd-8d34eb8f42b2",
   "metadata": {
    "deletable": false,
    "editable": false,
    "lc_cell_meme": {
     "current": "caa4a88e-133b-11f0-88c4-7e93a5d0b9a2-12-90f2-a517-fda0-5588-ccfc-d9dd-030c-7462-d876-42a1",
     "execution_end_time": "2025-04-07T01:30:10.489Z",
     "history": [
      {
       "current": "caa4a88e-133b-11f0-88c4-7e93a5d0b9a2-1-12fc",
       "next": "15675aaa-f993-11ef-a92d-0242ac120006-11-6a44-9e21-1744-ab0b-3935-5dfc-db5e-1d89-8496-0ba0",
       "previous": "2bdbb708-112c-11f0-acfe-1231102d67ae-2-666c-7f7d"
      },
      {
       "current": "caa4a88e-133b-11f0-88c4-7e93a5d0b9a2-3-12fc-34b4-90f2",
       "next": "15675aaa-f993-11ef-a92d-0242ac120006-12-9e21-1744-ab0b-3935-5dfc-db5e-1d89-8496-0ba0-adf7",
       "previous": "2bdbb708-112c-11f0-acfe-1231102d67ae-3-666c-7f7d-6b8b"
      },
      {
       "current": "caa4a88e-133b-11f0-88c4-7e93a5d0b9a2-5-12fc-34b4-90f2-a517-fda0",
       "next": "15675aaa-f993-11ef-a92d-0242ac120006-14-ab0b-3935-5dfc-db5e-1d89-8496-0ba0-adf7-78cc-499b",
       "previous": "2bdbb708-112c-11f0-acfe-1231102d67ae-5-666c-7f7d-6b8b-ae57-1f5c"
      },
      {
       "current": "caa4a88e-133b-11f0-88c4-7e93a5d0b9a2-6-12fc-34b4-90f2-a517-fda0-5588",
       "next": "15675aaa-f993-11ef-a92d-0242ac120006-16-5dfc-db5e-1d89-8496-0ba0-adf7-78cc-499b-a787-e195",
       "previous": "2bdbb708-112c-11f0-acfe-1231102d67ae-7-666c-7f7d-6b8b-ae57-1f5c-4670-cb8e"
      },
      {
       "current": "caa4a88e-133b-11f0-88c4-7e93a5d0b9a2-7-12fc-34b4-90f2-a517-fda0-5588-ccfc",
       "next": "15675aaa-f993-11ef-a92d-0242ac120006-17-db5e-1d89-8496-0ba0-adf7-78cc-499b-a787-e195-72bc",
       "previous": "2bdbb708-112c-11f0-acfe-1231102d67ae-8-666c-7f7d-6b8b-ae57-1f5c-4670-cb8e-87e4"
      },
      {
       "current": "caa4a88e-133b-11f0-88c4-7e93a5d0b9a2-9-12fc-34b4-90f2-a517-fda0-5588-ccfc-d9dd-030c",
       "next": "15675aaa-f993-11ef-a92d-0242ac120006-18-1d89-8496-0ba0-adf7-78cc-499b-a787-e195-72bc-6ef7",
       "previous": "2bdbb708-112c-11f0-acfe-1231102d67ae-9-666c-7f7d-6b8b-ae57-1f5c-4670-cb8e-87e4-2602"
      },
      {
       "current": "caa4a88e-133b-11f0-88c4-7e93a5d0b9a2-12-90f2-a517-fda0-5588-ccfc-d9dd-030c-7462-d876-42a1",
       "next": "15675aaa-f993-11ef-a92d-0242ac120006-20-0ba0-adf7-78cc-499b-a787-e195-72bc-6ef7-c5dd-6e05",
       "previous": "2bdbb708-112c-11f0-acfe-1231102d67ae-11-7f7d-6b8b-ae57-1f5c-4670-cb8e-87e4-2602-1e61-516b"
      }
     ],
     "next": "15675aaa-f993-11ef-a92d-0242ac120006-23-499b-a787-e195-72bc-6ef7-c5dd-6e05-5c8d-1a27-fcc3",
     "previous": "2bdbb708-112c-11f0-acfe-1231102d67ae-14-1f5c-4670-cb8e-87e4-2602-1e61-516b-1e95-9528-645a"
    },
    "pinnedOutputTabIndex": 0,
    "run_through_control": {
     "frozen": true,
     "read_only": false
    },
    "scrolled": true
   },
   "outputs": [
    {
     "name": "stdout",
     "output_type": "stream",
     "text": [
      "  adding: test-summary-2025-06-10.xlsx (deflated 16%)\n",
      "  adding: screenshots/ (stored 0%)\n",
      "  adding: screenshots/015S3 Compatible Storage_S3共通/ (stored 0%)\n",
      "  adding: screenshots/015S3 Compatible Storage_S3共通/00027.png (deflated 6%)\n",
      "  adding: screenshots/015S3 Compatible Storage_S3共通/00049.png (deflated 2%)\n",
      "  adding: screenshots/015S3 Compatible Storage_S3共通/00003.png (deflated 5%)\n",
      "  adding: screenshots/015S3 Compatible Storage_S3共通/00047.png (deflated 6%)\n",
      "  adding: screenshots/015S3 Compatible Storage_S3共通/00021.png (deflated 2%)\n",
      "  adding: screenshots/015S3 Compatible Storage_S3共通/00048.png (deflated 6%)\n",
      "  adding: screenshots/015S3 Compatible Storage_S3共通/00050.png (deflated 2%)\n",
      "  adding: screenshots/015S3 Compatible Storage_S3共通/00029.png (deflated 9%)\n",
      "  adding: screenshots/015S3 Compatible Storage_S3共通/00009.png (deflated 6%)\n",
      "  adding: screenshots/015S3 Compatible Storage_S3共通/00034.png (deflated 5%)\n",
      "  adding: screenshots/015S3 Compatible Storage_S3共通/00051.png (deflated 4%)\n",
      "  adding: screenshots/015S3 Compatible Storage_S3共通/00026.png (deflated 6%)\n",
      "  adding: screenshots/015S3 Compatible Storage_S3共通/00036.png (deflated 4%)\n",
      "  adding: screenshots/015S3 Compatible Storage_S3共通/00046.png (deflated 7%)\n",
      "  adding: screenshots/015S3 Compatible Storage_S3共通/00032.png (deflated 2%)\n",
      "  adding: screenshots/015S3 Compatible Storage_S3共通/00057.png (deflated 6%)\n",
      "  adding: screenshots/015S3 Compatible Storage_S3共通/00037.png (deflated 7%)\n",
      "  adding: screenshots/015S3 Compatible Storage_S3共通/video-1.webm (deflated 9%)\n",
      "  adding: screenshots/015S3 Compatible Storage_S3共通/00014.png (deflated 6%)\n",
      "  adding: screenshots/015S3 Compatible Storage_S3共通/00010.png (deflated 4%)\n",
      "  adding: screenshots/015S3 Compatible Storage_S3共通/00040.png (deflated 10%)\n",
      "  adding: screenshots/015S3 Compatible Storage_S3共通/00066.png (deflated 6%)\n",
      "  adding: screenshots/015S3 Compatible Storage_S3共通/00059.png (deflated 8%)\n",
      "  adding: screenshots/015S3 Compatible Storage_S3共通/00028.png (deflated 10%)\n",
      "  adding: screenshots/015S3 Compatible Storage_S3共通/00052.png (deflated 7%)\n",
      "  adding: screenshots/015S3 Compatible Storage_S3共通/00041.png (deflated 9%)\n",
      "  adding: screenshots/015S3 Compatible Storage_S3共通/00056.png (deflated 7%)\n",
      "  adding: screenshots/015S3 Compatible Storage_S3共通/00062.png (deflated 10%)\n",
      "  adding: screenshots/015S3 Compatible Storage_S3共通/00011.png (deflated 7%)\n",
      "  adding: screenshots/015S3 Compatible Storage_S3共通/00039.png (deflated 6%)\n",
      "  adding: screenshots/015S3 Compatible Storage_S3共通/00004.png (deflated 7%)\n",
      "  adding: screenshots/015S3 Compatible Storage_S3共通/00044.png (deflated 5%)\n",
      "  adding: screenshots/015S3 Compatible Storage_S3共通/00055.png (deflated 6%)\n",
      "  adding: screenshots/015S3 Compatible Storage_S3共通/00063.png (deflated 2%)\n",
      "  adding: screenshots/015S3 Compatible Storage_S3共通/00045.png (deflated 7%)\n",
      "  adding: screenshots/015S3 Compatible Storage_S3共通/00033.png (deflated 2%)\n",
      "  adding: screenshots/015S3 Compatible Storage_S3共通/00067.png (deflated 6%)\n",
      "  adding: screenshots/015S3 Compatible Storage_S3共通/00001.png (deflated 0%)\n",
      "  adding: screenshots/015S3 Compatible Storage_S3共通/00008.png (deflated 4%)\n",
      "  adding: screenshots/015S3 Compatible Storage_S3共通/00013.png (deflated 7%)\n",
      "  adding: screenshots/015S3 Compatible Storage_S3共通/00005.png (deflated 7%)\n",
      "  adding: screenshots/015S3 Compatible Storage_S3共通/00015.png (deflated 6%)\n",
      "  adding: screenshots/015S3 Compatible Storage_S3共通/00012.png (deflated 7%)\n",
      "  adding: screenshots/015S3 Compatible Storage_S3共通/00038.png (deflated 6%)\n",
      "  adding: screenshots/015S3 Compatible Storage_S3共通/00035.png (deflated 6%)\n",
      "  adding: screenshots/015S3 Compatible Storage_S3共通/00065.png (deflated 7%)\n",
      "  adding: screenshots/015S3 Compatible Storage_S3共通/00002.png (deflated 2%)\n",
      "  adding: screenshots/015S3 Compatible Storage_S3共通/00024.png (deflated 4%)\n",
      "  adding: screenshots/015S3 Compatible Storage_S3共通/00017.png (deflated 9%)\n",
      "  adding: screenshots/015S3 Compatible Storage_S3共通/00058.png (deflated 7%)\n",
      "  adding: screenshots/015S3 Compatible Storage_S3共通/00064.png (deflated 5%)\n",
      "  adding: screenshots/015S3 Compatible Storage_S3共通/00023.png (deflated 6%)\n",
      "  adding: screenshots/015S3 Compatible Storage_S3共通/00007.png (deflated 3%)\n",
      "  adding: screenshots/015S3 Compatible Storage_S3共通/00018.png (deflated 7%)\n",
      "  adding: screenshots/015S3 Compatible Storage_S3共通/00054.png (deflated 6%)\n",
      "  adding: screenshots/015S3 Compatible Storage_S3共通/00025.png (deflated 6%)\n",
      "  adding: screenshots/015S3 Compatible Storage_S3共通/00030.png (deflated 7%)\n",
      "  adding: screenshots/015S3 Compatible Storage_S3共通/00022.png (deflated 4%)\n",
      "  adding: screenshots/015S3 Compatible Storage_S3共通/00016.png (deflated 11%)\n",
      "  adding: screenshots/015S3 Compatible Storage_S3共通/00006.png (deflated 2%)\n",
      "  adding: screenshots/015S3 Compatible Storage_S3共通/00042.png (deflated 7%)\n",
      "  adding: screenshots/015S3 Compatible Storage_S3共通/00061.png (deflated 8%)\n",
      "  adding: screenshots/015S3 Compatible Storage_S3共通/00020.png (deflated 2%)\n",
      "  adding: screenshots/015S3 Compatible Storage_S3共通/00053.png (deflated 4%)\n",
      "  adding: screenshots/026ノード管理_管理者機能/ (stored 0%)\n",
      "  adding: screenshots/026ノード管理_管理者機能/00003.png (deflated 13%)\n",
      "  adding: screenshots/026ノード管理_管理者機能/video-1.webm (deflated 13%)\n",
      "  adding: screenshots/026ノード管理_管理者機能/00004.png (deflated 6%)\n",
      "  adding: screenshots/026ノード管理_管理者機能/00001.png (deflated 19%)\n",
      "  adding: screenshots/026ノード管理_管理者機能/00002.png (deflated 8%)\n",
      "  adding: screenshots/016Dropbox_プロジェクトダッシュボード/ (stored 0%)\n",
      "  adding: screenshots/016Dropbox_プロジェクトダッシュボード/00027.png (deflated 3%)\n",
      "  adding: screenshots/016Dropbox_プロジェクトダッシュボード/00049.png (deflated 3%)\n",
      "  adding: screenshots/016Dropbox_プロジェクトダッシュボード/00003.png (deflated 2%)\n",
      "  adding: screenshots/016Dropbox_プロジェクトダッシュボード/00047.png (deflated 3%)\n",
      "  adding: screenshots/016Dropbox_プロジェクトダッシュボード/00021.png (deflated 3%)\n",
      "  adding: screenshots/016Dropbox_プロジェクトダッシュボード/00048.png (deflated 3%)\n",
      "  adding: screenshots/016Dropbox_プロジェクトダッシュボード/00050.png (deflated 8%)\n",
      "  adding: screenshots/016Dropbox_プロジェクトダッシュボード/00029.png (deflated 3%)\n",
      "  adding: screenshots/016Dropbox_プロジェクトダッシュボード/00009.png (deflated 3%)\n",
      "  adding: screenshots/016Dropbox_プロジェクトダッシュボード/00034.png (deflated 3%)\n",
      "  adding: screenshots/016Dropbox_プロジェクトダッシュボード/00051.png (deflated 3%)\n",
      "  adding: screenshots/016Dropbox_プロジェクトダッシュボード/00026.png (deflated 3%)\n",
      "  adding: screenshots/016Dropbox_プロジェクトダッシュボード/00036.png (deflated 3%)\n",
      "  adding: screenshots/016Dropbox_プロジェクトダッシュボード/00046.png (deflated 4%)\n",
      "  adding: screenshots/016Dropbox_プロジェクトダッシュボード/00032.png (deflated 3%)\n",
      "  adding: screenshots/016Dropbox_プロジェクトダッシュボード/00037.png (deflated 2%)\n",
      "  adding: screenshots/016Dropbox_プロジェクトダッシュボード/video-1.webm (deflated 7%)\n",
      "  adding: screenshots/016Dropbox_プロジェクトダッシュボード/00014.png (deflated 3%)\n",
      "  adding: screenshots/016Dropbox_プロジェクトダッシュボード/00043.png (deflated 3%)\n",
      "  adding: screenshots/016Dropbox_プロジェクトダッシュボード/00010.png (deflated 6%)\n",
      "  adding: screenshots/016Dropbox_プロジェクトダッシュボード/00040.png (deflated 3%)\n",
      "  adding: screenshots/016Dropbox_プロジェクトダッシュボード/00028.png (deflated 3%)\n",
      "  adding: screenshots/016Dropbox_プロジェクトダッシュボード/00052.png (deflated 0%)\n",
      "  adding: screenshots/016Dropbox_プロジェクトダッシュボード/00041.png (deflated 3%)\n",
      "  adding: screenshots/016Dropbox_プロジェクトダッシュボード/00011.png (deflated 8%)\n",
      "  adding: screenshots/016Dropbox_プロジェクトダッシュボード/00004.png (deflated 4%)\n",
      "  adding: screenshots/016Dropbox_プロジェクトダッシュボード/00044.png (deflated 4%)\n",
      "  adding: screenshots/016Dropbox_プロジェクトダッシュボード/00045.png (deflated 4%)\n",
      "  adding: screenshots/016Dropbox_プロジェクトダッシュボード/00033.png (deflated 3%)\n",
      "  adding: screenshots/016Dropbox_プロジェクトダッシュボード/00001.png (deflated 0%)\n",
      "  adding: screenshots/016Dropbox_プロジェクトダッシュボード/00008.png (deflated 3%)\n",
      "  adding: screenshots/016Dropbox_プロジェクトダッシュボード/00013.png (deflated 6%)\n",
      "  adding: screenshots/016Dropbox_プロジェクトダッシュボード/00005.png (deflated 4%)\n",
      "  adding: screenshots/016Dropbox_プロジェクトダッシュボード/00019.png (deflated 3%)\n",
      "  adding: screenshots/016Dropbox_プロジェクトダッシュボード/00015.png (deflated 4%)\n",
      "  adding: screenshots/016Dropbox_プロジェクトダッシュボード/00012.png (deflated 6%)\n",
      "  adding: screenshots/016Dropbox_プロジェクトダッシュボード/00038.png (deflated 3%)\n",
      "  adding: screenshots/016Dropbox_プロジェクトダッシュボード/00035.png (deflated 3%)\n",
      "  adding: screenshots/016Dropbox_プロジェクトダッシュボード/00002.png (deflated 2%)\n",
      "  adding: screenshots/016Dropbox_プロジェクトダッシュボード/00024.png (deflated 4%)\n",
      "  adding: screenshots/016Dropbox_プロジェクトダッシュボード/00017.png (deflated 3%)\n",
      "  adding: screenshots/016Dropbox_プロジェクトダッシュボード/00031.png (deflated 4%)\n",
      "  adding: screenshots/016Dropbox_プロジェクトダッシュボード/00023.png (deflated 3%)\n",
      "  adding: screenshots/016Dropbox_プロジェクトダッシュボード/00007.png (deflated 3%)\n",
      "  adding: screenshots/016Dropbox_プロジェクトダッシュボード/00018.png (deflated 4%)\n",
      "  adding: screenshots/016Dropbox_プロジェクトダッシュボード/00025.png (deflated 3%)\n",
      "  adding: screenshots/016Dropbox_プロジェクトダッシュボード/00030.png (deflated 3%)\n",
      "  adding: screenshots/016Dropbox_プロジェクトダッシュボード/00022.png (deflated 3%)\n",
      "  adding: screenshots/016Dropbox_プロジェクトダッシュボード/00016.png (deflated 3%)\n",
      "  adding: screenshots/016Dropbox_プロジェクトダッシュボード/00006.png (deflated 4%)\n",
      "  adding: screenshots/016Dropbox_プロジェクトダッシュボード/00042.png (deflated 3%)\n",
      "  adding: screenshots/016Dropbox_プロジェクトダッシュボード/00020.png (deflated 3%)\n",
      "  adding: screenshots/033利用統計_管理者機能/ (stored 0%)\n",
      "  adding: screenshots/033利用統計_管理者機能/00003.png (deflated 4%)\n",
      "  adding: screenshots/033利用統計_管理者機能/video-1.webm (deflated 22%)\n",
      "  adding: screenshots/033利用統計_管理者機能/00004.png (deflated 6%)\n",
      "  adding: screenshots/033利用統計_管理者機能/00001.png (deflated 19%)\n",
      "  adding: screenshots/033利用統計_管理者機能/00002.png (deflated 8%)\n",
      "  adding: screenshots/033利用統計_管理者機能/00006.png (deflated 14%)\n",
      "  adding: screenshots/025ログイン可否設定_管理者機能/ (stored 0%)\n",
      "  adding: screenshots/025ログイン可否設定_管理者機能/00003.png (deflated 8%)\n",
      "  adding: screenshots/025ログイン可否設定_管理者機能/00009.png (deflated 0%)\n",
      "  adding: screenshots/025ログイン可否設定_管理者機能/video-1.webm (deflated 19%)\n",
      "  adding: screenshots/025ログイン可否設定_管理者機能/00014.png (deflated 10%)\n",
      "  adding: screenshots/025ログイン可否設定_管理者機能/00010.png (deflated 1%)\n",
      "  adding: screenshots/025ログイン可否設定_管理者機能/00011.png (deflated 7%)\n",
      "  adding: screenshots/025ログイン可否設定_管理者機能/00004.png (deflated 9%)\n",
      "  adding: screenshots/025ログイン可否設定_管理者機能/00001.png (deflated 19%)\n",
      "  adding: screenshots/025ログイン可否設定_管理者機能/00008.png (deflated 8%)\n",
      "  adding: screenshots/025ログイン可否設定_管理者機能/00013.png (deflated 1%)\n",
      "  adding: screenshots/025ログイン可否設定_管理者機能/00005.png (deflated 10%)\n",
      "  adding: screenshots/025ログイン可否設定_管理者機能/00012.png (deflated 0%)\n",
      "  adding: screenshots/025ログイン可否設定_管理者機能/00002.png (deflated 8%)\n",
      "  adding: screenshots/025ログイン可否設定_管理者機能/00007.png (deflated 10%)\n",
      "  adding: screenshots/025ログイン可否設定_管理者機能/00006.png (deflated 8%)\n",
      "  adding: screenshots/004NII Storage_プロジェクトダッシュボード/ (stored 0%)\n",
      "  adding: screenshots/004NII Storage_プロジェクトダッシュボード/00027.png (deflated 3%)\n",
      "  adding: screenshots/004NII Storage_プロジェクトダッシュボード/00049.png (deflated 2%)\n",
      "  adding: screenshots/004NII Storage_プロジェクトダッシュボード/00003.png (deflated 2%)\n",
      "  adding: screenshots/004NII Storage_プロジェクトダッシュボード/00047.png (deflated 6%)\n",
      "  adding: screenshots/004NII Storage_プロジェクトダッシュボード/00021.png (deflated 3%)\n",
      "  adding: screenshots/004NII Storage_プロジェクトダッシュボード/00048.png (deflated 7%)\n",
      "  adding: screenshots/004NII Storage_プロジェクトダッシュボード/00050.png (deflated 8%)\n",
      "  adding: screenshots/004NII Storage_プロジェクトダッシュボード/00029.png (deflated 4%)\n",
      "  adding: screenshots/004NII Storage_プロジェクトダッシュボード/00009.png (deflated 4%)\n",
      "  adding: screenshots/004NII Storage_プロジェクトダッシュボード/00034.png (deflated 3%)\n",
      "  adding: screenshots/004NII Storage_プロジェクトダッシュボード/00051.png (deflated 2%)\n",
      "  adding: screenshots/004NII Storage_プロジェクトダッシュボード/00026.png (deflated 4%)\n",
      "  adding: screenshots/004NII Storage_プロジェクトダッシュボード/00036.png (deflated 3%)\n",
      "  adding: screenshots/004NII Storage_プロジェクトダッシュボード/00046.png (deflated 4%)\n",
      "  adding: screenshots/004NII Storage_プロジェクトダッシュボード/00032.png (deflated 3%)\n",
      "  adding: screenshots/004NII Storage_プロジェクトダッシュボード/00037.png (deflated 2%)\n",
      "  adding: screenshots/004NII Storage_プロジェクトダッシュボード/video-1.webm (deflated 10%)\n",
      "  adding: screenshots/004NII Storage_プロジェクトダッシュボード/00014.png (deflated 3%)\n",
      "  adding: screenshots/004NII Storage_プロジェクトダッシュボード/00043.png (deflated 4%)\n",
      "  adding: screenshots/004NII Storage_プロジェクトダッシュボード/00010.png (deflated 6%)\n",
      "  adding: screenshots/004NII Storage_プロジェクトダッシュボード/00040.png (deflated 4%)\n",
      "  adding: screenshots/004NII Storage_プロジェクトダッシュボード/00028.png (deflated 3%)\n",
      "  adding: screenshots/004NII Storage_プロジェクトダッシュボード/00052.png (deflated 0%)\n",
      "  adding: screenshots/004NII Storage_プロジェクトダッシュボード/00041.png (deflated 3%)\n",
      "  adding: screenshots/004NII Storage_プロジェクトダッシュボード/00011.png (deflated 8%)\n",
      "  adding: screenshots/004NII Storage_プロジェクトダッシュボード/00004.png (deflated 5%)\n",
      "  adding: screenshots/004NII Storage_プロジェクトダッシュボード/00044.png (deflated 5%)\n",
      "  adding: screenshots/004NII Storage_プロジェクトダッシュボード/00045.png (deflated 5%)\n",
      "  adding: screenshots/004NII Storage_プロジェクトダッシュボード/00033.png (deflated 3%)\n",
      "  adding: screenshots/004NII Storage_プロジェクトダッシュボード/00001.png (deflated 0%)\n",
      "  adding: screenshots/004NII Storage_プロジェクトダッシュボード/00008.png (deflated 4%)\n",
      "  adding: screenshots/004NII Storage_プロジェクトダッシュボード/00013.png (deflated 4%)\n",
      "  adding: screenshots/004NII Storage_プロジェクトダッシュボード/00005.png (deflated 5%)\n",
      "  adding: screenshots/004NII Storage_プロジェクトダッシュボード/00019.png (deflated 3%)\n",
      "  adding: screenshots/004NII Storage_プロジェクトダッシュボード/00015.png (deflated 3%)\n",
      "  adding: screenshots/004NII Storage_プロジェクトダッシュボード/00012.png (deflated 5%)\n",
      "  adding: screenshots/004NII Storage_プロジェクトダッシュボード/00038.png (deflated 4%)\n",
      "  adding: screenshots/004NII Storage_プロジェクトダッシュボード/00035.png (deflated 3%)\n",
      "  adding: screenshots/004NII Storage_プロジェクトダッシュボード/00002.png (deflated 2%)\n",
      "  adding: screenshots/004NII Storage_プロジェクトダッシュボード/00024.png (deflated 4%)\n",
      "  adding: screenshots/004NII Storage_プロジェクトダッシュボード/00017.png (deflated 4%)\n",
      "  adding: screenshots/004NII Storage_プロジェクトダッシュボード/00031.png (deflated 4%)\n",
      "  adding: screenshots/004NII Storage_プロジェクトダッシュボード/00023.png (deflated 4%)\n",
      "  adding: screenshots/004NII Storage_プロジェクトダッシュボード/00007.png (deflated 4%)\n",
      "  adding: screenshots/004NII Storage_プロジェクトダッシュボード/00018.png (deflated 4%)\n",
      "  adding: screenshots/004NII Storage_プロジェクトダッシュボード/00025.png (deflated 3%)\n",
      "  adding: screenshots/004NII Storage_プロジェクトダッシュボード/00030.png (deflated 4%)\n",
      "  adding: screenshots/004NII Storage_プロジェクトダッシュボード/00022.png (deflated 3%)\n",
      "  adding: screenshots/004NII Storage_プロジェクトダッシュボード/00016.png (deflated 4%)\n",
      "  adding: screenshots/004NII Storage_プロジェクトダッシュボード/00006.png (deflated 4%)\n",
      "  adding: screenshots/004NII Storage_プロジェクトダッシュボード/00042.png (deflated 4%)\n",
      "  adding: screenshots/004NII Storage_プロジェクトダッシュボード/00020.png (deflated 4%)\n",
      "  adding: screenshots/014S3 Compatible Storage_MetadataアドオンMetadataアドオン/ (stored 0%)\n",
      "  adding: screenshots/014S3 Compatible Storage_MetadataアドオンMetadataアドオン/00027.png (deflated 3%)\n",
      "  adding: screenshots/014S3 Compatible Storage_MetadataアドオンMetadataアドオン/00049.png (deflated 5%)\n",
      "  adding: screenshots/014S3 Compatible Storage_MetadataアドオンMetadataアドオン/00003.png (deflated 2%)\n",
      "  adding: screenshots/014S3 Compatible Storage_MetadataアドオンMetadataアドオン/00047.png (deflated 5%)\n",
      "  adding: screenshots/014S3 Compatible Storage_MetadataアドオンMetadataアドオン/00021.png (deflated 3%)\n",
      "  adding: screenshots/014S3 Compatible Storage_MetadataアドオンMetadataアドオン/00048.png (deflated 4%)\n",
      "  adding: screenshots/014S3 Compatible Storage_MetadataアドオンMetadataアドオン/00050.png (deflated 4%)\n",
      "  adding: screenshots/014S3 Compatible Storage_MetadataアドオンMetadataアドオン/00071.png (deflated 4%)\n",
      "  adding: screenshots/014S3 Compatible Storage_MetadataアドオンMetadataアドオン/00029.png (deflated 3%)\n",
      "  adding: screenshots/014S3 Compatible Storage_MetadataアドオンMetadataアドオン/00009.png (deflated 8%)\n",
      "  adding: screenshots/014S3 Compatible Storage_MetadataアドオンMetadataアドオン/00034.png (deflated 5%)\n",
      "  adding: screenshots/014S3 Compatible Storage_MetadataアドオンMetadataアドオン/00051.png (deflated 4%)\n",
      "  adding: screenshots/014S3 Compatible Storage_MetadataアドオンMetadataアドオン/00026.png (deflated 3%)\n",
      "  adding: screenshots/014S3 Compatible Storage_MetadataアドオンMetadataアドオン/00069.png (deflated 4%)\n",
      "  adding: screenshots/014S3 Compatible Storage_MetadataアドオンMetadataアドオン/00036.png (deflated 5%)\n",
      "  adding: screenshots/014S3 Compatible Storage_MetadataアドオンMetadataアドオン/00046.png (deflated 5%)\n",
      "  adding: screenshots/014S3 Compatible Storage_MetadataアドオンMetadataアドオン/00079.png (deflated 7%)\n",
      "  adding: screenshots/014S3 Compatible Storage_MetadataアドオンMetadataアドオン/00057.png (deflated 4%)\n",
      "  adding: screenshots/014S3 Compatible Storage_MetadataアドオンMetadataアドオン/00037.png (deflated 5%)\n",
      "  adding: screenshots/014S3 Compatible Storage_MetadataアドオンMetadataアドオン/video-1.webm (deflated 12%)\n",
      "  adding: screenshots/014S3 Compatible Storage_MetadataアドオンMetadataアドオン/00014.png (deflated 2%)\n",
      "  adding: screenshots/014S3 Compatible Storage_MetadataアドオンMetadataアドオン/00043.png (deflated 5%)\n",
      "  adding: screenshots/014S3 Compatible Storage_MetadataアドオンMetadataアドオン/00010.png (deflated 2%)\n",
      "  adding: screenshots/014S3 Compatible Storage_MetadataアドオンMetadataアドオン/00040.png (deflated 6%)\n",
      "  adding: screenshots/014S3 Compatible Storage_MetadataアドオンMetadataアドオン/00066.png (deflated 5%)\n",
      "  adding: screenshots/014S3 Compatible Storage_MetadataアドオンMetadataアドオン/00059.png (deflated 4%)\n",
      "  adding: screenshots/014S3 Compatible Storage_MetadataアドオンMetadataアドオン/00028.png (deflated 4%)\n",
      "  adding: screenshots/014S3 Compatible Storage_MetadataアドオンMetadataアドオン/00052.png (deflated 5%)\n",
      "  adding: screenshots/014S3 Compatible Storage_MetadataアドオンMetadataアドオン/00078.png (deflated 6%)\n",
      "  adding: screenshots/014S3 Compatible Storage_MetadataアドオンMetadataアドオン/00072.png (deflated 2%)\n",
      "  adding: screenshots/014S3 Compatible Storage_MetadataアドオンMetadataアドオン/00041.png (deflated 5%)\n",
      "  adding: screenshots/014S3 Compatible Storage_MetadataアドオンMetadataアドオン/00056.png (deflated 5%)\n",
      "  adding: screenshots/014S3 Compatible Storage_MetadataアドオンMetadataアドオン/00062.png (deflated 5%)\n",
      "  adding: screenshots/014S3 Compatible Storage_MetadataアドオンMetadataアドオン/00011.png (deflated 2%)\n",
      "  adding: screenshots/014S3 Compatible Storage_MetadataアドオンMetadataアドオン/00039.png (deflated 5%)\n",
      "  adding: screenshots/014S3 Compatible Storage_MetadataアドオンMetadataアドオン/00004.png (deflated 4%)\n",
      "  adding: screenshots/014S3 Compatible Storage_MetadataアドオンMetadataアドオン/00044.png (deflated 5%)\n",
      "  adding: screenshots/014S3 Compatible Storage_MetadataアドオンMetadataアドオン/00074.png (deflated 3%)\n",
      "  adding: screenshots/014S3 Compatible Storage_MetadataアドオンMetadataアドオン/00055.png (deflated 5%)\n",
      "  adding: screenshots/014S3 Compatible Storage_MetadataアドオンMetadataアドオン/video-2.webm (deflated 6%)\n",
      "  adding: screenshots/014S3 Compatible Storage_MetadataアドオンMetadataアドオン/00063.png (deflated 5%)\n",
      "  adding: screenshots/014S3 Compatible Storage_MetadataアドオンMetadataアドオン/00045.png (deflated 5%)\n",
      "  adding: screenshots/014S3 Compatible Storage_MetadataアドオンMetadataアドオン/00033.png (deflated 5%)\n",
      "  adding: screenshots/014S3 Compatible Storage_MetadataアドオンMetadataアドオン/00067.png (deflated 3%)\n",
      "  adding: screenshots/014S3 Compatible Storage_MetadataアドオンMetadataアドオン/00001.png (deflated 0%)\n",
      "  adding: screenshots/014S3 Compatible Storage_MetadataアドオンMetadataアドオン/00008.png (deflated 7%)\n",
      "  adding: screenshots/014S3 Compatible Storage_MetadataアドオンMetadataアドオン/00013.png (deflated 2%)\n",
      "  adding: screenshots/014S3 Compatible Storage_MetadataアドオンMetadataアドオン/00005.png (deflated 6%)\n",
      "  adding: screenshots/014S3 Compatible Storage_MetadataアドオンMetadataアドオン/00070.png (deflated 4%)\n",
      "  adding: screenshots/014S3 Compatible Storage_MetadataアドオンMetadataアドオン/00060.png (deflated 5%)\n",
      "  adding: screenshots/014S3 Compatible Storage_MetadataアドオンMetadataアドオン/00019.png (deflated 3%)\n",
      "  adding: screenshots/014S3 Compatible Storage_MetadataアドオンMetadataアドオン/00015.png (deflated 1%)\n",
      "  adding: screenshots/014S3 Compatible Storage_MetadataアドオンMetadataアドオン/00012.png (deflated 2%)\n",
      "  adding: screenshots/014S3 Compatible Storage_MetadataアドオンMetadataアドオン/00038.png (deflated 5%)\n",
      "  adding: screenshots/014S3 Compatible Storage_MetadataアドオンMetadataアドオン/00073.png (deflated 2%)\n",
      "  adding: screenshots/014S3 Compatible Storage_MetadataアドオンMetadataアドオン/00077.png (deflated 7%)\n",
      "  adding: screenshots/014S3 Compatible Storage_MetadataアドオンMetadataアドオン/00035.png (deflated 5%)\n",
      "  adding: screenshots/014S3 Compatible Storage_MetadataアドオンMetadataアドオン/00065.png (deflated 5%)\n",
      "  adding: screenshots/014S3 Compatible Storage_MetadataアドオンMetadataアドオン/00002.png (deflated 2%)\n",
      "  adding: screenshots/014S3 Compatible Storage_MetadataアドオンMetadataアドオン/00024.png (deflated 2%)\n",
      "  adding: screenshots/014S3 Compatible Storage_MetadataアドオンMetadataアドオン/00017.png (deflated 3%)\n",
      "  adding: screenshots/014S3 Compatible Storage_MetadataアドオンMetadataアドオン/00058.png (deflated 4%)\n",
      "  adding: screenshots/014S3 Compatible Storage_MetadataアドオンMetadataアドオン/00075.png (deflated 6%)\n",
      "  adding: screenshots/014S3 Compatible Storage_MetadataアドオンMetadataアドオン/00031.png (deflated 5%)\n",
      "  adding: screenshots/014S3 Compatible Storage_MetadataアドオンMetadataアドオン/00064.png (deflated 5%)\n",
      "  adding: screenshots/014S3 Compatible Storage_MetadataアドオンMetadataアドオン/00023.png (deflated 2%)\n",
      "  adding: screenshots/014S3 Compatible Storage_MetadataアドオンMetadataアドオン/00007.png (deflated 6%)\n",
      "  adding: screenshots/014S3 Compatible Storage_MetadataアドオンMetadataアドオン/00068.png (deflated 3%)\n",
      "  adding: screenshots/014S3 Compatible Storage_MetadataアドオンMetadataアドオン/00018.png (deflated 3%)\n",
      "  adding: screenshots/014S3 Compatible Storage_MetadataアドオンMetadataアドオン/00080.png (deflated 2%)\n",
      "  adding: screenshots/014S3 Compatible Storage_MetadataアドオンMetadataアドオン/00076.png (deflated 6%)\n",
      "  adding: screenshots/014S3 Compatible Storage_MetadataアドオンMetadataアドオン/00054.png (deflated 5%)\n",
      "  adding: screenshots/014S3 Compatible Storage_MetadataアドオンMetadataアドオン/00025.png (deflated 3%)\n",
      "  adding: screenshots/014S3 Compatible Storage_MetadataアドオンMetadataアドオン/00030.png (deflated 5%)\n",
      "  adding: screenshots/014S3 Compatible Storage_MetadataアドオンMetadataアドオン/00022.png (deflated 2%)\n",
      "  adding: screenshots/014S3 Compatible Storage_MetadataアドオンMetadataアドオン/00016.png (deflated 4%)\n",
      "  adding: screenshots/014S3 Compatible Storage_MetadataアドオンMetadataアドオン/00006.png (deflated 4%)\n",
      "  adding: screenshots/014S3 Compatible Storage_MetadataアドオンMetadataアドオン/00042.png (deflated 5%)\n",
      "  adding: screenshots/014S3 Compatible Storage_MetadataアドオンMetadataアドオン/00061.png (deflated 4%)\n",
      "  adding: screenshots/014S3 Compatible Storage_MetadataアドオンMetadataアドオン/00020.png (deflated 4%)\n",
      "  adding: screenshots/014S3 Compatible Storage_MetadataアドオンMetadataアドオン/00053.png (deflated 5%)\n",
      "  adding: screenshots/036NIIストレージのクォータ_管理者機能/ (stored 0%)\n",
      "  adding: screenshots/036NIIストレージのクォータ_管理者機能/00003.png (deflated 4%)\n",
      "  adding: screenshots/036NIIストレージのクォータ_管理者機能/00009.png (deflated 1%)\n",
      "  adding: screenshots/036NIIストレージのクォータ_管理者機能/video-1.webm (deflated 17%)\n",
      "  adding: screenshots/036NIIストレージのクォータ_管理者機能/00014.png (deflated 4%)\n",
      "  adding: screenshots/036NIIストレージのクォータ_管理者機能/00010.png (deflated 5%)\n",
      "  adding: screenshots/036NIIストレージのクォータ_管理者機能/00011.png (deflated 4%)\n",
      "  adding: screenshots/036NIIストレージのクォータ_管理者機能/00004.png (deflated 4%)\n",
      "  adding: screenshots/036NIIストレージのクォータ_管理者機能/00001.png (deflated 19%)\n",
      "  adding: screenshots/036NIIストレージのクォータ_管理者機能/00008.png (deflated 0%)\n",
      "  adding: screenshots/036NIIストレージのクォータ_管理者機能/00013.png (deflated 5%)\n",
      "  adding: screenshots/036NIIストレージのクォータ_管理者機能/00005.png (deflated 7%)\n",
      "  adding: screenshots/036NIIストレージのクォータ_管理者機能/00015.png (deflated 2%)\n",
      "  adding: screenshots/036NIIストレージのクォータ_管理者機能/00012.png (deflated 5%)\n",
      "  adding: screenshots/036NIIストレージのクォータ_管理者機能/00002.png (deflated 8%)\n",
      "  adding: screenshots/036NIIストレージのクォータ_管理者機能/00007.png (deflated 5%)\n",
      "  adding: screenshots/036NIIストレージのクォータ_管理者機能/00006.png (deflated 5%)\n",
      "  adding: screenshots/013S3 Compatible Storage_ファイルタブ/ (stored 0%)\n",
      "  adding: screenshots/013S3 Compatible Storage_ファイルタブ/00027.png (deflated 5%)\n",
      "  adding: screenshots/013S3 Compatible Storage_ファイルタブ/00049.png (deflated 5%)\n",
      "  adding: screenshots/013S3 Compatible Storage_ファイルタブ/00003.png (deflated 2%)\n",
      "  adding: screenshots/013S3 Compatible Storage_ファイルタブ/00047.png (deflated 7%)\n",
      "  adding: screenshots/013S3 Compatible Storage_ファイルタブ/00021.png (deflated 5%)\n",
      "  adding: screenshots/013S3 Compatible Storage_ファイルタブ/00048.png (deflated 7%)\n",
      "  adding: screenshots/013S3 Compatible Storage_ファイルタブ/00050.png (deflated 7%)\n",
      "  adding: screenshots/013S3 Compatible Storage_ファイルタブ/00029.png (deflated 5%)\n",
      "  adding: screenshots/013S3 Compatible Storage_ファイルタブ/00009.png (deflated 6%)\n",
      "  adding: screenshots/013S3 Compatible Storage_ファイルタブ/00034.png (deflated 5%)\n",
      "  adding: screenshots/013S3 Compatible Storage_ファイルタブ/00051.png (deflated 2%)\n",
      "  adding: screenshots/013S3 Compatible Storage_ファイルタブ/00026.png (deflated 6%)\n",
      "  adding: screenshots/013S3 Compatible Storage_ファイルタブ/00036.png (deflated 5%)\n",
      "  adding: screenshots/013S3 Compatible Storage_ファイルタブ/00046.png (deflated 7%)\n",
      "  adding: screenshots/013S3 Compatible Storage_ファイルタブ/00032.png (deflated 5%)\n",
      "  adding: screenshots/013S3 Compatible Storage_ファイルタブ/00037.png (deflated 4%)\n",
      "  adding: screenshots/013S3 Compatible Storage_ファイルタブ/video-1.webm (deflated 8%)\n",
      "  adding: screenshots/013S3 Compatible Storage_ファイルタブ/00014.png (deflated 6%)\n",
      "  adding: screenshots/013S3 Compatible Storage_ファイルタブ/00043.png (deflated 4%)\n",
      "  adding: screenshots/013S3 Compatible Storage_ファイルタブ/00010.png (deflated 6%)\n",
      "  adding: screenshots/013S3 Compatible Storage_ファイルタブ/00040.png (deflated 6%)\n",
      "  adding: screenshots/013S3 Compatible Storage_ファイルタブ/00028.png (deflated 5%)\n",
      "  adding: screenshots/013S3 Compatible Storage_ファイルタブ/00052.png (deflated 0%)\n",
      "  adding: screenshots/013S3 Compatible Storage_ファイルタブ/00041.png (deflated 6%)\n",
      "  adding: screenshots/013S3 Compatible Storage_ファイルタブ/00011.png (deflated 9%)\n",
      "  adding: screenshots/013S3 Compatible Storage_ファイルタブ/00004.png (deflated 4%)\n",
      "  adding: screenshots/013S3 Compatible Storage_ファイルタブ/00044.png (deflated 6%)\n",
      "  adding: screenshots/013S3 Compatible Storage_ファイルタブ/00045.png (deflated 6%)\n",
      "  adding: screenshots/013S3 Compatible Storage_ファイルタブ/00033.png (deflated 5%)\n",
      "  adding: screenshots/013S3 Compatible Storage_ファイルタブ/00001.png (deflated 0%)\n",
      "  adding: screenshots/013S3 Compatible Storage_ファイルタブ/00008.png (deflated 6%)\n",
      "  adding: screenshots/013S3 Compatible Storage_ファイルタブ/00013.png (deflated 6%)\n",
      "  adding: screenshots/013S3 Compatible Storage_ファイルタブ/00005.png (deflated 7%)\n",
      "  adding: screenshots/013S3 Compatible Storage_ファイルタブ/00019.png (deflated 5%)\n",
      "  adding: screenshots/013S3 Compatible Storage_ファイルタブ/00015.png (deflated 6%)\n",
      "  adding: screenshots/013S3 Compatible Storage_ファイルタブ/00012.png (deflated 8%)\n",
      "  adding: screenshots/013S3 Compatible Storage_ファイルタブ/00038.png (deflated 6%)\n",
      "  adding: screenshots/013S3 Compatible Storage_ファイルタブ/00035.png (deflated 5%)\n",
      "  adding: screenshots/013S3 Compatible Storage_ファイルタブ/00002.png (deflated 2%)\n",
      "  adding: screenshots/013S3 Compatible Storage_ファイルタブ/00024.png (deflated 6%)\n",
      "  adding: screenshots/013S3 Compatible Storage_ファイルタブ/00017.png (deflated 6%)\n",
      "  adding: screenshots/013S3 Compatible Storage_ファイルタブ/00031.png (deflated 6%)\n",
      "  adding: screenshots/013S3 Compatible Storage_ファイルタブ/00023.png (deflated 5%)\n",
      "  adding: screenshots/013S3 Compatible Storage_ファイルタブ/00007.png (deflated 6%)\n",
      "  adding: screenshots/013S3 Compatible Storage_ファイルタブ/00018.png (deflated 6%)\n",
      "  adding: screenshots/013S3 Compatible Storage_ファイルタブ/00025.png (deflated 5%)\n",
      "  adding: screenshots/013S3 Compatible Storage_ファイルタブ/00030.png (deflated 6%)\n",
      "  adding: screenshots/013S3 Compatible Storage_ファイルタブ/00022.png (deflated 5%)\n",
      "  adding: screenshots/013S3 Compatible Storage_ファイルタブ/00016.png (deflated 7%)\n",
      "  adding: screenshots/013S3 Compatible Storage_ファイルタブ/00006.png (deflated 6%)\n",
      "  adding: screenshots/013S3 Compatible Storage_ファイルタブ/00042.png (deflated 6%)\n",
      "  adding: screenshots/013S3 Compatible Storage_ファイルタブ/00020.png (deflated 6%)\n",
      "  adding: screenshots/023未ログイン_管理者機能/ (stored 0%)\n",
      "  adding: screenshots/023未ログイン_管理者機能/00003.png (deflated 20%)\n",
      "  adding: screenshots/023未ログイン_管理者機能/video-1.webm (deflated 60%)\n",
      "  adding: screenshots/023未ログイン_管理者機能/00001.png (deflated 19%)\n",
      "  adding: screenshots/023未ログイン_管理者機能/00002.png (deflated 19%)\n",
      "  adding: screenshots/019Dropbox_共通試験/ (stored 0%)\n",
      "  adding: screenshots/019Dropbox_共通試験/00009.png (deflated 7%)\n",
      "  adding: screenshots/019Dropbox_共通試験/video-1.webm (deflated 7%)\n",
      "  adding: screenshots/019Dropbox_共通試験/00004.png (deflated 0%)\n",
      "  adding: screenshots/019Dropbox_共通試験/00008.png (deflated 7%)\n",
      "  adding: screenshots/019Dropbox_共通試験/00005.png (deflated 1%)\n",
      "  adding: screenshots/019Dropbox_共通試験/00007.png (deflated 7%)\n",
      "  adding: screenshots/019Dropbox_共通試験/00006.png (deflated 5%)\n",
      "  adding: screenshots/006NII Storage_Metadataアドオン/ (stored 0%)\n",
      "  adding: screenshots/006NII Storage_Metadataアドオン/00027.png (deflated 4%)\n",
      "  adding: screenshots/006NII Storage_Metadataアドオン/00049.png (deflated 5%)\n",
      "  adding: screenshots/006NII Storage_Metadataアドオン/00003.png (deflated 2%)\n",
      "  adding: screenshots/006NII Storage_Metadataアドオン/00047.png (deflated 4%)\n",
      "  adding: screenshots/006NII Storage_Metadataアドオン/00021.png (deflated 3%)\n",
      "  adding: screenshots/006NII Storage_Metadataアドオン/00048.png (deflated 5%)\n",
      "  adding: screenshots/006NII Storage_Metadataアドオン/00050.png (deflated 5%)\n",
      "  adding: screenshots/006NII Storage_Metadataアドオン/00071.png (deflated 4%)\n",
      "  adding: screenshots/006NII Storage_Metadataアドオン/00029.png (deflated 4%)\n",
      "  adding: screenshots/006NII Storage_Metadataアドオン/00009.png (deflated 8%)\n",
      "  adding: screenshots/006NII Storage_Metadataアドオン/00034.png (deflated 5%)\n",
      "  adding: screenshots/006NII Storage_Metadataアドオン/00051.png (deflated 5%)\n",
      "  adding: screenshots/006NII Storage_Metadataアドオン/00026.png (deflated 4%)\n",
      "  adding: screenshots/006NII Storage_Metadataアドオン/00069.png (deflated 4%)\n",
      "  adding: screenshots/006NII Storage_Metadataアドオン/00036.png (deflated 5%)\n",
      "  adding: screenshots/006NII Storage_Metadataアドオン/00046.png (deflated 5%)\n",
      "  adding: screenshots/006NII Storage_Metadataアドオン/00079.png (deflated 6%)\n",
      "  adding: screenshots/006NII Storage_Metadataアドオン/00057.png (deflated 4%)\n",
      "  adding: screenshots/006NII Storage_Metadataアドオン/00037.png (deflated 5%)\n",
      "  adding: screenshots/006NII Storage_Metadataアドオン/video-1.webm (deflated 11%)\n",
      "  adding: screenshots/006NII Storage_Metadataアドオン/00014.png (deflated 2%)\n",
      "  adding: screenshots/006NII Storage_Metadataアドオン/00043.png (deflated 5%)\n",
      "  adding: screenshots/006NII Storage_Metadataアドオン/00010.png (deflated 2%)\n",
      "  adding: screenshots/006NII Storage_Metadataアドオン/00040.png (deflated 6%)\n",
      "  adding: screenshots/006NII Storage_Metadataアドオン/00066.png (deflated 4%)\n",
      "  adding: screenshots/006NII Storage_Metadataアドオン/00059.png (deflated 4%)\n",
      "  adding: screenshots/006NII Storage_Metadataアドオン/00028.png (deflated 3%)\n",
      "  adding: screenshots/006NII Storage_Metadataアドオン/00052.png (deflated 5%)\n",
      "  adding: screenshots/006NII Storage_Metadataアドオン/00078.png (deflated 6%)\n",
      "  adding: screenshots/006NII Storage_Metadataアドオン/00072.png (deflated 2%)\n",
      "  adding: screenshots/006NII Storage_Metadataアドオン/00041.png (deflated 5%)\n",
      "  adding: screenshots/006NII Storage_Metadataアドオン/00056.png (deflated 5%)\n",
      "  adding: screenshots/006NII Storage_Metadataアドオン/00062.png (deflated 5%)\n",
      "  adding: screenshots/006NII Storage_Metadataアドオン/00011.png (deflated 2%)\n",
      "  adding: screenshots/006NII Storage_Metadataアドオン/00039.png (deflated 6%)\n",
      "  adding: screenshots/006NII Storage_Metadataアドオン/00004.png (deflated 5%)\n",
      "  adding: screenshots/006NII Storage_Metadataアドオン/00044.png (deflated 5%)\n",
      "  adding: screenshots/006NII Storage_Metadataアドオン/00074.png (deflated 3%)\n",
      "  adding: screenshots/006NII Storage_Metadataアドオン/00055.png (deflated 5%)\n",
      "  adding: screenshots/006NII Storage_Metadataアドオン/video-2.webm (deflated 7%)\n",
      "  adding: screenshots/006NII Storage_Metadataアドオン/00063.png (deflated 5%)\n",
      "  adding: screenshots/006NII Storage_Metadataアドオン/00045.png (deflated 5%)\n",
      "  adding: screenshots/006NII Storage_Metadataアドオン/00033.png (deflated 5%)\n",
      "  adding: screenshots/006NII Storage_Metadataアドオン/00067.png (deflated 4%)\n",
      "  adding: screenshots/006NII Storage_Metadataアドオン/00001.png (deflated 0%)\n",
      "  adding: screenshots/006NII Storage_Metadataアドオン/00008.png (deflated 7%)\n",
      "  adding: screenshots/006NII Storage_Metadataアドオン/00013.png (deflated 2%)\n",
      "  adding: screenshots/006NII Storage_Metadataアドオン/00005.png (deflated 6%)\n",
      "  adding: screenshots/006NII Storage_Metadataアドオン/00070.png (deflated 4%)\n",
      "  adding: screenshots/006NII Storage_Metadataアドオン/00060.png (deflated 5%)\n",
      "  adding: screenshots/006NII Storage_Metadataアドオン/00019.png (deflated 3%)\n",
      "  adding: screenshots/006NII Storage_Metadataアドオン/00015.png (deflated 2%)\n",
      "  adding: screenshots/006NII Storage_Metadataアドオン/00012.png (deflated 2%)\n",
      "  adding: screenshots/006NII Storage_Metadataアドオン/00038.png (deflated 6%)\n",
      "  adding: screenshots/006NII Storage_Metadataアドオン/00073.png (deflated 2%)\n",
      "  adding: screenshots/006NII Storage_Metadataアドオン/00077.png (deflated 6%)\n",
      "  adding: screenshots/006NII Storage_Metadataアドオン/00035.png (deflated 5%)\n",
      "  adding: screenshots/006NII Storage_Metadataアドオン/00065.png (deflated 5%)\n",
      "  adding: screenshots/006NII Storage_Metadataアドオン/00002.png (deflated 2%)\n",
      "  adding: screenshots/006NII Storage_Metadataアドオン/00024.png (deflated 2%)\n",
      "  adding: screenshots/006NII Storage_Metadataアドオン/00017.png (deflated 3%)\n",
      "  adding: screenshots/006NII Storage_Metadataアドオン/00058.png (deflated 5%)\n",
      "  adding: screenshots/006NII Storage_Metadataアドオン/00075.png (deflated 6%)\n",
      "  adding: screenshots/006NII Storage_Metadataアドオン/00031.png (deflated 5%)\n",
      "  adding: screenshots/006NII Storage_Metadataアドオン/00064.png (deflated 5%)\n",
      "  adding: screenshots/006NII Storage_Metadataアドオン/00023.png (deflated 2%)\n",
      "  adding: screenshots/006NII Storage_Metadataアドオン/00007.png (deflated 6%)\n",
      "  adding: screenshots/006NII Storage_Metadataアドオン/00068.png (deflated 3%)\n",
      "  adding: screenshots/006NII Storage_Metadataアドオン/00018.png (deflated 3%)\n",
      "  adding: screenshots/006NII Storage_Metadataアドオン/00080.png (deflated 2%)\n",
      "  adding: screenshots/006NII Storage_Metadataアドオン/00076.png (deflated 6%)\n",
      "  adding: screenshots/006NII Storage_Metadataアドオン/00054.png (deflated 5%)\n",
      "  adding: screenshots/006NII Storage_Metadataアドオン/00025.png (deflated 4%)\n",
      "  adding: screenshots/006NII Storage_Metadataアドオン/00030.png (deflated 5%)\n",
      "  adding: screenshots/006NII Storage_Metadataアドオン/00022.png (deflated 2%)\n",
      "  adding: screenshots/006NII Storage_Metadataアドオン/00016.png (deflated 4%)\n",
      "  adding: screenshots/006NII Storage_Metadataアドオン/00006.png (deflated 5%)\n",
      "  adding: screenshots/006NII Storage_Metadataアドオン/00042.png (deflated 5%)\n",
      "  adding: screenshots/006NII Storage_Metadataアドオン/00061.png (deflated 4%)\n",
      "  adding: screenshots/006NII Storage_Metadataアドオン/00020.png (deflated 4%)\n",
      "  adding: screenshots/006NII Storage_Metadataアドオン/00053.png (deflated 5%)\n",
      "  adding: screenshots/022Metadataアドオン/ (stored 0%)\n",
      "  adding: screenshots/022Metadataアドオン/00003.png (deflated 0%)\n",
      "  adding: screenshots/022Metadataアドオン/video-1.webm (deflated 7%)\n",
      "  adding: screenshots/022Metadataアドオン/00004.png (deflated 1%)\n",
      "  adding: screenshots/022Metadataアドオン/00005.png (deflated 5%)\n",
      "  adding: screenshots/022Metadataアドオン/00006.png (deflated 2%)\n",
      "  adding: screenshots/029RDMユーザメール_管理者機能/ (stored 0%)\n",
      "  adding: screenshots/029RDMユーザメール_管理者機能/00003.png (deflated 10%)\n",
      "  adding: screenshots/029RDMユーザメール_管理者機能/00009.png (deflated 10%)\n",
      "  adding: screenshots/029RDMユーザメール_管理者機能/video-1.webm (deflated 13%)\n",
      "  adding: screenshots/029RDMユーザメール_管理者機能/00010.png (deflated 11%)\n",
      "  adding: screenshots/029RDMユーザメール_管理者機能/00011.png (deflated 8%)\n",
      "  adding: screenshots/029RDMユーザメール_管理者機能/00004.png (deflated 11%)\n",
      "  adding: screenshots/029RDMユーザメール_管理者機能/00001.png (deflated 19%)\n",
      "  adding: screenshots/029RDMユーザメール_管理者機能/00008.png (deflated 8%)\n",
      "  adding: screenshots/029RDMユーザメール_管理者機能/00005.png (deflated 8%)\n",
      "  adding: screenshots/029RDMユーザメール_管理者機能/00002.png (deflated 8%)\n",
      "  adding: screenshots/029RDMユーザメール_管理者機能/00007.png (deflated 10%)\n",
      "  adding: screenshots/029RDMユーザメール_管理者機能/00006.png (deflated 10%)\n",
      "  adding: screenshots/035証跡管理_管理者機能/ (stored 0%)\n",
      "  adding: screenshots/035証跡管理_管理者機能/00003.png (deflated 4%)\n",
      "  adding: screenshots/035証跡管理_管理者機能/00009.png (deflated 4%)\n",
      "  adding: screenshots/035証跡管理_管理者機能/video-1.webm (deflated 9%)\n",
      "  adding: screenshots/035証跡管理_管理者機能/00014.png (deflated 4%)\n",
      "  adding: screenshots/035証跡管理_管理者機能/00010.png (deflated 4%)\n",
      "  adding: screenshots/035証跡管理_管理者機能/00011.png (deflated 5%)\n",
      "  adding: screenshots/035証跡管理_管理者機能/00004.png (deflated 3%)\n",
      "  adding: screenshots/035証跡管理_管理者機能/00001.png (deflated 19%)\n",
      "  adding: screenshots/035証跡管理_管理者機能/00008.png (deflated 4%)\n",
      "  adding: screenshots/035証跡管理_管理者機能/00013.png (deflated 4%)\n",
      "  adding: screenshots/035証跡管理_管理者機能/00005.png (deflated 3%)\n",
      "  adding: screenshots/035証跡管理_管理者機能/00015.png (deflated 4%)\n",
      "  adding: screenshots/035証跡管理_管理者機能/00012.png (deflated 4%)\n",
      "  adding: screenshots/035証跡管理_管理者機能/00002.png (deflated 8%)\n",
      "  adding: screenshots/035証跡管理_管理者機能/00007.png (deflated 4%)\n",
      "  adding: screenshots/035証跡管理_管理者機能/00016.png (deflated 6%)\n",
      "  adding: screenshots/035証跡管理_管理者機能/00006.png (deflated 4%)\n",
      "  adding: screenshots/017Dropbox_ファイルタブ/ (stored 0%)\n",
      "  adding: screenshots/017Dropbox_ファイルタブ/00027.png (deflated 5%)\n",
      "  adding: screenshots/017Dropbox_ファイルタブ/00049.png (deflated 3%)\n",
      "  adding: screenshots/017Dropbox_ファイルタブ/00003.png (deflated 2%)\n",
      "  adding: screenshots/017Dropbox_ファイルタブ/00047.png (deflated 3%)\n",
      "  adding: screenshots/017Dropbox_ファイルタブ/00021.png (deflated 5%)\n",
      "  adding: screenshots/017Dropbox_ファイルタブ/00048.png (deflated 3%)\n",
      "  adding: screenshots/017Dropbox_ファイルタブ/00050.png (deflated 7%)\n",
      "  adding: screenshots/017Dropbox_ファイルタブ/00029.png (deflated 5%)\n",
      "  adding: screenshots/017Dropbox_ファイルタブ/00009.png (deflated 6%)\n",
      "  adding: screenshots/017Dropbox_ファイルタブ/00034.png (deflated 5%)\n",
      "  adding: screenshots/017Dropbox_ファイルタブ/00051.png (deflated 2%)\n",
      "  adding: screenshots/017Dropbox_ファイルタブ/00026.png (deflated 6%)\n",
      "  adding: screenshots/017Dropbox_ファイルタブ/00036.png (deflated 5%)\n",
      "  adding: screenshots/017Dropbox_ファイルタブ/00046.png (deflated 7%)\n",
      "  adding: screenshots/017Dropbox_ファイルタブ/00032.png (deflated 5%)\n",
      "  adding: screenshots/017Dropbox_ファイルタブ/00037.png (deflated 4%)\n",
      "  adding: screenshots/017Dropbox_ファイルタブ/video-1.webm (deflated 9%)\n",
      "  adding: screenshots/017Dropbox_ファイルタブ/00014.png (deflated 6%)\n",
      "  adding: screenshots/017Dropbox_ファイルタブ/00043.png (deflated 4%)\n",
      "  adding: screenshots/017Dropbox_ファイルタブ/00010.png (deflated 7%)\n",
      "  adding: screenshots/017Dropbox_ファイルタブ/00040.png (deflated 5%)\n",
      "  adding: screenshots/017Dropbox_ファイルタブ/00028.png (deflated 5%)\n",
      "  adding: screenshots/017Dropbox_ファイルタブ/00052.png (deflated 0%)\n",
      "  adding: screenshots/017Dropbox_ファイルタブ/00041.png (deflated 6%)\n",
      "  adding: screenshots/017Dropbox_ファイルタブ/00011.png (deflated 9%)\n",
      "  adding: screenshots/017Dropbox_ファイルタブ/00004.png (deflated 4%)\n",
      "  adding: screenshots/017Dropbox_ファイルタブ/00044.png (deflated 5%)\n",
      "  adding: screenshots/017Dropbox_ファイルタブ/00045.png (deflated 6%)\n",
      "  adding: screenshots/017Dropbox_ファイルタブ/00033.png (deflated 5%)\n",
      "  adding: screenshots/017Dropbox_ファイルタブ/00001.png (deflated 0%)\n",
      "  adding: screenshots/017Dropbox_ファイルタブ/00008.png (deflated 6%)\n",
      "  adding: screenshots/017Dropbox_ファイルタブ/00013.png (deflated 7%)\n",
      "  adding: screenshots/017Dropbox_ファイルタブ/00005.png (deflated 7%)\n",
      "  adding: screenshots/017Dropbox_ファイルタブ/00019.png (deflated 6%)\n",
      "  adding: screenshots/017Dropbox_ファイルタブ/00015.png (deflated 6%)\n",
      "  adding: screenshots/017Dropbox_ファイルタブ/00012.png (deflated 7%)\n",
      "  adding: screenshots/017Dropbox_ファイルタブ/00038.png (deflated 6%)\n",
      "  adding: screenshots/017Dropbox_ファイルタブ/00035.png (deflated 5%)\n",
      "  adding: screenshots/017Dropbox_ファイルタブ/00002.png (deflated 2%)\n",
      "  adding: screenshots/017Dropbox_ファイルタブ/00024.png (deflated 6%)\n",
      "  adding: screenshots/017Dropbox_ファイルタブ/00017.png (deflated 6%)\n",
      "  adding: screenshots/017Dropbox_ファイルタブ/00031.png (deflated 6%)\n",
      "  adding: screenshots/017Dropbox_ファイルタブ/00023.png (deflated 6%)\n",
      "  adding: screenshots/017Dropbox_ファイルタブ/00007.png (deflated 6%)\n",
      "  adding: screenshots/017Dropbox_ファイルタブ/00018.png (deflated 6%)\n",
      "  adding: screenshots/017Dropbox_ファイルタブ/00025.png (deflated 6%)\n",
      "  adding: screenshots/017Dropbox_ファイルタブ/00030.png (deflated 6%)\n",
      "  adding: screenshots/017Dropbox_ファイルタブ/00022.png (deflated 6%)\n",
      "  adding: screenshots/017Dropbox_ファイルタブ/00016.png (deflated 6%)\n",
      "  adding: screenshots/017Dropbox_ファイルタブ/00006.png (deflated 5%)\n",
      "  adding: screenshots/017Dropbox_ファイルタブ/00042.png (deflated 5%)\n",
      "  adding: screenshots/017Dropbox_ファイルタブ/00020.png (deflated 6%)\n",
      "  adding: screenshots/032アドオン利用制御_管理者機能/ (stored 0%)\n",
      "  adding: screenshots/032アドオン利用制御_管理者機能/00003.png (deflated 4%)\n",
      "  adding: screenshots/032アドオン利用制御_管理者機能/video-1.webm (deflated 9%)\n",
      "  adding: screenshots/032アドオン利用制御_管理者機能/00004.png (deflated 8%)\n",
      "  adding: screenshots/032アドオン利用制御_管理者機能/00001.png (deflated 19%)\n",
      "  adding: screenshots/032アドオン利用制御_管理者機能/00005.png (deflated 8%)\n",
      "  adding: screenshots/032アドオン利用制御_管理者機能/00002.png (deflated 8%)\n",
      "  adding: screenshots/032アドオン利用制御_管理者機能/00006.png (deflated 7%)\n",
      "  adding: screenshots/037管理者機能/ (stored 0%)\n",
      "  adding: screenshots/027ユーザ管理_管理者機能/ (stored 0%)\n",
      "  adding: screenshots/027ユーザ管理_管理者機能/00003.png (deflated 10%)\n",
      "  adding: screenshots/027ユーザ管理_管理者機能/00009.png (deflated 4%)\n",
      "  adding: screenshots/027ユーザ管理_管理者機能/video-1.webm (deflated 8%)\n",
      "  adding: screenshots/027ユーザ管理_管理者機能/00004.png (deflated 4%)\n",
      "  adding: screenshots/027ユーザ管理_管理者機能/00001.png (deflated 19%)\n",
      "  adding: screenshots/027ユーザ管理_管理者機能/00008.png (deflated 10%)\n",
      "  adding: screenshots/027ユーザ管理_管理者機能/00005.png (deflated 10%)\n",
      "  adding: screenshots/027ユーザ管理_管理者機能/00002.png (deflated 8%)\n",
      "  adding: screenshots/027ユーザ管理_管理者機能/00007.png (deflated 4%)\n",
      "  adding: screenshots/027ユーザ管理_管理者機能/00006.png (deflated 10%)\n",
      "  adding: screenshots/018Dropbox_Metadataアドオン/ (stored 0%)\n",
      "  adding: screenshots/018Dropbox_Metadataアドオン/00027.png (deflated 3%)\n",
      "  adding: screenshots/018Dropbox_Metadataアドオン/00049.png (deflated 5%)\n",
      "  adding: screenshots/018Dropbox_Metadataアドオン/00003.png (deflated 1%)\n",
      "  adding: screenshots/018Dropbox_Metadataアドオン/00047.png (deflated 5%)\n",
      "  adding: screenshots/018Dropbox_Metadataアドオン/00021.png (deflated 3%)\n",
      "  adding: screenshots/018Dropbox_Metadataアドオン/00048.png (deflated 4%)\n",
      "  adding: screenshots/018Dropbox_Metadataアドオン/00050.png (deflated 5%)\n",
      "  adding: screenshots/018Dropbox_Metadataアドオン/00071.png (deflated 4%)\n",
      "  adding: screenshots/018Dropbox_Metadataアドオン/00029.png (deflated 3%)\n",
      "  adding: screenshots/018Dropbox_Metadataアドオン/00009.png (deflated 8%)\n",
      "  adding: screenshots/018Dropbox_Metadataアドオン/00034.png (deflated 5%)\n",
      "  adding: screenshots/018Dropbox_Metadataアドオン/00051.png (deflated 5%)\n",
      "  adding: screenshots/018Dropbox_Metadataアドオン/00026.png (deflated 3%)\n",
      "  adding: screenshots/018Dropbox_Metadataアドオン/00069.png (deflated 4%)\n",
      "  adding: screenshots/018Dropbox_Metadataアドオン/00036.png (deflated 5%)\n",
      "  adding: screenshots/018Dropbox_Metadataアドオン/00046.png (deflated 5%)\n",
      "  adding: screenshots/018Dropbox_Metadataアドオン/00079.png (deflated 7%)\n",
      "  adding: screenshots/018Dropbox_Metadataアドオン/00057.png (deflated 4%)\n",
      "  adding: screenshots/018Dropbox_Metadataアドオン/00037.png (deflated 5%)\n",
      "  adding: screenshots/018Dropbox_Metadataアドオン/video-1.webm (deflated 12%)\n",
      "  adding: screenshots/018Dropbox_Metadataアドオン/00014.png (deflated 2%)\n",
      "  adding: screenshots/018Dropbox_Metadataアドオン/00043.png (deflated 5%)\n",
      "  adding: screenshots/018Dropbox_Metadataアドオン/00010.png (deflated 2%)\n",
      "  adding: screenshots/018Dropbox_Metadataアドオン/00040.png (deflated 5%)\n",
      "  adding: screenshots/018Dropbox_Metadataアドオン/00066.png (deflated 4%)\n",
      "  adding: screenshots/018Dropbox_Metadataアドオン/00059.png (deflated 4%)\n",
      "  adding: screenshots/018Dropbox_Metadataアドオン/00028.png (deflated 3%)\n",
      "  adding: screenshots/018Dropbox_Metadataアドオン/00052.png (deflated 5%)\n",
      "  adding: screenshots/018Dropbox_Metadataアドオン/00078.png (deflated 6%)\n",
      "  adding: screenshots/018Dropbox_Metadataアドオン/00072.png (deflated 2%)\n",
      "  adding: screenshots/018Dropbox_Metadataアドオン/00041.png (deflated 5%)\n",
      "  adding: screenshots/018Dropbox_Metadataアドオン/00056.png (deflated 5%)\n",
      "  adding: screenshots/018Dropbox_Metadataアドオン/00062.png (deflated 5%)\n",
      "  adding: screenshots/018Dropbox_Metadataアドオン/00011.png (deflated 2%)\n",
      "  adding: screenshots/018Dropbox_Metadataアドオン/00039.png (deflated 5%)\n",
      "  adding: screenshots/018Dropbox_Metadataアドオン/00004.png (deflated 4%)\n",
      "  adding: screenshots/018Dropbox_Metadataアドオン/00044.png (deflated 5%)\n",
      "  adding: screenshots/018Dropbox_Metadataアドオン/00074.png (deflated 3%)\n",
      "  adding: screenshots/018Dropbox_Metadataアドオン/00055.png (deflated 5%)\n",
      "  adding: screenshots/018Dropbox_Metadataアドオン/video-2.webm (deflated 6%)\n",
      "  adding: screenshots/018Dropbox_Metadataアドオン/00063.png (deflated 5%)\n",
      "  adding: screenshots/018Dropbox_Metadataアドオン/00045.png (deflated 5%)\n",
      "  adding: screenshots/018Dropbox_Metadataアドオン/00033.png (deflated 5%)\n",
      "  adding: screenshots/018Dropbox_Metadataアドオン/00067.png (deflated 3%)\n",
      "  adding: screenshots/018Dropbox_Metadataアドオン/00001.png (deflated 0%)\n",
      "  adding: screenshots/018Dropbox_Metadataアドオン/00008.png (deflated 7%)\n",
      "  adding: screenshots/018Dropbox_Metadataアドオン/00013.png (deflated 2%)\n",
      "  adding: screenshots/018Dropbox_Metadataアドオン/00005.png (deflated 6%)\n",
      "  adding: screenshots/018Dropbox_Metadataアドオン/00070.png (deflated 4%)\n",
      "  adding: screenshots/018Dropbox_Metadataアドオン/00060.png (deflated 5%)\n",
      "  adding: screenshots/018Dropbox_Metadataアドオン/00019.png (deflated 3%)\n",
      "  adding: screenshots/018Dropbox_Metadataアドオン/00015.png (deflated 2%)\n",
      "  adding: screenshots/018Dropbox_Metadataアドオン/00012.png (deflated 2%)\n",
      "  adding: screenshots/018Dropbox_Metadataアドオン/00038.png (deflated 5%)\n",
      "  adding: screenshots/018Dropbox_Metadataアドオン/00073.png (deflated 2%)\n",
      "  adding: screenshots/018Dropbox_Metadataアドオン/00077.png (deflated 7%)\n",
      "  adding: screenshots/018Dropbox_Metadataアドオン/00035.png (deflated 5%)\n",
      "  adding: screenshots/018Dropbox_Metadataアドオン/00065.png (deflated 5%)\n",
      "  adding: screenshots/018Dropbox_Metadataアドオン/00002.png (deflated 2%)\n",
      "  adding: screenshots/018Dropbox_Metadataアドオン/00024.png (deflated 2%)\n",
      "  adding: screenshots/018Dropbox_Metadataアドオン/00017.png (deflated 3%)\n",
      "  adding: screenshots/018Dropbox_Metadataアドオン/00058.png (deflated 4%)\n",
      "  adding: screenshots/018Dropbox_Metadataアドオン/00075.png (deflated 8%)\n",
      "  adding: screenshots/018Dropbox_Metadataアドオン/00031.png (deflated 5%)\n",
      "  adding: screenshots/018Dropbox_Metadataアドオン/00064.png (deflated 5%)\n",
      "  adding: screenshots/018Dropbox_Metadataアドオン/00023.png (deflated 2%)\n",
      "  adding: screenshots/018Dropbox_Metadataアドオン/00007.png (deflated 6%)\n",
      "  adding: screenshots/018Dropbox_Metadataアドオン/00068.png (deflated 3%)\n",
      "  adding: screenshots/018Dropbox_Metadataアドオン/00018.png (deflated 3%)\n",
      "  adding: screenshots/018Dropbox_Metadataアドオン/00080.png (deflated 2%)\n",
      "  adding: screenshots/018Dropbox_Metadataアドオン/00076.png (deflated 6%)\n",
      "  adding: screenshots/018Dropbox_Metadataアドオン/00054.png (deflated 5%)\n",
      "  adding: screenshots/018Dropbox_Metadataアドオン/00025.png (deflated 3%)\n",
      "  adding: screenshots/018Dropbox_Metadataアドオン/00030.png (deflated 5%)\n",
      "  adding: screenshots/018Dropbox_Metadataアドオン/00022.png (deflated 2%)\n",
      "  adding: screenshots/018Dropbox_Metadataアドオン/00016.png (deflated 4%)\n",
      "  adding: screenshots/018Dropbox_Metadataアドオン/00006.png (deflated 4%)\n",
      "  adding: screenshots/018Dropbox_Metadataアドオン/00042.png (deflated 5%)\n",
      "  adding: screenshots/018Dropbox_Metadataアドオン/00061.png (deflated 4%)\n",
      "  adding: screenshots/018Dropbox_Metadataアドオン/00020.png (deflated 4%)\n",
      "  adding: screenshots/018Dropbox_Metadataアドオン/00053.png (deflated 5%)\n",
      "  adding: screenshots/031メンテナンスアラート_管理者機能/ (stored 0%)\n",
      "  adding: screenshots/031メンテナンスアラート_管理者機能/00003.png (deflated 8%)\n",
      "  adding: screenshots/031メンテナンスアラート_管理者機能/00009.png (deflated 6%)\n",
      "  adding: screenshots/031メンテナンスアラート_管理者機能/video-1.webm (deflated 27%)\n",
      "  adding: screenshots/031メンテナンスアラート_管理者機能/00014.png (deflated 5%)\n",
      "  adding: screenshots/031メンテナンスアラート_管理者機能/00010.png (deflated 0%)\n",
      "  adding: screenshots/031メンテナンスアラート_管理者機能/00011.png (deflated 2%)\n",
      "  adding: screenshots/031メンテナンスアラート_管理者機能/00004.png (deflated 6%)\n",
      "  adding: screenshots/031メンテナンスアラート_管理者機能/00001.png (deflated 19%)\n",
      "  adding: screenshots/031メンテナンスアラート_管理者機能/00008.png (deflated 8%)\n",
      "  adding: screenshots/031メンテナンスアラート_管理者機能/00013.png (deflated 6%)\n",
      "  adding: screenshots/031メンテナンスアラート_管理者機能/00005.png (deflated 8%)\n",
      "  adding: screenshots/031メンテナンスアラート_管理者機能/00015.png (deflated 8%)\n",
      "  adding: screenshots/031メンテナンスアラート_管理者機能/00012.png (deflated 2%)\n",
      "  adding: screenshots/031メンテナンスアラート_管理者機能/00002.png (deflated 8%)\n",
      "  adding: screenshots/031メンテナンスアラート_管理者機能/00007.png (deflated 8%)\n",
      "  adding: screenshots/031メンテナンスアラート_管理者機能/00006.png (deflated 5%)\n",
      "  adding: screenshots/008Amazon S3_プロジェクトダッシュボード/ (stored 0%)\n",
      "  adding: screenshots/008Amazon S3_プロジェクトダッシュボード/00027.png (deflated 3%)\n",
      "  adding: screenshots/008Amazon S3_プロジェクトダッシュボード/00049.png (deflated 5%)\n",
      "  adding: screenshots/008Amazon S3_プロジェクトダッシュボード/00003.png (deflated 2%)\n",
      "  adding: screenshots/008Amazon S3_プロジェクトダッシュボード/00047.png (deflated 7%)\n",
      "  adding: screenshots/008Amazon S3_プロジェクトダッシュボード/00021.png (deflated 3%)\n",
      "  adding: screenshots/008Amazon S3_プロジェクトダッシュボード/00048.png (deflated 8%)\n",
      "  adding: screenshots/008Amazon S3_プロジェクトダッシュボード/00050.png (deflated 7%)\n",
      "  adding: screenshots/008Amazon S3_プロジェクトダッシュボード/00029.png (deflated 3%)\n",
      "  adding: screenshots/008Amazon S3_プロジェクトダッシュボード/00009.png (deflated 3%)\n",
      "  adding: screenshots/008Amazon S3_プロジェクトダッシュボード/00034.png (deflated 3%)\n",
      "  adding: screenshots/008Amazon S3_プロジェクトダッシュボード/00051.png (deflated 2%)\n",
      "  adding: screenshots/008Amazon S3_プロジェクトダッシュボード/00026.png (deflated 3%)\n",
      "  adding: screenshots/008Amazon S3_プロジェクトダッシュボード/00036.png (deflated 3%)\n",
      "  adding: screenshots/008Amazon S3_プロジェクトダッシュボード/00046.png (deflated 5%)\n",
      "  adding: screenshots/008Amazon S3_プロジェクトダッシュボード/00032.png (deflated 3%)\n",
      "  adding: screenshots/008Amazon S3_プロジェクトダッシュボード/00037.png (deflated 2%)\n",
      "  adding: screenshots/008Amazon S3_プロジェクトダッシュボード/video-1.webm (deflated 8%)\n",
      "  adding: screenshots/008Amazon S3_プロジェクトダッシュボード/00014.png (deflated 3%)\n",
      "  adding: screenshots/008Amazon S3_プロジェクトダッシュボード/00043.png (deflated 3%)\n",
      "  adding: screenshots/008Amazon S3_プロジェクトダッシュボード/00010.png (deflated 7%)\n",
      "  adding: screenshots/008Amazon S3_プロジェクトダッシュボード/00040.png (deflated 3%)\n",
      "  adding: screenshots/008Amazon S3_プロジェクトダッシュボード/00028.png (deflated 3%)\n",
      "  adding: screenshots/008Amazon S3_プロジェクトダッシュボード/00052.png (deflated 0%)\n",
      "  adding: screenshots/008Amazon S3_プロジェクトダッシュボード/00041.png (deflated 3%)\n",
      "  adding: screenshots/008Amazon S3_プロジェクトダッシュボード/00011.png (deflated 9%)\n",
      "  adding: screenshots/008Amazon S3_プロジェクトダッシュボード/00004.png (deflated 4%)\n",
      "  adding: screenshots/008Amazon S3_プロジェクトダッシュボード/00044.png (deflated 3%)\n",
      "  adding: screenshots/008Amazon S3_プロジェクトダッシュボード/00045.png (deflated 4%)\n",
      "  adding: screenshots/008Amazon S3_プロジェクトダッシュボード/00033.png (deflated 3%)\n",
      "  adding: screenshots/008Amazon S3_プロジェクトダッシュボード/00001.png (deflated 0%)\n",
      "  adding: screenshots/008Amazon S3_プロジェクトダッシュボード/00008.png (deflated 3%)\n",
      "  adding: screenshots/008Amazon S3_プロジェクトダッシュボード/00013.png (deflated 4%)\n",
      "  adding: screenshots/008Amazon S3_プロジェクトダッシュボード/00005.png (deflated 4%)\n",
      "  adding: screenshots/008Amazon S3_プロジェクトダッシュボード/00019.png (deflated 3%)\n",
      "  adding: screenshots/008Amazon S3_プロジェクトダッシュボード/00015.png (deflated 4%)\n",
      "  adding: screenshots/008Amazon S3_プロジェクトダッシュボード/00012.png (deflated 5%)\n",
      "  adding: screenshots/008Amazon S3_プロジェクトダッシュボード/00038.png (deflated 3%)\n",
      "  adding: screenshots/008Amazon S3_プロジェクトダッシュボード/00035.png (deflated 3%)\n",
      "  adding: screenshots/008Amazon S3_プロジェクトダッシュボード/00002.png (deflated 2%)\n",
      "  adding: screenshots/008Amazon S3_プロジェクトダッシュボード/00024.png (deflated 3%)\n",
      "  adding: screenshots/008Amazon S3_プロジェクトダッシュボード/00017.png (deflated 3%)\n",
      "  adding: screenshots/008Amazon S3_プロジェクトダッシュボード/00031.png (deflated 4%)\n",
      "  adding: screenshots/008Amazon S3_プロジェクトダッシュボード/00023.png (deflated 3%)\n",
      "  adding: screenshots/008Amazon S3_プロジェクトダッシュボード/00007.png (deflated 3%)\n",
      "  adding: screenshots/008Amazon S3_プロジェクトダッシュボード/00018.png (deflated 4%)\n",
      "  adding: screenshots/008Amazon S3_プロジェクトダッシュボード/00025.png (deflated 3%)\n",
      "  adding: screenshots/008Amazon S3_プロジェクトダッシュボード/00030.png (deflated 3%)\n",
      "  adding: screenshots/008Amazon S3_プロジェクトダッシュボード/00022.png (deflated 3%)\n",
      "  adding: screenshots/008Amazon S3_プロジェクトダッシュボード/00016.png (deflated 4%)\n",
      "  adding: screenshots/008Amazon S3_プロジェクトダッシュボード/00006.png (deflated 4%)\n",
      "  adding: screenshots/008Amazon S3_プロジェクトダッシュボード/00042.png (deflated 4%)\n",
      "  adding: screenshots/008Amazon S3_プロジェクトダッシュボード/00020.png (deflated 4%)\n",
      "  adding: screenshots/012S3 Compatible Storage_プロジェクトダッシュボード/ (stored 0%)\n",
      "  adding: screenshots/012S3 Compatible Storage_プロジェクトダッシュボード/00027.png (deflated 3%)\n",
      "  adding: screenshots/012S3 Compatible Storage_プロジェクトダッシュボード/00049.png (deflated 5%)\n",
      "  adding: screenshots/012S3 Compatible Storage_プロジェクトダッシュボード/00003.png (deflated 2%)\n",
      "  adding: screenshots/012S3 Compatible Storage_プロジェクトダッシュボード/00047.png (deflated 7%)\n",
      "  adding: screenshots/012S3 Compatible Storage_プロジェクトダッシュボード/00021.png (deflated 3%)\n",
      "  adding: screenshots/012S3 Compatible Storage_プロジェクトダッシュボード/00048.png (deflated 6%)\n",
      "  adding: screenshots/012S3 Compatible Storage_プロジェクトダッシュボード/00050.png (deflated 7%)\n",
      "  adding: screenshots/012S3 Compatible Storage_プロジェクトダッシュボード/00029.png (deflated 3%)\n",
      "  adding: screenshots/012S3 Compatible Storage_プロジェクトダッシュボード/00009.png (deflated 4%)\n",
      "  adding: screenshots/012S3 Compatible Storage_プロジェクトダッシュボード/00034.png (deflated 2%)\n",
      "  adding: screenshots/012S3 Compatible Storage_プロジェクトダッシュボード/00051.png (deflated 2%)\n",
      "  adding: screenshots/012S3 Compatible Storage_プロジェクトダッシュボード/00026.png (deflated 3%)\n",
      "  adding: screenshots/012S3 Compatible Storage_プロジェクトダッシュボード/00036.png (deflated 3%)\n",
      "  adding: screenshots/012S3 Compatible Storage_プロジェクトダッシュボード/00046.png (deflated 4%)\n",
      "  adding: screenshots/012S3 Compatible Storage_プロジェクトダッシュボード/00032.png (deflated 3%)\n",
      "  adding: screenshots/012S3 Compatible Storage_プロジェクトダッシュボード/00037.png (deflated 2%)\n",
      "  adding: screenshots/012S3 Compatible Storage_プロジェクトダッシュボード/video-1.webm (deflated 7%)\n",
      "  adding: screenshots/012S3 Compatible Storage_プロジェクトダッシュボード/00014.png (deflated 3%)\n",
      "  adding: screenshots/012S3 Compatible Storage_プロジェクトダッシュボード/00043.png (deflated 3%)\n",
      "  adding: screenshots/012S3 Compatible Storage_プロジェクトダッシュボード/00010.png (deflated 6%)\n",
      "  adding: screenshots/012S3 Compatible Storage_プロジェクトダッシュボード/00040.png (deflated 3%)\n",
      "  adding: screenshots/012S3 Compatible Storage_プロジェクトダッシュボード/00028.png (deflated 3%)\n",
      "  adding: screenshots/012S3 Compatible Storage_プロジェクトダッシュボード/00052.png (deflated 0%)\n",
      "  adding: screenshots/012S3 Compatible Storage_プロジェクトダッシュボード/00041.png (deflated 3%)\n",
      "  adding: screenshots/012S3 Compatible Storage_プロジェクトダッシュボード/00011.png (deflated 8%)\n",
      "  adding: screenshots/012S3 Compatible Storage_プロジェクトダッシュボード/00004.png (deflated 4%)\n",
      "  adding: screenshots/012S3 Compatible Storage_プロジェクトダッシュボード/00044.png (deflated 4%)\n",
      "  adding: screenshots/012S3 Compatible Storage_プロジェクトダッシュボード/00045.png (deflated 3%)\n",
      "  adding: screenshots/012S3 Compatible Storage_プロジェクトダッシュボード/00033.png (deflated 2%)\n",
      "  adding: screenshots/012S3 Compatible Storage_プロジェクトダッシュボード/00001.png (deflated 0%)\n",
      "  adding: screenshots/012S3 Compatible Storage_プロジェクトダッシュボード/00008.png (deflated 4%)\n",
      "  adding: screenshots/012S3 Compatible Storage_プロジェクトダッシュボード/00013.png (deflated 4%)\n",
      "  adding: screenshots/012S3 Compatible Storage_プロジェクトダッシュボード/00005.png (deflated 4%)\n",
      "  adding: screenshots/012S3 Compatible Storage_プロジェクトダッシュボード/00019.png (deflated 3%)\n",
      "  adding: screenshots/012S3 Compatible Storage_プロジェクトダッシュボード/00015.png (deflated 3%)\n",
      "  adding: screenshots/012S3 Compatible Storage_プロジェクトダッシュボード/00012.png (deflated 5%)\n",
      "  adding: screenshots/012S3 Compatible Storage_プロジェクトダッシュボード/00038.png (deflated 3%)\n",
      "  adding: screenshots/012S3 Compatible Storage_プロジェクトダッシュボード/00035.png (deflated 3%)\n",
      "  adding: screenshots/012S3 Compatible Storage_プロジェクトダッシュボード/00002.png (deflated 2%)\n",
      "  adding: screenshots/012S3 Compatible Storage_プロジェクトダッシュボード/00024.png (deflated 3%)\n",
      "  adding: screenshots/012S3 Compatible Storage_プロジェクトダッシュボード/00017.png (deflated 3%)\n",
      "  adding: screenshots/012S3 Compatible Storage_プロジェクトダッシュボード/00031.png (deflated 3%)\n",
      "  adding: screenshots/012S3 Compatible Storage_プロジェクトダッシュボード/00023.png (deflated 3%)\n",
      "  adding: screenshots/012S3 Compatible Storage_プロジェクトダッシュボード/00007.png (deflated 4%)\n",
      "  adding: screenshots/012S3 Compatible Storage_プロジェクトダッシュボード/00018.png (deflated 3%)\n",
      "  adding: screenshots/012S3 Compatible Storage_プロジェクトダッシュボード/00025.png (deflated 3%)\n",
      "  adding: screenshots/012S3 Compatible Storage_プロジェクトダッシュボード/00030.png (deflated 3%)\n",
      "  adding: screenshots/012S3 Compatible Storage_プロジェクトダッシュボード/00022.png (deflated 3%)\n",
      "  adding: screenshots/012S3 Compatible Storage_プロジェクトダッシュボード/00016.png (deflated 3%)\n",
      "  adding: screenshots/012S3 Compatible Storage_プロジェクトダッシュボード/00006.png (deflated 4%)\n",
      "  adding: screenshots/012S3 Compatible Storage_プロジェクトダッシュボード/00042.png (deflated 3%)\n",
      "  adding: screenshots/012S3 Compatible Storage_プロジェクトダッシュボード/00020.png (deflated 3%)\n",
      "  adding: screenshots/024ログイン_管理者機能/ (stored 0%)\n",
      "  adding: screenshots/024ログイン_管理者機能/00003.png (deflated 12%)\n",
      "  adding: screenshots/024ログイン_管理者機能/video-1.webm (deflated 12%)\n",
      "  adding: screenshots/024ログイン_管理者機能/00004.png (deflated 11%)\n",
      "  adding: screenshots/024ログイン_管理者機能/00001.png (deflated 19%)\n",
      "  adding: screenshots/024ログイン_管理者機能/00005.png (deflated 6%)\n",
      "  adding: screenshots/024ログイン_管理者機能/00002.png (deflated 21%)\n",
      "  adding: screenshots/024ログイン_管理者機能/00007.png (deflated 24%)\n",
      "  adding: screenshots/024ログイン_管理者機能/00006.png (deflated 8%)\n",
      "  adding: screenshots/007NIIストレージ/ (stored 0%)\n",
      "  adding: screenshots/021Rad情報を用いた自動補完_e/ (stored 0%)\n",
      "  adding: screenshots/021Rad情報を用いた自動補完_e/00110.png (deflated 6%)\n",
      "  adding: screenshots/021Rad情報を用いた自動補完_e/00027.png (deflated 7%)\n",
      "  adding: screenshots/021Rad情報を用いた自動補完_e/00049.png (deflated 5%)\n",
      "  adding: screenshots/021Rad情報を用いた自動補完_e/00003.png (deflated 2%)\n",
      "  adding: screenshots/021Rad情報を用いた自動補完_e/00047.png (deflated 6%)\n",
      "  adding: screenshots/021Rad情報を用いた自動補完_e/00021.png (deflated 3%)\n",
      "  adding: screenshots/021Rad情報を用いた自動補完_e/00048.png (deflated 5%)\n",
      "  adding: screenshots/021Rad情報を用いた自動補完_e/00119.png (deflated 6%)\n",
      "  adding: screenshots/021Rad情報を用いた自動補完_e/00097.png (deflated 6%)\n",
      "  adding: screenshots/021Rad情報を用いた自動補完_e/00050.png (deflated 5%)\n",
      "  adding: screenshots/021Rad情報を用いた自動補完_e/00092.png (deflated 6%)\n",
      "  adding: screenshots/021Rad情報を用いた自動補完_e/00071.png (deflated 5%)\n",
      "  adding: screenshots/021Rad情報を用いた自動補完_e/00102.png (deflated 7%)\n",
      "  adding: screenshots/021Rad情報を用いた自動補完_e/00117.png (deflated 3%)\n",
      "  adding: screenshots/021Rad情報を用いた自動補完_e/00029.png (deflated 5%)\n",
      "  adding: screenshots/021Rad情報を用いた自動補完_e/00009.png (deflated 3%)\n",
      "  adding: screenshots/021Rad情報を用いた自動補完_e/00034.png (deflated 5%)\n",
      "  adding: screenshots/021Rad情報を用いた自動補完_e/00051.png (deflated 5%)\n",
      "  adding: screenshots/021Rad情報を用いた自動補完_e/00088.png (deflated 6%)\n",
      "  adding: screenshots/021Rad情報を用いた自動補完_e/00105.png (deflated 7%)\n",
      "  adding: screenshots/021Rad情報を用いた自動補完_e/00026.png (deflated 7%)\n",
      "  adding: screenshots/021Rad情報を用いた自動補完_e/00069.png (deflated 3%)\n",
      "  adding: screenshots/021Rad情報を用いた自動補完_e/00036.png (deflated 6%)\n",
      "  adding: screenshots/021Rad情報を用いた自動補完_e/00046.png (deflated 4%)\n",
      "  adding: screenshots/021Rad情報を用いた自動補完_e/00087.png (deflated 7%)\n",
      "  adding: screenshots/021Rad情報を用いた自動補完_e/00079.png (deflated 6%)\n",
      "  adding: screenshots/021Rad情報を用いた自動補完_e/00111.png (deflated 5%)\n",
      "  adding: screenshots/021Rad情報を用いた自動補完_e/00032.png (deflated 6%)\n",
      "  adding: screenshots/021Rad情報を用いた自動補完_e/00057.png (deflated 4%)\n",
      "  adding: screenshots/021Rad情報を用いた自動補完_e/00084.png (deflated 6%)\n",
      "  adding: screenshots/021Rad情報を用いた自動補完_e/00037.png (deflated 5%)\n",
      "  adding: screenshots/021Rad情報を用いた自動補完_e/video-1.webm (deflated 10%)\n",
      "  adding: screenshots/021Rad情報を用いた自動補完_e/00086.png (deflated 7%)\n",
      "  adding: screenshots/021Rad情報を用いた自動補完_e/00014.png (deflated 2%)\n",
      "  adding: screenshots/021Rad情報を用いた自動補完_e/00043.png (deflated 5%)\n",
      "  adding: screenshots/021Rad情報を用いた自動補完_e/00010.png (deflated 7%)\n",
      "  adding: screenshots/021Rad情報を用いた自動補完_e/00040.png (deflated 6%)\n",
      "  adding: screenshots/021Rad情報を用いた自動補完_e/00066.png (deflated 2%)\n",
      "  adding: screenshots/021Rad情報を用いた自動補完_e/00103.png (deflated 6%)\n",
      "  adding: screenshots/021Rad情報を用いた自動補完_e/00115.png (deflated 2%)\n",
      "  adding: screenshots/021Rad情報を用いた自動補完_e/00108.png (deflated 7%)\n",
      "  adding: screenshots/021Rad情報を用いた自動補完_e/00112.png (deflated 6%)\n",
      "  adding: screenshots/021Rad情報を用いた自動補完_e/00059.png (deflated 5%)\n",
      "  adding: screenshots/021Rad情報を用いた自動補完_e/00028.png (deflated 5%)\n",
      "  adding: screenshots/021Rad情報を用いた自動補完_e/00052.png (deflated 6%)\n",
      "  adding: screenshots/021Rad情報を用いた自動補完_e/00078.png (deflated 6%)\n",
      "  adding: screenshots/021Rad情報を用いた自動補完_e/00072.png (deflated 6%)\n",
      "  adding: screenshots/021Rad情報を用いた自動補完_e/00041.png (deflated 6%)\n",
      "  adding: screenshots/021Rad情報を用いた自動補完_e/00056.png (deflated 5%)\n",
      "  adding: screenshots/021Rad情報を用いた自動補完_e/00062.png (deflated 5%)\n",
      "  adding: screenshots/021Rad情報を用いた自動補完_e/00011.png (deflated 8%)\n",
      "  adding: screenshots/021Rad情報を用いた自動補完_e/00039.png (deflated 5%)\n",
      "  adding: screenshots/021Rad情報を用いた自動補完_e/00107.png (deflated 7%)\n",
      "  adding: screenshots/021Rad情報を用いた自動補完_e/00004.png (deflated 5%)\n",
      "  adding: screenshots/021Rad情報を用いた自動補完_e/00100.png (deflated 7%)\n",
      "  adding: screenshots/021Rad情報を用いた自動補完_e/00044.png (deflated 5%)\n",
      "  adding: screenshots/021Rad情報を用いた自動補完_e/00116.png (deflated 2%)\n",
      "  adding: screenshots/021Rad情報を用いた自動補完_e/00089.png (deflated 6%)\n",
      "  adding: screenshots/021Rad情報を用いた自動補完_e/00113.png (deflated 6%)\n",
      "  adding: screenshots/021Rad情報を用いた自動補完_e/00081.png (deflated 6%)\n",
      "  adding: screenshots/021Rad情報を用いた自動補完_e/00074.png (deflated 5%)\n",
      "  adding: screenshots/021Rad情報を用いた自動補完_e/00090.png (deflated 6%)\n",
      "  adding: screenshots/021Rad情報を用いた自動補完_e/00099.png (deflated 6%)\n",
      "  adding: screenshots/021Rad情報を用いた自動補完_e/00055.png (deflated 5%)\n",
      "  adding: screenshots/021Rad情報を用いた自動補完_e/00095.png (deflated 6%)\n",
      "  adding: screenshots/021Rad情報を用いた自動補完_e/video-2.webm (deflated 9%)\n",
      "  adding: screenshots/021Rad情報を用いた自動補完_e/00063.png (deflated 3%)\n",
      "  adding: screenshots/021Rad情報を用いた自動補完_e/00045.png (deflated 5%)\n",
      "  adding: screenshots/021Rad情報を用いた自動補完_e/00098.png (deflated 6%)\n",
      "  adding: screenshots/021Rad情報を用いた自動補完_e/00033.png (deflated 6%)\n",
      "  adding: screenshots/021Rad情報を用いた自動補完_e/00067.png (deflated 4%)\n",
      "  adding: screenshots/021Rad情報を用いた自動補完_e/00096.png (deflated 5%)\n",
      "  adding: screenshots/021Rad情報を用いた自動補完_e/00001.png (deflated 0%)\n",
      "  adding: screenshots/021Rad情報を用いた自動補完_e/00008.png (deflated 2%)\n",
      "  adding: screenshots/021Rad情報を用いた自動補完_e/00013.png (deflated 4%)\n",
      "  adding: screenshots/021Rad情報を用いた自動補完_e/00005.png (deflated 6%)\n",
      "  adding: screenshots/021Rad情報を用いた自動補完_e/00070.png (deflated 2%)\n",
      "  adding: screenshots/021Rad情報を用いた自動補完_e/00060.png (deflated 6%)\n",
      "  adding: screenshots/021Rad情報を用いた自動補完_e/00019.png (deflated 6%)\n",
      "  adding: screenshots/021Rad情報を用いた自動補完_e/00015.png (deflated 3%)\n",
      "  adding: screenshots/021Rad情報を用いた自動補完_e/00012.png (deflated 2%)\n",
      "  adding: screenshots/021Rad情報を用いた自動補完_e/00038.png (deflated 5%)\n",
      "  adding: screenshots/021Rad情報を用いた自動補完_e/00073.png (deflated 7%)\n",
      "  adding: screenshots/021Rad情報を用いた自動補完_e/00077.png (deflated 8%)\n",
      "  adding: screenshots/021Rad情報を用いた自動補完_e/00082.png (deflated 6%)\n",
      "  adding: screenshots/021Rad情報を用いた自動補完_e/00035.png (deflated 6%)\n",
      "  adding: screenshots/021Rad情報を用いた自動補完_e/00065.png (deflated 7%)\n",
      "  adding: screenshots/021Rad情報を用いた自動補完_e/00002.png (deflated 1%)\n",
      "  adding: screenshots/021Rad情報を用いた自動補完_e/00024.png (deflated 3%)\n",
      "  adding: screenshots/021Rad情報を用いた自動補完_e/00017.png (deflated 6%)\n",
      "  adding: screenshots/021Rad情報を用いた自動補完_e/00058.png (deflated 6%)\n",
      "  adding: screenshots/021Rad情報を用いた自動補完_e/00120.png (deflated 6%)\n",
      "  adding: screenshots/021Rad情報を用いた自動補完_e/00114.png (deflated 6%)\n",
      "  adding: screenshots/021Rad情報を用いた自動補完_e/00075.png (deflated 6%)\n",
      "  adding: screenshots/021Rad情報を用いた自動補完_e/00031.png (deflated 5%)\n",
      "  adding: screenshots/021Rad情報を用いた自動補完_e/00083.png (deflated 6%)\n",
      "  adding: screenshots/021Rad情報を用いた自動補完_e/00064.png (deflated 7%)\n",
      "  adding: screenshots/021Rad情報を用いた自動補完_e/00023.png (deflated 3%)\n",
      "  adding: screenshots/021Rad情報を用いた自動補完_e/00101.png (deflated 7%)\n",
      "  adding: screenshots/021Rad情報を用いた自動補完_e/00007.png (deflated 6%)\n",
      "  adding: screenshots/021Rad情報を用いた自動補完_e/00068.png (deflated 3%)\n",
      "  adding: screenshots/021Rad情報を用いた自動補完_e/00118.png (deflated 7%)\n",
      "  adding: screenshots/021Rad情報を用いた自動補完_e/00018.png (deflated 6%)\n",
      "  adding: screenshots/021Rad情報を用いた自動補完_e/00091.png (deflated 6%)\n",
      "  adding: screenshots/021Rad情報を用いた自動補完_e/00080.png (deflated 6%)\n",
      "  adding: screenshots/021Rad情報を用いた自動補完_e/00076.png (deflated 6%)\n",
      "  adding: screenshots/021Rad情報を用いた自動補完_e/00109.png (deflated 5%)\n",
      "  adding: screenshots/021Rad情報を用いた自動補完_e/00054.png (deflated 5%)\n",
      "  adding: screenshots/021Rad情報を用いた自動補完_e/00104.png (deflated 5%)\n",
      "  adding: screenshots/021Rad情報を用いた自動補完_e/00025.png (deflated 4%)\n",
      "  adding: screenshots/021Rad情報を用いた自動補完_e/00030.png (deflated 5%)\n",
      "  adding: screenshots/021Rad情報を用いた自動補完_e/00022.png (deflated 3%)\n",
      "  adding: screenshots/021Rad情報を用いた自動補完_e/00085.png (deflated 6%)\n",
      "  adding: screenshots/021Rad情報を用いた自動補完_e/00016.png (deflated 5%)\n",
      "  adding: screenshots/021Rad情報を用いた自動補完_e/00006.png (deflated 6%)\n",
      "  adding: screenshots/021Rad情報を用いた自動補完_e/00042.png (deflated 5%)\n",
      "  adding: screenshots/021Rad情報を用いた自動補完_e/00093.png (deflated 6%)\n",
      "  adding: screenshots/021Rad情報を用いた自動補完_e/00094.png (deflated 6%)\n",
      "  adding: screenshots/021Rad情報を用いた自動補完_e/00106.png (deflated 7%)\n",
      "  adding: screenshots/021Rad情報を用いた自動補完_e/00061.png (deflated 5%)\n",
      "  adding: screenshots/021Rad情報を用いた自動補完_e/00020.png (deflated 2%)\n",
      "  adding: screenshots/021Rad情報を用いた自動補完_e/00053.png (deflated 4%)\n",
      "  adding: screenshots/030RDM登録_管理者機能/ (stored 0%)\n",
      "  adding: screenshots/030RDM登録_管理者機能/00003.png (deflated 5%)\n",
      "  adding: screenshots/030RDM登録_管理者機能/video-1.webm (deflated 13%)\n",
      "  adding: screenshots/030RDM登録_管理者機能/00004.png (deflated 6%)\n",
      "  adding: screenshots/030RDM登録_管理者機能/00001.png (deflated 19%)\n",
      "  adding: screenshots/030RDM登録_管理者機能/00008.png (deflated 11%)\n",
      "  adding: screenshots/030RDM登録_管理者機能/00005.png (deflated 3%)\n",
      "  adding: screenshots/030RDM登録_管理者機能/00002.png (deflated 8%)\n",
      "  adding: screenshots/030RDM登録_管理者機能/00007.png (deflated 11%)\n",
      "  adding: screenshots/030RDM登録_管理者機能/00006.png (deflated 11%)\n",
      "  adding: screenshots/011Amazon S3_S3共通/ (stored 0%)\n",
      "  adding: screenshots/011Amazon S3_S3共通/00027.png (deflated 6%)\n",
      "  adding: screenshots/011Amazon S3_S3共通/00049.png (deflated 2%)\n",
      "  adding: screenshots/011Amazon S3_S3共通/00003.png (deflated 5%)\n",
      "  adding: screenshots/011Amazon S3_S3共通/00047.png (deflated 7%)\n",
      "  adding: screenshots/011Amazon S3_S3共通/00021.png (deflated 2%)\n",
      "  adding: screenshots/011Amazon S3_S3共通/00048.png (deflated 7%)\n",
      "  adding: screenshots/011Amazon S3_S3共通/00050.png (deflated 3%)\n",
      "  adding: screenshots/011Amazon S3_S3共通/00029.png (deflated 9%)\n",
      "  adding: screenshots/011Amazon S3_S3共通/00009.png (deflated 6%)\n",
      "  adding: screenshots/011Amazon S3_S3共通/00034.png (deflated 5%)\n",
      "  adding: screenshots/011Amazon S3_S3共通/00051.png (deflated 5%)\n",
      "  adding: screenshots/011Amazon S3_S3共通/00026.png (deflated 6%)\n",
      "  adding: screenshots/011Amazon S3_S3共通/00036.png (deflated 5%)\n",
      "  adding: screenshots/011Amazon S3_S3共通/00046.png (deflated 6%)\n",
      "  adding: screenshots/011Amazon S3_S3共通/00032.png (deflated 2%)\n",
      "  adding: screenshots/011Amazon S3_S3共通/00057.png (deflated 6%)\n",
      "  adding: screenshots/011Amazon S3_S3共通/00037.png (deflated 6%)\n",
      "  adding: screenshots/011Amazon S3_S3共通/video-1.webm (deflated 10%)\n",
      "  adding: screenshots/011Amazon S3_S3共通/00014.png (deflated 6%)\n",
      "  adding: screenshots/011Amazon S3_S3共通/00010.png (deflated 4%)\n",
      "  adding: screenshots/011Amazon S3_S3共通/00040.png (deflated 11%)\n",
      "  adding: screenshots/011Amazon S3_S3共通/00066.png (deflated 7%)\n",
      "  adding: screenshots/011Amazon S3_S3共通/00059.png (deflated 8%)\n",
      "  adding: screenshots/011Amazon S3_S3共通/00028.png (deflated 12%)\n",
      "  adding: screenshots/011Amazon S3_S3共通/00052.png (deflated 6%)\n",
      "  adding: screenshots/011Amazon S3_S3共通/00041.png (deflated 9%)\n",
      "  adding: screenshots/011Amazon S3_S3共通/00056.png (deflated 6%)\n",
      "  adding: screenshots/011Amazon S3_S3共通/00062.png (deflated 10%)\n",
      "  adding: screenshots/011Amazon S3_S3共通/00011.png (deflated 6%)\n",
      "  adding: screenshots/011Amazon S3_S3共通/00039.png (deflated 6%)\n",
      "  adding: screenshots/011Amazon S3_S3共通/00004.png (deflated 7%)\n",
      "  adding: screenshots/011Amazon S3_S3共通/00044.png (deflated 5%)\n",
      "  adding: screenshots/011Amazon S3_S3共通/00055.png (deflated 7%)\n",
      "  adding: screenshots/011Amazon S3_S3共通/00063.png (deflated 2%)\n",
      "  adding: screenshots/011Amazon S3_S3共通/00045.png (deflated 7%)\n",
      "  adding: screenshots/011Amazon S3_S3共通/00033.png (deflated 2%)\n",
      "  adding: screenshots/011Amazon S3_S3共通/00067.png (deflated 7%)\n",
      "  adding: screenshots/011Amazon S3_S3共通/00001.png (deflated 0%)\n",
      "  adding: screenshots/011Amazon S3_S3共通/00008.png (deflated 5%)\n",
      "  adding: screenshots/011Amazon S3_S3共通/00013.png (deflated 7%)\n",
      "  adding: screenshots/011Amazon S3_S3共通/00005.png (deflated 7%)\n",
      "  adding: screenshots/011Amazon S3_S3共通/00015.png (deflated 6%)\n",
      "  adding: screenshots/011Amazon S3_S3共通/00012.png (deflated 8%)\n",
      "  adding: screenshots/011Amazon S3_S3共通/00038.png (deflated 7%)\n",
      "  adding: screenshots/011Amazon S3_S3共通/00035.png (deflated 6%)\n",
      "  adding: screenshots/011Amazon S3_S3共通/00065.png (deflated 7%)\n",
      "  adding: screenshots/011Amazon S3_S3共通/00002.png (deflated 2%)\n",
      "  adding: screenshots/011Amazon S3_S3共通/00024.png (deflated 4%)\n",
      "  adding: screenshots/011Amazon S3_S3共通/00017.png (deflated 10%)\n",
      "  adding: screenshots/011Amazon S3_S3共通/00058.png (deflated 7%)\n",
      "  adding: screenshots/011Amazon S3_S3共通/00064.png (deflated 5%)\n",
      "  adding: screenshots/011Amazon S3_S3共通/00023.png (deflated 6%)\n",
      "  adding: screenshots/011Amazon S3_S3共通/00007.png (deflated 2%)\n",
      "  adding: screenshots/011Amazon S3_S3共通/00018.png (deflated 8%)\n",
      "  adding: screenshots/011Amazon S3_S3共通/00054.png (deflated 6%)\n",
      "  adding: screenshots/011Amazon S3_S3共通/00025.png (deflated 6%)\n",
      "  adding: screenshots/011Amazon S3_S3共通/00030.png (deflated 8%)\n",
      "  adding: screenshots/011Amazon S3_S3共通/00022.png (deflated 5%)\n",
      "  adding: screenshots/011Amazon S3_S3共通/00016.png (deflated 10%)\n",
      "  adding: screenshots/011Amazon S3_S3共通/00006.png (deflated 2%)\n",
      "  adding: screenshots/011Amazon S3_S3共通/00042.png (deflated 7%)\n",
      "  adding: screenshots/011Amazon S3_S3共通/00061.png (deflated 8%)\n",
      "  adding: screenshots/011Amazon S3_S3共通/00020.png (deflated 2%)\n",
      "  adding: screenshots/011Amazon S3_S3共通/00053.png (deflated 5%)\n",
      "  adding: screenshots/005NII Storage_ファイルタブ/ (stored 0%)\n",
      "  adding: screenshots/005NII Storage_ファイルタブ/00027.png (deflated 5%)\n",
      "  adding: screenshots/005NII Storage_ファイルタブ/00049.png (deflated 2%)\n",
      "  adding: screenshots/005NII Storage_ファイルタブ/00003.png (deflated 2%)\n",
      "  adding: screenshots/005NII Storage_ファイルタブ/00047.png (deflated 6%)\n",
      "  adding: screenshots/005NII Storage_ファイルタブ/00021.png (deflated 5%)\n",
      "  adding: screenshots/005NII Storage_ファイルタブ/00048.png (deflated 7%)\n",
      "  adding: screenshots/005NII Storage_ファイルタブ/00050.png (deflated 7%)\n",
      "  adding: screenshots/005NII Storage_ファイルタブ/00029.png (deflated 6%)\n",
      "  adding: screenshots/005NII Storage_ファイルタブ/00009.png (deflated 6%)\n",
      "  adding: screenshots/005NII Storage_ファイルタブ/00034.png (deflated 5%)\n",
      "  adding: screenshots/005NII Storage_ファイルタブ/00051.png (deflated 2%)\n",
      "  adding: screenshots/005NII Storage_ファイルタブ/00026.png (deflated 6%)\n",
      "  adding: screenshots/005NII Storage_ファイルタブ/00036.png (deflated 5%)\n",
      "  adding: screenshots/005NII Storage_ファイルタブ/00046.png (deflated 8%)\n",
      "  adding: screenshots/005NII Storage_ファイルタブ/00032.png (deflated 5%)\n",
      "  adding: screenshots/005NII Storage_ファイルタブ/00037.png (deflated 4%)\n",
      "  adding: screenshots/005NII Storage_ファイルタブ/video-1.webm (deflated 12%)\n",
      "  adding: screenshots/005NII Storage_ファイルタブ/00014.png (deflated 5%)\n",
      "  adding: screenshots/005NII Storage_ファイルタブ/00043.png (deflated 4%)\n",
      "  adding: screenshots/005NII Storage_ファイルタブ/00010.png (deflated 6%)\n",
      "  adding: screenshots/005NII Storage_ファイルタブ/00040.png (deflated 7%)\n",
      "  adding: screenshots/005NII Storage_ファイルタブ/00028.png (deflated 6%)\n",
      "  adding: screenshots/005NII Storage_ファイルタブ/00052.png (deflated 11%)\n",
      "  adding: screenshots/005NII Storage_ファイルタブ/00041.png (deflated 6%)\n",
      "  adding: screenshots/005NII Storage_ファイルタブ/00011.png (deflated 9%)\n",
      "  adding: screenshots/005NII Storage_ファイルタブ/00004.png (deflated 5%)\n",
      "  adding: screenshots/005NII Storage_ファイルタブ/00044.png (deflated 5%)\n",
      "  adding: screenshots/005NII Storage_ファイルタブ/00045.png (deflated 6%)\n",
      "  adding: screenshots/005NII Storage_ファイルタブ/00033.png (deflated 5%)\n",
      "  adding: screenshots/005NII Storage_ファイルタブ/00001.png (deflated 0%)\n",
      "  adding: screenshots/005NII Storage_ファイルタブ/00008.png (deflated 7%)\n",
      "  adding: screenshots/005NII Storage_ファイルタブ/00013.png (deflated 7%)\n",
      "  adding: screenshots/005NII Storage_ファイルタブ/00005.png (deflated 7%)\n",
      "  adding: screenshots/005NII Storage_ファイルタブ/00019.png (deflated 6%)\n",
      "  adding: screenshots/005NII Storage_ファイルタブ/00015.png (deflated 6%)\n",
      "  adding: screenshots/005NII Storage_ファイルタブ/00012.png (deflated 7%)\n",
      "  adding: screenshots/005NII Storage_ファイルタブ/00038.png (deflated 6%)\n",
      "  adding: screenshots/005NII Storage_ファイルタブ/00035.png (deflated 5%)\n",
      "  adding: screenshots/005NII Storage_ファイルタブ/00002.png (deflated 2%)\n",
      "  adding: screenshots/005NII Storage_ファイルタブ/00024.png (deflated 6%)\n",
      "  adding: screenshots/005NII Storage_ファイルタブ/00017.png (deflated 7%)\n",
      "  adding: screenshots/005NII Storage_ファイルタブ/00031.png (deflated 6%)\n",
      "  adding: screenshots/005NII Storage_ファイルタブ/00023.png (deflated 6%)\n",
      "  adding: screenshots/005NII Storage_ファイルタブ/00007.png (deflated 7%)\n",
      "  adding: screenshots/005NII Storage_ファイルタブ/00018.png (deflated 6%)\n",
      "  adding: screenshots/005NII Storage_ファイルタブ/00025.png (deflated 6%)\n",
      "  adding: screenshots/005NII Storage_ファイルタブ/00030.png (deflated 6%)\n",
      "  adding: screenshots/005NII Storage_ファイルタブ/00022.png (deflated 6%)\n",
      "  adding: screenshots/005NII Storage_ファイルタブ/00016.png (deflated 7%)\n",
      "  adding: screenshots/005NII Storage_ファイルタブ/00006.png (deflated 5%)\n",
      "  adding: screenshots/005NII Storage_ファイルタブ/00042.png (deflated 6%)\n",
      "  adding: screenshots/005NII Storage_ファイルタブ/00020.png (deflated 7%)\n",
      "  adding: screenshots/003Dropbox_アカウント設定/ (stored 0%)\n",
      "  adding: screenshots/003Dropbox_アカウント設定/00027.png (deflated 7%)\n",
      "  adding: screenshots/003Dropbox_アカウント設定/00049.png (deflated 4%)\n",
      "  adding: screenshots/003Dropbox_アカウント設定/00003.png (deflated 5%)\n",
      "  adding: screenshots/003Dropbox_アカウント設定/00047.png (deflated 3%)\n",
      "  adding: screenshots/003Dropbox_アカウント設定/00021.png (deflated 4%)\n",
      "  adding: screenshots/003Dropbox_アカウント設定/00048.png (deflated 3%)\n",
      "  adding: screenshots/003Dropbox_アカウント設定/00050.png (deflated 6%)\n",
      "  adding: screenshots/003Dropbox_アカウント設定/00029.png (deflated 7%)\n",
      "  adding: screenshots/003Dropbox_アカウント設定/00009.png (deflated 6%)\n",
      "  adding: screenshots/003Dropbox_アカウント設定/00034.png (deflated 6%)\n",
      "  adding: screenshots/003Dropbox_アカウント設定/00051.png (deflated 4%)\n",
      "  adding: screenshots/003Dropbox_アカウント設定/00026.png (deflated 7%)\n",
      "  adding: screenshots/003Dropbox_アカウント設定/00036.png (deflated 6%)\n",
      "  adding: screenshots/003Dropbox_アカウント設定/00046.png (deflated 7%)\n",
      "  adding: screenshots/003Dropbox_アカウント設定/00032.png (deflated 6%)\n",
      "  adding: screenshots/003Dropbox_アカウント設定/00057.png (deflated 7%)\n",
      "  adding: screenshots/003Dropbox_アカウント設定/00037.png (deflated 9%)\n",
      "  adding: screenshots/003Dropbox_アカウント設定/video-1.webm (deflated 14%)\n",
      "  adding: screenshots/003Dropbox_アカウント設定/00014.png (deflated 7%)\n",
      "  adding: screenshots/003Dropbox_アカウント設定/00043.png (deflated 5%)\n",
      "  adding: screenshots/003Dropbox_アカウント設定/00010.png (deflated 4%)\n",
      "  adding: screenshots/003Dropbox_アカウント設定/00040.png (deflated 6%)\n",
      "  adding: screenshots/003Dropbox_アカウント設定/00028.png (deflated 5%)\n",
      "  adding: screenshots/003Dropbox_アカウント設定/00052.png (deflated 6%)\n",
      "  adding: screenshots/003Dropbox_アカウント設定/00041.png (deflated 6%)\n",
      "  adding: screenshots/003Dropbox_アカウント設定/00056.png (deflated 7%)\n",
      "  adding: screenshots/003Dropbox_アカウント設定/00011.png (deflated 6%)\n",
      "  adding: screenshots/003Dropbox_アカウント設定/00039.png (deflated 4%)\n",
      "  adding: screenshots/003Dropbox_アカウント設定/00004.png (deflated 7%)\n",
      "  adding: screenshots/003Dropbox_アカウント設定/00044.png (deflated 7%)\n",
      "  adding: screenshots/003Dropbox_アカウント設定/00055.png (deflated 7%)\n",
      "  adding: screenshots/003Dropbox_アカウント設定/00045.png (deflated 8%)\n",
      "  adding: screenshots/003Dropbox_アカウント設定/00033.png (deflated 6%)\n",
      "  adding: screenshots/003Dropbox_アカウント設定/00001.png (deflated 0%)\n",
      "  adding: screenshots/003Dropbox_アカウント設定/00008.png (deflated 5%)\n",
      "  adding: screenshots/003Dropbox_アカウント設定/00013.png (deflated 5%)\n",
      "  adding: screenshots/003Dropbox_アカウント設定/00005.png (deflated 7%)\n",
      "  adding: screenshots/003Dropbox_アカウント設定/00019.png (deflated 4%)\n",
      "  adding: screenshots/003Dropbox_アカウント設定/00015.png (deflated 7%)\n",
      "  adding: screenshots/003Dropbox_アカウント設定/00012.png (deflated 5%)\n",
      "  adding: screenshots/003Dropbox_アカウント設定/00038.png (deflated 3%)\n",
      "  adding: screenshots/003Dropbox_アカウント設定/00035.png (deflated 5%)\n",
      "  adding: screenshots/003Dropbox_アカウント設定/00002.png (deflated 1%)\n",
      "  adding: screenshots/003Dropbox_アカウント設定/00024.png (deflated 5%)\n",
      "  adding: screenshots/003Dropbox_アカウント設定/00017.png (deflated 2%)\n",
      "  adding: screenshots/003Dropbox_アカウント設定/00031.png (deflated 4%)\n",
      "  adding: screenshots/003Dropbox_アカウント設定/00023.png (deflated 6%)\n",
      "  adding: screenshots/003Dropbox_アカウント設定/00007.png (deflated 2%)\n",
      "  adding: screenshots/003Dropbox_アカウント設定/00018.png (deflated 3%)\n",
      "  adding: screenshots/003Dropbox_アカウント設定/00054.png (deflated 5%)\n",
      "  adding: screenshots/003Dropbox_アカウント設定/00025.png (deflated 7%)\n",
      "  adding: screenshots/003Dropbox_アカウント設定/00030.png (deflated 3%)\n",
      "  adding: screenshots/003Dropbox_アカウント設定/00022.png (deflated 6%)\n",
      "  adding: screenshots/003Dropbox_アカウント設定/00016.png (deflated 8%)\n",
      "  adding: screenshots/003Dropbox_アカウント設定/00006.png (deflated 2%)\n",
      "  adding: screenshots/003Dropbox_アカウント設定/00042.png (deflated 6%)\n",
      "  adding: screenshots/003Dropbox_アカウント設定/00020.png (deflated 6%)\n",
      "  adding: screenshots/003Dropbox_アカウント設定/00053.png (deflated 6%)\n",
      "  adding: screenshots/009Amazon S3_ファイルタブ/ (stored 0%)\n",
      "  adding: screenshots/009Amazon S3_ファイルタブ/00027.png (deflated 5%)\n",
      "  adding: screenshots/009Amazon S3_ファイルタブ/00049.png (deflated 5%)\n",
      "  adding: screenshots/009Amazon S3_ファイルタブ/00003.png (deflated 2%)\n",
      "  adding: screenshots/009Amazon S3_ファイルタブ/00047.png (deflated 7%)\n",
      "  adding: screenshots/009Amazon S3_ファイルタブ/00021.png (deflated 5%)\n",
      "  adding: screenshots/009Amazon S3_ファイルタブ/00048.png (deflated 8%)\n",
      "  adding: screenshots/009Amazon S3_ファイルタブ/00050.png (deflated 8%)\n",
      "  adding: screenshots/009Amazon S3_ファイルタブ/00029.png (deflated 5%)\n",
      "  adding: screenshots/009Amazon S3_ファイルタブ/00009.png (deflated 6%)\n",
      "  adding: screenshots/009Amazon S3_ファイルタブ/00034.png (deflated 6%)\n",
      "  adding: screenshots/009Amazon S3_ファイルタブ/00051.png (deflated 3%)\n",
      "  adding: screenshots/009Amazon S3_ファイルタブ/00026.png (deflated 6%)\n",
      "  adding: screenshots/009Amazon S3_ファイルタブ/00036.png (deflated 6%)\n",
      "  adding: screenshots/009Amazon S3_ファイルタブ/00046.png (deflated 7%)\n",
      "  adding: screenshots/009Amazon S3_ファイルタブ/00032.png (deflated 5%)\n",
      "  adding: screenshots/009Amazon S3_ファイルタブ/00037.png (deflated 4%)\n",
      "  adding: screenshots/009Amazon S3_ファイルタブ/video-1.webm (deflated 9%)\n",
      "  adding: screenshots/009Amazon S3_ファイルタブ/00014.png (deflated 6%)\n",
      "  adding: screenshots/009Amazon S3_ファイルタブ/00043.png (deflated 4%)\n",
      "  adding: screenshots/009Amazon S3_ファイルタブ/00010.png (deflated 7%)\n",
      "  adding: screenshots/009Amazon S3_ファイルタブ/00040.png (deflated 6%)\n",
      "  adding: screenshots/009Amazon S3_ファイルタブ/00028.png (deflated 5%)\n",
      "  adding: screenshots/009Amazon S3_ファイルタブ/00052.png (deflated 0%)\n",
      "  adding: screenshots/009Amazon S3_ファイルタブ/00041.png (deflated 5%)\n",
      "  adding: screenshots/009Amazon S3_ファイルタブ/00011.png (deflated 10%)\n",
      "  adding: screenshots/009Amazon S3_ファイルタブ/00004.png (deflated 5%)\n",
      "  adding: screenshots/009Amazon S3_ファイルタブ/00044.png (deflated 7%)\n",
      "  adding: screenshots/009Amazon S3_ファイルタブ/00045.png (deflated 6%)\n",
      "  adding: screenshots/009Amazon S3_ファイルタブ/00033.png (deflated 5%)\n",
      "  adding: screenshots/009Amazon S3_ファイルタブ/00001.png (deflated 0%)\n",
      "  adding: screenshots/009Amazon S3_ファイルタブ/00008.png (deflated 6%)\n",
      "  adding: screenshots/009Amazon S3_ファイルタブ/00013.png (deflated 8%)\n",
      "  adding: screenshots/009Amazon S3_ファイルタブ/00005.png (deflated 7%)\n",
      "  adding: screenshots/009Amazon S3_ファイルタブ/00019.png (deflated 6%)\n",
      "  adding: screenshots/009Amazon S3_ファイルタブ/00015.png (deflated 6%)\n",
      "  adding: screenshots/009Amazon S3_ファイルタブ/00012.png (deflated 7%)\n",
      "  adding: screenshots/009Amazon S3_ファイルタブ/00038.png (deflated 6%)\n",
      "  adding: screenshots/009Amazon S3_ファイルタブ/00035.png (deflated 6%)\n",
      "  adding: screenshots/009Amazon S3_ファイルタブ/00002.png (deflated 2%)\n",
      "  adding: screenshots/009Amazon S3_ファイルタブ/00024.png (deflated 6%)\n",
      "  adding: screenshots/009Amazon S3_ファイルタブ/00017.png (deflated 6%)\n",
      "  adding: screenshots/009Amazon S3_ファイルタブ/00031.png (deflated 6%)\n",
      "  adding: screenshots/009Amazon S3_ファイルタブ/00023.png (deflated 5%)\n",
      "  adding: screenshots/009Amazon S3_ファイルタブ/00007.png (deflated 6%)\n",
      "  adding: screenshots/009Amazon S3_ファイルタブ/00018.png (deflated 6%)\n",
      "  adding: screenshots/009Amazon S3_ファイルタブ/00025.png (deflated 6%)\n",
      "  adding: screenshots/009Amazon S3_ファイルタブ/00030.png (deflated 6%)\n",
      "  adding: screenshots/009Amazon S3_ファイルタブ/00022.png (deflated 6%)\n",
      "  adding: screenshots/009Amazon S3_ファイルタブ/00016.png (deflated 6%)\n",
      "  adding: screenshots/009Amazon S3_ファイルタブ/00006.png (deflated 6%)\n",
      "  adding: screenshots/009Amazon S3_ファイルタブ/00042.png (deflated 6%)\n",
      "  adding: screenshots/009Amazon S3_ファイルタブ/00020.png (deflated 6%)\n",
      "  adding: screenshots/010Amazon S3_MetadataアドオンMetadataアドオン/ (stored 0%)\n",
      "  adding: screenshots/010Amazon S3_MetadataアドオンMetadataアドオン/00027.png (deflated 4%)\n",
      "  adding: screenshots/010Amazon S3_MetadataアドオンMetadataアドオン/00049.png (deflated 4%)\n",
      "  adding: screenshots/010Amazon S3_MetadataアドオンMetadataアドオン/00003.png (deflated 2%)\n",
      "  adding: screenshots/010Amazon S3_MetadataアドオンMetadataアドオン/00047.png (deflated 5%)\n",
      "  adding: screenshots/010Amazon S3_MetadataアドオンMetadataアドオン/00021.png (deflated 3%)\n",
      "  adding: screenshots/010Amazon S3_MetadataアドオンMetadataアドオン/00048.png (deflated 4%)\n",
      "  adding: screenshots/010Amazon S3_MetadataアドオンMetadataアドオン/00050.png (deflated 4%)\n",
      "  adding: screenshots/010Amazon S3_MetadataアドオンMetadataアドオン/00071.png (deflated 4%)\n",
      "  adding: screenshots/010Amazon S3_MetadataアドオンMetadataアドオン/00029.png (deflated 3%)\n",
      "  adding: screenshots/010Amazon S3_MetadataアドオンMetadataアドオン/00009.png (deflated 8%)\n",
      "  adding: screenshots/010Amazon S3_MetadataアドオンMetadataアドオン/00034.png (deflated 5%)\n",
      "  adding: screenshots/010Amazon S3_MetadataアドオンMetadataアドオン/00051.png (deflated 5%)\n",
      "  adding: screenshots/010Amazon S3_MetadataアドオンMetadataアドオン/00026.png (deflated 3%)\n",
      "  adding: screenshots/010Amazon S3_MetadataアドオンMetadataアドオン/00069.png (deflated 4%)\n",
      "  adding: screenshots/010Amazon S3_MetadataアドオンMetadataアドオン/00036.png (deflated 5%)\n",
      "  adding: screenshots/010Amazon S3_MetadataアドオンMetadataアドオン/00046.png (deflated 5%)\n",
      "  adding: screenshots/010Amazon S3_MetadataアドオンMetadataアドオン/00079.png (deflated 6%)\n",
      "  adding: screenshots/010Amazon S3_MetadataアドオンMetadataアドオン/00057.png (deflated 4%)\n",
      "  adding: screenshots/010Amazon S3_MetadataアドオンMetadataアドオン/00037.png (deflated 5%)\n",
      "  adding: screenshots/010Amazon S3_MetadataアドオンMetadataアドオン/video-1.webm (deflated 11%)\n",
      "  adding: screenshots/010Amazon S3_MetadataアドオンMetadataアドオン/00014.png (deflated 2%)\n",
      "  adding: screenshots/010Amazon S3_MetadataアドオンMetadataアドオン/00043.png (deflated 5%)\n",
      "  adding: screenshots/010Amazon S3_MetadataアドオンMetadataアドオン/00010.png (deflated 2%)\n",
      "  adding: screenshots/010Amazon S3_MetadataアドオンMetadataアドオン/00040.png (deflated 6%)\n",
      "  adding: screenshots/010Amazon S3_MetadataアドオンMetadataアドオン/00066.png (deflated 5%)\n",
      "  adding: screenshots/010Amazon S3_MetadataアドオンMetadataアドオン/00059.png (deflated 4%)\n",
      "  adding: screenshots/010Amazon S3_MetadataアドオンMetadataアドオン/00028.png (deflated 4%)\n",
      "  adding: screenshots/010Amazon S3_MetadataアドオンMetadataアドオン/00052.png (deflated 5%)\n",
      "  adding: screenshots/010Amazon S3_MetadataアドオンMetadataアドオン/00078.png (deflated 6%)\n",
      "  adding: screenshots/010Amazon S3_MetadataアドオンMetadataアドオン/00072.png (deflated 2%)\n",
      "  adding: screenshots/010Amazon S3_MetadataアドオンMetadataアドオン/00041.png (deflated 5%)\n",
      "  adding: screenshots/010Amazon S3_MetadataアドオンMetadataアドオン/00056.png (deflated 5%)\n",
      "  adding: screenshots/010Amazon S3_MetadataアドオンMetadataアドオン/00062.png (deflated 5%)\n",
      "  adding: screenshots/010Amazon S3_MetadataアドオンMetadataアドオン/00011.png (deflated 2%)\n",
      "  adding: screenshots/010Amazon S3_MetadataアドオンMetadataアドオン/00039.png (deflated 5%)\n",
      "  adding: screenshots/010Amazon S3_MetadataアドオンMetadataアドオン/00004.png (deflated 5%)\n",
      "  adding: screenshots/010Amazon S3_MetadataアドオンMetadataアドオン/00044.png (deflated 5%)\n",
      "  adding: screenshots/010Amazon S3_MetadataアドオンMetadataアドオン/00074.png (deflated 3%)\n",
      "  adding: screenshots/010Amazon S3_MetadataアドオンMetadataアドオン/00055.png (deflated 5%)\n",
      "  adding: screenshots/010Amazon S3_MetadataアドオンMetadataアドオン/video-2.webm (deflated 6%)\n",
      "  adding: screenshots/010Amazon S3_MetadataアドオンMetadataアドオン/00063.png (deflated 5%)\n",
      "  adding: screenshots/010Amazon S3_MetadataアドオンMetadataアドオン/00045.png (deflated 5%)\n",
      "  adding: screenshots/010Amazon S3_MetadataアドオンMetadataアドオン/00033.png (deflated 5%)\n",
      "  adding: screenshots/010Amazon S3_MetadataアドオンMetadataアドオン/00067.png (deflated 3%)\n",
      "  adding: screenshots/010Amazon S3_MetadataアドオンMetadataアドオン/00001.png (deflated 0%)\n",
      "  adding: screenshots/010Amazon S3_MetadataアドオンMetadataアドオン/00008.png (deflated 7%)\n",
      "  adding: screenshots/010Amazon S3_MetadataアドオンMetadataアドオン/00013.png (deflated 2%)\n",
      "  adding: screenshots/010Amazon S3_MetadataアドオンMetadataアドオン/00005.png (deflated 7%)\n",
      "  adding: screenshots/010Amazon S3_MetadataアドオンMetadataアドオン/00070.png (deflated 4%)\n",
      "  adding: screenshots/010Amazon S3_MetadataアドオンMetadataアドオン/00060.png (deflated 5%)\n",
      "  adding: screenshots/010Amazon S3_MetadataアドオンMetadataアドオン/00019.png (deflated 3%)\n",
      "  adding: screenshots/010Amazon S3_MetadataアドオンMetadataアドオン/00015.png (deflated 1%)\n",
      "  adding: screenshots/010Amazon S3_MetadataアドオンMetadataアドオン/00012.png (deflated 2%)\n",
      "  adding: screenshots/010Amazon S3_MetadataアドオンMetadataアドオン/00038.png (deflated 6%)\n",
      "  adding: screenshots/010Amazon S3_MetadataアドオンMetadataアドオン/00073.png (deflated 2%)\n",
      "  adding: screenshots/010Amazon S3_MetadataアドオンMetadataアドオン/00077.png (deflated 6%)\n",
      "  adding: screenshots/010Amazon S3_MetadataアドオンMetadataアドオン/00035.png (deflated 5%)\n",
      "  adding: screenshots/010Amazon S3_MetadataアドオンMetadataアドオン/00065.png (deflated 5%)\n",
      "  adding: screenshots/010Amazon S3_MetadataアドオンMetadataアドオン/00002.png (deflated 2%)\n",
      "  adding: screenshots/010Amazon S3_MetadataアドオンMetadataアドオン/00024.png (deflated 2%)\n",
      "  adding: screenshots/010Amazon S3_MetadataアドオンMetadataアドオン/00017.png (deflated 3%)\n",
      "  adding: screenshots/010Amazon S3_MetadataアドオンMetadataアドオン/00058.png (deflated 4%)\n",
      "  adding: screenshots/010Amazon S3_MetadataアドオンMetadataアドオン/00075.png (deflated 6%)\n",
      "  adding: screenshots/010Amazon S3_MetadataアドオンMetadataアドオン/00031.png (deflated 5%)\n",
      "  adding: screenshots/010Amazon S3_MetadataアドオンMetadataアドオン/00064.png (deflated 6%)\n",
      "  adding: screenshots/010Amazon S3_MetadataアドオンMetadataアドオン/00023.png (deflated 2%)\n",
      "  adding: screenshots/010Amazon S3_MetadataアドオンMetadataアドオン/00007.png (deflated 6%)\n",
      "  adding: screenshots/010Amazon S3_MetadataアドオンMetadataアドオン/00068.png (deflated 3%)\n",
      "  adding: screenshots/010Amazon S3_MetadataアドオンMetadataアドオン/00018.png (deflated 3%)\n",
      "  adding: screenshots/010Amazon S3_MetadataアドオンMetadataアドオン/00080.png (deflated 2%)\n",
      "  adding: screenshots/010Amazon S3_MetadataアドオンMetadataアドオン/00076.png (deflated 6%)\n",
      "  adding: screenshots/010Amazon S3_MetadataアドオンMetadataアドオン/00054.png (deflated 5%)\n",
      "  adding: screenshots/010Amazon S3_MetadataアドオンMetadataアドオン/00025.png (deflated 3%)\n",
      "  adding: screenshots/010Amazon S3_MetadataアドオンMetadataアドオン/00030.png (deflated 5%)\n",
      "  adding: screenshots/010Amazon S3_MetadataアドオンMetadataアドオン/00022.png (deflated 2%)\n",
      "  adding: screenshots/010Amazon S3_MetadataアドオンMetadataアドオン/00016.png (deflated 4%)\n",
      "  adding: screenshots/010Amazon S3_MetadataアドオンMetadataアドオン/00006.png (deflated 4%)\n",
      "  adding: screenshots/010Amazon S3_MetadataアドオンMetadataアドオン/00042.png (deflated 5%)\n",
      "  adding: screenshots/010Amazon S3_MetadataアドオンMetadataアドオン/00061.png (deflated 4%)\n",
      "  adding: screenshots/010Amazon S3_MetadataアドオンMetadataアドオン/00020.png (deflated 4%)\n",
      "  adding: screenshots/010Amazon S3_MetadataアドオンMetadataアドオン/00053.png (deflated 5%)\n",
      "  adding: screenshots/001未ログイン/ (stored 0%)\n",
      "  adding: screenshots/001未ログイン/00003.png (deflated 0%)\n",
      "  adding: screenshots/001未ログイン/video-1.webm (deflated 14%)\n",
      "  adding: screenshots/001未ログイン/00004.png (deflated 11%)\n",
      "  adding: screenshots/001未ログイン/00001.png (deflated 0%)\n",
      "  adding: screenshots/001未ログイン/00002.png (deflated 0%)\n",
      "  adding: screenshots/028機関設定_管理者機能/ (stored 0%)\n",
      "  adding: screenshots/028機関設定_管理者機能/00003.png (deflated 4%)\n",
      "  adding: screenshots/028機関設定_管理者機能/video-1.webm (deflated 12%)\n",
      "  adding: screenshots/028機関設定_管理者機能/00004.png (deflated 5%)\n",
      "  adding: screenshots/028機関設定_管理者機能/00001.png (deflated 19%)\n",
      "  adding: screenshots/028機関設定_管理者機能/00005.png (deflated 5%)\n",
      "  adding: screenshots/028機関設定_管理者機能/00002.png (deflated 8%)\n",
      "  adding: screenshots/028機関設定_管理者機能/00006.png (deflated 5%)\n",
      "  adding: screenshots/002ログイン/ (stored 0%)\n",
      "  adding: screenshots/002ログイン/00003.png (deflated 0%)\n",
      "  adding: screenshots/002ログイン/00009.png (deflated 7%)\n",
      "  adding: screenshots/002ログイン/video-1.webm (deflated 16%)\n",
      "  adding: screenshots/002ログイン/00010.png (deflated 0%)\n",
      "  adding: screenshots/002ログイン/00011.png (deflated 11%)\n",
      "  adding: screenshots/002ログイン/00004.png (deflated 11%)\n",
      "  adding: screenshots/002ログイン/00001.png (deflated 0%)\n",
      "  adding: screenshots/002ログイン/00008.png (deflated 4%)\n",
      "  adding: screenshots/002ログイン/00005.png (deflated 6%)\n",
      "  adding: screenshots/002ログイン/00002.png (deflated 0%)\n",
      "  adding: screenshots/002ログイン/00007.png (deflated 4%)\n",
      "  adding: screenshots/002ログイン/00006.png (deflated 2%)\n",
      "  adding: screenshots/020複数メタデータの一括設定_Metadataアドオン/ (stored 0%)\n",
      "  adding: screenshots/020複数メタデータの一括設定_Metadataアドオン/00110.png (deflated 3%)\n",
      "  adding: screenshots/020複数メタデータの一括設定_Metadataアドオン/00027.png (deflated 7%)\n",
      "  adding: screenshots/020複数メタデータの一括設定_Metadataアドオン/00049.png (deflated 7%)\n",
      "  adding: screenshots/020複数メタデータの一括設定_Metadataアドオン/00003.png (deflated 2%)\n",
      "  adding: screenshots/020複数メタデータの一括設定_Metadataアドオン/00047.png (deflated 8%)\n",
      "  adding: screenshots/020複数メタデータの一括設定_Metadataアドオン/00021.png (deflated 7%)\n",
      "  adding: screenshots/020複数メタデータの一括設定_Metadataアドオン/00048.png (deflated 7%)\n",
      "  adding: screenshots/020複数メタデータの一括設定_Metadataアドオン/00097.png (deflated 7%)\n",
      "  adding: screenshots/020複数メタデータの一括設定_Metadataアドオン/00050.png (deflated 7%)\n",
      "  adding: screenshots/020複数メタデータの一括設定_Metadataアドオン/00092.png (deflated 6%)\n",
      "  adding: screenshots/020複数メタデータの一括設定_Metadataアドオン/00071.png (deflated 5%)\n",
      "  adding: screenshots/020複数メタデータの一括設定_Metadataアドオン/00102.png (deflated 7%)\n",
      "  adding: screenshots/020複数メタデータの一括設定_Metadataアドオン/00029.png (deflated 7%)\n",
      "  adding: screenshots/020複数メタデータの一括設定_Metadataアドオン/00009.png (deflated 4%)\n",
      "  adding: screenshots/020複数メタデータの一括設定_Metadataアドオン/00034.png (deflated 7%)\n",
      "  adding: screenshots/020複数メタデータの一括設定_Metadataアドオン/00051.png (deflated 7%)\n",
      "  adding: screenshots/020複数メタデータの一括設定_Metadataアドオン/00088.png (deflated 7%)\n",
      "  adding: screenshots/020複数メタデータの一括設定_Metadataアドオン/00105.png (deflated 7%)\n",
      "  adding: screenshots/020複数メタデータの一括設定_Metadataアドオン/00026.png (deflated 7%)\n",
      "  adding: screenshots/020複数メタデータの一括設定_Metadataアドオン/00069.png (deflated 5%)\n",
      "  adding: screenshots/020複数メタデータの一括設定_Metadataアドオン/00036.png (deflated 7%)\n",
      "  adding: screenshots/020複数メタデータの一括設定_Metadataアドオン/00046.png (deflated 6%)\n",
      "  adding: screenshots/020複数メタデータの一括設定_Metadataアドオン/00087.png (deflated 7%)\n",
      "  adding: screenshots/020複数メタデータの一括設定_Metadataアドオン/00079.png (deflated 7%)\n",
      "  adding: screenshots/020複数メタデータの一括設定_Metadataアドオン/00111.png (deflated 3%)\n",
      "  adding: screenshots/020複数メタデータの一括設定_Metadataアドオン/00032.png (deflated 7%)\n",
      "  adding: screenshots/020複数メタデータの一括設定_Metadataアドオン/00057.png (deflated 5%)\n",
      "  adding: screenshots/020複数メタデータの一括設定_Metadataアドオン/00084.png (deflated 7%)\n",
      "  adding: screenshots/020複数メタデータの一括設定_Metadataアドオン/00037.png (deflated 7%)\n",
      "  adding: screenshots/020複数メタデータの一括設定_Metadataアドオン/video-1.webm (deflated 6%)\n",
      "  adding: screenshots/020複数メタデータの一括設定_Metadataアドオン/00086.png (deflated 7%)\n",
      "  adding: screenshots/020複数メタデータの一括設定_Metadataアドオン/00014.png (deflated 4%)\n",
      "  adding: screenshots/020複数メタデータの一括設定_Metadataアドオン/00043.png (deflated 7%)\n",
      "  adding: screenshots/020複数メタデータの一括設定_Metadataアドオン/00010.png (deflated 4%)\n",
      "  adding: screenshots/020複数メタデータの一括設定_Metadataアドオン/00040.png (deflated 7%)\n",
      "  adding: screenshots/020複数メタデータの一括設定_Metadataアドオン/00066.png (deflated 3%)\n",
      "  adding: screenshots/020複数メタデータの一括設定_Metadataアドオン/00103.png (deflated 7%)\n",
      "  adding: screenshots/020複数メタデータの一括設定_Metadataアドオン/00115.png (deflated 5%)\n",
      "  adding: screenshots/020複数メタデータの一括設定_Metadataアドオン/00108.png (deflated 9%)\n",
      "  adding: screenshots/020複数メタデータの一括設定_Metadataアドオン/00112.png (deflated 5%)\n",
      "  adding: screenshots/020複数メタデータの一括設定_Metadataアドオン/00059.png (deflated 5%)\n",
      "  adding: screenshots/020複数メタデータの一括設定_Metadataアドオン/00028.png (deflated 7%)\n",
      "  adding: screenshots/020複数メタデータの一括設定_Metadataアドオン/00052.png (deflated 7%)\n",
      "  adding: screenshots/020複数メタデータの一括設定_Metadataアドオン/00078.png (deflated 7%)\n",
      "  adding: screenshots/020複数メタデータの一括設定_Metadataアドオン/00072.png (deflated 4%)\n",
      "  adding: screenshots/020複数メタデータの一括設定_Metadataアドオン/00041.png (deflated 7%)\n",
      "  adding: screenshots/020複数メタデータの一括設定_Metadataアドオン/00056.png (deflated 3%)\n",
      "  adding: screenshots/020複数メタデータの一括設定_Metadataアドオン/00062.png (deflated 3%)\n",
      "  adding: screenshots/020複数メタデータの一括設定_Metadataアドオン/00011.png (deflated 4%)\n",
      "  adding: screenshots/020複数メタデータの一括設定_Metadataアドオン/00039.png (deflated 7%)\n",
      "  adding: screenshots/020複数メタデータの一括設定_Metadataアドオン/00107.png (deflated 7%)\n",
      "  adding: screenshots/020複数メタデータの一括設定_Metadataアドオン/00004.png (deflated 6%)\n",
      "  adding: screenshots/020複数メタデータの一括設定_Metadataアドオン/00100.png (deflated 7%)\n",
      "  adding: screenshots/020複数メタデータの一括設定_Metadataアドオン/00044.png (deflated 7%)\n",
      "  adding: screenshots/020複数メタデータの一括設定_Metadataアドオン/00116.png (deflated 5%)\n",
      "  adding: screenshots/020複数メタデータの一括設定_Metadataアドオン/00089.png (deflated 7%)\n",
      "  adding: screenshots/020複数メタデータの一括設定_Metadataアドオン/00113.png (deflated 3%)\n",
      "  adding: screenshots/020複数メタデータの一括設定_Metadataアドオン/00081.png (deflated 7%)\n",
      "  adding: screenshots/020複数メタデータの一括設定_Metadataアドオン/00074.png (deflated 7%)\n",
      "  adding: screenshots/020複数メタデータの一括設定_Metadataアドオン/00090.png (deflated 7%)\n",
      "  adding: screenshots/020複数メタデータの一括設定_Metadataアドオン/00099.png (deflated 7%)\n",
      "  adding: screenshots/020複数メタデータの一括設定_Metadataアドオン/00055.png (deflated 5%)\n",
      "  adding: screenshots/020複数メタデータの一括設定_Metadataアドオン/00095.png (deflated 7%)\n",
      "  adding: screenshots/020複数メタデータの一括設定_Metadataアドオン/00063.png (deflated 5%)\n",
      "  adding: screenshots/020複数メタデータの一括設定_Metadataアドオン/00045.png (deflated 7%)\n",
      "  adding: screenshots/020複数メタデータの一括設定_Metadataアドオン/00098.png (deflated 7%)\n",
      "  adding: screenshots/020複数メタデータの一括設定_Metadataアドオン/00033.png (deflated 6%)\n",
      "  adding: screenshots/020複数メタデータの一括設定_Metadataアドオン/00067.png (deflated 5%)\n",
      "  adding: screenshots/020複数メタデータの一括設定_Metadataアドオン/00096.png (deflated 7%)\n",
      "  adding: screenshots/020複数メタデータの一括設定_Metadataアドオン/00001.png (deflated 0%)\n",
      "  adding: screenshots/020複数メタデータの一括設定_Metadataアドオン/00008.png (deflated 4%)\n",
      "  adding: screenshots/020複数メタデータの一括設定_Metadataアドオン/00013.png (deflated 4%)\n",
      "  adding: screenshots/020複数メタデータの一括設定_Metadataアドオン/00005.png (deflated 6%)\n",
      "  adding: screenshots/020複数メタデータの一括設定_Metadataアドオン/00070.png (deflated 5%)\n",
      "  adding: screenshots/020複数メタデータの一括設定_Metadataアドオン/00060.png (deflated 5%)\n",
      "  adding: screenshots/020複数メタデータの一括設定_Metadataアドオン/00019.png (deflated 6%)\n",
      "  adding: screenshots/020複数メタデータの一括設定_Metadataアドオン/00015.png (deflated 4%)\n",
      "  adding: screenshots/020複数メタデータの一括設定_Metadataアドオン/00012.png (deflated 4%)\n",
      "  adding: screenshots/020複数メタデータの一括設定_Metadataアドオン/00038.png (deflated 7%)\n",
      "  adding: screenshots/020複数メタデータの一括設定_Metadataアドオン/00073.png (deflated 7%)\n",
      "  adding: screenshots/020複数メタデータの一括設定_Metadataアドオン/00077.png (deflated 7%)\n",
      "  adding: screenshots/020複数メタデータの一括設定_Metadataアドオン/00082.png (deflated 7%)\n",
      "  adding: screenshots/020複数メタデータの一括設定_Metadataアドオン/00035.png (deflated 6%)\n",
      "  adding: screenshots/020複数メタデータの一括設定_Metadataアドオン/00065.png (deflated 3%)\n",
      "  adding: screenshots/020複数メタデータの一括設定_Metadataアドオン/00002.png (deflated 2%)\n",
      "  adding: screenshots/020複数メタデータの一括設定_Metadataアドオン/00024.png (deflated 6%)\n",
      "  adding: screenshots/020複数メタデータの一括設定_Metadataアドオン/00017.png (deflated 7%)\n",
      "  adding: screenshots/020複数メタデータの一括設定_Metadataアドオン/00058.png (deflated 6%)\n",
      "  adding: screenshots/020複数メタデータの一括設定_Metadataアドオン/00114.png (deflated 5%)\n",
      "  adding: screenshots/020複数メタデータの一括設定_Metadataアドオン/00075.png (deflated 7%)\n",
      "  adding: screenshots/020複数メタデータの一括設定_Metadataアドオン/00031.png (deflated 7%)\n",
      "  adding: screenshots/020複数メタデータの一括設定_Metadataアドオン/00083.png (deflated 7%)\n",
      "  adding: screenshots/020複数メタデータの一括設定_Metadataアドオン/00064.png (deflated 7%)\n",
      "  adding: screenshots/020複数メタデータの一括設定_Metadataアドオン/00023.png (deflated 7%)\n",
      "  adding: screenshots/020複数メタデータの一括設定_Metadataアドオン/00101.png (deflated 7%)\n",
      "  adding: screenshots/020複数メタデータの一括設定_Metadataアドオン/00007.png (deflated 6%)\n",
      "  adding: screenshots/020複数メタデータの一括設定_Metadataアドオン/00068.png (deflated 3%)\n",
      "  adding: screenshots/020複数メタデータの一括設定_Metadataアドオン/00018.png (deflated 6%)\n",
      "  adding: screenshots/020複数メタデータの一括設定_Metadataアドオン/00091.png (deflated 7%)\n",
      "  adding: screenshots/020複数メタデータの一括設定_Metadataアドオン/00080.png (deflated 8%)\n",
      "  adding: screenshots/020複数メタデータの一括設定_Metadataアドオン/00076.png (deflated 7%)\n",
      "  adding: screenshots/020複数メタデータの一括設定_Metadataアドオン/00109.png (deflated 8%)\n",
      "  adding: screenshots/020複数メタデータの一括設定_Metadataアドオン/00054.png (deflated 3%)\n",
      "  adding: screenshots/020複数メタデータの一括設定_Metadataアドオン/00104.png (deflated 7%)\n",
      "  adding: screenshots/020複数メタデータの一括設定_Metadataアドオン/00025.png (deflated 8%)\n",
      "  adding: screenshots/020複数メタデータの一括設定_Metadataアドオン/00030.png (deflated 7%)\n",
      "  adding: screenshots/020複数メタデータの一括設定_Metadataアドオン/00022.png (deflated 7%)\n",
      "  adding: screenshots/020複数メタデータの一括設定_Metadataアドオン/00085.png (deflated 8%)\n",
      "  adding: screenshots/020複数メタデータの一括設定_Metadataアドオン/00016.png (deflated 7%)\n",
      "  adding: screenshots/020複数メタデータの一括設定_Metadataアドオン/00006.png (deflated 4%)\n",
      "  adding: screenshots/020複数メタデータの一括設定_Metadataアドオン/00042.png (deflated 7%)\n",
      "  adding: screenshots/020複数メタデータの一括設定_Metadataアドオン/00093.png (deflated 7%)\n",
      "  adding: screenshots/020複数メタデータの一括設定_Metadataアドオン/00094.png (deflated 7%)\n",
      "  adding: screenshots/020複数メタデータの一括設定_Metadataアドオン/00106.png (deflated 7%)\n",
      "  adding: screenshots/020複数メタデータの一括設定_Metadataアドオン/00061.png (deflated 5%)\n",
      "  adding: screenshots/020複数メタデータの一括設定_Metadataアドオン/00020.png (deflated 7%)\n",
      "  adding: screenshots/020複数メタデータの一括設定_Metadataアドオン/00053.png (deflated 3%)\n",
      "  adding: screenshots/034アナウンス_管理者機能/ (stored 0%)\n",
      "  adding: screenshots/034アナウンス_管理者機能/00003.png (deflated 8%)\n",
      "  adding: screenshots/034アナウンス_管理者機能/video-1.webm (deflated 22%)\n",
      "  adding: screenshots/034アナウンス_管理者機能/00004.png (deflated 10%)\n",
      "  adding: screenshots/034アナウンス_管理者機能/00001.png (deflated 19%)\n",
      "  adding: screenshots/034アナウンス_管理者機能/00005.png (deflated 8%)\n",
      "  adding: screenshots/034アナウンス_管理者機能/00002.png (deflated 8%)\n",
      "  adding: screenshots/034アナウンス_管理者機能/00007.png (deflated 8%)\n",
      "  adding: screenshots/034アナウンス_管理者機能/00006.png (deflated 9%)\n"
     ]
    }
   ],
   "source": [
    "!cd {result_dir}; zip test-summary-{today}.zip *.xlsx -r screenshots"
   ]
  },
  {
   "cell_type": "markdown",
   "id": "87016038-34a2-4cd8-b541-adf0c44941f9",
   "metadata": {
    "deletable": true,
    "editable": true,
    "lc_cell_meme": {
     "current": "15675aaa-f993-11ef-a92d-0242ac120006-23-499b-a787-e195-72bc-6ef7-c5dd-6e05-5c8d-1a27-fcc3",
     "history": [
      {
       "current": "15675aaa-f993-11ef-a92d-0242ac120006-3-d2e6-6a44-9e21",
       "next": "6de74618-edc2-11ef-a157-0242ac120006-2-de82-6fc2",
       "previous": "eb6dbd76-f991-11ef-a92d-0242ac120006-1-8889"
      },
      {
       "current": "15675aaa-f993-11ef-a92d-0242ac120006-5-d2e6-6a44-9e21-1744-ab0b",
       "next": "6de74618-edc2-11ef-a157-0242ac120006-4-de82-6fc2-07b8-0934",
       "previous": "eb6dbd76-f991-11ef-a92d-0242ac120006-3-8889-842e-cedc"
      },
      {
       "current": "15675aaa-f993-11ef-a92d-0242ac120006-5-d2e6-6a44-9e21-1744-ab0b",
       "next": "6de74618-edc2-11ef-a157-0242ac120006-4-de82-6fc2-07b8-0934",
       "previous": "eb6dbd76-f991-11ef-a92d-0242ac120006-3-8889-842e-cedc"
      },
      {
       "current": "15675aaa-f993-11ef-a92d-0242ac120006-6-d2e6-6a44-9e21-1744-ab0b-3935",
       "next": "6de74618-edc2-11ef-a157-0242ac120006-6-de82-6fc2-07b8-0934-9511-fadc",
       "previous": "eb6dbd76-f991-11ef-a92d-0242ac120006-5-8889-842e-cedc-47e8-1a64"
      },
      {
       "current": "15675aaa-f993-11ef-a92d-0242ac120006-7-d2e6-6a44-9e21-1744-ab0b-3935-5dfc",
       "next": "6de74618-edc2-11ef-a157-0242ac120006-7-de82-6fc2-07b8-0934-9511-fadc-a911",
       "previous": "eb6dbd76-f991-11ef-a92d-0242ac120006-6-8889-842e-cedc-47e8-1a64-21aa"
      },
      {
       "current": "15675aaa-f993-11ef-a92d-0242ac120006-9-d2e6-6a44-9e21-1744-ab0b-3935-5dfc-db5e-1d89",
       "next": "6de74618-edc2-11ef-a157-0242ac120006-8-de82-6fc2-07b8-0934-9511-fadc-a911-4327",
       "previous": "eb6dbd76-f991-11ef-a92d-0242ac120006-7-8889-842e-cedc-47e8-1a64-21aa-fe61"
      },
      {
       "current": "15675aaa-f993-11ef-a92d-0242ac120006-9-d2e6-6a44-9e21-1744-ab0b-3935-5dfc-db5e-1d89",
       "next": "6de74618-edc2-11ef-a157-0242ac120006-10-de82-6fc2-07b8-0934-9511-fadc-a911-4327-1b67-2a38",
       "previous": "eb6dbd76-f991-11ef-a92d-0242ac120006-9-8889-842e-cedc-47e8-1a64-21aa-fe61-ff57-dd67"
      },
      {
       "current": "15675aaa-f993-11ef-a92d-0242ac120006-9-d2e6-6a44-9e21-1744-ab0b-3935-5dfc-db5e-1d89",
       "next": "6de74618-edc2-11ef-a157-0242ac120006-10-de82-6fc2-07b8-0934-9511-fadc-a911-4327-1b67-2a38",
       "previous": "09b30c72-112b-11f0-acfe-1231102d67ae"
      },
      {
       "current": "15675aaa-f993-11ef-a92d-0242ac120006-9-d2e6-6a44-9e21-1744-ab0b-3935-5dfc-db5e-1d89",
       "next": "6de74618-edc2-11ef-a157-0242ac120006-10-de82-6fc2-07b8-0934-9511-fadc-a911-4327-1b67-2a38",
       "previous": "09b30c72-112b-11f0-acfe-1231102d67ae"
      },
      {
       "current": "15675aaa-f993-11ef-a92d-0242ac120006-9-d2e6-6a44-9e21-1744-ab0b-3935-5dfc-db5e-1d89",
       "next": "6de74618-edc2-11ef-a157-0242ac120006-10-de82-6fc2-07b8-0934-9511-fadc-a911-4327-1b67-2a38",
       "previous": "09b30c72-112b-11f0-acfe-1231102d67ae-1-3ee5"
      },
      {
       "current": "15675aaa-f993-11ef-a92d-0242ac120006-9-d2e6-6a44-9e21-1744-ab0b-3935-5dfc-db5e-1d89",
       "next": "6de74618-edc2-11ef-a157-0242ac120006-10-de82-6fc2-07b8-0934-9511-fadc-a911-4327-1b67-2a38",
       "previous": "2bdbb708-112c-11f0-acfe-1231102d67ae"
      },
      {
       "current": "15675aaa-f993-11ef-a92d-0242ac120006-9-d2e6-6a44-9e21-1744-ab0b-3935-5dfc-db5e-1d89",
       "next": "6de74618-edc2-11ef-a157-0242ac120006-10-de82-6fc2-07b8-0934-9511-fadc-a911-4327-1b67-2a38",
       "previous": "dc9b92a6-1132-11f0-acfe-1231102d67ae"
      },
      {
       "current": "15675aaa-f993-11ef-a92d-0242ac120006-10-d2e6-6a44-9e21-1744-ab0b-3935-5dfc-db5e-1d89-8496",
       "next": "6de74618-edc2-11ef-a157-0242ac120006-10-de82-6fc2-07b8-0934-9511-fadc-a911-4327-1b67-2a38",
       "previous": "2bdbb708-112c-11f0-acfe-1231102d67ae"
      },
      {
       "current": "15675aaa-f993-11ef-a92d-0242ac120006-11-6a44-9e21-1744-ab0b-3935-5dfc-db5e-1d89-8496-0ba0",
       "next": "6de74618-edc2-11ef-a157-0242ac120006-11-6fc2-07b8-0934-9511-fadc-a911-4327-1b67-2a38-2f06",
       "previous": "2bdbb708-112c-11f0-acfe-1231102d67ae-1-666c"
      },
      {
       "current": "15675aaa-f993-11ef-a92d-0242ac120006-11-6a44-9e21-1744-ab0b-3935-5dfc-db5e-1d89-8496-0ba0",
       "next": "6de74618-edc2-11ef-a157-0242ac120006-12-07b8-0934-9511-fadc-a911-4327-1b67-2a38-2f06-0219",
       "previous": "2bdbb708-112c-11f0-acfe-1231102d67ae-2-666c-7f7d"
      },
      {
       "current": "15675aaa-f993-11ef-a92d-0242ac120006-12-9e21-1744-ab0b-3935-5dfc-db5e-1d89-8496-0ba0-adf7",
       "next": "6de74618-edc2-11ef-a157-0242ac120006-12-07b8-0934-9511-fadc-a911-4327-1b67-2a38-2f06-0219",
       "previous": "caa4a88e-133b-11f0-88c4-7e93a5d0b9a2"
      },
      {
       "current": "15675aaa-f993-11ef-a92d-0242ac120006-14-ab0b-3935-5dfc-db5e-1d89-8496-0ba0-adf7-78cc-499b",
       "next": "6de74618-edc2-11ef-a157-0242ac120006-13-0934-9511-fadc-a911-4327-1b67-2a38-2f06-0219-debb",
       "previous": "caa4a88e-133b-11f0-88c4-7e93a5d0b9a2-1-12fc"
      },
      {
       "current": "15675aaa-f993-11ef-a92d-0242ac120006-16-5dfc-db5e-1d89-8496-0ba0-adf7-78cc-499b-a787-e195",
       "next": "6de74618-edc2-11ef-a157-0242ac120006-15-fadc-a911-4327-1b67-2a38-2f06-0219-debb-f0f9-8135",
       "previous": "caa4a88e-133b-11f0-88c4-7e93a5d0b9a2-3-12fc-34b4-90f2"
      },
      {
       "current": "15675aaa-f993-11ef-a92d-0242ac120006-17-db5e-1d89-8496-0ba0-adf7-78cc-499b-a787-e195-72bc",
       "next": "6de74618-edc2-11ef-a157-0242ac120006-17-4327-1b67-2a38-2f06-0219-debb-f0f9-8135-023b-d7a8",
       "previous": "caa4a88e-133b-11f0-88c4-7e93a5d0b9a2-5-12fc-34b4-90f2-a517-fda0"
      },
      {
       "current": "15675aaa-f993-11ef-a92d-0242ac120006-18-1d89-8496-0ba0-adf7-78cc-499b-a787-e195-72bc-6ef7",
       "next": "6de74618-edc2-11ef-a157-0242ac120006-18-1b67-2a38-2f06-0219-debb-f0f9-8135-023b-d7a8-53c4",
       "previous": "caa4a88e-133b-11f0-88c4-7e93a5d0b9a2-6-12fc-34b4-90f2-a517-fda0-5588"
      },
      {
       "current": "15675aaa-f993-11ef-a92d-0242ac120006-20-0ba0-adf7-78cc-499b-a787-e195-72bc-6ef7-c5dd-6e05",
       "next": "6de74618-edc2-11ef-a157-0242ac120006-19-2a38-2f06-0219-debb-f0f9-8135-023b-d7a8-53c4-622d",
       "previous": "caa4a88e-133b-11f0-88c4-7e93a5d0b9a2-7-12fc-34b4-90f2-a517-fda0-5588-ccfc"
      },
      {
       "current": "15675aaa-f993-11ef-a92d-0242ac120006-23-499b-a787-e195-72bc-6ef7-c5dd-6e05-5c8d-1a27-fcc3",
       "next": "6de74618-edc2-11ef-a157-0242ac120006-21-0219-debb-f0f9-8135-023b-d7a8-53c4-622d-6788-c3e2",
       "previous": "caa4a88e-133b-11f0-88c4-7e93a5d0b9a2-9-12fc-34b4-90f2-a517-fda0-5588-ccfc-d9dd-030c"
      }
     ],
     "next": "6de74618-edc2-11ef-a157-0242ac120006-24-8135-023b-d7a8-53c4-622d-6788-c3e2-fe2e-8631-65d6",
     "previous": "caa4a88e-133b-11f0-88c4-7e93a5d0b9a2-12-90f2-a517-fda0-5588-ccfc-d9dd-030c-7462-d876-42a1"
    },
    "pinnedOutputTabIndex": 0,
    "run_through_control": {
     "frozen": false,
     "read_only": false
    }
   },
   "source": [
    "## 統計情報の収集"
   ]
  },
  {
   "cell_type": "code",
   "execution_count": 31,
   "id": "79dcfa3d-2aa4-4b7e-ac7c-52af9eda755d",
   "metadata": {
    "deletable": false,
    "editable": false,
    "lc_cell_meme": {
     "current": "6de74618-edc2-11ef-a157-0242ac120006-24-8135-023b-d7a8-53c4-622d-6788-c3e2-fe2e-8631-65d6",
     "execution_end_time": "2025-02-18T06:47:18.663Z",
     "history": [
      {
       "current": "6de74618-edc2-11ef-a157-0242ac120006",
       "next": "8fb6040a-ecdc-11ef-b381-0242ac120006-2-297f-5610",
       "previous": "5219f0aa-ed1a-11ef-a157-0242ac120006-1-ae56"
      },
      {
       "current": "6de74618-edc2-11ef-a157-0242ac120006",
       "next": "7e66f320-edc3-11ef-a157-0242ac120006",
       "previous": "5219f0aa-ed1a-11ef-a157-0242ac120006-1-ae56"
      },
      {
       "current": "6de74618-edc2-11ef-a157-0242ac120006-2-de82-6fc2",
       "next": "8fb6040a-ecdc-11ef-b381-0242ac120006-2-297f-5610",
       "previous": "5219f0aa-ed1a-11ef-a157-0242ac120006-1-ae56"
      },
      {
       "current": "6de74618-edc2-11ef-a157-0242ac120006-2-de82-6fc2",
       "next": "ef48c55e-f981-11ef-a92d-0242ac120006",
       "previous": "5219f0aa-ed1a-11ef-a157-0242ac120006-3-ae56-d3e5-60f3"
      },
      {
       "current": "6de74618-edc2-11ef-a157-0242ac120006-2-de82-6fc2",
       "next": "19339240-f982-11ef-a92d-0242ac120006",
       "previous": "5219f0aa-ed1a-11ef-a157-0242ac120006-3-ae56-d3e5-60f3"
      },
      {
       "current": "6de74618-edc2-11ef-a157-0242ac120006-2-de82-6fc2",
       "next": "ef48c55e-f981-11ef-a92d-0242ac120006",
       "previous": "5219f0aa-ed1a-11ef-a157-0242ac120006-3-ae56-d3e5-60f3"
      },
      {
       "current": "6de74618-edc2-11ef-a157-0242ac120006-2-de82-6fc2",
       "next": "ef48c55e-f981-11ef-a92d-0242ac120006",
       "previous": "5219f0aa-ed1a-11ef-a157-0242ac120006-3-ae56-d3e5-60f3"
      },
      {
       "current": "6de74618-edc2-11ef-a157-0242ac120006-2-de82-6fc2",
       "next": "fbf1a14c-f989-11ef-a92d-0242ac120006-1-a14e",
       "previous": "5219f0aa-ed1a-11ef-a157-0242ac120006-3-ae56-d3e5-60f3"
      },
      {
       "current": "6de74618-edc2-11ef-a157-0242ac120006-2-de82-6fc2",
       "next": "fbf1a14c-f989-11ef-a92d-0242ac120006-1-a14e",
       "previous": "5219f0aa-ed1a-11ef-a157-0242ac120006-3-ae56-d3e5-60f3"
      },
      {
       "current": "6de74618-edc2-11ef-a157-0242ac120006-2-de82-6fc2",
       "next": "ef48c55e-f981-11ef-a92d-0242ac120006",
       "previous": "5219f0aa-ed1a-11ef-a157-0242ac120006-3-ae56-d3e5-60f3"
      },
      {
       "current": "6de74618-edc2-11ef-a157-0242ac120006-2-de82-6fc2",
       "next": "ef48c55e-f981-11ef-a92d-0242ac120006",
       "previous": "5219f0aa-ed1a-11ef-a157-0242ac120006-3-ae56-d3e5-60f3"
      },
      {
       "current": "6de74618-edc2-11ef-a157-0242ac120006-2-de82-6fc2",
       "next": "ef48c55e-f981-11ef-a92d-0242ac120006",
       "previous": "eb6dbd76-f991-11ef-a92d-0242ac120006-1-8889"
      },
      {
       "current": "6de74618-edc2-11ef-a157-0242ac120006-2-de82-6fc2",
       "next": "ef48c55e-f981-11ef-a92d-0242ac120006",
       "previous": "816e156e-f992-11ef-a92d-0242ac120006"
      },
      {
       "current": "6de74618-edc2-11ef-a157-0242ac120006-2-de82-6fc2",
       "next": "ef48c55e-f981-11ef-a92d-0242ac120006",
       "previous": "eb6dbd76-f991-11ef-a92d-0242ac120006-1-8889"
      },
      {
       "current": "6de74618-edc2-11ef-a157-0242ac120006-2-de82-6fc2",
       "next": "ef48c55e-f981-11ef-a92d-0242ac120006",
       "previous": "15675aaa-f993-11ef-a92d-0242ac120006"
      },
      {
       "current": "6de74618-edc2-11ef-a157-0242ac120006-2-de82-6fc2",
       "next": "ef48c55e-f981-11ef-a92d-0242ac120006",
       "previous": "15675aaa-f993-11ef-a92d-0242ac120006"
      },
      {
       "current": "6de74618-edc2-11ef-a157-0242ac120006-4-de82-6fc2-07b8-0934",
       "next": "ef48c55e-f981-11ef-a92d-0242ac120006",
       "previous": "15675aaa-f993-11ef-a92d-0242ac120006-1-d2e6"
      },
      {
       "current": "6de74618-edc2-11ef-a157-0242ac120006-6-de82-6fc2-07b8-0934-9511-fadc",
       "next": "ef48c55e-f981-11ef-a92d-0242ac120006-2-9c36-6b9c",
       "previous": "15675aaa-f993-11ef-a92d-0242ac120006-3-d2e6-6a44-9e21"
      },
      {
       "current": "6de74618-edc2-11ef-a157-0242ac120006-6-de82-6fc2-07b8-0934-9511-fadc",
       "next": "ef48c55e-f981-11ef-a92d-0242ac120006-2-9c36-6b9c",
       "previous": "15675aaa-f993-11ef-a92d-0242ac120006-3-d2e6-6a44-9e21"
      },
      {
       "current": "6de74618-edc2-11ef-a157-0242ac120006-7-de82-6fc2-07b8-0934-9511-fadc-a911",
       "next": "ef48c55e-f981-11ef-a92d-0242ac120006-4-9c36-6b9c-938b-5006",
       "previous": "15675aaa-f993-11ef-a92d-0242ac120006-5-d2e6-6a44-9e21-1744-ab0b"
      },
      {
       "current": "6de74618-edc2-11ef-a157-0242ac120006-7-de82-6fc2-07b8-0934-9511-fadc-a911",
       "next": "ef48c55e-f981-11ef-a92d-0242ac120006-5-9c36-6b9c-938b-5006-8026",
       "previous": "15675aaa-f993-11ef-a92d-0242ac120006-6-d2e6-6a44-9e21-1744-ab0b-3935"
      },
      {
       "current": "6de74618-edc2-11ef-a157-0242ac120006-8-de82-6fc2-07b8-0934-9511-fadc-a911-4327",
       "next": "bed400ee-0c7a-11f0-b991-feb16f56f93e",
       "previous": "15675aaa-f993-11ef-a92d-0242ac120006-6-d2e6-6a44-9e21-1744-ab0b-3935"
      },
      {
       "current": "6de74618-edc2-11ef-a157-0242ac120006-10-de82-6fc2-07b8-0934-9511-fadc-a911-4327-1b67-2a38",
       "next": "bed400ee-0c7a-11f0-b991-feb16f56f93e-1-cb3b",
       "previous": "15675aaa-f993-11ef-a92d-0242ac120006-7-d2e6-6a44-9e21-1744-ab0b-3935-5dfc"
      },
      {
       "current": "6de74618-edc2-11ef-a157-0242ac120006-11-6fc2-07b8-0934-9511-fadc-a911-4327-1b67-2a38-2f06",
       "next": "bed400ee-0c7a-11f0-b991-feb16f56f93e-3-cb3b-8d60-8907",
       "previous": "15675aaa-f993-11ef-a92d-0242ac120006-9-d2e6-6a44-9e21-1744-ab0b-3935-5dfc-db5e-1d89"
      },
      {
       "current": "6de74618-edc2-11ef-a157-0242ac120006-12-07b8-0934-9511-fadc-a911-4327-1b67-2a38-2f06-0219",
       "next": "bed400ee-0c7a-11f0-b991-feb16f56f93e-4-cb3b-8d60-8907-e2ae",
       "previous": "15675aaa-f993-11ef-a92d-0242ac120006-10-d2e6-6a44-9e21-1744-ab0b-3935-5dfc-db5e-1d89-8496"
      },
      {
       "current": "6de74618-edc2-11ef-a157-0242ac120006-13-0934-9511-fadc-a911-4327-1b67-2a38-2f06-0219-debb",
       "next": "bed400ee-0c7a-11f0-b991-feb16f56f93e-5-cb3b-8d60-8907-e2ae-856d",
       "previous": "15675aaa-f993-11ef-a92d-0242ac120006-11-6a44-9e21-1744-ab0b-3935-5dfc-db5e-1d89-8496-0ba0"
      },
      {
       "current": "6de74618-edc2-11ef-a157-0242ac120006-15-fadc-a911-4327-1b67-2a38-2f06-0219-debb-f0f9-8135",
       "next": "bed400ee-0c7a-11f0-b991-feb16f56f93e-6-cb3b-8d60-8907-e2ae-856d-6e5d",
       "previous": "15675aaa-f993-11ef-a92d-0242ac120006-12-9e21-1744-ab0b-3935-5dfc-db5e-1d89-8496-0ba0-adf7"
      },
      {
       "current": "6de74618-edc2-11ef-a157-0242ac120006-17-4327-1b67-2a38-2f06-0219-debb-f0f9-8135-023b-d7a8",
       "next": "bed400ee-0c7a-11f0-b991-feb16f56f93e-8-cb3b-8d60-8907-e2ae-856d-6e5d-e6ad-8bd4",
       "previous": "15675aaa-f993-11ef-a92d-0242ac120006-14-ab0b-3935-5dfc-db5e-1d89-8496-0ba0-adf7-78cc-499b"
      },
      {
       "current": "6de74618-edc2-11ef-a157-0242ac120006-18-1b67-2a38-2f06-0219-debb-f0f9-8135-023b-d7a8-53c4",
       "next": "bed400ee-0c7a-11f0-b991-feb16f56f93e-10-cb3b-8d60-8907-e2ae-856d-6e5d-e6ad-8bd4-924e-f683",
       "previous": "15675aaa-f993-11ef-a92d-0242ac120006-16-5dfc-db5e-1d89-8496-0ba0-adf7-78cc-499b-a787-e195"
      },
      {
       "current": "6de74618-edc2-11ef-a157-0242ac120006-19-2a38-2f06-0219-debb-f0f9-8135-023b-d7a8-53c4-622d",
       "next": "bed400ee-0c7a-11f0-b991-feb16f56f93e-11-8d60-8907-e2ae-856d-6e5d-e6ad-8bd4-924e-f683-19cc",
       "previous": "15675aaa-f993-11ef-a92d-0242ac120006-17-db5e-1d89-8496-0ba0-adf7-78cc-499b-a787-e195-72bc"
      },
      {
       "current": "6de74618-edc2-11ef-a157-0242ac120006-21-0219-debb-f0f9-8135-023b-d7a8-53c4-622d-6788-c3e2",
       "next": "bed400ee-0c7a-11f0-b991-feb16f56f93e-12-8907-e2ae-856d-6e5d-e6ad-8bd4-924e-f683-19cc-4266",
       "previous": "15675aaa-f993-11ef-a92d-0242ac120006-18-1d89-8496-0ba0-adf7-78cc-499b-a787-e195-72bc-6ef7"
      },
      {
       "current": "6de74618-edc2-11ef-a157-0242ac120006-24-8135-023b-d7a8-53c4-622d-6788-c3e2-fe2e-8631-65d6",
       "next": "bed400ee-0c7a-11f0-b991-feb16f56f93e-14-856d-6e5d-e6ad-8bd4-924e-f683-19cc-4266-23e7-c3bb",
       "previous": "15675aaa-f993-11ef-a92d-0242ac120006-20-0ba0-adf7-78cc-499b-a787-e195-72bc-6ef7-c5dd-6e05"
      }
     ],
     "next": "bed400ee-0c7a-11f0-b991-feb16f56f93e-17-8bd4-924e-f683-19cc-4266-23e7-c3bb-2449-7444-ec88",
     "previous": "15675aaa-f993-11ef-a92d-0242ac120006-23-499b-a787-e195-72bc-6ef7-c5dd-6e05-5c8d-1a27-fcc3"
    },
    "pinnedOutputTabIndex": 0,
    "run_through_control": {
     "frozen": true,
     "read_only": false
    },
    "scrolled": true
   },
   "outputs": [
    {
     "name": "stdout",
     "output_type": "stream",
     "text": [
      "Archive:  result/result-20250610-144058/テスト手順-ログイン/har.zip\n",
      "  inflating: /tmp/tmpxfu36gnb/har/c6042da8a60ce6b529784b34894a17151b964130.html  \n",
      "  inflating: /tmp/tmpxfu36gnb/har/45d973cf07d81b69608c7630d45257a05417752e.js  \n",
      "  inflating: /tmp/tmpxfu36gnb/har/4b858fb28daf9f687fc54bdce74ae40451a9d883.css  \n",
      "  inflating: /tmp/tmpxfu36gnb/har/9c5c7c564f3c4fc9d1ea5465f8205c636c1955ba.css  \n",
      "  inflating: /tmp/tmpxfu36gnb/har/30fedc6c732ef68bff3ef42016c7610d70a00289.js  \n",
      "  inflating: /tmp/tmpxfu36gnb/har/141e23c01a8e3d83ec4addaf5586eac6f57768ab.js  \n",
      "  inflating: /tmp/tmpxfu36gnb/har/03fd3649109057e8401e0ca2083fee954f1141a2.css  \n",
      "  inflating: /tmp/tmpxfu36gnb/har/ac70c5dac8b83b410dd0ad0895341626d9070103.css  \n",
      "  inflating: /tmp/tmpxfu36gnb/har/7b4766f5ad599c8c54d19065f96c5113f6f61c7d.js  \n",
      "  inflating: /tmp/tmpxfu36gnb/har/cc8ce472e63a70511be95ffc2d56a4f74716c0f7.js  \n",
      "  inflating: /tmp/tmpxfu36gnb/har/634d8c0688a0044dee4511a0c5be92d2831c1b78.js  \n",
      "  inflating: /tmp/tmpxfu36gnb/har/208c3f5be21c3a09e6b5866c6587b33940238894.dat  \n",
      "  inflating: /tmp/tmpxfu36gnb/har/bd4fc25d773cc65ba5c1a679a5a0241ba59e34c5.bin  \n",
      "  inflating: /tmp/tmpxfu36gnb/har/efde85a932cb90b92f4cbf277feab09858446b25.bin  \n",
      "  inflating: /tmp/tmpxfu36gnb/har/37d52077436399326de54b8504d3698d7f72d4c6.bin  \n",
      "  inflating: /tmp/tmpxfu36gnb/har/3e16a3f1bf6709f9da36f797f8911cc30616e34b.css  \n",
      "  inflating: /tmp/tmpxfu36gnb/har/92bfffbe438d0c0189219f5d1e361420bcae6b9c.png  \n",
      "  inflating: /tmp/tmpxfu36gnb/har/93963fbd7accc0d8b69725e8277fe9e256f9934c.png  \n",
      "  inflating: /tmp/tmpxfu36gnb/har/e8b68397b3a6f7bc93a2cd8cebf97da2f9bbe6f9.png  \n",
      "  inflating: /tmp/tmpxfu36gnb/har/2f8d53fe2255cbed9117de71b0e6dd773b9067f7.jpeg  \n",
      "  inflating: /tmp/tmpxfu36gnb/har/6d663d45b021e6cd59d3481dc383f1b7a3c1dd83.js  \n",
      "  inflating: /tmp/tmpxfu36gnb/har/b8dcaa1c866905c0bdb0b70c8e564ff1c3fe27ad.js  \n",
      "  inflating: /tmp/tmpxfu36gnb/har/45ab0412a1216c3377ff21d0a80eb6f84b98a036.dat  \n",
      "  inflating: /tmp/tmpxfu36gnb/har/d6f48cba7d076fb6f2fd6ba993a75b9dc1ecbf0c.woff2  \n",
      "  inflating: /tmp/tmpxfu36gnb/har/e5c5f3134fe29e60b591c87ea85951f0aea36ee1.dat  \n",
      "  inflating: /tmp/tmpxfu36gnb/har/57c0ac17302d07bd4f968240098afe5ed53d4ad2.woff2  \n",
      "  inflating: /tmp/tmpxfu36gnb/har/cca86dfad8d944073f3274e3909868813a7aabac.png  \n",
      "  inflating: /tmp/tmpxfu36gnb/har/7d7ead24820dfc35ebe4eeee699e93be178ac821.html  \n",
      "  inflating: /tmp/tmpxfu36gnb/har/f332dfc9354d16776182025abb53c49847923126.css  \n",
      "  inflating: /tmp/tmpxfu36gnb/har/288e6f6c4bcaffbe78518a5a67fa3b6462e3c6db.png  \n",
      "  inflating: /tmp/tmpxfu36gnb/har/00cf56cb13b57f3ddf8ea1282e7b0165228c5851.dat  \n",
      "  inflating: /tmp/tmpxfu36gnb/har/93664d58007434c67e25e222dd9d77311c49986d.css  \n",
      "  inflating: /tmp/tmpxfu36gnb/har/8d7d47c5791757ffa103ec5f2df1f708cb19a1c3.html  \n",
      "  inflating: /tmp/tmpxfu36gnb/har/9d17d4504527855a1105fb64e2fb28acc66e39b9.dat  \n",
      "  inflating: /tmp/tmpxfu36gnb/har/8fe162aa63d3f86095e1396277e35928cc8cbd75.dat  \n",
      "  inflating: /tmp/tmpxfu36gnb/har/925a99e86f1cabfea7b346de8327c5492c95762e.dat  \n",
      "  inflating: /tmp/tmpxfu36gnb/har/8f068c4a049dd944f20c59262d052f0155a659d5.jpeg  \n",
      "  inflating: /tmp/tmpxfu36gnb/har/8bdc6d5c8a0a47e48f4b23babd86b61d28ede5a6.jpeg  \n",
      "  inflating: /tmp/tmpxfu36gnb/har/853a66bffc32d4690e98bf36c15201c0145003a1.dat  \n",
      "  inflating: /tmp/tmpxfu36gnb/har/8a73cd6fb9fab772c1015e0b2f82ff0d95bc8e9c.dat  \n",
      "  inflating: /tmp/tmpxfu36gnb/har/c1a60e644a8ae62240f92012e5edea5f1534abf4.dat  \n",
      "  inflating: /tmp/tmpxfu36gnb/har/46891b7df01be5497d7a18a281ba4e0ed168168b.dat  \n",
      "  inflating: /tmp/tmpxfu36gnb/har/c0de00d4a06b2ddce6e8b7f99293bf2c78792ee4.dat  \n",
      "  inflating: /tmp/tmpxfu36gnb/har/b59a426ff64525a470316439dedd9fd87ec61c31.dat  \n",
      "  inflating: /tmp/tmpxfu36gnb/har/e3cc5d54bab2085a8d265951a4a448853abd8043.dat  \n",
      "  inflating: /tmp/tmpxfu36gnb/har/3d7ffae5a94861376cc72087b3e94d18e7a0ff75.dat  \n",
      "  inflating: /tmp/tmpxfu36gnb/har/7be2f884ae96fa20bc421c840137f80030cb1cd8.dat  \n",
      "  inflating: /tmp/tmpxfu36gnb/har/248f281b60a17d9c8bdd5b4e09a67b8e778fb781.dat  \n",
      "  inflating: /tmp/tmpxfu36gnb/har/4ad2bfd51a89c0445347994c0414aeb267b96751.dat  \n",
      "  inflating: /tmp/tmpxfu36gnb/har/a65835e4655a454fb55e076657f932b62055a4d5.dat  \n",
      "  inflating: /tmp/tmpxfu36gnb/har/2edb375952113d2d0971fd9c4ce9633bf4387a02.dat  \n",
      "  inflating: /tmp/tmpxfu36gnb/har/78ccd6fe381f747262e54cb6611423a180ebbcce.dat  \n",
      "  inflating: /tmp/tmpxfu36gnb/har/07dbd5f09e7e803c6d2e31cc9f2aee24bf47f554.dat  \n",
      "  inflating: /tmp/tmpxfu36gnb/har/f1d1454ce4136dec8c493e4fa663c9a796d43541.dat  \n",
      "  inflating: /tmp/tmpxfu36gnb/har/4c3f8f87432142173a8942863526f998186235d7.dat  \n",
      "  inflating: /tmp/tmpxfu36gnb/har/64d2b33cfe0e2afd95c86a8c2308f8f167bf9dfe.dat  \n",
      "  inflating: /tmp/tmpxfu36gnb/har/db8a0b13319fa104c0de89f04b5ce92ce202de75.dat  \n",
      "  inflating: /tmp/tmpxfu36gnb/har/4d4650e3a5929e6ed1a27b35243b2ac9fcb11882.dat  \n",
      "  inflating: /tmp/tmpxfu36gnb/har/6f0fe0c5a3312e6d15e364e6c114643d33a9d329.dat  \n",
      "  inflating: /tmp/tmpxfu36gnb/har/b859313f629d34254180bf433f0f71147d3ee09d.dat  \n",
      "  inflating: /tmp/tmpxfu36gnb/har/ad12fb511d14308ed85c3bd57ebe7bd243533cbc.dat  \n",
      "  inflating: /tmp/tmpxfu36gnb/har/723cb412f60f0ccd13140653867d37ff1b956b19.dat  \n",
      "  inflating: /tmp/tmpxfu36gnb/har/0dc2c607f65b0ebdeb72dd6cf0a2e7f1f26248dc.dat  \n",
      "  inflating: /tmp/tmpxfu36gnb/har/16dea3846ea332b6aa0baa76d00cea1b3b119d0b.dat  \n",
      "  inflating: /tmp/tmpxfu36gnb/har/e310eba33b836b180dd7e471a49ba07760533d9e.dat  \n",
      "  inflating: /tmp/tmpxfu36gnb/har/c9bed1337351f66bd992cb8a1af6579c62695b5a.dat  \n",
      "  inflating: /tmp/tmpxfu36gnb/har/ea29e16b438460219c6821ae1a7627e84216c9a0.dat  \n",
      "  inflating: /tmp/tmpxfu36gnb/har/bc8b144a921eaf87b84fe802a6dfd5e9e06d27f7.dat  \n",
      "  inflating: /tmp/tmpxfu36gnb/har/46a3eb5e89f7e19f43fc4ea8e7f01f57dc0e2ede.html  \n",
      "  inflating: /tmp/tmpxfu36gnb/har/5484c5cd6a1c5c1132d57af29bfd75fab06f10cf.css  \n",
      "  inflating: /tmp/tmpxfu36gnb/har/a88e504620db172b79f40e91b06baffb255293c9.css  \n",
      "  inflating: /tmp/tmpxfu36gnb/har/3d2ee6d93a1c151c66ee328505d5874c2f515660.png  \n",
      "  inflating: /tmp/tmpxfu36gnb/har/6527d8bf3e1e9368bab8c7b60f56bc01fa3afd68.css  \n",
      "  inflating: /tmp/tmpxfu36gnb/har/94222b6b082ace8180fcce9ecb0f352f2dd864b1.css  \n",
      "  inflating: /tmp/tmpxfu36gnb/har/1055018c28ab41087ef9ccefe411606893dabea2.js  \n",
      "  inflating: /tmp/tmpxfu36gnb/har/78489e580adaef931e6e5b131dab556c397e4a1a.js  \n",
      "  inflating: /tmp/tmpxfu36gnb/har/e1af5353a8df0f581629bb10bb32f2c52b366afb.js  \n",
      "  inflating: /tmp/tmpxfu36gnb/har/901eda478667ec569dc20e57da792b03ea5c0554.js  \n",
      "  inflating: /tmp/tmpxfu36gnb/har/60865dad21fc9ad16c536e652692818dbd265a81.js  \n",
      "  inflating: /tmp/tmpxfu36gnb/har/691adbfde1b0f4b02cce49363378e786f7bee086.css  \n",
      "  inflating: /tmp/tmpxfu36gnb/har/0bd3600f0aefc845870583be41378f1c378fd855.js  \n",
      "  inflating: /tmp/tmpxfu36gnb/har/45a1d3f956ba53dfef40f4deb084638fc634946b.js  \n",
      "  inflating: /tmp/tmpxfu36gnb/har/b672e4e5a3d6b38e26299eb71caa8e939900d090.js  \n",
      "  inflating: /tmp/tmpxfu36gnb/har/8b72e446cb6e9c7cd5b249d9122355668dcf0a2c.js  \n",
      "  inflating: /tmp/tmpxfu36gnb/har/ec24339bdfbdcf33357052052f44e4d2ac2a74fa.js  \n",
      "  inflating: /tmp/tmpxfu36gnb/har/b53a4036030437724a88842d7f9157b29f315e96.js  \n",
      "  inflating: /tmp/tmpxfu36gnb/har/e42e315f3c076f13d65ed477d699f291d2985b80.js  \n",
      "  inflating: /tmp/tmpxfu36gnb/har/b41e817013a586e8968422feba7e173c92adbdf3.js  \n",
      "  inflating: /tmp/tmpxfu36gnb/har/860aad9149b9d14f8a67d6fa4869b4e7e5706988.js  \n",
      "  inflating: /tmp/tmpxfu36gnb/har/ac35c6f134fd2a78b41058e4344b86dc882c5e37.js  \n",
      "  inflating: /tmp/tmpxfu36gnb/har/90d6cd5fa1c30ca9695ace9e9d79913af08046be.js  \n",
      "  inflating: /tmp/tmpxfu36gnb/har/b56c06a66537fbca7bf5d23e3c9788564f7c70b2.js  \n",
      "  inflating: /tmp/tmpxfu36gnb/har/c7d8d9f09a8653bb3559405bbace3b41572e0c96.js  \n",
      "  inflating: /tmp/tmpxfu36gnb/har/3664d02f6cd413afa2d7b935daae02da99536c21.js  \n",
      "  inflating: /tmp/tmpxfu36gnb/har/cef7e5e724ec43ea7cdf98eed8c2fc343be0896f.js  \n",
      "  inflating: /tmp/tmpxfu36gnb/har/dc6c09dd4c66a9014de08bb8421788731d62ba8f.js  \n",
      "  inflating: /tmp/tmpxfu36gnb/har/c74cfdd1fb9c20aeca1d1dbb97ab877f7577c038.js  \n",
      "  inflating: /tmp/tmpxfu36gnb/har/23bb8993da3aaade4029c57d3805145768782426.js  \n",
      "  inflating: /tmp/tmpxfu36gnb/har/daccb872eb5049203c3992e18e1a7c8c4a0eedfb.js  \n",
      "  inflating: /tmp/tmpxfu36gnb/har/800000cacd783480eb92ed831dd4b4520fbcac38.js  \n",
      "  inflating: /tmp/tmpxfu36gnb/har/3590c7c6fd7ba5e4c33453c8b48568ad63f5ffc7.js  \n",
      "  inflating: /tmp/tmpxfu36gnb/har/b286614a767c86a75059fb1d4557be706e7c3812.txt  \n",
      "  inflating: /tmp/tmpxfu36gnb/har/95bf665aa24efd6fc0534665a109c1e936fe9872.js  \n",
      "  inflating: /tmp/tmpxfu36gnb/har/278652389e12ac82d2fb5dbb58330b4a103d5663.png  \n",
      "  inflating: /tmp/tmpxfu36gnb/har/2712792df35e2ce9b9182b27a745563514badcb8.dat  \n",
      "  inflating: /tmp/tmpxfu36gnb/har/4ba659d1124a129d9892dc376ad7731be9fafbf2.dat  \n",
      "  inflating: /tmp/tmpxfu36gnb/har/bc8f075a052f686b54a4105476a7155b5a793080.json  \n",
      "  inflating: /tmp/tmpxfu36gnb/har/89672ea1f3f0e3b2bb0f2360e09789b0950ac826.json  \n",
      "  inflating: /tmp/tmpxfu36gnb/har/6b36c8b47becc22b153f50d4f48bad306a881a92.png  \n",
      "  inflating: /tmp/tmpxfu36gnb/har/d2d0c781ece27756a807579bd74721fe5a27886c.png  \n",
      "  inflating: /tmp/tmpxfu36gnb/har/c612ca1899d4e4c6ea3f47f4e34f3d8193252072.json  \n",
      "  inflating: /tmp/tmpxfu36gnb/har/17105f6867c0fd923bc1b4259c73399aa3d3ee19.json  \n",
      "  inflating: /tmp/tmpxfu36gnb/har/1ce9c71fa236266f9d5be27cd3be3579dc5a20ea.json  \n",
      "  inflating: /tmp/tmpxfu36gnb/har/75fab396b6648528f674235b54f281f333bdf0b4.dat  \n",
      "  inflating: /tmp/tmpxfu36gnb/har/c310d7f1f6f3c4409642b7a753d172d6e8152c85.jpeg  \n",
      "  inflating: /tmp/tmpxfu36gnb/har/3903c8f8786d7b4a66cd1ed04c7a58cac03a6250.dat  \n",
      "  inflating: /tmp/tmpxfu36gnb/har/056bd6dec230f99ebd6e30bf67b4b78fb4b8fa4f.bin  \n",
      "  inflating: /tmp/tmpxfu36gnb/har/b0ecab242b5361f5df4d11ffb6b3e448cce9a486.bin  \n",
      "  inflating: /tmp/tmpxfu36gnb/har/1561abcf31dc9934ab10298b4452a1665bf47735.bin  \n",
      "  inflating: /tmp/tmpxfu36gnb/har/85c6393aa72e29578c517e9302569723ba6e08c8.json  \n",
      "  inflating: /tmp/tmpxfu36gnb/har/0e04c5c5bb86aac2c4d8ae664e90b8229d3185e7.html  \n",
      "  inflating: /tmp/tmpxfu36gnb/har/390e92f18f76a2b6ca7f5bf8272cc614ca0cf638.js  \n",
      "  inflating: /tmp/tmpxfu36gnb/har/4802b3858700a7cbf726cfdebca5bc89f5e16e8c.html  \n",
      "  inflating: /tmp/tmpxfu36gnb/har/ac23568a3e4dffba7830bb46b96461974f611125.css  \n",
      "  inflating: /tmp/tmpxfu36gnb/har/581e91045e01f1cd5e4a62cda118bd8844387b6b.js  \n",
      "  inflating: /tmp/tmpxfu36gnb/har/6ed002d41313e56e32763e2ee4451a602743f0a9.js  \n",
      "  inflating: /tmp/tmpxfu36gnb/har/bd0daab05b4cb5873d229243069869ddc8f8317a.js  \n",
      "  inflating: /tmp/tmpxfu36gnb/har/95c9de30444117adbbb3218070fda00af187a76a.js  \n",
      "  inflating: /tmp/tmpxfu36gnb/har/c4e45d46bda030a7f3120b268270492bd34cfd04.dat  \n",
      "  inflating: /tmp/tmpxfu36gnb/har/8a7b4ae1d411748c8a827094c1dd1ce1385c208f.js  \n",
      "  inflating: /tmp/tmpxfu36gnb/har/37b1db88b57438f1072a8ebc7559c909c9d3a682.dat  \n",
      "  inflating: /tmp/tmpxfu36gnb/har/7f650ee30c6a4d3eea04032039b20ff72997559b.dat  \n",
      "  inflating: /tmp/tmpxfu36gnb/har/c273960aa874a87dd022b5e597887142f1b8e34f.js  \n",
      "  inflating: /tmp/tmpxfu36gnb/har/har.har  \n",
      "Archive:  result/result-20250610-144058/取りまとめ-拡張ストレージ-共通試験-Dropbox/har.zip\n",
      "  inflating: /tmp/tmpxfu36gnb/har/c6042da8a60ce6b529784b34894a17151b964130.html  \n",
      "  inflating: /tmp/tmpxfu36gnb/har/45d973cf07d81b69608c7630d45257a05417752e.js  \n",
      "  inflating: /tmp/tmpxfu36gnb/har/4b858fb28daf9f687fc54bdce74ae40451a9d883.css  \n",
      "  inflating: /tmp/tmpxfu36gnb/har/9c5c7c564f3c4fc9d1ea5465f8205c636c1955ba.css  \n",
      "  inflating: /tmp/tmpxfu36gnb/har/30fedc6c732ef68bff3ef42016c7610d70a00289.js  \n",
      "  inflating: /tmp/tmpxfu36gnb/har/141e23c01a8e3d83ec4addaf5586eac6f57768ab.js  \n",
      "  inflating: /tmp/tmpxfu36gnb/har/03fd3649109057e8401e0ca2083fee954f1141a2.css  \n",
      "  inflating: /tmp/tmpxfu36gnb/har/ac70c5dac8b83b410dd0ad0895341626d9070103.css  \n",
      "  inflating: /tmp/tmpxfu36gnb/har/7b4766f5ad599c8c54d19065f96c5113f6f61c7d.js  \n",
      "  inflating: /tmp/tmpxfu36gnb/har/cc8ce472e63a70511be95ffc2d56a4f74716c0f7.js  \n",
      "  inflating: /tmp/tmpxfu36gnb/har/634d8c0688a0044dee4511a0c5be92d2831c1b78.js  \n",
      "  inflating: /tmp/tmpxfu36gnb/har/208c3f5be21c3a09e6b5866c6587b33940238894.dat  \n",
      "  inflating: /tmp/tmpxfu36gnb/har/bd4fc25d773cc65ba5c1a679a5a0241ba59e34c5.bin  \n",
      "  inflating: /tmp/tmpxfu36gnb/har/efde85a932cb90b92f4cbf277feab09858446b25.bin  \n",
      "  inflating: /tmp/tmpxfu36gnb/har/37d52077436399326de54b8504d3698d7f72d4c6.bin  \n",
      "  inflating: /tmp/tmpxfu36gnb/har/3e16a3f1bf6709f9da36f797f8911cc30616e34b.css  \n",
      "  inflating: /tmp/tmpxfu36gnb/har/92bfffbe438d0c0189219f5d1e361420bcae6b9c.png  \n",
      "  inflating: /tmp/tmpxfu36gnb/har/93963fbd7accc0d8b69725e8277fe9e256f9934c.png  \n",
      "  inflating: /tmp/tmpxfu36gnb/har/e8b68397b3a6f7bc93a2cd8cebf97da2f9bbe6f9.png  \n",
      "  inflating: /tmp/tmpxfu36gnb/har/6d663d45b021e6cd59d3481dc383f1b7a3c1dd83.js  \n",
      "  inflating: /tmp/tmpxfu36gnb/har/b8dcaa1c866905c0bdb0b70c8e564ff1c3fe27ad.js  \n",
      "  inflating: /tmp/tmpxfu36gnb/har/45ab0412a1216c3377ff21d0a80eb6f84b98a036.dat  \n",
      "  inflating: /tmp/tmpxfu36gnb/har/2f8d53fe2255cbed9117de71b0e6dd773b9067f7.jpeg  \n",
      "  inflating: /tmp/tmpxfu36gnb/har/e5c5f3134fe29e60b591c87ea85951f0aea36ee1.dat  \n",
      "  inflating: /tmp/tmpxfu36gnb/har/d6f48cba7d076fb6f2fd6ba993a75b9dc1ecbf0c.woff2  \n",
      "  inflating: /tmp/tmpxfu36gnb/har/57c0ac17302d07bd4f968240098afe5ed53d4ad2.woff2  \n",
      "  inflating: /tmp/tmpxfu36gnb/har/cca86dfad8d944073f3274e3909868813a7aabac.png  \n",
      "  inflating: /tmp/tmpxfu36gnb/har/7d7ead24820dfc35ebe4eeee699e93be178ac821.html  \n",
      "  inflating: /tmp/tmpxfu36gnb/har/f332dfc9354d16776182025abb53c49847923126.css  \n",
      "  inflating: /tmp/tmpxfu36gnb/har/288e6f6c4bcaffbe78518a5a67fa3b6462e3c6db.png  \n",
      "  inflating: /tmp/tmpxfu36gnb/har/00cf56cb13b57f3ddf8ea1282e7b0165228c5851.dat  \n",
      "  inflating: /tmp/tmpxfu36gnb/har/8d7d47c5791757ffa103ec5f2df1f708cb19a1c3.html  \n",
      "  inflating: /tmp/tmpxfu36gnb/har/93664d58007434c67e25e222dd9d77311c49986d.css  \n",
      "  inflating: /tmp/tmpxfu36gnb/har/9d17d4504527855a1105fb64e2fb28acc66e39b9.dat  \n",
      "  inflating: /tmp/tmpxfu36gnb/har/09ac0680ebdb11766652b5325baac8d14eeb3925.html  \n",
      "  inflating: /tmp/tmpxfu36gnb/har/eb3c53a1f6d45eb31dbefb276e0bf84fdbf557d7.dat  \n",
      "  inflating: /tmp/tmpxfu36gnb/har/925a99e86f1cabfea7b346de8327c5492c95762e.dat  \n",
      "  inflating: /tmp/tmpxfu36gnb/har/8f068c4a049dd944f20c59262d052f0155a659d5.jpeg  \n",
      "  inflating: /tmp/tmpxfu36gnb/har/8bdc6d5c8a0a47e48f4b23babd86b61d28ede5a6.jpeg  \n",
      "  inflating: /tmp/tmpxfu36gnb/har/853a66bffc32d4690e98bf36c15201c0145003a1.dat  \n",
      "  inflating: /tmp/tmpxfu36gnb/har/8a73cd6fb9fab772c1015e0b2f82ff0d95bc8e9c.dat  \n",
      "  inflating: /tmp/tmpxfu36gnb/har/c1a60e644a8ae62240f92012e5edea5f1534abf4.dat  \n",
      "  inflating: /tmp/tmpxfu36gnb/har/46891b7df01be5497d7a18a281ba4e0ed168168b.dat  \n",
      "  inflating: /tmp/tmpxfu36gnb/har/c0de00d4a06b2ddce6e8b7f99293bf2c78792ee4.dat  \n",
      "  inflating: /tmp/tmpxfu36gnb/har/b59a426ff64525a470316439dedd9fd87ec61c31.dat  \n",
      "  inflating: /tmp/tmpxfu36gnb/har/dbe76df70d6b1bfa91241dd6e91ae572e06d1722.dat  \n",
      "  inflating: /tmp/tmpxfu36gnb/har/7be2f884ae96fa20bc421c840137f80030cb1cd8.dat  \n",
      "  inflating: /tmp/tmpxfu36gnb/har/e3cc5d54bab2085a8d265951a4a448853abd8043.dat  \n",
      "  inflating: /tmp/tmpxfu36gnb/har/b0c1fe89db2e060f8964dfbe82fae4f9e86d8558.html  \n",
      "  inflating: /tmp/tmpxfu36gnb/har/a88e504620db172b79f40e91b06baffb255293c9.css  \n",
      "  inflating: /tmp/tmpxfu36gnb/har/e1af5353a8df0f581629bb10bb32f2c52b366afb.js  \n",
      "  inflating: /tmp/tmpxfu36gnb/har/1055018c28ab41087ef9ccefe411606893dabea2.js  \n",
      "  inflating: /tmp/tmpxfu36gnb/har/45a1d3f956ba53dfef40f4deb084638fc634946b.js  \n",
      "  inflating: /tmp/tmpxfu36gnb/har/78489e580adaef931e6e5b131dab556c397e4a1a.js  \n",
      "  inflating: /tmp/tmpxfu36gnb/har/94222b6b082ace8180fcce9ecb0f352f2dd864b1.css  \n",
      "  inflating: /tmp/tmpxfu36gnb/har/6527d8bf3e1e9368bab8c7b60f56bc01fa3afd68.css  \n",
      "  inflating: /tmp/tmpxfu36gnb/har/ad5c78cf673301a8b4a730c3a3a29397556710b9.js  \n",
      "  inflating: /tmp/tmpxfu36gnb/har/901eda478667ec569dc20e57da792b03ea5c0554.js  \n",
      "  inflating: /tmp/tmpxfu36gnb/har/2837cacf240c28c24b81bfb7ff1ab71b37edb791.css  \n",
      "  inflating: /tmp/tmpxfu36gnb/har/26cf0847a511131fd0ede139138880021be4fa9e.css  \n",
      "  inflating: /tmp/tmpxfu36gnb/har/b79e3eea9a0dc18c2e6088c1522a02a0be3ea004.json  \n",
      "  inflating: /tmp/tmpxfu36gnb/har/1cf4dd4071fadfcc07892d68f09c34e5412c2c56.json  \n",
      "  inflating: /tmp/tmpxfu36gnb/har/61ca24b2459b4faf0a3644b3dc6a8aa8a3461592.json  \n",
      "  inflating: /tmp/tmpxfu36gnb/har/b286614a767c86a75059fb1d4557be706e7c3812.txt  \n",
      "  inflating: /tmp/tmpxfu36gnb/har/1ac1f4883614b1182868f7502c24a01293dcc0d5.json  \n",
      "  inflating: /tmp/tmpxfu36gnb/har/84ee4ef1353299b91cbfd9f2645c6946f546a7ed.json  \n",
      "  inflating: /tmp/tmpxfu36gnb/har/699404cbb1c95a77296bfe747d8bcd04fbf2d736.png  \n",
      "  inflating: /tmp/tmpxfu36gnb/har/ab18aa29d8475b690847d475e4147de98e57429e.png  \n",
      "  inflating: /tmp/tmpxfu36gnb/har/aa600f102ed8641ad1d6a64425de62dc7107234a.html  \n",
      "  inflating: /tmp/tmpxfu36gnb/har/5f1df09199f91d361d9421eb045c019862731a0d.png  \n",
      "  inflating: /tmp/tmpxfu36gnb/har/13538beed1e9f4dbc410a07583e1672f919b9284.png  \n",
      "  inflating: /tmp/tmpxfu36gnb/har/9b638436831b99156a5172b674d01f6a63a72a3e.png  \n",
      "  inflating: /tmp/tmpxfu36gnb/har/58a38174ffa4357e72bb743cf9b29a497f8e0182.png  \n",
      "  inflating: /tmp/tmpxfu36gnb/har/bf1784308561e7209e8aef15a236c5578a56531b.png  \n",
      "  inflating: /tmp/tmpxfu36gnb/har/3850ae8f4baa3ff72ded4175cb8ff32bd3bfb14b.png  \n",
      "  inflating: /tmp/tmpxfu36gnb/har/0637dcbabb1e4be1782e356af9acf2a8cd084e85.png  \n",
      "  inflating: /tmp/tmpxfu36gnb/har/02099ae94b5e82e6e97fc3505b654db67759281d.png  \n",
      "  inflating: /tmp/tmpxfu36gnb/har/bf9fb7544e82a3ed1f0c03a34ad8b33d6518e7ed.png  \n",
      "  inflating: /tmp/tmpxfu36gnb/har/805656e9640267eaf78eb65806792a18b97d6d2a.png  \n",
      "  inflating: /tmp/tmpxfu36gnb/har/67d90cdf681b4c211582d5a6e27ea47debaa4782.png  \n",
      "  inflating: /tmp/tmpxfu36gnb/har/738fbf16e47f3bbd1d926b06a182e5d149dcd29d.png  \n",
      "  inflating: /tmp/tmpxfu36gnb/har/71ba8b6ee07704229e06725408b3184ed06b2bc8.png  \n",
      "  inflating: /tmp/tmpxfu36gnb/har/7cfb8afb65b2bb941d0a2d998294148eb83c848d.png  \n",
      "  inflating: /tmp/tmpxfu36gnb/har/2c7da7492b1c2fa42c617d5853d030682a3bd978.png  \n",
      "  inflating: /tmp/tmpxfu36gnb/har/cf2b06dd69b2a257d5ad1474bd1a8af92649ff78.png  \n",
      "  inflating: /tmp/tmpxfu36gnb/har/57b01640daafa564286fb8241bad5eba5a28f58b.png  \n",
      "  inflating: /tmp/tmpxfu36gnb/har/a6fb59f871d9d6fecc2ccfe4bd13f3209a5d8e0b.png  \n",
      "  inflating: /tmp/tmpxfu36gnb/har/68fac98ae7f6e5e8f17ae914b5a1ac844cbb0cb1.png  \n",
      "  inflating: /tmp/tmpxfu36gnb/har/dd8b78ffb95eb33bc3d65603ccb4321b98d0b86f.js  \n",
      "  inflating: /tmp/tmpxfu36gnb/har/b29981f44319c24603dbb852e870028b8852c7b1.js  \n",
      "  inflating: /tmp/tmpxfu36gnb/har/5b227e8eec48e5573a342292f5b72eeceb8b29e6.js  \n",
      "  inflating: /tmp/tmpxfu36gnb/har/d83d25e9b9ce2ee7dac77ff08ffa7406d4b135bd.js  \n",
      "  inflating: /tmp/tmpxfu36gnb/har/ed24a643a7c25f33a1ebe8267b7e0d57c086525a.js  \n",
      "  inflating: /tmp/tmpxfu36gnb/har/fdeb037dc9a1d9d666f7a912520c015fd5275749.js  \n",
      "  inflating: /tmp/tmpxfu36gnb/har/90f59024bad9140ccda0bf405cbc30fb8942a458.js  \n",
      "  inflating: /tmp/tmpxfu36gnb/har/d87831747c4f67918e91afc11a2882c1d62aba24.js  \n",
      "  inflating: /tmp/tmpxfu36gnb/har/9743a809e99b86447834c08d8e40f6e69c4881c4.js  \n",
      "  inflating: /tmp/tmpxfu36gnb/har/5a1798112eccd1a5acc0ac102f57507f31928897.js  \n",
      "  inflating: /tmp/tmpxfu36gnb/har/261e877274f021c8a81dcfa61f3e944f0812afef.js  \n",
      "  inflating: /tmp/tmpxfu36gnb/har/d2fd55904ffa8f7ace184efdc95fee2f69c01350.js  \n",
      "  inflating: /tmp/tmpxfu36gnb/har/a2009a9d15b93105d831554601eb15b87fe9cc48.js  \n",
      "  inflating: /tmp/tmpxfu36gnb/har/b11681a4b425e608d5e1fe1fb5b7f60bd2fce907.json  \n",
      "  inflating: /tmp/tmpxfu36gnb/har/3371529de52d37519f94f316907df7d7f07dbcba.json  \n",
      "  inflating: /tmp/tmpxfu36gnb/har/82eea9377e5ccf367ebb4e47290de0c4fd995d33.json  \n",
      "  inflating: /tmp/tmpxfu36gnb/har/3a08fc57d1d242de40a1d3a8308b041832e5ce89.json  \n",
      "  inflating: /tmp/tmpxfu36gnb/har/f9066abe66b0ea4b691887a507946cd70eb5deec.json  \n",
      "  inflating: /tmp/tmpxfu36gnb/har/d4358a1d9450b04da3245a34cd6573ee6143cba3.json  \n",
      "  inflating: /tmp/tmpxfu36gnb/har/9f514089cf6d500d75a1e1eeb2734fdb60ac4a4d.json  \n",
      "  inflating: /tmp/tmpxfu36gnb/har/c4ba74c5b48bb97e925fdebc21352d157e4866c7.json  \n",
      "  inflating: /tmp/tmpxfu36gnb/har/2be88ca4242c76e8253ac62474851065032d6833.json  \n",
      "  inflating: /tmp/tmpxfu36gnb/har/e1a2e379c21d24f59e781adcb6d8a944376a13f2.json  \n",
      "  inflating: /tmp/tmpxfu36gnb/har/har.har  \n",
      "Archive:  result/result-20250610-144058/取りまとめ-Metadataアドオン/har.zip\n",
      "  inflating: /tmp/tmpxfu36gnb/har/c6042da8a60ce6b529784b34894a17151b964130.html  \n",
      "  inflating: /tmp/tmpxfu36gnb/har/45d973cf07d81b69608c7630d45257a05417752e.js  \n",
      "  inflating: /tmp/tmpxfu36gnb/har/4b858fb28daf9f687fc54bdce74ae40451a9d883.css  \n",
      "  inflating: /tmp/tmpxfu36gnb/har/30fedc6c732ef68bff3ef42016c7610d70a00289.js  \n",
      "  inflating: /tmp/tmpxfu36gnb/har/7b4766f5ad599c8c54d19065f96c5113f6f61c7d.js  \n",
      "  inflating: /tmp/tmpxfu36gnb/har/9c5c7c564f3c4fc9d1ea5465f8205c636c1955ba.css  \n",
      "  inflating: /tmp/tmpxfu36gnb/har/141e23c01a8e3d83ec4addaf5586eac6f57768ab.js  \n",
      "  inflating: /tmp/tmpxfu36gnb/har/ac70c5dac8b83b410dd0ad0895341626d9070103.css  \n",
      "  inflating: /tmp/tmpxfu36gnb/har/03fd3649109057e8401e0ca2083fee954f1141a2.css  \n",
      "  inflating: /tmp/tmpxfu36gnb/har/cc8ce472e63a70511be95ffc2d56a4f74716c0f7.js  \n",
      "  inflating: /tmp/tmpxfu36gnb/har/634d8c0688a0044dee4511a0c5be92d2831c1b78.js  \n",
      "  inflating: /tmp/tmpxfu36gnb/har/208c3f5be21c3a09e6b5866c6587b33940238894.dat  \n",
      "  inflating: /tmp/tmpxfu36gnb/har/bd4fc25d773cc65ba5c1a679a5a0241ba59e34c5.bin  \n",
      "  inflating: /tmp/tmpxfu36gnb/har/efde85a932cb90b92f4cbf277feab09858446b25.bin  \n",
      "  inflating: /tmp/tmpxfu36gnb/har/37d52077436399326de54b8504d3698d7f72d4c6.bin  \n",
      "  inflating: /tmp/tmpxfu36gnb/har/3e16a3f1bf6709f9da36f797f8911cc30616e34b.css  \n",
      "  inflating: /tmp/tmpxfu36gnb/har/92bfffbe438d0c0189219f5d1e361420bcae6b9c.png  \n",
      "  inflating: /tmp/tmpxfu36gnb/har/93963fbd7accc0d8b69725e8277fe9e256f9934c.png  \n",
      "  inflating: /tmp/tmpxfu36gnb/har/e8b68397b3a6f7bc93a2cd8cebf97da2f9bbe6f9.png  \n",
      "  inflating: /tmp/tmpxfu36gnb/har/2f8d53fe2255cbed9117de71b0e6dd773b9067f7.jpeg  \n",
      "  inflating: /tmp/tmpxfu36gnb/har/6d663d45b021e6cd59d3481dc383f1b7a3c1dd83.js  \n",
      "  inflating: /tmp/tmpxfu36gnb/har/b8dcaa1c866905c0bdb0b70c8e564ff1c3fe27ad.js  \n",
      "  inflating: /tmp/tmpxfu36gnb/har/45ab0412a1216c3377ff21d0a80eb6f84b98a036.dat  \n",
      "  inflating: /tmp/tmpxfu36gnb/har/d6f48cba7d076fb6f2fd6ba993a75b9dc1ecbf0c.woff2  \n",
      "  inflating: /tmp/tmpxfu36gnb/har/e5c5f3134fe29e60b591c87ea85951f0aea36ee1.dat  \n",
      "  inflating: /tmp/tmpxfu36gnb/har/57c0ac17302d07bd4f968240098afe5ed53d4ad2.woff2  \n",
      "  inflating: /tmp/tmpxfu36gnb/har/cca86dfad8d944073f3274e3909868813a7aabac.png  \n",
      "  inflating: /tmp/tmpxfu36gnb/har/7d7ead24820dfc35ebe4eeee699e93be178ac821.html  \n",
      "  inflating: /tmp/tmpxfu36gnb/har/f332dfc9354d16776182025abb53c49847923126.css  \n",
      "  inflating: /tmp/tmpxfu36gnb/har/288e6f6c4bcaffbe78518a5a67fa3b6462e3c6db.png  \n",
      "  inflating: /tmp/tmpxfu36gnb/har/00cf56cb13b57f3ddf8ea1282e7b0165228c5851.dat  \n",
      "  inflating: /tmp/tmpxfu36gnb/har/93664d58007434c67e25e222dd9d77311c49986d.css  \n",
      "  inflating: /tmp/tmpxfu36gnb/har/8d7d47c5791757ffa103ec5f2df1f708cb19a1c3.html  \n",
      "  inflating: /tmp/tmpxfu36gnb/har/9d17d4504527855a1105fb64e2fb28acc66e39b9.dat  \n",
      "  inflating: /tmp/tmpxfu36gnb/har/cfdc9edabe0c48d23f574f3272b0af7d01623edb.html  \n",
      "  inflating: /tmp/tmpxfu36gnb/har/201ef9f8e2ca7a4a4dcab8a366fd9458095c8bd5.dat  \n",
      "  inflating: /tmp/tmpxfu36gnb/har/925a99e86f1cabfea7b346de8327c5492c95762e.dat  \n",
      "  inflating: /tmp/tmpxfu36gnb/har/8f068c4a049dd944f20c59262d052f0155a659d5.jpeg  \n",
      "  inflating: /tmp/tmpxfu36gnb/har/8bdc6d5c8a0a47e48f4b23babd86b61d28ede5a6.jpeg  \n",
      "  inflating: /tmp/tmpxfu36gnb/har/853a66bffc32d4690e98bf36c15201c0145003a1.dat  \n",
      "  inflating: /tmp/tmpxfu36gnb/har/8a73cd6fb9fab772c1015e0b2f82ff0d95bc8e9c.dat  \n",
      "  inflating: /tmp/tmpxfu36gnb/har/c1a60e644a8ae62240f92012e5edea5f1534abf4.dat  \n",
      "  inflating: /tmp/tmpxfu36gnb/har/a50bbc3bd3a0fda5d1f15b13314f9078f100267f.dat  \n",
      "  inflating: /tmp/tmpxfu36gnb/har/c0de00d4a06b2ddce6e8b7f99293bf2c78792ee4.dat  \n",
      "  inflating: /tmp/tmpxfu36gnb/har/b59a426ff64525a470316439dedd9fd87ec61c31.dat  \n",
      "  inflating: /tmp/tmpxfu36gnb/har/279c74456b9160fd2c8e6535d0f5fa20484cb3db.dat  \n",
      "  inflating: /tmp/tmpxfu36gnb/har/7be2f884ae96fa20bc421c840137f80030cb1cd8.dat  \n",
      "  inflating: /tmp/tmpxfu36gnb/har/e3cc5d54bab2085a8d265951a4a448853abd8043.dat  \n",
      "  inflating: /tmp/tmpxfu36gnb/har/e8fe6e59b86e508455041b0eeef9b49ef0744b94.html  \n",
      "  inflating: /tmp/tmpxfu36gnb/har/3d2ee6d93a1c151c66ee328505d5874c2f515660.png  \n",
      "  inflating: /tmp/tmpxfu36gnb/har/5484c5cd6a1c5c1132d57af29bfd75fab06f10cf.css  \n",
      "  inflating: /tmp/tmpxfu36gnb/har/a88e504620db172b79f40e91b06baffb255293c9.css  \n",
      "  inflating: /tmp/tmpxfu36gnb/har/e1af5353a8df0f581629bb10bb32f2c52b366afb.js  \n",
      "  inflating: /tmp/tmpxfu36gnb/har/1055018c28ab41087ef9ccefe411606893dabea2.js  \n",
      "  inflating: /tmp/tmpxfu36gnb/har/78489e580adaef931e6e5b131dab556c397e4a1a.js  \n",
      "  inflating: /tmp/tmpxfu36gnb/har/94222b6b082ace8180fcce9ecb0f352f2dd864b1.css  \n",
      "  inflating: /tmp/tmpxfu36gnb/har/6527d8bf3e1e9368bab8c7b60f56bc01fa3afd68.css  \n",
      "  inflating: /tmp/tmpxfu36gnb/har/901eda478667ec569dc20e57da792b03ea5c0554.js  \n",
      "  inflating: /tmp/tmpxfu36gnb/har/60865dad21fc9ad16c536e652692818dbd265a81.js  \n",
      "  inflating: /tmp/tmpxfu36gnb/har/691adbfde1b0f4b02cce49363378e786f7bee086.css  \n",
      "  inflating: /tmp/tmpxfu36gnb/har/45a1d3f956ba53dfef40f4deb084638fc634946b.js  \n",
      "  inflating: /tmp/tmpxfu36gnb/har/0bd3600f0aefc845870583be41378f1c378fd855.js  \n",
      "  inflating: /tmp/tmpxfu36gnb/har/b672e4e5a3d6b38e26299eb71caa8e939900d090.js  \n",
      "  inflating: /tmp/tmpxfu36gnb/har/8b72e446cb6e9c7cd5b249d9122355668dcf0a2c.js  \n",
      "  inflating: /tmp/tmpxfu36gnb/har/e42e315f3c076f13d65ed477d699f291d2985b80.js  \n",
      "  inflating: /tmp/tmpxfu36gnb/har/b53a4036030437724a88842d7f9157b29f315e96.js  \n",
      "  inflating: /tmp/tmpxfu36gnb/har/b41e817013a586e8968422feba7e173c92adbdf3.js  \n",
      "  inflating: /tmp/tmpxfu36gnb/har/860aad9149b9d14f8a67d6fa4869b4e7e5706988.js  \n",
      "  inflating: /tmp/tmpxfu36gnb/har/ac35c6f134fd2a78b41058e4344b86dc882c5e37.js  \n",
      "  inflating: /tmp/tmpxfu36gnb/har/90d6cd5fa1c30ca9695ace9e9d79913af08046be.js  \n",
      "  inflating: /tmp/tmpxfu36gnb/har/b56c06a66537fbca7bf5d23e3c9788564f7c70b2.js  \n",
      "  inflating: /tmp/tmpxfu36gnb/har/c7d8d9f09a8653bb3559405bbace3b41572e0c96.js  \n",
      "  inflating: /tmp/tmpxfu36gnb/har/ec24339bdfbdcf33357052052f44e4d2ac2a74fa.js  \n",
      "  inflating: /tmp/tmpxfu36gnb/har/3664d02f6cd413afa2d7b935daae02da99536c21.js  \n",
      "  inflating: /tmp/tmpxfu36gnb/har/dc6c09dd4c66a9014de08bb8421788731d62ba8f.js  \n",
      "  inflating: /tmp/tmpxfu36gnb/har/23bb8993da3aaade4029c57d3805145768782426.js  \n",
      "  inflating: /tmp/tmpxfu36gnb/har/3590c7c6fd7ba5e4c33453c8b48568ad63f5ffc7.js  \n",
      "  inflating: /tmp/tmpxfu36gnb/har/daccb872eb5049203c3992e18e1a7c8c4a0eedfb.js  \n",
      "  inflating: /tmp/tmpxfu36gnb/har/cef7e5e724ec43ea7cdf98eed8c2fc343be0896f.js  \n",
      "  inflating: /tmp/tmpxfu36gnb/har/800000cacd783480eb92ed831dd4b4520fbcac38.js  \n",
      "  inflating: /tmp/tmpxfu36gnb/har/c74cfdd1fb9c20aeca1d1dbb97ab877f7577c038.js  \n",
      "  inflating: /tmp/tmpxfu36gnb/har/95bf665aa24efd6fc0534665a109c1e936fe9872.js  \n",
      "  inflating: /tmp/tmpxfu36gnb/har/b286614a767c86a75059fb1d4557be706e7c3812.txt  \n",
      "  inflating: /tmp/tmpxfu36gnb/har/746614a2aebf040108cbb34d4955c4b43508b39d.dat  \n",
      "  inflating: /tmp/tmpxfu36gnb/har/278652389e12ac82d2fb5dbb58330b4a103d5663.png  \n",
      "  inflating: /tmp/tmpxfu36gnb/har/bc8f075a052f686b54a4105476a7155b5a793080.json  \n",
      "  inflating: /tmp/tmpxfu36gnb/har/2712792df35e2ce9b9182b27a745563514badcb8.dat  \n",
      "  inflating: /tmp/tmpxfu36gnb/har/4ba659d1124a129d9892dc376ad7731be9fafbf2.dat  \n",
      "  inflating: /tmp/tmpxfu36gnb/har/7cddc8edf07ea290e1d7881ec1354cec3237e2f1.json  \n",
      "  inflating: /tmp/tmpxfu36gnb/har/6b36c8b47becc22b153f50d4f48bad306a881a92.png  \n",
      "  inflating: /tmp/tmpxfu36gnb/har/d2d0c781ece27756a807579bd74721fe5a27886c.png  \n",
      "  inflating: /tmp/tmpxfu36gnb/har/59b22eb4a7d3317d83c8bc898a8301f1fde9b58d.dat  \n",
      "  inflating: /tmp/tmpxfu36gnb/har/fd44a5705594028c5f7f69bb4508cc49c3b049a2.css  \n",
      "  inflating: /tmp/tmpxfu36gnb/har/574b09d82318c51903c4828c88f9fbe6eaa023b6.css  \n",
      "  inflating: /tmp/tmpxfu36gnb/har/e2ab424670a6cf0ac0574e114ab5aa4f243e1988.html  \n",
      "  inflating: /tmp/tmpxfu36gnb/har/2fb3f87ac958da430b669c589181c370397cb3aa.js  \n",
      "  inflating: /tmp/tmpxfu36gnb/har/02c7f8fcc9b984d76a4af40e830fc41c8352e3b9.js  \n",
      "  inflating: /tmp/tmpxfu36gnb/har/84def6d41a8fd1b277ca5f21b25468a3f1de546b.js  \n",
      "  inflating: /tmp/tmpxfu36gnb/har/86af460a6ca2ccf7eb6551939657a4ee6c7cde66.json  \n",
      "  inflating: /tmp/tmpxfu36gnb/har/a1549173246630755e2c0bda9ab99bab4e79a0a8.json  \n",
      "  inflating: /tmp/tmpxfu36gnb/har/1390bb88ebcb1a55fc80c7be7a1c6ad7c1da4c87.json  \n",
      "  inflating: /tmp/tmpxfu36gnb/har/2bf15157efb45c6de2d066439e81d4e3baf42077.json  \n",
      "  inflating: /tmp/tmpxfu36gnb/har/f95506c1f424fa77b16a00bebf0523083ec35542.json  \n",
      "  inflating: /tmp/tmpxfu36gnb/har/093d8ab1e395e6083f8d807dc0f99de9f52a633a.json  \n",
      "  inflating: /tmp/tmpxfu36gnb/har/89913857ef1c508dc6026a0584fa13be6d2854d9.dat  \n",
      "  inflating: /tmp/tmpxfu36gnb/har/46891b7df01be5497d7a18a281ba4e0ed168168b.dat  \n",
      "  inflating: /tmp/tmpxfu36gnb/har/dbe76df70d6b1bfa91241dd6e91ae572e06d1722.dat  \n",
      "  inflating: /tmp/tmpxfu36gnb/har/3d7ffae5a94861376cc72087b3e94d18e7a0ff75.dat  \n",
      "  inflating: /tmp/tmpxfu36gnb/har/har.har  \n",
      "Archive:  result/result-20250610-144058/テスト手順-未ログイン/har.zip\n",
      "  inflating: /tmp/tmpxfu36gnb/har/c6042da8a60ce6b529784b34894a17151b964130.html  \n",
      "  inflating: /tmp/tmpxfu36gnb/har/4b858fb28daf9f687fc54bdce74ae40451a9d883.css  \n",
      "  inflating: /tmp/tmpxfu36gnb/har/9c5c7c564f3c4fc9d1ea5465f8205c636c1955ba.css  \n",
      "  inflating: /tmp/tmpxfu36gnb/har/45d973cf07d81b69608c7630d45257a05417752e.js  \n",
      "  inflating: /tmp/tmpxfu36gnb/har/7b4766f5ad599c8c54d19065f96c5113f6f61c7d.js  \n",
      "  inflating: /tmp/tmpxfu36gnb/har/30fedc6c732ef68bff3ef42016c7610d70a00289.js  \n",
      "  inflating: /tmp/tmpxfu36gnb/har/03fd3649109057e8401e0ca2083fee954f1141a2.css  \n",
      "  inflating: /tmp/tmpxfu36gnb/har/ac70c5dac8b83b410dd0ad0895341626d9070103.css  \n",
      "  inflating: /tmp/tmpxfu36gnb/har/cc8ce472e63a70511be95ffc2d56a4f74716c0f7.js  \n",
      "  inflating: /tmp/tmpxfu36gnb/har/141e23c01a8e3d83ec4addaf5586eac6f57768ab.js  \n",
      "  inflating: /tmp/tmpxfu36gnb/har/634d8c0688a0044dee4511a0c5be92d2831c1b78.js  \n",
      "  inflating: /tmp/tmpxfu36gnb/har/208c3f5be21c3a09e6b5866c6587b33940238894.dat  \n",
      "  inflating: /tmp/tmpxfu36gnb/har/bd4fc25d773cc65ba5c1a679a5a0241ba59e34c5.bin  \n",
      "  inflating: /tmp/tmpxfu36gnb/har/efde85a932cb90b92f4cbf277feab09858446b25.bin  \n",
      "  inflating: /tmp/tmpxfu36gnb/har/37d52077436399326de54b8504d3698d7f72d4c6.bin  \n",
      "  inflating: /tmp/tmpxfu36gnb/har/3e16a3f1bf6709f9da36f797f8911cc30616e34b.css  \n",
      "  inflating: /tmp/tmpxfu36gnb/har/92bfffbe438d0c0189219f5d1e361420bcae6b9c.png  \n",
      "  inflating: /tmp/tmpxfu36gnb/har/93963fbd7accc0d8b69725e8277fe9e256f9934c.png  \n",
      "  inflating: /tmp/tmpxfu36gnb/har/e8b68397b3a6f7bc93a2cd8cebf97da2f9bbe6f9.png  \n",
      "  inflating: /tmp/tmpxfu36gnb/har/2f8d53fe2255cbed9117de71b0e6dd773b9067f7.jpeg  \n",
      "  inflating: /tmp/tmpxfu36gnb/har/6d663d45b021e6cd59d3481dc383f1b7a3c1dd83.js  \n",
      "  inflating: /tmp/tmpxfu36gnb/har/b8dcaa1c866905c0bdb0b70c8e564ff1c3fe27ad.js  \n",
      "  inflating: /tmp/tmpxfu36gnb/har/45ab0412a1216c3377ff21d0a80eb6f84b98a036.dat  \n",
      "  inflating: /tmp/tmpxfu36gnb/har/e5c5f3134fe29e60b591c87ea85951f0aea36ee1.dat  \n",
      "  inflating: /tmp/tmpxfu36gnb/har/d6f48cba7d076fb6f2fd6ba993a75b9dc1ecbf0c.woff2  \n",
      "  inflating: /tmp/tmpxfu36gnb/har/57c0ac17302d07bd4f968240098afe5ed53d4ad2.woff2  \n",
      "  inflating: /tmp/tmpxfu36gnb/har/cca86dfad8d944073f3274e3909868813a7aabac.png  \n",
      "  inflating: /tmp/tmpxfu36gnb/har/2c4bf271827981963e92127c090efbcb7c15161f.html  \n",
      "  inflating: /tmp/tmpxfu36gnb/har/ac23568a3e4dffba7830bb46b96461974f611125.css  \n",
      "  inflating: /tmp/tmpxfu36gnb/har/6ed002d41313e56e32763e2ee4451a602743f0a9.js  \n",
      "  inflating: /tmp/tmpxfu36gnb/har/95c9de30444117adbbb3218070fda00af187a76a.js  \n",
      "  inflating: /tmp/tmpxfu36gnb/har/9064189f1bfe0d656c2d0d77aaad58e9d4ea1ab8.js  \n",
      "  inflating: /tmp/tmpxfu36gnb/har/581e91045e01f1cd5e4a62cda118bd8844387b6b.js  \n",
      "  inflating: /tmp/tmpxfu36gnb/har/aedef400252bc9b3e26d9ba8529ed388706def18.dat  \n",
      "  inflating: /tmp/tmpxfu36gnb/har/8a7b4ae1d411748c8a827094c1dd1ce1385c208f.js  \n",
      "  inflating: /tmp/tmpxfu36gnb/har/37b1db88b57438f1072a8ebc7559c909c9d3a682.dat  \n",
      "  inflating: /tmp/tmpxfu36gnb/har/7f650ee30c6a4d3eea04032039b20ff72997559b.dat  \n",
      "  inflating: /tmp/tmpxfu36gnb/har/c273960aa874a87dd022b5e597887142f1b8e34f.js  \n",
      "  inflating: /tmp/tmpxfu36gnb/har/har.har  \n",
      "Archive:  result/result-20250610-144058/取りまとめ-S3共通-Amazon S3/har.zip\n",
      "  inflating: /tmp/tmpxfu36gnb/har/c6042da8a60ce6b529784b34894a17151b964130.html  \n",
      "  inflating: /tmp/tmpxfu36gnb/har/4b858fb28daf9f687fc54bdce74ae40451a9d883.css  \n",
      "  inflating: /tmp/tmpxfu36gnb/har/45d973cf07d81b69608c7630d45257a05417752e.js  \n",
      "  inflating: /tmp/tmpxfu36gnb/har/9c5c7c564f3c4fc9d1ea5465f8205c636c1955ba.css  \n",
      "  inflating: /tmp/tmpxfu36gnb/har/30fedc6c732ef68bff3ef42016c7610d70a00289.js  \n",
      "  inflating: /tmp/tmpxfu36gnb/har/7b4766f5ad599c8c54d19065f96c5113f6f61c7d.js  \n",
      "  inflating: /tmp/tmpxfu36gnb/har/141e23c01a8e3d83ec4addaf5586eac6f57768ab.js  \n",
      "  inflating: /tmp/tmpxfu36gnb/har/ac70c5dac8b83b410dd0ad0895341626d9070103.css  \n",
      "  inflating: /tmp/tmpxfu36gnb/har/03fd3649109057e8401e0ca2083fee954f1141a2.css  \n",
      "  inflating: /tmp/tmpxfu36gnb/har/634d8c0688a0044dee4511a0c5be92d2831c1b78.js  \n",
      "  inflating: /tmp/tmpxfu36gnb/har/cc8ce472e63a70511be95ffc2d56a4f74716c0f7.js  \n",
      "  inflating: /tmp/tmpxfu36gnb/har/208c3f5be21c3a09e6b5866c6587b33940238894.dat  \n",
      "  inflating: /tmp/tmpxfu36gnb/har/bd4fc25d773cc65ba5c1a679a5a0241ba59e34c5.bin  \n",
      "  inflating: /tmp/tmpxfu36gnb/har/efde85a932cb90b92f4cbf277feab09858446b25.bin  \n",
      "  inflating: /tmp/tmpxfu36gnb/har/37d52077436399326de54b8504d3698d7f72d4c6.bin  \n",
      "  inflating: /tmp/tmpxfu36gnb/har/3e16a3f1bf6709f9da36f797f8911cc30616e34b.css  \n",
      "  inflating: /tmp/tmpxfu36gnb/har/92bfffbe438d0c0189219f5d1e361420bcae6b9c.png  \n",
      "  inflating: /tmp/tmpxfu36gnb/har/93963fbd7accc0d8b69725e8277fe9e256f9934c.png  \n",
      "  inflating: /tmp/tmpxfu36gnb/har/e8b68397b3a6f7bc93a2cd8cebf97da2f9bbe6f9.png  \n",
      "  inflating: /tmp/tmpxfu36gnb/har/2f8d53fe2255cbed9117de71b0e6dd773b9067f7.jpeg  \n",
      "  inflating: /tmp/tmpxfu36gnb/har/6d663d45b021e6cd59d3481dc383f1b7a3c1dd83.js  \n",
      "  inflating: /tmp/tmpxfu36gnb/har/b8dcaa1c866905c0bdb0b70c8e564ff1c3fe27ad.js  \n",
      "  inflating: /tmp/tmpxfu36gnb/har/45ab0412a1216c3377ff21d0a80eb6f84b98a036.dat  \n",
      "  inflating: /tmp/tmpxfu36gnb/har/d6f48cba7d076fb6f2fd6ba993a75b9dc1ecbf0c.woff2  \n",
      "  inflating: /tmp/tmpxfu36gnb/har/e5c5f3134fe29e60b591c87ea85951f0aea36ee1.dat  \n",
      "  inflating: /tmp/tmpxfu36gnb/har/57c0ac17302d07bd4f968240098afe5ed53d4ad2.woff2  \n",
      "  inflating: /tmp/tmpxfu36gnb/har/cca86dfad8d944073f3274e3909868813a7aabac.png  \n",
      "  inflating: /tmp/tmpxfu36gnb/har/7d7ead24820dfc35ebe4eeee699e93be178ac821.html  \n",
      "  inflating: /tmp/tmpxfu36gnb/har/f332dfc9354d16776182025abb53c49847923126.css  \n",
      "  inflating: /tmp/tmpxfu36gnb/har/288e6f6c4bcaffbe78518a5a67fa3b6462e3c6db.png  \n",
      "  inflating: /tmp/tmpxfu36gnb/har/00cf56cb13b57f3ddf8ea1282e7b0165228c5851.dat  \n",
      "  inflating: /tmp/tmpxfu36gnb/har/8d7d47c5791757ffa103ec5f2df1f708cb19a1c3.html  \n",
      "  inflating: /tmp/tmpxfu36gnb/har/93664d58007434c67e25e222dd9d77311c49986d.css  \n",
      "  inflating: /tmp/tmpxfu36gnb/har/9d17d4504527855a1105fb64e2fb28acc66e39b9.dat  \n",
      "  inflating: /tmp/tmpxfu36gnb/har/b81b46deab91d732487331c84f370660c5ff76dc.dat  \n",
      "  inflating: /tmp/tmpxfu36gnb/har/f5104c685b85189ff71e993059a595a7cf9f62a2.html  \n",
      "  inflating: /tmp/tmpxfu36gnb/har/925a99e86f1cabfea7b346de8327c5492c95762e.dat  \n",
      "  inflating: /tmp/tmpxfu36gnb/har/8f068c4a049dd944f20c59262d052f0155a659d5.jpeg  \n",
      "  inflating: /tmp/tmpxfu36gnb/har/8bdc6d5c8a0a47e48f4b23babd86b61d28ede5a6.jpeg  \n",
      "  inflating: /tmp/tmpxfu36gnb/har/853a66bffc32d4690e98bf36c15201c0145003a1.dat  \n",
      "  inflating: /tmp/tmpxfu36gnb/har/8a73cd6fb9fab772c1015e0b2f82ff0d95bc8e9c.dat  \n",
      "  inflating: /tmp/tmpxfu36gnb/har/c1a60e644a8ae62240f92012e5edea5f1534abf4.dat  \n",
      "  inflating: /tmp/tmpxfu36gnb/har/b5a55ce4c35dc1b2dcad8d24f69728ec1a58680e.dat  \n",
      "  inflating: /tmp/tmpxfu36gnb/har/c0de00d4a06b2ddce6e8b7f99293bf2c78792ee4.dat  \n",
      "  inflating: /tmp/tmpxfu36gnb/har/3e6f1f7325c8cfde9280f0d451f427e74712d33e.dat  \n",
      "  inflating: /tmp/tmpxfu36gnb/har/21fe28fa3d24ab231536da492c0834b05e8cb1a2.dat  \n",
      "  inflating: /tmp/tmpxfu36gnb/har/6d3b101d90cae26ca8567ca9ddd75df7d3ca4b5b.dat  \n",
      "  inflating: /tmp/tmpxfu36gnb/har/e3cc5d54bab2085a8d265951a4a448853abd8043.dat  \n",
      "  inflating: /tmp/tmpxfu36gnb/har/c2f0603befad889638ce4663c5562164a9121113.dat  \n",
      "  inflating: /tmp/tmpxfu36gnb/har/00d8173ed6cce689a5cb3bc6eefa4135d0a6fd1b.dat  \n",
      "  inflating: /tmp/tmpxfu36gnb/har/b0c1fe89db2e060f8964dfbe82fae4f9e86d8558.html  \n",
      "  inflating: /tmp/tmpxfu36gnb/har/a88e504620db172b79f40e91b06baffb255293c9.css  \n",
      "  inflating: /tmp/tmpxfu36gnb/har/45a1d3f956ba53dfef40f4deb084638fc634946b.js  \n",
      "  inflating: /tmp/tmpxfu36gnb/har/e1af5353a8df0f581629bb10bb32f2c52b366afb.js  \n",
      "  inflating: /tmp/tmpxfu36gnb/har/94222b6b082ace8180fcce9ecb0f352f2dd864b1.css  \n",
      "  inflating: /tmp/tmpxfu36gnb/har/1055018c28ab41087ef9ccefe411606893dabea2.js  \n",
      "  inflating: /tmp/tmpxfu36gnb/har/78489e580adaef931e6e5b131dab556c397e4a1a.js  \n",
      "  inflating: /tmp/tmpxfu36gnb/har/6527d8bf3e1e9368bab8c7b60f56bc01fa3afd68.css  \n",
      "  inflating: /tmp/tmpxfu36gnb/har/ad5c78cf673301a8b4a730c3a3a29397556710b9.js  \n",
      "  inflating: /tmp/tmpxfu36gnb/har/901eda478667ec569dc20e57da792b03ea5c0554.js  \n",
      "  inflating: /tmp/tmpxfu36gnb/har/2837cacf240c28c24b81bfb7ff1ab71b37edb791.css  \n",
      "  inflating: /tmp/tmpxfu36gnb/har/26cf0847a511131fd0ede139138880021be4fa9e.css  \n",
      "  inflating: /tmp/tmpxfu36gnb/har/b79e3eea9a0dc18c2e6088c1522a02a0be3ea004.json  \n",
      "  inflating: /tmp/tmpxfu36gnb/har/61ca24b2459b4faf0a3644b3dc6a8aa8a3461592.json  \n",
      "  inflating: /tmp/tmpxfu36gnb/har/1cf4dd4071fadfcc07892d68f09c34e5412c2c56.json  \n",
      "  inflating: /tmp/tmpxfu36gnb/har/b286614a767c86a75059fb1d4557be706e7c3812.txt  \n",
      "  inflating: /tmp/tmpxfu36gnb/har/1ac1f4883614b1182868f7502c24a01293dcc0d5.json  \n",
      "  inflating: /tmp/tmpxfu36gnb/har/84ee4ef1353299b91cbfd9f2645c6946f546a7ed.json  \n",
      "  inflating: /tmp/tmpxfu36gnb/har/699404cbb1c95a77296bfe747d8bcd04fbf2d736.png  \n",
      "  inflating: /tmp/tmpxfu36gnb/har/ab18aa29d8475b690847d475e4147de98e57429e.png  \n",
      "  inflating: /tmp/tmpxfu36gnb/har/aa600f102ed8641ad1d6a64425de62dc7107234a.html  \n",
      "  inflating: /tmp/tmpxfu36gnb/har/5f1df09199f91d361d9421eb045c019862731a0d.png  \n",
      "  inflating: /tmp/tmpxfu36gnb/har/13538beed1e9f4dbc410a07583e1672f919b9284.png  \n",
      "  inflating: /tmp/tmpxfu36gnb/har/9b638436831b99156a5172b674d01f6a63a72a3e.png  \n",
      "  inflating: /tmp/tmpxfu36gnb/har/3850ae8f4baa3ff72ded4175cb8ff32bd3bfb14b.png  \n",
      "  inflating: /tmp/tmpxfu36gnb/har/58a38174ffa4357e72bb743cf9b29a497f8e0182.png  \n",
      "  inflating: /tmp/tmpxfu36gnb/har/0637dcbabb1e4be1782e356af9acf2a8cd084e85.png  \n",
      "  inflating: /tmp/tmpxfu36gnb/har/805656e9640267eaf78eb65806792a18b97d6d2a.png  \n",
      "  inflating: /tmp/tmpxfu36gnb/har/67d90cdf681b4c211582d5a6e27ea47debaa4782.png  \n",
      "  inflating: /tmp/tmpxfu36gnb/har/bf1784308561e7209e8aef15a236c5578a56531b.png  \n",
      "  inflating: /tmp/tmpxfu36gnb/har/bf9fb7544e82a3ed1f0c03a34ad8b33d6518e7ed.png  \n",
      "  inflating: /tmp/tmpxfu36gnb/har/02099ae94b5e82e6e97fc3505b654db67759281d.png  \n",
      "  inflating: /tmp/tmpxfu36gnb/har/71ba8b6ee07704229e06725408b3184ed06b2bc8.png  \n",
      "  inflating: /tmp/tmpxfu36gnb/har/738fbf16e47f3bbd1d926b06a182e5d149dcd29d.png  \n",
      "  inflating: /tmp/tmpxfu36gnb/har/a6fb59f871d9d6fecc2ccfe4bd13f3209a5d8e0b.png  \n",
      "  inflating: /tmp/tmpxfu36gnb/har/57b01640daafa564286fb8241bad5eba5a28f58b.png  \n",
      "  inflating: /tmp/tmpxfu36gnb/har/cf2b06dd69b2a257d5ad1474bd1a8af92649ff78.png  \n",
      "  inflating: /tmp/tmpxfu36gnb/har/2c7da7492b1c2fa42c617d5853d030682a3bd978.png  \n",
      "  inflating: /tmp/tmpxfu36gnb/har/68fac98ae7f6e5e8f17ae914b5a1ac844cbb0cb1.png  \n",
      "  inflating: /tmp/tmpxfu36gnb/har/7cfb8afb65b2bb941d0a2d998294148eb83c848d.png  \n",
      "  inflating: /tmp/tmpxfu36gnb/har/dd8b78ffb95eb33bc3d65603ccb4321b98d0b86f.js  \n",
      "  inflating: /tmp/tmpxfu36gnb/har/d83d25e9b9ce2ee7dac77ff08ffa7406d4b135bd.js  \n",
      "  inflating: /tmp/tmpxfu36gnb/har/b29981f44319c24603dbb852e870028b8852c7b1.js  \n",
      "  inflating: /tmp/tmpxfu36gnb/har/5b227e8eec48e5573a342292f5b72eeceb8b29e6.js  \n",
      "  inflating: /tmp/tmpxfu36gnb/har/261e877274f021c8a81dcfa61f3e944f0812afef.js  \n",
      "  inflating: /tmp/tmpxfu36gnb/har/d2fd55904ffa8f7ace184efdc95fee2f69c01350.js  \n",
      "  inflating: /tmp/tmpxfu36gnb/har/5a1798112eccd1a5acc0ac102f57507f31928897.js  \n",
      "  inflating: /tmp/tmpxfu36gnb/har/a2009a9d15b93105d831554601eb15b87fe9cc48.js  \n",
      "  inflating: /tmp/tmpxfu36gnb/har/fdeb037dc9a1d9d666f7a912520c015fd5275749.js  \n",
      "  inflating: /tmp/tmpxfu36gnb/har/ed24a643a7c25f33a1ebe8267b7e0d57c086525a.js  \n",
      "  inflating: /tmp/tmpxfu36gnb/har/90f59024bad9140ccda0bf405cbc30fb8942a458.js  \n",
      "  inflating: /tmp/tmpxfu36gnb/har/9743a809e99b86447834c08d8e40f6e69c4881c4.js  \n",
      "  inflating: /tmp/tmpxfu36gnb/har/d87831747c4f67918e91afc11a2882c1d62aba24.js  \n",
      "  inflating: /tmp/tmpxfu36gnb/har/b11681a4b425e608d5e1fe1fb5b7f60bd2fce907.json  \n",
      "  inflating: /tmp/tmpxfu36gnb/har/3a08fc57d1d242de40a1d3a8308b041832e5ce89.json  \n",
      "  inflating: /tmp/tmpxfu36gnb/har/82eea9377e5ccf367ebb4e47290de0c4fd995d33.json  \n",
      "  inflating: /tmp/tmpxfu36gnb/har/3371529de52d37519f94f316907df7d7f07dbcba.json  \n",
      "  inflating: /tmp/tmpxfu36gnb/har/f9066abe66b0ea4b691887a507946cd70eb5deec.json  \n",
      "  inflating: /tmp/tmpxfu36gnb/har/d4358a1d9450b04da3245a34cd6573ee6143cba3.json  \n",
      "  inflating: /tmp/tmpxfu36gnb/har/fe550ab84254cdbf37a1f681ac24298f2a5bff8d.json  \n",
      "  inflating: /tmp/tmpxfu36gnb/har/c4ba74c5b48bb97e925fdebc21352d157e4866c7.json  \n",
      "  inflating: /tmp/tmpxfu36gnb/har/b59a426ff64525a470316439dedd9fd87ec61c31.dat  \n",
      "  inflating: /tmp/tmpxfu36gnb/har/1b9eac66e2f9a86e120bf16b90408f02d90774b1.dat  \n",
      "  inflating: /tmp/tmpxfu36gnb/har/d2d0c781ece27756a807579bd74721fe5a27886c.png  \n",
      "  inflating: /tmp/tmpxfu36gnb/har/f94348cc1c4c19e9d598eaebf00afbe07ede4b4e.dat  \n",
      "  inflating: /tmp/tmpxfu36gnb/har/b19d63e112df762e9833b8c74949712e0f8a2437.dat  \n",
      "  inflating: /tmp/tmpxfu36gnb/har/532c370e7de0ab142f8faee87a291701940ee6e0.dat  \n",
      "  inflating: /tmp/tmpxfu36gnb/har/ba7492f761508b0ce6adf1b4256814c601aa4a79.dat  \n",
      "  inflating: /tmp/tmpxfu36gnb/har/d7beff7020a6b39b3c9338fb14b1255b46d91828.html  \n",
      "  inflating: /tmp/tmpxfu36gnb/har/3d2ee6d93a1c151c66ee328505d5874c2f515660.png  \n",
      "  inflating: /tmp/tmpxfu36gnb/har/5484c5cd6a1c5c1132d57af29bfd75fab06f10cf.css  \n",
      "  inflating: /tmp/tmpxfu36gnb/har/60865dad21fc9ad16c536e652692818dbd265a81.js  \n",
      "  inflating: /tmp/tmpxfu36gnb/har/691adbfde1b0f4b02cce49363378e786f7bee086.css  \n",
      "  inflating: /tmp/tmpxfu36gnb/har/b672e4e5a3d6b38e26299eb71caa8e939900d090.js  \n",
      "  inflating: /tmp/tmpxfu36gnb/har/8b72e446cb6e9c7cd5b249d9122355668dcf0a2c.js  \n",
      "  inflating: /tmp/tmpxfu36gnb/har/b53a4036030437724a88842d7f9157b29f315e96.js  \n",
      "  inflating: /tmp/tmpxfu36gnb/har/ec24339bdfbdcf33357052052f44e4d2ac2a74fa.js  \n",
      "  inflating: /tmp/tmpxfu36gnb/har/e42e315f3c076f13d65ed477d699f291d2985b80.js  \n",
      "  inflating: /tmp/tmpxfu36gnb/har/b41e817013a586e8968422feba7e173c92adbdf3.js  \n",
      "  inflating: /tmp/tmpxfu36gnb/har/860aad9149b9d14f8a67d6fa4869b4e7e5706988.js  \n",
      "  inflating: /tmp/tmpxfu36gnb/har/ac35c6f134fd2a78b41058e4344b86dc882c5e37.js  \n",
      "  inflating: /tmp/tmpxfu36gnb/har/90d6cd5fa1c30ca9695ace9e9d79913af08046be.js  \n",
      "  inflating: /tmp/tmpxfu36gnb/har/c7d8d9f09a8653bb3559405bbace3b41572e0c96.js  \n",
      "  inflating: /tmp/tmpxfu36gnb/har/b56c06a66537fbca7bf5d23e3c9788564f7c70b2.js  \n",
      "  inflating: /tmp/tmpxfu36gnb/har/3664d02f6cd413afa2d7b935daae02da99536c21.js  \n",
      "  inflating: /tmp/tmpxfu36gnb/har/cef7e5e724ec43ea7cdf98eed8c2fc343be0896f.js  \n",
      "  inflating: /tmp/tmpxfu36gnb/har/dc6c09dd4c66a9014de08bb8421788731d62ba8f.js  \n",
      "  inflating: /tmp/tmpxfu36gnb/har/23bb8993da3aaade4029c57d3805145768782426.js  \n",
      "  inflating: /tmp/tmpxfu36gnb/har/daccb872eb5049203c3992e18e1a7c8c4a0eedfb.js  \n",
      "  inflating: /tmp/tmpxfu36gnb/har/800000cacd783480eb92ed831dd4b4520fbcac38.js  \n",
      "  inflating: /tmp/tmpxfu36gnb/har/3590c7c6fd7ba5e4c33453c8b48568ad63f5ffc7.js  \n",
      "  inflating: /tmp/tmpxfu36gnb/har/95bf665aa24efd6fc0534665a109c1e936fe9872.js  \n",
      "  inflating: /tmp/tmpxfu36gnb/har/c74cfdd1fb9c20aeca1d1dbb97ab877f7577c038.js  \n",
      "  inflating: /tmp/tmpxfu36gnb/har/278652389e12ac82d2fb5dbb58330b4a103d5663.png  \n",
      "  inflating: /tmp/tmpxfu36gnb/har/2712792df35e2ce9b9182b27a745563514badcb8.dat  \n",
      "  inflating: /tmp/tmpxfu36gnb/har/4ba659d1124a129d9892dc376ad7731be9fafbf2.dat  \n",
      "  inflating: /tmp/tmpxfu36gnb/har/bc8f075a052f686b54a4105476a7155b5a793080.json  \n",
      "  inflating: /tmp/tmpxfu36gnb/har/47da2bc00c114ffca3242619241c9265c50843d0.json  \n",
      "  inflating: /tmp/tmpxfu36gnb/har/6b36c8b47becc22b153f50d4f48bad306a881a92.png  \n",
      "  inflating: /tmp/tmpxfu36gnb/har/076e95afe13ba33549bd0f60478ed771b4b5bea4.json  \n",
      "  inflating: /tmp/tmpxfu36gnb/har/49e8d2f28005dfbab644ee5274ed920a0b7a1be8.dat  \n",
      "  inflating: /tmp/tmpxfu36gnb/har/17105f6867c0fd923bc1b4259c73399aa3d3ee19.json  \n",
      "  inflating: /tmp/tmpxfu36gnb/har/c310d7f1f6f3c4409642b7a753d172d6e8152c85.jpeg  \n",
      "  inflating: /tmp/tmpxfu36gnb/har/579b4ed0fa9929f3e1ab0f893f04c14d2ae75f9f.json  \n",
      "  inflating: /tmp/tmpxfu36gnb/har/07c10e17a6e3622b0107f3bc95b9c42d2379b46b.dat  \n",
      "  inflating: /tmp/tmpxfu36gnb/har/056bd6dec230f99ebd6e30bf67b4b78fb4b8fa4f.bin  \n",
      "  inflating: /tmp/tmpxfu36gnb/har/b0ecab242b5361f5df4d11ffb6b3e448cce9a486.bin  \n",
      "  inflating: /tmp/tmpxfu36gnb/har/1561abcf31dc9934ab10298b4452a1665bf47735.bin  \n",
      "  inflating: /tmp/tmpxfu36gnb/har/fcb6c6c2b9f66040dd2d8b27176e1fe82fdf0d8d.json  \n",
      "  inflating: /tmp/tmpxfu36gnb/har/0bce93c8a25775599b3065d45b116e89d9e41cc9.html  \n",
      "  inflating: /tmp/tmpxfu36gnb/har/f3a2832f80bb371d6ce70042e0f977cf8478b841.png  \n",
      "  inflating: /tmp/tmpxfu36gnb/har/07f499be6d35e5822078ec24c2f6271d50b481f7.png  \n",
      "  inflating: /tmp/tmpxfu36gnb/har/b4d4b8b0e0fe2f5f9811ed34b2a8447059e20748.js  \n",
      "  inflating: /tmp/tmpxfu36gnb/har/0bd3600f0aefc845870583be41378f1c378fd855.js  \n",
      "  inflating: /tmp/tmpxfu36gnb/har/ddb8bcbc7b189ef2274bb23754a50b4abf09c777.json  \n",
      "  inflating: /tmp/tmpxfu36gnb/har/fab00e539346a2364d60aca265674b4844ab1357.html  \n",
      "  inflating: /tmp/tmpxfu36gnb/har/c36a92b8c75d483eae555ec019883b54c21fefa9.js  \n",
      "  inflating: /tmp/tmpxfu36gnb/har/f5845daa249b401b13e2167ffb802c7301748b4c.json  \n",
      "  inflating: /tmp/tmpxfu36gnb/har/411ce967b433b511aecde02b8d5ed9d63ec3d3f8.json  \n",
      "  inflating: /tmp/tmpxfu36gnb/har/680dc5afd4a618a9156b4c01d119b799f4d52313.json  \n",
      "  inflating: /tmp/tmpxfu36gnb/har/bf21a9e8fbc5a3846fb05b4fa0859e0917b2202f.json  \n",
      "  inflating: /tmp/tmpxfu36gnb/har/4546a60ebb1f4c7ff30ab0436609c645e7c6e75b.json  \n",
      "  inflating: /tmp/tmpxfu36gnb/har/c340162ff4882c7033dad5f7e0b66ff3bf6a6922.json  \n",
      "  inflating: /tmp/tmpxfu36gnb/har/106f8ead255a5433ea41f20e1a37e974ee12b772.json  \n",
      "  inflating: /tmp/tmpxfu36gnb/har/d298793af93070a65ff7399438282d4849e9a51d.json  \n",
      "  inflating: /tmp/tmpxfu36gnb/har/bfdb4205b219d2824ff3786eb30168318b306c94.json  \n",
      "  inflating: /tmp/tmpxfu36gnb/har/63fbb72dc11bcfe188e33b310d03345f2e89806d.json  \n",
      "  inflating: /tmp/tmpxfu36gnb/har/15ba2a5e01efdc4e6456e821b2368124e89b70b2.json  \n",
      "  inflating: /tmp/tmpxfu36gnb/har/27236e46e60bcfb1c1da58c1c9cc436957278f9f.html  \n",
      "  inflating: /tmp/tmpxfu36gnb/har/ff5472af5109351a19e4454fe039a92d998d2c57.js  \n",
      "  inflating: /tmp/tmpxfu36gnb/har/8c4abf1dac323e89b1f0971b08d15f07f5439671.json  \n",
      "  inflating: /tmp/tmpxfu36gnb/har/87658ad34bf68597234350791594b6101614dbed.json  \n",
      "  inflating: /tmp/tmpxfu36gnb/har/44c6f2158cb69cda621defe81f1af2be440ae112.json  \n",
      "  inflating: /tmp/tmpxfu36gnb/har/fe590940596abec34de1d61702e80a032b3e8e0c.dat  \n",
      "  inflating: /tmp/tmpxfu36gnb/har/4c4d667c5090e762a37b536a4fbfd0d8f57da87f.dat  \n",
      "  inflating: /tmp/tmpxfu36gnb/har/a87e6769888a613fba4058d9f5db39270f20292a.dat  \n",
      "  inflating: /tmp/tmpxfu36gnb/har/98e9dfe5887c5c8b666cc5f7a689c88f12981ff5.dat  \n",
      "  inflating: /tmp/tmpxfu36gnb/har/1ba1d741d40b165b0d7105b2dcc73a3164c403a5.html  \n",
      "  inflating: /tmp/tmpxfu36gnb/har/08028b85ee9a1d8ef1e8090c3690a668f67f17da.json  \n",
      "  inflating: /tmp/tmpxfu36gnb/har/e307b27879bd43ab97c78ed371d9ab7c7a1b1259.json  \n",
      "  inflating: /tmp/tmpxfu36gnb/har/bc9a321f083996744b7efdad4ed8f9a8ecbd08a0.json  \n",
      "  inflating: /tmp/tmpxfu36gnb/har/9e84867e0fc866e9107bd8b140196ad53398e651.dat  \n",
      "  inflating: /tmp/tmpxfu36gnb/har/08864339cbb18be795f830ce3c59d4f49f5759d3.dat  \n",
      "  inflating: /tmp/tmpxfu36gnb/har/3a86f04a11f0ce34f90d8df916321554414fe2a1.json  \n",
      "  inflating: /tmp/tmpxfu36gnb/har/16ee6ac3cdca0d05e90f65a518824256351acc2a.html  \n",
      "  inflating: /tmp/tmpxfu36gnb/har/bcf4e29d7bb233cd402b5959ce94e0f559e5a325.html  \n",
      "  inflating: /tmp/tmpxfu36gnb/har/26fcecaa76f799de7d6ba7d756f62c9f9067c1e7.json  \n",
      "  inflating: /tmp/tmpxfu36gnb/har/c382efb9e89828a81f9a8fe16dbc4a1fce9be296.json  \n",
      "  inflating: /tmp/tmpxfu36gnb/har/0a2b5f964cbea89b095829c75e69b47d625c714f.json  \n",
      "  inflating: /tmp/tmpxfu36gnb/har/cc28f8c17f9987be7c159dff95eed0c47490d6d6.json  \n",
      "  inflating: /tmp/tmpxfu36gnb/har/6c5614f653b601cc4d383bfbef5494f119d6bb09.json  \n",
      "  inflating: /tmp/tmpxfu36gnb/har/9fef335ef695eda9387ec249c438fe6de005a67e.html  \n",
      "  inflating: /tmp/tmpxfu36gnb/har/99fa4f8e33b52459ee9f51796ed167eeb5fb0d5a.json  \n",
      "  inflating: /tmp/tmpxfu36gnb/har/04eeedb9423d957b42566fbc552b6d0e8656b883.json  \n",
      "  inflating: /tmp/tmpxfu36gnb/har/e67c2322be5ee55861dce9b1018abdd6d38676a6.json  \n",
      "  inflating: /tmp/tmpxfu36gnb/har/7be2f884ae96fa20bc421c840137f80030cb1cd8.dat  \n",
      "  inflating: /tmp/tmpxfu36gnb/har/a627e7f457a592089c700ce6f7acf9408c0ad3db.dat  \n",
      "  inflating: /tmp/tmpxfu36gnb/har/dbe7b41e80e0fc87f3d399f77b0486cf790c4e7a.dat  \n",
      "  inflating: /tmp/tmpxfu36gnb/har/edef0171aeaa44201f694abcd3995c231079c242.dat  \n",
      "  inflating: /tmp/tmpxfu36gnb/har/4795de6689a62d73c74c03ddfece038cabc58d40.dat  \n",
      "  inflating: /tmp/tmpxfu36gnb/har/f45e471ac2c735b51067463e64ec6a524c539675.html  \n",
      "  inflating: /tmp/tmpxfu36gnb/har/3a7d68c5cc20a5d3bc2dd8a92681b1e62fb1686f.json  \n",
      "  inflating: /tmp/tmpxfu36gnb/har/ad5d237cc8b71f9915214367aeb41449a52298e2.json  \n",
      "  inflating: /tmp/tmpxfu36gnb/har/8c304446e4e4f0c85a79453e2bd3a05f998a6754.json  \n",
      "  inflating: /tmp/tmpxfu36gnb/har/144e04f5721bcbc8df2cf8400f98f8a6dbc70ae9.dat  \n",
      "  inflating: /tmp/tmpxfu36gnb/har/8c0c8bb217bbadc560d8c5c5bd4e585e3ff69dd9.dat  \n",
      "  inflating: /tmp/tmpxfu36gnb/har/90d856b6219631477aefe160d27b6308e21df079.json  \n",
      "  inflating: /tmp/tmpxfu36gnb/har/07d6947fe5ecb92445df8c2ac9b12f8ee174e881.html  \n",
      "  inflating: /tmp/tmpxfu36gnb/har/8fec88502770ee90f8d44a01340a33afde94eb88.html  \n",
      "  inflating: /tmp/tmpxfu36gnb/har/e6d53baf8d28d3dde30b2fcf498d9e6263f535c0.json  \n",
      "  inflating: /tmp/tmpxfu36gnb/har/6a91f148d9cccf6eb09e10cb2f9e038fa04b45c1.json  \n",
      "  inflating: /tmp/tmpxfu36gnb/har/e46c1f9688a63b2e74f5854ea735bff3363bb4e0.json  \n",
      "  inflating: /tmp/tmpxfu36gnb/har/1dfdb6e8f76b4b1ea48c4dcbf1cd5b8dd8869a30.json  \n",
      "  inflating: /tmp/tmpxfu36gnb/har/8f76659760bfe03f6ff0a52540c8a34c4ec244a2.json  \n",
      "  inflating: /tmp/tmpxfu36gnb/har/c389e269c5447b9288c11b5972e19c0abc031df3.html  \n",
      "  inflating: /tmp/tmpxfu36gnb/har/0371310dffd6f0d43d719d96cce103afab739c7f.json  \n",
      "  inflating: /tmp/tmpxfu36gnb/har/80891bb02442d0d98e2f8af8a0ad9b667a2aeec5.json  \n",
      "  inflating: /tmp/tmpxfu36gnb/har/18b0e769b28f1eeb98d88779c584d002af5a43ff.json  \n",
      "  inflating: /tmp/tmpxfu36gnb/har/ea2d9887748546d368e1c96e7d69060ec0d100cd.json  \n",
      "  inflating: /tmp/tmpxfu36gnb/har/2b26d24dc2d6e99c871b30c637191dfc4664f09c.json  \n",
      "  inflating: /tmp/tmpxfu36gnb/har/3d7ffae5a94861376cc72087b3e94d18e7a0ff75.dat  \n",
      "  inflating: /tmp/tmpxfu36gnb/har/dbe76df70d6b1bfa91241dd6e91ae572e06d1722.dat  \n",
      "  inflating: /tmp/tmpxfu36gnb/har/01c443c0d0b1ed76be82f0529797e6215a47d9ab.dat  \n",
      "  inflating: /tmp/tmpxfu36gnb/har/a75f1d2e012a28232c17303049583d187d089d88.dat  \n",
      "  inflating: /tmp/tmpxfu36gnb/har/4d4da3c577ba33f0d7089e6c9de0c48c6a6636a1.dat  \n",
      "  inflating: /tmp/tmpxfu36gnb/har/516b03ea5d03dae277f12002e23713eb6b840567.dat  \n",
      "  inflating: /tmp/tmpxfu36gnb/har/2dff83e62d2f89bfa83b3feaab9334e80883073f.html  \n",
      "  inflating: /tmp/tmpxfu36gnb/har/e73c280775aa61e154fcdf95e4ba6ea75c5d4193.json  \n",
      "  inflating: /tmp/tmpxfu36gnb/har/54541d80b15ffeb126791cc87504e51a3272b816.dat  \n",
      "  inflating: /tmp/tmpxfu36gnb/har/6c53f92b1fda31449c09f2bbd917e3ca17610331.json  \n",
      "  inflating: /tmp/tmpxfu36gnb/har/4d3f1cbd68382fb1bdc2c25d3b55e760b94dfe3e.json  \n",
      "  inflating: /tmp/tmpxfu36gnb/har/c1ce3e5a8921ef4c34b4db99dd3561298f3392d7.dat  \n",
      "  inflating: /tmp/tmpxfu36gnb/har/b0ccdae91ea00d0836c2cdb5e2bc45552573601f.json  \n",
      "  inflating: /tmp/tmpxfu36gnb/har/a2c0a109d2c55558477548a5888146a72b060807.html  \n",
      "  inflating: /tmp/tmpxfu36gnb/har/158313ec3ac4cf87a3fd868826d7c39770e7a905.html  \n",
      "  inflating: /tmp/tmpxfu36gnb/har/8f7216746c8d003619d1905605ae65e39669e7e0.json  \n",
      "  inflating: /tmp/tmpxfu36gnb/har/52a8ab6f5e915920a606c9c0de016858ab65a16f.json  \n",
      "  inflating: /tmp/tmpxfu36gnb/har/7ad8b136b25ed29bdc50e15c571fb38043e28d9b.json  \n",
      "  inflating: /tmp/tmpxfu36gnb/har/6c8825c4978cfe4e6ce25cf37b4445713c69c7b6.json  \n",
      "  inflating: /tmp/tmpxfu36gnb/har/9ca20c1cce151de509464f5d8ce8f46eb7dcf78a.json  \n",
      "  inflating: /tmp/tmpxfu36gnb/har/8e4572f33d276cc1d4c4344ea890a3dd47e80155.json  \n",
      "  inflating: /tmp/tmpxfu36gnb/har/2127d460a50a6404d3be5047a22e5929602f1d67.json  \n",
      "  inflating: /tmp/tmpxfu36gnb/har/2923d1a50464edb61598e78798ab6f4de968626c.html  \n",
      "  inflating: /tmp/tmpxfu36gnb/har/e36c5e08c3f71bd036b03e79e07366eb59b67296.json  \n",
      "  inflating: /tmp/tmpxfu36gnb/har/4e27bd6089810c4cb59a5b2cc426f0677bfbe80e.json  \n",
      "  inflating: /tmp/tmpxfu36gnb/har/5993256a26a3416b75350b5d892537316a8c3eb7.json  \n",
      "  inflating: /tmp/tmpxfu36gnb/har/5485e48f31ef13ff112cbef1e2f024539487a066.png  \n",
      "  inflating: /tmp/tmpxfu36gnb/har/6f41179e1e499e260538c53401967520ee138d94.json  \n",
      "  inflating: /tmp/tmpxfu36gnb/har/fd44a5705594028c5f7f69bb4508cc49c3b049a2.css  \n",
      "  inflating: /tmp/tmpxfu36gnb/har/574b09d82318c51903c4828c88f9fbe6eaa023b6.css  \n",
      "  inflating: /tmp/tmpxfu36gnb/har/6535fe1228024b25075ffa9a585215a8b874fe6a.html  \n",
      "  inflating: /tmp/tmpxfu36gnb/har/2fb3f87ac958da430b669c589181c370397cb3aa.js  \n",
      "  inflating: /tmp/tmpxfu36gnb/har/02c7f8fcc9b984d76a4af40e830fc41c8352e3b9.js  \n",
      "  inflating: /tmp/tmpxfu36gnb/har/84def6d41a8fd1b277ca5f21b25468a3f1de546b.js  \n",
      "  inflating: /tmp/tmpxfu36gnb/har/1843c607f9912389e4795baa59009945f778b35c.json  \n",
      "  inflating: /tmp/tmpxfu36gnb/har/5811b5c75aac040b078e83b2c4b1d8c8ecb214fe.json  \n",
      "  inflating: /tmp/tmpxfu36gnb/har/8a1ee49b551435adf1a4372f8d5bd2e1871f68a8.json  \n",
      "  inflating: /tmp/tmpxfu36gnb/har/2bf15157efb45c6de2d066439e81d4e3baf42077.json  \n",
      "  inflating: /tmp/tmpxfu36gnb/har/eb2fb7d6590ef6a95b2df923e47f1055797c0a70.json  \n",
      "  inflating: /tmp/tmpxfu36gnb/har/d135b8147235fc0816fbab9b5539b06011b28ef7.dat  \n",
      "  inflating: /tmp/tmpxfu36gnb/har/2be88ca4242c76e8253ac62474851065032d6833.json  \n",
      "  inflating: /tmp/tmpxfu36gnb/har/e45d56ba2c3280b0a3a1cb705f944389f1958ca7.json  \n",
      "  inflating: /tmp/tmpxfu36gnb/har/har.har  \n",
      "Archive:  result/result-20250610-144058/取りまとめ-S3共通-S3 Compatible Storage/har.zip\n",
      "  inflating: /tmp/tmpxfu36gnb/har/c6042da8a60ce6b529784b34894a17151b964130.html  \n",
      "  inflating: /tmp/tmpxfu36gnb/har/4b858fb28daf9f687fc54bdce74ae40451a9d883.css  \n",
      "  inflating: /tmp/tmpxfu36gnb/har/45d973cf07d81b69608c7630d45257a05417752e.js  \n",
      "  inflating: /tmp/tmpxfu36gnb/har/9c5c7c564f3c4fc9d1ea5465f8205c636c1955ba.css  \n",
      "  inflating: /tmp/tmpxfu36gnb/har/30fedc6c732ef68bff3ef42016c7610d70a00289.js  \n",
      "  inflating: /tmp/tmpxfu36gnb/har/7b4766f5ad599c8c54d19065f96c5113f6f61c7d.js  \n",
      "  inflating: /tmp/tmpxfu36gnb/har/141e23c01a8e3d83ec4addaf5586eac6f57768ab.js  \n",
      "  inflating: /tmp/tmpxfu36gnb/har/03fd3649109057e8401e0ca2083fee954f1141a2.css  \n",
      "  inflating: /tmp/tmpxfu36gnb/har/ac70c5dac8b83b410dd0ad0895341626d9070103.css  \n",
      "  inflating: /tmp/tmpxfu36gnb/har/cc8ce472e63a70511be95ffc2d56a4f74716c0f7.js  \n",
      "  inflating: /tmp/tmpxfu36gnb/har/634d8c0688a0044dee4511a0c5be92d2831c1b78.js  \n",
      "  inflating: /tmp/tmpxfu36gnb/har/208c3f5be21c3a09e6b5866c6587b33940238894.dat  \n",
      "  inflating: /tmp/tmpxfu36gnb/har/bd4fc25d773cc65ba5c1a679a5a0241ba59e34c5.bin  \n",
      "  inflating: /tmp/tmpxfu36gnb/har/efde85a932cb90b92f4cbf277feab09858446b25.bin  \n",
      "  inflating: /tmp/tmpxfu36gnb/har/37d52077436399326de54b8504d3698d7f72d4c6.bin  \n",
      "  inflating: /tmp/tmpxfu36gnb/har/3e16a3f1bf6709f9da36f797f8911cc30616e34b.css  \n",
      "  inflating: /tmp/tmpxfu36gnb/har/92bfffbe438d0c0189219f5d1e361420bcae6b9c.png  \n",
      "  inflating: /tmp/tmpxfu36gnb/har/93963fbd7accc0d8b69725e8277fe9e256f9934c.png  \n",
      "  inflating: /tmp/tmpxfu36gnb/har/e8b68397b3a6f7bc93a2cd8cebf97da2f9bbe6f9.png  \n",
      "  inflating: /tmp/tmpxfu36gnb/har/2f8d53fe2255cbed9117de71b0e6dd773b9067f7.jpeg  \n",
      "  inflating: /tmp/tmpxfu36gnb/har/6d663d45b021e6cd59d3481dc383f1b7a3c1dd83.js  \n",
      "  inflating: /tmp/tmpxfu36gnb/har/b8dcaa1c866905c0bdb0b70c8e564ff1c3fe27ad.js  \n",
      "  inflating: /tmp/tmpxfu36gnb/har/45ab0412a1216c3377ff21d0a80eb6f84b98a036.dat  \n",
      "  inflating: /tmp/tmpxfu36gnb/har/e5c5f3134fe29e60b591c87ea85951f0aea36ee1.dat  \n",
      "  inflating: /tmp/tmpxfu36gnb/har/d6f48cba7d076fb6f2fd6ba993a75b9dc1ecbf0c.woff2  \n",
      "  inflating: /tmp/tmpxfu36gnb/har/57c0ac17302d07bd4f968240098afe5ed53d4ad2.woff2  \n",
      "  inflating: /tmp/tmpxfu36gnb/har/cca86dfad8d944073f3274e3909868813a7aabac.png  \n",
      "  inflating: /tmp/tmpxfu36gnb/har/7d7ead24820dfc35ebe4eeee699e93be178ac821.html  \n",
      "  inflating: /tmp/tmpxfu36gnb/har/f332dfc9354d16776182025abb53c49847923126.css  \n",
      "  inflating: /tmp/tmpxfu36gnb/har/288e6f6c4bcaffbe78518a5a67fa3b6462e3c6db.png  \n",
      "  inflating: /tmp/tmpxfu36gnb/har/00cf56cb13b57f3ddf8ea1282e7b0165228c5851.dat  \n",
      "  inflating: /tmp/tmpxfu36gnb/har/8d7d47c5791757ffa103ec5f2df1f708cb19a1c3.html  \n",
      "  inflating: /tmp/tmpxfu36gnb/har/93664d58007434c67e25e222dd9d77311c49986d.css  \n",
      "  inflating: /tmp/tmpxfu36gnb/har/9d17d4504527855a1105fb64e2fb28acc66e39b9.dat  \n",
      "  inflating: /tmp/tmpxfu36gnb/har/0c84a169944912a894e86035476249a70a59a208.html  \n",
      "  inflating: /tmp/tmpxfu36gnb/har/f9fb92838a49cdf0a196cadaa566209ea2ec7e00.dat  \n",
      "  inflating: /tmp/tmpxfu36gnb/har/925a99e86f1cabfea7b346de8327c5492c95762e.dat  \n",
      "  inflating: /tmp/tmpxfu36gnb/har/8f068c4a049dd944f20c59262d052f0155a659d5.jpeg  \n",
      "  inflating: /tmp/tmpxfu36gnb/har/8bdc6d5c8a0a47e48f4b23babd86b61d28ede5a6.jpeg  \n",
      "  inflating: /tmp/tmpxfu36gnb/har/853a66bffc32d4690e98bf36c15201c0145003a1.dat  \n",
      "  inflating: /tmp/tmpxfu36gnb/har/8a73cd6fb9fab772c1015e0b2f82ff0d95bc8e9c.dat  \n",
      "  inflating: /tmp/tmpxfu36gnb/har/c1a60e644a8ae62240f92012e5edea5f1534abf4.dat  \n",
      "  inflating: /tmp/tmpxfu36gnb/har/b5a55ce4c35dc1b2dcad8d24f69728ec1a58680e.dat  \n",
      "  inflating: /tmp/tmpxfu36gnb/har/c0de00d4a06b2ddce6e8b7f99293bf2c78792ee4.dat  \n",
      "  inflating: /tmp/tmpxfu36gnb/har/21fe28fa3d24ab231536da492c0834b05e8cb1a2.dat  \n",
      "  inflating: /tmp/tmpxfu36gnb/har/3e6f1f7325c8cfde9280f0d451f427e74712d33e.dat  \n",
      "  inflating: /tmp/tmpxfu36gnb/har/6d3b101d90cae26ca8567ca9ddd75df7d3ca4b5b.dat  \n",
      "  inflating: /tmp/tmpxfu36gnb/har/b59a426ff64525a470316439dedd9fd87ec61c31.dat  \n",
      "  inflating: /tmp/tmpxfu36gnb/har/e3cc5d54bab2085a8d265951a4a448853abd8043.dat  \n",
      "  inflating: /tmp/tmpxfu36gnb/har/b0c1fe89db2e060f8964dfbe82fae4f9e86d8558.html  \n",
      "  inflating: /tmp/tmpxfu36gnb/har/a88e504620db172b79f40e91b06baffb255293c9.css  \n",
      "  inflating: /tmp/tmpxfu36gnb/har/e1af5353a8df0f581629bb10bb32f2c52b366afb.js  \n",
      "  inflating: /tmp/tmpxfu36gnb/har/94222b6b082ace8180fcce9ecb0f352f2dd864b1.css  \n",
      "  inflating: /tmp/tmpxfu36gnb/har/1055018c28ab41087ef9ccefe411606893dabea2.js  \n",
      "  inflating: /tmp/tmpxfu36gnb/har/78489e580adaef931e6e5b131dab556c397e4a1a.js  \n",
      "  inflating: /tmp/tmpxfu36gnb/har/6527d8bf3e1e9368bab8c7b60f56bc01fa3afd68.css  \n",
      "  inflating: /tmp/tmpxfu36gnb/har/901eda478667ec569dc20e57da792b03ea5c0554.js  \n",
      "  inflating: /tmp/tmpxfu36gnb/har/ad5c78cf673301a8b4a730c3a3a29397556710b9.js  \n",
      "  inflating: /tmp/tmpxfu36gnb/har/45a1d3f956ba53dfef40f4deb084638fc634946b.js  \n",
      "  inflating: /tmp/tmpxfu36gnb/har/2837cacf240c28c24b81bfb7ff1ab71b37edb791.css  \n",
      "  inflating: /tmp/tmpxfu36gnb/har/26cf0847a511131fd0ede139138880021be4fa9e.css  \n",
      "  inflating: /tmp/tmpxfu36gnb/har/b79e3eea9a0dc18c2e6088c1522a02a0be3ea004.json  \n",
      "  inflating: /tmp/tmpxfu36gnb/har/1cf4dd4071fadfcc07892d68f09c34e5412c2c56.json  \n",
      "  inflating: /tmp/tmpxfu36gnb/har/61ca24b2459b4faf0a3644b3dc6a8aa8a3461592.json  \n",
      "  inflating: /tmp/tmpxfu36gnb/har/b286614a767c86a75059fb1d4557be706e7c3812.txt  \n",
      "  inflating: /tmp/tmpxfu36gnb/har/1ac1f4883614b1182868f7502c24a01293dcc0d5.json  \n",
      "  inflating: /tmp/tmpxfu36gnb/har/84ee4ef1353299b91cbfd9f2645c6946f546a7ed.json  \n",
      "  inflating: /tmp/tmpxfu36gnb/har/699404cbb1c95a77296bfe747d8bcd04fbf2d736.png  \n",
      "  inflating: /tmp/tmpxfu36gnb/har/ab18aa29d8475b690847d475e4147de98e57429e.png  \n",
      "  inflating: /tmp/tmpxfu36gnb/har/aa600f102ed8641ad1d6a64425de62dc7107234a.html  \n",
      "  inflating: /tmp/tmpxfu36gnb/har/5f1df09199f91d361d9421eb045c019862731a0d.png  \n",
      "  inflating: /tmp/tmpxfu36gnb/har/13538beed1e9f4dbc410a07583e1672f919b9284.png  \n",
      "  inflating: /tmp/tmpxfu36gnb/har/9b638436831b99156a5172b674d01f6a63a72a3e.png  \n",
      "  inflating: /tmp/tmpxfu36gnb/har/3850ae8f4baa3ff72ded4175cb8ff32bd3bfb14b.png  \n",
      "  inflating: /tmp/tmpxfu36gnb/har/58a38174ffa4357e72bb743cf9b29a497f8e0182.png  \n",
      "  inflating: /tmp/tmpxfu36gnb/har/0637dcbabb1e4be1782e356af9acf2a8cd084e85.png  \n",
      "  inflating: /tmp/tmpxfu36gnb/har/bf1784308561e7209e8aef15a236c5578a56531b.png  \n",
      "  inflating: /tmp/tmpxfu36gnb/har/805656e9640267eaf78eb65806792a18b97d6d2a.png  \n",
      "  inflating: /tmp/tmpxfu36gnb/har/02099ae94b5e82e6e97fc3505b654db67759281d.png  \n",
      "  inflating: /tmp/tmpxfu36gnb/har/71ba8b6ee07704229e06725408b3184ed06b2bc8.png  \n",
      "  inflating: /tmp/tmpxfu36gnb/har/67d90cdf681b4c211582d5a6e27ea47debaa4782.png  \n",
      "  inflating: /tmp/tmpxfu36gnb/har/bf9fb7544e82a3ed1f0c03a34ad8b33d6518e7ed.png  \n",
      "  inflating: /tmp/tmpxfu36gnb/har/57b01640daafa564286fb8241bad5eba5a28f58b.png  \n",
      "  inflating: /tmp/tmpxfu36gnb/har/738fbf16e47f3bbd1d926b06a182e5d149dcd29d.png  \n",
      "  inflating: /tmp/tmpxfu36gnb/har/cf2b06dd69b2a257d5ad1474bd1a8af92649ff78.png  \n",
      "  inflating: /tmp/tmpxfu36gnb/har/2c7da7492b1c2fa42c617d5853d030682a3bd978.png  \n",
      "  inflating: /tmp/tmpxfu36gnb/har/7cfb8afb65b2bb941d0a2d998294148eb83c848d.png  \n",
      "  inflating: /tmp/tmpxfu36gnb/har/68fac98ae7f6e5e8f17ae914b5a1ac844cbb0cb1.png  \n",
      "  inflating: /tmp/tmpxfu36gnb/har/a6fb59f871d9d6fecc2ccfe4bd13f3209a5d8e0b.png  \n",
      "  inflating: /tmp/tmpxfu36gnb/har/dd8b78ffb95eb33bc3d65603ccb4321b98d0b86f.js  \n",
      "  inflating: /tmp/tmpxfu36gnb/har/b29981f44319c24603dbb852e870028b8852c7b1.js  \n",
      "  inflating: /tmp/tmpxfu36gnb/har/5b227e8eec48e5573a342292f5b72eeceb8b29e6.js  \n",
      "  inflating: /tmp/tmpxfu36gnb/har/d83d25e9b9ce2ee7dac77ff08ffa7406d4b135bd.js  \n",
      "  inflating: /tmp/tmpxfu36gnb/har/261e877274f021c8a81dcfa61f3e944f0812afef.js  \n",
      "  inflating: /tmp/tmpxfu36gnb/har/d2fd55904ffa8f7ace184efdc95fee2f69c01350.js  \n",
      "  inflating: /tmp/tmpxfu36gnb/har/5a1798112eccd1a5acc0ac102f57507f31928897.js  \n",
      "  inflating: /tmp/tmpxfu36gnb/har/a2009a9d15b93105d831554601eb15b87fe9cc48.js  \n",
      "  inflating: /tmp/tmpxfu36gnb/har/ed24a643a7c25f33a1ebe8267b7e0d57c086525a.js  \n",
      "  inflating: /tmp/tmpxfu36gnb/har/fdeb037dc9a1d9d666f7a912520c015fd5275749.js  \n",
      "  inflating: /tmp/tmpxfu36gnb/har/90f59024bad9140ccda0bf405cbc30fb8942a458.js  \n",
      "  inflating: /tmp/tmpxfu36gnb/har/d87831747c4f67918e91afc11a2882c1d62aba24.js  \n",
      "  inflating: /tmp/tmpxfu36gnb/har/9743a809e99b86447834c08d8e40f6e69c4881c4.js  \n",
      "  inflating: /tmp/tmpxfu36gnb/har/b11681a4b425e608d5e1fe1fb5b7f60bd2fce907.json  \n",
      "  inflating: /tmp/tmpxfu36gnb/har/3a08fc57d1d242de40a1d3a8308b041832e5ce89.json  \n",
      "  inflating: /tmp/tmpxfu36gnb/har/82eea9377e5ccf367ebb4e47290de0c4fd995d33.json  \n",
      "  inflating: /tmp/tmpxfu36gnb/har/3371529de52d37519f94f316907df7d7f07dbcba.json  \n",
      "  inflating: /tmp/tmpxfu36gnb/har/f9066abe66b0ea4b691887a507946cd70eb5deec.json  \n",
      "  inflating: /tmp/tmpxfu36gnb/har/d4358a1d9450b04da3245a34cd6573ee6143cba3.json  \n",
      "  inflating: /tmp/tmpxfu36gnb/har/fe550ab84254cdbf37a1f681ac24298f2a5bff8d.json  \n",
      "  inflating: /tmp/tmpxfu36gnb/har/c4ba74c5b48bb97e925fdebc21352d157e4866c7.json  \n",
      "  inflating: /tmp/tmpxfu36gnb/har/7be2f884ae96fa20bc421c840137f80030cb1cd8.dat  \n",
      "  inflating: /tmp/tmpxfu36gnb/har/3d7ffae5a94861376cc72087b3e94d18e7a0ff75.dat  \n",
      "  inflating: /tmp/tmpxfu36gnb/har/dbe76df70d6b1bfa91241dd6e91ae572e06d1722.dat  \n",
      "  inflating: /tmp/tmpxfu36gnb/har/00d8173ed6cce689a5cb3bc6eefa4135d0a6fd1b.dat  \n",
      "  inflating: /tmp/tmpxfu36gnb/har/c2f0603befad889638ce4663c5562164a9121113.dat  \n",
      "  inflating: /tmp/tmpxfu36gnb/har/1b9eac66e2f9a86e120bf16b90408f02d90774b1.dat  \n",
      "  inflating: /tmp/tmpxfu36gnb/har/d2d0c781ece27756a807579bd74721fe5a27886c.png  \n",
      "  inflating: /tmp/tmpxfu36gnb/har/d06e3d495313e2348bc2abffc9081e19874633ef.dat  \n",
      "  inflating: /tmp/tmpxfu36gnb/har/22f8ec10057acdd7fb1c4af8c476966c1f4f6a96.dat  \n",
      "  inflating: /tmp/tmpxfu36gnb/har/219785e04fd8ec2214a31e59b7f686f689b160a9.dat  \n",
      "  inflating: /tmp/tmpxfu36gnb/har/d1f6a171ca866801e77ead467108e339af39be7a.dat  \n",
      "  inflating: /tmp/tmpxfu36gnb/har/226eac1970c09f576e0ff0f6fd00dde9423335a9.html  \n",
      "  inflating: /tmp/tmpxfu36gnb/har/3d2ee6d93a1c151c66ee328505d5874c2f515660.png  \n",
      "  inflating: /tmp/tmpxfu36gnb/har/5484c5cd6a1c5c1132d57af29bfd75fab06f10cf.css  \n",
      "  inflating: /tmp/tmpxfu36gnb/har/60865dad21fc9ad16c536e652692818dbd265a81.js  \n",
      "  inflating: /tmp/tmpxfu36gnb/har/691adbfde1b0f4b02cce49363378e786f7bee086.css  \n",
      "  inflating: /tmp/tmpxfu36gnb/har/0bd3600f0aefc845870583be41378f1c378fd855.js  \n",
      "  inflating: /tmp/tmpxfu36gnb/har/b672e4e5a3d6b38e26299eb71caa8e939900d090.js  \n",
      "  inflating: /tmp/tmpxfu36gnb/har/b53a4036030437724a88842d7f9157b29f315e96.js  \n",
      "  inflating: /tmp/tmpxfu36gnb/har/e42e315f3c076f13d65ed477d699f291d2985b80.js  \n",
      "  inflating: /tmp/tmpxfu36gnb/har/b41e817013a586e8968422feba7e173c92adbdf3.js  \n",
      "  inflating: /tmp/tmpxfu36gnb/har/ac35c6f134fd2a78b41058e4344b86dc882c5e37.js  \n",
      "  inflating: /tmp/tmpxfu36gnb/har/860aad9149b9d14f8a67d6fa4869b4e7e5706988.js  \n",
      "  inflating: /tmp/tmpxfu36gnb/har/ec24339bdfbdcf33357052052f44e4d2ac2a74fa.js  \n",
      "  inflating: /tmp/tmpxfu36gnb/har/b56c06a66537fbca7bf5d23e3c9788564f7c70b2.js  \n",
      "  inflating: /tmp/tmpxfu36gnb/har/90d6cd5fa1c30ca9695ace9e9d79913af08046be.js  \n",
      "  inflating: /tmp/tmpxfu36gnb/har/c7d8d9f09a8653bb3559405bbace3b41572e0c96.js  \n",
      "  inflating: /tmp/tmpxfu36gnb/har/3664d02f6cd413afa2d7b935daae02da99536c21.js  \n",
      "  inflating: /tmp/tmpxfu36gnb/har/8b72e446cb6e9c7cd5b249d9122355668dcf0a2c.js  \n",
      "  inflating: /tmp/tmpxfu36gnb/har/cef7e5e724ec43ea7cdf98eed8c2fc343be0896f.js  \n",
      "  inflating: /tmp/tmpxfu36gnb/har/dc6c09dd4c66a9014de08bb8421788731d62ba8f.js  \n",
      "  inflating: /tmp/tmpxfu36gnb/har/23bb8993da3aaade4029c57d3805145768782426.js  \n",
      "  inflating: /tmp/tmpxfu36gnb/har/daccb872eb5049203c3992e18e1a7c8c4a0eedfb.js  \n",
      "  inflating: /tmp/tmpxfu36gnb/har/800000cacd783480eb92ed831dd4b4520fbcac38.js  \n",
      "  inflating: /tmp/tmpxfu36gnb/har/3590c7c6fd7ba5e4c33453c8b48568ad63f5ffc7.js  \n",
      "  inflating: /tmp/tmpxfu36gnb/har/c74cfdd1fb9c20aeca1d1dbb97ab877f7577c038.js  \n",
      "  inflating: /tmp/tmpxfu36gnb/har/95bf665aa24efd6fc0534665a109c1e936fe9872.js  \n",
      "  inflating: /tmp/tmpxfu36gnb/har/278652389e12ac82d2fb5dbb58330b4a103d5663.png  \n",
      "  inflating: /tmp/tmpxfu36gnb/har/2712792df35e2ce9b9182b27a745563514badcb8.dat  \n",
      "  inflating: /tmp/tmpxfu36gnb/har/4ba659d1124a129d9892dc376ad7731be9fafbf2.dat  \n",
      "  inflating: /tmp/tmpxfu36gnb/har/bc8f075a052f686b54a4105476a7155b5a793080.json  \n",
      "  inflating: /tmp/tmpxfu36gnb/har/45ea44c3867bec31d7979633c66c4fa986685f40.json  \n",
      "  inflating: /tmp/tmpxfu36gnb/har/6b36c8b47becc22b153f50d4f48bad306a881a92.png  \n",
      "  inflating: /tmp/tmpxfu36gnb/har/4b6abffaa1e703e241e547a3ec9fbeb435342759.dat  \n",
      "  inflating: /tmp/tmpxfu36gnb/har/c310d7f1f6f3c4409642b7a753d172d6e8152c85.jpeg  \n",
      "  inflating: /tmp/tmpxfu36gnb/har/4e5b7f18f79faa6ef56a0952db3b51604835f368.json  \n",
      "  inflating: /tmp/tmpxfu36gnb/har/17105f6867c0fd923bc1b4259c73399aa3d3ee19.json  \n",
      "  inflating: /tmp/tmpxfu36gnb/har/e2d6c9d6ae931c9a90275c11297581afd19c5e29.json  \n",
      "  inflating: /tmp/tmpxfu36gnb/har/19b61d7addb9fe59c5fd31777960aea79a8fae14.dat  \n",
      "  inflating: /tmp/tmpxfu36gnb/har/056bd6dec230f99ebd6e30bf67b4b78fb4b8fa4f.bin  \n",
      "  inflating: /tmp/tmpxfu36gnb/har/b0ecab242b5361f5df4d11ffb6b3e448cce9a486.bin  \n",
      "  inflating: /tmp/tmpxfu36gnb/har/1561abcf31dc9934ab10298b4452a1665bf47735.bin  \n",
      "  inflating: /tmp/tmpxfu36gnb/har/efbce3e8d731b4e744264ea1aa0866e02a24b72d.json  \n",
      "  inflating: /tmp/tmpxfu36gnb/har/4c5398302c261d35391146074f9d24ef2a802a3f.html  \n",
      "  inflating: /tmp/tmpxfu36gnb/har/07f499be6d35e5822078ec24c2f6271d50b481f7.png  \n",
      "  inflating: /tmp/tmpxfu36gnb/har/f3a2832f80bb371d6ce70042e0f977cf8478b841.png  \n",
      "  inflating: /tmp/tmpxfu36gnb/har/b4d4b8b0e0fe2f5f9811ed34b2a8447059e20748.js  \n",
      "  inflating: /tmp/tmpxfu36gnb/har/117378cf8c5a768260b9b9bc496ffa6934ca3828.json  \n",
      "  inflating: /tmp/tmpxfu36gnb/har/03eb2830f3dfb39b0f8723ded251c38413a33aee.html  \n",
      "  inflating: /tmp/tmpxfu36gnb/har/befd107b81f39bb219fafbb268f08e92cffa44ca.js  \n",
      "  inflating: /tmp/tmpxfu36gnb/har/dc99276477ffaffd0c4d2b5a679d1cfccb3ddee1.json  \n",
      "  inflating: /tmp/tmpxfu36gnb/har/c81fbb8505faee35028cb7bff5855386ad7e3c95.json  \n",
      "  inflating: /tmp/tmpxfu36gnb/har/430e9dcb0af697dd190060b89584b778480fe51a.json  \n",
      "  inflating: /tmp/tmpxfu36gnb/har/bf21a9e8fbc5a3846fb05b4fa0859e0917b2202f.json  \n",
      "  inflating: /tmp/tmpxfu36gnb/har/073b859d540085f436e990f0e78d113134aac0f0.json  \n",
      "  inflating: /tmp/tmpxfu36gnb/har/52d8a56789e092955fb590d30c1354211615e32a.json  \n",
      "  inflating: /tmp/tmpxfu36gnb/har/c6584ac24a6b6e7d339eae56773596105406dd73.json  \n",
      "  inflating: /tmp/tmpxfu36gnb/har/d6bd0954d7301e42c61d72b46c0f905c43fc803f.json  \n",
      "  inflating: /tmp/tmpxfu36gnb/har/2c713ae506aa250e149397f77ef943edff9e5084.json  \n",
      "  inflating: /tmp/tmpxfu36gnb/har/d7ffe28764f3231917753017c6ba18e7ba977a68.json  \n",
      "  inflating: /tmp/tmpxfu36gnb/har/abbb82c6e717c2c08cfd808797bf1933e5ed080a.json  \n",
      "  inflating: /tmp/tmpxfu36gnb/har/e0deb4f927ce499f0d11a47b4be7a9e7e4100c3e.json  \n",
      "  inflating: /tmp/tmpxfu36gnb/har/8140b7f0f7b6b2cc7148a486dd1e5e8fdc68acd6.html  \n",
      "  inflating: /tmp/tmpxfu36gnb/har/ff5472af5109351a19e4454fe039a92d998d2c57.js  \n",
      "  inflating: /tmp/tmpxfu36gnb/har/0b8176254fd2562454e1ba282d62968aaf310b04.json  \n",
      "  inflating: /tmp/tmpxfu36gnb/har/44b8905c39a53d39cb100acbc0e5afae3544998a.json  \n",
      "  inflating: /tmp/tmpxfu36gnb/har/922806c83259c352e930fd098676751af4ef4e07.json  \n",
      "  inflating: /tmp/tmpxfu36gnb/har/34bc454c0a9e2c320c37b620ddf87b1b23fa33dc.dat  \n",
      "  inflating: /tmp/tmpxfu36gnb/har/6dff39086c0520abcb748c4afd63ed14b7a0c23a.dat  \n",
      "  inflating: /tmp/tmpxfu36gnb/har/8b14abf2f188f9d3849543d5de9fc13e87453741.dat  \n",
      "  inflating: /tmp/tmpxfu36gnb/har/b35b45e5240d5ef6b1c434c84957a9c03330987e.dat  \n",
      "  inflating: /tmp/tmpxfu36gnb/har/600e681d8d4febacd17a032cd68e186b1d49e77f.html  \n",
      "  inflating: /tmp/tmpxfu36gnb/har/ce4e3a0635788ace24af3aefa5cf289ee9163bbb.json  \n",
      "  inflating: /tmp/tmpxfu36gnb/har/48d88ece9cae18264eb607eb3d1c438b8c4e135c.json  \n",
      "  inflating: /tmp/tmpxfu36gnb/har/88e7fd3ecb654c3037fa04a13bbef37156c1af4f.dat  \n",
      "  inflating: /tmp/tmpxfu36gnb/har/e550a0ffcb17c7cffbfe3215fd2c76d15beda265.json  \n",
      "  inflating: /tmp/tmpxfu36gnb/har/e7ee562b21bc861f31e7b7da4e8c4ddfd94f08f2.dat  \n",
      "  inflating: /tmp/tmpxfu36gnb/har/80e965a53158fbca566ac86a85b174cab7a7e6dd.json  \n",
      "  inflating: /tmp/tmpxfu36gnb/har/134bb969c88c90dd193e790fe1ed7bf36e2ff27d.html  \n",
      "  inflating: /tmp/tmpxfu36gnb/har/0cd416308eda8bfce0fdf1e8e94583fa6163b134.html  \n",
      "  inflating: /tmp/tmpxfu36gnb/har/e0d699b42206ab47baf6f9d26dcd7d7768976cd0.json  \n",
      "  inflating: /tmp/tmpxfu36gnb/har/b8960aa4e372cd85374abfd41f7b560215cb7599.json  \n",
      "  inflating: /tmp/tmpxfu36gnb/har/d08cb3ef0123ab6221e4106138ddf32af04d2594.json  \n",
      "  inflating: /tmp/tmpxfu36gnb/har/742dba96c4b0cc3f885d0203b5fd83b40a8c7189.json  \n",
      "  inflating: /tmp/tmpxfu36gnb/har/69343d81f517553e07dee651cd1012e917da5f01.json  \n",
      "  inflating: /tmp/tmpxfu36gnb/har/04fe0cd5b9f2ac553c19a48e09f528115d375704.html  \n",
      "  inflating: /tmp/tmpxfu36gnb/har/fa026f29ea19489f4785a6d91ed470f31fa711b7.json  \n",
      "  inflating: /tmp/tmpxfu36gnb/har/ee4b6a05383940143c68830d8b155fb79889ac23.json  \n",
      "  inflating: /tmp/tmpxfu36gnb/har/324bce4a0e545ffd0d99d421f2e9b25b6b6c2022.json  \n",
      "  inflating: /tmp/tmpxfu36gnb/har/e06c1eb57e9f1e89cec730c198822cba519699a9.dat  \n",
      "  inflating: /tmp/tmpxfu36gnb/har/741801b59bdbbd48afc5939a97c59c50d16c9a66.dat  \n",
      "  inflating: /tmp/tmpxfu36gnb/har/a105d97563d12059980eee053a3ebf7a68c01eca.dat  \n",
      "  inflating: /tmp/tmpxfu36gnb/har/d30c446d0f7d638c0d8a05ecfe282f3de350b0f7.dat  \n",
      "  inflating: /tmp/tmpxfu36gnb/har/6abe9d6aeaf5db07d9daeed98468c3138f50876a.html  \n",
      "  inflating: /tmp/tmpxfu36gnb/har/99e37022d5c34beddfac4902a6d593d6f84b238d.json  \n",
      "  inflating: /tmp/tmpxfu36gnb/har/7295844ab9e5e82e919c955169e9edbb15db5eb5.json  \n",
      "  inflating: /tmp/tmpxfu36gnb/har/ed0692ccd3d188404d41c053c960ca9be53ee0a5.dat  \n",
      "  inflating: /tmp/tmpxfu36gnb/har/9587d669e2800272344224a1324685792d326213.json  \n",
      "  inflating: /tmp/tmpxfu36gnb/har/4e949fca698299501ecc711ce667d0b852794abf.dat  \n",
      "  inflating: /tmp/tmpxfu36gnb/har/c8e18df2e678864f738c5ade819df197b5d736de.json  \n",
      "  inflating: /tmp/tmpxfu36gnb/har/6432e8ff6181228909fbc13352f0384cf703cfdd.html  \n",
      "  inflating: /tmp/tmpxfu36gnb/har/720e4d420c2194bd9c5cb1aec94e564a0a8ebc93.html  \n",
      "  inflating: /tmp/tmpxfu36gnb/har/b1d500f7c1072bb4b97d4b9fae0ce009dc3c769a.json  \n",
      "  inflating: /tmp/tmpxfu36gnb/har/c49b962e73bed7f29547711406971c70eb4d7e91.json  \n",
      "  inflating: /tmp/tmpxfu36gnb/har/bf164fdbea5b48c73c4cd7a8d7eb6408d805cf3a.json  \n",
      "  inflating: /tmp/tmpxfu36gnb/har/dbb330e08b62f02af13245c6d6e2fd2ebbd20a44.json  \n",
      "  inflating: /tmp/tmpxfu36gnb/har/2c9e7840464aa43244110f3402cdd03a24182928.json  \n",
      "  inflating: /tmp/tmpxfu36gnb/har/aa155280f34b8d58a48e01ded33e0123d04b9456.html  \n",
      "  inflating: /tmp/tmpxfu36gnb/har/ed7ded3d43ee37a219a56c19349371b36075779d.json  \n",
      "  inflating: /tmp/tmpxfu36gnb/har/3ae3950ea9b4fa664b42893a34bac3ddedf4a829.json  \n",
      "  inflating: /tmp/tmpxfu36gnb/har/b2bbc78ed4786fd49a8ca42f2a4e438f36e02044.json  \n",
      "  inflating: /tmp/tmpxfu36gnb/har/c9f0d5e0c052c6da1ac1033066e4bc097211cd31.json  \n",
      "  inflating: /tmp/tmpxfu36gnb/har/82a55cd22872e22fe50b1ba9492f835d7777ae9c.json  \n",
      "  inflating: /tmp/tmpxfu36gnb/har/f1d74de37eb289d332086d9dcdfc035bcb25dc65.dat  \n",
      "  inflating: /tmp/tmpxfu36gnb/har/1bbda5d1aaec5dbc3865c9a8a4abb8b0b2de6b68.dat  \n",
      "  inflating: /tmp/tmpxfu36gnb/har/7fc54c28226b05d7ddce16c170cba8775ef6ffe3.dat  \n",
      "  inflating: /tmp/tmpxfu36gnb/har/f842409b72e6a43d2672ac3a32694bf0b4778c8f.dat  \n",
      "  inflating: /tmp/tmpxfu36gnb/har/5796412cf4165b45b3e29735a7f87fb731ede2ea.html  \n",
      "  inflating: /tmp/tmpxfu36gnb/har/20842bbeaf93070e93f7083552e6249b1d936a36.json  \n",
      "  inflating: /tmp/tmpxfu36gnb/har/04aca96237eec5b34ba42393a7b2a9afede99f1b.dat  \n",
      "  inflating: /tmp/tmpxfu36gnb/har/588d8f6083348dd39ed98692f1ae25a1d2d6a5c8.json  \n",
      "  inflating: /tmp/tmpxfu36gnb/har/25a3a62ba706255d53c41845ebd32aced8c624ca.json  \n",
      "  inflating: /tmp/tmpxfu36gnb/har/b76255619e2800f5463f697eeaeb4c932a7ba595.dat  \n",
      "  inflating: /tmp/tmpxfu36gnb/har/0694db746f77d5df3d49a2632284399fa37932e1.json  \n",
      "  inflating: /tmp/tmpxfu36gnb/har/df05c6f689f04a5b7d6267cf8e61e43c1dfef62c.html  \n",
      "  inflating: /tmp/tmpxfu36gnb/har/25a5f40481c01909f4bd78065a936ef46f26812b.html  \n",
      "  inflating: /tmp/tmpxfu36gnb/har/768043d983b9560a56e4a05760ae8d65629449c9.json  \n",
      "  inflating: /tmp/tmpxfu36gnb/har/d9f2bd5710330c2af9d7ad9863893b534a9fa6c8.json  \n",
      "  inflating: /tmp/tmpxfu36gnb/har/78fd1ec41d06c6ccd3e67d693db23fb05a040353.json  \n",
      "  inflating: /tmp/tmpxfu36gnb/har/31e1e771430366bcb9b263e9f5ed30fa4ce4e372.json  \n",
      "  inflating: /tmp/tmpxfu36gnb/har/5cfb0aadcafc8cc5e8dd1a8dbba56d8070640972.json  \n",
      "  inflating: /tmp/tmpxfu36gnb/har/7163bc9754941267491e1f059defdf059633c6e8.json  \n",
      "  inflating: /tmp/tmpxfu36gnb/har/a7d8da83449a5c60c1eb7a6efcfe8d00b90f14bd.json  \n",
      "  inflating: /tmp/tmpxfu36gnb/har/f56148cd8e8dcff825b7bb28e014df51d297b635.json  \n",
      "  inflating: /tmp/tmpxfu36gnb/har/ebafa2476622d30fc60d4b2ce54ab081997ae0e9.html  \n",
      "  inflating: /tmp/tmpxfu36gnb/har/23df545bad63b95e133c7c774f0091f30ec4d789.json  \n",
      "  inflating: /tmp/tmpxfu36gnb/har/fd48f6412355de498837621b5a306fcf934739a9.json  \n",
      "  inflating: /tmp/tmpxfu36gnb/har/e090cd386289aa034ce24f751cb3df893bc27c82.json  \n",
      "  inflating: /tmp/tmpxfu36gnb/har/5485e48f31ef13ff112cbef1e2f024539487a066.png  \n",
      "  inflating: /tmp/tmpxfu36gnb/har/ee6930601c9d293efb5b88215bd0c59407832c6a.json  \n",
      "  inflating: /tmp/tmpxfu36gnb/har/fd44a5705594028c5f7f69bb4508cc49c3b049a2.css  \n",
      "  inflating: /tmp/tmpxfu36gnb/har/574b09d82318c51903c4828c88f9fbe6eaa023b6.css  \n",
      "  inflating: /tmp/tmpxfu36gnb/har/34a80c8e790101d03cd450945084905335aebc9d.html  \n",
      "  inflating: /tmp/tmpxfu36gnb/har/2fb3f87ac958da430b669c589181c370397cb3aa.js  \n",
      "  inflating: /tmp/tmpxfu36gnb/har/02c7f8fcc9b984d76a4af40e830fc41c8352e3b9.js  \n",
      "  inflating: /tmp/tmpxfu36gnb/har/84def6d41a8fd1b277ca5f21b25468a3f1de546b.js  \n",
      "  inflating: /tmp/tmpxfu36gnb/har/f5ab491648f89d9bae97c8f46ad936f4ba5e6974.json  \n",
      "  inflating: /tmp/tmpxfu36gnb/har/e0380c8c65b6c489af76cbecf5bb10b3c06d5f5a.json  \n",
      "  inflating: /tmp/tmpxfu36gnb/har/e952ec5ed71ab7273e8d23214bfd6c976853929f.json  \n",
      "  inflating: /tmp/tmpxfu36gnb/har/2bf15157efb45c6de2d066439e81d4e3baf42077.json  \n",
      "  inflating: /tmp/tmpxfu36gnb/har/c78710e3879a0cd6f38351f81fc38ec98e48f516.json  \n",
      "  inflating: /tmp/tmpxfu36gnb/har/0dfc0d42f377e4fd1dfa51b81acec7e6025fee93.dat  \n",
      "  inflating: /tmp/tmpxfu36gnb/har/2be88ca4242c76e8253ac62474851065032d6833.json  \n",
      "  inflating: /tmp/tmpxfu36gnb/har/27f022ca5f5b32ec2da80a41c50177d827450427.json  \n",
      "  inflating: /tmp/tmpxfu36gnb/har/har.har  \n",
      "Archive:  result/result-20250610-144058/テスト手順-拡張ストレージ-アカウント設定-Dropbox/har.zip\n",
      "  inflating: /tmp/tmpxfu36gnb/har/c6042da8a60ce6b529784b34894a17151b964130.html  \n",
      "  inflating: /tmp/tmpxfu36gnb/har/45d973cf07d81b69608c7630d45257a05417752e.js  \n",
      "  inflating: /tmp/tmpxfu36gnb/har/4b858fb28daf9f687fc54bdce74ae40451a9d883.css  \n",
      "  inflating: /tmp/tmpxfu36gnb/har/9c5c7c564f3c4fc9d1ea5465f8205c636c1955ba.css  \n",
      "  inflating: /tmp/tmpxfu36gnb/har/30fedc6c732ef68bff3ef42016c7610d70a00289.js  \n",
      "  inflating: /tmp/tmpxfu36gnb/har/7b4766f5ad599c8c54d19065f96c5113f6f61c7d.js  \n",
      "  inflating: /tmp/tmpxfu36gnb/har/141e23c01a8e3d83ec4addaf5586eac6f57768ab.js  \n",
      "  inflating: /tmp/tmpxfu36gnb/har/03fd3649109057e8401e0ca2083fee954f1141a2.css  \n",
      "  inflating: /tmp/tmpxfu36gnb/har/ac70c5dac8b83b410dd0ad0895341626d9070103.css  \n",
      "  inflating: /tmp/tmpxfu36gnb/har/634d8c0688a0044dee4511a0c5be92d2831c1b78.js  \n",
      "  inflating: /tmp/tmpxfu36gnb/har/cc8ce472e63a70511be95ffc2d56a4f74716c0f7.js  \n",
      "  inflating: /tmp/tmpxfu36gnb/har/208c3f5be21c3a09e6b5866c6587b33940238894.dat  \n",
      "  inflating: /tmp/tmpxfu36gnb/har/bd4fc25d773cc65ba5c1a679a5a0241ba59e34c5.bin  \n",
      "  inflating: /tmp/tmpxfu36gnb/har/efde85a932cb90b92f4cbf277feab09858446b25.bin  \n",
      "  inflating: /tmp/tmpxfu36gnb/har/37d52077436399326de54b8504d3698d7f72d4c6.bin  \n",
      "  inflating: /tmp/tmpxfu36gnb/har/e8b68397b3a6f7bc93a2cd8cebf97da2f9bbe6f9.png  \n",
      "  inflating: /tmp/tmpxfu36gnb/har/93963fbd7accc0d8b69725e8277fe9e256f9934c.png  \n",
      "  inflating: /tmp/tmpxfu36gnb/har/2f8d53fe2255cbed9117de71b0e6dd773b9067f7.jpeg  \n",
      "  inflating: /tmp/tmpxfu36gnb/har/3e16a3f1bf6709f9da36f797f8911cc30616e34b.css  \n",
      "  inflating: /tmp/tmpxfu36gnb/har/92bfffbe438d0c0189219f5d1e361420bcae6b9c.png  \n",
      "  inflating: /tmp/tmpxfu36gnb/har/45ab0412a1216c3377ff21d0a80eb6f84b98a036.dat  \n",
      "  inflating: /tmp/tmpxfu36gnb/har/6d663d45b021e6cd59d3481dc383f1b7a3c1dd83.js  \n",
      "  inflating: /tmp/tmpxfu36gnb/har/b8dcaa1c866905c0bdb0b70c8e564ff1c3fe27ad.js  \n",
      "  inflating: /tmp/tmpxfu36gnb/har/d6f48cba7d076fb6f2fd6ba993a75b9dc1ecbf0c.woff2  \n",
      "  inflating: /tmp/tmpxfu36gnb/har/e5c5f3134fe29e60b591c87ea85951f0aea36ee1.dat  \n",
      "  inflating: /tmp/tmpxfu36gnb/har/57c0ac17302d07bd4f968240098afe5ed53d4ad2.woff2  \n",
      "  inflating: /tmp/tmpxfu36gnb/har/cca86dfad8d944073f3274e3909868813a7aabac.png  \n",
      "  inflating: /tmp/tmpxfu36gnb/har/7d7ead24820dfc35ebe4eeee699e93be178ac821.html  \n",
      "  inflating: /tmp/tmpxfu36gnb/har/f332dfc9354d16776182025abb53c49847923126.css  \n",
      "  inflating: /tmp/tmpxfu36gnb/har/288e6f6c4bcaffbe78518a5a67fa3b6462e3c6db.png  \n",
      "  inflating: /tmp/tmpxfu36gnb/har/00cf56cb13b57f3ddf8ea1282e7b0165228c5851.dat  \n",
      "  inflating: /tmp/tmpxfu36gnb/har/8d7d47c5791757ffa103ec5f2df1f708cb19a1c3.html  \n",
      "  inflating: /tmp/tmpxfu36gnb/har/93664d58007434c67e25e222dd9d77311c49986d.css  \n",
      "  inflating: /tmp/tmpxfu36gnb/har/9d17d4504527855a1105fb64e2fb28acc66e39b9.dat  \n",
      "  inflating: /tmp/tmpxfu36gnb/har/a59512180105b7328f26d1e60973f52b53c87f29.dat  \n",
      "  inflating: /tmp/tmpxfu36gnb/har/ed592c8387acb27f4c3c817d414fd42fcc7b5f69.html  \n",
      "  inflating: /tmp/tmpxfu36gnb/har/925a99e86f1cabfea7b346de8327c5492c95762e.dat  \n",
      "  inflating: /tmp/tmpxfu36gnb/har/8f068c4a049dd944f20c59262d052f0155a659d5.jpeg  \n",
      "  inflating: /tmp/tmpxfu36gnb/har/8bdc6d5c8a0a47e48f4b23babd86b61d28ede5a6.jpeg  \n",
      "  inflating: /tmp/tmpxfu36gnb/har/853a66bffc32d4690e98bf36c15201c0145003a1.dat  \n",
      "  inflating: /tmp/tmpxfu36gnb/har/8a73cd6fb9fab772c1015e0b2f82ff0d95bc8e9c.dat  \n",
      "  inflating: /tmp/tmpxfu36gnb/har/c1a60e644a8ae62240f92012e5edea5f1534abf4.dat  \n",
      "  inflating: /tmp/tmpxfu36gnb/har/46891b7df01be5497d7a18a281ba4e0ed168168b.dat  \n",
      "  inflating: /tmp/tmpxfu36gnb/har/c0de00d4a06b2ddce6e8b7f99293bf2c78792ee4.dat  \n",
      "  inflating: /tmp/tmpxfu36gnb/har/b59a426ff64525a470316439dedd9fd87ec61c31.dat  \n",
      "  inflating: /tmp/tmpxfu36gnb/har/3d7ffae5a94861376cc72087b3e94d18e7a0ff75.dat  \n",
      "  inflating: /tmp/tmpxfu36gnb/har/dbe76df70d6b1bfa91241dd6e91ae572e06d1722.dat  \n",
      "  inflating: /tmp/tmpxfu36gnb/har/7be2f884ae96fa20bc421c840137f80030cb1cd8.dat  \n",
      "  inflating: /tmp/tmpxfu36gnb/har/e3cc5d54bab2085a8d265951a4a448853abd8043.dat  \n",
      "  inflating: /tmp/tmpxfu36gnb/har/00d8173ed6cce689a5cb3bc6eefa4135d0a6fd1b.dat  \n",
      "  inflating: /tmp/tmpxfu36gnb/har/c2f0603befad889638ce4663c5562164a9121113.dat  \n",
      "  inflating: /tmp/tmpxfu36gnb/har/d1594dbeef1eb15d92741a01c0d83de2c7d4632d.dat  \n",
      "  inflating: /tmp/tmpxfu36gnb/har/98e83fee313a7983b90b337229ff03440d089f2a.dat  \n",
      "  inflating: /tmp/tmpxfu36gnb/har/b0c1fe89db2e060f8964dfbe82fae4f9e86d8558.html  \n",
      "  inflating: /tmp/tmpxfu36gnb/har/a88e504620db172b79f40e91b06baffb255293c9.css  \n",
      "  inflating: /tmp/tmpxfu36gnb/har/e1af5353a8df0f581629bb10bb32f2c52b366afb.js  \n",
      "  inflating: /tmp/tmpxfu36gnb/har/1055018c28ab41087ef9ccefe411606893dabea2.js  \n",
      "  inflating: /tmp/tmpxfu36gnb/har/78489e580adaef931e6e5b131dab556c397e4a1a.js  \n",
      "  inflating: /tmp/tmpxfu36gnb/har/94222b6b082ace8180fcce9ecb0f352f2dd864b1.css  \n",
      "  inflating: /tmp/tmpxfu36gnb/har/6527d8bf3e1e9368bab8c7b60f56bc01fa3afd68.css  \n",
      "  inflating: /tmp/tmpxfu36gnb/har/901eda478667ec569dc20e57da792b03ea5c0554.js  \n",
      "  inflating: /tmp/tmpxfu36gnb/har/45a1d3f956ba53dfef40f4deb084638fc634946b.js  \n",
      "  inflating: /tmp/tmpxfu36gnb/har/ad5c78cf673301a8b4a730c3a3a29397556710b9.js  \n",
      "  inflating: /tmp/tmpxfu36gnb/har/2837cacf240c28c24b81bfb7ff1ab71b37edb791.css  \n",
      "  inflating: /tmp/tmpxfu36gnb/har/26cf0847a511131fd0ede139138880021be4fa9e.css  \n",
      "  inflating: /tmp/tmpxfu36gnb/har/b79e3eea9a0dc18c2e6088c1522a02a0be3ea004.json  \n",
      "  inflating: /tmp/tmpxfu36gnb/har/61ca24b2459b4faf0a3644b3dc6a8aa8a3461592.json  \n",
      "  inflating: /tmp/tmpxfu36gnb/har/1cf4dd4071fadfcc07892d68f09c34e5412c2c56.json  \n",
      "  inflating: /tmp/tmpxfu36gnb/har/b286614a767c86a75059fb1d4557be706e7c3812.txt  \n",
      "  inflating: /tmp/tmpxfu36gnb/har/1ac1f4883614b1182868f7502c24a01293dcc0d5.json  \n",
      "  inflating: /tmp/tmpxfu36gnb/har/84ee4ef1353299b91cbfd9f2645c6946f546a7ed.json  \n",
      "  inflating: /tmp/tmpxfu36gnb/har/699404cbb1c95a77296bfe747d8bcd04fbf2d736.png  \n",
      "  inflating: /tmp/tmpxfu36gnb/har/ab18aa29d8475b690847d475e4147de98e57429e.png  \n",
      "  inflating: /tmp/tmpxfu36gnb/har/aa600f102ed8641ad1d6a64425de62dc7107234a.html  \n",
      "  inflating: /tmp/tmpxfu36gnb/har/5f1df09199f91d361d9421eb045c019862731a0d.png  \n",
      "  inflating: /tmp/tmpxfu36gnb/har/13538beed1e9f4dbc410a07583e1672f919b9284.png  \n",
      "  inflating: /tmp/tmpxfu36gnb/har/9b638436831b99156a5172b674d01f6a63a72a3e.png  \n",
      "  inflating: /tmp/tmpxfu36gnb/har/3850ae8f4baa3ff72ded4175cb8ff32bd3bfb14b.png  \n",
      "  inflating: /tmp/tmpxfu36gnb/har/58a38174ffa4357e72bb743cf9b29a497f8e0182.png  \n",
      "  inflating: /tmp/tmpxfu36gnb/har/0637dcbabb1e4be1782e356af9acf2a8cd084e85.png  \n",
      "  inflating: /tmp/tmpxfu36gnb/har/805656e9640267eaf78eb65806792a18b97d6d2a.png  \n",
      "  inflating: /tmp/tmpxfu36gnb/har/bf1784308561e7209e8aef15a236c5578a56531b.png  \n",
      "  inflating: /tmp/tmpxfu36gnb/har/02099ae94b5e82e6e97fc3505b654db67759281d.png  \n",
      "  inflating: /tmp/tmpxfu36gnb/har/67d90cdf681b4c211582d5a6e27ea47debaa4782.png  \n",
      "  inflating: /tmp/tmpxfu36gnb/har/bf9fb7544e82a3ed1f0c03a34ad8b33d6518e7ed.png  \n",
      "  inflating: /tmp/tmpxfu36gnb/har/71ba8b6ee07704229e06725408b3184ed06b2bc8.png  \n",
      "  inflating: /tmp/tmpxfu36gnb/har/738fbf16e47f3bbd1d926b06a182e5d149dcd29d.png  \n",
      "  inflating: /tmp/tmpxfu36gnb/har/57b01640daafa564286fb8241bad5eba5a28f58b.png  \n",
      "  inflating: /tmp/tmpxfu36gnb/har/a6fb59f871d9d6fecc2ccfe4bd13f3209a5d8e0b.png  \n",
      "  inflating: /tmp/tmpxfu36gnb/har/cf2b06dd69b2a257d5ad1474bd1a8af92649ff78.png  \n",
      "  inflating: /tmp/tmpxfu36gnb/har/2c7da7492b1c2fa42c617d5853d030682a3bd978.png  \n",
      "  inflating: /tmp/tmpxfu36gnb/har/68fac98ae7f6e5e8f17ae914b5a1ac844cbb0cb1.png  \n",
      "  inflating: /tmp/tmpxfu36gnb/har/7cfb8afb65b2bb941d0a2d998294148eb83c848d.png  \n",
      "  inflating: /tmp/tmpxfu36gnb/har/dd8b78ffb95eb33bc3d65603ccb4321b98d0b86f.js  \n",
      "  inflating: /tmp/tmpxfu36gnb/har/b29981f44319c24603dbb852e870028b8852c7b1.js  \n",
      "  inflating: /tmp/tmpxfu36gnb/har/d83d25e9b9ce2ee7dac77ff08ffa7406d4b135bd.js  \n",
      "  inflating: /tmp/tmpxfu36gnb/har/5b227e8eec48e5573a342292f5b72eeceb8b29e6.js  \n",
      "  inflating: /tmp/tmpxfu36gnb/har/261e877274f021c8a81dcfa61f3e944f0812afef.js  \n",
      "  inflating: /tmp/tmpxfu36gnb/har/d2fd55904ffa8f7ace184efdc95fee2f69c01350.js  \n",
      "  inflating: /tmp/tmpxfu36gnb/har/5a1798112eccd1a5acc0ac102f57507f31928897.js  \n",
      "  inflating: /tmp/tmpxfu36gnb/har/a2009a9d15b93105d831554601eb15b87fe9cc48.js  \n",
      "  inflating: /tmp/tmpxfu36gnb/har/ed24a643a7c25f33a1ebe8267b7e0d57c086525a.js  \n",
      "  inflating: /tmp/tmpxfu36gnb/har/fdeb037dc9a1d9d666f7a912520c015fd5275749.js  \n",
      "  inflating: /tmp/tmpxfu36gnb/har/90f59024bad9140ccda0bf405cbc30fb8942a458.js  \n",
      "  inflating: /tmp/tmpxfu36gnb/har/d87831747c4f67918e91afc11a2882c1d62aba24.js  \n",
      "  inflating: /tmp/tmpxfu36gnb/har/9743a809e99b86447834c08d8e40f6e69c4881c4.js  \n",
      "  inflating: /tmp/tmpxfu36gnb/har/b11681a4b425e608d5e1fe1fb5b7f60bd2fce907.json  \n",
      "  inflating: /tmp/tmpxfu36gnb/har/3a08fc57d1d242de40a1d3a8308b041832e5ce89.json  \n",
      "  inflating: /tmp/tmpxfu36gnb/har/82eea9377e5ccf367ebb4e47290de0c4fd995d33.json  \n",
      "  inflating: /tmp/tmpxfu36gnb/har/3371529de52d37519f94f316907df7d7f07dbcba.json  \n",
      "  inflating: /tmp/tmpxfu36gnb/har/f9066abe66b0ea4b691887a507946cd70eb5deec.json  \n",
      "  inflating: /tmp/tmpxfu36gnb/har/d4358a1d9450b04da3245a34cd6573ee6143cba3.json  \n",
      "  inflating: /tmp/tmpxfu36gnb/har/c4ba74c5b48bb97e925fdebc21352d157e4866c7.json  \n",
      "  inflating: /tmp/tmpxfu36gnb/har/ecfa775c95b49f052bfa4c3b136d3e54af27fd93.dat  \n",
      "  inflating: /tmp/tmpxfu36gnb/har/1b9eac66e2f9a86e120bf16b90408f02d90774b1.dat  \n",
      "  inflating: /tmp/tmpxfu36gnb/har/d2d0c781ece27756a807579bd74721fe5a27886c.png  \n",
      "  inflating: /tmp/tmpxfu36gnb/har/1d2de1d2d0a469c3f8ce23b542a4418c2bce8fa3.dat  \n",
      "  inflating: /tmp/tmpxfu36gnb/har/027fe5873a4a4a4c716c6ce5b011f8f39caba0ca.dat  \n",
      "  inflating: /tmp/tmpxfu36gnb/har/addd83c622b9198dbd79015f3e0dbe5feabad7ad.dat  \n",
      "  inflating: /tmp/tmpxfu36gnb/har/d1a3b6ad89b62b9554ef27c3caeedfef3f6a0b04.html  \n",
      "  inflating: /tmp/tmpxfu36gnb/har/3d2ee6d93a1c151c66ee328505d5874c2f515660.png  \n",
      "  inflating: /tmp/tmpxfu36gnb/har/5484c5cd6a1c5c1132d57af29bfd75fab06f10cf.css  \n",
      "  inflating: /tmp/tmpxfu36gnb/har/60865dad21fc9ad16c536e652692818dbd265a81.js  \n",
      "  inflating: /tmp/tmpxfu36gnb/har/691adbfde1b0f4b02cce49363378e786f7bee086.css  \n",
      "  inflating: /tmp/tmpxfu36gnb/har/0bd3600f0aefc845870583be41378f1c378fd855.js  \n",
      "  inflating: /tmp/tmpxfu36gnb/har/b672e4e5a3d6b38e26299eb71caa8e939900d090.js  \n",
      "  inflating: /tmp/tmpxfu36gnb/har/8b72e446cb6e9c7cd5b249d9122355668dcf0a2c.js  \n",
      "  inflating: /tmp/tmpxfu36gnb/har/b53a4036030437724a88842d7f9157b29f315e96.js  \n",
      "  inflating: /tmp/tmpxfu36gnb/har/90d6cd5fa1c30ca9695ace9e9d79913af08046be.js  \n",
      "  inflating: /tmp/tmpxfu36gnb/har/e42e315f3c076f13d65ed477d699f291d2985b80.js  \n",
      "  inflating: /tmp/tmpxfu36gnb/har/860aad9149b9d14f8a67d6fa4869b4e7e5706988.js  \n",
      "  inflating: /tmp/tmpxfu36gnb/har/b41e817013a586e8968422feba7e173c92adbdf3.js  \n",
      "  inflating: /tmp/tmpxfu36gnb/har/ac35c6f134fd2a78b41058e4344b86dc882c5e37.js  \n",
      "  inflating: /tmp/tmpxfu36gnb/har/b56c06a66537fbca7bf5d23e3c9788564f7c70b2.js  \n",
      "  inflating: /tmp/tmpxfu36gnb/har/ec24339bdfbdcf33357052052f44e4d2ac2a74fa.js  \n",
      "  inflating: /tmp/tmpxfu36gnb/har/c7d8d9f09a8653bb3559405bbace3b41572e0c96.js  \n",
      "  inflating: /tmp/tmpxfu36gnb/har/3664d02f6cd413afa2d7b935daae02da99536c21.js  \n",
      "  inflating: /tmp/tmpxfu36gnb/har/cef7e5e724ec43ea7cdf98eed8c2fc343be0896f.js  \n",
      "  inflating: /tmp/tmpxfu36gnb/har/dc6c09dd4c66a9014de08bb8421788731d62ba8f.js  \n",
      "  inflating: /tmp/tmpxfu36gnb/har/3590c7c6fd7ba5e4c33453c8b48568ad63f5ffc7.js  \n",
      "  inflating: /tmp/tmpxfu36gnb/har/23bb8993da3aaade4029c57d3805145768782426.js  \n",
      "  inflating: /tmp/tmpxfu36gnb/har/c74cfdd1fb9c20aeca1d1dbb97ab877f7577c038.js  \n",
      "  inflating: /tmp/tmpxfu36gnb/har/daccb872eb5049203c3992e18e1a7c8c4a0eedfb.js  \n",
      "  inflating: /tmp/tmpxfu36gnb/har/800000cacd783480eb92ed831dd4b4520fbcac38.js  \n",
      "  inflating: /tmp/tmpxfu36gnb/har/95bf665aa24efd6fc0534665a109c1e936fe9872.js  \n",
      "  inflating: /tmp/tmpxfu36gnb/har/278652389e12ac82d2fb5dbb58330b4a103d5663.png  \n",
      "  inflating: /tmp/tmpxfu36gnb/har/2712792df35e2ce9b9182b27a745563514badcb8.dat  \n",
      "  inflating: /tmp/tmpxfu36gnb/har/4ba659d1124a129d9892dc376ad7731be9fafbf2.dat  \n",
      "  inflating: /tmp/tmpxfu36gnb/har/bc8f075a052f686b54a4105476a7155b5a793080.json  \n",
      "  inflating: /tmp/tmpxfu36gnb/har/541aaf3e4d3237a6b94be5726eb16b21c24b8bf4.json  \n",
      "  inflating: /tmp/tmpxfu36gnb/har/6b36c8b47becc22b153f50d4f48bad306a881a92.png  \n",
      "  inflating: /tmp/tmpxfu36gnb/har/c5974a415c4aaa9a23d63004548fc48557878a44.dat  \n",
      "  inflating: /tmp/tmpxfu36gnb/har/c310d7f1f6f3c4409642b7a753d172d6e8152c85.jpeg  \n",
      "  inflating: /tmp/tmpxfu36gnb/har/5ad7ca08bfe4bafec206fb5e311137ac2575d5fa.json  \n",
      "  inflating: /tmp/tmpxfu36gnb/har/17105f6867c0fd923bc1b4259c73399aa3d3ee19.json  \n",
      "  inflating: /tmp/tmpxfu36gnb/har/914288572e49667a486c5a9bdcf15c45d3b785b0.json  \n",
      "  inflating: /tmp/tmpxfu36gnb/har/10150f50fd831b910fa4b846457470269aab9733.dat  \n",
      "  inflating: /tmp/tmpxfu36gnb/har/056bd6dec230f99ebd6e30bf67b4b78fb4b8fa4f.bin  \n",
      "  inflating: /tmp/tmpxfu36gnb/har/b0ecab242b5361f5df4d11ffb6b3e448cce9a486.bin  \n",
      "  inflating: /tmp/tmpxfu36gnb/har/1561abcf31dc9934ab10298b4452a1665bf47735.bin  \n",
      "  inflating: /tmp/tmpxfu36gnb/har/7f27f76ad3c76f5ec7eb638bb011dbbf260063bc.json  \n",
      "  inflating: /tmp/tmpxfu36gnb/har/363f35a01d1bc490450a08f8d1cda1d1632f946e.html  \n",
      "  inflating: /tmp/tmpxfu36gnb/har/f3a2832f80bb371d6ce70042e0f977cf8478b841.png  \n",
      "  inflating: /tmp/tmpxfu36gnb/har/07f499be6d35e5822078ec24c2f6271d50b481f7.png  \n",
      "  inflating: /tmp/tmpxfu36gnb/har/b4d4b8b0e0fe2f5f9811ed34b2a8447059e20748.js  \n",
      "  inflating: /tmp/tmpxfu36gnb/har/fd98c16f4d37777706d1966feac2e1a01845c1f2.json  \n",
      "  inflating: /tmp/tmpxfu36gnb/har/14ae810493b1d8142607a4c8cdfbe7ef0f8ab116.html  \n",
      "  inflating: /tmp/tmpxfu36gnb/har/b4b5868dd7bb15fbb2026185c25697ea83b197fe.js  \n",
      "  inflating: /tmp/tmpxfu36gnb/har/5ad7f596f00b6ecc3ca4705f4df37ffd5ef1efb2.json  \n",
      "  inflating: /tmp/tmpxfu36gnb/har/ec032743789908a168b3df911e04dde95443d933.json  \n",
      "  inflating: /tmp/tmpxfu36gnb/har/a680ca7bbe4b2100a930513a4ec4af1db460b4b5.json  \n",
      "  inflating: /tmp/tmpxfu36gnb/har/234a2ab50ddbbe06a6003b82cc64db43e691aee0.json  \n",
      "  inflating: /tmp/tmpxfu36gnb/har/1c07db134a67a2d9e7516796c8e0e5e5f8cc3e37.json  \n",
      "  inflating: /tmp/tmpxfu36gnb/har/03f18b72aa780fccbd6e1b7707905016833e343d.dat  \n",
      "  inflating: /tmp/tmpxfu36gnb/har/7aede97ebc2f34fdc0470aa68edf89c7da7d5340.json  \n",
      "  inflating: /tmp/tmpxfu36gnb/har/845c37a9b343271d413a753b2cee3bfb18b440a0.json  \n",
      "  inflating: /tmp/tmpxfu36gnb/har/c0518396dcca879cdb16aa7987671fe03d93f249.html  \n",
      "  inflating: /tmp/tmpxfu36gnb/har/ff5472af5109351a19e4454fe039a92d998d2c57.js  \n",
      "  inflating: /tmp/tmpxfu36gnb/har/71be5a26710752ab9eb8642bae1b9079e4104f92.json  \n",
      "  inflating: /tmp/tmpxfu36gnb/har/3c78cf02487187d0ba5ce45f21a69705eeead2d5.json  \n",
      "  inflating: /tmp/tmpxfu36gnb/har/d70808e7c87d445fce14a9a1075960c15d941233.json  \n",
      "  inflating: /tmp/tmpxfu36gnb/har/ee64a34644502584429e55565607dd3d9b09e24b.dat  \n",
      "  inflating: /tmp/tmpxfu36gnb/har/3e6f1f7325c8cfde9280f0d451f427e74712d33e.dat  \n",
      "  inflating: /tmp/tmpxfu36gnb/har/172ad582f313ded505cbca59022484a0677a1817.dat  \n",
      "  inflating: /tmp/tmpxfu36gnb/har/d62362d33971b48a885f790837df0f0fcdaa0cf5.dat  \n",
      "  inflating: /tmp/tmpxfu36gnb/har/b93a0a49ae5309362e0aefd08d2e404308fb4983.dat  \n",
      "  inflating: /tmp/tmpxfu36gnb/har/6d3b101d90cae26ca8567ca9ddd75df7d3ca4b5b.dat  \n",
      "  inflating: /tmp/tmpxfu36gnb/har/3a897b507a31e110e4f198ed0ce3ee9086f87be2.html  \n",
      "  inflating: /tmp/tmpxfu36gnb/har/b40efdf28059d4e99442f099496520e17f47ddc3.json  \n",
      "  inflating: /tmp/tmpxfu36gnb/har/d144e75a31e0f2a17913a3d9502852a7d62a9534.json  \n",
      "  inflating: /tmp/tmpxfu36gnb/har/0b2765df46e2606d489a11c78330868be84fdb50.dat  \n",
      "  inflating: /tmp/tmpxfu36gnb/har/7d84e0a83835c932d8bd28fe6e23a1c04044cac1.json  \n",
      "  inflating: /tmp/tmpxfu36gnb/har/a58a633d737d2895ca0085f66c346d7dbef9042f.dat  \n",
      "  inflating: /tmp/tmpxfu36gnb/har/c0483047aec9372ad652dccbce77a94c32f87254.json  \n",
      "  inflating: /tmp/tmpxfu36gnb/har/e7dfb5d785c313f3fc82a09b097f92b348415406.html  \n",
      "  inflating: /tmp/tmpxfu36gnb/har/2f091429ef77e011218c48b81039c74c36963c2c.html  \n",
      "  inflating: /tmp/tmpxfu36gnb/har/903cebf757f9875b2a4b91680670ca9d46f38413.json  \n",
      "  inflating: /tmp/tmpxfu36gnb/har/a41e45caf7843044947296a0dbc08c65a32768b0.json  \n",
      "  inflating: /tmp/tmpxfu36gnb/har/7e33ef5dc88e7ba72bd154799fd7863e9ca17c28.json  \n",
      "  inflating: /tmp/tmpxfu36gnb/har/ccd5ceb33de7c634a50e4b426f9ebf1d8e7f5b2f.json  \n",
      "  inflating: /tmp/tmpxfu36gnb/har/0fb3f4e65c426a8b598c19ae1bc7f7c50a87b7f0.json  \n",
      "  inflating: /tmp/tmpxfu36gnb/har/e122c9c98ea650bb7d2b7ab584fbec6c81fa94a1.json  \n",
      "  inflating: /tmp/tmpxfu36gnb/har/377558cd153549713d82787c54a218699f5815e7.dat  \n",
      "  inflating: /tmp/tmpxfu36gnb/har/f0ed1948f09479418b7a04098e0feae9ce749858.json  \n",
      "  inflating: /tmp/tmpxfu36gnb/har/119a2b3e48d514d311b948185f411f6b110723b4.json  \n",
      "  inflating: /tmp/tmpxfu36gnb/har/8f61062284ba7afe281dadd7d98ad927dac02066.html  \n",
      "  inflating: /tmp/tmpxfu36gnb/har/1f964f69dcb7730ba5454bfdcc91b6b46718cda5.json  \n",
      "  inflating: /tmp/tmpxfu36gnb/har/63f400693187937c2d27d95149ca000d7ed06f97.json  \n",
      "  inflating: /tmp/tmpxfu36gnb/har/73b835c093b30199dace36755bd7af190b28dfde.json  \n",
      "  inflating: /tmp/tmpxfu36gnb/har/683281eb512d362c7386b9632d31c8953b6ee931.json  \n",
      "  inflating: /tmp/tmpxfu36gnb/har/b2ce9d4153edf46ba2d0e811ed8653517ed1d5b9.dat  \n",
      "  inflating: /tmp/tmpxfu36gnb/har/2cdb784d8a1f96ec0984e81180d1439a7462dc31.html  \n",
      "  inflating: /tmp/tmpxfu36gnb/har/09e397aea3dcee458a5af12257d1b002e85d17ab.dat  \n",
      "  inflating: /tmp/tmpxfu36gnb/har/0fd1afd3c288ee0333b16495d2aeff337423e95e.dat  \n",
      "  inflating: /tmp/tmpxfu36gnb/har/9afbf52db1ab93ca76d5c1e5829b88434c500102.json  \n",
      "  inflating: /tmp/tmpxfu36gnb/har/2be88ca4242c76e8253ac62474851065032d6833.json  \n",
      "  inflating: /tmp/tmpxfu36gnb/har/d72437e448ce72d2c63814064fcc096ab8f7063e.json  \n",
      "  inflating: /tmp/tmpxfu36gnb/har/b17237158f01e93991ad75d814a17007db44c36b.dat  \n",
      "  inflating: /tmp/tmpxfu36gnb/har/2a4aa3cad46591e12193c2b93a7fc93c90a26c7c.json  \n",
      "  inflating: /tmp/tmpxfu36gnb/har/4a16796cc772cefb0c1b861d80d5aff746182163.dat  \n",
      "  inflating: /tmp/tmpxfu36gnb/har/0045fdf5fcd7e308c85c6e56d68c9511cd7ab848.dat  \n",
      "  inflating: /tmp/tmpxfu36gnb/har/4f21e5386a5997db13f353fabb60c28bc7faba22.json  \n",
      "  inflating: /tmp/tmpxfu36gnb/har/dc149947c1c0b12ba932a1db904b6056007ad70a.dat  \n",
      "  inflating: /tmp/tmpxfu36gnb/har/ba2146ff1b3e43bac663eb194346986a7c9f03c2.json  \n",
      "  inflating: /tmp/tmpxfu36gnb/har/adb2078a6fbb0b090a5b7f849c548221adcf340e.json  \n",
      "  inflating: /tmp/tmpxfu36gnb/har/0eb84b2e5679db6c6a7238d68d6c4af7558f67ef.json  \n",
      "  inflating: /tmp/tmpxfu36gnb/har/c51f4c29b9b3e49b9f24c2eb0fc80cf419a007cf.json  \n",
      "  inflating: /tmp/tmpxfu36gnb/har/f6515d1cf6b4c86b0d647bdabbe1e539949e6966.dat  \n",
      "  inflating: /tmp/tmpxfu36gnb/har/504124366e98f57fb944e40c1afdc0721b752739.dat  \n",
      "  inflating: /tmp/tmpxfu36gnb/har/6b66af105351ad50de8aa34310faa10029bab7c9.dat  \n",
      "  inflating: /tmp/tmpxfu36gnb/har/cfa14c4beaf1bba2e6dc365ec842f3b852465796.dat  \n",
      "  inflating: /tmp/tmpxfu36gnb/har/21fe28fa3d24ab231536da492c0834b05e8cb1a2.dat  \n",
      "  inflating: /tmp/tmpxfu36gnb/har/25cd4f2f5217c68be58d14e087077f5189a91664.html  \n",
      "  inflating: /tmp/tmpxfu36gnb/har/09c869368eecb4e42bce36d60c8b84a2f832a2d8.json  \n",
      "  inflating: /tmp/tmpxfu36gnb/har/e340d988f03e1bcca4d57c9468310e258f7e5246.dat  \n",
      "  inflating: /tmp/tmpxfu36gnb/har/5fe1d7dd2ad07d3ae999a89379f4ce7ed44b46f9.json  \n",
      "  inflating: /tmp/tmpxfu36gnb/har/0c3aee40f5d6233a7576717a606799a2e277046f.json  \n",
      "  inflating: /tmp/tmpxfu36gnb/har/36f77fa36c452808fefb7a1ef40d8a36c8c95398.dat  \n",
      "  inflating: /tmp/tmpxfu36gnb/har/249a35ef17d86b012e67b9c7f5d4442e3b588044.json  \n",
      "  inflating: /tmp/tmpxfu36gnb/har/7e102f5820237e040ac719b0e09f45badb63a2af.html  \n",
      "  inflating: /tmp/tmpxfu36gnb/har/307fc369ee829c6ebcd99f88c6e220347fe50a8d.html  \n",
      "  inflating: /tmp/tmpxfu36gnb/har/a2968a3a850840d2f2a7a2e45bd24b8313a0d7e4.json  \n",
      "  inflating: /tmp/tmpxfu36gnb/har/5397aec7a8eee2fe78fff0921f3fd0f66ff1a794.json  \n",
      "  inflating: /tmp/tmpxfu36gnb/har/2ce69d0001fd2daaa5b14a8132d61ef387a65344.json  \n",
      "  inflating: /tmp/tmpxfu36gnb/har/5efce64f64e001781874ad266f96ad1768832ad9.json  \n",
      "  inflating: /tmp/tmpxfu36gnb/har/1312b9479f87a7934001c95621f7f9b8a85a3eb2.json  \n",
      "  inflating: /tmp/tmpxfu36gnb/har/efe8ec770fedf4fc1177fc1b070b56d573c56d31.dat  \n",
      "  inflating: /tmp/tmpxfu36gnb/har/7b715b6d502ea02767167e203cbeba9c53c5d3b0.json  \n",
      "  inflating: /tmp/tmpxfu36gnb/har/5b63b2b010d5b9e5b4344fc3b71e56ebea58eb16.json  \n",
      "  inflating: /tmp/tmpxfu36gnb/har/84ea3ecf965fe46fd6d06bdea95603931b654a5c.html  \n",
      "  inflating: /tmp/tmpxfu36gnb/har/7313d30132b6580797c66cc11db50e3ad41a67b1.json  \n",
      "  inflating: /tmp/tmpxfu36gnb/har/f521e543b28049ffffb9e50f1daccde557d3cef2.json  \n",
      "  inflating: /tmp/tmpxfu36gnb/har/13c332f7454a74b44228ef344af1e912b06d3dd1.json  \n",
      "  inflating: /tmp/tmpxfu36gnb/har/har.har  \n"
     ]
    },
    {
     "data": {
      "text/plain": [
       "''"
      ]
     },
     "execution_count": 31,
     "metadata": {},
     "output_type": "execute_result"
    }
   ],
   "source": [
    "import pandas as pd\n",
    "import json\n",
    "\n",
    "har_dfs = []\n",
    "for dirname in os.listdir(result_dir):\n",
    "    dirpath = os.path.join(result_dir, dirname)\n",
    "    if not os.path.isdir(dirpath):\n",
    "        continue\n",
    "    har_path = os.path.join(dirpath, 'har.zip')\n",
    "    items = []\n",
    "    if not os.path.exists(har_path):\n",
    "        continue\n",
    "    if os.path.exists(os.path.join(work_dir, 'har')):\n",
    "        !rm -fr {work_dir}/har\n",
    "    !mkdir -p {work_dir}/har\n",
    "    !unzip -d {work_dir}/har \"{har_path}\"\n",
    "    har_json_path = os.path.join(work_dir, 'har', 'har.har')\n",
    "    assert os.path.exists(har_json_path)\n",
    "    with open(har_json_path, 'r') as f:\n",
    "        har_json = json.load(f)\n",
    "        if 'log' in har_json and 'entries' in har_json['log']:\n",
    "            for e in har_json['log']['entries']:\n",
    "                items.append({\n",
    "                    'time': e['time'],\n",
    "                    'method': e['request']['method'],\n",
    "                    'url': e['request']['url'],\n",
    "                    'status': e['response']['status'],\n",
    "                })\n",
    "    har_df = pd.DataFrame(items)\n",
    "    har_df['test'] = dirname\n",
    "    har_dfs.append(har_df)\n",
    "har_df = pd.concat(har_dfs)\n",
    "\n",
    "last_5xx_urls = ''\n",
    "if len(har_df[har_df['status'] >= 500]) > 0:\n",
    "    last_5xx_urls = 'time, url, status\\n' + '\\n'.join([f'{t}, {url}, {status}' for i, (t, url, status) in enumerate(har_df[har_df['status'] >= 500][['time', 'url', 'status']].values)])\n",
    "else:\n",
    "    last_5xx_urls = ''\n",
    "last_5xx_urls"
   ]
  },
  {
   "cell_type": "code",
   "execution_count": 32,
   "id": "ed76a032-2c43-4607-a6c0-f0505a356e9e",
   "metadata": {
    "deletable": false,
    "editable": false,
    "lc_cell_meme": {
     "current": "bed400ee-0c7a-11f0-b991-feb16f56f93e-17-8bd4-924e-f683-19cc-4266-23e7-c3bb-2449-7444-ec88",
     "execution_end_time": "2025-03-29T08:49:42.731Z",
     "history": [
      {
       "current": "bed400ee-0c7a-11f0-b991-feb16f56f93e",
       "next": "ef48c55e-f981-11ef-a92d-0242ac120006-5-9c36-6b9c-938b-5006-8026",
       "previous": "6de74618-edc2-11ef-a157-0242ac120006-7-de82-6fc2-07b8-0934-9511-fadc-a911"
      },
      {
       "current": "bed400ee-0c7a-11f0-b991-feb16f56f93e",
       "next": "258c53f0-f98d-11ef-a92d-0242ac120006-5-86a9-38b8-a365-1e04-1542",
       "previous": "6de74618-edc2-11ef-a157-0242ac120006-7-de82-6fc2-07b8-0934-9511-fadc-a911"
      },
      {
       "current": "bed400ee-0c7a-11f0-b991-feb16f56f93e",
       "next": "fbf1a14c-f989-11ef-a92d-0242ac120006-7-a14e-a99d-6395-441c-0a01-a768-4c64",
       "previous": "6de74618-edc2-11ef-a157-0242ac120006-7-de82-6fc2-07b8-0934-9511-fadc-a911"
      },
      {
       "current": "bed400ee-0c7a-11f0-b991-feb16f56f93e",
       "next": "f67d43c8-ff2f-11ef-889a-0242ac120006-4-c89e-19a6-42b9-55c0",
       "previous": "6de74618-edc2-11ef-a157-0242ac120006-7-de82-6fc2-07b8-0934-9511-fadc-a911"
      },
      {
       "current": "bed400ee-0c7a-11f0-b991-feb16f56f93e",
       "next": "35db1844-ff38-11ef-889a-0242ac120006-3-f96f-9ff6-ff2f",
       "previous": "6de74618-edc2-11ef-a157-0242ac120006-7-de82-6fc2-07b8-0934-9511-fadc-a911"
      },
      {
       "current": "bed400ee-0c7a-11f0-b991-feb16f56f93e",
       "next": "1f45bcba-f993-11ef-a92d-0242ac120006-6-38a2-d79d-e733-c04d-1011-4a5b",
       "previous": "6de74618-edc2-11ef-a157-0242ac120006-7-de82-6fc2-07b8-0934-9511-fadc-a911"
      },
      {
       "current": "bed400ee-0c7a-11f0-b991-feb16f56f93e",
       "next": "8fb6040a-ecdc-11ef-b381-0242ac120006-9-297f-5610-466a-7c72-a3c5-a9b3-547b-043a-8258",
       "previous": "6de74618-edc2-11ef-a157-0242ac120006-7-de82-6fc2-07b8-0934-9511-fadc-a911"
      },
      {
       "current": "bed400ee-0c7a-11f0-b991-feb16f56f93e",
       "next": "48894834-ecec-11ef-a157-0242ac120006-8-c862-ff0e-6f07-b3d8-66e5-8d25-38bf-88a8",
       "previous": "6de74618-edc2-11ef-a157-0242ac120006-7-de82-6fc2-07b8-0934-9511-fadc-a911"
      },
      {
       "current": "bed400ee-0c7a-11f0-b991-feb16f56f93e-1-cb3b",
       "next": "d34d8234-0c7a-11f0-b991-feb16f56f93e",
       "previous": "6de74618-edc2-11ef-a157-0242ac120006-7-de82-6fc2-07b8-0934-9511-fadc-a911"
      },
      {
       "current": "bed400ee-0c7a-11f0-b991-feb16f56f93e-3-cb3b-8d60-8907",
       "next": "d34d8234-0c7a-11f0-b991-feb16f56f93e-1-3405",
       "previous": "6de74618-edc2-11ef-a157-0242ac120006-8-de82-6fc2-07b8-0934-9511-fadc-a911-4327"
      },
      {
       "current": "bed400ee-0c7a-11f0-b991-feb16f56f93e-4-cb3b-8d60-8907-e2ae",
       "next": "d34d8234-0c7a-11f0-b991-feb16f56f93e-3-3405-ff79-1fa8",
       "previous": "6de74618-edc2-11ef-a157-0242ac120006-10-de82-6fc2-07b8-0934-9511-fadc-a911-4327-1b67-2a38"
      },
      {
       "current": "bed400ee-0c7a-11f0-b991-feb16f56f93e-5-cb3b-8d60-8907-e2ae-856d",
       "next": "d34d8234-0c7a-11f0-b991-feb16f56f93e-4-3405-ff79-1fa8-0950",
       "previous": "6de74618-edc2-11ef-a157-0242ac120006-11-6fc2-07b8-0934-9511-fadc-a911-4327-1b67-2a38-2f06"
      },
      {
       "current": "bed400ee-0c7a-11f0-b991-feb16f56f93e-6-cb3b-8d60-8907-e2ae-856d-6e5d",
       "next": "d34d8234-0c7a-11f0-b991-feb16f56f93e-5-3405-ff79-1fa8-0950-6aac",
       "previous": "6de74618-edc2-11ef-a157-0242ac120006-12-07b8-0934-9511-fadc-a911-4327-1b67-2a38-2f06-0219"
      },
      {
       "current": "bed400ee-0c7a-11f0-b991-feb16f56f93e-8-cb3b-8d60-8907-e2ae-856d-6e5d-e6ad-8bd4",
       "next": "d34d8234-0c7a-11f0-b991-feb16f56f93e-6-3405-ff79-1fa8-0950-6aac-bdeb",
       "previous": "6de74618-edc2-11ef-a157-0242ac120006-13-0934-9511-fadc-a911-4327-1b67-2a38-2f06-0219-debb"
      },
      {
       "current": "bed400ee-0c7a-11f0-b991-feb16f56f93e-10-cb3b-8d60-8907-e2ae-856d-6e5d-e6ad-8bd4-924e-f683",
       "next": "d34d8234-0c7a-11f0-b991-feb16f56f93e-8-3405-ff79-1fa8-0950-6aac-bdeb-ba0d-61a9",
       "previous": "6de74618-edc2-11ef-a157-0242ac120006-15-fadc-a911-4327-1b67-2a38-2f06-0219-debb-f0f9-8135"
      },
      {
       "current": "bed400ee-0c7a-11f0-b991-feb16f56f93e-11-8d60-8907-e2ae-856d-6e5d-e6ad-8bd4-924e-f683-19cc",
       "next": "d34d8234-0c7a-11f0-b991-feb16f56f93e-10-3405-ff79-1fa8-0950-6aac-bdeb-ba0d-61a9-8705-fe70",
       "previous": "6de74618-edc2-11ef-a157-0242ac120006-17-4327-1b67-2a38-2f06-0219-debb-f0f9-8135-023b-d7a8"
      },
      {
       "current": "bed400ee-0c7a-11f0-b991-feb16f56f93e-12-8907-e2ae-856d-6e5d-e6ad-8bd4-924e-f683-19cc-4266",
       "next": "d34d8234-0c7a-11f0-b991-feb16f56f93e-11-ff79-1fa8-0950-6aac-bdeb-ba0d-61a9-8705-fe70-3740",
       "previous": "6de74618-edc2-11ef-a157-0242ac120006-18-1b67-2a38-2f06-0219-debb-f0f9-8135-023b-d7a8-53c4"
      },
      {
       "current": "bed400ee-0c7a-11f0-b991-feb16f56f93e-14-856d-6e5d-e6ad-8bd4-924e-f683-19cc-4266-23e7-c3bb",
       "next": "d34d8234-0c7a-11f0-b991-feb16f56f93e-12-1fa8-0950-6aac-bdeb-ba0d-61a9-8705-fe70-3740-eadb",
       "previous": "6de74618-edc2-11ef-a157-0242ac120006-19-2a38-2f06-0219-debb-f0f9-8135-023b-d7a8-53c4-622d"
      },
      {
       "current": "bed400ee-0c7a-11f0-b991-feb16f56f93e-17-8bd4-924e-f683-19cc-4266-23e7-c3bb-2449-7444-ec88",
       "next": "d34d8234-0c7a-11f0-b991-feb16f56f93e-14-6aac-bdeb-ba0d-61a9-8705-fe70-3740-eadb-12cd-2fbc",
       "previous": "6de74618-edc2-11ef-a157-0242ac120006-21-0219-debb-f0f9-8135-023b-d7a8-53c4-622d-6788-c3e2"
      }
     ],
     "next": "d34d8234-0c7a-11f0-b991-feb16f56f93e-17-61a9-8705-fe70-3740-eadb-12cd-2fbc-c0f8-8689-cfce",
     "previous": "6de74618-edc2-11ef-a157-0242ac120006-24-8135-023b-d7a8-53c4-622d-6788-c3e2-fe2e-8631-65d6"
    },
    "pinnedOutputTabIndex": 0,
    "run_through_control": {
     "frozen": true,
     "read_only": false
    }
   },
   "outputs": [],
   "source": [
    "har_df"
   ]
  },
  {
   "cell_type": "code",
   "execution_count": 33,
   "id": "ad727c2b-af3c-4e67-a3cf-a2035cf0451f",
   "metadata": {
    "deletable": false,
    "editable": false,
    "lc_cell_meme": {
     "current": "d34d8234-0c7a-11f0-b991-feb16f56f93e-17-61a9-8705-fe70-3740-eadb-12cd-2fbc-c0f8-8689-cfce",
     "execution_end_time": "2025-03-29T08:50:20.660Z",
     "history": [
      {
       "current": "d34d8234-0c7a-11f0-b991-feb16f56f93e",
       "next": "48894834-ecec-11ef-a157-0242ac120006-8-c862-ff0e-6f07-b3d8-66e5-8d25-38bf-88a8",
       "previous": "bed400ee-0c7a-11f0-b991-feb16f56f93e"
      },
      {
       "current": "d34d8234-0c7a-11f0-b991-feb16f56f93e-1-3405",
       "next": "f13c528e-0c7a-11f0-b991-feb16f56f93e",
       "previous": "bed400ee-0c7a-11f0-b991-feb16f56f93e"
      },
      {
       "current": "d34d8234-0c7a-11f0-b991-feb16f56f93e-3-3405-ff79-1fa8",
       "next": "f13c528e-0c7a-11f0-b991-feb16f56f93e-1-0932",
       "previous": "bed400ee-0c7a-11f0-b991-feb16f56f93e-1-cb3b"
      },
      {
       "current": "d34d8234-0c7a-11f0-b991-feb16f56f93e-4-3405-ff79-1fa8-0950",
       "next": "f13c528e-0c7a-11f0-b991-feb16f56f93e-3-0932-73b5-9ddf",
       "previous": "bed400ee-0c7a-11f0-b991-feb16f56f93e-3-cb3b-8d60-8907"
      },
      {
       "current": "d34d8234-0c7a-11f0-b991-feb16f56f93e-5-3405-ff79-1fa8-0950-6aac",
       "next": "f13c528e-0c7a-11f0-b991-feb16f56f93e-4-0932-73b5-9ddf-6048",
       "previous": "bed400ee-0c7a-11f0-b991-feb16f56f93e-4-cb3b-8d60-8907-e2ae"
      },
      {
       "current": "d34d8234-0c7a-11f0-b991-feb16f56f93e-6-3405-ff79-1fa8-0950-6aac-bdeb",
       "next": "f13c528e-0c7a-11f0-b991-feb16f56f93e-5-0932-73b5-9ddf-6048-78a3",
       "previous": "bed400ee-0c7a-11f0-b991-feb16f56f93e-5-cb3b-8d60-8907-e2ae-856d"
      },
      {
       "current": "d34d8234-0c7a-11f0-b991-feb16f56f93e-8-3405-ff79-1fa8-0950-6aac-bdeb-ba0d-61a9",
       "next": "f13c528e-0c7a-11f0-b991-feb16f56f93e-6-0932-73b5-9ddf-6048-78a3-9922",
       "previous": "bed400ee-0c7a-11f0-b991-feb16f56f93e-6-cb3b-8d60-8907-e2ae-856d-6e5d"
      },
      {
       "current": "d34d8234-0c7a-11f0-b991-feb16f56f93e-10-3405-ff79-1fa8-0950-6aac-bdeb-ba0d-61a9-8705-fe70",
       "next": "f13c528e-0c7a-11f0-b991-feb16f56f93e-8-0932-73b5-9ddf-6048-78a3-9922-08fd-7615",
       "previous": "bed400ee-0c7a-11f0-b991-feb16f56f93e-8-cb3b-8d60-8907-e2ae-856d-6e5d-e6ad-8bd4"
      },
      {
       "current": "d34d8234-0c7a-11f0-b991-feb16f56f93e-11-ff79-1fa8-0950-6aac-bdeb-ba0d-61a9-8705-fe70-3740",
       "next": "f13c528e-0c7a-11f0-b991-feb16f56f93e-10-0932-73b5-9ddf-6048-78a3-9922-08fd-7615-a21f-57ba",
       "previous": "bed400ee-0c7a-11f0-b991-feb16f56f93e-10-cb3b-8d60-8907-e2ae-856d-6e5d-e6ad-8bd4-924e-f683"
      },
      {
       "current": "d34d8234-0c7a-11f0-b991-feb16f56f93e-11-ff79-1fa8-0950-6aac-bdeb-ba0d-61a9-8705-fe70-3740",
       "next": "f13c528e-0c7a-11f0-b991-feb16f56f93e-11-73b5-9ddf-6048-78a3-9922-08fd-7615-a21f-57ba-b319",
       "previous": "bed400ee-0c7a-11f0-b991-feb16f56f93e-11-8d60-8907-e2ae-856d-6e5d-e6ad-8bd4-924e-f683-19cc"
      },
      {
       "current": "d34d8234-0c7a-11f0-b991-feb16f56f93e-12-1fa8-0950-6aac-bdeb-ba0d-61a9-8705-fe70-3740-eadb",
       "next": "01470e52-1ccb-11f0-bede-d2c904970d7c",
       "previous": "bed400ee-0c7a-11f0-b991-feb16f56f93e-11-8d60-8907-e2ae-856d-6e5d-e6ad-8bd4-924e-f683-19cc"
      },
      {
       "current": "d34d8234-0c7a-11f0-b991-feb16f56f93e-14-6aac-bdeb-ba0d-61a9-8705-fe70-3740-eadb-12cd-2fbc",
       "next": "01470e52-1ccb-11f0-bede-d2c904970d7c-1-058f",
       "previous": "bed400ee-0c7a-11f0-b991-feb16f56f93e-12-8907-e2ae-856d-6e5d-e6ad-8bd4-924e-f683-19cc-4266"
      },
      {
       "current": "d34d8234-0c7a-11f0-b991-feb16f56f93e-17-61a9-8705-fe70-3740-eadb-12cd-2fbc-c0f8-8689-cfce",
       "next": "01470e52-1ccb-11f0-bede-d2c904970d7c-3-058f-1cb0-33c8",
       "previous": "bed400ee-0c7a-11f0-b991-feb16f56f93e-14-856d-6e5d-e6ad-8bd4-924e-f683-19cc-4266-23e7-c3bb"
      }
     ],
     "next": "01470e52-1ccb-11f0-bede-d2c904970d7c-6-058f-1cb0-33c8-9057-dd1e-dbec",
     "previous": "bed400ee-0c7a-11f0-b991-feb16f56f93e-17-8bd4-924e-f683-19cc-4266-23e7-c3bb-2449-7444-ec88"
    },
    "pinnedOutputTabIndex": 0,
    "run_through_control": {
     "frozen": true,
     "read_only": false
    }
   },
   "outputs": [],
   "source": [
    "har_df.sort_values('time')"
   ]
  },
  {
   "cell_type": "code",
   "execution_count": 34,
   "id": "a6bf2ddc-9d1b-44e0-811d-543b4b63e047",
   "metadata": {
    "deletable": false,
    "editable": false,
    "lc_cell_meme": {
     "current": "01470e52-1ccb-11f0-bede-d2c904970d7c-6-058f-1cb0-33c8-9057-dd1e-dbec",
     "execution_end_time": "2025-04-19T03:05:59.606Z",
     "history": [
      {
       "current": "01470e52-1ccb-11f0-bede-d2c904970d7c-1-058f",
       "next": "f13c528e-0c7a-11f0-b991-feb16f56f93e-11-73b5-9ddf-6048-78a3-9922-08fd-7615-a21f-57ba-b319",
       "previous": "d34d8234-0c7a-11f0-b991-feb16f56f93e-11-ff79-1fa8-0950-6aac-bdeb-ba0d-61a9-8705-fe70-3740"
      },
      {
       "current": "01470e52-1ccb-11f0-bede-d2c904970d7c-3-058f-1cb0-33c8",
       "next": "f13c528e-0c7a-11f0-b991-feb16f56f93e-12-9ddf-6048-78a3-9922-08fd-7615-a21f-57ba-b319-1299",
       "previous": "d34d8234-0c7a-11f0-b991-feb16f56f93e-12-1fa8-0950-6aac-bdeb-ba0d-61a9-8705-fe70-3740-eadb"
      },
      {
       "current": "01470e52-1ccb-11f0-bede-d2c904970d7c-6-058f-1cb0-33c8-9057-dd1e-dbec",
       "next": "f13c528e-0c7a-11f0-b991-feb16f56f93e-14-78a3-9922-08fd-7615-a21f-57ba-b319-1299-61fc-96ef",
       "previous": "d34d8234-0c7a-11f0-b991-feb16f56f93e-14-6aac-bdeb-ba0d-61a9-8705-fe70-3740-eadb-12cd-2fbc"
      }
     ],
     "next": "f13c528e-0c7a-11f0-b991-feb16f56f93e-17-7615-a21f-57ba-b319-1299-61fc-96ef-7e79-dca9-cd46",
     "previous": "d34d8234-0c7a-11f0-b991-feb16f56f93e-17-61a9-8705-fe70-3740-eadb-12cd-2fbc-c0f8-8689-cfce"
    },
    "pinnedOutputTabIndex": 0,
    "run_through_control": {
     "frozen": true,
     "read_only": false
    }
   },
   "outputs": [],
   "source": [
    "har_df[~har_df['status'].isin([200, 201, 404, 301, 302, 304, 308, 410])].sort_values('time')"
   ]
  },
  {
   "cell_type": "code",
   "execution_count": 35,
   "id": "0e736318-a962-4376-9af3-ecab9e5aa743",
   "metadata": {
    "deletable": false,
    "editable": false,
    "lc_cell_meme": {
     "current": "f13c528e-0c7a-11f0-b991-feb16f56f93e-17-7615-a21f-57ba-b319-1299-61fc-96ef-7e79-dca9-cd46",
     "history": [
      {
       "current": "f13c528e-0c7a-11f0-b991-feb16f56f93e-1-0932",
       "next": "48894834-ecec-11ef-a157-0242ac120006-8-c862-ff0e-6f07-b3d8-66e5-8d25-38bf-88a8",
       "previous": "d34d8234-0c7a-11f0-b991-feb16f56f93e"
      },
      {
       "current": "f13c528e-0c7a-11f0-b991-feb16f56f93e-3-0932-73b5-9ddf",
       "next": "48894834-ecec-11ef-a157-0242ac120006-9-c862-ff0e-6f07-b3d8-66e5-8d25-38bf-88a8-8886",
       "previous": "d34d8234-0c7a-11f0-b991-feb16f56f93e-1-3405"
      },
      {
       "current": "f13c528e-0c7a-11f0-b991-feb16f56f93e-4-0932-73b5-9ddf-6048",
       "next": "48894834-ecec-11ef-a157-0242ac120006-11-ff0e-6f07-b3d8-66e5-8d25-38bf-88a8-8886-c29a-8e7d",
       "previous": "d34d8234-0c7a-11f0-b991-feb16f56f93e-3-3405-ff79-1fa8"
      },
      {
       "current": "f13c528e-0c7a-11f0-b991-feb16f56f93e-5-0932-73b5-9ddf-6048-78a3",
       "next": "48894834-ecec-11ef-a157-0242ac120006-12-6f07-b3d8-66e5-8d25-38bf-88a8-8886-c29a-8e7d-e372",
       "previous": "d34d8234-0c7a-11f0-b991-feb16f56f93e-4-3405-ff79-1fa8-0950"
      },
      {
       "current": "f13c528e-0c7a-11f0-b991-feb16f56f93e-6-0932-73b5-9ddf-6048-78a3-9922",
       "next": "48894834-ecec-11ef-a157-0242ac120006-13-b3d8-66e5-8d25-38bf-88a8-8886-c29a-8e7d-e372-b930",
       "previous": "d34d8234-0c7a-11f0-b991-feb16f56f93e-5-3405-ff79-1fa8-0950-6aac"
      },
      {
       "current": "f13c528e-0c7a-11f0-b991-feb16f56f93e-8-0932-73b5-9ddf-6048-78a3-9922-08fd-7615",
       "next": "48894834-ecec-11ef-a157-0242ac120006-14-66e5-8d25-38bf-88a8-8886-c29a-8e7d-e372-b930-c0a4",
       "previous": "d34d8234-0c7a-11f0-b991-feb16f56f93e-6-3405-ff79-1fa8-0950-6aac-bdeb"
      },
      {
       "current": "f13c528e-0c7a-11f0-b991-feb16f56f93e-10-0932-73b5-9ddf-6048-78a3-9922-08fd-7615-a21f-57ba",
       "next": "48894834-ecec-11ef-a157-0242ac120006-16-38bf-88a8-8886-c29a-8e7d-e372-b930-c0a4-5fda-91a3",
       "previous": "d34d8234-0c7a-11f0-b991-feb16f56f93e-8-3405-ff79-1fa8-0950-6aac-bdeb-ba0d-61a9"
      },
      {
       "current": "f13c528e-0c7a-11f0-b991-feb16f56f93e-11-73b5-9ddf-6048-78a3-9922-08fd-7615-a21f-57ba-b319",
       "next": "48894834-ecec-11ef-a157-0242ac120006-18-8886-c29a-8e7d-e372-b930-c0a4-5fda-91a3-ab44-de15",
       "previous": "d34d8234-0c7a-11f0-b991-feb16f56f93e-10-3405-ff79-1fa8-0950-6aac-bdeb-ba0d-61a9-8705-fe70"
      },
      {
       "current": "f13c528e-0c7a-11f0-b991-feb16f56f93e-11-73b5-9ddf-6048-78a3-9922-08fd-7615-a21f-57ba-b319",
       "next": "48894834-ecec-11ef-a157-0242ac120006-19-c29a-8e7d-e372-b930-c0a4-5fda-91a3-ab44-de15-1fe3",
       "previous": "d34d8234-0c7a-11f0-b991-feb16f56f93e-11-ff79-1fa8-0950-6aac-bdeb-ba0d-61a9-8705-fe70-3740"
      },
      {
       "current": "f13c528e-0c7a-11f0-b991-feb16f56f93e-12-9ddf-6048-78a3-9922-08fd-7615-a21f-57ba-b319-1299",
       "next": "48894834-ecec-11ef-a157-0242ac120006-19-c29a-8e7d-e372-b930-c0a4-5fda-91a3-ab44-de15-1fe3",
       "previous": "01470e52-1ccb-11f0-bede-d2c904970d7c"
      },
      {
       "current": "f13c528e-0c7a-11f0-b991-feb16f56f93e-14-78a3-9922-08fd-7615-a21f-57ba-b319-1299-61fc-96ef",
       "next": "48894834-ecec-11ef-a157-0242ac120006-20-8e7d-e372-b930-c0a4-5fda-91a3-ab44-de15-1fe3-5b73",
       "previous": "01470e52-1ccb-11f0-bede-d2c904970d7c-1-058f"
      },
      {
       "current": "f13c528e-0c7a-11f0-b991-feb16f56f93e-17-7615-a21f-57ba-b319-1299-61fc-96ef-7e79-dca9-cd46",
       "next": "48894834-ecec-11ef-a157-0242ac120006-22-b930-c0a4-5fda-91a3-ab44-de15-1fe3-5b73-f374-c94c",
       "previous": "01470e52-1ccb-11f0-bede-d2c904970d7c-3-058f-1cb0-33c8"
      }
     ],
     "next": "48894834-ecec-11ef-a157-0242ac120006-25-91a3-ab44-de15-1fe3-5b73-f374-c94c-cf0a-482a-f834",
     "previous": "01470e52-1ccb-11f0-bede-d2c904970d7c-6-058f-1cb0-33c8-9057-dd1e-dbec"
    },
    "pinnedOutputTabIndex": 0,
    "run_through_control": {
     "frozen": true,
     "read_only": false
    }
   },
   "outputs": [],
   "source": [
    "har_df.sort_values('time').to_csv(os.path.join(result_dir, 'response.csv'))"
   ]
  },
  {
   "cell_type": "code",
   "execution_count": 36,
   "id": "e9662f8e-5257-489b-9738-e766b9ff2592",
   "metadata": {
    "deletable": false,
    "editable": false,
    "lc_cell_meme": {
     "current": "48894834-ecec-11ef-a157-0242ac120006-25-91a3-ab44-de15-1fe3-5b73-f374-c94c-cf0a-482a-f834",
     "history": [
      {
       "current": "48894834-ecec-11ef-a157-0242ac120006",
       "next": "21a5d312-eced-11ef-a157-0242ac120006",
       "previous": "8fb6040a-ecdc-11ef-b381-0242ac120006-1-297f"
      },
      {
       "current": "48894834-ecec-11ef-a157-0242ac120006",
       "next": "21a5d312-eced-11ef-a157-0242ac120006",
       "previous": "86b4324e-eced-11ef-a157-0242ac120006"
      },
      {
       "current": "48894834-ecec-11ef-a157-0242ac120006-1-c862",
       "next": "21a5d312-eced-11ef-a157-0242ac120006",
       "previous": "8fb6040a-ecdc-11ef-b381-0242ac120006-1-297f"
      },
      {
       "current": "48894834-ecec-11ef-a157-0242ac120006-3-c862-ff0e-6f07",
       "next": "21a5d312-eced-11ef-a157-0242ac120006-1-11cf",
       "previous": "8fb6040a-ecdc-11ef-b381-0242ac120006-2-297f-5610"
      },
      {
       "current": "48894834-ecec-11ef-a157-0242ac120006-5-c862-ff0e-6f07-b3d8-66e5",
       "next": "21a5d312-eced-11ef-a157-0242ac120006-3-11cf-d96b-a73b",
       "previous": "8fb6040a-ecdc-11ef-b381-0242ac120006-4-297f-5610-466a-7c72"
      },
      {
       "current": "48894834-ecec-11ef-a157-0242ac120006-7-c862-ff0e-6f07-b3d8-66e5-8d25-38bf",
       "next": "21a5d312-eced-11ef-a157-0242ac120006-5-11cf-d96b-a73b-9579-1c99",
       "previous": "8fb6040a-ecdc-11ef-b381-0242ac120006-6-297f-5610-466a-7c72-a3c5-a9b3"
      },
      {
       "current": "48894834-ecec-11ef-a157-0242ac120006-7-c862-ff0e-6f07-b3d8-66e5-8d25-38bf",
       "next": "21a5d312-eced-11ef-a157-0242ac120006-5-11cf-d96b-a73b-9579-1c99",
       "previous": "8fb6040a-ecdc-11ef-b381-0242ac120006-6-297f-5610-466a-7c72-a3c5-a9b3"
      },
      {
       "current": "48894834-ecec-11ef-a157-0242ac120006-8-c862-ff0e-6f07-b3d8-66e5-8d25-38bf-88a8",
       "next": "21a5d312-eced-11ef-a157-0242ac120006-7-11cf-d96b-a73b-9579-1c99-37e2-3993",
       "previous": "8fb6040a-ecdc-11ef-b381-0242ac120006-8-297f-5610-466a-7c72-a3c5-a9b3-547b-043a"
      },
      {
       "current": "48894834-ecec-11ef-a157-0242ac120006-8-c862-ff0e-6f07-b3d8-66e5-8d25-38bf-88a8",
       "next": "21a5d312-eced-11ef-a157-0242ac120006-8-11cf-d96b-a73b-9579-1c99-37e2-3993-85c6",
       "previous": "8fb6040a-ecdc-11ef-b381-0242ac120006-9-297f-5610-466a-7c72-a3c5-a9b3-547b-043a-8258"
      },
      {
       "current": "48894834-ecec-11ef-a157-0242ac120006-8-c862-ff0e-6f07-b3d8-66e5-8d25-38bf-88a8",
       "next": "21a5d312-eced-11ef-a157-0242ac120006-8-11cf-d96b-a73b-9579-1c99-37e2-3993-85c6",
       "previous": "bed400ee-0c7a-11f0-b991-feb16f56f93e"
      },
      {
       "current": "48894834-ecec-11ef-a157-0242ac120006-8-c862-ff0e-6f07-b3d8-66e5-8d25-38bf-88a8",
       "next": "21a5d312-eced-11ef-a157-0242ac120006-8-11cf-d96b-a73b-9579-1c99-37e2-3993-85c6",
       "previous": "d34d8234-0c7a-11f0-b991-feb16f56f93e"
      },
      {
       "current": "48894834-ecec-11ef-a157-0242ac120006-9-c862-ff0e-6f07-b3d8-66e5-8d25-38bf-88a8-8886",
       "next": "21a5d312-eced-11ef-a157-0242ac120006-8-11cf-d96b-a73b-9579-1c99-37e2-3993-85c6",
       "previous": "f13c528e-0c7a-11f0-b991-feb16f56f93e"
      },
      {
       "current": "48894834-ecec-11ef-a157-0242ac120006-11-ff0e-6f07-b3d8-66e5-8d25-38bf-88a8-8886-c29a-8e7d",
       "next": "21a5d312-eced-11ef-a157-0242ac120006-9-11cf-d96b-a73b-9579-1c99-37e2-3993-85c6-b796",
       "previous": "f13c528e-0c7a-11f0-b991-feb16f56f93e-1-0932"
      },
      {
       "current": "48894834-ecec-11ef-a157-0242ac120006-12-6f07-b3d8-66e5-8d25-38bf-88a8-8886-c29a-8e7d-e372",
       "next": "21a5d312-eced-11ef-a157-0242ac120006-11-d96b-a73b-9579-1c99-37e2-3993-85c6-b796-fd14-626e",
       "previous": "f13c528e-0c7a-11f0-b991-feb16f56f93e-3-0932-73b5-9ddf"
      },
      {
       "current": "48894834-ecec-11ef-a157-0242ac120006-13-b3d8-66e5-8d25-38bf-88a8-8886-c29a-8e7d-e372-b930",
       "next": "21a5d312-eced-11ef-a157-0242ac120006-12-a73b-9579-1c99-37e2-3993-85c6-b796-fd14-626e-f62e",
       "previous": "f13c528e-0c7a-11f0-b991-feb16f56f93e-4-0932-73b5-9ddf-6048"
      },
      {
       "current": "48894834-ecec-11ef-a157-0242ac120006-14-66e5-8d25-38bf-88a8-8886-c29a-8e7d-e372-b930-c0a4",
       "next": "21a5d312-eced-11ef-a157-0242ac120006-13-9579-1c99-37e2-3993-85c6-b796-fd14-626e-f62e-1498",
       "previous": "f13c528e-0c7a-11f0-b991-feb16f56f93e-5-0932-73b5-9ddf-6048-78a3"
      },
      {
       "current": "48894834-ecec-11ef-a157-0242ac120006-16-38bf-88a8-8886-c29a-8e7d-e372-b930-c0a4-5fda-91a3",
       "next": "21a5d312-eced-11ef-a157-0242ac120006-14-1c99-37e2-3993-85c6-b796-fd14-626e-f62e-1498-7556",
       "previous": "f13c528e-0c7a-11f0-b991-feb16f56f93e-6-0932-73b5-9ddf-6048-78a3-9922"
      },
      {
       "current": "48894834-ecec-11ef-a157-0242ac120006-18-8886-c29a-8e7d-e372-b930-c0a4-5fda-91a3-ab44-de15",
       "next": "21a5d312-eced-11ef-a157-0242ac120006-16-3993-85c6-b796-fd14-626e-f62e-1498-7556-ca34-8941",
       "previous": "f13c528e-0c7a-11f0-b991-feb16f56f93e-8-0932-73b5-9ddf-6048-78a3-9922-08fd-7615"
      },
      {
       "current": "48894834-ecec-11ef-a157-0242ac120006-19-c29a-8e7d-e372-b930-c0a4-5fda-91a3-ab44-de15-1fe3",
       "next": "21a5d312-eced-11ef-a157-0242ac120006-18-b796-fd14-626e-f62e-1498-7556-ca34-8941-fe16-31ef",
       "previous": "f13c528e-0c7a-11f0-b991-feb16f56f93e-10-0932-73b5-9ddf-6048-78a3-9922-08fd-7615-a21f-57ba"
      },
      {
       "current": "48894834-ecec-11ef-a157-0242ac120006-20-8e7d-e372-b930-c0a4-5fda-91a3-ab44-de15-1fe3-5b73",
       "next": "21a5d312-eced-11ef-a157-0242ac120006-19-fd14-626e-f62e-1498-7556-ca34-8941-fe16-31ef-d9b2",
       "previous": "f13c528e-0c7a-11f0-b991-feb16f56f93e-11-73b5-9ddf-6048-78a3-9922-08fd-7615-a21f-57ba-b319"
      },
      {
       "current": "48894834-ecec-11ef-a157-0242ac120006-20-8e7d-e372-b930-c0a4-5fda-91a3-ab44-de15-1fe3-5b73",
       "next": "532993d2-274f-11f0-84de-32f9ed5d00a6",
       "previous": "f13c528e-0c7a-11f0-b991-feb16f56f93e-12-9ddf-6048-78a3-9922-08fd-7615-a21f-57ba-b319-1299"
      },
      {
       "current": "48894834-ecec-11ef-a157-0242ac120006-22-b930-c0a4-5fda-91a3-ab44-de15-1fe3-5b73-f374-c94c",
       "next": "21a5d312-eced-11ef-a157-0242ac120006-20-626e-f62e-1498-7556-ca34-8941-fe16-31ef-d9b2-5d7a",
       "previous": "f13c528e-0c7a-11f0-b991-feb16f56f93e-12-9ddf-6048-78a3-9922-08fd-7615-a21f-57ba-b319-1299"
      },
      {
       "current": "48894834-ecec-11ef-a157-0242ac120006-25-91a3-ab44-de15-1fe3-5b73-f374-c94c-cf0a-482a-f834",
       "next": "21a5d312-eced-11ef-a157-0242ac120006-22-1498-7556-ca34-8941-fe16-31ef-d9b2-5d7a-a47e-2109",
       "previous": "f13c528e-0c7a-11f0-b991-feb16f56f93e-14-78a3-9922-08fd-7615-a21f-57ba-b319-1299-61fc-96ef"
      }
     ],
     "next": "21a5d312-eced-11ef-a157-0242ac120006-25-8941-fe16-31ef-d9b2-5d7a-a47e-2109-8191-ab43-d9e2",
     "previous": "f13c528e-0c7a-11f0-b991-feb16f56f93e-17-7615-a21f-57ba-b319-1299-61fc-96ef-7e79-dca9-cd46"
    },
    "pinnedOutputTabIndex": 0,
    "run_through_control": {
     "frozen": true,
     "read_only": false
    }
   },
   "outputs": [],
   "source": [
    "!rm -fr {work_dir}"
   ]
  },
  {
   "cell_type": "code",
   "execution_count": null,
   "id": "9cc0c913-d99f-48ea-8faf-64ddef1ec796",
   "metadata": {
    "deletable": true,
    "editable": true,
    "lc_cell_meme": {
     "current": "21a5d312-eced-11ef-a157-0242ac120006-25-8941-fe16-31ef-d9b2-5d7a-a47e-2109-8191-ab43-d9e2",
     "previous": "48894834-ecec-11ef-a157-0242ac120006-25-91a3-ab44-de15-1fe3-5b73-f374-c94c-cf0a-482a-f834"
    },
    "pinnedOutputTabIndex": 0,
    "run_through_control": {
     "frozen": false,
     "read_only": false
    }
   },
   "outputs": [],
   "source": []
  }
 ],
 "metadata": {
  "kernelspec": {
   "display_name": "Python 3",
   "language": "python",
   "name": "python3"
  },
  "language_info": {
   "file_extension": ".py",
   "mimetype": "text/x-python",
   "name": "python",
   "nbconvert_exporter": "python",
   "pygments_lexer": "ipython3",
   "version": "3.12.9"
  },
  "lc_notebook_meme": {
   "current": "be13da8e-ecd7-11ef-b381-0242ac120006",
   "lc_server_signature": {
    "current": {
     "notebook_dir": "/home/jovyan",
     "notebook_path": "/結合試験-実行.ipynb",
     "signature_id": "0bbe0498-3fcc-11f0-8310-36417ba3cebf"
    }
   }
  }
 },
 "nbformat": 4,
 "nbformat_minor": 5
}